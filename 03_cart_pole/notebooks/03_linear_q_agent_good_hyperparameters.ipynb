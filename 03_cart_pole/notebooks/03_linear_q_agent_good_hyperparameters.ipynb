{
 "cells": [
  {
   "cell_type": "markdown",
   "id": "f7893323",
   "metadata": {},
   "source": [
    "# 02 Linear Q agent\n",
    "\n",
    "#### 👉 Let's use a linear model to approximat the q-value function."
   ]
  },
  {
   "attachments": {
    "linear_model.jpg": {
     "image/jpeg": "[encoded data removed]"
    }
   },
   "cell_type": "markdown",
   "id": "ca270a2d",
   "metadata": {},
   "source": [
    "![linear_model.jpg](attachment:linear_model.jpg)"
   ]
  },
  {
   "cell_type": "code",
   "execution_count": 1,
   "id": "fd7b5c91",
   "metadata": {},
   "outputs": [
    {
     "name": "stdout",
     "output_type": "stream",
     "text": [
      "Populating the interactive namespace from numpy and matplotlib\n"
     ]
    }
   ],
   "source": [
    "%load_ext autoreload\n",
    "%autoreload 2\n",
    "%pylab inline\n",
    "%config InlineBackend.figure_format = 'svg'"
   ]
  },
  {
   "cell_type": "markdown",
   "id": "6d71e5be",
   "metadata": {},
   "source": [
    "## Environment 🌎"
   ]
  },
  {
   "cell_type": "code",
   "execution_count": 1,
   "id": "bfb033c6",
   "metadata": {},
   "outputs": [],
   "source": [
    "import gym\n",
    "env = gym.make('CartPole-v1')"
   ]
  },
  {
   "cell_type": "markdown",
   "id": "2a0f7b4b",
   "metadata": {},
   "source": [
    "## Hyperparameters"
   ]
  },
  {
   "cell_type": "code",
   "execution_count": 2,
   "id": "05342115",
   "metadata": {},
   "outputs": [],
   "source": [
    "# Good hyper-parameters\n",
    "# make you feel great!\n",
    "hparams = {\n",
    "    'learning_rate': 0.0005652080372498697,\n",
    "    'discount_factor': 0.99,\n",
    "    'batch_size': 64,\n",
    "    'memory_size': 100000,\n",
    "    'freq_steps_train': 128,\n",
    "    'freq_steps_update_target': 100,\n",
    "    'n_steps_warm_up_memory': 1000,\n",
    "    'n_gradient_steps': 4,\n",
    "    'max_grad_norm': 10,\n",
    "    'normalize_state': False,\n",
    "    'epsilon_start': 0.9,\n",
    "    'epsilon_end': 0.0429612235926375,\n",
    "    'steps_epsilon_decay': 1000\n",
    "}\n",
    "\n",
    "SEED = 2636569667"
   ]
  },
  {
   "cell_type": "markdown",
   "id": "54aaeac0",
   "metadata": {},
   "source": [
    "## ⚠️ Fix random seeds"
   ]
  },
  {
   "cell_type": "code",
   "execution_count": 3,
   "id": "8e47f8a3",
   "metadata": {},
   "outputs": [],
   "source": [
    "from src.utils import set_seed\n",
    "set_seed(env, SEED)"
   ]
  },
  {
   "cell_type": "markdown",
   "id": "ef346b53",
   "metadata": {},
   "source": [
    "## QAgent"
   ]
  },
  {
   "cell_type": "code",
   "execution_count": 4,
   "id": "5a8df1ba",
   "metadata": {},
   "outputs": [
    {
     "name": "stdout",
     "output_type": "stream",
     "text": [
      "10 parameters\n"
     ]
    }
   ],
   "source": [
    "from src.q_agent import QAgent\n",
    "agent = QAgent(env, **hparams)"
   ]
  },
  {
   "cell_type": "markdown",
   "id": "a3e61b4b",
   "metadata": {},
   "source": [
    "## Train the agent 🏋️"
   ]
  },
  {
   "cell_type": "code",
   "execution_count": 5,
   "id": "70383cb2",
   "metadata": {},
   "outputs": [
    {
     "name": "stderr",
     "output_type": "stream",
     "text": [
      " 10%|███████▏                                                                 | 198/2000 [00:05<01:04, 28.15it/s]\n",
      "  0%|                                                                                    | 0/100 [00:00<?, ?it/s]\u001b[A\n",
      "  7%|█████▎                                                                      | 7/100 [00:00<00:01, 69.30it/s]\u001b[A\n",
      " 14%|██████████▌                                                                | 14/100 [00:00<00:01, 67.21it/s]\u001b[A\n",
      " 21%|███████████████▊                                                           | 21/100 [00:00<00:01, 65.57it/s]\u001b[A\n",
      " 28%|█████████████████████                                                      | 28/100 [00:00<00:01, 65.12it/s]\u001b[A\n",
      " 35%|██████████████████████████▎                                                | 35/100 [00:00<00:01, 64.68it/s]\u001b[A\n",
      " 43%|████████████████████████████████▎                                          | 43/100 [00:00<00:00, 66.90it/s]\u001b[A\n",
      " 50%|█████████████████████████████████████▌                                     | 50/100 [00:00<00:00, 66.56it/s]\u001b[A\n",
      " 57%|██████████████████████████████████████████▋                                | 57/100 [00:00<00:00, 64.72it/s]\u001b[A\n",
      " 65%|████████████████████████████████████████████████▊                          | 65/100 [00:00<00:00, 66.82it/s]\u001b[A\n",
      " 72%|██████████████████████████████████████████████████████                     | 72/100 [00:01<00:00, 64.26it/s]\u001b[A\n",
      " 79%|███████████████████████████████████████████████████████████▎               | 79/100 [00:01<00:00, 64.66it/s]\u001b[A\n",
      " 86%|████████████████████████████████████████████████████████████████▌          | 86/100 [00:01<00:00, 65.22it/s]\u001b[A\n",
      " 93%|█████████████████████████████████████████████████████████████████████▊     | 93/100 [00:01<00:00, 63.31it/s]\u001b[A\n",
      "100%|██████████████████████████████████████████████████████████████████████████| 100/100 [00:01<00:00, 64.80it/s]\u001b[A\n",
      " 10%|███████▍                                                                 | 204/2000 [00:07<04:06,  7.28it/s]"
     ]
    },
    {
     "name": "stdout",
     "output_type": "stream",
     "text": [
      "Reward mean: 215.39, std: 31.98\n",
      "Num steps mean: 215.39, std: 31.98\n"
     ]
    },
    {
     "name": "stderr",
     "output_type": "stream",
     "text": [
      " 20%|██████████████▍                                                          | 397/2000 [00:14<01:07, 23.63it/s]\n",
      "  0%|                                                                                    | 0/100 [00:00<?, ?it/s]\u001b[A\n",
      "  5%|███▊                                                                        | 5/100 [00:00<00:01, 49.45it/s]\u001b[A\n",
      " 10%|███████▌                                                                   | 10/100 [00:00<00:02, 43.29it/s]\u001b[A\n",
      " 15%|███████████▎                                                               | 15/100 [00:00<00:02, 41.97it/s]\u001b[A\n",
      " 20%|███████████████                                                            | 20/100 [00:00<00:01, 42.93it/s]\u001b[A\n",
      " 25%|██████████████████▊                                                        | 25/100 [00:00<00:01, 42.97it/s]\u001b[A\n",
      " 30%|██████████████████████▌                                                    | 30/100 [00:00<00:01, 43.10it/s]\u001b[A\n",
      " 35%|██████████████████████████▎                                                | 35/100 [00:00<00:01, 44.96it/s]\u001b[A\n",
      " 40%|██████████████████████████████                                             | 40/100 [00:00<00:01, 44.86it/s]\u001b[A\n",
      " 45%|█████████████████████████████████▊                                         | 45/100 [00:01<00:01, 43.41it/s]\u001b[A\n",
      " 50%|█████████████████████████████████████▌                                     | 50/100 [00:01<00:01, 40.82it/s]\u001b[A\n",
      " 55%|█████████████████████████████████████████▎                                 | 55/100 [00:01<00:01, 39.58it/s]\u001b[A\n",
      " 60%|█████████████████████████████████████████████                              | 60/100 [00:01<00:00, 41.41it/s]\u001b[A\n",
      " 65%|████████████████████████████████████████████████▊                          | 65/100 [00:01<00:00, 43.11it/s]\u001b[A\n",
      " 70%|████████████████████████████████████████████████████▌                      | 70/100 [00:01<00:00, 40.38it/s]\u001b[A\n",
      " 75%|████████████████████████████████████████████████████████▎                  | 75/100 [00:01<00:00, 41.64it/s]\u001b[A\n",
      " 81%|████████████████████████████████████████████████████████████▊              | 81/100 [00:01<00:00, 44.85it/s]\u001b[A\n",
      " 86%|████████████████████████████████████████████████████████████████▌          | 86/100 [00:01<00:00, 45.98it/s]\u001b[A\n",
      " 91%|████████████████████████████████████████████████████████████████████▎      | 91/100 [00:02<00:00, 45.38it/s]\u001b[A\n",
      "100%|██████████████████████████████████████████████████████████████████████████| 100/100 [00:02<00:00, 43.15it/s]\u001b[A\n",
      " 20%|██████████████▋                                                          | 403/2000 [00:17<05:24,  4.92it/s]"
     ]
    },
    {
     "name": "stdout",
     "output_type": "stream",
     "text": [
      "Reward mean: 325.01, std: 74.61\n",
      "Num steps mean: 325.01, std: 74.61\n"
     ]
    },
    {
     "name": "stderr",
     "output_type": "stream",
     "text": [
      " 30%|█████████████████████▊                                                   | 598/2000 [00:29<01:22, 17.03it/s]\n",
      "  0%|                                                                                    | 0/100 [00:00<?, ?it/s]\u001b[A\n",
      "  4%|███                                                                         | 4/100 [00:00<00:02, 34.45it/s]\u001b[A\n",
      "  8%|██████                                                                      | 8/100 [00:00<00:02, 36.59it/s]\u001b[A\n",
      " 12%|█████████                                                                  | 12/100 [00:00<00:02, 35.54it/s]\u001b[A\n",
      " 16%|████████████                                                               | 16/100 [00:00<00:02, 32.31it/s]\u001b[A\n",
      " 20%|███████████████                                                            | 20/100 [00:00<00:02, 28.50it/s]\u001b[A\n",
      " 23%|█████████████████▎                                                         | 23/100 [00:00<00:02, 27.96it/s]\u001b[A\n",
      " 26%|███████████████████▌                                                       | 26/100 [00:00<00:02, 27.68it/s]\u001b[A\n",
      " 29%|█████████████████████▊                                                     | 29/100 [00:01<00:02, 25.11it/s]\u001b[A\n",
      " 32%|████████████████████████                                                   | 32/100 [00:01<00:02, 24.45it/s]\u001b[A\n",
      " 35%|██████████████████████████▎                                                | 35/100 [00:01<00:02, 23.49it/s]\u001b[A\n",
      " 38%|████████████████████████████▌                                              | 38/100 [00:01<00:02, 24.83it/s]\u001b[A\n",
      " 41%|██████████████████████████████▋                                            | 41/100 [00:01<00:02, 24.95it/s]\u001b[A\n",
      " 44%|█████████████████████████████████                                          | 44/100 [00:01<00:02, 25.18it/s]\u001b[A\n",
      " 48%|████████████████████████████████████                                       | 48/100 [00:01<00:01, 27.66it/s]\u001b[A\n",
      " 51%|██████████████████████████████████████▎                                    | 51/100 [00:01<00:01, 27.23it/s]\u001b[A\n",
      " 54%|████████████████████████████████████████▌                                  | 54/100 [00:01<00:01, 25.61it/s]\u001b[A\n",
      " 57%|██████████████████████████████████████████▋                                | 57/100 [00:02<00:01, 25.47it/s]\u001b[A\n",
      " 60%|█████████████████████████████████████████████                              | 60/100 [00:02<00:01, 25.48it/s]\u001b[A\n",
      " 63%|███████████████████████████████████████████████▎                           | 63/100 [00:02<00:01, 26.10it/s]\u001b[A\n",
      " 66%|█████████████████████████████████████████████████▌                         | 66/100 [00:02<00:01, 23.62it/s]\u001b[A\n",
      " 69%|███████████████████████████████████████████████████▋                       | 69/100 [00:02<00:01, 23.66it/s]\u001b[A\n",
      " 72%|██████████████████████████████████████████████████████                     | 72/100 [00:02<00:01, 23.72it/s]\u001b[A\n",
      " 76%|█████████████████████████████████████████████████████████                  | 76/100 [00:02<00:00, 25.09it/s]\u001b[A\n",
      " 79%|███████████████████████████████████████████████████████████▎               | 79/100 [00:03<00:01, 20.79it/s]\u001b[A\n",
      " 82%|█████████████████████████████████████████████████████████████▍             | 82/100 [00:03<00:00, 19.51it/s]\u001b[A\n",
      " 85%|███████████████████████████████████████████████████████████████▊           | 85/100 [00:03<00:00, 19.67it/s]\u001b[A\n",
      " 88%|██████████████████████████████████████████████████████████████████         | 88/100 [00:03<00:00, 18.91it/s]\u001b[A\n",
      " 90%|███████████████████████████████████████████████████████████████████▌       | 90/100 [00:03<00:00, 18.64it/s]\u001b[A\n",
      " 92%|█████████████████████████████████████████████████████████████████████      | 92/100 [00:03<00:00, 18.88it/s]\u001b[A\n",
      " 94%|██████████████████████████████████████████████████████████████████████▌    | 94/100 [00:03<00:00, 17.99it/s]\u001b[A\n",
      " 96%|████████████████████████████████████████████████████████████████████████   | 96/100 [00:04<00:00, 17.49it/s]\u001b[A\n",
      " 98%|█████████████████████████████████████████████████████████████████████████▌ | 98/100 [00:04<00:00, 16.56it/s]\u001b[A\n",
      "100%|██████████████████████████████████████████████████████████████████████████| 100/100 [00:04<00:00, 22.88it/s]\u001b[A\n",
      " 30%|█████████████████████▉                                                   | 600/2000 [00:34<16:20,  1.43it/s]"
     ]
    },
    {
     "name": "stdout",
     "output_type": "stream",
     "text": [
      "Reward mean: 388.43, std: 78.37\n",
      "Num steps mean: 388.43, std: 78.37\n"
     ]
    },
    {
     "name": "stderr",
     "output_type": "stream",
     "text": [
      " 40%|█████████████████████████████▏                                           | 799/2000 [00:46<00:50, 23.60it/s]\n",
      "  0%|                                                                                    | 0/100 [00:00<?, ?it/s]\u001b[A\n",
      "  5%|███▊                                                                        | 5/100 [00:00<00:02, 42.90it/s]\u001b[A\n",
      " 11%|████████▎                                                                  | 11/100 [00:00<00:01, 45.66it/s]\u001b[A\n",
      " 16%|████████████                                                               | 16/100 [00:00<00:01, 45.87it/s]\u001b[A\n",
      " 21%|███████████████▊                                                           | 21/100 [00:00<00:01, 43.49it/s]\u001b[A\n",
      " 26%|███████████████████▌                                                       | 26/100 [00:00<00:01, 43.53it/s]\u001b[A\n",
      " 31%|███████████████████████▎                                                   | 31/100 [00:00<00:01, 42.95it/s]\u001b[A\n",
      " 37%|███████████████████████████▊                                               | 37/100 [00:00<00:01, 45.21it/s]\u001b[A\n",
      " 42%|███████████████████████████████▌                                           | 42/100 [00:00<00:01, 45.30it/s]\u001b[A\n",
      " 47%|███████████████████████████████████▎                                       | 47/100 [00:01<00:01, 44.45it/s]\u001b[A\n",
      " 53%|███████████████████████████████████████▊                                   | 53/100 [00:01<00:00, 48.00it/s]\u001b[A\n",
      " 59%|████████████████████████████████████████████▎                              | 59/100 [00:01<00:00, 51.15it/s]\u001b[A\n",
      " 65%|████████████████████████████████████████████████▊                          | 65/100 [00:01<00:00, 51.06it/s]\u001b[A\n",
      " 71%|█████████████████████████████████████████████████████▎                     | 71/100 [00:01<00:00, 52.14it/s]\u001b[A\n",
      " 77%|█████████████████████████████████████████████████████████▊                 | 77/100 [00:01<00:00, 51.68it/s]\u001b[A\n",
      " 83%|██████████████████████████████████████████████████████████████▎            | 83/100 [00:01<00:00, 48.86it/s]\u001b[A\n",
      " 88%|██████████████████████████████████████████████████████████████████         | 88/100 [00:01<00:00, 46.59it/s]\u001b[A\n",
      "100%|██████████████████████████████████████████████████████████████████████████| 100/100 [00:02<00:00, 48.13it/s]\u001b[A\n",
      " 40%|█████████████████████████████▍                                           | 805/2000 [00:48<03:43,  5.36it/s]"
     ]
    },
    {
     "name": "stdout",
     "output_type": "stream",
     "text": [
      "Reward mean: 246.66, std: 88.14\n",
      "Num steps mean: 246.66, std: 88.14\n"
     ]
    },
    {
     "name": "stderr",
     "output_type": "stream",
     "text": [
      " 50%|████████████████████████████████████▍                                    | 998/2000 [00:56<00:42, 23.56it/s]\n",
      "  0%|                                                                                    | 0/100 [00:00<?, ?it/s]\u001b[A\n",
      "  6%|████▌                                                                       | 6/100 [00:00<00:01, 48.18it/s]\u001b[A\n",
      " 12%|█████████                                                                  | 12/100 [00:00<00:01, 52.27it/s]\u001b[A\n",
      " 18%|█████████████▌                                                             | 18/100 [00:00<00:01, 54.53it/s]\u001b[A\n",
      " 24%|██████████████████                                                         | 24/100 [00:00<00:01, 51.14it/s]\u001b[A\n",
      " 30%|██████████████████████▌                                                    | 30/100 [00:00<00:01, 45.05it/s]\u001b[A\n",
      " 35%|██████████████████████████▎                                                | 35/100 [00:00<00:01, 44.81it/s]\u001b[A\n",
      " 40%|██████████████████████████████                                             | 40/100 [00:00<00:01, 44.18it/s]\u001b[A\n",
      " 45%|█████████████████████████████████▊                                         | 45/100 [00:00<00:01, 43.31it/s]\u001b[A\n",
      " 51%|██████████████████████████████████████▎                                    | 51/100 [00:01<00:01, 46.61it/s]\u001b[A\n",
      " 57%|██████████████████████████████████████████▋                                | 57/100 [00:01<00:00, 47.02it/s]\u001b[A\n",
      " 62%|██████████████████████████████████████████████▌                            | 62/100 [00:01<00:00, 42.18it/s]\u001b[A\n",
      " 67%|██████████████████████████████████████████████████▎                        | 67/100 [00:01<00:00, 43.05it/s]\u001b[A\n",
      " 73%|██████████████████████████████████████████████████████▊                    | 73/100 [00:01<00:00, 47.01it/s]\u001b[A\n",
      " 79%|███████████████████████████████████████████████████████████▎               | 79/100 [00:01<00:00, 49.68it/s]\u001b[A\n",
      " 85%|███████████████████████████████████████████████████████████████▊           | 85/100 [00:01<00:00, 50.70it/s]\u001b[A\n",
      " 92%|█████████████████████████████████████████████████████████████████████      | 92/100 [00:01<00:00, 54.49it/s]\u001b[A\n",
      "100%|██████████████████████████████████████████████████████████████████████████| 100/100 [00:02<00:00, 48.65it/s]\u001b[A\n",
      " 50%|████████████████████████████████████                                    | 1001/2000 [00:58<04:09,  4.01it/s]"
     ]
    },
    {
     "name": "stdout",
     "output_type": "stream",
     "text": [
      "Reward mean: 233.55, std: 76.41\n",
      "Num steps mean: 233.55, std: 76.41\n"
     ]
    },
    {
     "name": "stderr",
     "output_type": "stream",
     "text": [
      " 60%|███████████████████████████████████████████▏                            | 1198/2000 [01:07<00:42, 19.00it/s]\n",
      "  0%|                                                                                    | 0/100 [00:00<?, ?it/s]\u001b[A\n",
      "  6%|████▌                                                                       | 6/100 [00:00<00:01, 47.17it/s]\u001b[A\n",
      " 11%|████████▎                                                                  | 11/100 [00:00<00:02, 36.78it/s]\u001b[A\n",
      " 16%|████████████                                                               | 16/100 [00:00<00:02, 41.23it/s]\u001b[A\n",
      " 21%|███████████████▊                                                           | 21/100 [00:00<00:01, 42.52it/s]\u001b[A\n",
      " 26%|███████████████████▌                                                       | 26/100 [00:00<00:01, 37.17it/s]\u001b[A\n",
      " 31%|███████████████████████▎                                                   | 31/100 [00:00<00:01, 39.67it/s]\u001b[A\n",
      " 36%|███████████████████████████                                                | 36/100 [00:00<00:01, 38.67it/s]\u001b[A\n",
      " 40%|██████████████████████████████                                             | 40/100 [00:01<00:01, 38.12it/s]\u001b[A\n",
      " 44%|█████████████████████████████████                                          | 44/100 [00:01<00:01, 36.70it/s]\u001b[A\n",
      " 49%|████████████████████████████████████▊                                      | 49/100 [00:01<00:01, 37.60it/s]\u001b[A\n",
      " 55%|█████████████████████████████████████████▎                                 | 55/100 [00:01<00:01, 41.55it/s]\u001b[A\n",
      " 60%|█████████████████████████████████████████████                              | 60/100 [00:01<00:00, 41.85it/s]\u001b[A\n",
      " 65%|████████████████████████████████████████████████▊                          | 65/100 [00:01<00:00, 41.26it/s]\u001b[A\n",
      " 70%|████████████████████████████████████████████████████▌                      | 70/100 [00:01<00:00, 42.38it/s]\u001b[A\n",
      " 75%|████████████████████████████████████████████████████████▎                  | 75/100 [00:01<00:00, 42.57it/s]\u001b[A\n",
      " 80%|████████████████████████████████████████████████████████████               | 80/100 [00:01<00:00, 44.24it/s]\u001b[A\n",
      " 85%|███████████████████████████████████████████████████████████████▊           | 85/100 [00:02<00:00, 43.87it/s]\u001b[A\n",
      " 91%|████████████████████████████████████████████████████████████████████▎      | 91/100 [00:02<00:00, 46.42it/s]\u001b[A\n",
      "100%|██████████████████████████████████████████████████████████████████████████| 100/100 [00:02<00:00, 41.99it/s]\u001b[A\n",
      " 60%|███████████████████████████████████████████▎                            | 1202/2000 [01:09<03:47,  3.50it/s]"
     ]
    },
    {
     "name": "stdout",
     "output_type": "stream",
     "text": [
      "Reward mean: 214.21, std: 58.58\n",
      "Num steps mean: 214.21, std: 58.58\n"
     ]
    },
    {
     "name": "stderr",
     "output_type": "stream",
     "text": [
      " 70%|██████████████████████████████████████████████████▎                     | 1398/2000 [01:18<00:27, 22.03it/s]\n",
      "  0%|                                                                                    | 0/100 [00:00<?, ?it/s]\u001b[A\n",
      "  6%|████▌                                                                       | 6/100 [00:00<00:02, 45.87it/s]\u001b[A\n",
      " 11%|████████▎                                                                  | 11/100 [00:00<00:01, 44.90it/s]\u001b[A\n",
      " 16%|████████████                                                               | 16/100 [00:00<00:02, 29.07it/s]\u001b[A\n",
      " 20%|███████████████                                                            | 20/100 [00:00<00:02, 30.74it/s]\u001b[A\n",
      " 25%|██████████████████▊                                                        | 25/100 [00:00<00:02, 35.70it/s]\u001b[A\n",
      " 31%|███████████████████████▎                                                   | 31/100 [00:00<00:01, 41.22it/s]\u001b[A\n",
      " 37%|███████████████████████████▊                                               | 37/100 [00:00<00:01, 44.67it/s]\u001b[A\n",
      " 43%|████████████████████████████████▎                                          | 43/100 [00:01<00:01, 46.63it/s]\u001b[A\n",
      " 48%|████████████████████████████████████                                       | 48/100 [00:01<00:01, 44.45it/s]\u001b[A\n",
      " 54%|████████████████████████████████████████▌                                  | 54/100 [00:01<00:00, 48.06it/s]\u001b[A\n",
      " 59%|████████████████████████████████████████████▎                              | 59/100 [00:01<00:00, 46.83it/s]\u001b[A\n",
      " 64%|████████████████████████████████████████████████                           | 64/100 [00:01<00:00, 45.39it/s]\u001b[A\n",
      " 69%|███████████████████████████████████████████████████▋                       | 69/100 [00:01<00:00, 46.64it/s]\u001b[A\n",
      " 74%|███████████████████████████████████████████████████████▌                   | 74/100 [00:01<00:00, 41.28it/s]\u001b[A\n",
      " 80%|████████████████████████████████████████████████████████████               | 80/100 [00:01<00:00, 43.57it/s]\u001b[A\n",
      " 85%|███████████████████████████████████████████████████████████████▊           | 85/100 [00:01<00:00, 45.17it/s]\u001b[A\n",
      " 91%|████████████████████████████████████████████████████████████████████▎      | 91/100 [00:02<00:00, 47.51it/s]\u001b[A\n",
      "100%|██████████████████████████████████████████████████████████████████████████| 100/100 [00:02<00:00, 43.93it/s]\u001b[A\n",
      " 70%|██████████████████████████████████████████████████▌                     | 1403/2000 [01:21<02:14,  4.43it/s]"
     ]
    },
    {
     "name": "stdout",
     "output_type": "stream",
     "text": [
      "Reward mean: 193.29, std: 43.07\n",
      "Num steps mean: 193.29, std: 43.07\n"
     ]
    },
    {
     "name": "stderr",
     "output_type": "stream",
     "text": [
      " 80%|█████████████████████████████████████████████████████████▌              | 1599/2000 [01:29<00:17, 23.19it/s]\n",
      "  0%|                                                                                    | 0/100 [00:00<?, ?it/s]\u001b[A\n",
      "  6%|████▌                                                                       | 6/100 [00:00<00:01, 55.11it/s]\u001b[A\n",
      " 12%|█████████                                                                  | 12/100 [00:00<00:01, 52.52it/s]\u001b[A\n",
      " 18%|█████████████▌                                                             | 18/100 [00:00<00:01, 54.94it/s]\u001b[A\n",
      " 24%|██████████████████                                                         | 24/100 [00:00<00:01, 55.52it/s]\u001b[A\n",
      " 30%|██████████████████████▌                                                    | 30/100 [00:00<00:01, 55.19it/s]\u001b[A\n",
      " 36%|███████████████████████████                                                | 36/100 [00:00<00:01, 46.78it/s]\u001b[A\n",
      " 41%|██████████████████████████████▋                                            | 41/100 [00:00<00:01, 46.21it/s]\u001b[A\n",
      " 46%|██████████████████████████████████▌                                        | 46/100 [00:00<00:01, 41.56it/s]\u001b[A\n",
      " 51%|██████████████████████████████████████▎                                    | 51/100 [00:01<00:01, 39.52it/s]\u001b[A\n",
      " 56%|██████████████████████████████████████████                                 | 56/100 [00:01<00:01, 40.38it/s]\u001b[A\n",
      " 61%|█████████████████████████████████████████████▊                             | 61/100 [00:01<00:00, 39.79it/s]\u001b[A\n",
      " 66%|█████████████████████████████████████████████████▌                         | 66/100 [00:01<00:00, 36.84it/s]\u001b[A\n",
      " 70%|████████████████████████████████████████████████████▌                      | 70/100 [00:01<00:00, 33.98it/s]\u001b[A\n",
      " 74%|███████████████████████████████████████████████████████▌                   | 74/100 [00:01<00:00, 33.05it/s]\u001b[A\n",
      " 80%|████████████████████████████████████████████████████████████               | 80/100 [00:01<00:00, 37.18it/s]\u001b[A\n",
      " 84%|███████████████████████████████████████████████████████████████            | 84/100 [00:02<00:00, 34.12it/s]\u001b[A\n",
      " 89%|██████████████████████████████████████████████████████████████████▊        | 89/100 [00:02<00:00, 37.43it/s]\u001b[A\n",
      " 94%|██████████████████████████████████████████████████████████████████████▌    | 94/100 [00:02<00:00, 38.38it/s]\u001b[A\n",
      "100%|██████████████████████████████████████████████████████████████████████████| 100/100 [00:02<00:00, 40.24it/s]\u001b[A\n",
      " 80%|█████████████████████████████████████████████████████████▋              | 1602/2000 [01:32<01:56,  3.41it/s]"
     ]
    },
    {
     "name": "stdout",
     "output_type": "stream",
     "text": [
      "Reward mean: 185.18, std: 40.49\n",
      "Num steps mean: 185.18, std: 40.49\n"
     ]
    },
    {
     "name": "stderr",
     "output_type": "stream",
     "text": [
      " 90%|████████████████████████████████████████████████████████████████▋       | 1798/2000 [01:41<00:11, 17.56it/s]\n",
      "  0%|                                                                                    | 0/100 [00:00<?, ?it/s]\u001b[A\n",
      "  1%|▊                                                                           | 1/100 [00:00<00:10,  9.46it/s]\u001b[A\n",
      "  5%|███▊                                                                        | 5/100 [00:00<00:03, 25.79it/s]\u001b[A\n",
      "  8%|██████                                                                      | 8/100 [00:00<00:03, 24.79it/s]\u001b[A\n",
      " 11%|████████▎                                                                  | 11/100 [00:00<00:03, 24.46it/s]\u001b[A\n",
      " 14%|██████████▌                                                                | 14/100 [00:00<00:03, 25.89it/s]\u001b[A\n",
      " 17%|████████████▊                                                              | 17/100 [00:00<00:03, 26.26it/s]\u001b[A\n",
      " 20%|███████████████                                                            | 20/100 [00:00<00:03, 25.78it/s]\u001b[A\n",
      " 23%|█████████████████▎                                                         | 23/100 [00:00<00:03, 25.09it/s]\u001b[A\n",
      " 26%|███████████████████▌                                                       | 26/100 [00:01<00:02, 24.91it/s]\u001b[A\n",
      " 29%|█████████████████████▊                                                     | 29/100 [00:01<00:02, 25.83it/s]\u001b[A\n",
      " 32%|████████████████████████                                                   | 32/100 [00:01<00:02, 26.50it/s]\u001b[A\n",
      " 36%|███████████████████████████                                                | 36/100 [00:01<00:02, 28.70it/s]\u001b[A\n",
      " 40%|██████████████████████████████                                             | 40/100 [00:01<00:02, 29.56it/s]\u001b[A\n",
      " 44%|█████████████████████████████████                                          | 44/100 [00:01<00:01, 30.07it/s]\u001b[A\n",
      " 48%|████████████████████████████████████                                       | 48/100 [00:01<00:01, 28.85it/s]\u001b[A\n",
      " 51%|██████████████████████████████████████▎                                    | 51/100 [00:01<00:01, 28.35it/s]\u001b[A\n",
      " 55%|█████████████████████████████████████████▎                                 | 55/100 [00:02<00:01, 30.07it/s]\u001b[A\n",
      " 59%|████████████████████████████████████████████▎                              | 59/100 [00:02<00:01, 29.36it/s]\u001b[A\n",
      " 63%|███████████████████████████████████████████████▎                           | 63/100 [00:02<00:01, 31.24it/s]\u001b[A\n",
      " 67%|██████████████████████████████████████████████████▎                        | 67/100 [00:02<00:01, 31.17it/s]\u001b[A\n",
      " 72%|██████████████████████████████████████████████████████                     | 72/100 [00:02<00:00, 35.12it/s]\u001b[A\n",
      " 77%|█████████████████████████████████████████████████████████▊                 | 77/100 [00:02<00:00, 37.82it/s]\u001b[A\n",
      " 82%|█████████████████████████████████████████████████████████████▍             | 82/100 [00:02<00:00, 38.86it/s]\u001b[A\n",
      " 87%|█████████████████████████████████████████████████████████████████▎         | 87/100 [00:02<00:00, 40.83it/s]\u001b[A\n",
      " 93%|█████████████████████████████████████████████████████████████████████▊     | 93/100 [00:02<00:00, 42.78it/s]\u001b[A\n",
      "100%|██████████████████████████████████████████████████████████████████████████| 100/100 [00:03<00:00, 31.84it/s]\u001b[A\n",
      " 90%|████████████████████████████████████████████████████████████████▊       | 1802/2000 [01:45<01:10,  2.81it/s]"
     ]
    },
    {
     "name": "stdout",
     "output_type": "stream",
     "text": [
      "Reward mean: 175.02, std: 44.96\n",
      "Num steps mean: 175.02, std: 44.96\n"
     ]
    },
    {
     "name": "stderr",
     "output_type": "stream",
     "text": [
      "100%|███████████████████████████████████████████████████████████████████████▉| 1999/2000 [01:53<00:00, 31.55it/s]\n",
      "  0%|                                                                                    | 0/100 [00:00<?, ?it/s]\u001b[A\n",
      "  6%|████▌                                                                       | 6/100 [00:00<00:01, 52.25it/s]\u001b[A\n",
      " 12%|█████████                                                                  | 12/100 [00:00<00:01, 55.32it/s]\u001b[A\n",
      " 19%|██████████████▎                                                            | 19/100 [00:00<00:01, 58.79it/s]\u001b[A\n",
      " 25%|██████████████████▊                                                        | 25/100 [00:00<00:01, 56.55it/s]\u001b[A\n",
      " 31%|███████████████████████▎                                                   | 31/100 [00:00<00:01, 56.72it/s]\u001b[A\n",
      " 37%|███████████████████████████▊                                               | 37/100 [00:00<00:01, 56.43it/s]\u001b[A\n",
      " 43%|████████████████████████████████▎                                          | 43/100 [00:00<00:01, 50.83it/s]\u001b[A\n",
      " 49%|████████████████████████████████████▊                                      | 49/100 [00:00<00:01, 50.01it/s]\u001b[A\n",
      " 55%|█████████████████████████████████████████▎                                 | 55/100 [00:01<00:00, 51.25it/s]\u001b[A\n",
      " 61%|█████████████████████████████████████████████▊                             | 61/100 [00:01<00:00, 50.20it/s]\u001b[A\n",
      " 67%|██████████████████████████████████████████████████▎                        | 67/100 [00:01<00:00, 50.54it/s]\u001b[A\n",
      " 73%|██████████████████████████████████████████████████████▊                    | 73/100 [00:01<00:00, 49.65it/s]\u001b[A\n",
      " 78%|██████████████████████████████████████████████████████████▌                | 78/100 [00:01<00:00, 46.94it/s]\u001b[A\n",
      " 85%|███████████████████████████████████████████████████████████████▊           | 85/100 [00:01<00:00, 51.92it/s]\u001b[A\n",
      " 92%|█████████████████████████████████████████████████████████████████████      | 92/100 [00:01<00:00, 55.35it/s]\u001b[A\n",
      "100%|██████████████████████████████████████████████████████████████████████████| 100/100 [00:01<00:00, 52.96it/s]\u001b[A\n",
      "100%|████████████████████████████████████████████████████████████████████████| 2000/2000 [01:55<00:00, 17.31it/s]"
     ]
    },
    {
     "name": "stdout",
     "output_type": "stream",
     "text": [
      "Reward mean: 159.43, std: 39.42\n",
      "Num steps mean: 159.43, std: 39.42\n"
     ]
    },
    {
     "name": "stderr",
     "output_type": "stream",
     "text": [
      "\n"
     ]
    }
   ],
   "source": [
    "from src.loops import train\n",
    "train(agent, env, n_episodes=2000)"
   ]
  },
  {
   "cell_type": "markdown",
   "id": "1ddadefa",
   "metadata": {},
   "source": [
    "## Evaluate the agent ⏱️"
   ]
  },
  {
   "cell_type": "code",
   "execution_count": 6,
   "id": "17cfcaaf",
   "metadata": {},
   "outputs": [
    {
     "name": "stderr",
     "output_type": "stream",
     "text": [
      "100%|████████████████████████████████████████████████████████████████████████| 1000/1000 [00:11<00:00, 85.36it/s]\n"
     ]
    }
   ],
   "source": [
    "from src.loops import evaluate\n",
    "rewards, steps = evaluate(\n",
    "    agent, env,\n",
    "    n_episodes=1000,\n",
    "    epsilon=0.00\n",
    ")"
   ]
  },
  {
   "cell_type": "code",
   "execution_count": 8,
   "id": "7b05acf0",
   "metadata": {},
   "outputs": [
    {
     "name": "stdout",
     "output_type": "stream",
     "text": [
      "Reward average 164.65, std 39.46\n"
     ]
    }
   ],
   "source": [
    "import numpy as np\n",
    "reward_avg = np.array(rewards).mean()\n",
    "reward_std = np.array(rewards).std()\n",
    "print(f'Reward average {reward_avg:.2f}, std {reward_std:.2f}')"
   ]
  },
  {
   "cell_type": "markdown",
   "id": "15dfe200",
   "metadata": {},
   "source": [
    "## Let's see how far we got in each attempt"
   ]
  },
  {
   "cell_type": "code",
   "execution_count": 9,
   "id": "a4bb1269",
   "metadata": {},
   "outputs": [
    {
     "data": {
      "image/png": "[encoded data removed]",
      "text/plain": [
       "<Figure size 720x288 with 1 Axes>"
      ]
     },
     "metadata": {
      "needs_background": "light"
     },
     "output_type": "display_data"
    }
   ],
   "source": [
    "import matplotlib.pyplot as plt\n",
    "import pandas as pd\n",
    "\n",
    "fig, ax = plt.subplots(figsize = (10, 4))\n",
    "ax.set_title(\"Rewards\")    \n",
    "pd.Series(rewards).plot(kind='hist', bins=100)\n",
    "\n",
    "plt.show()"
   ]
  },
  {
   "cell_type": "markdown",
   "id": "bcbf6d1d",
   "metadata": {},
   "source": [
    "## Let's see our agent in action 🎬"
   ]
  },
  {
   "cell_type": "code",
   "execution_count": 9,
   "id": "de569e48",
   "metadata": {},
   "outputs": [],
   "source": [
    "from src.viz import show_video\n",
    "\n",
    "show_video(agent, env, sleep_sec=0.01, seed=12345)"
   ]
  },
  {
   "cell_type": "code",
   "execution_count": 8,
   "id": "dcdab327",
   "metadata": {},
   "outputs": [
    {
     "ename": "NameError",
     "evalue": "name 'evaluate' is not defined",
     "output_type": "error",
     "traceback": [
      "\u001b[0;31m---------------------------------------------------------------------------\u001b[0m",
      "\u001b[0;31mNameError\u001b[0m                                 Traceback (most recent call last)",
      "\u001b[0;32m/var/folders/6w/65_srvks1m19fg50f07zj5_80000gn/T/ipykernel_24981/3569266316.py\u001b[0m in \u001b[0;36m<module>\u001b[0;34m\u001b[0m\n\u001b[0;32m----> 1\u001b[0;31m eval_rewards, eval_steps = evaluate(\n\u001b[0m\u001b[1;32m      2\u001b[0m     \u001b[0magent\u001b[0m\u001b[0;34m,\u001b[0m \u001b[0menv\u001b[0m\u001b[0;34m,\u001b[0m\u001b[0;34m\u001b[0m\u001b[0;34m\u001b[0m\u001b[0m\n\u001b[1;32m      3\u001b[0m     \u001b[0mn_episodes\u001b[0m\u001b[0;34m=\u001b[0m\u001b[0;36m10\u001b[0m\u001b[0;34m,\u001b[0m\u001b[0;34m\u001b[0m\u001b[0;34m\u001b[0m\u001b[0m\n\u001b[1;32m      4\u001b[0m     \u001b[0mepsilon\u001b[0m\u001b[0;34m=\u001b[0m\u001b[0;36m0.001\u001b[0m\u001b[0;34m\u001b[0m\u001b[0;34m\u001b[0m\u001b[0m\n\u001b[1;32m      5\u001b[0m )\n",
      "\u001b[0;31mNameError\u001b[0m: name 'evaluate' is not defined"
     ]
    }
   ],
   "source": [
    "eval_rewards, eval_steps = evaluate(\n",
    "    agent, env,\n",
    "    n_episodes=10,\n",
    "    epsilon=0.001\n",
    ")\n",
    "eval_rewards"
   ]
  },
  {
   "cell_type": "code",
   "execution_count": null,
   "id": "64cbf4d4",
   "metadata": {},
   "outputs": [],
   "source": []
  }
 ],
 "metadata": {
  "kernelspec": {
   "display_name": "Python 3 (ipykernel)",
   "language": "python",
   "name": "python3"
  },
  "language_info": {
   "codemirror_mode": {
    "name": "ipython",
    "version": 3
   },
   "file_extension": ".py",
   "mimetype": "text/x-python",
   "name": "python",
   "nbconvert_exporter": "python",
   "pygments_lexer": "ipython3",
   "version": "3.7.5"
  }
 },
 "nbformat": 4,
 "nbformat_minor": 5
}
