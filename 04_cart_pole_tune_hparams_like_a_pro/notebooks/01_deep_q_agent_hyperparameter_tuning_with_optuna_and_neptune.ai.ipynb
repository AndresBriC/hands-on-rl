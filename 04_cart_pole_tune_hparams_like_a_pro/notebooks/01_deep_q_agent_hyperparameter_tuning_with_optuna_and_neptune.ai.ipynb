{
 "cells": [
  {
   "cell_type": "markdown",
   "id": "f7893323",
   "metadata": {},
   "source": [
    "# 01 Deep Q agent hyper-parameter tuning with\n",
    "\n",
    "<img src=\"https://optuna.readthedocs.io/en/stable/_static/optuna-logo.png\" width=\"500\" height=\"400\" />\n",
    "\n",
    "<div align=\"center\">\n",
    "<h1>+</h1>\n",
    "</div>\n",
    "\n",
    "<img src=\"https://camo.githubusercontent.com/51f9ec0b7f6d5a4f51d78a59c860d02c80f58f6d84ae85e6e7122c92f7776346/68747470733a2f2f6e657074756e652e61692f77702d636f6e74656e742f75706c6f6164732f6e657074756e652d6c6f676f2d6c6573732d6d617267696e2d65313631313933393734323638332e706e67\" width=\"500\" height=\"400\" />\n",
    "\n",
    "#### 👉 Let's train a Deep Q agent to solve the `Cart Pole` environment."
   ]
  },
  {
   "cell_type": "markdown",
   "id": "7e53d094",
   "metadata": {},
   "source": [
    "![nn](https://github.com/Paulescu/hands-on-rl/blob/main/03_cart_pole/images/neural_net.jpg?raw=true)"
   ]
  },
  {
   "cell_type": "code",
   "execution_count": 1,
   "id": "fd7b5c91",
   "metadata": {},
   "outputs": [
    {
     "name": "stdout",
     "output_type": "stream",
     "text": [
      "Populating the interactive namespace from numpy and matplotlib\n"
     ]
    }
   ],
   "source": [
    "%load_ext autoreload\n",
    "%autoreload 2\n",
    "%pylab inline\n",
    "%config InlineBackend.figure_format = 'svg'"
   ]
  },
  {
   "cell_type": "markdown",
   "id": "6d71e5be",
   "metadata": {},
   "source": [
    "## Environment 🌎"
   ]
  },
  {
   "cell_type": "code",
   "execution_count": 2,
   "id": "bfb033c6",
   "metadata": {},
   "outputs": [],
   "source": [
    "import gym\n",
    "env = gym.make('CartPole-v1')"
   ]
  },
  {
   "cell_type": "markdown",
   "id": "d2a11ea0",
   "metadata": {},
   "source": [
    "## Create a Neptune run"
   ]
  },
  {
   "cell_type": "code",
   "execution_count": null,
   "id": "1ecc1441",
   "metadata": {},
   "outputs": [],
   "source": [
    "# %env NEPTUNE_PROJECT=<>\n",
    "# %env NEPTUNE_API_TOKEN=<>"
   ]
  },
  {
   "cell_type": "code",
   "execution_count": 5,
   "id": "020c7534",
   "metadata": {},
   "outputs": [
    {
     "name": "stdout",
     "output_type": "stream",
     "text": [
      "https://app.neptune.ai/plabartabajo/parametric-q-learning-cart-pole/e/PAR-51\n"
     ]
    },
    {
     "name": "stderr",
     "output_type": "stream",
     "text": [
      "Info (NVML): NVML Shared Library Not Found. GPU usage metrics may not be reported. For more information, see https://docs.neptune.ai/you-should-know/what-can-you-log-and-display#hardware-consumption\n"
     ]
    },
    {
     "name": "stdout",
     "output_type": "stream",
     "text": [
      "Remember to stop your run once you’ve finished logging your metadata (https://docs.neptune.ai/api-reference/run#.stop). It will be stopped automatically only when the notebook kernel/interactive console is terminated.\n"
     ]
    }
   ],
   "source": [
    "import os\n",
    "import neptune.new as neptune\n",
    "\n",
    "try:\n",
    "    NEPTUNE_PROJECT = os.environ['NEPTUNE_PROJECT']\n",
    "    NEPTUNE_API_TOKEN = os.environ['NEPTUNE_API_TOKEN']\n",
    "except:\n",
    "    print('Set environment variables NEPTUNE_PROJECT and NEPTUNE_API_TOKEN')\n",
    "    raise\n",
    "\n",
    "run = neptune.init(\n",
    "    project=NEPTUNE_PROJECT,\n",
    "    api_token=NEPTUNE_API_TOKEN,\n",
    "    tags=['hparam_search_with_optuna']\n",
    ")"
   ]
  },
  {
   "cell_type": "markdown",
   "id": "d2878d5a",
   "metadata": {},
   "source": [
    "## NeptuneCallback that will integrate with Optuna"
   ]
  },
  {
   "cell_type": "code",
   "execution_count": 6,
   "id": "850dce3d",
   "metadata": {},
   "outputs": [],
   "source": [
    "import neptune.new.integrations.optuna as optuna_utils\n",
    "\n",
    "neptune_callback = optuna_utils.NeptuneCallback(run)"
   ]
  },
  {
   "cell_type": "markdown",
   "id": "93adf159",
   "metadata": {},
   "source": [
    "## Create an Optuna study"
   ]
  },
  {
   "cell_type": "code",
   "execution_count": 7,
   "id": "44850634",
   "metadata": {},
   "outputs": [
    {
     "name": "stderr",
     "output_type": "stream",
     "text": [
      "\u001b[32m[I 2022-02-15 20:57:11,823]\u001b[0m A new study created in memory with name: hyperparameters_deep_q_agent\u001b[0m\n"
     ]
    }
   ],
   "source": [
    "import optuna\n",
    "\n",
    "study = optuna.create_study(\n",
    "    study_name='hyperparameters_deep_q_agent',\n",
    "    direction='maximize',\n",
    ")"
   ]
  },
  {
   "cell_type": "markdown",
   "id": "f35fc2e2",
   "metadata": {},
   "source": [
    "## Objective function we want Optuna to maximize"
   ]
  },
  {
   "cell_type": "code",
   "execution_count": 8,
   "id": "6b5e0b3a",
   "metadata": {},
   "outputs": [],
   "source": [
    "from src.optimize_hyperparameters import objective\n",
    "func = lambda trial: objective(trial, force_linear_model=False, n_episodes_to_train=500)"
   ]
  },
  {
   "cell_type": "markdown",
   "id": "9d5748bc",
   "metadata": {},
   "source": [
    "## Let's start the search!"
   ]
  },
  {
   "cell_type": "code",
   "execution_count": null,
   "id": "d9c980d8",
   "metadata": {
    "scrolled": true
   },
   "outputs": [
    {
     "name": "stdout",
     "output_type": "stream",
     "text": [
      "https://app.neptune.ai/plabartabajo/parametric-q-learning-cart-pole/e/PAR-52\n",
      "Remember to stop your run once you’ve finished logging your metadata (https://docs.neptune.ai/api-reference/run#.stop). It will be stopped automatically only when the notebook kernel/interactive console is terminated.\n",
      "67,586 parameters\n"
     ]
    },
    {
     "name": "stderr",
     "output_type": "stream",
     "text": [
      "100%|█████████████████████████████████████████████████████████████████████████| 500/500 [00:02<00:00, 205.84it/s]\n",
      "100%|███████████████████████████████████████████████████████████████████████| 1000/1000 [00:01<00:00, 549.93it/s]"
     ]
    },
    {
     "name": "stdout",
     "output_type": "stream",
     "text": [
      "Shutting down background jobs, please wait a moment...\n",
      "Done!\n"
     ]
    },
    {
     "name": "stderr",
     "output_type": "stream",
     "text": [
      "\n",
      "Waiting for the remaining 47 operations to synchronize with Neptune. Do not kill this process.\n"
     ]
    },
    {
     "name": "stdout",
     "output_type": "stream",
     "text": [
      "All 47 operations synced, thanks for waiting!\n"
     ]
    },
    {
     "name": "stderr",
     "output_type": "stream",
     "text": [
      "\u001b[32m[I 2022-02-15 20:57:27,277]\u001b[0m Trial 0 finished with value: 9.361 and parameters: {'learning_rate': 3.125530492111703e-05, 'discount_factor': 0.99, 'batch_size': 128, 'memory_size': 10000, 'freq_steps_train': 16, 'freq_steps_update_target': 1000, 'n_steps_warm_up_memory': 5000, 'n_gradient_steps': 1, 'nn_hidden_layers': '[256, 256]', 'max_grad_norm': 1, 'normalize_state': False, 'epsilon_start': 0.9, 'epsilon_end': 0.03325946766499619, 'steps_epsilon_decay': 10000, 'seed': 697068871}. Best is trial 0 with value: 9.361.\u001b[0m\n",
      "Warning: string series 'study/distributions' value was longer than 1000 characters and was truncated. This warning is printed only once per series.\n",
      "\u001b[33m[W 2022-02-15 20:57:37,091]\u001b[0m Param batch_size unique value length is less than 2.\u001b[0m\n",
      "\u001b[33m[W 2022-02-15 20:57:37,127]\u001b[0m Param batch_size unique value length is less than 2.\u001b[0m\n",
      "\u001b[33m[W 2022-02-15 20:57:37,159]\u001b[0m Param batch_size unique value length is less than 2.\u001b[0m\n",
      "\u001b[33m[W 2022-02-15 20:57:37,190]\u001b[0m Param batch_size unique value length is less than 2.\u001b[0m\n",
      "\u001b[33m[W 2022-02-15 20:57:37,222]\u001b[0m Param batch_size unique value length is less than 2.\u001b[0m\n",
      "\u001b[33m[W 2022-02-15 20:57:37,252]\u001b[0m Param batch_size unique value length is less than 2.\u001b[0m\n",
      "\u001b[33m[W 2022-02-15 20:57:37,301]\u001b[0m Param batch_size unique value length is less than 2.\u001b[0m\n",
      "\u001b[33m[W 2022-02-15 20:57:37,332]\u001b[0m Param batch_size unique value length is less than 2.\u001b[0m\n",
      "\u001b[33m[W 2022-02-15 20:57:37,363]\u001b[0m Param batch_size unique value length is less than 2.\u001b[0m\n",
      "\u001b[33m[W 2022-02-15 20:57:37,394]\u001b[0m Param batch_size unique value length is less than 2.\u001b[0m\n",
      "\u001b[33m[W 2022-02-15 20:57:37,427]\u001b[0m Param batch_size unique value length is less than 2.\u001b[0m\n",
      "\u001b[33m[W 2022-02-15 20:57:37,465]\u001b[0m Param batch_size unique value length is less than 2.\u001b[0m\n",
      "\u001b[33m[W 2022-02-15 20:57:37,508]\u001b[0m Param batch_size unique value length is less than 2.\u001b[0m\n",
      "\u001b[33m[W 2022-02-15 20:57:37,537]\u001b[0m Param batch_size unique value length is less than 2.\u001b[0m\n",
      "\u001b[33m[W 2022-02-15 20:57:37,584]\u001b[0m Param discount_factor unique value length is less than 2.\u001b[0m\n",
      "\u001b[33m[W 2022-02-15 20:57:37,623]\u001b[0m Param discount_factor unique value length is less than 2.\u001b[0m\n",
      "\u001b[33m[W 2022-02-15 20:57:37,647]\u001b[0m Param discount_factor unique value length is less than 2.\u001b[0m\n",
      "\u001b[33m[W 2022-02-15 20:57:37,667]\u001b[0m Param discount_factor unique value length is less than 2.\u001b[0m\n",
      "\u001b[33m[W 2022-02-15 20:57:37,687]\u001b[0m Param discount_factor unique value length is less than 2.\u001b[0m\n",
      "\u001b[33m[W 2022-02-15 20:57:37,709]\u001b[0m Param discount_factor unique value length is less than 2.\u001b[0m\n",
      "\u001b[33m[W 2022-02-15 20:57:37,743]\u001b[0m Param discount_factor unique value length is less than 2.\u001b[0m\n",
      "\u001b[33m[W 2022-02-15 20:57:37,767]\u001b[0m Param discount_factor unique value length is less than 2.\u001b[0m\n",
      "\u001b[33m[W 2022-02-15 20:57:37,794]\u001b[0m Param discount_factor unique value length is less than 2.\u001b[0m\n",
      "\u001b[33m[W 2022-02-15 20:57:37,816]\u001b[0m Param discount_factor unique value length is less than 2.\u001b[0m\n",
      "\u001b[33m[W 2022-02-15 20:57:37,840]\u001b[0m Param discount_factor unique value length is less than 2.\u001b[0m\n",
      "\u001b[33m[W 2022-02-15 20:57:37,875]\u001b[0m Param discount_factor unique value length is less than 2.\u001b[0m\n",
      "\u001b[33m[W 2022-02-15 20:57:37,911]\u001b[0m Param discount_factor unique value length is less than 2.\u001b[0m\n",
      "\u001b[33m[W 2022-02-15 20:57:37,937]\u001b[0m Param discount_factor unique value length is less than 2.\u001b[0m\n",
      "\u001b[33m[W 2022-02-15 20:57:37,973]\u001b[0m Param epsilon_end unique value length is less than 2.\u001b[0m\n",
      "\u001b[33m[W 2022-02-15 20:57:37,996]\u001b[0m Param epsilon_end unique value length is less than 2.\u001b[0m\n",
      "\u001b[33m[W 2022-02-15 20:57:38,042]\u001b[0m Param epsilon_end unique value length is less than 2.\u001b[0m\n",
      "\u001b[33m[W 2022-02-15 20:57:38,066]\u001b[0m Param epsilon_end unique value length is less than 2.\u001b[0m\n",
      "\u001b[33m[W 2022-02-15 20:57:38,090]\u001b[0m Param epsilon_end unique value length is less than 2.\u001b[0m\n",
      "\u001b[33m[W 2022-02-15 20:57:38,112]\u001b[0m Param epsilon_end unique value length is less than 2.\u001b[0m\n",
      "\u001b[33m[W 2022-02-15 20:57:38,149]\u001b[0m Param epsilon_end unique value length is less than 2.\u001b[0m\n",
      "\u001b[33m[W 2022-02-15 20:57:38,174]\u001b[0m Param epsilon_end unique value length is less than 2.\u001b[0m\n",
      "\u001b[33m[W 2022-02-15 20:57:38,200]\u001b[0m Param epsilon_end unique value length is less than 2.\u001b[0m\n",
      "\u001b[33m[W 2022-02-15 20:57:38,229]\u001b[0m Param epsilon_end unique value length is less than 2.\u001b[0m\n",
      "\u001b[33m[W 2022-02-15 20:57:38,253]\u001b[0m Param epsilon_end unique value length is less than 2.\u001b[0m\n",
      "\u001b[33m[W 2022-02-15 20:57:38,287]\u001b[0m Param epsilon_end unique value length is less than 2.\u001b[0m\n",
      "\u001b[33m[W 2022-02-15 20:57:38,323]\u001b[0m Param epsilon_end unique value length is less than 2.\u001b[0m\n",
      "\u001b[33m[W 2022-02-15 20:57:38,347]\u001b[0m Param epsilon_end unique value length is less than 2.\u001b[0m\n",
      "\u001b[33m[W 2022-02-15 20:57:38,383]\u001b[0m Param epsilon_start unique value length is less than 2.\u001b[0m\n",
      "\u001b[33m[W 2022-02-15 20:57:38,409]\u001b[0m Param epsilon_start unique value length is less than 2.\u001b[0m\n",
      "\u001b[33m[W 2022-02-15 20:57:38,442]\u001b[0m Param epsilon_start unique value length is less than 2.\u001b[0m\n",
      "\u001b[33m[W 2022-02-15 20:57:38,486]\u001b[0m Param epsilon_start unique value length is less than 2.\u001b[0m\n",
      "\u001b[33m[W 2022-02-15 20:57:38,514]\u001b[0m Param epsilon_start unique value length is less than 2.\u001b[0m\n",
      "\u001b[33m[W 2022-02-15 20:57:38,537]\u001b[0m Param epsilon_start unique value length is less than 2.\u001b[0m\n",
      "\u001b[33m[W 2022-02-15 20:57:38,576]\u001b[0m Param epsilon_start unique value length is less than 2.\u001b[0m\n",
      "\u001b[33m[W 2022-02-15 20:57:38,600]\u001b[0m Param epsilon_start unique value length is less than 2.\u001b[0m\n",
      "\u001b[33m[W 2022-02-15 20:57:38,626]\u001b[0m Param epsilon_start unique value length is less than 2.\u001b[0m\n",
      "\u001b[33m[W 2022-02-15 20:57:38,649]\u001b[0m Param epsilon_start unique value length is less than 2.\u001b[0m\n",
      "\u001b[33m[W 2022-02-15 20:57:38,678]\u001b[0m Param epsilon_start unique value length is less than 2.\u001b[0m\n",
      "\u001b[33m[W 2022-02-15 20:57:38,710]\u001b[0m Param epsilon_start unique value length is less than 2.\u001b[0m\n",
      "\u001b[33m[W 2022-02-15 20:57:38,747]\u001b[0m Param epsilon_start unique value length is less than 2.\u001b[0m\n",
      "\u001b[33m[W 2022-02-15 20:57:38,770]\u001b[0m Param epsilon_start unique value length is less than 2.\u001b[0m\n",
      "\u001b[33m[W 2022-02-15 20:57:38,807]\u001b[0m Param freq_steps_train unique value length is less than 2.\u001b[0m\n",
      "\u001b[33m[W 2022-02-15 20:57:38,832]\u001b[0m Param freq_steps_train unique value length is less than 2.\u001b[0m\n",
      "\u001b[33m[W 2022-02-15 20:57:38,899]\u001b[0m Param freq_steps_train unique value length is less than 2.\u001b[0m\n",
      "\u001b[33m[W 2022-02-15 20:57:38,930]\u001b[0m Param freq_steps_train unique value length is less than 2.\u001b[0m\n",
      "\u001b[33m[W 2022-02-15 20:57:38,974]\u001b[0m Param freq_steps_train unique value length is less than 2.\u001b[0m\n",
      "\u001b[33m[W 2022-02-15 20:57:38,997]\u001b[0m Param freq_steps_train unique value length is less than 2.\u001b[0m\n",
      "\u001b[33m[W 2022-02-15 20:57:39,038]\u001b[0m Param freq_steps_train unique value length is less than 2.\u001b[0m\n",
      "\u001b[33m[W 2022-02-15 20:57:39,060]\u001b[0m Param freq_steps_train unique value length is less than 2.\u001b[0m\n",
      "\u001b[33m[W 2022-02-15 20:57:39,084]\u001b[0m Param freq_steps_train unique value length is less than 2.\u001b[0m\n",
      "\u001b[33m[W 2022-02-15 20:57:39,109]\u001b[0m Param freq_steps_train unique value length is less than 2.\u001b[0m\n",
      "\u001b[33m[W 2022-02-15 20:57:39,134]\u001b[0m Param freq_steps_train unique value length is less than 2.\u001b[0m\n",
      "\u001b[33m[W 2022-02-15 20:57:39,173]\u001b[0m Param freq_steps_train unique value length is less than 2.\u001b[0m\n",
      "\u001b[33m[W 2022-02-15 20:57:39,212]\u001b[0m Param freq_steps_train unique value length is less than 2.\u001b[0m\n",
      "\u001b[33m[W 2022-02-15 20:57:39,236]\u001b[0m Param freq_steps_train unique value length is less than 2.\u001b[0m\n",
      "\u001b[33m[W 2022-02-15 20:57:39,274]\u001b[0m Param freq_steps_update_target unique value length is less than 2.\u001b[0m\n",
      "\u001b[33m[W 2022-02-15 20:57:39,298]\u001b[0m Param freq_steps_update_target unique value length is less than 2.\u001b[0m\n",
      "\u001b[33m[W 2022-02-15 20:57:39,323]\u001b[0m Param freq_steps_update_target unique value length is less than 2.\u001b[0m\n",
      "\u001b[33m[W 2022-02-15 20:57:39,352]\u001b[0m Param freq_steps_update_target unique value length is less than 2.\u001b[0m\n",
      "\u001b[33m[W 2022-02-15 20:57:39,380]\u001b[0m Param freq_steps_update_target unique value length is less than 2.\u001b[0m\n",
      "\u001b[33m[W 2022-02-15 20:57:39,429]\u001b[0m Param freq_steps_update_target unique value length is less than 2.\u001b[0m\n",
      "\u001b[33m[W 2022-02-15 20:57:39,460]\u001b[0m Param freq_steps_update_target unique value length is less than 2.\u001b[0m\n"
     ]
    },
    {
     "name": "stderr",
     "output_type": "stream",
     "text": [
      "\u001b[33m[W 2022-02-15 20:57:39,483]\u001b[0m Param freq_steps_update_target unique value length is less than 2.\u001b[0m\n",
      "\u001b[33m[W 2022-02-15 20:57:39,507]\u001b[0m Param freq_steps_update_target unique value length is less than 2.\u001b[0m\n",
      "\u001b[33m[W 2022-02-15 20:57:39,532]\u001b[0m Param freq_steps_update_target unique value length is less than 2.\u001b[0m\n",
      "\u001b[33m[W 2022-02-15 20:57:39,555]\u001b[0m Param freq_steps_update_target unique value length is less than 2.\u001b[0m\n",
      "\u001b[33m[W 2022-02-15 20:57:39,587]\u001b[0m Param freq_steps_update_target unique value length is less than 2.\u001b[0m\n",
      "\u001b[33m[W 2022-02-15 20:57:39,622]\u001b[0m Param freq_steps_update_target unique value length is less than 2.\u001b[0m\n",
      "\u001b[33m[W 2022-02-15 20:57:39,643]\u001b[0m Param freq_steps_update_target unique value length is less than 2.\u001b[0m\n",
      "\u001b[33m[W 2022-02-15 20:57:39,676]\u001b[0m Param learning_rate unique value length is less than 2.\u001b[0m\n",
      "\u001b[33m[W 2022-02-15 20:57:39,713]\u001b[0m Param learning_rate unique value length is less than 2.\u001b[0m\n",
      "\u001b[33m[W 2022-02-15 20:57:39,746]\u001b[0m Param learning_rate unique value length is less than 2.\u001b[0m\n",
      "\u001b[33m[W 2022-02-15 20:57:39,779]\u001b[0m Param learning_rate unique value length is less than 2.\u001b[0m\n",
      "\u001b[33m[W 2022-02-15 20:57:39,811]\u001b[0m Param learning_rate unique value length is less than 2.\u001b[0m\n",
      "\u001b[33m[W 2022-02-15 20:57:39,848]\u001b[0m Param learning_rate unique value length is less than 2.\u001b[0m\n",
      "\u001b[33m[W 2022-02-15 20:57:39,921]\u001b[0m Param learning_rate unique value length is less than 2.\u001b[0m\n",
      "\u001b[33m[W 2022-02-15 20:57:39,954]\u001b[0m Param learning_rate unique value length is less than 2.\u001b[0m\n",
      "\u001b[33m[W 2022-02-15 20:57:39,989]\u001b[0m Param learning_rate unique value length is less than 2.\u001b[0m\n",
      "\u001b[33m[W 2022-02-15 20:57:40,020]\u001b[0m Param learning_rate unique value length is less than 2.\u001b[0m\n",
      "\u001b[33m[W 2022-02-15 20:57:40,055]\u001b[0m Param learning_rate unique value length is less than 2.\u001b[0m\n",
      "\u001b[33m[W 2022-02-15 20:57:40,101]\u001b[0m Param learning_rate unique value length is less than 2.\u001b[0m\n",
      "\u001b[33m[W 2022-02-15 20:57:40,142]\u001b[0m Param learning_rate unique value length is less than 2.\u001b[0m\n",
      "\u001b[33m[W 2022-02-15 20:57:40,178]\u001b[0m Param learning_rate unique value length is less than 2.\u001b[0m\n",
      "\u001b[33m[W 2022-02-15 20:57:40,219]\u001b[0m Param max_grad_norm unique value length is less than 2.\u001b[0m\n",
      "\u001b[33m[W 2022-02-15 20:57:40,256]\u001b[0m Param max_grad_norm unique value length is less than 2.\u001b[0m\n",
      "\u001b[33m[W 2022-02-15 20:57:40,279]\u001b[0m Param max_grad_norm unique value length is less than 2.\u001b[0m\n",
      "\u001b[33m[W 2022-02-15 20:57:40,301]\u001b[0m Param max_grad_norm unique value length is less than 2.\u001b[0m\n",
      "\u001b[33m[W 2022-02-15 20:57:40,324]\u001b[0m Param max_grad_norm unique value length is less than 2.\u001b[0m\n",
      "\u001b[33m[W 2022-02-15 20:57:40,346]\u001b[0m Param max_grad_norm unique value length is less than 2.\u001b[0m\n",
      "\u001b[33m[W 2022-02-15 20:57:40,370]\u001b[0m Param max_grad_norm unique value length is less than 2.\u001b[0m\n",
      "\u001b[33m[W 2022-02-15 20:57:40,424]\u001b[0m Param max_grad_norm unique value length is less than 2.\u001b[0m\n",
      "\u001b[33m[W 2022-02-15 20:57:40,449]\u001b[0m Param max_grad_norm unique value length is less than 2.\u001b[0m\n",
      "\u001b[33m[W 2022-02-15 20:57:40,473]\u001b[0m Param max_grad_norm unique value length is less than 2.\u001b[0m\n",
      "\u001b[33m[W 2022-02-15 20:57:40,496]\u001b[0m Param max_grad_norm unique value length is less than 2.\u001b[0m\n",
      "\u001b[33m[W 2022-02-15 20:57:40,528]\u001b[0m Param max_grad_norm unique value length is less than 2.\u001b[0m\n",
      "\u001b[33m[W 2022-02-15 20:57:40,561]\u001b[0m Param max_grad_norm unique value length is less than 2.\u001b[0m\n",
      "\u001b[33m[W 2022-02-15 20:57:40,584]\u001b[0m Param max_grad_norm unique value length is less than 2.\u001b[0m\n",
      "\u001b[33m[W 2022-02-15 20:57:40,622]\u001b[0m Param memory_size unique value length is less than 2.\u001b[0m\n",
      "\u001b[33m[W 2022-02-15 20:57:40,645]\u001b[0m Param memory_size unique value length is less than 2.\u001b[0m\n",
      "\u001b[33m[W 2022-02-15 20:57:40,667]\u001b[0m Param memory_size unique value length is less than 2.\u001b[0m\n",
      "\u001b[33m[W 2022-02-15 20:57:40,692]\u001b[0m Param memory_size unique value length is less than 2.\u001b[0m\n",
      "\u001b[33m[W 2022-02-15 20:57:40,714]\u001b[0m Param memory_size unique value length is less than 2.\u001b[0m\n",
      "\u001b[33m[W 2022-02-15 20:57:40,738]\u001b[0m Param memory_size unique value length is less than 2.\u001b[0m\n",
      "\u001b[33m[W 2022-02-15 20:57:40,805]\u001b[0m Param memory_size unique value length is less than 2.\u001b[0m\n",
      "\u001b[33m[W 2022-02-15 20:57:40,856]\u001b[0m Param memory_size unique value length is less than 2.\u001b[0m\n",
      "\u001b[33m[W 2022-02-15 20:57:40,908]\u001b[0m Param memory_size unique value length is less than 2.\u001b[0m\n",
      "\u001b[33m[W 2022-02-15 20:57:40,934]\u001b[0m Param memory_size unique value length is less than 2.\u001b[0m\n",
      "\u001b[33m[W 2022-02-15 20:57:40,960]\u001b[0m Param memory_size unique value length is less than 2.\u001b[0m\n",
      "\u001b[33m[W 2022-02-15 20:57:40,996]\u001b[0m Param memory_size unique value length is less than 2.\u001b[0m\n",
      "\u001b[33m[W 2022-02-15 20:57:41,033]\u001b[0m Param memory_size unique value length is less than 2.\u001b[0m\n",
      "\u001b[33m[W 2022-02-15 20:57:41,060]\u001b[0m Param memory_size unique value length is less than 2.\u001b[0m\n",
      "\u001b[33m[W 2022-02-15 20:57:41,098]\u001b[0m Param n_gradient_steps unique value length is less than 2.\u001b[0m\n",
      "\u001b[33m[W 2022-02-15 20:57:41,120]\u001b[0m Param n_gradient_steps unique value length is less than 2.\u001b[0m\n",
      "\u001b[33m[W 2022-02-15 20:57:41,145]\u001b[0m Param n_gradient_steps unique value length is less than 2.\u001b[0m\n",
      "\u001b[33m[W 2022-02-15 20:57:41,172]\u001b[0m Param n_gradient_steps unique value length is less than 2.\u001b[0m\n",
      "\u001b[33m[W 2022-02-15 20:57:41,197]\u001b[0m Param n_gradient_steps unique value length is less than 2.\u001b[0m\n",
      "\u001b[33m[W 2022-02-15 20:57:41,224]\u001b[0m Param n_gradient_steps unique value length is less than 2.\u001b[0m\n",
      "\u001b[33m[W 2022-02-15 20:57:41,246]\u001b[0m Param n_gradient_steps unique value length is less than 2.\u001b[0m\n",
      "\u001b[33m[W 2022-02-15 20:57:41,280]\u001b[0m Param n_gradient_steps unique value length is less than 2.\u001b[0m\n",
      "\u001b[33m[W 2022-02-15 20:57:41,306]\u001b[0m Param n_gradient_steps unique value length is less than 2.\u001b[0m\n",
      "\u001b[33m[W 2022-02-15 20:57:41,353]\u001b[0m Param n_gradient_steps unique value length is less than 2.\u001b[0m\n",
      "\u001b[33m[W 2022-02-15 20:57:41,376]\u001b[0m Param n_gradient_steps unique value length is less than 2.\u001b[0m\n",
      "\u001b[33m[W 2022-02-15 20:57:41,412]\u001b[0m Param n_gradient_steps unique value length is less than 2.\u001b[0m\n",
      "\u001b[33m[W 2022-02-15 20:57:41,443]\u001b[0m Param n_gradient_steps unique value length is less than 2.\u001b[0m\n",
      "\u001b[33m[W 2022-02-15 20:57:41,468]\u001b[0m Param n_gradient_steps unique value length is less than 2.\u001b[0m\n",
      "\u001b[33m[W 2022-02-15 20:57:41,503]\u001b[0m Param n_steps_warm_up_memory unique value length is less than 2.\u001b[0m\n",
      "\u001b[33m[W 2022-02-15 20:57:41,531]\u001b[0m Param n_steps_warm_up_memory unique value length is less than 2.\u001b[0m\n",
      "\u001b[33m[W 2022-02-15 20:57:41,554]\u001b[0m Param n_steps_warm_up_memory unique value length is less than 2.\u001b[0m\n",
      "\u001b[33m[W 2022-02-15 20:57:41,576]\u001b[0m Param n_steps_warm_up_memory unique value length is less than 2.\u001b[0m\n",
      "\u001b[33m[W 2022-02-15 20:57:41,601]\u001b[0m Param n_steps_warm_up_memory unique value length is less than 2.\u001b[0m\n",
      "\u001b[33m[W 2022-02-15 20:57:41,628]\u001b[0m Param n_steps_warm_up_memory unique value length is less than 2.\u001b[0m\n",
      "\u001b[33m[W 2022-02-15 20:57:41,652]\u001b[0m Param n_steps_warm_up_memory unique value length is less than 2.\u001b[0m\n",
      "\u001b[33m[W 2022-02-15 20:57:41,689]\u001b[0m Param n_steps_warm_up_memory unique value length is less than 2.\u001b[0m\n",
      "\u001b[33m[W 2022-02-15 20:57:41,717]\u001b[0m Param n_steps_warm_up_memory unique value length is less than 2.\u001b[0m\n",
      "\u001b[33m[W 2022-02-15 20:57:41,745]\u001b[0m Param n_steps_warm_up_memory unique value length is less than 2.\u001b[0m\n",
      "\u001b[33m[W 2022-02-15 20:57:41,790]\u001b[0m Param n_steps_warm_up_memory unique value length is less than 2.\u001b[0m\n",
      "\u001b[33m[W 2022-02-15 20:57:41,825]\u001b[0m Param n_steps_warm_up_memory unique value length is less than 2.\u001b[0m\n",
      "\u001b[33m[W 2022-02-15 20:57:41,856]\u001b[0m Param n_steps_warm_up_memory unique value length is less than 2.\u001b[0m\n",
      "\u001b[33m[W 2022-02-15 20:57:41,880]\u001b[0m Param n_steps_warm_up_memory unique value length is less than 2.\u001b[0m\n",
      "\u001b[33m[W 2022-02-15 20:57:41,914]\u001b[0m Param nn_hidden_layers unique value length is less than 2.\u001b[0m\n",
      "\u001b[33m[W 2022-02-15 20:57:41,947]\u001b[0m Param nn_hidden_layers unique value length is less than 2.\u001b[0m\n",
      "\u001b[33m[W 2022-02-15 20:57:41,981]\u001b[0m Param nn_hidden_layers unique value length is less than 2.\u001b[0m\n",
      "\u001b[33m[W 2022-02-15 20:57:42,014]\u001b[0m Param nn_hidden_layers unique value length is less than 2.\u001b[0m\n",
      "\u001b[33m[W 2022-02-15 20:57:42,049]\u001b[0m Param nn_hidden_layers unique value length is less than 2.\u001b[0m\n",
      "\u001b[33m[W 2022-02-15 20:57:42,082]\u001b[0m Param nn_hidden_layers unique value length is less than 2.\u001b[0m\n"
     ]
    },
    {
     "name": "stderr",
     "output_type": "stream",
     "text": [
      "\u001b[33m[W 2022-02-15 20:57:42,119]\u001b[0m Param nn_hidden_layers unique value length is less than 2.\u001b[0m\n",
      "\u001b[33m[W 2022-02-15 20:57:42,166]\u001b[0m Param nn_hidden_layers unique value length is less than 2.\u001b[0m\n",
      "\u001b[33m[W 2022-02-15 20:57:42,200]\u001b[0m Param nn_hidden_layers unique value length is less than 2.\u001b[0m\n",
      "\u001b[33m[W 2022-02-15 20:57:42,232]\u001b[0m Param nn_hidden_layers unique value length is less than 2.\u001b[0m\n",
      "\u001b[33m[W 2022-02-15 20:57:42,267]\u001b[0m Param nn_hidden_layers unique value length is less than 2.\u001b[0m\n",
      "\u001b[33m[W 2022-02-15 20:57:42,339]\u001b[0m Param nn_hidden_layers unique value length is less than 2.\u001b[0m\n",
      "\u001b[33m[W 2022-02-15 20:57:42,379]\u001b[0m Param nn_hidden_layers unique value length is less than 2.\u001b[0m\n",
      "\u001b[33m[W 2022-02-15 20:57:42,412]\u001b[0m Param nn_hidden_layers unique value length is less than 2.\u001b[0m\n",
      "\u001b[33m[W 2022-02-15 20:57:42,455]\u001b[0m Param normalize_state unique value length is less than 2.\u001b[0m\n",
      "\u001b[33m[W 2022-02-15 20:57:42,494]\u001b[0m Param normalize_state unique value length is less than 2.\u001b[0m\n",
      "\u001b[33m[W 2022-02-15 20:57:42,525]\u001b[0m Param normalize_state unique value length is less than 2.\u001b[0m\n",
      "\u001b[33m[W 2022-02-15 20:57:42,560]\u001b[0m Param normalize_state unique value length is less than 2.\u001b[0m\n",
      "\u001b[33m[W 2022-02-15 20:57:42,594]\u001b[0m Param normalize_state unique value length is less than 2.\u001b[0m\n",
      "\u001b[33m[W 2022-02-15 20:57:42,633]\u001b[0m Param normalize_state unique value length is less than 2.\u001b[0m\n",
      "\u001b[33m[W 2022-02-15 20:57:42,679]\u001b[0m Param normalize_state unique value length is less than 2.\u001b[0m\n",
      "\u001b[33m[W 2022-02-15 20:57:42,730]\u001b[0m Param normalize_state unique value length is less than 2.\u001b[0m\n",
      "\u001b[33m[W 2022-02-15 20:57:42,767]\u001b[0m Param normalize_state unique value length is less than 2.\u001b[0m\n",
      "\u001b[33m[W 2022-02-15 20:57:42,802]\u001b[0m Param normalize_state unique value length is less than 2.\u001b[0m\n",
      "\u001b[33m[W 2022-02-15 20:57:42,839]\u001b[0m Param normalize_state unique value length is less than 2.\u001b[0m\n",
      "\u001b[33m[W 2022-02-15 20:57:42,875]\u001b[0m Param normalize_state unique value length is less than 2.\u001b[0m\n",
      "\u001b[33m[W 2022-02-15 20:57:42,965]\u001b[0m Param normalize_state unique value length is less than 2.\u001b[0m\n",
      "\u001b[33m[W 2022-02-15 20:57:43,000]\u001b[0m Param normalize_state unique value length is less than 2.\u001b[0m\n",
      "\u001b[33m[W 2022-02-15 20:57:43,048]\u001b[0m Param seed unique value length is less than 2.\u001b[0m\n",
      "\u001b[33m[W 2022-02-15 20:57:43,074]\u001b[0m Param seed unique value length is less than 2.\u001b[0m\n",
      "\u001b[33m[W 2022-02-15 20:57:43,098]\u001b[0m Param seed unique value length is less than 2.\u001b[0m\n",
      "\u001b[33m[W 2022-02-15 20:57:43,122]\u001b[0m Param seed unique value length is less than 2.\u001b[0m\n",
      "\u001b[33m[W 2022-02-15 20:57:43,146]\u001b[0m Param seed unique value length is less than 2.\u001b[0m\n",
      "\u001b[33m[W 2022-02-15 20:57:43,170]\u001b[0m Param seed unique value length is less than 2.\u001b[0m\n",
      "\u001b[33m[W 2022-02-15 20:57:43,195]\u001b[0m Param seed unique value length is less than 2.\u001b[0m\n",
      "\u001b[33m[W 2022-02-15 20:57:43,229]\u001b[0m Param seed unique value length is less than 2.\u001b[0m\n",
      "\u001b[33m[W 2022-02-15 20:57:43,252]\u001b[0m Param seed unique value length is less than 2.\u001b[0m\n",
      "\u001b[33m[W 2022-02-15 20:57:43,277]\u001b[0m Param seed unique value length is less than 2.\u001b[0m\n",
      "\u001b[33m[W 2022-02-15 20:57:43,303]\u001b[0m Param seed unique value length is less than 2.\u001b[0m\n",
      "\u001b[33m[W 2022-02-15 20:57:43,334]\u001b[0m Param seed unique value length is less than 2.\u001b[0m\n",
      "\u001b[33m[W 2022-02-15 20:57:43,374]\u001b[0m Param seed unique value length is less than 2.\u001b[0m\n",
      "\u001b[33m[W 2022-02-15 20:57:43,427]\u001b[0m Param seed unique value length is less than 2.\u001b[0m\n",
      "\u001b[33m[W 2022-02-15 20:57:43,459]\u001b[0m Param steps_epsilon_decay unique value length is less than 2.\u001b[0m\n",
      "\u001b[33m[W 2022-02-15 20:57:43,482]\u001b[0m Param steps_epsilon_decay unique value length is less than 2.\u001b[0m\n",
      "\u001b[33m[W 2022-02-15 20:57:43,508]\u001b[0m Param steps_epsilon_decay unique value length is less than 2.\u001b[0m\n",
      "\u001b[33m[W 2022-02-15 20:57:43,531]\u001b[0m Param steps_epsilon_decay unique value length is less than 2.\u001b[0m\n",
      "\u001b[33m[W 2022-02-15 20:57:43,555]\u001b[0m Param steps_epsilon_decay unique value length is less than 2.\u001b[0m\n",
      "\u001b[33m[W 2022-02-15 20:57:43,581]\u001b[0m Param steps_epsilon_decay unique value length is less than 2.\u001b[0m\n",
      "\u001b[33m[W 2022-02-15 20:57:43,604]\u001b[0m Param steps_epsilon_decay unique value length is less than 2.\u001b[0m\n",
      "\u001b[33m[W 2022-02-15 20:57:43,640]\u001b[0m Param steps_epsilon_decay unique value length is less than 2.\u001b[0m\n",
      "\u001b[33m[W 2022-02-15 20:57:43,667]\u001b[0m Param steps_epsilon_decay unique value length is less than 2.\u001b[0m\n",
      "\u001b[33m[W 2022-02-15 20:57:43,692]\u001b[0m Param steps_epsilon_decay unique value length is less than 2.\u001b[0m\n",
      "\u001b[33m[W 2022-02-15 20:57:43,716]\u001b[0m Param steps_epsilon_decay unique value length is less than 2.\u001b[0m\n",
      "\u001b[33m[W 2022-02-15 20:57:43,742]\u001b[0m Param steps_epsilon_decay unique value length is less than 2.\u001b[0m\n",
      "\u001b[33m[W 2022-02-15 20:57:43,779]\u001b[0m Param steps_epsilon_decay unique value length is less than 2.\u001b[0m\n",
      "\u001b[33m[W 2022-02-15 20:57:43,811]\u001b[0m Param steps_epsilon_decay unique value length is less than 2.\u001b[0m\n"
     ]
    },
    {
     "name": "stdout",
     "output_type": "stream",
     "text": [
      "https://app.neptune.ai/plabartabajo/parametric-q-learning-cart-pole/e/PAR-53\n",
      "Remember to stop your run once you’ve finished logging your metadata (https://docs.neptune.ai/api-reference/run#.stop). It will be stopped automatically only when the notebook kernel/interactive console is terminated.\n",
      "67,586 parameters\n"
     ]
    },
    {
     "name": "stderr",
     "output_type": "stream",
     "text": [
      "100%|█████████████████████████████████████████████████████████████████████████| 500/500 [00:04<00:00, 106.23it/s]\n",
      "100%|████████████████████████████████████████████████████████████████████████| 1000/1000 [00:45<00:00, 21.98it/s]"
     ]
    },
    {
     "name": "stdout",
     "output_type": "stream",
     "text": [
      "Shutting down background jobs, please wait a moment...\n",
      "Done!\n"
     ]
    },
    {
     "name": "stderr",
     "output_type": "stream",
     "text": [
      "\n",
      "Waiting for the remaining 19 operations to synchronize with Neptune. Do not kill this process.\n"
     ]
    },
    {
     "name": "stdout",
     "output_type": "stream",
     "text": [
      "All 19 operations synced, thanks for waiting!\n"
     ]
    },
    {
     "name": "stderr",
     "output_type": "stream",
     "text": [
      "\u001b[32m[I 2022-02-15 20:58:35,880]\u001b[0m Trial 1 finished with value: 175.159 and parameters: {'learning_rate': 0.00792430400805493, 'discount_factor': 0.9, 'batch_size': 16, 'memory_size': 100000, 'freq_steps_train': 128, 'freq_steps_update_target': 10, 'n_steps_warm_up_memory': 5000, 'n_gradient_steps': 16, 'nn_hidden_layers': '[256, 256]', 'max_grad_norm': 100, 'normalize_state': False, 'epsilon_start': 0.9, 'epsilon_end': 0.12528322878186376, 'steps_epsilon_decay': 100000, 'seed': 61323514}. Best is trial 1 with value: 175.159.\u001b[0m\n",
      "\u001b[33m[W 2022-02-15 20:58:46,645]\u001b[0m Param epsilon_start unique value length is less than 2.\u001b[0m\n",
      "\u001b[33m[W 2022-02-15 20:58:46,893]\u001b[0m Param n_steps_warm_up_memory unique value length is less than 2.\u001b[0m\n",
      "\u001b[33m[W 2022-02-15 20:58:46,925]\u001b[0m Param nn_hidden_layers unique value length is less than 2.\u001b[0m\n",
      "\u001b[33m[W 2022-02-15 20:58:46,968]\u001b[0m Param normalize_state unique value length is less than 2.\u001b[0m\n",
      "\u001b[33m[W 2022-02-15 20:58:47,156]\u001b[0m Param epsilon_start unique value length is less than 2.\u001b[0m\n",
      "\u001b[33m[W 2022-02-15 20:58:47,340]\u001b[0m Param n_steps_warm_up_memory unique value length is less than 2.\u001b[0m\n",
      "\u001b[33m[W 2022-02-15 20:58:47,365]\u001b[0m Param nn_hidden_layers unique value length is less than 2.\u001b[0m\n",
      "\u001b[33m[W 2022-02-15 20:58:47,399]\u001b[0m Param normalize_state unique value length is less than 2.\u001b[0m\n",
      "\u001b[33m[W 2022-02-15 20:58:47,554]\u001b[0m Param epsilon_start unique value length is less than 2.\u001b[0m\n",
      "\u001b[33m[W 2022-02-15 20:58:47,740]\u001b[0m Param n_steps_warm_up_memory unique value length is less than 2.\u001b[0m\n",
      "\u001b[33m[W 2022-02-15 20:58:47,764]\u001b[0m Param nn_hidden_layers unique value length is less than 2.\u001b[0m\n",
      "\u001b[33m[W 2022-02-15 20:58:47,801]\u001b[0m Param normalize_state unique value length is less than 2.\u001b[0m\n",
      "\u001b[33m[W 2022-02-15 20:58:47,902]\u001b[0m Param epsilon_start unique value length is less than 2.\u001b[0m\n",
      "\u001b[33m[W 2022-02-15 20:58:47,923]\u001b[0m Param epsilon_start unique value length is less than 2.\u001b[0m\n",
      "\u001b[33m[W 2022-02-15 20:58:47,945]\u001b[0m Param epsilon_start unique value length is less than 2.\u001b[0m\n",
      "\u001b[33m[W 2022-02-15 20:58:47,986]\u001b[0m Param epsilon_start unique value length is less than 2.\u001b[0m\n",
      "\u001b[33m[W 2022-02-15 20:58:48,012]\u001b[0m Param epsilon_start unique value length is less than 2.\u001b[0m\n",
      "\u001b[33m[W 2022-02-15 20:58:48,037]\u001b[0m Param epsilon_start unique value length is less than 2.\u001b[0m\n",
      "\u001b[33m[W 2022-02-15 20:58:48,069]\u001b[0m Param epsilon_start unique value length is less than 2.\u001b[0m\n",
      "\u001b[33m[W 2022-02-15 20:58:48,091]\u001b[0m Param epsilon_start unique value length is less than 2.\u001b[0m\n",
      "\u001b[33m[W 2022-02-15 20:58:48,114]\u001b[0m Param epsilon_start unique value length is less than 2.\u001b[0m\n",
      "\u001b[33m[W 2022-02-15 20:58:48,137]\u001b[0m Param epsilon_start unique value length is less than 2.\u001b[0m\n",
      "\u001b[33m[W 2022-02-15 20:58:48,164]\u001b[0m Param epsilon_start unique value length is less than 2.\u001b[0m\n",
      "\u001b[33m[W 2022-02-15 20:58:48,195]\u001b[0m Param epsilon_start unique value length is less than 2.\u001b[0m\n",
      "\u001b[33m[W 2022-02-15 20:58:48,229]\u001b[0m Param epsilon_start unique value length is less than 2.\u001b[0m\n",
      "\u001b[33m[W 2022-02-15 20:58:48,251]\u001b[0m Param epsilon_start unique value length is less than 2.\u001b[0m\n",
      "\u001b[33m[W 2022-02-15 20:58:48,356]\u001b[0m Param epsilon_start unique value length is less than 2.\u001b[0m\n",
      "\u001b[33m[W 2022-02-15 20:58:48,590]\u001b[0m Param n_steps_warm_up_memory unique value length is less than 2.\u001b[0m\n",
      "\u001b[33m[W 2022-02-15 20:58:48,617]\u001b[0m Param nn_hidden_layers unique value length is less than 2.\u001b[0m\n",
      "\u001b[33m[W 2022-02-15 20:58:48,651]\u001b[0m Param normalize_state unique value length is less than 2.\u001b[0m\n",
      "\u001b[33m[W 2022-02-15 20:58:48,833]\u001b[0m Param epsilon_start unique value length is less than 2.\u001b[0m\n",
      "\u001b[33m[W 2022-02-15 20:58:49,031]\u001b[0m Param n_steps_warm_up_memory unique value length is less than 2.\u001b[0m\n",
      "\u001b[33m[W 2022-02-15 20:58:49,056]\u001b[0m Param nn_hidden_layers unique value length is less than 2.\u001b[0m\n",
      "\u001b[33m[W 2022-02-15 20:58:49,096]\u001b[0m Param normalize_state unique value length is less than 2.\u001b[0m\n",
      "\u001b[33m[W 2022-02-15 20:58:49,309]\u001b[0m Param epsilon_start unique value length is less than 2.\u001b[0m\n",
      "\u001b[33m[W 2022-02-15 20:58:49,568]\u001b[0m Param n_steps_warm_up_memory unique value length is less than 2.\u001b[0m\n",
      "\u001b[33m[W 2022-02-15 20:58:49,602]\u001b[0m Param nn_hidden_layers unique value length is less than 2.\u001b[0m\n",
      "\u001b[33m[W 2022-02-15 20:58:49,648]\u001b[0m Param normalize_state unique value length is less than 2.\u001b[0m\n",
      "\u001b[33m[W 2022-02-15 20:58:49,868]\u001b[0m Param epsilon_start unique value length is less than 2.\u001b[0m\n",
      "\u001b[33m[W 2022-02-15 20:58:50,117]\u001b[0m Param n_steps_warm_up_memory unique value length is less than 2.\u001b[0m\n",
      "\u001b[33m[W 2022-02-15 20:58:50,142]\u001b[0m Param nn_hidden_layers unique value length is less than 2.\u001b[0m\n",
      "\u001b[33m[W 2022-02-15 20:58:50,175]\u001b[0m Param normalize_state unique value length is less than 2.\u001b[0m\n",
      "\u001b[33m[W 2022-02-15 20:58:50,398]\u001b[0m Param epsilon_start unique value length is less than 2.\u001b[0m\n",
      "\u001b[33m[W 2022-02-15 20:58:50,721]\u001b[0m Param n_steps_warm_up_memory unique value length is less than 2.\u001b[0m\n",
      "\u001b[33m[W 2022-02-15 20:58:50,782]\u001b[0m Param nn_hidden_layers unique value length is less than 2.\u001b[0m\n",
      "\u001b[33m[W 2022-02-15 20:58:50,859]\u001b[0m Param normalize_state unique value length is less than 2.\u001b[0m\n",
      "\u001b[33m[W 2022-02-15 20:58:51,161]\u001b[0m Param epsilon_start unique value length is less than 2.\u001b[0m\n",
      "\u001b[33m[W 2022-02-15 20:58:51,391]\u001b[0m Param n_steps_warm_up_memory unique value length is less than 2.\u001b[0m\n",
      "\u001b[33m[W 2022-02-15 20:58:51,417]\u001b[0m Param nn_hidden_layers unique value length is less than 2.\u001b[0m\n",
      "\u001b[33m[W 2022-02-15 20:58:51,453]\u001b[0m Param normalize_state unique value length is less than 2.\u001b[0m\n",
      "\u001b[33m[W 2022-02-15 20:58:51,562]\u001b[0m Param n_steps_warm_up_memory unique value length is less than 2.\u001b[0m\n",
      "\u001b[33m[W 2022-02-15 20:58:51,587]\u001b[0m Param n_steps_warm_up_memory unique value length is less than 2.\u001b[0m\n",
      "\u001b[33m[W 2022-02-15 20:58:51,614]\u001b[0m Param n_steps_warm_up_memory unique value length is less than 2.\u001b[0m\n",
      "\u001b[33m[W 2022-02-15 20:58:51,645]\u001b[0m Param n_steps_warm_up_memory unique value length is less than 2.\u001b[0m\n",
      "\u001b[33m[W 2022-02-15 20:58:51,685]\u001b[0m Param n_steps_warm_up_memory unique value length is less than 2.\u001b[0m\n",
      "\u001b[33m[W 2022-02-15 20:58:51,725]\u001b[0m Param n_steps_warm_up_memory unique value length is less than 2.\u001b[0m\n",
      "\u001b[33m[W 2022-02-15 20:58:51,771]\u001b[0m Param n_steps_warm_up_memory unique value length is less than 2.\u001b[0m\n",
      "\u001b[33m[W 2022-02-15 20:58:51,846]\u001b[0m Param n_steps_warm_up_memory unique value length is less than 2.\u001b[0m\n",
      "\u001b[33m[W 2022-02-15 20:58:51,881]\u001b[0m Param n_steps_warm_up_memory unique value length is less than 2.\u001b[0m\n",
      "\u001b[33m[W 2022-02-15 20:58:51,909]\u001b[0m Param n_steps_warm_up_memory unique value length is less than 2.\u001b[0m\n",
      "\u001b[33m[W 2022-02-15 20:58:51,964]\u001b[0m Param n_steps_warm_up_memory unique value length is less than 2.\u001b[0m\n",
      "\u001b[33m[W 2022-02-15 20:58:52,002]\u001b[0m Param n_steps_warm_up_memory unique value length is less than 2.\u001b[0m\n",
      "\u001b[33m[W 2022-02-15 20:58:52,043]\u001b[0m Param n_steps_warm_up_memory unique value length is less than 2.\u001b[0m\n",
      "\u001b[33m[W 2022-02-15 20:58:52,071]\u001b[0m Param n_steps_warm_up_memory unique value length is less than 2.\u001b[0m\n",
      "\u001b[33m[W 2022-02-15 20:58:52,113]\u001b[0m Param nn_hidden_layers unique value length is less than 2.\u001b[0m\n",
      "\u001b[33m[W 2022-02-15 20:58:52,160]\u001b[0m Param nn_hidden_layers unique value length is less than 2.\u001b[0m\n",
      "\u001b[33m[W 2022-02-15 20:58:52,213]\u001b[0m Param nn_hidden_layers unique value length is less than 2.\u001b[0m\n",
      "\u001b[33m[W 2022-02-15 20:58:52,268]\u001b[0m Param nn_hidden_layers unique value length is less than 2.\u001b[0m\n",
      "\u001b[33m[W 2022-02-15 20:58:52,309]\u001b[0m Param nn_hidden_layers unique value length is less than 2.\u001b[0m\n",
      "\u001b[33m[W 2022-02-15 20:58:52,347]\u001b[0m Param nn_hidden_layers unique value length is less than 2.\u001b[0m\n",
      "\u001b[33m[W 2022-02-15 20:58:52,390]\u001b[0m Param nn_hidden_layers unique value length is less than 2.\u001b[0m\n",
      "\u001b[33m[W 2022-02-15 20:58:52,439]\u001b[0m Param nn_hidden_layers unique value length is less than 2.\u001b[0m\n",
      "\u001b[33m[W 2022-02-15 20:58:52,555]\u001b[0m Param nn_hidden_layers unique value length is less than 2.\u001b[0m\n",
      "\u001b[33m[W 2022-02-15 20:58:52,602]\u001b[0m Param nn_hidden_layers unique value length is less than 2.\u001b[0m\n",
      "\u001b[33m[W 2022-02-15 20:58:52,651]\u001b[0m Param nn_hidden_layers unique value length is less than 2.\u001b[0m\n",
      "\u001b[33m[W 2022-02-15 20:58:52,754]\u001b[0m Param nn_hidden_layers unique value length is less than 2.\u001b[0m\n"
     ]
    },
    {
     "name": "stderr",
     "output_type": "stream",
     "text": [
      "\u001b[33m[W 2022-02-15 20:58:52,809]\u001b[0m Param nn_hidden_layers unique value length is less than 2.\u001b[0m\n",
      "\u001b[33m[W 2022-02-15 20:58:52,855]\u001b[0m Param nn_hidden_layers unique value length is less than 2.\u001b[0m\n",
      "\u001b[33m[W 2022-02-15 20:58:52,914]\u001b[0m Param normalize_state unique value length is less than 2.\u001b[0m\n",
      "\u001b[33m[W 2022-02-15 20:58:52,957]\u001b[0m Param normalize_state unique value length is less than 2.\u001b[0m\n",
      "\u001b[33m[W 2022-02-15 20:58:53,006]\u001b[0m Param normalize_state unique value length is less than 2.\u001b[0m\n",
      "\u001b[33m[W 2022-02-15 20:58:53,055]\u001b[0m Param normalize_state unique value length is less than 2.\u001b[0m\n",
      "\u001b[33m[W 2022-02-15 20:58:53,097]\u001b[0m Param normalize_state unique value length is less than 2.\u001b[0m\n",
      "\u001b[33m[W 2022-02-15 20:58:53,137]\u001b[0m Param normalize_state unique value length is less than 2.\u001b[0m\n",
      "\u001b[33m[W 2022-02-15 20:58:53,175]\u001b[0m Param normalize_state unique value length is less than 2.\u001b[0m\n",
      "\u001b[33m[W 2022-02-15 20:58:53,224]\u001b[0m Param normalize_state unique value length is less than 2.\u001b[0m\n",
      "\u001b[33m[W 2022-02-15 20:58:53,263]\u001b[0m Param normalize_state unique value length is less than 2.\u001b[0m\n",
      "\u001b[33m[W 2022-02-15 20:58:53,302]\u001b[0m Param normalize_state unique value length is less than 2.\u001b[0m\n",
      "\u001b[33m[W 2022-02-15 20:58:53,339]\u001b[0m Param normalize_state unique value length is less than 2.\u001b[0m\n",
      "\u001b[33m[W 2022-02-15 20:58:53,379]\u001b[0m Param normalize_state unique value length is less than 2.\u001b[0m\n",
      "\u001b[33m[W 2022-02-15 20:58:53,472]\u001b[0m Param normalize_state unique value length is less than 2.\u001b[0m\n",
      "\u001b[33m[W 2022-02-15 20:58:53,508]\u001b[0m Param normalize_state unique value length is less than 2.\u001b[0m\n",
      "\u001b[33m[W 2022-02-15 20:58:53,663]\u001b[0m Param epsilon_start unique value length is less than 2.\u001b[0m\n",
      "\u001b[33m[W 2022-02-15 20:58:53,908]\u001b[0m Param n_steps_warm_up_memory unique value length is less than 2.\u001b[0m\n",
      "\u001b[33m[W 2022-02-15 20:58:53,935]\u001b[0m Param nn_hidden_layers unique value length is less than 2.\u001b[0m\n",
      "\u001b[33m[W 2022-02-15 20:58:53,972]\u001b[0m Param normalize_state unique value length is less than 2.\u001b[0m\n",
      "\u001b[33m[W 2022-02-15 20:58:54,170]\u001b[0m Param epsilon_start unique value length is less than 2.\u001b[0m\n",
      "\u001b[33m[W 2022-02-15 20:58:54,381]\u001b[0m Param n_steps_warm_up_memory unique value length is less than 2.\u001b[0m\n",
      "\u001b[33m[W 2022-02-15 20:58:54,408]\u001b[0m Param nn_hidden_layers unique value length is less than 2.\u001b[0m\n",
      "\u001b[33m[W 2022-02-15 20:58:54,447]\u001b[0m Param normalize_state unique value length is less than 2.\u001b[0m\n"
     ]
    },
    {
     "name": "stdout",
     "output_type": "stream",
     "text": [
      "https://app.neptune.ai/plabartabajo/parametric-q-learning-cart-pole/e/PAR-54\n",
      "Remember to stop your run once you’ve finished logging your metadata (https://docs.neptune.ai/api-reference/run#.stop). It will be stopped automatically only when the notebook kernel/interactive console is terminated.\n",
      "67,586 parameters\n"
     ]
    },
    {
     "name": "stderr",
     "output_type": "stream",
     "text": [
      "100%|█████████████████████████████████████████████████████████████████████████| 500/500 [00:04<00:00, 109.34it/s]\n",
      "100%|███████████████████████████████████████████████████████████████████████| 1000/1000 [00:02<00:00, 438.59it/s]"
     ]
    },
    {
     "name": "stdout",
     "output_type": "stream",
     "text": [
      "Shutting down background jobs, please wait a moment...\n",
      "Done!\n"
     ]
    },
    {
     "name": "stderr",
     "output_type": "stream",
     "text": [
      "\n",
      "Waiting for the remaining 19 operations to synchronize with Neptune. Do not kill this process.\n"
     ]
    },
    {
     "name": "stdout",
     "output_type": "stream",
     "text": [
      "All 19 operations synced, thanks for waiting!\n"
     ]
    },
    {
     "name": "stderr",
     "output_type": "stream",
     "text": [
      "\u001b[32m[I 2022-02-15 20:59:05,101]\u001b[0m Trial 2 finished with value: 9.376 and parameters: {'learning_rate': 0.1219008154844694, 'discount_factor': 0.99, 'batch_size': 64, 'memory_size': 100000, 'freq_steps_train': 128, 'freq_steps_update_target': 1000, 'n_steps_warm_up_memory': 5000, 'n_gradient_steps': 16, 'nn_hidden_layers': '[256, 256]', 'max_grad_norm': 100, 'normalize_state': False, 'epsilon_start': 0.9, 'epsilon_end': 0.01254054889919023, 'steps_epsilon_decay': 10000, 'seed': 135762335}. Best is trial 1 with value: 175.159.\u001b[0m\n",
      "\u001b[33m[W 2022-02-15 20:59:15,495]\u001b[0m Param epsilon_start unique value length is less than 2.\u001b[0m\n",
      "\u001b[33m[W 2022-02-15 20:59:15,747]\u001b[0m Param n_steps_warm_up_memory unique value length is less than 2.\u001b[0m\n",
      "\u001b[33m[W 2022-02-15 20:59:15,779]\u001b[0m Param nn_hidden_layers unique value length is less than 2.\u001b[0m\n",
      "\u001b[33m[W 2022-02-15 20:59:15,820]\u001b[0m Param normalize_state unique value length is less than 2.\u001b[0m\n",
      "\u001b[33m[W 2022-02-15 20:59:16,006]\u001b[0m Param epsilon_start unique value length is less than 2.\u001b[0m\n",
      "\u001b[33m[W 2022-02-15 20:59:16,179]\u001b[0m Param n_steps_warm_up_memory unique value length is less than 2.\u001b[0m\n",
      "\u001b[33m[W 2022-02-15 20:59:16,200]\u001b[0m Param nn_hidden_layers unique value length is less than 2.\u001b[0m\n",
      "\u001b[33m[W 2022-02-15 20:59:16,230]\u001b[0m Param normalize_state unique value length is less than 2.\u001b[0m\n",
      "\u001b[33m[W 2022-02-15 20:59:16,387]\u001b[0m Param epsilon_start unique value length is less than 2.\u001b[0m\n",
      "\u001b[33m[W 2022-02-15 20:59:16,567]\u001b[0m Param n_steps_warm_up_memory unique value length is less than 2.\u001b[0m\n",
      "\u001b[33m[W 2022-02-15 20:59:16,589]\u001b[0m Param nn_hidden_layers unique value length is less than 2.\u001b[0m\n",
      "\u001b[33m[W 2022-02-15 20:59:16,621]\u001b[0m Param normalize_state unique value length is less than 2.\u001b[0m\n",
      "\u001b[33m[W 2022-02-15 20:59:16,712]\u001b[0m Param epsilon_start unique value length is less than 2.\u001b[0m\n",
      "\u001b[33m[W 2022-02-15 20:59:16,735]\u001b[0m Param epsilon_start unique value length is less than 2.\u001b[0m\n",
      "\u001b[33m[W 2022-02-15 20:59:16,759]\u001b[0m Param epsilon_start unique value length is less than 2.\u001b[0m\n",
      "\u001b[33m[W 2022-02-15 20:59:16,799]\u001b[0m Param epsilon_start unique value length is less than 2.\u001b[0m\n",
      "\u001b[33m[W 2022-02-15 20:59:16,822]\u001b[0m Param epsilon_start unique value length is less than 2.\u001b[0m\n",
      "\u001b[33m[W 2022-02-15 20:59:16,845]\u001b[0m Param epsilon_start unique value length is less than 2.\u001b[0m\n",
      "\u001b[33m[W 2022-02-15 20:59:16,876]\u001b[0m Param epsilon_start unique value length is less than 2.\u001b[0m\n",
      "\u001b[33m[W 2022-02-15 20:59:16,898]\u001b[0m Param epsilon_start unique value length is less than 2.\u001b[0m\n",
      "\u001b[33m[W 2022-02-15 20:59:16,919]\u001b[0m Param epsilon_start unique value length is less than 2.\u001b[0m\n",
      "\u001b[33m[W 2022-02-15 20:59:16,940]\u001b[0m Param epsilon_start unique value length is less than 2.\u001b[0m\n",
      "\u001b[33m[W 2022-02-15 20:59:16,961]\u001b[0m Param epsilon_start unique value length is less than 2.\u001b[0m\n",
      "\u001b[33m[W 2022-02-15 20:59:16,991]\u001b[0m Param epsilon_start unique value length is less than 2.\u001b[0m\n",
      "\u001b[33m[W 2022-02-15 20:59:17,021]\u001b[0m Param epsilon_start unique value length is less than 2.\u001b[0m\n",
      "\u001b[33m[W 2022-02-15 20:59:17,043]\u001b[0m Param epsilon_start unique value length is less than 2.\u001b[0m\n",
      "\u001b[33m[W 2022-02-15 20:59:17,144]\u001b[0m Param epsilon_start unique value length is less than 2.\u001b[0m\n",
      "\u001b[33m[W 2022-02-15 20:59:17,306]\u001b[0m Param n_steps_warm_up_memory unique value length is less than 2.\u001b[0m\n",
      "\u001b[33m[W 2022-02-15 20:59:17,327]\u001b[0m Param nn_hidden_layers unique value length is less than 2.\u001b[0m\n",
      "\u001b[33m[W 2022-02-15 20:59:17,356]\u001b[0m Param normalize_state unique value length is less than 2.\u001b[0m\n",
      "\u001b[33m[W 2022-02-15 20:59:17,511]\u001b[0m Param epsilon_start unique value length is less than 2.\u001b[0m\n",
      "\u001b[33m[W 2022-02-15 20:59:17,674]\u001b[0m Param n_steps_warm_up_memory unique value length is less than 2.\u001b[0m\n",
      "\u001b[33m[W 2022-02-15 20:59:17,695]\u001b[0m Param nn_hidden_layers unique value length is less than 2.\u001b[0m\n",
      "\u001b[33m[W 2022-02-15 20:59:17,726]\u001b[0m Param normalize_state unique value length is less than 2.\u001b[0m\n",
      "\u001b[33m[W 2022-02-15 20:59:17,907]\u001b[0m Param epsilon_start unique value length is less than 2.\u001b[0m\n",
      "\u001b[33m[W 2022-02-15 20:59:18,134]\u001b[0m Param n_steps_warm_up_memory unique value length is less than 2.\u001b[0m\n",
      "\u001b[33m[W 2022-02-15 20:59:18,163]\u001b[0m Param nn_hidden_layers unique value length is less than 2.\u001b[0m\n",
      "\u001b[33m[W 2022-02-15 20:59:18,201]\u001b[0m Param normalize_state unique value length is less than 2.\u001b[0m\n",
      "\u001b[33m[W 2022-02-15 20:59:18,377]\u001b[0m Param epsilon_start unique value length is less than 2.\u001b[0m\n",
      "\u001b[33m[W 2022-02-15 20:59:18,533]\u001b[0m Param n_steps_warm_up_memory unique value length is less than 2.\u001b[0m\n",
      "\u001b[33m[W 2022-02-15 20:59:18,553]\u001b[0m Param nn_hidden_layers unique value length is less than 2.\u001b[0m\n",
      "\u001b[33m[W 2022-02-15 20:59:18,582]\u001b[0m Param normalize_state unique value length is less than 2.\u001b[0m\n",
      "\u001b[33m[W 2022-02-15 20:59:18,734]\u001b[0m Param epsilon_start unique value length is less than 2.\u001b[0m\n",
      "\u001b[33m[W 2022-02-15 20:59:18,890]\u001b[0m Param n_steps_warm_up_memory unique value length is less than 2.\u001b[0m\n",
      "\u001b[33m[W 2022-02-15 20:59:18,911]\u001b[0m Param nn_hidden_layers unique value length is less than 2.\u001b[0m\n",
      "\u001b[33m[W 2022-02-15 20:59:18,939]\u001b[0m Param normalize_state unique value length is less than 2.\u001b[0m\n",
      "\u001b[33m[W 2022-02-15 20:59:19,087]\u001b[0m Param epsilon_start unique value length is less than 2.\u001b[0m\n",
      "\u001b[33m[W 2022-02-15 20:59:19,364]\u001b[0m Param n_steps_warm_up_memory unique value length is less than 2.\u001b[0m\n",
      "\u001b[33m[W 2022-02-15 20:59:19,387]\u001b[0m Param nn_hidden_layers unique value length is less than 2.\u001b[0m\n",
      "\u001b[33m[W 2022-02-15 20:59:19,418]\u001b[0m Param normalize_state unique value length is less than 2.\u001b[0m\n",
      "\u001b[33m[W 2022-02-15 20:59:19,525]\u001b[0m Param n_steps_warm_up_memory unique value length is less than 2.\u001b[0m\n",
      "\u001b[33m[W 2022-02-15 20:59:19,548]\u001b[0m Param n_steps_warm_up_memory unique value length is less than 2.\u001b[0m\n",
      "\u001b[33m[W 2022-02-15 20:59:19,574]\u001b[0m Param n_steps_warm_up_memory unique value length is less than 2.\u001b[0m\n",
      "\u001b[33m[W 2022-02-15 20:59:19,602]\u001b[0m Param n_steps_warm_up_memory unique value length is less than 2.\u001b[0m\n",
      "\u001b[33m[W 2022-02-15 20:59:19,637]\u001b[0m Param n_steps_warm_up_memory unique value length is less than 2.\u001b[0m\n",
      "\u001b[33m[W 2022-02-15 20:59:19,666]\u001b[0m Param n_steps_warm_up_memory unique value length is less than 2.\u001b[0m\n",
      "\u001b[33m[W 2022-02-15 20:59:19,710]\u001b[0m Param n_steps_warm_up_memory unique value length is less than 2.\u001b[0m\n",
      "\u001b[33m[W 2022-02-15 20:59:19,820]\u001b[0m Param n_steps_warm_up_memory unique value length is less than 2.\u001b[0m\n",
      "\u001b[33m[W 2022-02-15 20:59:19,867]\u001b[0m Param n_steps_warm_up_memory unique value length is less than 2.\u001b[0m\n",
      "\u001b[33m[W 2022-02-15 20:59:19,925]\u001b[0m Param n_steps_warm_up_memory unique value length is less than 2.\u001b[0m\n",
      "\u001b[33m[W 2022-02-15 20:59:20,010]\u001b[0m Param n_steps_warm_up_memory unique value length is less than 2.\u001b[0m\n",
      "\u001b[33m[W 2022-02-15 20:59:20,062]\u001b[0m Param n_steps_warm_up_memory unique value length is less than 2.\u001b[0m\n",
      "\u001b[33m[W 2022-02-15 20:59:20,112]\u001b[0m Param n_steps_warm_up_memory unique value length is less than 2.\u001b[0m\n",
      "\u001b[33m[W 2022-02-15 20:59:20,147]\u001b[0m Param n_steps_warm_up_memory unique value length is less than 2.\u001b[0m\n",
      "\u001b[33m[W 2022-02-15 20:59:20,196]\u001b[0m Param nn_hidden_layers unique value length is less than 2.\u001b[0m\n",
      "\u001b[33m[W 2022-02-15 20:59:20,246]\u001b[0m Param nn_hidden_layers unique value length is less than 2.\u001b[0m\n",
      "\u001b[33m[W 2022-02-15 20:59:20,300]\u001b[0m Param nn_hidden_layers unique value length is less than 2.\u001b[0m\n",
      "\u001b[33m[W 2022-02-15 20:59:20,343]\u001b[0m Param nn_hidden_layers unique value length is less than 2.\u001b[0m\n",
      "\u001b[33m[W 2022-02-15 20:59:20,386]\u001b[0m Param nn_hidden_layers unique value length is less than 2.\u001b[0m\n",
      "\u001b[33m[W 2022-02-15 20:59:20,424]\u001b[0m Param nn_hidden_layers unique value length is less than 2.\u001b[0m\n",
      "\u001b[33m[W 2022-02-15 20:59:20,477]\u001b[0m Param nn_hidden_layers unique value length is less than 2.\u001b[0m\n",
      "\u001b[33m[W 2022-02-15 20:59:20,553]\u001b[0m Param nn_hidden_layers unique value length is less than 2.\u001b[0m\n",
      "\u001b[33m[W 2022-02-15 20:59:20,602]\u001b[0m Param nn_hidden_layers unique value length is less than 2.\u001b[0m\n",
      "\u001b[33m[W 2022-02-15 20:59:20,657]\u001b[0m Param nn_hidden_layers unique value length is less than 2.\u001b[0m\n",
      "\u001b[33m[W 2022-02-15 20:59:20,698]\u001b[0m Param nn_hidden_layers unique value length is less than 2.\u001b[0m\n",
      "\u001b[33m[W 2022-02-15 20:59:20,851]\u001b[0m Param nn_hidden_layers unique value length is less than 2.\u001b[0m\n"
     ]
    },
    {
     "name": "stderr",
     "output_type": "stream",
     "text": [
      "\u001b[33m[W 2022-02-15 20:59:20,895]\u001b[0m Param nn_hidden_layers unique value length is less than 2.\u001b[0m\n",
      "\u001b[33m[W 2022-02-15 20:59:20,931]\u001b[0m Param nn_hidden_layers unique value length is less than 2.\u001b[0m\n",
      "\u001b[33m[W 2022-02-15 20:59:20,977]\u001b[0m Param normalize_state unique value length is less than 2.\u001b[0m\n",
      "\u001b[33m[W 2022-02-15 20:59:21,015]\u001b[0m Param normalize_state unique value length is less than 2.\u001b[0m\n",
      "\u001b[33m[W 2022-02-15 20:59:21,049]\u001b[0m Param normalize_state unique value length is less than 2.\u001b[0m\n",
      "\u001b[33m[W 2022-02-15 20:59:21,084]\u001b[0m Param normalize_state unique value length is less than 2.\u001b[0m\n",
      "\u001b[33m[W 2022-02-15 20:59:21,121]\u001b[0m Param normalize_state unique value length is less than 2.\u001b[0m\n",
      "\u001b[33m[W 2022-02-15 20:59:21,169]\u001b[0m Param normalize_state unique value length is less than 2.\u001b[0m\n",
      "\u001b[33m[W 2022-02-15 20:59:21,212]\u001b[0m Param normalize_state unique value length is less than 2.\u001b[0m\n",
      "\u001b[33m[W 2022-02-15 20:59:21,269]\u001b[0m Param normalize_state unique value length is less than 2.\u001b[0m\n",
      "\u001b[33m[W 2022-02-15 20:59:21,316]\u001b[0m Param normalize_state unique value length is less than 2.\u001b[0m\n",
      "\u001b[33m[W 2022-02-15 20:59:21,363]\u001b[0m Param normalize_state unique value length is less than 2.\u001b[0m\n",
      "\u001b[33m[W 2022-02-15 20:59:21,403]\u001b[0m Param normalize_state unique value length is less than 2.\u001b[0m\n",
      "\u001b[33m[W 2022-02-15 20:59:21,440]\u001b[0m Param normalize_state unique value length is less than 2.\u001b[0m\n",
      "\u001b[33m[W 2022-02-15 20:59:21,531]\u001b[0m Param normalize_state unique value length is less than 2.\u001b[0m\n",
      "\u001b[33m[W 2022-02-15 20:59:21,566]\u001b[0m Param normalize_state unique value length is less than 2.\u001b[0m\n",
      "\u001b[33m[W 2022-02-15 20:59:21,718]\u001b[0m Param epsilon_start unique value length is less than 2.\u001b[0m\n",
      "\u001b[33m[W 2022-02-15 20:59:21,951]\u001b[0m Param n_steps_warm_up_memory unique value length is less than 2.\u001b[0m\n",
      "\u001b[33m[W 2022-02-15 20:59:21,977]\u001b[0m Param nn_hidden_layers unique value length is less than 2.\u001b[0m\n",
      "\u001b[33m[W 2022-02-15 20:59:22,016]\u001b[0m Param normalize_state unique value length is less than 2.\u001b[0m\n",
      "\u001b[33m[W 2022-02-15 20:59:22,231]\u001b[0m Param epsilon_start unique value length is less than 2.\u001b[0m\n",
      "\u001b[33m[W 2022-02-15 20:59:22,454]\u001b[0m Param n_steps_warm_up_memory unique value length is less than 2.\u001b[0m\n",
      "\u001b[33m[W 2022-02-15 20:59:22,488]\u001b[0m Param nn_hidden_layers unique value length is less than 2.\u001b[0m\n",
      "\u001b[33m[W 2022-02-15 20:59:22,531]\u001b[0m Param normalize_state unique value length is less than 2.\u001b[0m\n"
     ]
    },
    {
     "name": "stdout",
     "output_type": "stream",
     "text": [
      "https://app.neptune.ai/plabartabajo/parametric-q-learning-cart-pole/e/PAR-55\n",
      "Remember to stop your run once you’ve finished logging your metadata (https://docs.neptune.ai/api-reference/run#.stop). It will be stopped automatically only when the notebook kernel/interactive console is terminated.\n",
      "67,586 parameters\n"
     ]
    },
    {
     "name": "stderr",
     "output_type": "stream",
     "text": [
      "100%|█████████████████████████████████████████████████████████████████████████| 500/500 [00:02<00:00, 224.71it/s]\n",
      "100%|███████████████████████████████████████████████████████████████████████| 1000/1000 [00:02<00:00, 336.60it/s]"
     ]
    },
    {
     "name": "stdout",
     "output_type": "stream",
     "text": [
      "Shutting down background jobs, please wait a moment...\n",
      "Done!\n"
     ]
    },
    {
     "name": "stderr",
     "output_type": "stream",
     "text": [
      "\n",
      "Waiting for the remaining 43 operations to synchronize with Neptune. Do not kill this process.\n"
     ]
    },
    {
     "name": "stdout",
     "output_type": "stream",
     "text": [
      "All 43 operations synced, thanks for waiting!\n"
     ]
    },
    {
     "name": "stderr",
     "output_type": "stream",
     "text": [
      "\u001b[32m[I 2022-02-15 20:59:31,399]\u001b[0m Trial 3 finished with value: 9.401 and parameters: {'learning_rate': 0.14112716889048574, 'discount_factor': 0.99, 'batch_size': 64, 'memory_size': 10000, 'freq_steps_train': 256, 'freq_steps_update_target': 1000, 'n_steps_warm_up_memory': 5000, 'n_gradient_steps': 1, 'nn_hidden_layers': '[256, 256]', 'max_grad_norm': 100, 'normalize_state': False, 'epsilon_start': 0.9, 'epsilon_end': 0.1995740952439778, 'steps_epsilon_decay': 1000, 'seed': 47644304}. Best is trial 1 with value: 175.159.\u001b[0m\n",
      "\u001b[33m[W 2022-02-15 20:59:44,024]\u001b[0m Param epsilon_start unique value length is less than 2.\u001b[0m\n",
      "\u001b[33m[W 2022-02-15 20:59:44,342]\u001b[0m Param n_steps_warm_up_memory unique value length is less than 2.\u001b[0m\n",
      "\u001b[33m[W 2022-02-15 20:59:44,386]\u001b[0m Param nn_hidden_layers unique value length is less than 2.\u001b[0m\n",
      "\u001b[33m[W 2022-02-15 20:59:44,440]\u001b[0m Param normalize_state unique value length is less than 2.\u001b[0m\n",
      "\u001b[33m[W 2022-02-15 20:59:44,676]\u001b[0m Param epsilon_start unique value length is less than 2.\u001b[0m\n",
      "\u001b[33m[W 2022-02-15 20:59:44,894]\u001b[0m Param n_steps_warm_up_memory unique value length is less than 2.\u001b[0m\n",
      "\u001b[33m[W 2022-02-15 20:59:44,921]\u001b[0m Param nn_hidden_layers unique value length is less than 2.\u001b[0m\n",
      "\u001b[33m[W 2022-02-15 20:59:44,958]\u001b[0m Param normalize_state unique value length is less than 2.\u001b[0m\n",
      "\u001b[33m[W 2022-02-15 20:59:45,152]\u001b[0m Param epsilon_start unique value length is less than 2.\u001b[0m\n",
      "\u001b[33m[W 2022-02-15 20:59:45,374]\u001b[0m Param n_steps_warm_up_memory unique value length is less than 2.\u001b[0m\n",
      "\u001b[33m[W 2022-02-15 20:59:45,403]\u001b[0m Param nn_hidden_layers unique value length is less than 2.\u001b[0m\n",
      "\u001b[33m[W 2022-02-15 20:59:45,442]\u001b[0m Param normalize_state unique value length is less than 2.\u001b[0m\n",
      "\u001b[33m[W 2022-02-15 20:59:45,556]\u001b[0m Param epsilon_start unique value length is less than 2.\u001b[0m\n",
      "\u001b[33m[W 2022-02-15 20:59:45,582]\u001b[0m Param epsilon_start unique value length is less than 2.\u001b[0m\n",
      "\u001b[33m[W 2022-02-15 20:59:45,608]\u001b[0m Param epsilon_start unique value length is less than 2.\u001b[0m\n",
      "\u001b[33m[W 2022-02-15 20:59:45,659]\u001b[0m Param epsilon_start unique value length is less than 2.\u001b[0m\n",
      "\u001b[33m[W 2022-02-15 20:59:45,687]\u001b[0m Param epsilon_start unique value length is less than 2.\u001b[0m\n",
      "\u001b[33m[W 2022-02-15 20:59:45,713]\u001b[0m Param epsilon_start unique value length is less than 2.\u001b[0m\n",
      "\u001b[33m[W 2022-02-15 20:59:45,753]\u001b[0m Param epsilon_start unique value length is less than 2.\u001b[0m\n",
      "\u001b[33m[W 2022-02-15 20:59:45,780]\u001b[0m Param epsilon_start unique value length is less than 2.\u001b[0m\n",
      "\u001b[33m[W 2022-02-15 20:59:45,808]\u001b[0m Param epsilon_start unique value length is less than 2.\u001b[0m\n",
      "\u001b[33m[W 2022-02-15 20:59:45,837]\u001b[0m Param epsilon_start unique value length is less than 2.\u001b[0m\n",
      "\u001b[33m[W 2022-02-15 20:59:45,863]\u001b[0m Param epsilon_start unique value length is less than 2.\u001b[0m\n",
      "\u001b[33m[W 2022-02-15 20:59:45,905]\u001b[0m Param epsilon_start unique value length is less than 2.\u001b[0m\n",
      "\u001b[33m[W 2022-02-15 20:59:45,943]\u001b[0m Param epsilon_start unique value length is less than 2.\u001b[0m\n",
      "\u001b[33m[W 2022-02-15 20:59:45,976]\u001b[0m Param epsilon_start unique value length is less than 2.\u001b[0m\n",
      "\u001b[33m[W 2022-02-15 20:59:46,106]\u001b[0m Param epsilon_start unique value length is less than 2.\u001b[0m\n",
      "\u001b[33m[W 2022-02-15 20:59:46,312]\u001b[0m Param n_steps_warm_up_memory unique value length is less than 2.\u001b[0m\n",
      "\u001b[33m[W 2022-02-15 20:59:46,339]\u001b[0m Param nn_hidden_layers unique value length is less than 2.\u001b[0m\n",
      "\u001b[33m[W 2022-02-15 20:59:46,376]\u001b[0m Param normalize_state unique value length is less than 2.\u001b[0m\n",
      "\u001b[33m[W 2022-02-15 20:59:46,578]\u001b[0m Param epsilon_start unique value length is less than 2.\u001b[0m\n",
      "\u001b[33m[W 2022-02-15 20:59:46,780]\u001b[0m Param n_steps_warm_up_memory unique value length is less than 2.\u001b[0m\n",
      "\u001b[33m[W 2022-02-15 20:59:46,806]\u001b[0m Param nn_hidden_layers unique value length is less than 2.\u001b[0m\n",
      "\u001b[33m[W 2022-02-15 20:59:46,842]\u001b[0m Param normalize_state unique value length is less than 2.\u001b[0m\n",
      "\u001b[33m[W 2022-02-15 20:59:47,071]\u001b[0m Param epsilon_start unique value length is less than 2.\u001b[0m\n",
      "\u001b[33m[W 2022-02-15 20:59:47,355]\u001b[0m Param n_steps_warm_up_memory unique value length is less than 2.\u001b[0m\n",
      "\u001b[33m[W 2022-02-15 20:59:47,393]\u001b[0m Param nn_hidden_layers unique value length is less than 2.\u001b[0m\n",
      "\u001b[33m[W 2022-02-15 20:59:47,443]\u001b[0m Param normalize_state unique value length is less than 2.\u001b[0m\n",
      "\u001b[33m[W 2022-02-15 20:59:47,668]\u001b[0m Param epsilon_start unique value length is less than 2.\u001b[0m\n",
      "\u001b[33m[W 2022-02-15 20:59:47,864]\u001b[0m Param n_steps_warm_up_memory unique value length is less than 2.\u001b[0m\n",
      "\u001b[33m[W 2022-02-15 20:59:47,891]\u001b[0m Param nn_hidden_layers unique value length is less than 2.\u001b[0m\n",
      "\u001b[33m[W 2022-02-15 20:59:47,927]\u001b[0m Param normalize_state unique value length is less than 2.\u001b[0m\n",
      "\u001b[33m[W 2022-02-15 20:59:48,122]\u001b[0m Param epsilon_start unique value length is less than 2.\u001b[0m\n",
      "\u001b[33m[W 2022-02-15 20:59:48,321]\u001b[0m Param n_steps_warm_up_memory unique value length is less than 2.\u001b[0m\n",
      "\u001b[33m[W 2022-02-15 20:59:48,344]\u001b[0m Param nn_hidden_layers unique value length is less than 2.\u001b[0m\n",
      "\u001b[33m[W 2022-02-15 20:59:48,383]\u001b[0m Param normalize_state unique value length is less than 2.\u001b[0m\n",
      "\u001b[33m[W 2022-02-15 20:59:48,575]\u001b[0m Param epsilon_start unique value length is less than 2.\u001b[0m\n",
      "\u001b[33m[W 2022-02-15 20:59:48,801]\u001b[0m Param n_steps_warm_up_memory unique value length is less than 2.\u001b[0m\n",
      "\u001b[33m[W 2022-02-15 20:59:48,826]\u001b[0m Param nn_hidden_layers unique value length is less than 2.\u001b[0m\n",
      "\u001b[33m[W 2022-02-15 20:59:48,863]\u001b[0m Param normalize_state unique value length is less than 2.\u001b[0m\n",
      "\u001b[33m[W 2022-02-15 20:59:48,971]\u001b[0m Param n_steps_warm_up_memory unique value length is less than 2.\u001b[0m\n",
      "\u001b[33m[W 2022-02-15 20:59:48,996]\u001b[0m Param n_steps_warm_up_memory unique value length is less than 2.\u001b[0m\n",
      "\u001b[33m[W 2022-02-15 20:59:49,022]\u001b[0m Param n_steps_warm_up_memory unique value length is less than 2.\u001b[0m\n",
      "\u001b[33m[W 2022-02-15 20:59:49,047]\u001b[0m Param n_steps_warm_up_memory unique value length is less than 2.\u001b[0m\n",
      "\u001b[33m[W 2022-02-15 20:59:49,074]\u001b[0m Param n_steps_warm_up_memory unique value length is less than 2.\u001b[0m\n",
      "\u001b[33m[W 2022-02-15 20:59:49,100]\u001b[0m Param n_steps_warm_up_memory unique value length is less than 2.\u001b[0m\n",
      "\u001b[33m[W 2022-02-15 20:59:49,127]\u001b[0m Param n_steps_warm_up_memory unique value length is less than 2.\u001b[0m\n",
      "\u001b[33m[W 2022-02-15 20:59:49,211]\u001b[0m Param n_steps_warm_up_memory unique value length is less than 2.\u001b[0m\n",
      "\u001b[33m[W 2022-02-15 20:59:49,239]\u001b[0m Param n_steps_warm_up_memory unique value length is less than 2.\u001b[0m\n",
      "\u001b[33m[W 2022-02-15 20:59:49,268]\u001b[0m Param n_steps_warm_up_memory unique value length is less than 2.\u001b[0m\n",
      "\u001b[33m[W 2022-02-15 20:59:49,315]\u001b[0m Param n_steps_warm_up_memory unique value length is less than 2.\u001b[0m\n",
      "\u001b[33m[W 2022-02-15 20:59:49,353]\u001b[0m Param n_steps_warm_up_memory unique value length is less than 2.\u001b[0m\n",
      "\u001b[33m[W 2022-02-15 20:59:49,389]\u001b[0m Param n_steps_warm_up_memory unique value length is less than 2.\u001b[0m\n",
      "\u001b[33m[W 2022-02-15 20:59:49,414]\u001b[0m Param n_steps_warm_up_memory unique value length is less than 2.\u001b[0m\n",
      "\u001b[33m[W 2022-02-15 20:59:49,454]\u001b[0m Param nn_hidden_layers unique value length is less than 2.\u001b[0m\n",
      "\u001b[33m[W 2022-02-15 20:59:49,489]\u001b[0m Param nn_hidden_layers unique value length is less than 2.\u001b[0m\n",
      "\u001b[33m[W 2022-02-15 20:59:49,525]\u001b[0m Param nn_hidden_layers unique value length is less than 2.\u001b[0m\n",
      "\u001b[33m[W 2022-02-15 20:59:49,562]\u001b[0m Param nn_hidden_layers unique value length is less than 2.\u001b[0m\n",
      "\u001b[33m[W 2022-02-15 20:59:49,601]\u001b[0m Param nn_hidden_layers unique value length is less than 2.\u001b[0m\n",
      "\u001b[33m[W 2022-02-15 20:59:49,638]\u001b[0m Param nn_hidden_layers unique value length is less than 2.\u001b[0m\n",
      "\u001b[33m[W 2022-02-15 20:59:49,674]\u001b[0m Param nn_hidden_layers unique value length is less than 2.\u001b[0m\n",
      "\u001b[33m[W 2022-02-15 20:59:49,720]\u001b[0m Param nn_hidden_layers unique value length is less than 2.\u001b[0m\n",
      "\u001b[33m[W 2022-02-15 20:59:49,757]\u001b[0m Param nn_hidden_layers unique value length is less than 2.\u001b[0m\n",
      "\u001b[33m[W 2022-02-15 20:59:49,792]\u001b[0m Param nn_hidden_layers unique value length is less than 2.\u001b[0m\n",
      "\u001b[33m[W 2022-02-15 20:59:49,827]\u001b[0m Param nn_hidden_layers unique value length is less than 2.\u001b[0m\n",
      "\u001b[33m[W 2022-02-15 20:59:49,910]\u001b[0m Param nn_hidden_layers unique value length is less than 2.\u001b[0m\n"
     ]
    },
    {
     "name": "stderr",
     "output_type": "stream",
     "text": [
      "\u001b[33m[W 2022-02-15 20:59:49,957]\u001b[0m Param nn_hidden_layers unique value length is less than 2.\u001b[0m\n",
      "\u001b[33m[W 2022-02-15 20:59:49,994]\u001b[0m Param nn_hidden_layers unique value length is less than 2.\u001b[0m\n",
      "\u001b[33m[W 2022-02-15 20:59:50,043]\u001b[0m Param normalize_state unique value length is less than 2.\u001b[0m\n",
      "\u001b[33m[W 2022-02-15 20:59:50,080]\u001b[0m Param normalize_state unique value length is less than 2.\u001b[0m\n",
      "\u001b[33m[W 2022-02-15 20:59:50,116]\u001b[0m Param normalize_state unique value length is less than 2.\u001b[0m\n",
      "\u001b[33m[W 2022-02-15 20:59:50,153]\u001b[0m Param normalize_state unique value length is less than 2.\u001b[0m\n",
      "\u001b[33m[W 2022-02-15 20:59:50,189]\u001b[0m Param normalize_state unique value length is less than 2.\u001b[0m\n",
      "\u001b[33m[W 2022-02-15 20:59:50,223]\u001b[0m Param normalize_state unique value length is less than 2.\u001b[0m\n",
      "\u001b[33m[W 2022-02-15 20:59:50,259]\u001b[0m Param normalize_state unique value length is less than 2.\u001b[0m\n",
      "\u001b[33m[W 2022-02-15 20:59:50,307]\u001b[0m Param normalize_state unique value length is less than 2.\u001b[0m\n",
      "\u001b[33m[W 2022-02-15 20:59:50,344]\u001b[0m Param normalize_state unique value length is less than 2.\u001b[0m\n",
      "\u001b[33m[W 2022-02-15 20:59:50,380]\u001b[0m Param normalize_state unique value length is less than 2.\u001b[0m\n",
      "\u001b[33m[W 2022-02-15 20:59:50,420]\u001b[0m Param normalize_state unique value length is less than 2.\u001b[0m\n",
      "\u001b[33m[W 2022-02-15 20:59:50,456]\u001b[0m Param normalize_state unique value length is less than 2.\u001b[0m\n",
      "\u001b[33m[W 2022-02-15 20:59:50,559]\u001b[0m Param normalize_state unique value length is less than 2.\u001b[0m\n",
      "\u001b[33m[W 2022-02-15 20:59:50,595]\u001b[0m Param normalize_state unique value length is less than 2.\u001b[0m\n",
      "\u001b[33m[W 2022-02-15 20:59:50,731]\u001b[0m Param epsilon_start unique value length is less than 2.\u001b[0m\n",
      "\u001b[33m[W 2022-02-15 20:59:50,935]\u001b[0m Param n_steps_warm_up_memory unique value length is less than 2.\u001b[0m\n",
      "\u001b[33m[W 2022-02-15 20:59:50,960]\u001b[0m Param nn_hidden_layers unique value length is less than 2.\u001b[0m\n",
      "\u001b[33m[W 2022-02-15 20:59:50,997]\u001b[0m Param normalize_state unique value length is less than 2.\u001b[0m\n",
      "\u001b[33m[W 2022-02-15 20:59:51,180]\u001b[0m Param epsilon_start unique value length is less than 2.\u001b[0m\n",
      "\u001b[33m[W 2022-02-15 20:59:51,377]\u001b[0m Param n_steps_warm_up_memory unique value length is less than 2.\u001b[0m\n",
      "\u001b[33m[W 2022-02-15 20:59:51,401]\u001b[0m Param nn_hidden_layers unique value length is less than 2.\u001b[0m\n",
      "\u001b[33m[W 2022-02-15 20:59:51,437]\u001b[0m Param normalize_state unique value length is less than 2.\u001b[0m\n"
     ]
    },
    {
     "name": "stdout",
     "output_type": "stream",
     "text": [
      "https://app.neptune.ai/plabartabajo/parametric-q-learning-cart-pole/e/PAR-56\n",
      "Remember to stop your run once you’ve finished logging your metadata (https://docs.neptune.ai/api-reference/run#.stop). It will be stopped automatically only when the notebook kernel/interactive console is terminated.\n",
      "67,586 parameters\n"
     ]
    },
    {
     "name": "stderr",
     "output_type": "stream",
     "text": [
      "100%|█████████████████████████████████████████████████████████████████████████| 500/500 [00:02<00:00, 178.56it/s]\n",
      "100%|███████████████████████████████████████████████████████████████████████| 1000/1000 [00:03<00:00, 314.07it/s]"
     ]
    },
    {
     "name": "stdout",
     "output_type": "stream",
     "text": [
      "Shutting down background jobs, please wait a moment...\n",
      "Done!\n"
     ]
    },
    {
     "name": "stderr",
     "output_type": "stream",
     "text": [
      "\n",
      "Waiting for the remaining 23 operations to synchronize with Neptune. Do not kill this process.\n"
     ]
    },
    {
     "name": "stdout",
     "output_type": "stream",
     "text": [
      "All 23 operations synced, thanks for waiting!\n"
     ]
    },
    {
     "name": "stderr",
     "output_type": "stream",
     "text": [
      "\u001b[32m[I 2022-02-15 21:00:00,562]\u001b[0m Trial 4 finished with value: 9.402 and parameters: {'learning_rate': 0.21103934616164668, 'discount_factor': 0.9, 'batch_size': 128, 'memory_size': 10000, 'freq_steps_train': 8, 'freq_steps_update_target': 10, 'n_steps_warm_up_memory': 5000, 'n_gradient_steps': 1, 'nn_hidden_layers': '[256, 256]', 'max_grad_norm': 100, 'normalize_state': False, 'epsilon_start': 0.9, 'epsilon_end': 0.030970262167121357, 'steps_epsilon_decay': 1000, 'seed': 217902796}. Best is trial 1 with value: 175.159.\u001b[0m\n",
      "\u001b[33m[W 2022-02-15 21:00:12,522]\u001b[0m Param epsilon_start unique value length is less than 2.\u001b[0m\n",
      "\u001b[33m[W 2022-02-15 21:00:12,768]\u001b[0m Param n_steps_warm_up_memory unique value length is less than 2.\u001b[0m\n",
      "\u001b[33m[W 2022-02-15 21:00:12,799]\u001b[0m Param nn_hidden_layers unique value length is less than 2.\u001b[0m\n",
      "\u001b[33m[W 2022-02-15 21:00:12,837]\u001b[0m Param normalize_state unique value length is less than 2.\u001b[0m\n",
      "\u001b[33m[W 2022-02-15 21:00:13,016]\u001b[0m Param epsilon_start unique value length is less than 2.\u001b[0m\n",
      "\u001b[33m[W 2022-02-15 21:00:13,183]\u001b[0m Param n_steps_warm_up_memory unique value length is less than 2.\u001b[0m\n",
      "\u001b[33m[W 2022-02-15 21:00:13,204]\u001b[0m Param nn_hidden_layers unique value length is less than 2.\u001b[0m\n",
      "\u001b[33m[W 2022-02-15 21:00:13,233]\u001b[0m Param normalize_state unique value length is less than 2.\u001b[0m\n",
      "\u001b[33m[W 2022-02-15 21:00:13,393]\u001b[0m Param epsilon_start unique value length is less than 2.\u001b[0m\n",
      "\u001b[33m[W 2022-02-15 21:00:13,710]\u001b[0m Param n_steps_warm_up_memory unique value length is less than 2.\u001b[0m\n",
      "\u001b[33m[W 2022-02-15 21:00:13,730]\u001b[0m Param nn_hidden_layers unique value length is less than 2.\u001b[0m\n",
      "\u001b[33m[W 2022-02-15 21:00:13,760]\u001b[0m Param normalize_state unique value length is less than 2.\u001b[0m\n",
      "\u001b[33m[W 2022-02-15 21:00:13,862]\u001b[0m Param epsilon_start unique value length is less than 2.\u001b[0m\n",
      "\u001b[33m[W 2022-02-15 21:00:13,886]\u001b[0m Param epsilon_start unique value length is less than 2.\u001b[0m\n",
      "\u001b[33m[W 2022-02-15 21:00:13,911]\u001b[0m Param epsilon_start unique value length is less than 2.\u001b[0m\n",
      "\u001b[33m[W 2022-02-15 21:00:13,954]\u001b[0m Param epsilon_start unique value length is less than 2.\u001b[0m\n",
      "\u001b[33m[W 2022-02-15 21:00:13,975]\u001b[0m Param epsilon_start unique value length is less than 2.\u001b[0m\n",
      "\u001b[33m[W 2022-02-15 21:00:13,996]\u001b[0m Param epsilon_start unique value length is less than 2.\u001b[0m\n",
      "\u001b[33m[W 2022-02-15 21:00:14,027]\u001b[0m Param epsilon_start unique value length is less than 2.\u001b[0m\n",
      "\u001b[33m[W 2022-02-15 21:00:14,048]\u001b[0m Param epsilon_start unique value length is less than 2.\u001b[0m\n",
      "\u001b[33m[W 2022-02-15 21:00:14,069]\u001b[0m Param epsilon_start unique value length is less than 2.\u001b[0m\n",
      "\u001b[33m[W 2022-02-15 21:00:14,091]\u001b[0m Param epsilon_start unique value length is less than 2.\u001b[0m\n",
      "\u001b[33m[W 2022-02-15 21:00:14,111]\u001b[0m Param epsilon_start unique value length is less than 2.\u001b[0m\n",
      "\u001b[33m[W 2022-02-15 21:00:14,140]\u001b[0m Param epsilon_start unique value length is less than 2.\u001b[0m\n",
      "\u001b[33m[W 2022-02-15 21:00:14,170]\u001b[0m Param epsilon_start unique value length is less than 2.\u001b[0m\n",
      "\u001b[33m[W 2022-02-15 21:00:14,190]\u001b[0m Param epsilon_start unique value length is less than 2.\u001b[0m\n",
      "\u001b[33m[W 2022-02-15 21:00:14,291]\u001b[0m Param epsilon_start unique value length is less than 2.\u001b[0m\n",
      "\u001b[33m[W 2022-02-15 21:00:14,455]\u001b[0m Param n_steps_warm_up_memory unique value length is less than 2.\u001b[0m\n",
      "\u001b[33m[W 2022-02-15 21:00:14,475]\u001b[0m Param nn_hidden_layers unique value length is less than 2.\u001b[0m\n",
      "\u001b[33m[W 2022-02-15 21:00:14,505]\u001b[0m Param normalize_state unique value length is less than 2.\u001b[0m\n",
      "\u001b[33m[W 2022-02-15 21:00:14,661]\u001b[0m Param epsilon_start unique value length is less than 2.\u001b[0m\n",
      "\u001b[33m[W 2022-02-15 21:00:14,824]\u001b[0m Param n_steps_warm_up_memory unique value length is less than 2.\u001b[0m\n",
      "\u001b[33m[W 2022-02-15 21:00:14,845]\u001b[0m Param nn_hidden_layers unique value length is less than 2.\u001b[0m\n",
      "\u001b[33m[W 2022-02-15 21:00:14,874]\u001b[0m Param normalize_state unique value length is less than 2.\u001b[0m\n",
      "\u001b[33m[W 2022-02-15 21:00:15,051]\u001b[0m Param epsilon_start unique value length is less than 2.\u001b[0m\n",
      "\u001b[33m[W 2022-02-15 21:00:15,269]\u001b[0m Param n_steps_warm_up_memory unique value length is less than 2.\u001b[0m\n",
      "\u001b[33m[W 2022-02-15 21:00:15,299]\u001b[0m Param nn_hidden_layers unique value length is less than 2.\u001b[0m\n",
      "\u001b[33m[W 2022-02-15 21:00:15,335]\u001b[0m Param normalize_state unique value length is less than 2.\u001b[0m\n",
      "\u001b[33m[W 2022-02-15 21:00:15,510]\u001b[0m Param epsilon_start unique value length is less than 2.\u001b[0m\n",
      "\u001b[33m[W 2022-02-15 21:00:15,669]\u001b[0m Param n_steps_warm_up_memory unique value length is less than 2.\u001b[0m\n",
      "\u001b[33m[W 2022-02-15 21:00:15,690]\u001b[0m Param nn_hidden_layers unique value length is less than 2.\u001b[0m\n",
      "\u001b[33m[W 2022-02-15 21:00:15,718]\u001b[0m Param normalize_state unique value length is less than 2.\u001b[0m\n",
      "\u001b[33m[W 2022-02-15 21:00:15,868]\u001b[0m Param epsilon_start unique value length is less than 2.\u001b[0m\n",
      "\u001b[33m[W 2022-02-15 21:00:16,024]\u001b[0m Param n_steps_warm_up_memory unique value length is less than 2.\u001b[0m\n",
      "\u001b[33m[W 2022-02-15 21:00:16,044]\u001b[0m Param nn_hidden_layers unique value length is less than 2.\u001b[0m\n",
      "\u001b[33m[W 2022-02-15 21:00:16,074]\u001b[0m Param normalize_state unique value length is less than 2.\u001b[0m\n",
      "\u001b[33m[W 2022-02-15 21:00:16,233]\u001b[0m Param epsilon_start unique value length is less than 2.\u001b[0m\n",
      "\u001b[33m[W 2022-02-15 21:00:16,438]\u001b[0m Param n_steps_warm_up_memory unique value length is less than 2.\u001b[0m\n",
      "\u001b[33m[W 2022-02-15 21:00:16,461]\u001b[0m Param nn_hidden_layers unique value length is less than 2.\u001b[0m\n",
      "\u001b[33m[W 2022-02-15 21:00:16,495]\u001b[0m Param normalize_state unique value length is less than 2.\u001b[0m\n",
      "\u001b[33m[W 2022-02-15 21:00:16,585]\u001b[0m Param n_steps_warm_up_memory unique value length is less than 2.\u001b[0m\n",
      "\u001b[33m[W 2022-02-15 21:00:16,606]\u001b[0m Param n_steps_warm_up_memory unique value length is less than 2.\u001b[0m\n",
      "\u001b[33m[W 2022-02-15 21:00:16,629]\u001b[0m Param n_steps_warm_up_memory unique value length is less than 2.\u001b[0m\n",
      "\u001b[33m[W 2022-02-15 21:00:16,650]\u001b[0m Param n_steps_warm_up_memory unique value length is less than 2.\u001b[0m\n",
      "\u001b[33m[W 2022-02-15 21:00:16,671]\u001b[0m Param n_steps_warm_up_memory unique value length is less than 2.\u001b[0m\n",
      "\u001b[33m[W 2022-02-15 21:00:16,692]\u001b[0m Param n_steps_warm_up_memory unique value length is less than 2.\u001b[0m\n",
      "\u001b[33m[W 2022-02-15 21:00:16,713]\u001b[0m Param n_steps_warm_up_memory unique value length is less than 2.\u001b[0m\n",
      "\u001b[33m[W 2022-02-15 21:00:16,745]\u001b[0m Param n_steps_warm_up_memory unique value length is less than 2.\u001b[0m\n",
      "\u001b[33m[W 2022-02-15 21:00:16,765]\u001b[0m Param n_steps_warm_up_memory unique value length is less than 2.\u001b[0m\n",
      "\u001b[33m[W 2022-02-15 21:00:16,785]\u001b[0m Param n_steps_warm_up_memory unique value length is less than 2.\u001b[0m\n",
      "\u001b[33m[W 2022-02-15 21:00:16,823]\u001b[0m Param n_steps_warm_up_memory unique value length is less than 2.\u001b[0m\n",
      "\u001b[33m[W 2022-02-15 21:00:16,894]\u001b[0m Param n_steps_warm_up_memory unique value length is less than 2.\u001b[0m\n",
      "\u001b[33m[W 2022-02-15 21:00:16,923]\u001b[0m Param n_steps_warm_up_memory unique value length is less than 2.\u001b[0m\n",
      "\u001b[33m[W 2022-02-15 21:00:16,945]\u001b[0m Param n_steps_warm_up_memory unique value length is less than 2.\u001b[0m\n",
      "\u001b[33m[W 2022-02-15 21:00:16,973]\u001b[0m Param nn_hidden_layers unique value length is less than 2.\u001b[0m\n",
      "\u001b[33m[W 2022-02-15 21:00:17,001]\u001b[0m Param nn_hidden_layers unique value length is less than 2.\u001b[0m\n",
      "\u001b[33m[W 2022-02-15 21:00:17,031]\u001b[0m Param nn_hidden_layers unique value length is less than 2.\u001b[0m\n",
      "\u001b[33m[W 2022-02-15 21:00:17,060]\u001b[0m Param nn_hidden_layers unique value length is less than 2.\u001b[0m\n",
      "\u001b[33m[W 2022-02-15 21:00:17,089]\u001b[0m Param nn_hidden_layers unique value length is less than 2.\u001b[0m\n",
      "\u001b[33m[W 2022-02-15 21:00:17,123]\u001b[0m Param nn_hidden_layers unique value length is less than 2.\u001b[0m\n",
      "\u001b[33m[W 2022-02-15 21:00:17,160]\u001b[0m Param nn_hidden_layers unique value length is less than 2.\u001b[0m\n",
      "\u001b[33m[W 2022-02-15 21:00:17,218]\u001b[0m Param nn_hidden_layers unique value length is less than 2.\u001b[0m\n",
      "\u001b[33m[W 2022-02-15 21:00:17,260]\u001b[0m Param nn_hidden_layers unique value length is less than 2.\u001b[0m\n",
      "\u001b[33m[W 2022-02-15 21:00:17,299]\u001b[0m Param nn_hidden_layers unique value length is less than 2.\u001b[0m\n",
      "\u001b[33m[W 2022-02-15 21:00:17,338]\u001b[0m Param nn_hidden_layers unique value length is less than 2.\u001b[0m\n",
      "\u001b[33m[W 2022-02-15 21:00:17,423]\u001b[0m Param nn_hidden_layers unique value length is less than 2.\u001b[0m\n"
     ]
    },
    {
     "name": "stderr",
     "output_type": "stream",
     "text": [
      "\u001b[33m[W 2022-02-15 21:00:17,467]\u001b[0m Param nn_hidden_layers unique value length is less than 2.\u001b[0m\n",
      "\u001b[33m[W 2022-02-15 21:00:17,500]\u001b[0m Param nn_hidden_layers unique value length is less than 2.\u001b[0m\n",
      "\u001b[33m[W 2022-02-15 21:00:17,550]\u001b[0m Param normalize_state unique value length is less than 2.\u001b[0m\n",
      "\u001b[33m[W 2022-02-15 21:00:17,590]\u001b[0m Param normalize_state unique value length is less than 2.\u001b[0m\n",
      "\u001b[33m[W 2022-02-15 21:00:17,631]\u001b[0m Param normalize_state unique value length is less than 2.\u001b[0m\n",
      "\u001b[33m[W 2022-02-15 21:00:17,675]\u001b[0m Param normalize_state unique value length is less than 2.\u001b[0m\n",
      "\u001b[33m[W 2022-02-15 21:00:17,715]\u001b[0m Param normalize_state unique value length is less than 2.\u001b[0m\n",
      "\u001b[33m[W 2022-02-15 21:00:17,753]\u001b[0m Param normalize_state unique value length is less than 2.\u001b[0m\n",
      "\u001b[33m[W 2022-02-15 21:00:17,791]\u001b[0m Param normalize_state unique value length is less than 2.\u001b[0m\n",
      "\u001b[33m[W 2022-02-15 21:00:17,841]\u001b[0m Param normalize_state unique value length is less than 2.\u001b[0m\n",
      "\u001b[33m[W 2022-02-15 21:00:17,877]\u001b[0m Param normalize_state unique value length is less than 2.\u001b[0m\n",
      "\u001b[33m[W 2022-02-15 21:00:17,914]\u001b[0m Param normalize_state unique value length is less than 2.\u001b[0m\n",
      "\u001b[33m[W 2022-02-15 21:00:17,950]\u001b[0m Param normalize_state unique value length is less than 2.\u001b[0m\n",
      "\u001b[33m[W 2022-02-15 21:00:17,985]\u001b[0m Param normalize_state unique value length is less than 2.\u001b[0m\n",
      "\u001b[33m[W 2022-02-15 21:00:18,065]\u001b[0m Param normalize_state unique value length is less than 2.\u001b[0m\n",
      "\u001b[33m[W 2022-02-15 21:00:18,096]\u001b[0m Param normalize_state unique value length is less than 2.\u001b[0m\n",
      "\u001b[33m[W 2022-02-15 21:00:18,247]\u001b[0m Param epsilon_start unique value length is less than 2.\u001b[0m\n",
      "\u001b[33m[W 2022-02-15 21:00:18,466]\u001b[0m Param n_steps_warm_up_memory unique value length is less than 2.\u001b[0m\n",
      "\u001b[33m[W 2022-02-15 21:00:18,501]\u001b[0m Param nn_hidden_layers unique value length is less than 2.\u001b[0m\n",
      "\u001b[33m[W 2022-02-15 21:00:18,539]\u001b[0m Param normalize_state unique value length is less than 2.\u001b[0m\n",
      "\u001b[33m[W 2022-02-15 21:00:18,742]\u001b[0m Param epsilon_start unique value length is less than 2.\u001b[0m\n",
      "\u001b[33m[W 2022-02-15 21:00:19,043]\u001b[0m Param n_steps_warm_up_memory unique value length is less than 2.\u001b[0m\n",
      "\u001b[33m[W 2022-02-15 21:00:19,078]\u001b[0m Param nn_hidden_layers unique value length is less than 2.\u001b[0m\n",
      "\u001b[33m[W 2022-02-15 21:00:19,117]\u001b[0m Param normalize_state unique value length is less than 2.\u001b[0m\n"
     ]
    },
    {
     "name": "stdout",
     "output_type": "stream",
     "text": [
      "https://app.neptune.ai/plabartabajo/parametric-q-learning-cart-pole/e/PAR-57\n",
      "Remember to stop your run once you’ve finished logging your metadata (https://docs.neptune.ai/api-reference/run#.stop). It will be stopped automatically only when the notebook kernel/interactive console is terminated.\n",
      "67,586 parameters\n"
     ]
    },
    {
     "name": "stderr",
     "output_type": "stream",
     "text": [
      "100%|█████████████████████████████████████████████████████████████████████████| 500/500 [00:02<00:00, 198.05it/s]\n",
      "100%|███████████████████████████████████████████████████████████████████████| 1000/1000 [00:03<00:00, 303.87it/s]"
     ]
    },
    {
     "name": "stdout",
     "output_type": "stream",
     "text": [
      "Shutting down background jobs, please wait a moment...\n"
     ]
    },
    {
     "name": "stderr",
     "output_type": "stream",
     "text": [
      "\n"
     ]
    },
    {
     "name": "stdout",
     "output_type": "stream",
     "text": [
      "Done!\n"
     ]
    },
    {
     "name": "stderr",
     "output_type": "stream",
     "text": [
      "Waiting for the remaining 34 operations to synchronize with Neptune. Do not kill this process.\n"
     ]
    },
    {
     "name": "stdout",
     "output_type": "stream",
     "text": [
      "All 34 operations synced, thanks for waiting!\n"
     ]
    },
    {
     "name": "stderr",
     "output_type": "stream",
     "text": [
      "\u001b[32m[I 2022-02-15 21:00:28,379]\u001b[0m Trial 5 finished with value: 11.73 and parameters: {'learning_rate': 1.733276458824201e-05, 'discount_factor': 0.9, 'batch_size': 64, 'memory_size': 10000, 'freq_steps_train': 256, 'freq_steps_update_target': 100, 'n_steps_warm_up_memory': 1000, 'n_gradient_steps': 4, 'nn_hidden_layers': '[256, 256]', 'max_grad_norm': 10, 'normalize_state': False, 'epsilon_start': 0.9, 'epsilon_end': 0.18086250236513282, 'steps_epsilon_decay': 100000, 'seed': 327752222}. Best is trial 1 with value: 175.159.\u001b[0m\n",
      "\u001b[33m[W 2022-02-15 21:00:39,125]\u001b[0m Param epsilon_start unique value length is less than 2.\u001b[0m\n",
      "\u001b[33m[W 2022-02-15 21:00:39,509]\u001b[0m Param nn_hidden_layers unique value length is less than 2.\u001b[0m\n",
      "\u001b[33m[W 2022-02-15 21:00:39,562]\u001b[0m Param normalize_state unique value length is less than 2.\u001b[0m\n",
      "\u001b[33m[W 2022-02-15 21:00:39,805]\u001b[0m Param epsilon_start unique value length is less than 2.\u001b[0m\n",
      "\u001b[33m[W 2022-02-15 21:00:40,079]\u001b[0m Param nn_hidden_layers unique value length is less than 2.\u001b[0m\n",
      "\u001b[33m[W 2022-02-15 21:00:40,118]\u001b[0m Param normalize_state unique value length is less than 2.\u001b[0m\n",
      "\u001b[33m[W 2022-02-15 21:00:40,402]\u001b[0m Param epsilon_start unique value length is less than 2.\u001b[0m\n",
      "\u001b[33m[W 2022-02-15 21:00:40,719]\u001b[0m Param nn_hidden_layers unique value length is less than 2.\u001b[0m\n",
      "\u001b[33m[W 2022-02-15 21:00:40,761]\u001b[0m Param normalize_state unique value length is less than 2.\u001b[0m\n",
      "\u001b[33m[W 2022-02-15 21:00:40,898]\u001b[0m Param epsilon_start unique value length is less than 2.\u001b[0m\n",
      "\u001b[33m[W 2022-02-15 21:00:40,941]\u001b[0m Param epsilon_start unique value length is less than 2.\u001b[0m\n",
      "\u001b[33m[W 2022-02-15 21:00:40,990]\u001b[0m Param epsilon_start unique value length is less than 2.\u001b[0m\n",
      "\u001b[33m[W 2022-02-15 21:00:41,055]\u001b[0m Param epsilon_start unique value length is less than 2.\u001b[0m\n",
      "\u001b[33m[W 2022-02-15 21:00:41,085]\u001b[0m Param epsilon_start unique value length is less than 2.\u001b[0m\n",
      "\u001b[33m[W 2022-02-15 21:00:41,116]\u001b[0m Param epsilon_start unique value length is less than 2.\u001b[0m\n",
      "\u001b[33m[W 2022-02-15 21:00:41,160]\u001b[0m Param epsilon_start unique value length is less than 2.\u001b[0m\n",
      "\u001b[33m[W 2022-02-15 21:00:41,189]\u001b[0m Param epsilon_start unique value length is less than 2.\u001b[0m\n",
      "\u001b[33m[W 2022-02-15 21:00:41,216]\u001b[0m Param epsilon_start unique value length is less than 2.\u001b[0m\n",
      "\u001b[33m[W 2022-02-15 21:00:41,246]\u001b[0m Param epsilon_start unique value length is less than 2.\u001b[0m\n",
      "\u001b[33m[W 2022-02-15 21:00:41,275]\u001b[0m Param epsilon_start unique value length is less than 2.\u001b[0m\n",
      "\u001b[33m[W 2022-02-15 21:00:41,315]\u001b[0m Param epsilon_start unique value length is less than 2.\u001b[0m\n",
      "\u001b[33m[W 2022-02-15 21:00:41,355]\u001b[0m Param epsilon_start unique value length is less than 2.\u001b[0m\n",
      "\u001b[33m[W 2022-02-15 21:00:41,383]\u001b[0m Param epsilon_start unique value length is less than 2.\u001b[0m\n",
      "\u001b[33m[W 2022-02-15 21:00:41,526]\u001b[0m Param epsilon_start unique value length is less than 2.\u001b[0m\n",
      "\u001b[33m[W 2022-02-15 21:00:41,764]\u001b[0m Param nn_hidden_layers unique value length is less than 2.\u001b[0m\n",
      "\u001b[33m[W 2022-02-15 21:00:41,800]\u001b[0m Param normalize_state unique value length is less than 2.\u001b[0m\n",
      "\u001b[33m[W 2022-02-15 21:00:41,987]\u001b[0m Param epsilon_start unique value length is less than 2.\u001b[0m\n",
      "\u001b[33m[W 2022-02-15 21:00:42,210]\u001b[0m Param nn_hidden_layers unique value length is less than 2.\u001b[0m\n",
      "\u001b[33m[W 2022-02-15 21:00:42,247]\u001b[0m Param normalize_state unique value length is less than 2.\u001b[0m\n",
      "\u001b[33m[W 2022-02-15 21:00:42,468]\u001b[0m Param epsilon_start unique value length is less than 2.\u001b[0m\n",
      "\u001b[33m[W 2022-02-15 21:00:42,845]\u001b[0m Param nn_hidden_layers unique value length is less than 2.\u001b[0m\n",
      "\u001b[33m[W 2022-02-15 21:00:42,929]\u001b[0m Param normalize_state unique value length is less than 2.\u001b[0m\n",
      "\u001b[33m[W 2022-02-15 21:00:43,182]\u001b[0m Param epsilon_start unique value length is less than 2.\u001b[0m\n",
      "\u001b[33m[W 2022-02-15 21:00:43,878]\u001b[0m Param nn_hidden_layers unique value length is less than 2.\u001b[0m\n",
      "\u001b[33m[W 2022-02-15 21:00:43,978]\u001b[0m Param normalize_state unique value length is less than 2.\u001b[0m\n",
      "\u001b[33m[W 2022-02-15 21:00:44,470]\u001b[0m Param epsilon_start unique value length is less than 2.\u001b[0m\n",
      "\u001b[33m[W 2022-02-15 21:00:44,880]\u001b[0m Param nn_hidden_layers unique value length is less than 2.\u001b[0m\n",
      "\u001b[33m[W 2022-02-15 21:00:44,955]\u001b[0m Param normalize_state unique value length is less than 2.\u001b[0m\n",
      "\u001b[33m[W 2022-02-15 21:00:45,212]\u001b[0m Param epsilon_start unique value length is less than 2.\u001b[0m\n",
      "\u001b[33m[W 2022-02-15 21:00:45,488]\u001b[0m Param nn_hidden_layers unique value length is less than 2.\u001b[0m\n",
      "\u001b[33m[W 2022-02-15 21:00:45,530]\u001b[0m Param normalize_state unique value length is less than 2.\u001b[0m\n",
      "\u001b[33m[W 2022-02-15 21:00:45,786]\u001b[0m Param epsilon_start unique value length is less than 2.\u001b[0m\n",
      "\u001b[33m[W 2022-02-15 21:00:46,091]\u001b[0m Param nn_hidden_layers unique value length is less than 2.\u001b[0m\n",
      "\u001b[33m[W 2022-02-15 21:00:46,138]\u001b[0m Param normalize_state unique value length is less than 2.\u001b[0m\n",
      "\u001b[33m[W 2022-02-15 21:00:46,263]\u001b[0m Param nn_hidden_layers unique value length is less than 2.\u001b[0m\n",
      "\u001b[33m[W 2022-02-15 21:00:46,305]\u001b[0m Param nn_hidden_layers unique value length is less than 2.\u001b[0m\n",
      "\u001b[33m[W 2022-02-15 21:00:46,347]\u001b[0m Param nn_hidden_layers unique value length is less than 2.\u001b[0m\n",
      "\u001b[33m[W 2022-02-15 21:00:46,387]\u001b[0m Param nn_hidden_layers unique value length is less than 2.\u001b[0m\n",
      "\u001b[33m[W 2022-02-15 21:00:46,429]\u001b[0m Param nn_hidden_layers unique value length is less than 2.\u001b[0m\n",
      "\u001b[33m[W 2022-02-15 21:00:46,471]\u001b[0m Param nn_hidden_layers unique value length is less than 2.\u001b[0m\n",
      "\u001b[33m[W 2022-02-15 21:00:46,515]\u001b[0m Param nn_hidden_layers unique value length is less than 2.\u001b[0m\n",
      "\u001b[33m[W 2022-02-15 21:00:46,573]\u001b[0m Param nn_hidden_layers unique value length is less than 2.\u001b[0m\n",
      "\u001b[33m[W 2022-02-15 21:00:46,615]\u001b[0m Param nn_hidden_layers unique value length is less than 2.\u001b[0m\n",
      "\u001b[33m[W 2022-02-15 21:00:46,659]\u001b[0m Param nn_hidden_layers unique value length is less than 2.\u001b[0m\n",
      "\u001b[33m[W 2022-02-15 21:00:46,704]\u001b[0m Param nn_hidden_layers unique value length is less than 2.\u001b[0m\n",
      "\u001b[33m[W 2022-02-15 21:00:46,803]\u001b[0m Param nn_hidden_layers unique value length is less than 2.\u001b[0m\n",
      "\u001b[33m[W 2022-02-15 21:00:46,856]\u001b[0m Param nn_hidden_layers unique value length is less than 2.\u001b[0m\n",
      "\u001b[33m[W 2022-02-15 21:00:46,899]\u001b[0m Param nn_hidden_layers unique value length is less than 2.\u001b[0m\n",
      "\u001b[33m[W 2022-02-15 21:00:46,957]\u001b[0m Param normalize_state unique value length is less than 2.\u001b[0m\n",
      "\u001b[33m[W 2022-02-15 21:00:46,998]\u001b[0m Param normalize_state unique value length is less than 2.\u001b[0m\n",
      "\u001b[33m[W 2022-02-15 21:00:47,040]\u001b[0m Param normalize_state unique value length is less than 2.\u001b[0m\n",
      "\u001b[33m[W 2022-02-15 21:00:47,083]\u001b[0m Param normalize_state unique value length is less than 2.\u001b[0m\n",
      "\u001b[33m[W 2022-02-15 21:00:47,126]\u001b[0m Param normalize_state unique value length is less than 2.\u001b[0m\n",
      "\u001b[33m[W 2022-02-15 21:00:47,168]\u001b[0m Param normalize_state unique value length is less than 2.\u001b[0m\n",
      "\u001b[33m[W 2022-02-15 21:00:47,222]\u001b[0m Param normalize_state unique value length is less than 2.\u001b[0m\n",
      "\u001b[33m[W 2022-02-15 21:00:47,314]\u001b[0m Param normalize_state unique value length is less than 2.\u001b[0m\n",
      "\u001b[33m[W 2022-02-15 21:00:47,365]\u001b[0m Param normalize_state unique value length is less than 2.\u001b[0m\n",
      "\u001b[33m[W 2022-02-15 21:00:47,420]\u001b[0m Param normalize_state unique value length is less than 2.\u001b[0m\n",
      "\u001b[33m[W 2022-02-15 21:00:47,466]\u001b[0m Param normalize_state unique value length is less than 2.\u001b[0m\n",
      "\u001b[33m[W 2022-02-15 21:00:47,511]\u001b[0m Param normalize_state unique value length is less than 2.\u001b[0m\n",
      "\u001b[33m[W 2022-02-15 21:00:47,823]\u001b[0m Param normalize_state unique value length is less than 2.\u001b[0m\n",
      "\u001b[33m[W 2022-02-15 21:00:47,901]\u001b[0m Param normalize_state unique value length is less than 2.\u001b[0m\n",
      "\u001b[33m[W 2022-02-15 21:00:48,200]\u001b[0m Param epsilon_start unique value length is less than 2.\u001b[0m\n",
      "\u001b[33m[W 2022-02-15 21:00:49,166]\u001b[0m Param nn_hidden_layers unique value length is less than 2.\u001b[0m\n",
      "\u001b[33m[W 2022-02-15 21:00:49,261]\u001b[0m Param normalize_state unique value length is less than 2.\u001b[0m\n",
      "\u001b[33m[W 2022-02-15 21:00:50,080]\u001b[0m Param epsilon_start unique value length is less than 2.\u001b[0m\n",
      "\u001b[33m[W 2022-02-15 21:00:50,773]\u001b[0m Param nn_hidden_layers unique value length is less than 2.\u001b[0m\n",
      "\u001b[33m[W 2022-02-15 21:00:50,867]\u001b[0m Param normalize_state unique value length is less than 2.\u001b[0m\n"
     ]
    },
    {
     "name": "stdout",
     "output_type": "stream",
     "text": [
      "https://app.neptune.ai/plabartabajo/parametric-q-learning-cart-pole/e/PAR-58\n",
      "Remember to stop your run once you’ve finished logging your metadata (https://docs.neptune.ai/api-reference/run#.stop). It will be stopped automatically only when the notebook kernel/interactive console is terminated.\n",
      "67,586 parameters\n"
     ]
    },
    {
     "name": "stderr",
     "output_type": "stream",
     "text": [
      "100%|█████████████████████████████████████████████████████████████████████████| 500/500 [00:04<00:00, 108.41it/s]\n",
      "100%|████████████████████████████████████████████████████████████████████████| 1000/1000 [00:14<00:00, 69.54it/s]"
     ]
    },
    {
     "name": "stdout",
     "output_type": "stream",
     "text": [
      "Shutting down background jobs, please wait a moment...\n",
      "Done!\n"
     ]
    },
    {
     "name": "stderr",
     "output_type": "stream",
     "text": [
      "\n",
      "Waiting for the remaining 27 operations to synchronize with Neptune. Do not kill this process.\n"
     ]
    },
    {
     "name": "stdout",
     "output_type": "stream",
     "text": [
      "All 27 operations synced, thanks for waiting!\n"
     ]
    },
    {
     "name": "stderr",
     "output_type": "stream",
     "text": [
      "\u001b[32m[I 2022-02-15 21:01:13,961]\u001b[0m Trial 6 finished with value: 56.991 and parameters: {'learning_rate': 0.0004656735987056431, 'discount_factor': 0.9, 'batch_size': 32, 'memory_size': 50000, 'freq_steps_train': 128, 'freq_steps_update_target': 10, 'n_steps_warm_up_memory': 1000, 'n_gradient_steps': 4, 'nn_hidden_layers': '[256, 256]', 'max_grad_norm': 10, 'normalize_state': True, 'epsilon_start': 0.9, 'epsilon_end': 0.015289348982229911, 'steps_epsilon_decay': 100000, 'seed': 212224373}. Best is trial 1 with value: 175.159.\u001b[0m\n",
      "\u001b[33m[W 2022-02-15 21:01:24,087]\u001b[0m Param epsilon_start unique value length is less than 2.\u001b[0m\n",
      "\u001b[33m[W 2022-02-15 21:01:24,375]\u001b[0m Param nn_hidden_layers unique value length is less than 2.\u001b[0m\n",
      "\u001b[33m[W 2022-02-15 21:01:24,591]\u001b[0m Param epsilon_start unique value length is less than 2.\u001b[0m\n",
      "\u001b[33m[W 2022-02-15 21:01:24,778]\u001b[0m Param nn_hidden_layers unique value length is less than 2.\u001b[0m\n",
      "\u001b[33m[W 2022-02-15 21:01:24,957]\u001b[0m Param epsilon_start unique value length is less than 2.\u001b[0m\n",
      "\u001b[33m[W 2022-02-15 21:01:25,152]\u001b[0m Param nn_hidden_layers unique value length is less than 2.\u001b[0m\n",
      "\u001b[33m[W 2022-02-15 21:01:25,267]\u001b[0m Param epsilon_start unique value length is less than 2.\u001b[0m\n",
      "\u001b[33m[W 2022-02-15 21:01:25,290]\u001b[0m Param epsilon_start unique value length is less than 2.\u001b[0m\n",
      "\u001b[33m[W 2022-02-15 21:01:25,319]\u001b[0m Param epsilon_start unique value length is less than 2.\u001b[0m\n",
      "\u001b[33m[W 2022-02-15 21:01:25,379]\u001b[0m Param epsilon_start unique value length is less than 2.\u001b[0m\n",
      "\u001b[33m[W 2022-02-15 21:01:25,411]\u001b[0m Param epsilon_start unique value length is less than 2.\u001b[0m\n",
      "\u001b[33m[W 2022-02-15 21:01:25,434]\u001b[0m Param epsilon_start unique value length is less than 2.\u001b[0m\n",
      "\u001b[33m[W 2022-02-15 21:01:25,469]\u001b[0m Param epsilon_start unique value length is less than 2.\u001b[0m\n",
      "\u001b[33m[W 2022-02-15 21:01:25,496]\u001b[0m Param epsilon_start unique value length is less than 2.\u001b[0m\n",
      "\u001b[33m[W 2022-02-15 21:01:25,520]\u001b[0m Param epsilon_start unique value length is less than 2.\u001b[0m\n",
      "\u001b[33m[W 2022-02-15 21:01:25,544]\u001b[0m Param epsilon_start unique value length is less than 2.\u001b[0m\n",
      "\u001b[33m[W 2022-02-15 21:01:25,572]\u001b[0m Param epsilon_start unique value length is less than 2.\u001b[0m\n",
      "\u001b[33m[W 2022-02-15 21:01:25,609]\u001b[0m Param epsilon_start unique value length is less than 2.\u001b[0m\n",
      "\u001b[33m[W 2022-02-15 21:01:25,642]\u001b[0m Param epsilon_start unique value length is less than 2.\u001b[0m\n",
      "\u001b[33m[W 2022-02-15 21:01:25,665]\u001b[0m Param epsilon_start unique value length is less than 2.\u001b[0m\n",
      "\u001b[33m[W 2022-02-15 21:01:25,872]\u001b[0m Param epsilon_start unique value length is less than 2.\u001b[0m\n",
      "\u001b[33m[W 2022-02-15 21:01:26,069]\u001b[0m Param nn_hidden_layers unique value length is less than 2.\u001b[0m\n",
      "\u001b[33m[W 2022-02-15 21:01:26,261]\u001b[0m Param epsilon_start unique value length is less than 2.\u001b[0m\n",
      "\u001b[33m[W 2022-02-15 21:01:26,457]\u001b[0m Param nn_hidden_layers unique value length is less than 2.\u001b[0m\n",
      "\u001b[33m[W 2022-02-15 21:01:26,669]\u001b[0m Param epsilon_start unique value length is less than 2.\u001b[0m\n",
      "\u001b[33m[W 2022-02-15 21:01:26,927]\u001b[0m Param nn_hidden_layers unique value length is less than 2.\u001b[0m\n",
      "\u001b[33m[W 2022-02-15 21:01:27,147]\u001b[0m Param epsilon_start unique value length is less than 2.\u001b[0m\n",
      "\u001b[33m[W 2022-02-15 21:01:27,328]\u001b[0m Param nn_hidden_layers unique value length is less than 2.\u001b[0m\n",
      "\u001b[33m[W 2022-02-15 21:01:27,512]\u001b[0m Param epsilon_start unique value length is less than 2.\u001b[0m\n",
      "\u001b[33m[W 2022-02-15 21:01:27,697]\u001b[0m Param nn_hidden_layers unique value length is less than 2.\u001b[0m\n",
      "\u001b[33m[W 2022-02-15 21:01:27,879]\u001b[0m Param epsilon_start unique value length is less than 2.\u001b[0m\n",
      "\u001b[33m[W 2022-02-15 21:01:28,064]\u001b[0m Param nn_hidden_layers unique value length is less than 2.\u001b[0m\n",
      "\u001b[33m[W 2022-02-15 21:01:28,247]\u001b[0m Param epsilon_start unique value length is less than 2.\u001b[0m\n",
      "\u001b[33m[W 2022-02-15 21:01:28,426]\u001b[0m Param nn_hidden_layers unique value length is less than 2.\u001b[0m\n",
      "\u001b[33m[W 2022-02-15 21:01:28,548]\u001b[0m Param nn_hidden_layers unique value length is less than 2.\u001b[0m\n",
      "\u001b[33m[W 2022-02-15 21:01:28,577]\u001b[0m Param nn_hidden_layers unique value length is less than 2.\u001b[0m\n",
      "\u001b[33m[W 2022-02-15 21:01:28,607]\u001b[0m Param nn_hidden_layers unique value length is less than 2.\u001b[0m\n",
      "\u001b[33m[W 2022-02-15 21:01:28,638]\u001b[0m Param nn_hidden_layers unique value length is less than 2.\u001b[0m\n",
      "\u001b[33m[W 2022-02-15 21:01:28,671]\u001b[0m Param nn_hidden_layers unique value length is less than 2.\u001b[0m\n",
      "\u001b[33m[W 2022-02-15 21:01:28,704]\u001b[0m Param nn_hidden_layers unique value length is less than 2.\u001b[0m\n",
      "\u001b[33m[W 2022-02-15 21:01:28,734]\u001b[0m Param nn_hidden_layers unique value length is less than 2.\u001b[0m\n",
      "\u001b[33m[W 2022-02-15 21:01:28,774]\u001b[0m Param nn_hidden_layers unique value length is less than 2.\u001b[0m\n",
      "\u001b[33m[W 2022-02-15 21:01:28,804]\u001b[0m Param nn_hidden_layers unique value length is less than 2.\u001b[0m\n",
      "\u001b[33m[W 2022-02-15 21:01:28,834]\u001b[0m Param nn_hidden_layers unique value length is less than 2.\u001b[0m\n",
      "\u001b[33m[W 2022-02-15 21:01:28,865]\u001b[0m Param nn_hidden_layers unique value length is less than 2.\u001b[0m\n",
      "\u001b[33m[W 2022-02-15 21:01:28,937]\u001b[0m Param nn_hidden_layers unique value length is less than 2.\u001b[0m\n",
      "\u001b[33m[W 2022-02-15 21:01:28,979]\u001b[0m Param nn_hidden_layers unique value length is less than 2.\u001b[0m\n",
      "\u001b[33m[W 2022-02-15 21:01:29,008]\u001b[0m Param nn_hidden_layers unique value length is less than 2.\u001b[0m\n",
      "\u001b[33m[W 2022-02-15 21:01:29,164]\u001b[0m Param epsilon_start unique value length is less than 2.\u001b[0m\n",
      "\u001b[33m[W 2022-02-15 21:01:29,420]\u001b[0m Param nn_hidden_layers unique value length is less than 2.\u001b[0m\n",
      "\u001b[33m[W 2022-02-15 21:01:29,688]\u001b[0m Param epsilon_start unique value length is less than 2.\u001b[0m\n",
      "\u001b[33m[W 2022-02-15 21:01:29,911]\u001b[0m Param nn_hidden_layers unique value length is less than 2.\u001b[0m\n",
      "\u001b[33m[W 2022-02-15 21:01:30,098]\u001b[0m Param epsilon_start unique value length is less than 2.\u001b[0m\n",
      "\u001b[33m[W 2022-02-15 21:01:30,289]\u001b[0m Param nn_hidden_layers unique value length is less than 2.\u001b[0m\n"
     ]
    },
    {
     "name": "stdout",
     "output_type": "stream",
     "text": [
      "https://app.neptune.ai/plabartabajo/parametric-q-learning-cart-pole/e/PAR-59\n",
      "Remember to stop your run once you’ve finished logging your metadata (https://docs.neptune.ai/api-reference/run#.stop). It will be stopped automatically only when the notebook kernel/interactive console is terminated.\n",
      "67,586 parameters\n"
     ]
    },
    {
     "name": "stderr",
     "output_type": "stream",
     "text": [
      "100%|██████████████████████████████████████████████████████████████████████████| 500/500 [00:57<00:00,  8.68it/s]\n",
      "100%|███████████████████████████████████████████████████████████████████████| 1000/1000 [00:07<00:00, 140.36it/s]"
     ]
    },
    {
     "name": "stdout",
     "output_type": "stream",
     "text": [
      "Shutting down background jobs, please wait a moment...\n",
      "Done!\n"
     ]
    },
    {
     "name": "stderr",
     "output_type": "stream",
     "text": [
      "\n",
      "Waiting for the remaining 12 operations to synchronize with Neptune. Do not kill this process.\n"
     ]
    },
    {
     "name": "stdout",
     "output_type": "stream",
     "text": [
      "All 12 operations synced, thanks for waiting!\n"
     ]
    },
    {
     "name": "stderr",
     "output_type": "stream",
     "text": [
      "\u001b[32m[I 2022-02-15 21:02:38,038]\u001b[0m Trial 7 finished with value: 38.895 and parameters: {'learning_rate': 0.031160106489165222, 'discount_factor': 0.95, 'batch_size': 64, 'memory_size': 10000, 'freq_steps_train': 16, 'freq_steps_update_target': 1000, 'n_steps_warm_up_memory': 1000, 'n_gradient_steps': 16, 'nn_hidden_layers': '[256, 256]', 'max_grad_norm': 10, 'normalize_state': False, 'epsilon_start': 0.9, 'epsilon_end': 0.07101065061827137, 'steps_epsilon_decay': 100000, 'seed': 771270857}. Best is trial 1 with value: 175.159.\u001b[0m\n",
      "\u001b[33m[W 2022-02-15 21:02:46,701]\u001b[0m Param epsilon_start unique value length is less than 2.\u001b[0m\n",
      "\u001b[33m[W 2022-02-15 21:02:47,026]\u001b[0m Param nn_hidden_layers unique value length is less than 2.\u001b[0m\n",
      "\u001b[33m[W 2022-02-15 21:02:47,264]\u001b[0m Param epsilon_start unique value length is less than 2.\u001b[0m\n",
      "\u001b[33m[W 2022-02-15 21:02:47,476]\u001b[0m Param nn_hidden_layers unique value length is less than 2.\u001b[0m\n",
      "\u001b[33m[W 2022-02-15 21:02:47,670]\u001b[0m Param epsilon_start unique value length is less than 2.\u001b[0m\n",
      "\u001b[33m[W 2022-02-15 21:02:47,903]\u001b[0m Param nn_hidden_layers unique value length is less than 2.\u001b[0m\n",
      "\u001b[33m[W 2022-02-15 21:02:48,030]\u001b[0m Param epsilon_start unique value length is less than 2.\u001b[0m\n",
      "\u001b[33m[W 2022-02-15 21:02:48,052]\u001b[0m Param epsilon_start unique value length is less than 2.\u001b[0m\n",
      "\u001b[33m[W 2022-02-15 21:02:48,074]\u001b[0m Param epsilon_start unique value length is less than 2.\u001b[0m\n",
      "\u001b[33m[W 2022-02-15 21:02:48,117]\u001b[0m Param epsilon_start unique value length is less than 2.\u001b[0m\n",
      "\u001b[33m[W 2022-02-15 21:02:48,141]\u001b[0m Param epsilon_start unique value length is less than 2.\u001b[0m\n",
      "\u001b[33m[W 2022-02-15 21:02:48,163]\u001b[0m Param epsilon_start unique value length is less than 2.\u001b[0m\n",
      "\u001b[33m[W 2022-02-15 21:02:48,195]\u001b[0m Param epsilon_start unique value length is less than 2.\u001b[0m\n",
      "\u001b[33m[W 2022-02-15 21:02:48,218]\u001b[0m Param epsilon_start unique value length is less than 2.\u001b[0m\n",
      "\u001b[33m[W 2022-02-15 21:02:48,240]\u001b[0m Param epsilon_start unique value length is less than 2.\u001b[0m\n",
      "\u001b[33m[W 2022-02-15 21:02:48,262]\u001b[0m Param epsilon_start unique value length is less than 2.\u001b[0m\n",
      "\u001b[33m[W 2022-02-15 21:02:48,285]\u001b[0m Param epsilon_start unique value length is less than 2.\u001b[0m\n",
      "\u001b[33m[W 2022-02-15 21:02:48,317]\u001b[0m Param epsilon_start unique value length is less than 2.\u001b[0m\n",
      "\u001b[33m[W 2022-02-15 21:02:48,350]\u001b[0m Param epsilon_start unique value length is less than 2.\u001b[0m\n",
      "\u001b[33m[W 2022-02-15 21:02:48,374]\u001b[0m Param epsilon_start unique value length is less than 2.\u001b[0m\n",
      "\u001b[33m[W 2022-02-15 21:02:48,492]\u001b[0m Param epsilon_start unique value length is less than 2.\u001b[0m\n",
      "\u001b[33m[W 2022-02-15 21:02:48,720]\u001b[0m Param nn_hidden_layers unique value length is less than 2.\u001b[0m\n",
      "\u001b[33m[W 2022-02-15 21:02:48,919]\u001b[0m Param epsilon_start unique value length is less than 2.\u001b[0m\n",
      "\u001b[33m[W 2022-02-15 21:02:49,119]\u001b[0m Param nn_hidden_layers unique value length is less than 2.\u001b[0m\n",
      "\u001b[33m[W 2022-02-15 21:02:49,348]\u001b[0m Param epsilon_start unique value length is less than 2.\u001b[0m\n",
      "\u001b[33m[W 2022-02-15 21:02:49,628]\u001b[0m Param nn_hidden_layers unique value length is less than 2.\u001b[0m\n",
      "\u001b[33m[W 2022-02-15 21:02:49,882]\u001b[0m Param epsilon_start unique value length is less than 2.\u001b[0m\n",
      "\u001b[33m[W 2022-02-15 21:02:50,078]\u001b[0m Param nn_hidden_layers unique value length is less than 2.\u001b[0m\n",
      "\u001b[33m[W 2022-02-15 21:02:50,279]\u001b[0m Param epsilon_start unique value length is less than 2.\u001b[0m\n",
      "\u001b[33m[W 2022-02-15 21:02:50,469]\u001b[0m Param nn_hidden_layers unique value length is less than 2.\u001b[0m\n",
      "\u001b[33m[W 2022-02-15 21:02:50,659]\u001b[0m Param epsilon_start unique value length is less than 2.\u001b[0m\n",
      "\u001b[33m[W 2022-02-15 21:02:50,849]\u001b[0m Param nn_hidden_layers unique value length is less than 2.\u001b[0m\n",
      "\u001b[33m[W 2022-02-15 21:02:51,045]\u001b[0m Param epsilon_start unique value length is less than 2.\u001b[0m\n",
      "\u001b[33m[W 2022-02-15 21:02:51,234]\u001b[0m Param nn_hidden_layers unique value length is less than 2.\u001b[0m\n",
      "\u001b[33m[W 2022-02-15 21:02:51,351]\u001b[0m Param nn_hidden_layers unique value length is less than 2.\u001b[0m\n",
      "\u001b[33m[W 2022-02-15 21:02:51,381]\u001b[0m Param nn_hidden_layers unique value length is less than 2.\u001b[0m\n",
      "\u001b[33m[W 2022-02-15 21:02:51,412]\u001b[0m Param nn_hidden_layers unique value length is less than 2.\u001b[0m\n",
      "\u001b[33m[W 2022-02-15 21:02:51,444]\u001b[0m Param nn_hidden_layers unique value length is less than 2.\u001b[0m\n",
      "\u001b[33m[W 2022-02-15 21:02:51,474]\u001b[0m Param nn_hidden_layers unique value length is less than 2.\u001b[0m\n",
      "\u001b[33m[W 2022-02-15 21:02:51,503]\u001b[0m Param nn_hidden_layers unique value length is less than 2.\u001b[0m\n",
      "\u001b[33m[W 2022-02-15 21:02:51,534]\u001b[0m Param nn_hidden_layers unique value length is less than 2.\u001b[0m\n",
      "\u001b[33m[W 2022-02-15 21:02:51,573]\u001b[0m Param nn_hidden_layers unique value length is less than 2.\u001b[0m\n",
      "\u001b[33m[W 2022-02-15 21:02:51,605]\u001b[0m Param nn_hidden_layers unique value length is less than 2.\u001b[0m\n",
      "\u001b[33m[W 2022-02-15 21:02:51,635]\u001b[0m Param nn_hidden_layers unique value length is less than 2.\u001b[0m\n",
      "\u001b[33m[W 2022-02-15 21:02:51,665]\u001b[0m Param nn_hidden_layers unique value length is less than 2.\u001b[0m\n",
      "\u001b[33m[W 2022-02-15 21:02:51,729]\u001b[0m Param nn_hidden_layers unique value length is less than 2.\u001b[0m\n",
      "\u001b[33m[W 2022-02-15 21:02:51,766]\u001b[0m Param nn_hidden_layers unique value length is less than 2.\u001b[0m\n",
      "\u001b[33m[W 2022-02-15 21:02:51,793]\u001b[0m Param nn_hidden_layers unique value length is less than 2.\u001b[0m\n",
      "\u001b[33m[W 2022-02-15 21:02:51,922]\u001b[0m Param epsilon_start unique value length is less than 2.\u001b[0m\n",
      "\u001b[33m[W 2022-02-15 21:02:52,171]\u001b[0m Param nn_hidden_layers unique value length is less than 2.\u001b[0m\n",
      "\u001b[33m[W 2022-02-15 21:02:52,377]\u001b[0m Param epsilon_start unique value length is less than 2.\u001b[0m\n",
      "\u001b[33m[W 2022-02-15 21:02:52,561]\u001b[0m Param nn_hidden_layers unique value length is less than 2.\u001b[0m\n",
      "\u001b[33m[W 2022-02-15 21:02:52,735]\u001b[0m Param epsilon_start unique value length is less than 2.\u001b[0m\n",
      "\u001b[33m[W 2022-02-15 21:02:52,926]\u001b[0m Param nn_hidden_layers unique value length is less than 2.\u001b[0m\n"
     ]
    },
    {
     "name": "stdout",
     "output_type": "stream",
     "text": [
      "https://app.neptune.ai/plabartabajo/parametric-q-learning-cart-pole/e/PAR-60\n",
      "Remember to stop your run once you’ve finished logging your metadata (https://docs.neptune.ai/api-reference/run#.stop). It will be stopped automatically only when the notebook kernel/interactive console is terminated.\n",
      "67,586 parameters\n"
     ]
    },
    {
     "name": "stderr",
     "output_type": "stream",
     "text": [
      "100%|█████████████████████████████████████████████████████████████████████████| 500/500 [00:01<00:00, 258.60it/s]\n",
      "100%|███████████████████████████████████████████████████████████████████████| 1000/1000 [00:01<00:00, 584.69it/s]"
     ]
    },
    {
     "name": "stdout",
     "output_type": "stream",
     "text": [
      "Shutting down background jobs, please wait a moment...\n",
      "Done!\n"
     ]
    },
    {
     "name": "stderr",
     "output_type": "stream",
     "text": [
      "\n",
      "Waiting for the remaining 57 operations to synchronize with Neptune. Do not kill this process.\n"
     ]
    },
    {
     "name": "stdout",
     "output_type": "stream",
     "text": [
      "All 57 operations synced, thanks for waiting!\n"
     ]
    },
    {
     "name": "stderr",
     "output_type": "stream",
     "text": [
      "\u001b[32m[I 2022-02-15 21:02:59,668]\u001b[0m Trial 8 finished with value: 9.364 and parameters: {'learning_rate': 0.19417054828896854, 'discount_factor': 0.95, 'batch_size': 128, 'memory_size': 10000, 'freq_steps_train': 128, 'freq_steps_update_target': 1000, 'n_steps_warm_up_memory': 1000, 'n_gradient_steps': 1, 'nn_hidden_layers': '[256, 256]', 'max_grad_norm': 1, 'normalize_state': False, 'epsilon_start': 0.9, 'epsilon_end': 0.02711708933747228, 'steps_epsilon_decay': 1000, 'seed': 502616681}. Best is trial 1 with value: 175.159.\u001b[0m\n",
      "\u001b[33m[W 2022-02-15 21:03:08,679]\u001b[0m Param epsilon_start unique value length is less than 2.\u001b[0m\n",
      "\u001b[33m[W 2022-02-15 21:03:08,940]\u001b[0m Param nn_hidden_layers unique value length is less than 2.\u001b[0m\n",
      "\u001b[33m[W 2022-02-15 21:03:09,152]\u001b[0m Param epsilon_start unique value length is less than 2.\u001b[0m\n",
      "\u001b[33m[W 2022-02-15 21:03:09,350]\u001b[0m Param nn_hidden_layers unique value length is less than 2.\u001b[0m\n",
      "\u001b[33m[W 2022-02-15 21:03:09,533]\u001b[0m Param epsilon_start unique value length is less than 2.\u001b[0m\n",
      "\u001b[33m[W 2022-02-15 21:03:09,725]\u001b[0m Param nn_hidden_layers unique value length is less than 2.\u001b[0m\n",
      "\u001b[33m[W 2022-02-15 21:03:09,844]\u001b[0m Param epsilon_start unique value length is less than 2.\u001b[0m\n",
      "\u001b[33m[W 2022-02-15 21:03:09,869]\u001b[0m Param epsilon_start unique value length is less than 2.\u001b[0m\n",
      "\u001b[33m[W 2022-02-15 21:03:09,901]\u001b[0m Param epsilon_start unique value length is less than 2.\u001b[0m\n",
      "\u001b[33m[W 2022-02-15 21:03:09,949]\u001b[0m Param epsilon_start unique value length is less than 2.\u001b[0m\n",
      "\u001b[33m[W 2022-02-15 21:03:09,970]\u001b[0m Param epsilon_start unique value length is less than 2.\u001b[0m\n",
      "\u001b[33m[W 2022-02-15 21:03:10,000]\u001b[0m Param epsilon_start unique value length is less than 2.\u001b[0m\n",
      "\u001b[33m[W 2022-02-15 21:03:10,029]\u001b[0m Param epsilon_start unique value length is less than 2.\u001b[0m\n",
      "\u001b[33m[W 2022-02-15 21:03:10,048]\u001b[0m Param epsilon_start unique value length is less than 2.\u001b[0m\n",
      "\u001b[33m[W 2022-02-15 21:03:10,069]\u001b[0m Param epsilon_start unique value length is less than 2.\u001b[0m\n",
      "\u001b[33m[W 2022-02-15 21:03:10,090]\u001b[0m Param epsilon_start unique value length is less than 2.\u001b[0m\n",
      "\u001b[33m[W 2022-02-15 21:03:10,111]\u001b[0m Param epsilon_start unique value length is less than 2.\u001b[0m\n",
      "\u001b[33m[W 2022-02-15 21:03:10,165]\u001b[0m Param epsilon_start unique value length is less than 2.\u001b[0m\n",
      "\u001b[33m[W 2022-02-15 21:03:10,199]\u001b[0m Param epsilon_start unique value length is less than 2.\u001b[0m\n",
      "\u001b[33m[W 2022-02-15 21:03:10,240]\u001b[0m Param epsilon_start unique value length is less than 2.\u001b[0m\n",
      "\u001b[33m[W 2022-02-15 21:03:10,343]\u001b[0m Param epsilon_start unique value length is less than 2.\u001b[0m\n",
      "\u001b[33m[W 2022-02-15 21:03:10,536]\u001b[0m Param nn_hidden_layers unique value length is less than 2.\u001b[0m\n",
      "\u001b[33m[W 2022-02-15 21:03:10,726]\u001b[0m Param epsilon_start unique value length is less than 2.\u001b[0m\n",
      "\u001b[33m[W 2022-02-15 21:03:10,924]\u001b[0m Param nn_hidden_layers unique value length is less than 2.\u001b[0m\n",
      "\u001b[33m[W 2022-02-15 21:03:11,260]\u001b[0m Param epsilon_start unique value length is less than 2.\u001b[0m\n",
      "\u001b[33m[W 2022-02-15 21:03:11,581]\u001b[0m Param nn_hidden_layers unique value length is less than 2.\u001b[0m\n",
      "\u001b[33m[W 2022-02-15 21:03:11,912]\u001b[0m Param epsilon_start unique value length is less than 2.\u001b[0m\n",
      "\u001b[33m[W 2022-02-15 21:03:12,292]\u001b[0m Param nn_hidden_layers unique value length is less than 2.\u001b[0m\n",
      "\u001b[33m[W 2022-02-15 21:03:12,512]\u001b[0m Param epsilon_start unique value length is less than 2.\u001b[0m\n",
      "\u001b[33m[W 2022-02-15 21:03:12,708]\u001b[0m Param nn_hidden_layers unique value length is less than 2.\u001b[0m\n",
      "\u001b[33m[W 2022-02-15 21:03:12,908]\u001b[0m Param epsilon_start unique value length is less than 2.\u001b[0m\n",
      "\u001b[33m[W 2022-02-15 21:03:13,107]\u001b[0m Param nn_hidden_layers unique value length is less than 2.\u001b[0m\n",
      "\u001b[33m[W 2022-02-15 21:03:13,303]\u001b[0m Param epsilon_start unique value length is less than 2.\u001b[0m\n",
      "\u001b[33m[W 2022-02-15 21:03:13,501]\u001b[0m Param nn_hidden_layers unique value length is less than 2.\u001b[0m\n",
      "\u001b[33m[W 2022-02-15 21:03:13,625]\u001b[0m Param nn_hidden_layers unique value length is less than 2.\u001b[0m\n",
      "\u001b[33m[W 2022-02-15 21:03:13,656]\u001b[0m Param nn_hidden_layers unique value length is less than 2.\u001b[0m\n",
      "\u001b[33m[W 2022-02-15 21:03:13,688]\u001b[0m Param nn_hidden_layers unique value length is less than 2.\u001b[0m\n",
      "\u001b[33m[W 2022-02-15 21:03:13,719]\u001b[0m Param nn_hidden_layers unique value length is less than 2.\u001b[0m\n",
      "\u001b[33m[W 2022-02-15 21:03:13,753]\u001b[0m Param nn_hidden_layers unique value length is less than 2.\u001b[0m\n",
      "\u001b[33m[W 2022-02-15 21:03:13,785]\u001b[0m Param nn_hidden_layers unique value length is less than 2.\u001b[0m\n",
      "\u001b[33m[W 2022-02-15 21:03:13,816]\u001b[0m Param nn_hidden_layers unique value length is less than 2.\u001b[0m\n",
      "\u001b[33m[W 2022-02-15 21:03:13,858]\u001b[0m Param nn_hidden_layers unique value length is less than 2.\u001b[0m\n",
      "\u001b[33m[W 2022-02-15 21:03:13,891]\u001b[0m Param nn_hidden_layers unique value length is less than 2.\u001b[0m\n",
      "\u001b[33m[W 2022-02-15 21:03:13,921]\u001b[0m Param nn_hidden_layers unique value length is less than 2.\u001b[0m\n",
      "\u001b[33m[W 2022-02-15 21:03:13,954]\u001b[0m Param nn_hidden_layers unique value length is less than 2.\u001b[0m\n",
      "\u001b[33m[W 2022-02-15 21:03:14,022]\u001b[0m Param nn_hidden_layers unique value length is less than 2.\u001b[0m\n",
      "\u001b[33m[W 2022-02-15 21:03:14,062]\u001b[0m Param nn_hidden_layers unique value length is less than 2.\u001b[0m\n",
      "\u001b[33m[W 2022-02-15 21:03:14,094]\u001b[0m Param nn_hidden_layers unique value length is less than 2.\u001b[0m\n",
      "\u001b[33m[W 2022-02-15 21:03:14,239]\u001b[0m Param epsilon_start unique value length is less than 2.\u001b[0m\n",
      "\u001b[33m[W 2022-02-15 21:03:14,509]\u001b[0m Param nn_hidden_layers unique value length is less than 2.\u001b[0m\n",
      "\u001b[33m[W 2022-02-15 21:03:14,738]\u001b[0m Param epsilon_start unique value length is less than 2.\u001b[0m\n",
      "\u001b[33m[W 2022-02-15 21:03:14,943]\u001b[0m Param nn_hidden_layers unique value length is less than 2.\u001b[0m\n",
      "\u001b[33m[W 2022-02-15 21:03:15,142]\u001b[0m Param epsilon_start unique value length is less than 2.\u001b[0m\n",
      "\u001b[33m[W 2022-02-15 21:03:15,365]\u001b[0m Param nn_hidden_layers unique value length is less than 2.\u001b[0m\n"
     ]
    },
    {
     "name": "stdout",
     "output_type": "stream",
     "text": [
      "https://app.neptune.ai/plabartabajo/parametric-q-learning-cart-pole/e/PAR-61\n",
      "Remember to stop your run once you’ve finished logging your metadata (https://docs.neptune.ai/api-reference/run#.stop). It will be stopped automatically only when the notebook kernel/interactive console is terminated.\n",
      "67,586 parameters\n"
     ]
    },
    {
     "name": "stderr",
     "output_type": "stream",
     "text": [
      "100%|█████████████████████████████████████████████████████████████████████████| 500/500 [00:01<00:00, 369.79it/s]\n",
      "100%|███████████████████████████████████████████████████████████████████████| 1000/1000 [00:01<00:00, 562.44it/s]"
     ]
    },
    {
     "name": "stdout",
     "output_type": "stream",
     "text": [
      "Shutting down background jobs, please wait a moment...\n",
      "Done!\n"
     ]
    },
    {
     "name": "stderr",
     "output_type": "stream",
     "text": [
      "\n",
      "Waiting for the remaining 29 operations to synchronize with Neptune. Do not kill this process.\n"
     ]
    },
    {
     "name": "stdout",
     "output_type": "stream",
     "text": [
      "All 29 operations synced, thanks for waiting!\n"
     ]
    },
    {
     "name": "stderr",
     "output_type": "stream",
     "text": [
      "\u001b[32m[I 2022-02-15 21:03:21,329]\u001b[0m Trial 9 finished with value: 9.315 and parameters: {'learning_rate': 0.00010831908767331051, 'discount_factor': 0.95, 'batch_size': 16, 'memory_size': 50000, 'freq_steps_train': 256, 'freq_steps_update_target': 1000, 'n_steps_warm_up_memory': 5000, 'n_gradient_steps': 4, 'nn_hidden_layers': '[256, 256]', 'max_grad_norm': 10, 'normalize_state': False, 'epsilon_start': 0.9, 'epsilon_end': 0.013545099644999682, 'steps_epsilon_decay': 100000, 'seed': 164783419}. Best is trial 1 with value: 175.159.\u001b[0m\n",
      "\u001b[33m[W 2022-02-15 21:03:32,273]\u001b[0m Param epsilon_start unique value length is less than 2.\u001b[0m\n",
      "\u001b[33m[W 2022-02-15 21:03:32,624]\u001b[0m Param nn_hidden_layers unique value length is less than 2.\u001b[0m\n",
      "\u001b[33m[W 2022-02-15 21:03:32,961]\u001b[0m Param epsilon_start unique value length is less than 2.\u001b[0m\n",
      "\u001b[33m[W 2022-02-15 21:03:33,246]\u001b[0m Param nn_hidden_layers unique value length is less than 2.\u001b[0m\n",
      "\u001b[33m[W 2022-02-15 21:03:33,696]\u001b[0m Param epsilon_start unique value length is less than 2.\u001b[0m\n",
      "\u001b[33m[W 2022-02-15 21:03:33,970]\u001b[0m Param nn_hidden_layers unique value length is less than 2.\u001b[0m\n",
      "\u001b[33m[W 2022-02-15 21:03:34,125]\u001b[0m Param epsilon_start unique value length is less than 2.\u001b[0m\n",
      "\u001b[33m[W 2022-02-15 21:03:34,152]\u001b[0m Param epsilon_start unique value length is less than 2.\u001b[0m\n",
      "\u001b[33m[W 2022-02-15 21:03:34,178]\u001b[0m Param epsilon_start unique value length is less than 2.\u001b[0m\n",
      "\u001b[33m[W 2022-02-15 21:03:34,231]\u001b[0m Param epsilon_start unique value length is less than 2.\u001b[0m\n",
      "\u001b[33m[W 2022-02-15 21:03:34,257]\u001b[0m Param epsilon_start unique value length is less than 2.\u001b[0m\n",
      "\u001b[33m[W 2022-02-15 21:03:34,283]\u001b[0m Param epsilon_start unique value length is less than 2.\u001b[0m\n",
      "\u001b[33m[W 2022-02-15 21:03:34,321]\u001b[0m Param epsilon_start unique value length is less than 2.\u001b[0m\n",
      "\u001b[33m[W 2022-02-15 21:03:34,347]\u001b[0m Param epsilon_start unique value length is less than 2.\u001b[0m\n",
      "\u001b[33m[W 2022-02-15 21:03:34,377]\u001b[0m Param epsilon_start unique value length is less than 2.\u001b[0m\n",
      "\u001b[33m[W 2022-02-15 21:03:34,403]\u001b[0m Param epsilon_start unique value length is less than 2.\u001b[0m\n",
      "\u001b[33m[W 2022-02-15 21:03:34,428]\u001b[0m Param epsilon_start unique value length is less than 2.\u001b[0m\n",
      "\u001b[33m[W 2022-02-15 21:03:34,467]\u001b[0m Param epsilon_start unique value length is less than 2.\u001b[0m\n",
      "\u001b[33m[W 2022-02-15 21:03:34,504]\u001b[0m Param epsilon_start unique value length is less than 2.\u001b[0m\n",
      "\u001b[33m[W 2022-02-15 21:03:34,529]\u001b[0m Param epsilon_start unique value length is less than 2.\u001b[0m\n",
      "\u001b[33m[W 2022-02-15 21:03:34,712]\u001b[0m Param epsilon_start unique value length is less than 2.\u001b[0m\n",
      "\u001b[33m[W 2022-02-15 21:03:34,948]\u001b[0m Param nn_hidden_layers unique value length is less than 2.\u001b[0m\n",
      "\u001b[33m[W 2022-02-15 21:03:35,183]\u001b[0m Param epsilon_start unique value length is less than 2.\u001b[0m\n",
      "\u001b[33m[W 2022-02-15 21:03:35,431]\u001b[0m Param nn_hidden_layers unique value length is less than 2.\u001b[0m\n",
      "\u001b[33m[W 2022-02-15 21:03:35,702]\u001b[0m Param epsilon_start unique value length is less than 2.\u001b[0m\n",
      "\u001b[33m[W 2022-02-15 21:03:36,025]\u001b[0m Param nn_hidden_layers unique value length is less than 2.\u001b[0m\n",
      "\u001b[33m[W 2022-02-15 21:03:36,294]\u001b[0m Param epsilon_start unique value length is less than 2.\u001b[0m\n",
      "\u001b[33m[W 2022-02-15 21:03:36,522]\u001b[0m Param nn_hidden_layers unique value length is less than 2.\u001b[0m\n",
      "\u001b[33m[W 2022-02-15 21:03:36,747]\u001b[0m Param epsilon_start unique value length is less than 2.\u001b[0m\n",
      "\u001b[33m[W 2022-02-15 21:03:36,968]\u001b[0m Param nn_hidden_layers unique value length is less than 2.\u001b[0m\n",
      "\u001b[33m[W 2022-02-15 21:03:37,184]\u001b[0m Param epsilon_start unique value length is less than 2.\u001b[0m\n",
      "\u001b[33m[W 2022-02-15 21:03:37,396]\u001b[0m Param nn_hidden_layers unique value length is less than 2.\u001b[0m\n",
      "\u001b[33m[W 2022-02-15 21:03:37,614]\u001b[0m Param epsilon_start unique value length is less than 2.\u001b[0m\n",
      "\u001b[33m[W 2022-02-15 21:03:37,831]\u001b[0m Param nn_hidden_layers unique value length is less than 2.\u001b[0m\n",
      "\u001b[33m[W 2022-02-15 21:03:37,964]\u001b[0m Param nn_hidden_layers unique value length is less than 2.\u001b[0m\n",
      "\u001b[33m[W 2022-02-15 21:03:37,997]\u001b[0m Param nn_hidden_layers unique value length is less than 2.\u001b[0m\n",
      "\u001b[33m[W 2022-02-15 21:03:38,032]\u001b[0m Param nn_hidden_layers unique value length is less than 2.\u001b[0m\n",
      "\u001b[33m[W 2022-02-15 21:03:38,064]\u001b[0m Param nn_hidden_layers unique value length is less than 2.\u001b[0m\n",
      "\u001b[33m[W 2022-02-15 21:03:38,099]\u001b[0m Param nn_hidden_layers unique value length is less than 2.\u001b[0m\n",
      "\u001b[33m[W 2022-02-15 21:03:38,132]\u001b[0m Param nn_hidden_layers unique value length is less than 2.\u001b[0m\n",
      "\u001b[33m[W 2022-02-15 21:03:38,168]\u001b[0m Param nn_hidden_layers unique value length is less than 2.\u001b[0m\n",
      "\u001b[33m[W 2022-02-15 21:03:38,219]\u001b[0m Param nn_hidden_layers unique value length is less than 2.\u001b[0m\n",
      "\u001b[33m[W 2022-02-15 21:03:38,255]\u001b[0m Param nn_hidden_layers unique value length is less than 2.\u001b[0m\n",
      "\u001b[33m[W 2022-02-15 21:03:38,296]\u001b[0m Param nn_hidden_layers unique value length is less than 2.\u001b[0m\n",
      "\u001b[33m[W 2022-02-15 21:03:38,350]\u001b[0m Param nn_hidden_layers unique value length is less than 2.\u001b[0m\n",
      "\u001b[33m[W 2022-02-15 21:03:38,503]\u001b[0m Param nn_hidden_layers unique value length is less than 2.\u001b[0m\n",
      "\u001b[33m[W 2022-02-15 21:03:38,562]\u001b[0m Param nn_hidden_layers unique value length is less than 2.\u001b[0m\n",
      "\u001b[33m[W 2022-02-15 21:03:38,600]\u001b[0m Param nn_hidden_layers unique value length is less than 2.\u001b[0m\n",
      "\u001b[33m[W 2022-02-15 21:03:39,307]\u001b[0m Param epsilon_start unique value length is less than 2.\u001b[0m\n",
      "\u001b[33m[W 2022-02-15 21:03:39,644]\u001b[0m Param nn_hidden_layers unique value length is less than 2.\u001b[0m\n",
      "\u001b[33m[W 2022-02-15 21:03:39,893]\u001b[0m Param epsilon_start unique value length is less than 2.\u001b[0m\n",
      "\u001b[33m[W 2022-02-15 21:03:40,121]\u001b[0m Param nn_hidden_layers unique value length is less than 2.\u001b[0m\n",
      "\u001b[33m[W 2022-02-15 21:03:40,332]\u001b[0m Param epsilon_start unique value length is less than 2.\u001b[0m\n",
      "\u001b[33m[W 2022-02-15 21:03:40,553]\u001b[0m Param nn_hidden_layers unique value length is less than 2.\u001b[0m\n"
     ]
    },
    {
     "name": "stdout",
     "output_type": "stream",
     "text": [
      "https://app.neptune.ai/plabartabajo/parametric-q-learning-cart-pole/e/PAR-62\n",
      "Remember to stop your run once you’ve finished logging your metadata (https://docs.neptune.ai/api-reference/run#.stop). It will be stopped automatically only when the notebook kernel/interactive console is terminated.\n",
      "67,586 parameters\n"
     ]
    },
    {
     "name": "stderr",
     "output_type": "stream",
     "text": [
      "100%|██████████████████████████████████████████████████████████████████████████| 500/500 [00:49<00:00, 10.11it/s]\n",
      "100%|████████████████████████████████████████████████████████████████████████| 1000/1000 [00:28<00:00, 34.52it/s]"
     ]
    },
    {
     "name": "stdout",
     "output_type": "stream",
     "text": [
      "Shutting down background jobs, please wait a moment...\n",
      "Done!\n"
     ]
    },
    {
     "name": "stderr",
     "output_type": "stream",
     "text": [
      "\n",
      "Waiting for the remaining 7 operations to synchronize with Neptune. Do not kill this process.\n"
     ]
    },
    {
     "name": "stdout",
     "output_type": "stream",
     "text": [
      "All 7 operations synced, thanks for waiting!\n"
     ]
    },
    {
     "name": "stderr",
     "output_type": "stream",
     "text": [
      "\u001b[32m[I 2022-02-15 21:05:02,115]\u001b[0m Trial 10 finished with value: 87.822 and parameters: {'learning_rate': 0.004145269817721472, 'discount_factor': 0.9, 'batch_size': 16, 'memory_size': 100000, 'freq_steps_train': 8, 'freq_steps_update_target': 10, 'n_steps_warm_up_memory': 5000, 'n_gradient_steps': 16, 'nn_hidden_layers': '[256, 256]', 'max_grad_norm': 100, 'normalize_state': True, 'epsilon_start': 0.9, 'epsilon_end': 0.12443805664092739, 'steps_epsilon_decay': 100000, 'seed': 1063477976}. Best is trial 1 with value: 175.159.\u001b[0m\n",
      "\u001b[33m[W 2022-02-15 21:05:12,213]\u001b[0m Param epsilon_start unique value length is less than 2.\u001b[0m\n",
      "\u001b[33m[W 2022-02-15 21:05:12,516]\u001b[0m Param nn_hidden_layers unique value length is less than 2.\u001b[0m\n",
      "\u001b[33m[W 2022-02-15 21:05:12,771]\u001b[0m Param epsilon_start unique value length is less than 2.\u001b[0m\n",
      "\u001b[33m[W 2022-02-15 21:05:13,001]\u001b[0m Param nn_hidden_layers unique value length is less than 2.\u001b[0m\n",
      "\u001b[33m[W 2022-02-15 21:05:13,304]\u001b[0m Param epsilon_start unique value length is less than 2.\u001b[0m\n",
      "\u001b[33m[W 2022-02-15 21:05:13,550]\u001b[0m Param nn_hidden_layers unique value length is less than 2.\u001b[0m\n",
      "\u001b[33m[W 2022-02-15 21:05:13,700]\u001b[0m Param epsilon_start unique value length is less than 2.\u001b[0m\n",
      "\u001b[33m[W 2022-02-15 21:05:13,725]\u001b[0m Param epsilon_start unique value length is less than 2.\u001b[0m\n",
      "\u001b[33m[W 2022-02-15 21:05:13,749]\u001b[0m Param epsilon_start unique value length is less than 2.\u001b[0m\n",
      "\u001b[33m[W 2022-02-15 21:05:13,797]\u001b[0m Param epsilon_start unique value length is less than 2.\u001b[0m\n",
      "\u001b[33m[W 2022-02-15 21:05:13,823]\u001b[0m Param epsilon_start unique value length is less than 2.\u001b[0m\n",
      "\u001b[33m[W 2022-02-15 21:05:13,852]\u001b[0m Param epsilon_start unique value length is less than 2.\u001b[0m\n",
      "\u001b[33m[W 2022-02-15 21:05:13,892]\u001b[0m Param epsilon_start unique value length is less than 2.\u001b[0m\n",
      "\u001b[33m[W 2022-02-15 21:05:13,920]\u001b[0m Param epsilon_start unique value length is less than 2.\u001b[0m\n",
      "\u001b[33m[W 2022-02-15 21:05:13,949]\u001b[0m Param epsilon_start unique value length is less than 2.\u001b[0m\n",
      "\u001b[33m[W 2022-02-15 21:05:13,980]\u001b[0m Param epsilon_start unique value length is less than 2.\u001b[0m\n",
      "\u001b[33m[W 2022-02-15 21:05:14,008]\u001b[0m Param epsilon_start unique value length is less than 2.\u001b[0m\n",
      "\u001b[33m[W 2022-02-15 21:05:14,048]\u001b[0m Param epsilon_start unique value length is less than 2.\u001b[0m\n",
      "\u001b[33m[W 2022-02-15 21:05:14,090]\u001b[0m Param epsilon_start unique value length is less than 2.\u001b[0m\n",
      "\u001b[33m[W 2022-02-15 21:05:14,120]\u001b[0m Param epsilon_start unique value length is less than 2.\u001b[0m\n",
      "\u001b[33m[W 2022-02-15 21:05:14,266]\u001b[0m Param epsilon_start unique value length is less than 2.\u001b[0m\n",
      "\u001b[33m[W 2022-02-15 21:05:14,486]\u001b[0m Param nn_hidden_layers unique value length is less than 2.\u001b[0m\n",
      "\u001b[33m[W 2022-02-15 21:05:14,827]\u001b[0m Param epsilon_start unique value length is less than 2.\u001b[0m\n",
      "\u001b[33m[W 2022-02-15 21:05:15,053]\u001b[0m Param nn_hidden_layers unique value length is less than 2.\u001b[0m\n",
      "\u001b[33m[W 2022-02-15 21:05:15,311]\u001b[0m Param epsilon_start unique value length is less than 2.\u001b[0m\n",
      "\u001b[33m[W 2022-02-15 21:05:15,620]\u001b[0m Param nn_hidden_layers unique value length is less than 2.\u001b[0m\n",
      "\u001b[33m[W 2022-02-15 21:05:15,924]\u001b[0m Param epsilon_start unique value length is less than 2.\u001b[0m\n",
      "\u001b[33m[W 2022-02-15 21:05:16,158]\u001b[0m Param nn_hidden_layers unique value length is less than 2.\u001b[0m\n",
      "\u001b[33m[W 2022-02-15 21:05:16,378]\u001b[0m Param epsilon_start unique value length is less than 2.\u001b[0m\n",
      "\u001b[33m[W 2022-02-15 21:05:16,682]\u001b[0m Param nn_hidden_layers unique value length is less than 2.\u001b[0m\n",
      "\u001b[33m[W 2022-02-15 21:05:17,030]\u001b[0m Param epsilon_start unique value length is less than 2.\u001b[0m\n",
      "\u001b[33m[W 2022-02-15 21:05:17,285]\u001b[0m Param nn_hidden_layers unique value length is less than 2.\u001b[0m\n",
      "\u001b[33m[W 2022-02-15 21:05:17,581]\u001b[0m Param epsilon_start unique value length is less than 2.\u001b[0m\n",
      "\u001b[33m[W 2022-02-15 21:05:17,802]\u001b[0m Param nn_hidden_layers unique value length is less than 2.\u001b[0m\n",
      "\u001b[33m[W 2022-02-15 21:05:17,946]\u001b[0m Param nn_hidden_layers unique value length is less than 2.\u001b[0m\n",
      "\u001b[33m[W 2022-02-15 21:05:18,103]\u001b[0m Param nn_hidden_layers unique value length is less than 2.\u001b[0m\n",
      "\u001b[33m[W 2022-02-15 21:05:18,143]\u001b[0m Param nn_hidden_layers unique value length is less than 2.\u001b[0m\n",
      "\u001b[33m[W 2022-02-15 21:05:18,237]\u001b[0m Param nn_hidden_layers unique value length is less than 2.\u001b[0m\n",
      "\u001b[33m[W 2022-02-15 21:05:18,277]\u001b[0m Param nn_hidden_layers unique value length is less than 2.\u001b[0m\n",
      "\u001b[33m[W 2022-02-15 21:05:18,313]\u001b[0m Param nn_hidden_layers unique value length is less than 2.\u001b[0m\n",
      "\u001b[33m[W 2022-02-15 21:05:18,348]\u001b[0m Param nn_hidden_layers unique value length is less than 2.\u001b[0m\n",
      "\u001b[33m[W 2022-02-15 21:05:18,396]\u001b[0m Param nn_hidden_layers unique value length is less than 2.\u001b[0m\n",
      "\u001b[33m[W 2022-02-15 21:05:18,430]\u001b[0m Param nn_hidden_layers unique value length is less than 2.\u001b[0m\n",
      "\u001b[33m[W 2022-02-15 21:05:18,465]\u001b[0m Param nn_hidden_layers unique value length is less than 2.\u001b[0m\n",
      "\u001b[33m[W 2022-02-15 21:05:18,503]\u001b[0m Param nn_hidden_layers unique value length is less than 2.\u001b[0m\n",
      "\u001b[33m[W 2022-02-15 21:05:18,580]\u001b[0m Param nn_hidden_layers unique value length is less than 2.\u001b[0m\n",
      "\u001b[33m[W 2022-02-15 21:05:18,626]\u001b[0m Param nn_hidden_layers unique value length is less than 2.\u001b[0m\n",
      "\u001b[33m[W 2022-02-15 21:05:18,660]\u001b[0m Param nn_hidden_layers unique value length is less than 2.\u001b[0m\n",
      "\u001b[33m[W 2022-02-15 21:05:18,934]\u001b[0m Param epsilon_start unique value length is less than 2.\u001b[0m\n",
      "\u001b[33m[W 2022-02-15 21:05:19,237]\u001b[0m Param nn_hidden_layers unique value length is less than 2.\u001b[0m\n",
      "\u001b[33m[W 2022-02-15 21:05:19,494]\u001b[0m Param epsilon_start unique value length is less than 2.\u001b[0m\n",
      "\u001b[33m[W 2022-02-15 21:05:19,735]\u001b[0m Param nn_hidden_layers unique value length is less than 2.\u001b[0m\n",
      "\u001b[33m[W 2022-02-15 21:05:19,951]\u001b[0m Param epsilon_start unique value length is less than 2.\u001b[0m\n",
      "\u001b[33m[W 2022-02-15 21:05:20,177]\u001b[0m Param nn_hidden_layers unique value length is less than 2.\u001b[0m\n"
     ]
    },
    {
     "name": "stdout",
     "output_type": "stream",
     "text": [
      "https://app.neptune.ai/plabartabajo/parametric-q-learning-cart-pole/e/PAR-63\n",
      "Remember to stop your run once you’ve finished logging your metadata (https://docs.neptune.ai/api-reference/run#.stop). It will be stopped automatically only when the notebook kernel/interactive console is terminated.\n",
      "67,586 parameters\n"
     ]
    },
    {
     "name": "stderr",
     "output_type": "stream",
     "text": [
      "100%|██████████████████████████████████████████████████████████████████████████| 500/500 [01:01<00:00,  8.11it/s]\n",
      "100%|████████████████████████████████████████████████████████████████████████| 1000/1000 [00:14<00:00, 69.82it/s]"
     ]
    },
    {
     "name": "stdout",
     "output_type": "stream",
     "text": [
      "Shutting down background jobs, please wait a moment...\n",
      "Done!\n"
     ]
    },
    {
     "name": "stderr",
     "output_type": "stream",
     "text": [
      "\n",
      "Waiting for the remaining 39 operations to synchronize with Neptune. Do not kill this process.\n"
     ]
    },
    {
     "name": "stdout",
     "output_type": "stream",
     "text": [
      "All 39 operations synced, thanks for waiting!\n"
     ]
    },
    {
     "name": "stderr",
     "output_type": "stream",
     "text": [
      "\u001b[32m[I 2022-02-15 21:06:38,838]\u001b[0m Trial 11 finished with value: 71.831 and parameters: {'learning_rate': 0.004753971779997355, 'discount_factor': 0.9, 'batch_size': 16, 'memory_size': 100000, 'freq_steps_train': 8, 'freq_steps_update_target': 10, 'n_steps_warm_up_memory': 5000, 'n_gradient_steps': 16, 'nn_hidden_layers': '[256, 256]', 'max_grad_norm': 100, 'normalize_state': True, 'epsilon_start': 0.9, 'epsilon_end': 0.13334233675540044, 'steps_epsilon_decay': 100000, 'seed': 1071997345}. Best is trial 1 with value: 175.159.\u001b[0m\n",
      "\u001b[33m[W 2022-02-15 21:06:48,463]\u001b[0m Param epsilon_start unique value length is less than 2.\u001b[0m\n",
      "\u001b[33m[W 2022-02-15 21:06:48,919]\u001b[0m Param nn_hidden_layers unique value length is less than 2.\u001b[0m\n",
      "\u001b[33m[W 2022-02-15 21:06:49,217]\u001b[0m Param epsilon_start unique value length is less than 2.\u001b[0m\n",
      "\u001b[33m[W 2022-02-15 21:06:49,459]\u001b[0m Param nn_hidden_layers unique value length is less than 2.\u001b[0m\n",
      "\u001b[33m[W 2022-02-15 21:06:49,705]\u001b[0m Param epsilon_start unique value length is less than 2.\u001b[0m\n",
      "\u001b[33m[W 2022-02-15 21:06:49,982]\u001b[0m Param nn_hidden_layers unique value length is less than 2.\u001b[0m\n",
      "\u001b[33m[W 2022-02-15 21:06:50,154]\u001b[0m Param epsilon_start unique value length is less than 2.\u001b[0m\n",
      "\u001b[33m[W 2022-02-15 21:06:50,187]\u001b[0m Param epsilon_start unique value length is less than 2.\u001b[0m\n",
      "\u001b[33m[W 2022-02-15 21:06:50,217]\u001b[0m Param epsilon_start unique value length is less than 2.\u001b[0m\n",
      "\u001b[33m[W 2022-02-15 21:06:50,270]\u001b[0m Param epsilon_start unique value length is less than 2.\u001b[0m\n",
      "\u001b[33m[W 2022-02-15 21:06:50,296]\u001b[0m Param epsilon_start unique value length is less than 2.\u001b[0m\n",
      "\u001b[33m[W 2022-02-15 21:06:50,323]\u001b[0m Param epsilon_start unique value length is less than 2.\u001b[0m\n",
      "\u001b[33m[W 2022-02-15 21:06:50,359]\u001b[0m Param epsilon_start unique value length is less than 2.\u001b[0m\n",
      "\u001b[33m[W 2022-02-15 21:06:50,383]\u001b[0m Param epsilon_start unique value length is less than 2.\u001b[0m\n",
      "\u001b[33m[W 2022-02-15 21:06:50,407]\u001b[0m Param epsilon_start unique value length is less than 2.\u001b[0m\n",
      "\u001b[33m[W 2022-02-15 21:06:50,432]\u001b[0m Param epsilon_start unique value length is less than 2.\u001b[0m\n",
      "\u001b[33m[W 2022-02-15 21:06:50,456]\u001b[0m Param epsilon_start unique value length is less than 2.\u001b[0m\n",
      "\u001b[33m[W 2022-02-15 21:06:50,492]\u001b[0m Param epsilon_start unique value length is less than 2.\u001b[0m\n",
      "\u001b[33m[W 2022-02-15 21:06:50,530]\u001b[0m Param epsilon_start unique value length is less than 2.\u001b[0m\n",
      "\u001b[33m[W 2022-02-15 21:06:50,557]\u001b[0m Param epsilon_start unique value length is less than 2.\u001b[0m\n",
      "\u001b[33m[W 2022-02-15 21:06:50,705]\u001b[0m Param epsilon_start unique value length is less than 2.\u001b[0m\n",
      "\u001b[33m[W 2022-02-15 21:06:50,927]\u001b[0m Param nn_hidden_layers unique value length is less than 2.\u001b[0m\n",
      "\u001b[33m[W 2022-02-15 21:06:51,147]\u001b[0m Param epsilon_start unique value length is less than 2.\u001b[0m\n",
      "\u001b[33m[W 2022-02-15 21:06:51,371]\u001b[0m Param nn_hidden_layers unique value length is less than 2.\u001b[0m\n",
      "\u001b[33m[W 2022-02-15 21:06:51,638]\u001b[0m Param epsilon_start unique value length is less than 2.\u001b[0m\n",
      "\u001b[33m[W 2022-02-15 21:06:51,973]\u001b[0m Param nn_hidden_layers unique value length is less than 2.\u001b[0m\n",
      "\u001b[33m[W 2022-02-15 21:06:52,256]\u001b[0m Param epsilon_start unique value length is less than 2.\u001b[0m\n",
      "\u001b[33m[W 2022-02-15 21:06:52,500]\u001b[0m Param nn_hidden_layers unique value length is less than 2.\u001b[0m\n",
      "\u001b[33m[W 2022-02-15 21:06:52,767]\u001b[0m Param epsilon_start unique value length is less than 2.\u001b[0m\n",
      "\u001b[33m[W 2022-02-15 21:06:52,996]\u001b[0m Param nn_hidden_layers unique value length is less than 2.\u001b[0m\n",
      "\u001b[33m[W 2022-02-15 21:06:53,343]\u001b[0m Param epsilon_start unique value length is less than 2.\u001b[0m\n",
      "\u001b[33m[W 2022-02-15 21:06:53,704]\u001b[0m Param nn_hidden_layers unique value length is less than 2.\u001b[0m\n",
      "\u001b[33m[W 2022-02-15 21:06:53,996]\u001b[0m Param epsilon_start unique value length is less than 2.\u001b[0m\n",
      "\u001b[33m[W 2022-02-15 21:06:54,250]\u001b[0m Param nn_hidden_layers unique value length is less than 2.\u001b[0m\n",
      "\u001b[33m[W 2022-02-15 21:06:54,402]\u001b[0m Param nn_hidden_layers unique value length is less than 2.\u001b[0m\n",
      "\u001b[33m[W 2022-02-15 21:06:54,438]\u001b[0m Param nn_hidden_layers unique value length is less than 2.\u001b[0m\n",
      "\u001b[33m[W 2022-02-15 21:06:54,474]\u001b[0m Param nn_hidden_layers unique value length is less than 2.\u001b[0m\n",
      "\u001b[33m[W 2022-02-15 21:06:54,512]\u001b[0m Param nn_hidden_layers unique value length is less than 2.\u001b[0m\n",
      "\u001b[33m[W 2022-02-15 21:06:54,553]\u001b[0m Param nn_hidden_layers unique value length is less than 2.\u001b[0m\n",
      "\u001b[33m[W 2022-02-15 21:06:54,599]\u001b[0m Param nn_hidden_layers unique value length is less than 2.\u001b[0m\n",
      "\u001b[33m[W 2022-02-15 21:06:54,647]\u001b[0m Param nn_hidden_layers unique value length is less than 2.\u001b[0m\n",
      "\u001b[33m[W 2022-02-15 21:06:54,705]\u001b[0m Param nn_hidden_layers unique value length is less than 2.\u001b[0m\n",
      "\u001b[33m[W 2022-02-15 21:06:54,746]\u001b[0m Param nn_hidden_layers unique value length is less than 2.\u001b[0m\n",
      "\u001b[33m[W 2022-02-15 21:06:54,789]\u001b[0m Param nn_hidden_layers unique value length is less than 2.\u001b[0m\n",
      "\u001b[33m[W 2022-02-15 21:06:54,825]\u001b[0m Param nn_hidden_layers unique value length is less than 2.\u001b[0m\n",
      "\u001b[33m[W 2022-02-15 21:06:54,915]\u001b[0m Param nn_hidden_layers unique value length is less than 2.\u001b[0m\n",
      "\u001b[33m[W 2022-02-15 21:06:54,968]\u001b[0m Param nn_hidden_layers unique value length is less than 2.\u001b[0m\n",
      "\u001b[33m[W 2022-02-15 21:06:55,010]\u001b[0m Param nn_hidden_layers unique value length is less than 2.\u001b[0m\n",
      "\u001b[33m[W 2022-02-15 21:06:55,190]\u001b[0m Param epsilon_start unique value length is less than 2.\u001b[0m\n",
      "\u001b[33m[W 2022-02-15 21:06:55,539]\u001b[0m Param nn_hidden_layers unique value length is less than 2.\u001b[0m\n",
      "\u001b[33m[W 2022-02-15 21:06:55,811]\u001b[0m Param epsilon_start unique value length is less than 2.\u001b[0m\n",
      "\u001b[33m[W 2022-02-15 21:06:56,065]\u001b[0m Param nn_hidden_layers unique value length is less than 2.\u001b[0m\n",
      "\u001b[33m[W 2022-02-15 21:06:56,299]\u001b[0m Param epsilon_start unique value length is less than 2.\u001b[0m\n",
      "\u001b[33m[W 2022-02-15 21:06:56,781]\u001b[0m Param nn_hidden_layers unique value length is less than 2.\u001b[0m\n"
     ]
    },
    {
     "name": "stdout",
     "output_type": "stream",
     "text": [
      "https://app.neptune.ai/plabartabajo/parametric-q-learning-cart-pole/e/PAR-64\n",
      "Remember to stop your run once you’ve finished logging your metadata (https://docs.neptune.ai/api-reference/run#.stop). It will be stopped automatically only when the notebook kernel/interactive console is terminated.\n",
      "67,586 parameters\n"
     ]
    },
    {
     "name": "stderr",
     "output_type": "stream",
     "text": [
      "100%|██████████████████████████████████████████████████████████████████████████| 500/500 [01:27<00:00,  5.69it/s]\n",
      "100%|████████████████████████████████████████████████████████████████████████| 1000/1000 [01:35<00:00, 10.47it/s]"
     ]
    },
    {
     "name": "stdout",
     "output_type": "stream",
     "text": [
      "Shutting down background jobs, please wait a moment...\n",
      "Done!\n"
     ]
    },
    {
     "name": "stderr",
     "output_type": "stream",
     "text": [
      "\n",
      "Waiting for the remaining 34 operations to synchronize with Neptune. Do not kill this process.\n"
     ]
    },
    {
     "name": "stdout",
     "output_type": "stream",
     "text": [
      "All 34 operations synced, thanks for waiting!\n"
     ]
    },
    {
     "name": "stderr",
     "output_type": "stream",
     "text": [
      "\u001b[32m[I 2022-02-15 21:10:03,838]\u001b[0m Trial 12 finished with value: 313.91 and parameters: {'learning_rate': 0.004996227982462779, 'discount_factor': 0.9, 'batch_size': 16, 'memory_size': 100000, 'freq_steps_train': 8, 'freq_steps_update_target': 10, 'n_steps_warm_up_memory': 5000, 'n_gradient_steps': 16, 'nn_hidden_layers': '[256, 256]', 'max_grad_norm': 100, 'normalize_state': True, 'epsilon_start': 0.9, 'epsilon_end': 0.12262191488796657, 'steps_epsilon_decay': 100000, 'seed': 881993024}. Best is trial 12 with value: 313.91.\u001b[0m\n",
      "\u001b[33m[W 2022-02-15 21:10:14,860]\u001b[0m Param epsilon_start unique value length is less than 2.\u001b[0m\n",
      "\u001b[33m[W 2022-02-15 21:10:15,243]\u001b[0m Param nn_hidden_layers unique value length is less than 2.\u001b[0m\n",
      "\u001b[33m[W 2022-02-15 21:10:15,507]\u001b[0m Param epsilon_start unique value length is less than 2.\u001b[0m\n",
      "\u001b[33m[W 2022-02-15 21:10:15,735]\u001b[0m Param nn_hidden_layers unique value length is less than 2.\u001b[0m\n",
      "\u001b[33m[W 2022-02-15 21:10:15,948]\u001b[0m Param epsilon_start unique value length is less than 2.\u001b[0m\n",
      "\u001b[33m[W 2022-02-15 21:10:16,184]\u001b[0m Param nn_hidden_layers unique value length is less than 2.\u001b[0m\n",
      "\u001b[33m[W 2022-02-15 21:10:16,325]\u001b[0m Param epsilon_start unique value length is less than 2.\u001b[0m\n",
      "\u001b[33m[W 2022-02-15 21:10:16,349]\u001b[0m Param epsilon_start unique value length is less than 2.\u001b[0m\n",
      "\u001b[33m[W 2022-02-15 21:10:16,373]\u001b[0m Param epsilon_start unique value length is less than 2.\u001b[0m\n",
      "\u001b[33m[W 2022-02-15 21:10:16,419]\u001b[0m Param epsilon_start unique value length is less than 2.\u001b[0m\n",
      "\u001b[33m[W 2022-02-15 21:10:16,444]\u001b[0m Param epsilon_start unique value length is less than 2.\u001b[0m\n",
      "\u001b[33m[W 2022-02-15 21:10:16,469]\u001b[0m Param epsilon_start unique value length is less than 2.\u001b[0m\n",
      "\u001b[33m[W 2022-02-15 21:10:16,504]\u001b[0m Param epsilon_start unique value length is less than 2.\u001b[0m\n",
      "\u001b[33m[W 2022-02-15 21:10:16,529]\u001b[0m Param epsilon_start unique value length is less than 2.\u001b[0m\n",
      "\u001b[33m[W 2022-02-15 21:10:16,554]\u001b[0m Param epsilon_start unique value length is less than 2.\u001b[0m\n",
      "\u001b[33m[W 2022-02-15 21:10:16,577]\u001b[0m Param epsilon_start unique value length is less than 2.\u001b[0m\n",
      "\u001b[33m[W 2022-02-15 21:10:16,602]\u001b[0m Param epsilon_start unique value length is less than 2.\u001b[0m\n",
      "\u001b[33m[W 2022-02-15 21:10:16,636]\u001b[0m Param epsilon_start unique value length is less than 2.\u001b[0m\n",
      "\u001b[33m[W 2022-02-15 21:10:16,670]\u001b[0m Param epsilon_start unique value length is less than 2.\u001b[0m\n",
      "\u001b[33m[W 2022-02-15 21:10:16,693]\u001b[0m Param epsilon_start unique value length is less than 2.\u001b[0m\n",
      "\u001b[33m[W 2022-02-15 21:10:16,817]\u001b[0m Param epsilon_start unique value length is less than 2.\u001b[0m\n",
      "\u001b[33m[W 2022-02-15 21:10:17,041]\u001b[0m Param nn_hidden_layers unique value length is less than 2.\u001b[0m\n",
      "\u001b[33m[W 2022-02-15 21:10:17,294]\u001b[0m Param epsilon_start unique value length is less than 2.\u001b[0m\n",
      "\u001b[33m[W 2022-02-15 21:10:17,530]\u001b[0m Param nn_hidden_layers unique value length is less than 2.\u001b[0m\n",
      "\u001b[33m[W 2022-02-15 21:10:17,829]\u001b[0m Param epsilon_start unique value length is less than 2.\u001b[0m\n",
      "\u001b[33m[W 2022-02-15 21:10:18,340]\u001b[0m Param nn_hidden_layers unique value length is less than 2.\u001b[0m\n",
      "\u001b[33m[W 2022-02-15 21:10:18,608]\u001b[0m Param epsilon_start unique value length is less than 2.\u001b[0m\n",
      "\u001b[33m[W 2022-02-15 21:10:18,952]\u001b[0m Param nn_hidden_layers unique value length is less than 2.\u001b[0m\n",
      "\u001b[33m[W 2022-02-15 21:10:19,183]\u001b[0m Param epsilon_start unique value length is less than 2.\u001b[0m\n",
      "\u001b[33m[W 2022-02-15 21:10:19,430]\u001b[0m Param nn_hidden_layers unique value length is less than 2.\u001b[0m\n",
      "\u001b[33m[W 2022-02-15 21:10:19,662]\u001b[0m Param epsilon_start unique value length is less than 2.\u001b[0m\n",
      "\u001b[33m[W 2022-02-15 21:10:19,927]\u001b[0m Param nn_hidden_layers unique value length is less than 2.\u001b[0m\n",
      "\u001b[33m[W 2022-02-15 21:10:20,156]\u001b[0m Param epsilon_start unique value length is less than 2.\u001b[0m\n",
      "\u001b[33m[W 2022-02-15 21:10:20,381]\u001b[0m Param nn_hidden_layers unique value length is less than 2.\u001b[0m\n",
      "\u001b[33m[W 2022-02-15 21:10:20,558]\u001b[0m Param nn_hidden_layers unique value length is less than 2.\u001b[0m\n",
      "\u001b[33m[W 2022-02-15 21:10:20,594]\u001b[0m Param nn_hidden_layers unique value length is less than 2.\u001b[0m\n",
      "\u001b[33m[W 2022-02-15 21:10:20,633]\u001b[0m Param nn_hidden_layers unique value length is less than 2.\u001b[0m\n",
      "\u001b[33m[W 2022-02-15 21:10:20,671]\u001b[0m Param nn_hidden_layers unique value length is less than 2.\u001b[0m\n",
      "\u001b[33m[W 2022-02-15 21:10:20,712]\u001b[0m Param nn_hidden_layers unique value length is less than 2.\u001b[0m\n",
      "\u001b[33m[W 2022-02-15 21:10:20,759]\u001b[0m Param nn_hidden_layers unique value length is less than 2.\u001b[0m\n",
      "\u001b[33m[W 2022-02-15 21:10:20,808]\u001b[0m Param nn_hidden_layers unique value length is less than 2.\u001b[0m\n",
      "\u001b[33m[W 2022-02-15 21:10:20,876]\u001b[0m Param nn_hidden_layers unique value length is less than 2.\u001b[0m\n",
      "\u001b[33m[W 2022-02-15 21:10:20,917]\u001b[0m Param nn_hidden_layers unique value length is less than 2.\u001b[0m\n",
      "\u001b[33m[W 2022-02-15 21:10:20,959]\u001b[0m Param nn_hidden_layers unique value length is less than 2.\u001b[0m\n",
      "\u001b[33m[W 2022-02-15 21:10:20,998]\u001b[0m Param nn_hidden_layers unique value length is less than 2.\u001b[0m\n",
      "\u001b[33m[W 2022-02-15 21:10:21,080]\u001b[0m Param nn_hidden_layers unique value length is less than 2.\u001b[0m\n",
      "\u001b[33m[W 2022-02-15 21:10:21,127]\u001b[0m Param nn_hidden_layers unique value length is less than 2.\u001b[0m\n",
      "\u001b[33m[W 2022-02-15 21:10:21,169]\u001b[0m Param nn_hidden_layers unique value length is less than 2.\u001b[0m\n",
      "\u001b[33m[W 2022-02-15 21:10:21,374]\u001b[0m Param epsilon_start unique value length is less than 2.\u001b[0m\n",
      "\u001b[33m[W 2022-02-15 21:10:21,707]\u001b[0m Param nn_hidden_layers unique value length is less than 2.\u001b[0m\n",
      "\u001b[33m[W 2022-02-15 21:10:22,010]\u001b[0m Param epsilon_start unique value length is less than 2.\u001b[0m\n",
      "\u001b[33m[W 2022-02-15 21:10:22,259]\u001b[0m Param nn_hidden_layers unique value length is less than 2.\u001b[0m\n",
      "\u001b[33m[W 2022-02-15 21:10:22,499]\u001b[0m Param epsilon_start unique value length is less than 2.\u001b[0m\n",
      "\u001b[33m[W 2022-02-15 21:10:22,748]\u001b[0m Param nn_hidden_layers unique value length is less than 2.\u001b[0m\n"
     ]
    },
    {
     "name": "stdout",
     "output_type": "stream",
     "text": [
      "https://app.neptune.ai/plabartabajo/parametric-q-learning-cart-pole/e/PAR-65\n",
      "Remember to stop your run once you’ve finished logging your metadata (https://docs.neptune.ai/api-reference/run#.stop). It will be stopped automatically only when the notebook kernel/interactive console is terminated.\n",
      "67,586 parameters\n"
     ]
    },
    {
     "name": "stderr",
     "output_type": "stream",
     "text": [
      "100%|██████████████████████████████████████████████████████████████████████████| 500/500 [01:07<00:00,  7.38it/s]\n",
      "100%|████████████████████████████████████████████████████████████████████████| 1000/1000 [00:48<00:00, 20.57it/s]"
     ]
    },
    {
     "name": "stdout",
     "output_type": "stream",
     "text": [
      "Shutting down background jobs, please wait a moment...\n",
      "Done!\n"
     ]
    },
    {
     "name": "stderr",
     "output_type": "stream",
     "text": [
      "\n",
      "Waiting for the remaining 7 operations to synchronize with Neptune. Do not kill this process.\n"
     ]
    },
    {
     "name": "stdout",
     "output_type": "stream",
     "text": [
      "All 7 operations synced, thanks for waiting!\n"
     ]
    },
    {
     "name": "stderr",
     "output_type": "stream",
     "text": [
      "\u001b[32m[I 2022-02-15 21:12:22,730]\u001b[0m Trial 13 finished with value: 211.612 and parameters: {'learning_rate': 0.0010108577278620198, 'discount_factor': 0.9, 'batch_size': 16, 'memory_size': 100000, 'freq_steps_train': 8, 'freq_steps_update_target': 10, 'n_steps_warm_up_memory': 5000, 'n_gradient_steps': 16, 'nn_hidden_layers': '[256, 256]', 'max_grad_norm': 100, 'normalize_state': True, 'epsilon_start': 0.9, 'epsilon_end': 0.08885340762055942, 'steps_epsilon_decay': 100000, 'seed': 845027190}. Best is trial 12 with value: 313.91.\u001b[0m\n",
      "\u001b[33m[W 2022-02-15 21:12:39,609]\u001b[0m Param epsilon_start unique value length is less than 2.\u001b[0m\n",
      "\u001b[33m[W 2022-02-15 21:12:40,202]\u001b[0m Param nn_hidden_layers unique value length is less than 2.\u001b[0m\n",
      "\u001b[33m[W 2022-02-15 21:12:40,580]\u001b[0m Param epsilon_start unique value length is less than 2.\u001b[0m\n",
      "\u001b[33m[W 2022-02-15 21:12:41,035]\u001b[0m Param nn_hidden_layers unique value length is less than 2.\u001b[0m\n",
      "\u001b[33m[W 2022-02-15 21:12:41,510]\u001b[0m Param epsilon_start unique value length is less than 2.\u001b[0m\n",
      "\u001b[33m[W 2022-02-15 21:12:41,949]\u001b[0m Param nn_hidden_layers unique value length is less than 2.\u001b[0m\n",
      "\u001b[33m[W 2022-02-15 21:12:42,228]\u001b[0m Param epsilon_start unique value length is less than 2.\u001b[0m\n",
      "\u001b[33m[W 2022-02-15 21:12:42,264]\u001b[0m Param epsilon_start unique value length is less than 2.\u001b[0m\n",
      "\u001b[33m[W 2022-02-15 21:12:42,303]\u001b[0m Param epsilon_start unique value length is less than 2.\u001b[0m\n",
      "\u001b[33m[W 2022-02-15 21:12:42,367]\u001b[0m Param epsilon_start unique value length is less than 2.\u001b[0m\n",
      "\u001b[33m[W 2022-02-15 21:12:42,399]\u001b[0m Param epsilon_start unique value length is less than 2.\u001b[0m\n",
      "\u001b[33m[W 2022-02-15 21:12:42,432]\u001b[0m Param epsilon_start unique value length is less than 2.\u001b[0m\n",
      "\u001b[33m[W 2022-02-15 21:12:42,479]\u001b[0m Param epsilon_start unique value length is less than 2.\u001b[0m\n",
      "\u001b[33m[W 2022-02-15 21:12:42,511]\u001b[0m Param epsilon_start unique value length is less than 2.\u001b[0m\n",
      "\u001b[33m[W 2022-02-15 21:12:42,544]\u001b[0m Param epsilon_start unique value length is less than 2.\u001b[0m\n",
      "\u001b[33m[W 2022-02-15 21:12:42,580]\u001b[0m Param epsilon_start unique value length is less than 2.\u001b[0m\n",
      "\u001b[33m[W 2022-02-15 21:12:42,643]\u001b[0m Param epsilon_start unique value length is less than 2.\u001b[0m\n",
      "\u001b[33m[W 2022-02-15 21:12:42,872]\u001b[0m Param epsilon_start unique value length is less than 2.\u001b[0m\n",
      "\u001b[33m[W 2022-02-15 21:12:42,950]\u001b[0m Param epsilon_start unique value length is less than 2.\u001b[0m\n",
      "\u001b[33m[W 2022-02-15 21:12:42,983]\u001b[0m Param epsilon_start unique value length is less than 2.\u001b[0m\n",
      "\u001b[33m[W 2022-02-15 21:12:43,152]\u001b[0m Param epsilon_start unique value length is less than 2.\u001b[0m\n",
      "\u001b[33m[W 2022-02-15 21:12:43,448]\u001b[0m Param nn_hidden_layers unique value length is less than 2.\u001b[0m\n",
      "\u001b[33m[W 2022-02-15 21:12:43,793]\u001b[0m Param epsilon_start unique value length is less than 2.\u001b[0m\n",
      "\u001b[33m[W 2022-02-15 21:12:44,250]\u001b[0m Param nn_hidden_layers unique value length is less than 2.\u001b[0m\n",
      "\u001b[33m[W 2022-02-15 21:12:44,629]\u001b[0m Param epsilon_start unique value length is less than 2.\u001b[0m\n",
      "\u001b[33m[W 2022-02-15 21:12:45,227]\u001b[0m Param nn_hidden_layers unique value length is less than 2.\u001b[0m\n",
      "\u001b[33m[W 2022-02-15 21:12:45,651]\u001b[0m Param epsilon_start unique value length is less than 2.\u001b[0m\n",
      "\u001b[33m[W 2022-02-15 21:12:46,313]\u001b[0m Param nn_hidden_layers unique value length is less than 2.\u001b[0m\n",
      "\u001b[33m[W 2022-02-15 21:12:46,605]\u001b[0m Param epsilon_start unique value length is less than 2.\u001b[0m\n",
      "\u001b[33m[W 2022-02-15 21:12:46,921]\u001b[0m Param nn_hidden_layers unique value length is less than 2.\u001b[0m\n",
      "\u001b[33m[W 2022-02-15 21:12:47,273]\u001b[0m Param epsilon_start unique value length is less than 2.\u001b[0m\n",
      "\u001b[33m[W 2022-02-15 21:12:47,640]\u001b[0m Param nn_hidden_layers unique value length is less than 2.\u001b[0m\n",
      "\u001b[33m[W 2022-02-15 21:12:48,000]\u001b[0m Param epsilon_start unique value length is less than 2.\u001b[0m\n",
      "\u001b[33m[W 2022-02-15 21:12:48,335]\u001b[0m Param nn_hidden_layers unique value length is less than 2.\u001b[0m\n",
      "\u001b[33m[W 2022-02-15 21:12:48,504]\u001b[0m Param nn_hidden_layers unique value length is less than 2.\u001b[0m\n",
      "\u001b[33m[W 2022-02-15 21:12:48,547]\u001b[0m Param nn_hidden_layers unique value length is less than 2.\u001b[0m\n",
      "\u001b[33m[W 2022-02-15 21:12:48,594]\u001b[0m Param nn_hidden_layers unique value length is less than 2.\u001b[0m\n",
      "\u001b[33m[W 2022-02-15 21:12:48,643]\u001b[0m Param nn_hidden_layers unique value length is less than 2.\u001b[0m\n",
      "\u001b[33m[W 2022-02-15 21:12:48,692]\u001b[0m Param nn_hidden_layers unique value length is less than 2.\u001b[0m\n",
      "\u001b[33m[W 2022-02-15 21:12:48,741]\u001b[0m Param nn_hidden_layers unique value length is less than 2.\u001b[0m\n",
      "\u001b[33m[W 2022-02-15 21:12:48,788]\u001b[0m Param nn_hidden_layers unique value length is less than 2.\u001b[0m\n",
      "\u001b[33m[W 2022-02-15 21:12:48,849]\u001b[0m Param nn_hidden_layers unique value length is less than 2.\u001b[0m\n",
      "\u001b[33m[W 2022-02-15 21:12:48,892]\u001b[0m Param nn_hidden_layers unique value length is less than 2.\u001b[0m\n",
      "\u001b[33m[W 2022-02-15 21:12:48,936]\u001b[0m Param nn_hidden_layers unique value length is less than 2.\u001b[0m\n",
      "\u001b[33m[W 2022-02-15 21:12:48,979]\u001b[0m Param nn_hidden_layers unique value length is less than 2.\u001b[0m\n",
      "\u001b[33m[W 2022-02-15 21:12:49,087]\u001b[0m Param nn_hidden_layers unique value length is less than 2.\u001b[0m\n",
      "\u001b[33m[W 2022-02-15 21:12:49,160]\u001b[0m Param nn_hidden_layers unique value length is less than 2.\u001b[0m\n",
      "\u001b[33m[W 2022-02-15 21:12:49,219]\u001b[0m Param nn_hidden_layers unique value length is less than 2.\u001b[0m\n",
      "\u001b[33m[W 2022-02-15 21:12:49,442]\u001b[0m Param epsilon_start unique value length is less than 2.\u001b[0m\n",
      "\u001b[33m[W 2022-02-15 21:12:49,829]\u001b[0m Param nn_hidden_layers unique value length is less than 2.\u001b[0m\n",
      "\u001b[33m[W 2022-02-15 21:12:50,149]\u001b[0m Param epsilon_start unique value length is less than 2.\u001b[0m\n",
      "\u001b[33m[W 2022-02-15 21:12:50,467]\u001b[0m Param nn_hidden_layers unique value length is less than 2.\u001b[0m\n",
      "\u001b[33m[W 2022-02-15 21:12:50,770]\u001b[0m Param epsilon_start unique value length is less than 2.\u001b[0m\n",
      "\u001b[33m[W 2022-02-15 21:12:51,273]\u001b[0m Param nn_hidden_layers unique value length is less than 2.\u001b[0m\n"
     ]
    },
    {
     "name": "stdout",
     "output_type": "stream",
     "text": [
      "https://app.neptune.ai/plabartabajo/parametric-q-learning-cart-pole/e/PAR-66\n",
      "Remember to stop your run once you’ve finished logging your metadata (https://docs.neptune.ai/api-reference/run#.stop). It will be stopped automatically only when the notebook kernel/interactive console is terminated.\n",
      "67,586 parameters\n"
     ]
    },
    {
     "name": "stderr",
     "output_type": "stream",
     "text": [
      "100%|██████████████████████████████████████████████████████████████████████████| 500/500 [02:33<00:00,  3.26it/s]\n",
      "100%|████████████████████████████████████████████████████████████████████████| 1000/1000 [00:35<00:00, 27.81it/s]"
     ]
    },
    {
     "name": "stdout",
     "output_type": "stream",
     "text": [
      "Shutting down background jobs, please wait a moment...\n",
      "Done!\n"
     ]
    },
    {
     "name": "stderr",
     "output_type": "stream",
     "text": [
      "\n",
      "Waiting for the remaining 36 operations to synchronize with Neptune. Do not kill this process.\n"
     ]
    },
    {
     "name": "stdout",
     "output_type": "stream",
     "text": [
      "All 36 operations synced, thanks for waiting!\n"
     ]
    },
    {
     "name": "stderr",
     "output_type": "stream",
     "text": [
      "\u001b[32m[I 2022-02-15 21:16:04,776]\u001b[0m Trial 14 finished with value: 109.303 and parameters: {'learning_rate': 0.0005717178557321615, 'discount_factor': 0.9, 'batch_size': 16, 'memory_size': 100000, 'freq_steps_train': 8, 'freq_steps_update_target': 100, 'n_steps_warm_up_memory': 5000, 'n_gradient_steps': 16, 'nn_hidden_layers': '[256, 256]', 'max_grad_norm': 100, 'normalize_state': True, 'epsilon_start': 0.9, 'epsilon_end': 0.08199052689598185, 'steps_epsilon_decay': 100000, 'seed': 853752449}. Best is trial 12 with value: 313.91.\u001b[0m\n",
      "\u001b[33m[W 2022-02-15 21:16:15,553]\u001b[0m Param epsilon_start unique value length is less than 2.\u001b[0m\n",
      "\u001b[33m[W 2022-02-15 21:16:15,940]\u001b[0m Param nn_hidden_layers unique value length is less than 2.\u001b[0m\n",
      "\u001b[33m[W 2022-02-15 21:16:16,223]\u001b[0m Param epsilon_start unique value length is less than 2.\u001b[0m\n",
      "\u001b[33m[W 2022-02-15 21:16:16,510]\u001b[0m Param nn_hidden_layers unique value length is less than 2.\u001b[0m\n",
      "\u001b[33m[W 2022-02-15 21:16:16,782]\u001b[0m Param epsilon_start unique value length is less than 2.\u001b[0m\n",
      "\u001b[33m[W 2022-02-15 21:16:17,077]\u001b[0m Param nn_hidden_layers unique value length is less than 2.\u001b[0m\n",
      "\u001b[33m[W 2022-02-15 21:16:17,235]\u001b[0m Param epsilon_start unique value length is less than 2.\u001b[0m\n",
      "\u001b[33m[W 2022-02-15 21:16:17,261]\u001b[0m Param epsilon_start unique value length is less than 2.\u001b[0m\n",
      "\u001b[33m[W 2022-02-15 21:16:17,286]\u001b[0m Param epsilon_start unique value length is less than 2.\u001b[0m\n",
      "\u001b[33m[W 2022-02-15 21:16:17,341]\u001b[0m Param epsilon_start unique value length is less than 2.\u001b[0m\n",
      "\u001b[33m[W 2022-02-15 21:16:17,370]\u001b[0m Param epsilon_start unique value length is less than 2.\u001b[0m\n",
      "\u001b[33m[W 2022-02-15 21:16:17,397]\u001b[0m Param epsilon_start unique value length is less than 2.\u001b[0m\n",
      "\u001b[33m[W 2022-02-15 21:16:17,436]\u001b[0m Param epsilon_start unique value length is less than 2.\u001b[0m\n",
      "\u001b[33m[W 2022-02-15 21:16:17,466]\u001b[0m Param epsilon_start unique value length is less than 2.\u001b[0m\n",
      "\u001b[33m[W 2022-02-15 21:16:17,492]\u001b[0m Param epsilon_start unique value length is less than 2.\u001b[0m\n",
      "\u001b[33m[W 2022-02-15 21:16:17,518]\u001b[0m Param epsilon_start unique value length is less than 2.\u001b[0m\n",
      "\u001b[33m[W 2022-02-15 21:16:17,547]\u001b[0m Param epsilon_start unique value length is less than 2.\u001b[0m\n",
      "\u001b[33m[W 2022-02-15 21:16:17,590]\u001b[0m Param epsilon_start unique value length is less than 2.\u001b[0m\n",
      "\u001b[33m[W 2022-02-15 21:16:17,638]\u001b[0m Param epsilon_start unique value length is less than 2.\u001b[0m\n",
      "\u001b[33m[W 2022-02-15 21:16:17,673]\u001b[0m Param epsilon_start unique value length is less than 2.\u001b[0m\n",
      "\u001b[33m[W 2022-02-15 21:16:17,820]\u001b[0m Param epsilon_start unique value length is less than 2.\u001b[0m\n",
      "\u001b[33m[W 2022-02-15 21:16:18,087]\u001b[0m Param nn_hidden_layers unique value length is less than 2.\u001b[0m\n",
      "\u001b[33m[W 2022-02-15 21:16:18,337]\u001b[0m Param epsilon_start unique value length is less than 2.\u001b[0m\n",
      "\u001b[33m[W 2022-02-15 21:16:18,608]\u001b[0m Param nn_hidden_layers unique value length is less than 2.\u001b[0m\n",
      "\u001b[33m[W 2022-02-15 21:16:18,912]\u001b[0m Param epsilon_start unique value length is less than 2.\u001b[0m\n",
      "\u001b[33m[W 2022-02-15 21:16:19,249]\u001b[0m Param nn_hidden_layers unique value length is less than 2.\u001b[0m\n",
      "\u001b[33m[W 2022-02-15 21:16:19,595]\u001b[0m Param epsilon_start unique value length is less than 2.\u001b[0m\n",
      "\u001b[33m[W 2022-02-15 21:16:19,940]\u001b[0m Param nn_hidden_layers unique value length is less than 2.\u001b[0m\n",
      "\u001b[33m[W 2022-02-15 21:16:20,273]\u001b[0m Param epsilon_start unique value length is less than 2.\u001b[0m\n",
      "\u001b[33m[W 2022-02-15 21:16:20,514]\u001b[0m Param nn_hidden_layers unique value length is less than 2.\u001b[0m\n",
      "\u001b[33m[W 2022-02-15 21:16:20,763]\u001b[0m Param epsilon_start unique value length is less than 2.\u001b[0m\n",
      "\u001b[33m[W 2022-02-15 21:16:20,997]\u001b[0m Param nn_hidden_layers unique value length is less than 2.\u001b[0m\n",
      "\u001b[33m[W 2022-02-15 21:16:21,233]\u001b[0m Param epsilon_start unique value length is less than 2.\u001b[0m\n",
      "\u001b[33m[W 2022-02-15 21:16:21,471]\u001b[0m Param nn_hidden_layers unique value length is less than 2.\u001b[0m\n",
      "\u001b[33m[W 2022-02-15 21:16:21,618]\u001b[0m Param nn_hidden_layers unique value length is less than 2.\u001b[0m\n",
      "\u001b[33m[W 2022-02-15 21:16:21,655]\u001b[0m Param nn_hidden_layers unique value length is less than 2.\u001b[0m\n",
      "\u001b[33m[W 2022-02-15 21:16:21,691]\u001b[0m Param nn_hidden_layers unique value length is less than 2.\u001b[0m\n",
      "\u001b[33m[W 2022-02-15 21:16:21,728]\u001b[0m Param nn_hidden_layers unique value length is less than 2.\u001b[0m\n",
      "\u001b[33m[W 2022-02-15 21:16:21,765]\u001b[0m Param nn_hidden_layers unique value length is less than 2.\u001b[0m\n",
      "\u001b[33m[W 2022-02-15 21:16:21,805]\u001b[0m Param nn_hidden_layers unique value length is less than 2.\u001b[0m\n",
      "\u001b[33m[W 2022-02-15 21:16:21,843]\u001b[0m Param nn_hidden_layers unique value length is less than 2.\u001b[0m\n",
      "\u001b[33m[W 2022-02-15 21:16:21,893]\u001b[0m Param nn_hidden_layers unique value length is less than 2.\u001b[0m\n",
      "\u001b[33m[W 2022-02-15 21:16:21,929]\u001b[0m Param nn_hidden_layers unique value length is less than 2.\u001b[0m\n",
      "\u001b[33m[W 2022-02-15 21:16:21,965]\u001b[0m Param nn_hidden_layers unique value length is less than 2.\u001b[0m\n",
      "\u001b[33m[W 2022-02-15 21:16:22,002]\u001b[0m Param nn_hidden_layers unique value length is less than 2.\u001b[0m\n",
      "\u001b[33m[W 2022-02-15 21:16:22,081]\u001b[0m Param nn_hidden_layers unique value length is less than 2.\u001b[0m\n",
      "\u001b[33m[W 2022-02-15 21:16:22,130]\u001b[0m Param nn_hidden_layers unique value length is less than 2.\u001b[0m\n",
      "\u001b[33m[W 2022-02-15 21:16:22,168]\u001b[0m Param nn_hidden_layers unique value length is less than 2.\u001b[0m\n",
      "\u001b[33m[W 2022-02-15 21:16:22,342]\u001b[0m Param epsilon_start unique value length is less than 2.\u001b[0m\n",
      "\u001b[33m[W 2022-02-15 21:16:22,740]\u001b[0m Param nn_hidden_layers unique value length is less than 2.\u001b[0m\n",
      "\u001b[33m[W 2022-02-15 21:16:23,042]\u001b[0m Param epsilon_start unique value length is less than 2.\u001b[0m\n",
      "\u001b[33m[W 2022-02-15 21:16:23,353]\u001b[0m Param nn_hidden_layers unique value length is less than 2.\u001b[0m\n",
      "\u001b[33m[W 2022-02-15 21:16:23,632]\u001b[0m Param epsilon_start unique value length is less than 2.\u001b[0m\n",
      "\u001b[33m[W 2022-02-15 21:16:23,937]\u001b[0m Param nn_hidden_layers unique value length is less than 2.\u001b[0m\n"
     ]
    },
    {
     "name": "stdout",
     "output_type": "stream",
     "text": [
      "https://app.neptune.ai/plabartabajo/parametric-q-learning-cart-pole/e/PAR-67\n",
      "Remember to stop your run once you’ve finished logging your metadata (https://docs.neptune.ai/api-reference/run#.stop). It will be stopped automatically only when the notebook kernel/interactive console is terminated.\n",
      "67,586 parameters\n"
     ]
    },
    {
     "name": "stderr",
     "output_type": "stream",
     "text": [
      "100%|██████████████████████████████████████████████████████████████████████████| 500/500 [05:15<00:00,  1.59it/s]\n",
      "100%|████████████████████████████████████████████████████████████████████████| 1000/1000 [00:41<00:00, 23.84it/s]"
     ]
    },
    {
     "name": "stdout",
     "output_type": "stream",
     "text": [
      "Shutting down background jobs, please wait a moment...\n",
      "Done!\n"
     ]
    },
    {
     "name": "stderr",
     "output_type": "stream",
     "text": [
      "\n",
      "Waiting for the remaining 39 operations to synchronize with Neptune. Do not kill this process.\n"
     ]
    },
    {
     "name": "stdout",
     "output_type": "stream",
     "text": [
      "All 39 operations synced, thanks for waiting!\n"
     ]
    },
    {
     "name": "stderr",
     "output_type": "stream",
     "text": [
      "\u001b[32m[I 2022-02-15 21:22:26,905]\u001b[0m Trial 15 finished with value: 99.505 and parameters: {'learning_rate': 0.0011658190898048617, 'discount_factor': 0.9, 'batch_size': 32, 'memory_size': 100000, 'freq_steps_train': 8, 'freq_steps_update_target': 10, 'n_steps_warm_up_memory': 5000, 'n_gradient_steps': 16, 'nn_hidden_layers': '[256, 256]', 'max_grad_norm': 100, 'normalize_state': True, 'epsilon_start': 0.9, 'epsilon_end': 0.1562015809686442, 'steps_epsilon_decay': 10000, 'seed': 917945676}. Best is trial 12 with value: 313.91.\u001b[0m\n",
      "\u001b[33m[W 2022-02-15 21:22:53,074]\u001b[0m Param epsilon_start unique value length is less than 2.\u001b[0m\n",
      "\u001b[33m[W 2022-02-15 21:22:53,807]\u001b[0m Param nn_hidden_layers unique value length is less than 2.\u001b[0m\n",
      "\u001b[33m[W 2022-02-15 21:22:54,318]\u001b[0m Param epsilon_start unique value length is less than 2.\u001b[0m\n",
      "\u001b[33m[W 2022-02-15 21:22:54,764]\u001b[0m Param nn_hidden_layers unique value length is less than 2.\u001b[0m\n",
      "\u001b[33m[W 2022-02-15 21:22:55,197]\u001b[0m Param epsilon_start unique value length is less than 2.\u001b[0m\n",
      "\u001b[33m[W 2022-02-15 21:22:55,631]\u001b[0m Param nn_hidden_layers unique value length is less than 2.\u001b[0m\n",
      "\u001b[33m[W 2022-02-15 21:22:55,906]\u001b[0m Param epsilon_start unique value length is less than 2.\u001b[0m\n",
      "\u001b[33m[W 2022-02-15 21:22:55,965]\u001b[0m Param epsilon_start unique value length is less than 2.\u001b[0m\n",
      "\u001b[33m[W 2022-02-15 21:22:56,029]\u001b[0m Param epsilon_start unique value length is less than 2.\u001b[0m\n",
      "\u001b[33m[W 2022-02-15 21:22:56,133]\u001b[0m Param epsilon_start unique value length is less than 2.\u001b[0m\n",
      "\u001b[33m[W 2022-02-15 21:22:56,194]\u001b[0m Param epsilon_start unique value length is less than 2.\u001b[0m\n",
      "\u001b[33m[W 2022-02-15 21:22:56,247]\u001b[0m Param epsilon_start unique value length is less than 2.\u001b[0m\n",
      "\u001b[33m[W 2022-02-15 21:22:56,325]\u001b[0m Param epsilon_start unique value length is less than 2.\u001b[0m\n",
      "\u001b[33m[W 2022-02-15 21:22:56,381]\u001b[0m Param epsilon_start unique value length is less than 2.\u001b[0m\n",
      "\u001b[33m[W 2022-02-15 21:22:56,432]\u001b[0m Param epsilon_start unique value length is less than 2.\u001b[0m\n",
      "\u001b[33m[W 2022-02-15 21:22:56,483]\u001b[0m Param epsilon_start unique value length is less than 2.\u001b[0m\n",
      "\u001b[33m[W 2022-02-15 21:22:56,536]\u001b[0m Param epsilon_start unique value length is less than 2.\u001b[0m\n",
      "\u001b[33m[W 2022-02-15 21:22:56,610]\u001b[0m Param epsilon_start unique value length is less than 2.\u001b[0m\n",
      "\u001b[33m[W 2022-02-15 21:22:56,687]\u001b[0m Param epsilon_start unique value length is less than 2.\u001b[0m\n",
      "\u001b[33m[W 2022-02-15 21:22:56,745]\u001b[0m Param epsilon_start unique value length is less than 2.\u001b[0m\n",
      "\u001b[33m[W 2022-02-15 21:22:56,979]\u001b[0m Param epsilon_start unique value length is less than 2.\u001b[0m\n",
      "\u001b[33m[W 2022-02-15 21:22:57,438]\u001b[0m Param nn_hidden_layers unique value length is less than 2.\u001b[0m\n",
      "\u001b[33m[W 2022-02-15 21:22:57,849]\u001b[0m Param epsilon_start unique value length is less than 2.\u001b[0m\n",
      "\u001b[33m[W 2022-02-15 21:22:58,317]\u001b[0m Param nn_hidden_layers unique value length is less than 2.\u001b[0m\n",
      "\u001b[33m[W 2022-02-15 21:22:58,828]\u001b[0m Param epsilon_start unique value length is less than 2.\u001b[0m\n",
      "\u001b[33m[W 2022-02-15 21:22:59,574]\u001b[0m Param nn_hidden_layers unique value length is less than 2.\u001b[0m\n",
      "\u001b[33m[W 2022-02-15 21:23:00,279]\u001b[0m Param epsilon_start unique value length is less than 2.\u001b[0m\n",
      "\u001b[33m[W 2022-02-15 21:23:00,800]\u001b[0m Param nn_hidden_layers unique value length is less than 2.\u001b[0m\n",
      "\u001b[33m[W 2022-02-15 21:23:01,199]\u001b[0m Param epsilon_start unique value length is less than 2.\u001b[0m\n",
      "\u001b[33m[W 2022-02-15 21:23:01,625]\u001b[0m Param nn_hidden_layers unique value length is less than 2.\u001b[0m\n",
      "\u001b[33m[W 2022-02-15 21:23:02,040]\u001b[0m Param epsilon_start unique value length is less than 2.\u001b[0m\n",
      "\u001b[33m[W 2022-02-15 21:23:02,413]\u001b[0m Param nn_hidden_layers unique value length is less than 2.\u001b[0m\n",
      "\u001b[33m[W 2022-02-15 21:23:02,811]\u001b[0m Param epsilon_start unique value length is less than 2.\u001b[0m\n",
      "\u001b[33m[W 2022-02-15 21:23:03,229]\u001b[0m Param nn_hidden_layers unique value length is less than 2.\u001b[0m\n",
      "\u001b[33m[W 2022-02-15 21:23:03,475]\u001b[0m Param nn_hidden_layers unique value length is less than 2.\u001b[0m\n",
      "\u001b[33m[W 2022-02-15 21:23:03,534]\u001b[0m Param nn_hidden_layers unique value length is less than 2.\u001b[0m\n",
      "\u001b[33m[W 2022-02-15 21:23:03,592]\u001b[0m Param nn_hidden_layers unique value length is less than 2.\u001b[0m\n",
      "\u001b[33m[W 2022-02-15 21:23:03,653]\u001b[0m Param nn_hidden_layers unique value length is less than 2.\u001b[0m\n",
      "\u001b[33m[W 2022-02-15 21:23:03,711]\u001b[0m Param nn_hidden_layers unique value length is less than 2.\u001b[0m\n",
      "\u001b[33m[W 2022-02-15 21:23:03,772]\u001b[0m Param nn_hidden_layers unique value length is less than 2.\u001b[0m\n",
      "\u001b[33m[W 2022-02-15 21:23:03,832]\u001b[0m Param nn_hidden_layers unique value length is less than 2.\u001b[0m\n",
      "\u001b[33m[W 2022-02-15 21:23:03,908]\u001b[0m Param nn_hidden_layers unique value length is less than 2.\u001b[0m\n",
      "\u001b[33m[W 2022-02-15 21:23:03,965]\u001b[0m Param nn_hidden_layers unique value length is less than 2.\u001b[0m\n",
      "\u001b[33m[W 2022-02-15 21:23:04,028]\u001b[0m Param nn_hidden_layers unique value length is less than 2.\u001b[0m\n",
      "\u001b[33m[W 2022-02-15 21:23:04,086]\u001b[0m Param nn_hidden_layers unique value length is less than 2.\u001b[0m\n",
      "\u001b[33m[W 2022-02-15 21:23:04,296]\u001b[0m Param nn_hidden_layers unique value length is less than 2.\u001b[0m\n",
      "\u001b[33m[W 2022-02-15 21:23:04,382]\u001b[0m Param nn_hidden_layers unique value length is less than 2.\u001b[0m\n",
      "\u001b[33m[W 2022-02-15 21:23:04,460]\u001b[0m Param nn_hidden_layers unique value length is less than 2.\u001b[0m\n",
      "\u001b[33m[W 2022-02-15 21:23:04,733]\u001b[0m Param epsilon_start unique value length is less than 2.\u001b[0m\n",
      "\u001b[33m[W 2022-02-15 21:23:05,226]\u001b[0m Param nn_hidden_layers unique value length is less than 2.\u001b[0m\n",
      "\u001b[33m[W 2022-02-15 21:23:05,693]\u001b[0m Param epsilon_start unique value length is less than 2.\u001b[0m\n",
      "\u001b[33m[W 2022-02-15 21:23:06,079]\u001b[0m Param nn_hidden_layers unique value length is less than 2.\u001b[0m\n",
      "\u001b[33m[W 2022-02-15 21:23:06,423]\u001b[0m Param epsilon_start unique value length is less than 2.\u001b[0m\n",
      "\u001b[33m[W 2022-02-15 21:23:06,811]\u001b[0m Param nn_hidden_layers unique value length is less than 2.\u001b[0m\n"
     ]
    },
    {
     "name": "stdout",
     "output_type": "stream",
     "text": [
      "https://app.neptune.ai/plabartabajo/parametric-q-learning-cart-pole/e/PAR-68\n",
      "Remember to stop your run once you’ve finished logging your metadata (https://docs.neptune.ai/api-reference/run#.stop). It will be stopped automatically only when the notebook kernel/interactive console is terminated.\n",
      "67,586 parameters\n"
     ]
    },
    {
     "name": "stderr",
     "output_type": "stream",
     "text": [
      "100%|██████████████████████████████████████████████████████████████████████████| 500/500 [01:20<00:00,  6.19it/s]\n",
      "100%|███████████████████████████████████████████████████████████████████████| 1000/1000 [00:03<00:00, 266.65it/s]"
     ]
    },
    {
     "name": "stdout",
     "output_type": "stream",
     "text": [
      "Shutting down background jobs, please wait a moment...\n",
      "Done!\n"
     ]
    },
    {
     "name": "stderr",
     "output_type": "stream",
     "text": [
      "\n",
      "Waiting for the remaining 9 operations to synchronize with Neptune. Do not kill this process.\n"
     ]
    },
    {
     "name": "stdout",
     "output_type": "stream",
     "text": [
      "All 9 operations synced, thanks for waiting!\n"
     ]
    },
    {
     "name": "stderr",
     "output_type": "stream",
     "text": [
      "\u001b[32m[I 2022-02-15 21:24:36,267]\u001b[0m Trial 16 finished with value: 20.462 and parameters: {'learning_rate': 0.014449891232633148, 'discount_factor': 0.9, 'batch_size': 16, 'memory_size': 100000, 'freq_steps_train': 8, 'freq_steps_update_target': 10, 'n_steps_warm_up_memory': 5000, 'n_gradient_steps': 16, 'nn_hidden_layers': '[256, 256]', 'max_grad_norm': 1, 'normalize_state': True, 'epsilon_start': 0.9, 'epsilon_end': 0.08797969651510802, 'steps_epsilon_decay': 100000, 'seed': 632667626}. Best is trial 12 with value: 313.91.\u001b[0m\n",
      "\u001b[33m[W 2022-02-15 21:24:45,412]\u001b[0m Param epsilon_start unique value length is less than 2.\u001b[0m\n",
      "\u001b[33m[W 2022-02-15 21:24:45,706]\u001b[0m Param nn_hidden_layers unique value length is less than 2.\u001b[0m\n",
      "\u001b[33m[W 2022-02-15 21:24:45,953]\u001b[0m Param epsilon_start unique value length is less than 2.\u001b[0m\n",
      "\u001b[33m[W 2022-02-15 21:24:46,172]\u001b[0m Param nn_hidden_layers unique value length is less than 2.\u001b[0m\n",
      "\u001b[33m[W 2022-02-15 21:24:46,377]\u001b[0m Param epsilon_start unique value length is less than 2.\u001b[0m\n",
      "\u001b[33m[W 2022-02-15 21:24:46,601]\u001b[0m Param nn_hidden_layers unique value length is less than 2.\u001b[0m\n",
      "\u001b[33m[W 2022-02-15 21:24:46,738]\u001b[0m Param epsilon_start unique value length is less than 2.\u001b[0m\n",
      "\u001b[33m[W 2022-02-15 21:24:46,761]\u001b[0m Param epsilon_start unique value length is less than 2.\u001b[0m\n",
      "\u001b[33m[W 2022-02-15 21:24:46,786]\u001b[0m Param epsilon_start unique value length is less than 2.\u001b[0m\n",
      "\u001b[33m[W 2022-02-15 21:24:46,832]\u001b[0m Param epsilon_start unique value length is less than 2.\u001b[0m\n",
      "\u001b[33m[W 2022-02-15 21:24:46,859]\u001b[0m Param epsilon_start unique value length is less than 2.\u001b[0m\n",
      "\u001b[33m[W 2022-02-15 21:24:46,886]\u001b[0m Param epsilon_start unique value length is less than 2.\u001b[0m\n",
      "\u001b[33m[W 2022-02-15 21:24:46,919]\u001b[0m Param epsilon_start unique value length is less than 2.\u001b[0m\n",
      "\u001b[33m[W 2022-02-15 21:24:46,946]\u001b[0m Param epsilon_start unique value length is less than 2.\u001b[0m\n",
      "\u001b[33m[W 2022-02-15 21:24:46,975]\u001b[0m Param epsilon_start unique value length is less than 2.\u001b[0m\n",
      "\u001b[33m[W 2022-02-15 21:24:46,998]\u001b[0m Param epsilon_start unique value length is less than 2.\u001b[0m\n",
      "\u001b[33m[W 2022-02-15 21:24:47,024]\u001b[0m Param epsilon_start unique value length is less than 2.\u001b[0m\n",
      "\u001b[33m[W 2022-02-15 21:24:47,058]\u001b[0m Param epsilon_start unique value length is less than 2.\u001b[0m\n",
      "\u001b[33m[W 2022-02-15 21:24:47,093]\u001b[0m Param epsilon_start unique value length is less than 2.\u001b[0m\n",
      "\u001b[33m[W 2022-02-15 21:24:47,115]\u001b[0m Param epsilon_start unique value length is less than 2.\u001b[0m\n",
      "\u001b[33m[W 2022-02-15 21:24:47,236]\u001b[0m Param epsilon_start unique value length is less than 2.\u001b[0m\n",
      "\u001b[33m[W 2022-02-15 21:24:47,439]\u001b[0m Param nn_hidden_layers unique value length is less than 2.\u001b[0m\n",
      "\u001b[33m[W 2022-02-15 21:24:47,642]\u001b[0m Param epsilon_start unique value length is less than 2.\u001b[0m\n",
      "\u001b[33m[W 2022-02-15 21:24:47,849]\u001b[0m Param nn_hidden_layers unique value length is less than 2.\u001b[0m\n",
      "\u001b[33m[W 2022-02-15 21:24:48,073]\u001b[0m Param epsilon_start unique value length is less than 2.\u001b[0m\n",
      "\u001b[33m[W 2022-02-15 21:24:48,339]\u001b[0m Param nn_hidden_layers unique value length is less than 2.\u001b[0m\n",
      "\u001b[33m[W 2022-02-15 21:24:48,610]\u001b[0m Param epsilon_start unique value length is less than 2.\u001b[0m\n",
      "\u001b[33m[W 2022-02-15 21:24:48,819]\u001b[0m Param nn_hidden_layers unique value length is less than 2.\u001b[0m\n",
      "\u001b[33m[W 2022-02-15 21:24:49,015]\u001b[0m Param epsilon_start unique value length is less than 2.\u001b[0m\n",
      "\u001b[33m[W 2022-02-15 21:24:49,208]\u001b[0m Param nn_hidden_layers unique value length is less than 2.\u001b[0m\n",
      "\u001b[33m[W 2022-02-15 21:24:49,404]\u001b[0m Param epsilon_start unique value length is less than 2.\u001b[0m\n",
      "\u001b[33m[W 2022-02-15 21:24:49,600]\u001b[0m Param nn_hidden_layers unique value length is less than 2.\u001b[0m\n",
      "\u001b[33m[W 2022-02-15 21:24:49,792]\u001b[0m Param epsilon_start unique value length is less than 2.\u001b[0m\n",
      "\u001b[33m[W 2022-02-15 21:24:49,986]\u001b[0m Param nn_hidden_layers unique value length is less than 2.\u001b[0m\n",
      "\u001b[33m[W 2022-02-15 21:24:50,120]\u001b[0m Param nn_hidden_layers unique value length is less than 2.\u001b[0m\n",
      "\u001b[33m[W 2022-02-15 21:24:50,149]\u001b[0m Param nn_hidden_layers unique value length is less than 2.\u001b[0m\n",
      "\u001b[33m[W 2022-02-15 21:24:50,180]\u001b[0m Param nn_hidden_layers unique value length is less than 2.\u001b[0m\n",
      "\u001b[33m[W 2022-02-15 21:24:50,214]\u001b[0m Param nn_hidden_layers unique value length is less than 2.\u001b[0m\n",
      "\u001b[33m[W 2022-02-15 21:24:50,249]\u001b[0m Param nn_hidden_layers unique value length is less than 2.\u001b[0m\n",
      "\u001b[33m[W 2022-02-15 21:24:50,288]\u001b[0m Param nn_hidden_layers unique value length is less than 2.\u001b[0m\n",
      "\u001b[33m[W 2022-02-15 21:24:50,321]\u001b[0m Param nn_hidden_layers unique value length is less than 2.\u001b[0m\n",
      "\u001b[33m[W 2022-02-15 21:24:50,364]\u001b[0m Param nn_hidden_layers unique value length is less than 2.\u001b[0m\n",
      "\u001b[33m[W 2022-02-15 21:24:50,398]\u001b[0m Param nn_hidden_layers unique value length is less than 2.\u001b[0m\n",
      "\u001b[33m[W 2022-02-15 21:24:50,430]\u001b[0m Param nn_hidden_layers unique value length is less than 2.\u001b[0m\n",
      "\u001b[33m[W 2022-02-15 21:24:50,461]\u001b[0m Param nn_hidden_layers unique value length is less than 2.\u001b[0m\n",
      "\u001b[33m[W 2022-02-15 21:24:50,536]\u001b[0m Param nn_hidden_layers unique value length is less than 2.\u001b[0m\n",
      "\u001b[33m[W 2022-02-15 21:24:50,574]\u001b[0m Param nn_hidden_layers unique value length is less than 2.\u001b[0m\n",
      "\u001b[33m[W 2022-02-15 21:24:50,611]\u001b[0m Param nn_hidden_layers unique value length is less than 2.\u001b[0m\n",
      "\u001b[33m[W 2022-02-15 21:24:50,771]\u001b[0m Param epsilon_start unique value length is less than 2.\u001b[0m\n",
      "\u001b[33m[W 2022-02-15 21:24:51,039]\u001b[0m Param nn_hidden_layers unique value length is less than 2.\u001b[0m\n",
      "\u001b[33m[W 2022-02-15 21:24:51,269]\u001b[0m Param epsilon_start unique value length is less than 2.\u001b[0m\n",
      "\u001b[33m[W 2022-02-15 21:24:51,490]\u001b[0m Param nn_hidden_layers unique value length is less than 2.\u001b[0m\n",
      "\u001b[33m[W 2022-02-15 21:24:51,705]\u001b[0m Param epsilon_start unique value length is less than 2.\u001b[0m\n",
      "\u001b[33m[W 2022-02-15 21:24:51,924]\u001b[0m Param nn_hidden_layers unique value length is less than 2.\u001b[0m\n"
     ]
    },
    {
     "name": "stdout",
     "output_type": "stream",
     "text": [
      "https://app.neptune.ai/plabartabajo/parametric-q-learning-cart-pole/e/PAR-69\n",
      "Remember to stop your run once you’ve finished logging your metadata (https://docs.neptune.ai/api-reference/run#.stop). It will be stopped automatically only when the notebook kernel/interactive console is terminated.\n",
      "67,586 parameters\n"
     ]
    },
    {
     "name": "stderr",
     "output_type": "stream",
     "text": [
      "100%|██████████████████████████████████████████████████████████████████████████| 500/500 [01:04<00:00,  7.72it/s]\n",
      "100%|████████████████████████████████████████████████████████████████████████| 1000/1000 [00:41<00:00, 24.30it/s]"
     ]
    },
    {
     "name": "stdout",
     "output_type": "stream",
     "text": [
      "Shutting down background jobs, please wait a moment...\n",
      "Done!\n"
     ]
    },
    {
     "name": "stderr",
     "output_type": "stream",
     "text": [
      "\n",
      "Waiting for the remaining 14 operations to synchronize with Neptune. Do not kill this process.\n"
     ]
    },
    {
     "name": "stdout",
     "output_type": "stream",
     "text": [
      "All 14 operations synced, thanks for waiting!\n"
     ]
    },
    {
     "name": "stderr",
     "output_type": "stream",
     "text": [
      "\u001b[32m[I 2022-02-15 21:26:40,599]\u001b[0m Trial 17 finished with value: 198.859 and parameters: {'learning_rate': 0.00013896366736865129, 'discount_factor': 0.9, 'batch_size': 16, 'memory_size': 100000, 'freq_steps_train': 8, 'freq_steps_update_target': 100, 'n_steps_warm_up_memory': 5000, 'n_gradient_steps': 16, 'nn_hidden_layers': '[256, 256]', 'max_grad_norm': 100, 'normalize_state': True, 'epsilon_start': 0.9, 'epsilon_end': 0.058464083807100775, 'steps_epsilon_decay': 100000, 'seed': 491240780}. Best is trial 12 with value: 313.91.\u001b[0m\n",
      "\u001b[33m[W 2022-02-15 21:26:49,035]\u001b[0m Param epsilon_start unique value length is less than 2.\u001b[0m\n",
      "\u001b[33m[W 2022-02-15 21:26:49,295]\u001b[0m Param nn_hidden_layers unique value length is less than 2.\u001b[0m\n",
      "\u001b[33m[W 2022-02-15 21:26:49,517]\u001b[0m Param epsilon_start unique value length is less than 2.\u001b[0m\n",
      "\u001b[33m[W 2022-02-15 21:26:49,713]\u001b[0m Param nn_hidden_layers unique value length is less than 2.\u001b[0m\n",
      "\u001b[33m[W 2022-02-15 21:26:49,890]\u001b[0m Param epsilon_start unique value length is less than 2.\u001b[0m\n",
      "\u001b[33m[W 2022-02-15 21:26:50,092]\u001b[0m Param nn_hidden_layers unique value length is less than 2.\u001b[0m\n",
      "\u001b[33m[W 2022-02-15 21:26:50,215]\u001b[0m Param epsilon_start unique value length is less than 2.\u001b[0m\n",
      "\u001b[33m[W 2022-02-15 21:26:50,236]\u001b[0m Param epsilon_start unique value length is less than 2.\u001b[0m\n",
      "\u001b[33m[W 2022-02-15 21:26:50,259]\u001b[0m Param epsilon_start unique value length is less than 2.\u001b[0m\n",
      "\u001b[33m[W 2022-02-15 21:26:50,298]\u001b[0m Param epsilon_start unique value length is less than 2.\u001b[0m\n",
      "\u001b[33m[W 2022-02-15 21:26:50,320]\u001b[0m Param epsilon_start unique value length is less than 2.\u001b[0m\n",
      "\u001b[33m[W 2022-02-15 21:26:50,340]\u001b[0m Param epsilon_start unique value length is less than 2.\u001b[0m\n",
      "\u001b[33m[W 2022-02-15 21:26:50,370]\u001b[0m Param epsilon_start unique value length is less than 2.\u001b[0m\n",
      "\u001b[33m[W 2022-02-15 21:26:50,393]\u001b[0m Param epsilon_start unique value length is less than 2.\u001b[0m\n",
      "\u001b[33m[W 2022-02-15 21:26:50,414]\u001b[0m Param epsilon_start unique value length is less than 2.\u001b[0m\n",
      "\u001b[33m[W 2022-02-15 21:26:50,436]\u001b[0m Param epsilon_start unique value length is less than 2.\u001b[0m\n",
      "\u001b[33m[W 2022-02-15 21:26:50,456]\u001b[0m Param epsilon_start unique value length is less than 2.\u001b[0m\n",
      "\u001b[33m[W 2022-02-15 21:26:50,487]\u001b[0m Param epsilon_start unique value length is less than 2.\u001b[0m\n",
      "\u001b[33m[W 2022-02-15 21:26:50,517]\u001b[0m Param epsilon_start unique value length is less than 2.\u001b[0m\n",
      "\u001b[33m[W 2022-02-15 21:26:50,539]\u001b[0m Param epsilon_start unique value length is less than 2.\u001b[0m\n",
      "\u001b[33m[W 2022-02-15 21:26:50,653]\u001b[0m Param epsilon_start unique value length is less than 2.\u001b[0m\n",
      "\u001b[33m[W 2022-02-15 21:26:50,852]\u001b[0m Param nn_hidden_layers unique value length is less than 2.\u001b[0m\n",
      "\u001b[33m[W 2022-02-15 21:26:51,042]\u001b[0m Param epsilon_start unique value length is less than 2.\u001b[0m\n",
      "\u001b[33m[W 2022-02-15 21:26:51,230]\u001b[0m Param nn_hidden_layers unique value length is less than 2.\u001b[0m\n",
      "\u001b[33m[W 2022-02-15 21:26:51,452]\u001b[0m Param epsilon_start unique value length is less than 2.\u001b[0m\n",
      "\u001b[33m[W 2022-02-15 21:26:51,719]\u001b[0m Param nn_hidden_layers unique value length is less than 2.\u001b[0m\n",
      "\u001b[33m[W 2022-02-15 21:26:51,953]\u001b[0m Param epsilon_start unique value length is less than 2.\u001b[0m\n",
      "\u001b[33m[W 2022-02-15 21:26:52,150]\u001b[0m Param nn_hidden_layers unique value length is less than 2.\u001b[0m\n",
      "\u001b[33m[W 2022-02-15 21:26:52,364]\u001b[0m Param epsilon_start unique value length is less than 2.\u001b[0m\n",
      "\u001b[33m[W 2022-02-15 21:26:52,584]\u001b[0m Param nn_hidden_layers unique value length is less than 2.\u001b[0m\n",
      "\u001b[33m[W 2022-02-15 21:26:52,789]\u001b[0m Param epsilon_start unique value length is less than 2.\u001b[0m\n",
      "\u001b[33m[W 2022-02-15 21:26:52,986]\u001b[0m Param nn_hidden_layers unique value length is less than 2.\u001b[0m\n",
      "\u001b[33m[W 2022-02-15 21:26:53,241]\u001b[0m Param epsilon_start unique value length is less than 2.\u001b[0m\n",
      "\u001b[33m[W 2022-02-15 21:26:53,450]\u001b[0m Param nn_hidden_layers unique value length is less than 2.\u001b[0m\n",
      "\u001b[33m[W 2022-02-15 21:26:53,584]\u001b[0m Param nn_hidden_layers unique value length is less than 2.\u001b[0m\n",
      "\u001b[33m[W 2022-02-15 21:26:53,615]\u001b[0m Param nn_hidden_layers unique value length is less than 2.\u001b[0m\n",
      "\u001b[33m[W 2022-02-15 21:26:53,648]\u001b[0m Param nn_hidden_layers unique value length is less than 2.\u001b[0m\n",
      "\u001b[33m[W 2022-02-15 21:26:53,681]\u001b[0m Param nn_hidden_layers unique value length is less than 2.\u001b[0m\n",
      "\u001b[33m[W 2022-02-15 21:26:53,713]\u001b[0m Param nn_hidden_layers unique value length is less than 2.\u001b[0m\n",
      "\u001b[33m[W 2022-02-15 21:26:53,746]\u001b[0m Param nn_hidden_layers unique value length is less than 2.\u001b[0m\n",
      "\u001b[33m[W 2022-02-15 21:26:53,778]\u001b[0m Param nn_hidden_layers unique value length is less than 2.\u001b[0m\n",
      "\u001b[33m[W 2022-02-15 21:26:53,820]\u001b[0m Param nn_hidden_layers unique value length is less than 2.\u001b[0m\n",
      "\u001b[33m[W 2022-02-15 21:26:53,856]\u001b[0m Param nn_hidden_layers unique value length is less than 2.\u001b[0m\n",
      "\u001b[33m[W 2022-02-15 21:26:53,887]\u001b[0m Param nn_hidden_layers unique value length is less than 2.\u001b[0m\n",
      "\u001b[33m[W 2022-02-15 21:26:53,923]\u001b[0m Param nn_hidden_layers unique value length is less than 2.\u001b[0m\n",
      "\u001b[33m[W 2022-02-15 21:26:53,996]\u001b[0m Param nn_hidden_layers unique value length is less than 2.\u001b[0m\n",
      "\u001b[33m[W 2022-02-15 21:26:54,042]\u001b[0m Param nn_hidden_layers unique value length is less than 2.\u001b[0m\n",
      "\u001b[33m[W 2022-02-15 21:26:54,076]\u001b[0m Param nn_hidden_layers unique value length is less than 2.\u001b[0m\n",
      "\u001b[33m[W 2022-02-15 21:26:54,228]\u001b[0m Param epsilon_start unique value length is less than 2.\u001b[0m\n",
      "\u001b[33m[W 2022-02-15 21:26:54,515]\u001b[0m Param nn_hidden_layers unique value length is less than 2.\u001b[0m\n",
      "\u001b[33m[W 2022-02-15 21:26:54,761]\u001b[0m Param epsilon_start unique value length is less than 2.\u001b[0m\n",
      "\u001b[33m[W 2022-02-15 21:26:54,978]\u001b[0m Param nn_hidden_layers unique value length is less than 2.\u001b[0m\n",
      "\u001b[33m[W 2022-02-15 21:26:55,177]\u001b[0m Param epsilon_start unique value length is less than 2.\u001b[0m\n",
      "\u001b[33m[W 2022-02-15 21:26:55,393]\u001b[0m Param nn_hidden_layers unique value length is less than 2.\u001b[0m\n"
     ]
    },
    {
     "name": "stdout",
     "output_type": "stream",
     "text": [
      "https://app.neptune.ai/plabartabajo/parametric-q-learning-cart-pole/e/PAR-70\n",
      "Remember to stop your run once you’ve finished logging your metadata (https://docs.neptune.ai/api-reference/run#.stop). It will be stopped automatically only when the notebook kernel/interactive console is terminated.\n",
      "67,586 parameters\n"
     ]
    },
    {
     "name": "stderr",
     "output_type": "stream",
     "text": [
      " 53%|███████████████████████████████████████▌                                  | 267/500 [01:49<01:06,  3.52it/s]"
     ]
    }
   ],
   "source": [
    "study.optimize(func, n_trials=100, callbacks=[neptune_callback])"
   ]
  },
  {
   "cell_type": "code",
   "execution_count": null,
   "id": "21f40fb5",
   "metadata": {},
   "outputs": [],
   "source": [
    "run.stop()"
   ]
  }
 ],
 "metadata": {
  "kernelspec": {
   "display_name": "Python 3 (ipykernel)",
   "language": "python",
   "name": "python3"
  },
  "language_info": {
   "codemirror_mode": {
    "name": "ipython",
    "version": 3
   },
   "file_extension": ".py",
   "mimetype": "text/x-python",
   "name": "python",
   "nbconvert_exporter": "python",
   "pygments_lexer": "ipython3",
   "version": "3.7.5"
  }
 },
 "nbformat": 4,
 "nbformat_minor": 5
}
