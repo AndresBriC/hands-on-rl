{
 "cells": [
  {
   "cell_type": "markdown",
   "id": "f7893323",
   "metadata": {},
   "source": [
    "# 01 Deep Q agent hyper-parameter tuning with\n",
    "\n",
    "<img src=\"https://optuna.readthedocs.io/en/stable/_static/optuna-logo.png\" width=\"500\" height=\"400\" />\n",
    "\n",
    "<div align=\"center\">\n",
    "<h1>+</h1>\n",
    "</div>\n",
    "\n",
    "<img src=\"https://camo.githubusercontent.com/51f9ec0b7f6d5a4f51d78a59c860d02c80f58f6d84ae85e6e7122c92f7776346/68747470733a2f2f6e657074756e652e61692f77702d636f6e74656e742f75706c6f6164732f6e657074756e652d6c6f676f2d6c6573732d6d617267696e2d65313631313933393734323638332e706e67\" width=\"500\" height=\"400\" />\n",
    "\n",
    "#### 👉 Let's train a Deep Q agent to solve the `Cart Pole` environment."
   ]
  },
  {
   "cell_type": "markdown",
   "id": "7e53d094",
   "metadata": {},
   "source": [
    "![nn](https://github.com/Paulescu/hands-on-rl/blob/main/03_cart_pole/images/neural_net.jpg?raw=true)"
   ]
  },
  {
   "cell_type": "code",
   "execution_count": 1,
   "id": "fd7b5c91",
   "metadata": {},
   "outputs": [
    {
     "name": "stdout",
     "output_type": "stream",
     "text": [
      "Populating the interactive namespace from numpy and matplotlib\n"
     ]
    }
   ],
   "source": [
    "%load_ext autoreload\n",
    "%autoreload 2\n",
    "%pylab inline\n",
    "%config InlineBackend.figure_format = 'svg'"
   ]
  },
  {
   "cell_type": "markdown",
   "id": "6d71e5be",
   "metadata": {},
   "source": [
    "## Environment 🌎"
   ]
  },
  {
   "cell_type": "code",
   "execution_count": 2,
   "id": "bfb033c6",
   "metadata": {},
   "outputs": [],
   "source": [
    "import gym\n",
    "env = gym.make('CartPole-v1')"
   ]
  },
  {
   "cell_type": "markdown",
   "id": "59a9fd7a",
   "metadata": {},
   "source": [
    "## Create a Neptune run"
   ]
  },
  {
   "cell_type": "code",
   "execution_count": null,
   "id": "9a11bf2a",
   "metadata": {},
   "outputs": [],
   "source": [
    "# %env NEPTUNE_PROJECT=<>\n",
    "# %env NEPTUNE_API_TOKEN=<>"
   ]
  },
  {
   "cell_type": "code",
   "execution_count": 5,
   "id": "ec3d3d74",
   "metadata": {},
   "outputs": [
    {
     "name": "stdout",
     "output_type": "stream",
     "text": [
      "https://app.neptune.ai/plabartabajo/parametric-q-learning-cart-pole/e/PAR-51\n"
     ]
    },
    {
     "name": "stderr",
     "output_type": "stream",
     "text": [
      "Info (NVML): NVML Shared Library Not Found. GPU usage metrics may not be reported. For more information, see https://docs.neptune.ai/you-should-know/what-can-you-log-and-display#hardware-consumption\n"
     ]
    },
    {
     "name": "stdout",
     "output_type": "stream",
     "text": [
      "Remember to stop your run once you’ve finished logging your metadata (https://docs.neptune.ai/api-reference/run#.stop). It will be stopped automatically only when the notebook kernel/interactive console is terminated.\n"
     ]
    }
   ],
   "source": [
    "import os\n",
    "import neptune.new as neptune\n",
    "\n",
    "try:\n",
    "    NEPTUNE_PROJECT = os.environ['NEPTUNE_PROJECT']\n",
    "    NEPTUNE_API_TOKEN = os.environ['NEPTUNE_API_TOKEN']\n",
    "except:\n",
    "    print('Set environment variables NEPTUNE_PROJECT and NEPTUNE_API_TOKEN')\n",
    "    raise\n",
    "\n",
    "run = neptune.init(\n",
    "    project=NEPTUNE_PROJECT,\n",
    "    api_token=NEPTUNE_API_TOKEN,\n",
    "    tags=['hparam_search_with_optuna']\n",
    ")"
   ]
  },
  {
   "cell_type": "markdown",
   "id": "521b07e9",
   "metadata": {},
   "source": [
    "## NeptuneCallback that will integrate with Optuna"
   ]
  },
  {
   "cell_type": "code",
   "execution_count": 6,
   "id": "b1d49150",
   "metadata": {},
   "outputs": [],
   "source": [
    "import neptune.new.integrations.optuna as optuna_utils\n",
    "\n",
    "neptune_callback = optuna_utils.NeptuneCallback(run)"
   ]
  },
  {
   "cell_type": "markdown",
   "id": "93adf159",
   "metadata": {},
   "source": [
    "## Create an Optuna study"
   ]
  },
  {
   "cell_type": "code",
   "execution_count": 7,
   "id": "44850634",
   "metadata": {},
   "outputs": [
    {
     "name": "stderr",
     "output_type": "stream",
     "text": [
      "\u001b[32m[I 2022-02-15 20:57:11,823]\u001b[0m A new study created in memory with name: hyperparameters_deep_q_agent\u001b[0m\n"
     ]
    }
   ],
   "source": [
    "import optuna\n",
    "\n",
    "study = optuna.create_study(\n",
    "    study_name='hyperparameters_deep_q_agent',\n",
    "    direction='maximize',\n",
    ")"
   ]
  },
  {
   "cell_type": "markdown",
   "id": "f35fc2e2",
   "metadata": {},
   "source": [
    "## Objective function we want Optuna to maximize"
   ]
  },
  {
   "cell_type": "code",
   "execution_count": 8,
   "id": "6b5e0b3a",
   "metadata": {},
   "outputs": [],
   "source": [
    "from src.optimize_hyperparameters import objective\n",
    "func = lambda trial: objective(trial, force_linear_model=False, n_episodes_to_train=500)"
   ]
  },
  {
   "cell_type": "markdown",
   "id": "9d5748bc",
   "metadata": {},
   "source": [
    "## Let's start the search!"
   ]
  },
  {
   "cell_type": "code",
   "execution_count": 9,
   "id": "d9c980d8",
   "metadata": {
    "scrolled": true
   },
   "outputs": [
    {
     "name": "stdout",
     "output_type": "stream",
     "text": [
      "https://app.neptune.ai/plabartabajo/parametric-q-learning-cart-pole/e/PAR-52\n",
      "Remember to stop your run once you’ve finished logging your metadata (https://docs.neptune.ai/api-reference/run#.stop). It will be stopped automatically only when the notebook kernel/interactive console is terminated.\n",
      "67,586 parameters\n"
     ]
    },
    {
     "name": "stderr",
     "output_type": "stream",
     "text": [
      "100%|█████████████████████████████████████████████████████████████████████████| 500/500 [00:02<00:00, 205.84it/s]\n",
      "100%|███████████████████████████████████████████████████████████████████████| 1000/1000 [00:01<00:00, 549.93it/s]"
     ]
    },
    {
     "name": "stdout",
     "output_type": "stream",
     "text": [
      "Shutting down background jobs, please wait a moment...\n",
      "Done!\n"
     ]
    },
    {
     "name": "stderr",
     "output_type": "stream",
     "text": [
      "\n",
      "Waiting for the remaining 47 operations to synchronize with Neptune. Do not kill this process.\n"
     ]
    },
    {
     "name": "stdout",
     "output_type": "stream",
     "text": [
      "All 47 operations synced, thanks for waiting!\n"
     ]
    },
    {
     "name": "stderr",
     "output_type": "stream",
     "text": [
      "\u001b[32m[I 2022-02-15 20:57:27,277]\u001b[0m Trial 0 finished with value: 9.361 and parameters: {'learning_rate': 3.125530492111703e-05, 'discount_factor': 0.99, 'batch_size': 128, 'memory_size': 10000, 'freq_steps_train': 16, 'freq_steps_update_target': 1000, 'n_steps_warm_up_memory': 5000, 'n_gradient_steps': 1, 'nn_hidden_layers': '[256, 256]', 'max_grad_norm': 1, 'normalize_state': False, 'epsilon_start': 0.9, 'epsilon_end': 0.03325946766499619, 'steps_epsilon_decay': 10000, 'seed': 697068871}. Best is trial 0 with value: 9.361.\u001b[0m\n",
      "Warning: string series 'study/distributions' value was longer than 1000 characters and was truncated. This warning is printed only once per series.\n",
      "\u001b[33m[W 2022-02-15 20:57:37,091]\u001b[0m Param batch_size unique value length is less than 2.\u001b[0m\n",
      "\u001b[33m[W 2022-02-15 20:57:37,127]\u001b[0m Param batch_size unique value length is less than 2.\u001b[0m\n",
      "\u001b[33m[W 2022-02-15 20:57:37,159]\u001b[0m Param batch_size unique value length is less than 2.\u001b[0m\n",
      "\u001b[33m[W 2022-02-15 20:57:37,190]\u001b[0m Param batch_size unique value length is less than 2.\u001b[0m\n",
      "\u001b[33m[W 2022-02-15 20:57:37,222]\u001b[0m Param batch_size unique value length is less than 2.\u001b[0m\n",
      "\u001b[33m[W 2022-02-15 20:57:37,252]\u001b[0m Param batch_size unique value length is less than 2.\u001b[0m\n",
      "\u001b[33m[W 2022-02-15 20:57:37,301]\u001b[0m Param batch_size unique value length is less than 2.\u001b[0m\n",
      "\u001b[33m[W 2022-02-15 20:57:37,332]\u001b[0m Param batch_size unique value length is less than 2.\u001b[0m\n",
      "\u001b[33m[W 2022-02-15 20:57:37,363]\u001b[0m Param batch_size unique value length is less than 2.\u001b[0m\n",
      "\u001b[33m[W 2022-02-15 20:57:37,394]\u001b[0m Param batch_size unique value length is less than 2.\u001b[0m\n",
      "\u001b[33m[W 2022-02-15 20:57:37,427]\u001b[0m Param batch_size unique value length is less than 2.\u001b[0m\n",
      "\u001b[33m[W 2022-02-15 20:57:37,465]\u001b[0m Param batch_size unique value length is less than 2.\u001b[0m\n",
      "\u001b[33m[W 2022-02-15 20:57:37,508]\u001b[0m Param batch_size unique value length is less than 2.\u001b[0m\n",
      "\u001b[33m[W 2022-02-15 20:57:37,537]\u001b[0m Param batch_size unique value length is less than 2.\u001b[0m\n",
      "\u001b[33m[W 2022-02-15 20:57:37,584]\u001b[0m Param discount_factor unique value length is less than 2.\u001b[0m\n",
      "\u001b[33m[W 2022-02-15 20:57:37,623]\u001b[0m Param discount_factor unique value length is less than 2.\u001b[0m\n",
      "\u001b[33m[W 2022-02-15 20:57:37,647]\u001b[0m Param discount_factor unique value length is less than 2.\u001b[0m\n",
      "\u001b[33m[W 2022-02-15 20:57:37,667]\u001b[0m Param discount_factor unique value length is less than 2.\u001b[0m\n",
      "\u001b[33m[W 2022-02-15 20:57:37,687]\u001b[0m Param discount_factor unique value length is less than 2.\u001b[0m\n",
      "\u001b[33m[W 2022-02-15 20:57:37,709]\u001b[0m Param discount_factor unique value length is less than 2.\u001b[0m\n",
      "\u001b[33m[W 2022-02-15 20:57:37,743]\u001b[0m Param discount_factor unique value length is less than 2.\u001b[0m\n",
      "\u001b[33m[W 2022-02-15 20:57:37,767]\u001b[0m Param discount_factor unique value length is less than 2.\u001b[0m\n",
      "\u001b[33m[W 2022-02-15 20:57:37,794]\u001b[0m Param discount_factor unique value length is less than 2.\u001b[0m\n",
      "\u001b[33m[W 2022-02-15 20:57:37,816]\u001b[0m Param discount_factor unique value length is less than 2.\u001b[0m\n",
      "\u001b[33m[W 2022-02-15 20:57:37,840]\u001b[0m Param discount_factor unique value length is less than 2.\u001b[0m\n",
      "\u001b[33m[W 2022-02-15 20:57:37,875]\u001b[0m Param discount_factor unique value length is less than 2.\u001b[0m\n",
      "\u001b[33m[W 2022-02-15 20:57:37,911]\u001b[0m Param discount_factor unique value length is less than 2.\u001b[0m\n",
      "\u001b[33m[W 2022-02-15 20:57:37,937]\u001b[0m Param discount_factor unique value length is less than 2.\u001b[0m\n",
      "\u001b[33m[W 2022-02-15 20:57:37,973]\u001b[0m Param epsilon_end unique value length is less than 2.\u001b[0m\n",
      "\u001b[33m[W 2022-02-15 20:57:37,996]\u001b[0m Param epsilon_end unique value length is less than 2.\u001b[0m\n",
      "\u001b[33m[W 2022-02-15 20:57:38,042]\u001b[0m Param epsilon_end unique value length is less than 2.\u001b[0m\n",
      "\u001b[33m[W 2022-02-15 20:57:38,066]\u001b[0m Param epsilon_end unique value length is less than 2.\u001b[0m\n",
      "\u001b[33m[W 2022-02-15 20:57:38,090]\u001b[0m Param epsilon_end unique value length is less than 2.\u001b[0m\n",
      "\u001b[33m[W 2022-02-15 20:57:38,112]\u001b[0m Param epsilon_end unique value length is less than 2.\u001b[0m\n",
      "\u001b[33m[W 2022-02-15 20:57:38,149]\u001b[0m Param epsilon_end unique value length is less than 2.\u001b[0m\n",
      "\u001b[33m[W 2022-02-15 20:57:38,174]\u001b[0m Param epsilon_end unique value length is less than 2.\u001b[0m\n",
      "\u001b[33m[W 2022-02-15 20:57:38,200]\u001b[0m Param epsilon_end unique value length is less than 2.\u001b[0m\n",
      "\u001b[33m[W 2022-02-15 20:57:38,229]\u001b[0m Param epsilon_end unique value length is less than 2.\u001b[0m\n",
      "\u001b[33m[W 2022-02-15 20:57:38,253]\u001b[0m Param epsilon_end unique value length is less than 2.\u001b[0m\n",
      "\u001b[33m[W 2022-02-15 20:57:38,287]\u001b[0m Param epsilon_end unique value length is less than 2.\u001b[0m\n",
      "\u001b[33m[W 2022-02-15 20:57:38,323]\u001b[0m Param epsilon_end unique value length is less than 2.\u001b[0m\n",
      "\u001b[33m[W 2022-02-15 20:57:38,347]\u001b[0m Param epsilon_end unique value length is less than 2.\u001b[0m\n",
      "\u001b[33m[W 2022-02-15 20:57:38,383]\u001b[0m Param epsilon_start unique value length is less than 2.\u001b[0m\n",
      "\u001b[33m[W 2022-02-15 20:57:38,409]\u001b[0m Param epsilon_start unique value length is less than 2.\u001b[0m\n",
      "\u001b[33m[W 2022-02-15 20:57:38,442]\u001b[0m Param epsilon_start unique value length is less than 2.\u001b[0m\n",
      "\u001b[33m[W 2022-02-15 20:57:38,486]\u001b[0m Param epsilon_start unique value length is less than 2.\u001b[0m\n",
      "\u001b[33m[W 2022-02-15 20:57:38,514]\u001b[0m Param epsilon_start unique value length is less than 2.\u001b[0m\n",
      "\u001b[33m[W 2022-02-15 20:57:38,537]\u001b[0m Param epsilon_start unique value length is less than 2.\u001b[0m\n",
      "\u001b[33m[W 2022-02-15 20:57:38,576]\u001b[0m Param epsilon_start unique value length is less than 2.\u001b[0m\n",
      "\u001b[33m[W 2022-02-15 20:57:38,600]\u001b[0m Param epsilon_start unique value length is less than 2.\u001b[0m\n",
      "\u001b[33m[W 2022-02-15 20:57:38,626]\u001b[0m Param epsilon_start unique value length is less than 2.\u001b[0m\n",
      "\u001b[33m[W 2022-02-15 20:57:38,649]\u001b[0m Param epsilon_start unique value length is less than 2.\u001b[0m\n",
      "\u001b[33m[W 2022-02-15 20:57:38,678]\u001b[0m Param epsilon_start unique value length is less than 2.\u001b[0m\n",
      "\u001b[33m[W 2022-02-15 20:57:38,710]\u001b[0m Param epsilon_start unique value length is less than 2.\u001b[0m\n",
      "\u001b[33m[W 2022-02-15 20:57:38,747]\u001b[0m Param epsilon_start unique value length is less than 2.\u001b[0m\n",
      "\u001b[33m[W 2022-02-15 20:57:38,770]\u001b[0m Param epsilon_start unique value length is less than 2.\u001b[0m\n",
      "\u001b[33m[W 2022-02-15 20:57:38,807]\u001b[0m Param freq_steps_train unique value length is less than 2.\u001b[0m\n",
      "\u001b[33m[W 2022-02-15 20:57:38,832]\u001b[0m Param freq_steps_train unique value length is less than 2.\u001b[0m\n",
      "\u001b[33m[W 2022-02-15 20:57:38,899]\u001b[0m Param freq_steps_train unique value length is less than 2.\u001b[0m\n",
      "\u001b[33m[W 2022-02-15 20:57:38,930]\u001b[0m Param freq_steps_train unique value length is less than 2.\u001b[0m\n",
      "\u001b[33m[W 2022-02-15 20:57:38,974]\u001b[0m Param freq_steps_train unique value length is less than 2.\u001b[0m\n",
      "\u001b[33m[W 2022-02-15 20:57:38,997]\u001b[0m Param freq_steps_train unique value length is less than 2.\u001b[0m\n",
      "\u001b[33m[W 2022-02-15 20:57:39,038]\u001b[0m Param freq_steps_train unique value length is less than 2.\u001b[0m\n",
      "\u001b[33m[W 2022-02-15 20:57:39,060]\u001b[0m Param freq_steps_train unique value length is less than 2.\u001b[0m\n",
      "\u001b[33m[W 2022-02-15 20:57:39,084]\u001b[0m Param freq_steps_train unique value length is less than 2.\u001b[0m\n",
      "\u001b[33m[W 2022-02-15 20:57:39,109]\u001b[0m Param freq_steps_train unique value length is less than 2.\u001b[0m\n",
      "\u001b[33m[W 2022-02-15 20:57:39,134]\u001b[0m Param freq_steps_train unique value length is less than 2.\u001b[0m\n",
      "\u001b[33m[W 2022-02-15 20:57:39,173]\u001b[0m Param freq_steps_train unique value length is less than 2.\u001b[0m\n",
      "\u001b[33m[W 2022-02-15 20:57:39,212]\u001b[0m Param freq_steps_train unique value length is less than 2.\u001b[0m\n",
      "\u001b[33m[W 2022-02-15 20:57:39,236]\u001b[0m Param freq_steps_train unique value length is less than 2.\u001b[0m\n",
      "\u001b[33m[W 2022-02-15 20:57:39,274]\u001b[0m Param freq_steps_update_target unique value length is less than 2.\u001b[0m\n",
      "\u001b[33m[W 2022-02-15 20:57:39,298]\u001b[0m Param freq_steps_update_target unique value length is less than 2.\u001b[0m\n",
      "\u001b[33m[W 2022-02-15 20:57:39,323]\u001b[0m Param freq_steps_update_target unique value length is less than 2.\u001b[0m\n",
      "\u001b[33m[W 2022-02-15 20:57:39,352]\u001b[0m Param freq_steps_update_target unique value length is less than 2.\u001b[0m\n",
      "\u001b[33m[W 2022-02-15 20:57:39,380]\u001b[0m Param freq_steps_update_target unique value length is less than 2.\u001b[0m\n",
      "\u001b[33m[W 2022-02-15 20:57:39,429]\u001b[0m Param freq_steps_update_target unique value length is less than 2.\u001b[0m\n",
      "\u001b[33m[W 2022-02-15 20:57:39,460]\u001b[0m Param freq_steps_update_target unique value length is less than 2.\u001b[0m\n"
     ]
    },
    {
     "name": "stderr",
     "output_type": "stream",
     "text": [
      "\u001b[33m[W 2022-02-15 20:57:39,483]\u001b[0m Param freq_steps_update_target unique value length is less than 2.\u001b[0m\n",
      "\u001b[33m[W 2022-02-15 20:57:39,507]\u001b[0m Param freq_steps_update_target unique value length is less than 2.\u001b[0m\n",
      "\u001b[33m[W 2022-02-15 20:57:39,532]\u001b[0m Param freq_steps_update_target unique value length is less than 2.\u001b[0m\n",
      "\u001b[33m[W 2022-02-15 20:57:39,555]\u001b[0m Param freq_steps_update_target unique value length is less than 2.\u001b[0m\n",
      "\u001b[33m[W 2022-02-15 20:57:39,587]\u001b[0m Param freq_steps_update_target unique value length is less than 2.\u001b[0m\n",
      "\u001b[33m[W 2022-02-15 20:57:39,622]\u001b[0m Param freq_steps_update_target unique value length is less than 2.\u001b[0m\n",
      "\u001b[33m[W 2022-02-15 20:57:39,643]\u001b[0m Param freq_steps_update_target unique value length is less than 2.\u001b[0m\n",
      "\u001b[33m[W 2022-02-15 20:57:39,676]\u001b[0m Param learning_rate unique value length is less than 2.\u001b[0m\n",
      "\u001b[33m[W 2022-02-15 20:57:39,713]\u001b[0m Param learning_rate unique value length is less than 2.\u001b[0m\n",
      "\u001b[33m[W 2022-02-15 20:57:39,746]\u001b[0m Param learning_rate unique value length is less than 2.\u001b[0m\n",
      "\u001b[33m[W 2022-02-15 20:57:39,779]\u001b[0m Param learning_rate unique value length is less than 2.\u001b[0m\n",
      "\u001b[33m[W 2022-02-15 20:57:39,811]\u001b[0m Param learning_rate unique value length is less than 2.\u001b[0m\n",
      "\u001b[33m[W 2022-02-15 20:57:39,848]\u001b[0m Param learning_rate unique value length is less than 2.\u001b[0m\n",
      "\u001b[33m[W 2022-02-15 20:57:39,921]\u001b[0m Param learning_rate unique value length is less than 2.\u001b[0m\n",
      "\u001b[33m[W 2022-02-15 20:57:39,954]\u001b[0m Param learning_rate unique value length is less than 2.\u001b[0m\n",
      "\u001b[33m[W 2022-02-15 20:57:39,989]\u001b[0m Param learning_rate unique value length is less than 2.\u001b[0m\n",
      "\u001b[33m[W 2022-02-15 20:57:40,020]\u001b[0m Param learning_rate unique value length is less than 2.\u001b[0m\n",
      "\u001b[33m[W 2022-02-15 20:57:40,055]\u001b[0m Param learning_rate unique value length is less than 2.\u001b[0m\n",
      "\u001b[33m[W 2022-02-15 20:57:40,101]\u001b[0m Param learning_rate unique value length is less than 2.\u001b[0m\n",
      "\u001b[33m[W 2022-02-15 20:57:40,142]\u001b[0m Param learning_rate unique value length is less than 2.\u001b[0m\n",
      "\u001b[33m[W 2022-02-15 20:57:40,178]\u001b[0m Param learning_rate unique value length is less than 2.\u001b[0m\n",
      "\u001b[33m[W 2022-02-15 20:57:40,219]\u001b[0m Param max_grad_norm unique value length is less than 2.\u001b[0m\n",
      "\u001b[33m[W 2022-02-15 20:57:40,256]\u001b[0m Param max_grad_norm unique value length is less than 2.\u001b[0m\n",
      "\u001b[33m[W 2022-02-15 20:57:40,279]\u001b[0m Param max_grad_norm unique value length is less than 2.\u001b[0m\n",
      "\u001b[33m[W 2022-02-15 20:57:40,301]\u001b[0m Param max_grad_norm unique value length is less than 2.\u001b[0m\n",
      "\u001b[33m[W 2022-02-15 20:57:40,324]\u001b[0m Param max_grad_norm unique value length is less than 2.\u001b[0m\n",
      "\u001b[33m[W 2022-02-15 20:57:40,346]\u001b[0m Param max_grad_norm unique value length is less than 2.\u001b[0m\n",
      "\u001b[33m[W 2022-02-15 20:57:40,370]\u001b[0m Param max_grad_norm unique value length is less than 2.\u001b[0m\n",
      "\u001b[33m[W 2022-02-15 20:57:40,424]\u001b[0m Param max_grad_norm unique value length is less than 2.\u001b[0m\n",
      "\u001b[33m[W 2022-02-15 20:57:40,449]\u001b[0m Param max_grad_norm unique value length is less than 2.\u001b[0m\n",
      "\u001b[33m[W 2022-02-15 20:57:40,473]\u001b[0m Param max_grad_norm unique value length is less than 2.\u001b[0m\n",
      "\u001b[33m[W 2022-02-15 20:57:40,496]\u001b[0m Param max_grad_norm unique value length is less than 2.\u001b[0m\n",
      "\u001b[33m[W 2022-02-15 20:57:40,528]\u001b[0m Param max_grad_norm unique value length is less than 2.\u001b[0m\n",
      "\u001b[33m[W 2022-02-15 20:57:40,561]\u001b[0m Param max_grad_norm unique value length is less than 2.\u001b[0m\n",
      "\u001b[33m[W 2022-02-15 20:57:40,584]\u001b[0m Param max_grad_norm unique value length is less than 2.\u001b[0m\n",
      "\u001b[33m[W 2022-02-15 20:57:40,622]\u001b[0m Param memory_size unique value length is less than 2.\u001b[0m\n",
      "\u001b[33m[W 2022-02-15 20:57:40,645]\u001b[0m Param memory_size unique value length is less than 2.\u001b[0m\n",
      "\u001b[33m[W 2022-02-15 20:57:40,667]\u001b[0m Param memory_size unique value length is less than 2.\u001b[0m\n",
      "\u001b[33m[W 2022-02-15 20:57:40,692]\u001b[0m Param memory_size unique value length is less than 2.\u001b[0m\n",
      "\u001b[33m[W 2022-02-15 20:57:40,714]\u001b[0m Param memory_size unique value length is less than 2.\u001b[0m\n",
      "\u001b[33m[W 2022-02-15 20:57:40,738]\u001b[0m Param memory_size unique value length is less than 2.\u001b[0m\n",
      "\u001b[33m[W 2022-02-15 20:57:40,805]\u001b[0m Param memory_size unique value length is less than 2.\u001b[0m\n",
      "\u001b[33m[W 2022-02-15 20:57:40,856]\u001b[0m Param memory_size unique value length is less than 2.\u001b[0m\n",
      "\u001b[33m[W 2022-02-15 20:57:40,908]\u001b[0m Param memory_size unique value length is less than 2.\u001b[0m\n",
      "\u001b[33m[W 2022-02-15 20:57:40,934]\u001b[0m Param memory_size unique value length is less than 2.\u001b[0m\n",
      "\u001b[33m[W 2022-02-15 20:57:40,960]\u001b[0m Param memory_size unique value length is less than 2.\u001b[0m\n",
      "\u001b[33m[W 2022-02-15 20:57:40,996]\u001b[0m Param memory_size unique value length is less than 2.\u001b[0m\n",
      "\u001b[33m[W 2022-02-15 20:57:41,033]\u001b[0m Param memory_size unique value length is less than 2.\u001b[0m\n",
      "\u001b[33m[W 2022-02-15 20:57:41,060]\u001b[0m Param memory_size unique value length is less than 2.\u001b[0m\n",
      "\u001b[33m[W 2022-02-15 20:57:41,098]\u001b[0m Param n_gradient_steps unique value length is less than 2.\u001b[0m\n",
      "\u001b[33m[W 2022-02-15 20:57:41,120]\u001b[0m Param n_gradient_steps unique value length is less than 2.\u001b[0m\n",
      "\u001b[33m[W 2022-02-15 20:57:41,145]\u001b[0m Param n_gradient_steps unique value length is less than 2.\u001b[0m\n",
      "\u001b[33m[W 2022-02-15 20:57:41,172]\u001b[0m Param n_gradient_steps unique value length is less than 2.\u001b[0m\n",
      "\u001b[33m[W 2022-02-15 20:57:41,197]\u001b[0m Param n_gradient_steps unique value length is less than 2.\u001b[0m\n",
      "\u001b[33m[W 2022-02-15 20:57:41,224]\u001b[0m Param n_gradient_steps unique value length is less than 2.\u001b[0m\n",
      "\u001b[33m[W 2022-02-15 20:57:41,246]\u001b[0m Param n_gradient_steps unique value length is less than 2.\u001b[0m\n",
      "\u001b[33m[W 2022-02-15 20:57:41,280]\u001b[0m Param n_gradient_steps unique value length is less than 2.\u001b[0m\n",
      "\u001b[33m[W 2022-02-15 20:57:41,306]\u001b[0m Param n_gradient_steps unique value length is less than 2.\u001b[0m\n",
      "\u001b[33m[W 2022-02-15 20:57:41,353]\u001b[0m Param n_gradient_steps unique value length is less than 2.\u001b[0m\n",
      "\u001b[33m[W 2022-02-15 20:57:41,376]\u001b[0m Param n_gradient_steps unique value length is less than 2.\u001b[0m\n",
      "\u001b[33m[W 2022-02-15 20:57:41,412]\u001b[0m Param n_gradient_steps unique value length is less than 2.\u001b[0m\n",
      "\u001b[33m[W 2022-02-15 20:57:41,443]\u001b[0m Param n_gradient_steps unique value length is less than 2.\u001b[0m\n",
      "\u001b[33m[W 2022-02-15 20:57:41,468]\u001b[0m Param n_gradient_steps unique value length is less than 2.\u001b[0m\n",
      "\u001b[33m[W 2022-02-15 20:57:41,503]\u001b[0m Param n_steps_warm_up_memory unique value length is less than 2.\u001b[0m\n",
      "\u001b[33m[W 2022-02-15 20:57:41,531]\u001b[0m Param n_steps_warm_up_memory unique value length is less than 2.\u001b[0m\n",
      "\u001b[33m[W 2022-02-15 20:57:41,554]\u001b[0m Param n_steps_warm_up_memory unique value length is less than 2.\u001b[0m\n",
      "\u001b[33m[W 2022-02-15 20:57:41,576]\u001b[0m Param n_steps_warm_up_memory unique value length is less than 2.\u001b[0m\n",
      "\u001b[33m[W 2022-02-15 20:57:41,601]\u001b[0m Param n_steps_warm_up_memory unique value length is less than 2.\u001b[0m\n",
      "\u001b[33m[W 2022-02-15 20:57:41,628]\u001b[0m Param n_steps_warm_up_memory unique value length is less than 2.\u001b[0m\n",
      "\u001b[33m[W 2022-02-15 20:57:41,652]\u001b[0m Param n_steps_warm_up_memory unique value length is less than 2.\u001b[0m\n",
      "\u001b[33m[W 2022-02-15 20:57:41,689]\u001b[0m Param n_steps_warm_up_memory unique value length is less than 2.\u001b[0m\n",
      "\u001b[33m[W 2022-02-15 20:57:41,717]\u001b[0m Param n_steps_warm_up_memory unique value length is less than 2.\u001b[0m\n",
      "\u001b[33m[W 2022-02-15 20:57:41,745]\u001b[0m Param n_steps_warm_up_memory unique value length is less than 2.\u001b[0m\n",
      "\u001b[33m[W 2022-02-15 20:57:41,790]\u001b[0m Param n_steps_warm_up_memory unique value length is less than 2.\u001b[0m\n",
      "\u001b[33m[W 2022-02-15 20:57:41,825]\u001b[0m Param n_steps_warm_up_memory unique value length is less than 2.\u001b[0m\n",
      "\u001b[33m[W 2022-02-15 20:57:41,856]\u001b[0m Param n_steps_warm_up_memory unique value length is less than 2.\u001b[0m\n",
      "\u001b[33m[W 2022-02-15 20:57:41,880]\u001b[0m Param n_steps_warm_up_memory unique value length is less than 2.\u001b[0m\n",
      "\u001b[33m[W 2022-02-15 20:57:41,914]\u001b[0m Param nn_hidden_layers unique value length is less than 2.\u001b[0m\n",
      "\u001b[33m[W 2022-02-15 20:57:41,947]\u001b[0m Param nn_hidden_layers unique value length is less than 2.\u001b[0m\n",
      "\u001b[33m[W 2022-02-15 20:57:41,981]\u001b[0m Param nn_hidden_layers unique value length is less than 2.\u001b[0m\n",
      "\u001b[33m[W 2022-02-15 20:57:42,014]\u001b[0m Param nn_hidden_layers unique value length is less than 2.\u001b[0m\n",
      "\u001b[33m[W 2022-02-15 20:57:42,049]\u001b[0m Param nn_hidden_layers unique value length is less than 2.\u001b[0m\n",
      "\u001b[33m[W 2022-02-15 20:57:42,082]\u001b[0m Param nn_hidden_layers unique value length is less than 2.\u001b[0m\n"
     ]
    },
    {
     "name": "stderr",
     "output_type": "stream",
     "text": [
      "\u001b[33m[W 2022-02-15 20:57:42,119]\u001b[0m Param nn_hidden_layers unique value length is less than 2.\u001b[0m\n",
      "\u001b[33m[W 2022-02-15 20:57:42,166]\u001b[0m Param nn_hidden_layers unique value length is less than 2.\u001b[0m\n",
      "\u001b[33m[W 2022-02-15 20:57:42,200]\u001b[0m Param nn_hidden_layers unique value length is less than 2.\u001b[0m\n",
      "\u001b[33m[W 2022-02-15 20:57:42,232]\u001b[0m Param nn_hidden_layers unique value length is less than 2.\u001b[0m\n",
      "\u001b[33m[W 2022-02-15 20:57:42,267]\u001b[0m Param nn_hidden_layers unique value length is less than 2.\u001b[0m\n",
      "\u001b[33m[W 2022-02-15 20:57:42,339]\u001b[0m Param nn_hidden_layers unique value length is less than 2.\u001b[0m\n",
      "\u001b[33m[W 2022-02-15 20:57:42,379]\u001b[0m Param nn_hidden_layers unique value length is less than 2.\u001b[0m\n",
      "\u001b[33m[W 2022-02-15 20:57:42,412]\u001b[0m Param nn_hidden_layers unique value length is less than 2.\u001b[0m\n",
      "\u001b[33m[W 2022-02-15 20:57:42,455]\u001b[0m Param normalize_state unique value length is less than 2.\u001b[0m\n",
      "\u001b[33m[W 2022-02-15 20:57:42,494]\u001b[0m Param normalize_state unique value length is less than 2.\u001b[0m\n",
      "\u001b[33m[W 2022-02-15 20:57:42,525]\u001b[0m Param normalize_state unique value length is less than 2.\u001b[0m\n",
      "\u001b[33m[W 2022-02-15 20:57:42,560]\u001b[0m Param normalize_state unique value length is less than 2.\u001b[0m\n",
      "\u001b[33m[W 2022-02-15 20:57:42,594]\u001b[0m Param normalize_state unique value length is less than 2.\u001b[0m\n",
      "\u001b[33m[W 2022-02-15 20:57:42,633]\u001b[0m Param normalize_state unique value length is less than 2.\u001b[0m\n",
      "\u001b[33m[W 2022-02-15 20:57:42,679]\u001b[0m Param normalize_state unique value length is less than 2.\u001b[0m\n",
      "\u001b[33m[W 2022-02-15 20:57:42,730]\u001b[0m Param normalize_state unique value length is less than 2.\u001b[0m\n",
      "\u001b[33m[W 2022-02-15 20:57:42,767]\u001b[0m Param normalize_state unique value length is less than 2.\u001b[0m\n",
      "\u001b[33m[W 2022-02-15 20:57:42,802]\u001b[0m Param normalize_state unique value length is less than 2.\u001b[0m\n",
      "\u001b[33m[W 2022-02-15 20:57:42,839]\u001b[0m Param normalize_state unique value length is less than 2.\u001b[0m\n",
      "\u001b[33m[W 2022-02-15 20:57:42,875]\u001b[0m Param normalize_state unique value length is less than 2.\u001b[0m\n",
      "\u001b[33m[W 2022-02-15 20:57:42,965]\u001b[0m Param normalize_state unique value length is less than 2.\u001b[0m\n",
      "\u001b[33m[W 2022-02-15 20:57:43,000]\u001b[0m Param normalize_state unique value length is less than 2.\u001b[0m\n",
      "\u001b[33m[W 2022-02-15 20:57:43,048]\u001b[0m Param seed unique value length is less than 2.\u001b[0m\n",
      "\u001b[33m[W 2022-02-15 20:57:43,074]\u001b[0m Param seed unique value length is less than 2.\u001b[0m\n",
      "\u001b[33m[W 2022-02-15 20:57:43,098]\u001b[0m Param seed unique value length is less than 2.\u001b[0m\n",
      "\u001b[33m[W 2022-02-15 20:57:43,122]\u001b[0m Param seed unique value length is less than 2.\u001b[0m\n",
      "\u001b[33m[W 2022-02-15 20:57:43,146]\u001b[0m Param seed unique value length is less than 2.\u001b[0m\n",
      "\u001b[33m[W 2022-02-15 20:57:43,170]\u001b[0m Param seed unique value length is less than 2.\u001b[0m\n",
      "\u001b[33m[W 2022-02-15 20:57:43,195]\u001b[0m Param seed unique value length is less than 2.\u001b[0m\n",
      "\u001b[33m[W 2022-02-15 20:57:43,229]\u001b[0m Param seed unique value length is less than 2.\u001b[0m\n",
      "\u001b[33m[W 2022-02-15 20:57:43,252]\u001b[0m Param seed unique value length is less than 2.\u001b[0m\n",
      "\u001b[33m[W 2022-02-15 20:57:43,277]\u001b[0m Param seed unique value length is less than 2.\u001b[0m\n",
      "\u001b[33m[W 2022-02-15 20:57:43,303]\u001b[0m Param seed unique value length is less than 2.\u001b[0m\n",
      "\u001b[33m[W 2022-02-15 20:57:43,334]\u001b[0m Param seed unique value length is less than 2.\u001b[0m\n",
      "\u001b[33m[W 2022-02-15 20:57:43,374]\u001b[0m Param seed unique value length is less than 2.\u001b[0m\n",
      "\u001b[33m[W 2022-02-15 20:57:43,427]\u001b[0m Param seed unique value length is less than 2.\u001b[0m\n",
      "\u001b[33m[W 2022-02-15 20:57:43,459]\u001b[0m Param steps_epsilon_decay unique value length is less than 2.\u001b[0m\n",
      "\u001b[33m[W 2022-02-15 20:57:43,482]\u001b[0m Param steps_epsilon_decay unique value length is less than 2.\u001b[0m\n",
      "\u001b[33m[W 2022-02-15 20:57:43,508]\u001b[0m Param steps_epsilon_decay unique value length is less than 2.\u001b[0m\n",
      "\u001b[33m[W 2022-02-15 20:57:43,531]\u001b[0m Param steps_epsilon_decay unique value length is less than 2.\u001b[0m\n",
      "\u001b[33m[W 2022-02-15 20:57:43,555]\u001b[0m Param steps_epsilon_decay unique value length is less than 2.\u001b[0m\n",
      "\u001b[33m[W 2022-02-15 20:57:43,581]\u001b[0m Param steps_epsilon_decay unique value length is less than 2.\u001b[0m\n",
      "\u001b[33m[W 2022-02-15 20:57:43,604]\u001b[0m Param steps_epsilon_decay unique value length is less than 2.\u001b[0m\n",
      "\u001b[33m[W 2022-02-15 20:57:43,640]\u001b[0m Param steps_epsilon_decay unique value length is less than 2.\u001b[0m\n",
      "\u001b[33m[W 2022-02-15 20:57:43,667]\u001b[0m Param steps_epsilon_decay unique value length is less than 2.\u001b[0m\n",
      "\u001b[33m[W 2022-02-15 20:57:43,692]\u001b[0m Param steps_epsilon_decay unique value length is less than 2.\u001b[0m\n",
      "\u001b[33m[W 2022-02-15 20:57:43,716]\u001b[0m Param steps_epsilon_decay unique value length is less than 2.\u001b[0m\n",
      "\u001b[33m[W 2022-02-15 20:57:43,742]\u001b[0m Param steps_epsilon_decay unique value length is less than 2.\u001b[0m\n",
      "\u001b[33m[W 2022-02-15 20:57:43,779]\u001b[0m Param steps_epsilon_decay unique value length is less than 2.\u001b[0m\n",
      "\u001b[33m[W 2022-02-15 20:57:43,811]\u001b[0m Param steps_epsilon_decay unique value length is less than 2.\u001b[0m\n"
     ]
    },
    {
     "name": "stdout",
     "output_type": "stream",
     "text": [
      "https://app.neptune.ai/plabartabajo/parametric-q-learning-cart-pole/e/PAR-53\n",
      "Remember to stop your run once you’ve finished logging your metadata (https://docs.neptune.ai/api-reference/run#.stop). It will be stopped automatically only when the notebook kernel/interactive console is terminated.\n",
      "67,586 parameters\n"
     ]
    },
    {
     "name": "stderr",
     "output_type": "stream",
     "text": [
      "100%|█████████████████████████████████████████████████████████████████████████| 500/500 [00:04<00:00, 106.23it/s]\n",
      "100%|████████████████████████████████████████████████████████████████████████| 1000/1000 [00:45<00:00, 21.98it/s]"
     ]
    },
    {
     "name": "stdout",
     "output_type": "stream",
     "text": [
      "Shutting down background jobs, please wait a moment...\n",
      "Done!\n"
     ]
    },
    {
     "name": "stderr",
     "output_type": "stream",
     "text": [
      "\n",
      "Waiting for the remaining 19 operations to synchronize with Neptune. Do not kill this process.\n"
     ]
    },
    {
     "name": "stdout",
     "output_type": "stream",
     "text": [
      "All 19 operations synced, thanks for waiting!\n"
     ]
    },
    {
     "name": "stderr",
     "output_type": "stream",
     "text": [
      "\u001b[32m[I 2022-02-15 20:58:35,880]\u001b[0m Trial 1 finished with value: 175.159 and parameters: {'learning_rate': 0.00792430400805493, 'discount_factor': 0.9, 'batch_size': 16, 'memory_size': 100000, 'freq_steps_train': 128, 'freq_steps_update_target': 10, 'n_steps_warm_up_memory': 5000, 'n_gradient_steps': 16, 'nn_hidden_layers': '[256, 256]', 'max_grad_norm': 100, 'normalize_state': False, 'epsilon_start': 0.9, 'epsilon_end': 0.12528322878186376, 'steps_epsilon_decay': 100000, 'seed': 61323514}. Best is trial 1 with value: 175.159.\u001b[0m\n",
      "\u001b[33m[W 2022-02-15 20:58:46,645]\u001b[0m Param epsilon_start unique value length is less than 2.\u001b[0m\n",
      "\u001b[33m[W 2022-02-15 20:58:46,893]\u001b[0m Param n_steps_warm_up_memory unique value length is less than 2.\u001b[0m\n",
      "\u001b[33m[W 2022-02-15 20:58:46,925]\u001b[0m Param nn_hidden_layers unique value length is less than 2.\u001b[0m\n",
      "\u001b[33m[W 2022-02-15 20:58:46,968]\u001b[0m Param normalize_state unique value length is less than 2.\u001b[0m\n",
      "\u001b[33m[W 2022-02-15 20:58:47,156]\u001b[0m Param epsilon_start unique value length is less than 2.\u001b[0m\n",
      "\u001b[33m[W 2022-02-15 20:58:47,340]\u001b[0m Param n_steps_warm_up_memory unique value length is less than 2.\u001b[0m\n",
      "\u001b[33m[W 2022-02-15 20:58:47,365]\u001b[0m Param nn_hidden_layers unique value length is less than 2.\u001b[0m\n",
      "\u001b[33m[W 2022-02-15 20:58:47,399]\u001b[0m Param normalize_state unique value length is less than 2.\u001b[0m\n",
      "\u001b[33m[W 2022-02-15 20:58:47,554]\u001b[0m Param epsilon_start unique value length is less than 2.\u001b[0m\n",
      "\u001b[33m[W 2022-02-15 20:58:47,740]\u001b[0m Param n_steps_warm_up_memory unique value length is less than 2.\u001b[0m\n",
      "\u001b[33m[W 2022-02-15 20:58:47,764]\u001b[0m Param nn_hidden_layers unique value length is less than 2.\u001b[0m\n",
      "\u001b[33m[W 2022-02-15 20:58:47,801]\u001b[0m Param normalize_state unique value length is less than 2.\u001b[0m\n",
      "\u001b[33m[W 2022-02-15 20:58:47,902]\u001b[0m Param epsilon_start unique value length is less than 2.\u001b[0m\n",
      "\u001b[33m[W 2022-02-15 20:58:47,923]\u001b[0m Param epsilon_start unique value length is less than 2.\u001b[0m\n",
      "\u001b[33m[W 2022-02-15 20:58:47,945]\u001b[0m Param epsilon_start unique value length is less than 2.\u001b[0m\n",
      "\u001b[33m[W 2022-02-15 20:58:47,986]\u001b[0m Param epsilon_start unique value length is less than 2.\u001b[0m\n",
      "\u001b[33m[W 2022-02-15 20:58:48,012]\u001b[0m Param epsilon_start unique value length is less than 2.\u001b[0m\n",
      "\u001b[33m[W 2022-02-15 20:58:48,037]\u001b[0m Param epsilon_start unique value length is less than 2.\u001b[0m\n",
      "\u001b[33m[W 2022-02-15 20:58:48,069]\u001b[0m Param epsilon_start unique value length is less than 2.\u001b[0m\n",
      "\u001b[33m[W 2022-02-15 20:58:48,091]\u001b[0m Param epsilon_start unique value length is less than 2.\u001b[0m\n",
      "\u001b[33m[W 2022-02-15 20:58:48,114]\u001b[0m Param epsilon_start unique value length is less than 2.\u001b[0m\n",
      "\u001b[33m[W 2022-02-15 20:58:48,137]\u001b[0m Param epsilon_start unique value length is less than 2.\u001b[0m\n",
      "\u001b[33m[W 2022-02-15 20:58:48,164]\u001b[0m Param epsilon_start unique value length is less than 2.\u001b[0m\n",
      "\u001b[33m[W 2022-02-15 20:58:48,195]\u001b[0m Param epsilon_start unique value length is less than 2.\u001b[0m\n",
      "\u001b[33m[W 2022-02-15 20:58:48,229]\u001b[0m Param epsilon_start unique value length is less than 2.\u001b[0m\n",
      "\u001b[33m[W 2022-02-15 20:58:48,251]\u001b[0m Param epsilon_start unique value length is less than 2.\u001b[0m\n",
      "\u001b[33m[W 2022-02-15 20:58:48,356]\u001b[0m Param epsilon_start unique value length is less than 2.\u001b[0m\n",
      "\u001b[33m[W 2022-02-15 20:58:48,590]\u001b[0m Param n_steps_warm_up_memory unique value length is less than 2.\u001b[0m\n",
      "\u001b[33m[W 2022-02-15 20:58:48,617]\u001b[0m Param nn_hidden_layers unique value length is less than 2.\u001b[0m\n",
      "\u001b[33m[W 2022-02-15 20:58:48,651]\u001b[0m Param normalize_state unique value length is less than 2.\u001b[0m\n",
      "\u001b[33m[W 2022-02-15 20:58:48,833]\u001b[0m Param epsilon_start unique value length is less than 2.\u001b[0m\n",
      "\u001b[33m[W 2022-02-15 20:58:49,031]\u001b[0m Param n_steps_warm_up_memory unique value length is less than 2.\u001b[0m\n",
      "\u001b[33m[W 2022-02-15 20:58:49,056]\u001b[0m Param nn_hidden_layers unique value length is less than 2.\u001b[0m\n",
      "\u001b[33m[W 2022-02-15 20:58:49,096]\u001b[0m Param normalize_state unique value length is less than 2.\u001b[0m\n",
      "\u001b[33m[W 2022-02-15 20:58:49,309]\u001b[0m Param epsilon_start unique value length is less than 2.\u001b[0m\n",
      "\u001b[33m[W 2022-02-15 20:58:49,568]\u001b[0m Param n_steps_warm_up_memory unique value length is less than 2.\u001b[0m\n",
      "\u001b[33m[W 2022-02-15 20:58:49,602]\u001b[0m Param nn_hidden_layers unique value length is less than 2.\u001b[0m\n",
      "\u001b[33m[W 2022-02-15 20:58:49,648]\u001b[0m Param normalize_state unique value length is less than 2.\u001b[0m\n",
      "\u001b[33m[W 2022-02-15 20:58:49,868]\u001b[0m Param epsilon_start unique value length is less than 2.\u001b[0m\n",
      "\u001b[33m[W 2022-02-15 20:58:50,117]\u001b[0m Param n_steps_warm_up_memory unique value length is less than 2.\u001b[0m\n",
      "\u001b[33m[W 2022-02-15 20:58:50,142]\u001b[0m Param nn_hidden_layers unique value length is less than 2.\u001b[0m\n",
      "\u001b[33m[W 2022-02-15 20:58:50,175]\u001b[0m Param normalize_state unique value length is less than 2.\u001b[0m\n",
      "\u001b[33m[W 2022-02-15 20:58:50,398]\u001b[0m Param epsilon_start unique value length is less than 2.\u001b[0m\n",
      "\u001b[33m[W 2022-02-15 20:58:50,721]\u001b[0m Param n_steps_warm_up_memory unique value length is less than 2.\u001b[0m\n",
      "\u001b[33m[W 2022-02-15 20:58:50,782]\u001b[0m Param nn_hidden_layers unique value length is less than 2.\u001b[0m\n",
      "\u001b[33m[W 2022-02-15 20:58:50,859]\u001b[0m Param normalize_state unique value length is less than 2.\u001b[0m\n",
      "\u001b[33m[W 2022-02-15 20:58:51,161]\u001b[0m Param epsilon_start unique value length is less than 2.\u001b[0m\n",
      "\u001b[33m[W 2022-02-15 20:58:51,391]\u001b[0m Param n_steps_warm_up_memory unique value length is less than 2.\u001b[0m\n",
      "\u001b[33m[W 2022-02-15 20:58:51,417]\u001b[0m Param nn_hidden_layers unique value length is less than 2.\u001b[0m\n",
      "\u001b[33m[W 2022-02-15 20:58:51,453]\u001b[0m Param normalize_state unique value length is less than 2.\u001b[0m\n",
      "\u001b[33m[W 2022-02-15 20:58:51,562]\u001b[0m Param n_steps_warm_up_memory unique value length is less than 2.\u001b[0m\n",
      "\u001b[33m[W 2022-02-15 20:58:51,587]\u001b[0m Param n_steps_warm_up_memory unique value length is less than 2.\u001b[0m\n",
      "\u001b[33m[W 2022-02-15 20:58:51,614]\u001b[0m Param n_steps_warm_up_memory unique value length is less than 2.\u001b[0m\n",
      "\u001b[33m[W 2022-02-15 20:58:51,645]\u001b[0m Param n_steps_warm_up_memory unique value length is less than 2.\u001b[0m\n",
      "\u001b[33m[W 2022-02-15 20:58:51,685]\u001b[0m Param n_steps_warm_up_memory unique value length is less than 2.\u001b[0m\n",
      "\u001b[33m[W 2022-02-15 20:58:51,725]\u001b[0m Param n_steps_warm_up_memory unique value length is less than 2.\u001b[0m\n",
      "\u001b[33m[W 2022-02-15 20:58:51,771]\u001b[0m Param n_steps_warm_up_memory unique value length is less than 2.\u001b[0m\n",
      "\u001b[33m[W 2022-02-15 20:58:51,846]\u001b[0m Param n_steps_warm_up_memory unique value length is less than 2.\u001b[0m\n",
      "\u001b[33m[W 2022-02-15 20:58:51,881]\u001b[0m Param n_steps_warm_up_memory unique value length is less than 2.\u001b[0m\n",
      "\u001b[33m[W 2022-02-15 20:58:51,909]\u001b[0m Param n_steps_warm_up_memory unique value length is less than 2.\u001b[0m\n",
      "\u001b[33m[W 2022-02-15 20:58:51,964]\u001b[0m Param n_steps_warm_up_memory unique value length is less than 2.\u001b[0m\n",
      "\u001b[33m[W 2022-02-15 20:58:52,002]\u001b[0m Param n_steps_warm_up_memory unique value length is less than 2.\u001b[0m\n",
      "\u001b[33m[W 2022-02-15 20:58:52,043]\u001b[0m Param n_steps_warm_up_memory unique value length is less than 2.\u001b[0m\n",
      "\u001b[33m[W 2022-02-15 20:58:52,071]\u001b[0m Param n_steps_warm_up_memory unique value length is less than 2.\u001b[0m\n",
      "\u001b[33m[W 2022-02-15 20:58:52,113]\u001b[0m Param nn_hidden_layers unique value length is less than 2.\u001b[0m\n",
      "\u001b[33m[W 2022-02-15 20:58:52,160]\u001b[0m Param nn_hidden_layers unique value length is less than 2.\u001b[0m\n",
      "\u001b[33m[W 2022-02-15 20:58:52,213]\u001b[0m Param nn_hidden_layers unique value length is less than 2.\u001b[0m\n",
      "\u001b[33m[W 2022-02-15 20:58:52,268]\u001b[0m Param nn_hidden_layers unique value length is less than 2.\u001b[0m\n",
      "\u001b[33m[W 2022-02-15 20:58:52,309]\u001b[0m Param nn_hidden_layers unique value length is less than 2.\u001b[0m\n",
      "\u001b[33m[W 2022-02-15 20:58:52,347]\u001b[0m Param nn_hidden_layers unique value length is less than 2.\u001b[0m\n",
      "\u001b[33m[W 2022-02-15 20:58:52,390]\u001b[0m Param nn_hidden_layers unique value length is less than 2.\u001b[0m\n",
      "\u001b[33m[W 2022-02-15 20:58:52,439]\u001b[0m Param nn_hidden_layers unique value length is less than 2.\u001b[0m\n",
      "\u001b[33m[W 2022-02-15 20:58:52,555]\u001b[0m Param nn_hidden_layers unique value length is less than 2.\u001b[0m\n",
      "\u001b[33m[W 2022-02-15 20:58:52,602]\u001b[0m Param nn_hidden_layers unique value length is less than 2.\u001b[0m\n",
      "\u001b[33m[W 2022-02-15 20:58:52,651]\u001b[0m Param nn_hidden_layers unique value length is less than 2.\u001b[0m\n",
      "\u001b[33m[W 2022-02-15 20:58:52,754]\u001b[0m Param nn_hidden_layers unique value length is less than 2.\u001b[0m\n"
     ]
    },
    {
     "name": "stderr",
     "output_type": "stream",
     "text": [
      "\u001b[33m[W 2022-02-15 20:58:52,809]\u001b[0m Param nn_hidden_layers unique value length is less than 2.\u001b[0m\n",
      "\u001b[33m[W 2022-02-15 20:58:52,855]\u001b[0m Param nn_hidden_layers unique value length is less than 2.\u001b[0m\n",
      "\u001b[33m[W 2022-02-15 20:58:52,914]\u001b[0m Param normalize_state unique value length is less than 2.\u001b[0m\n",
      "\u001b[33m[W 2022-02-15 20:58:52,957]\u001b[0m Param normalize_state unique value length is less than 2.\u001b[0m\n",
      "\u001b[33m[W 2022-02-15 20:58:53,006]\u001b[0m Param normalize_state unique value length is less than 2.\u001b[0m\n",
      "\u001b[33m[W 2022-02-15 20:58:53,055]\u001b[0m Param normalize_state unique value length is less than 2.\u001b[0m\n",
      "\u001b[33m[W 2022-02-15 20:58:53,097]\u001b[0m Param normalize_state unique value length is less than 2.\u001b[0m\n",
      "\u001b[33m[W 2022-02-15 20:58:53,137]\u001b[0m Param normalize_state unique value length is less than 2.\u001b[0m\n",
      "\u001b[33m[W 2022-02-15 20:58:53,175]\u001b[0m Param normalize_state unique value length is less than 2.\u001b[0m\n",
      "\u001b[33m[W 2022-02-15 20:58:53,224]\u001b[0m Param normalize_state unique value length is less than 2.\u001b[0m\n",
      "\u001b[33m[W 2022-02-15 20:58:53,263]\u001b[0m Param normalize_state unique value length is less than 2.\u001b[0m\n",
      "\u001b[33m[W 2022-02-15 20:58:53,302]\u001b[0m Param normalize_state unique value length is less than 2.\u001b[0m\n",
      "\u001b[33m[W 2022-02-15 20:58:53,339]\u001b[0m Param normalize_state unique value length is less than 2.\u001b[0m\n",
      "\u001b[33m[W 2022-02-15 20:58:53,379]\u001b[0m Param normalize_state unique value length is less than 2.\u001b[0m\n",
      "\u001b[33m[W 2022-02-15 20:58:53,472]\u001b[0m Param normalize_state unique value length is less than 2.\u001b[0m\n",
      "\u001b[33m[W 2022-02-15 20:58:53,508]\u001b[0m Param normalize_state unique value length is less than 2.\u001b[0m\n",
      "\u001b[33m[W 2022-02-15 20:58:53,663]\u001b[0m Param epsilon_start unique value length is less than 2.\u001b[0m\n",
      "\u001b[33m[W 2022-02-15 20:58:53,908]\u001b[0m Param n_steps_warm_up_memory unique value length is less than 2.\u001b[0m\n",
      "\u001b[33m[W 2022-02-15 20:58:53,935]\u001b[0m Param nn_hidden_layers unique value length is less than 2.\u001b[0m\n",
      "\u001b[33m[W 2022-02-15 20:58:53,972]\u001b[0m Param normalize_state unique value length is less than 2.\u001b[0m\n",
      "\u001b[33m[W 2022-02-15 20:58:54,170]\u001b[0m Param epsilon_start unique value length is less than 2.\u001b[0m\n",
      "\u001b[33m[W 2022-02-15 20:58:54,381]\u001b[0m Param n_steps_warm_up_memory unique value length is less than 2.\u001b[0m\n",
      "\u001b[33m[W 2022-02-15 20:58:54,408]\u001b[0m Param nn_hidden_layers unique value length is less than 2.\u001b[0m\n",
      "\u001b[33m[W 2022-02-15 20:58:54,447]\u001b[0m Param normalize_state unique value length is less than 2.\u001b[0m\n"
     ]
    },
    {
     "name": "stdout",
     "output_type": "stream",
     "text": [
      "https://app.neptune.ai/plabartabajo/parametric-q-learning-cart-pole/e/PAR-54\n",
      "Remember to stop your run once you’ve finished logging your metadata (https://docs.neptune.ai/api-reference/run#.stop). It will be stopped automatically only when the notebook kernel/interactive console is terminated.\n",
      "67,586 parameters\n"
     ]
    },
    {
     "name": "stderr",
     "output_type": "stream",
     "text": [
      "100%|█████████████████████████████████████████████████████████████████████████| 500/500 [00:04<00:00, 109.34it/s]\n",
      "100%|███████████████████████████████████████████████████████████████████████| 1000/1000 [00:02<00:00, 438.59it/s]"
     ]
    },
    {
     "name": "stdout",
     "output_type": "stream",
     "text": [
      "Shutting down background jobs, please wait a moment...\n",
      "Done!\n"
     ]
    },
    {
     "name": "stderr",
     "output_type": "stream",
     "text": [
      "\n",
      "Waiting for the remaining 19 operations to synchronize with Neptune. Do not kill this process.\n"
     ]
    },
    {
     "name": "stdout",
     "output_type": "stream",
     "text": [
      "All 19 operations synced, thanks for waiting!\n"
     ]
    },
    {
     "name": "stderr",
     "output_type": "stream",
     "text": [
      "\u001b[32m[I 2022-02-15 20:59:05,101]\u001b[0m Trial 2 finished with value: 9.376 and parameters: {'learning_rate': 0.1219008154844694, 'discount_factor': 0.99, 'batch_size': 64, 'memory_size': 100000, 'freq_steps_train': 128, 'freq_steps_update_target': 1000, 'n_steps_warm_up_memory': 5000, 'n_gradient_steps': 16, 'nn_hidden_layers': '[256, 256]', 'max_grad_norm': 100, 'normalize_state': False, 'epsilon_start': 0.9, 'epsilon_end': 0.01254054889919023, 'steps_epsilon_decay': 10000, 'seed': 135762335}. Best is trial 1 with value: 175.159.\u001b[0m\n",
      "\u001b[33m[W 2022-02-15 20:59:15,495]\u001b[0m Param epsilon_start unique value length is less than 2.\u001b[0m\n",
      "\u001b[33m[W 2022-02-15 20:59:15,747]\u001b[0m Param n_steps_warm_up_memory unique value length is less than 2.\u001b[0m\n",
      "\u001b[33m[W 2022-02-15 20:59:15,779]\u001b[0m Param nn_hidden_layers unique value length is less than 2.\u001b[0m\n",
      "\u001b[33m[W 2022-02-15 20:59:15,820]\u001b[0m Param normalize_state unique value length is less than 2.\u001b[0m\n",
      "\u001b[33m[W 2022-02-15 20:59:16,006]\u001b[0m Param epsilon_start unique value length is less than 2.\u001b[0m\n",
      "\u001b[33m[W 2022-02-15 20:59:16,179]\u001b[0m Param n_steps_warm_up_memory unique value length is less than 2.\u001b[0m\n",
      "\u001b[33m[W 2022-02-15 20:59:16,200]\u001b[0m Param nn_hidden_layers unique value length is less than 2.\u001b[0m\n",
      "\u001b[33m[W 2022-02-15 20:59:16,230]\u001b[0m Param normalize_state unique value length is less than 2.\u001b[0m\n",
      "\u001b[33m[W 2022-02-15 20:59:16,387]\u001b[0m Param epsilon_start unique value length is less than 2.\u001b[0m\n",
      "\u001b[33m[W 2022-02-15 20:59:16,567]\u001b[0m Param n_steps_warm_up_memory unique value length is less than 2.\u001b[0m\n",
      "\u001b[33m[W 2022-02-15 20:59:16,589]\u001b[0m Param nn_hidden_layers unique value length is less than 2.\u001b[0m\n",
      "\u001b[33m[W 2022-02-15 20:59:16,621]\u001b[0m Param normalize_state unique value length is less than 2.\u001b[0m\n",
      "\u001b[33m[W 2022-02-15 20:59:16,712]\u001b[0m Param epsilon_start unique value length is less than 2.\u001b[0m\n",
      "\u001b[33m[W 2022-02-15 20:59:16,735]\u001b[0m Param epsilon_start unique value length is less than 2.\u001b[0m\n",
      "\u001b[33m[W 2022-02-15 20:59:16,759]\u001b[0m Param epsilon_start unique value length is less than 2.\u001b[0m\n",
      "\u001b[33m[W 2022-02-15 20:59:16,799]\u001b[0m Param epsilon_start unique value length is less than 2.\u001b[0m\n",
      "\u001b[33m[W 2022-02-15 20:59:16,822]\u001b[0m Param epsilon_start unique value length is less than 2.\u001b[0m\n",
      "\u001b[33m[W 2022-02-15 20:59:16,845]\u001b[0m Param epsilon_start unique value length is less than 2.\u001b[0m\n",
      "\u001b[33m[W 2022-02-15 20:59:16,876]\u001b[0m Param epsilon_start unique value length is less than 2.\u001b[0m\n",
      "\u001b[33m[W 2022-02-15 20:59:16,898]\u001b[0m Param epsilon_start unique value length is less than 2.\u001b[0m\n",
      "\u001b[33m[W 2022-02-15 20:59:16,919]\u001b[0m Param epsilon_start unique value length is less than 2.\u001b[0m\n",
      "\u001b[33m[W 2022-02-15 20:59:16,940]\u001b[0m Param epsilon_start unique value length is less than 2.\u001b[0m\n",
      "\u001b[33m[W 2022-02-15 20:59:16,961]\u001b[0m Param epsilon_start unique value length is less than 2.\u001b[0m\n",
      "\u001b[33m[W 2022-02-15 20:59:16,991]\u001b[0m Param epsilon_start unique value length is less than 2.\u001b[0m\n",
      "\u001b[33m[W 2022-02-15 20:59:17,021]\u001b[0m Param epsilon_start unique value length is less than 2.\u001b[0m\n",
      "\u001b[33m[W 2022-02-15 20:59:17,043]\u001b[0m Param epsilon_start unique value length is less than 2.\u001b[0m\n",
      "\u001b[33m[W 2022-02-15 20:59:17,144]\u001b[0m Param epsilon_start unique value length is less than 2.\u001b[0m\n",
      "\u001b[33m[W 2022-02-15 20:59:17,306]\u001b[0m Param n_steps_warm_up_memory unique value length is less than 2.\u001b[0m\n",
      "\u001b[33m[W 2022-02-15 20:59:17,327]\u001b[0m Param nn_hidden_layers unique value length is less than 2.\u001b[0m\n",
      "\u001b[33m[W 2022-02-15 20:59:17,356]\u001b[0m Param normalize_state unique value length is less than 2.\u001b[0m\n",
      "\u001b[33m[W 2022-02-15 20:59:17,511]\u001b[0m Param epsilon_start unique value length is less than 2.\u001b[0m\n",
      "\u001b[33m[W 2022-02-15 20:59:17,674]\u001b[0m Param n_steps_warm_up_memory unique value length is less than 2.\u001b[0m\n",
      "\u001b[33m[W 2022-02-15 20:59:17,695]\u001b[0m Param nn_hidden_layers unique value length is less than 2.\u001b[0m\n",
      "\u001b[33m[W 2022-02-15 20:59:17,726]\u001b[0m Param normalize_state unique value length is less than 2.\u001b[0m\n",
      "\u001b[33m[W 2022-02-15 20:59:17,907]\u001b[0m Param epsilon_start unique value length is less than 2.\u001b[0m\n",
      "\u001b[33m[W 2022-02-15 20:59:18,134]\u001b[0m Param n_steps_warm_up_memory unique value length is less than 2.\u001b[0m\n",
      "\u001b[33m[W 2022-02-15 20:59:18,163]\u001b[0m Param nn_hidden_layers unique value length is less than 2.\u001b[0m\n",
      "\u001b[33m[W 2022-02-15 20:59:18,201]\u001b[0m Param normalize_state unique value length is less than 2.\u001b[0m\n",
      "\u001b[33m[W 2022-02-15 20:59:18,377]\u001b[0m Param epsilon_start unique value length is less than 2.\u001b[0m\n",
      "\u001b[33m[W 2022-02-15 20:59:18,533]\u001b[0m Param n_steps_warm_up_memory unique value length is less than 2.\u001b[0m\n",
      "\u001b[33m[W 2022-02-15 20:59:18,553]\u001b[0m Param nn_hidden_layers unique value length is less than 2.\u001b[0m\n",
      "\u001b[33m[W 2022-02-15 20:59:18,582]\u001b[0m Param normalize_state unique value length is less than 2.\u001b[0m\n",
      "\u001b[33m[W 2022-02-15 20:59:18,734]\u001b[0m Param epsilon_start unique value length is less than 2.\u001b[0m\n",
      "\u001b[33m[W 2022-02-15 20:59:18,890]\u001b[0m Param n_steps_warm_up_memory unique value length is less than 2.\u001b[0m\n",
      "\u001b[33m[W 2022-02-15 20:59:18,911]\u001b[0m Param nn_hidden_layers unique value length is less than 2.\u001b[0m\n",
      "\u001b[33m[W 2022-02-15 20:59:18,939]\u001b[0m Param normalize_state unique value length is less than 2.\u001b[0m\n",
      "\u001b[33m[W 2022-02-15 20:59:19,087]\u001b[0m Param epsilon_start unique value length is less than 2.\u001b[0m\n",
      "\u001b[33m[W 2022-02-15 20:59:19,364]\u001b[0m Param n_steps_warm_up_memory unique value length is less than 2.\u001b[0m\n",
      "\u001b[33m[W 2022-02-15 20:59:19,387]\u001b[0m Param nn_hidden_layers unique value length is less than 2.\u001b[0m\n",
      "\u001b[33m[W 2022-02-15 20:59:19,418]\u001b[0m Param normalize_state unique value length is less than 2.\u001b[0m\n",
      "\u001b[33m[W 2022-02-15 20:59:19,525]\u001b[0m Param n_steps_warm_up_memory unique value length is less than 2.\u001b[0m\n",
      "\u001b[33m[W 2022-02-15 20:59:19,548]\u001b[0m Param n_steps_warm_up_memory unique value length is less than 2.\u001b[0m\n",
      "\u001b[33m[W 2022-02-15 20:59:19,574]\u001b[0m Param n_steps_warm_up_memory unique value length is less than 2.\u001b[0m\n",
      "\u001b[33m[W 2022-02-15 20:59:19,602]\u001b[0m Param n_steps_warm_up_memory unique value length is less than 2.\u001b[0m\n",
      "\u001b[33m[W 2022-02-15 20:59:19,637]\u001b[0m Param n_steps_warm_up_memory unique value length is less than 2.\u001b[0m\n",
      "\u001b[33m[W 2022-02-15 20:59:19,666]\u001b[0m Param n_steps_warm_up_memory unique value length is less than 2.\u001b[0m\n",
      "\u001b[33m[W 2022-02-15 20:59:19,710]\u001b[0m Param n_steps_warm_up_memory unique value length is less than 2.\u001b[0m\n",
      "\u001b[33m[W 2022-02-15 20:59:19,820]\u001b[0m Param n_steps_warm_up_memory unique value length is less than 2.\u001b[0m\n",
      "\u001b[33m[W 2022-02-15 20:59:19,867]\u001b[0m Param n_steps_warm_up_memory unique value length is less than 2.\u001b[0m\n",
      "\u001b[33m[W 2022-02-15 20:59:19,925]\u001b[0m Param n_steps_warm_up_memory unique value length is less than 2.\u001b[0m\n",
      "\u001b[33m[W 2022-02-15 20:59:20,010]\u001b[0m Param n_steps_warm_up_memory unique value length is less than 2.\u001b[0m\n",
      "\u001b[33m[W 2022-02-15 20:59:20,062]\u001b[0m Param n_steps_warm_up_memory unique value length is less than 2.\u001b[0m\n",
      "\u001b[33m[W 2022-02-15 20:59:20,112]\u001b[0m Param n_steps_warm_up_memory unique value length is less than 2.\u001b[0m\n",
      "\u001b[33m[W 2022-02-15 20:59:20,147]\u001b[0m Param n_steps_warm_up_memory unique value length is less than 2.\u001b[0m\n",
      "\u001b[33m[W 2022-02-15 20:59:20,196]\u001b[0m Param nn_hidden_layers unique value length is less than 2.\u001b[0m\n",
      "\u001b[33m[W 2022-02-15 20:59:20,246]\u001b[0m Param nn_hidden_layers unique value length is less than 2.\u001b[0m\n",
      "\u001b[33m[W 2022-02-15 20:59:20,300]\u001b[0m Param nn_hidden_layers unique value length is less than 2.\u001b[0m\n",
      "\u001b[33m[W 2022-02-15 20:59:20,343]\u001b[0m Param nn_hidden_layers unique value length is less than 2.\u001b[0m\n",
      "\u001b[33m[W 2022-02-15 20:59:20,386]\u001b[0m Param nn_hidden_layers unique value length is less than 2.\u001b[0m\n",
      "\u001b[33m[W 2022-02-15 20:59:20,424]\u001b[0m Param nn_hidden_layers unique value length is less than 2.\u001b[0m\n",
      "\u001b[33m[W 2022-02-15 20:59:20,477]\u001b[0m Param nn_hidden_layers unique value length is less than 2.\u001b[0m\n",
      "\u001b[33m[W 2022-02-15 20:59:20,553]\u001b[0m Param nn_hidden_layers unique value length is less than 2.\u001b[0m\n",
      "\u001b[33m[W 2022-02-15 20:59:20,602]\u001b[0m Param nn_hidden_layers unique value length is less than 2.\u001b[0m\n",
      "\u001b[33m[W 2022-02-15 20:59:20,657]\u001b[0m Param nn_hidden_layers unique value length is less than 2.\u001b[0m\n",
      "\u001b[33m[W 2022-02-15 20:59:20,698]\u001b[0m Param nn_hidden_layers unique value length is less than 2.\u001b[0m\n",
      "\u001b[33m[W 2022-02-15 20:59:20,851]\u001b[0m Param nn_hidden_layers unique value length is less than 2.\u001b[0m\n"
     ]
    },
    {
     "name": "stderr",
     "output_type": "stream",
     "text": [
      "\u001b[33m[W 2022-02-15 20:59:20,895]\u001b[0m Param nn_hidden_layers unique value length is less than 2.\u001b[0m\n",
      "\u001b[33m[W 2022-02-15 20:59:20,931]\u001b[0m Param nn_hidden_layers unique value length is less than 2.\u001b[0m\n",
      "\u001b[33m[W 2022-02-15 20:59:20,977]\u001b[0m Param normalize_state unique value length is less than 2.\u001b[0m\n",
      "\u001b[33m[W 2022-02-15 20:59:21,015]\u001b[0m Param normalize_state unique value length is less than 2.\u001b[0m\n",
      "\u001b[33m[W 2022-02-15 20:59:21,049]\u001b[0m Param normalize_state unique value length is less than 2.\u001b[0m\n",
      "\u001b[33m[W 2022-02-15 20:59:21,084]\u001b[0m Param normalize_state unique value length is less than 2.\u001b[0m\n",
      "\u001b[33m[W 2022-02-15 20:59:21,121]\u001b[0m Param normalize_state unique value length is less than 2.\u001b[0m\n",
      "\u001b[33m[W 2022-02-15 20:59:21,169]\u001b[0m Param normalize_state unique value length is less than 2.\u001b[0m\n",
      "\u001b[33m[W 2022-02-15 20:59:21,212]\u001b[0m Param normalize_state unique value length is less than 2.\u001b[0m\n",
      "\u001b[33m[W 2022-02-15 20:59:21,269]\u001b[0m Param normalize_state unique value length is less than 2.\u001b[0m\n",
      "\u001b[33m[W 2022-02-15 20:59:21,316]\u001b[0m Param normalize_state unique value length is less than 2.\u001b[0m\n",
      "\u001b[33m[W 2022-02-15 20:59:21,363]\u001b[0m Param normalize_state unique value length is less than 2.\u001b[0m\n",
      "\u001b[33m[W 2022-02-15 20:59:21,403]\u001b[0m Param normalize_state unique value length is less than 2.\u001b[0m\n",
      "\u001b[33m[W 2022-02-15 20:59:21,440]\u001b[0m Param normalize_state unique value length is less than 2.\u001b[0m\n",
      "\u001b[33m[W 2022-02-15 20:59:21,531]\u001b[0m Param normalize_state unique value length is less than 2.\u001b[0m\n",
      "\u001b[33m[W 2022-02-15 20:59:21,566]\u001b[0m Param normalize_state unique value length is less than 2.\u001b[0m\n",
      "\u001b[33m[W 2022-02-15 20:59:21,718]\u001b[0m Param epsilon_start unique value length is less than 2.\u001b[0m\n",
      "\u001b[33m[W 2022-02-15 20:59:21,951]\u001b[0m Param n_steps_warm_up_memory unique value length is less than 2.\u001b[0m\n",
      "\u001b[33m[W 2022-02-15 20:59:21,977]\u001b[0m Param nn_hidden_layers unique value length is less than 2.\u001b[0m\n",
      "\u001b[33m[W 2022-02-15 20:59:22,016]\u001b[0m Param normalize_state unique value length is less than 2.\u001b[0m\n",
      "\u001b[33m[W 2022-02-15 20:59:22,231]\u001b[0m Param epsilon_start unique value length is less than 2.\u001b[0m\n",
      "\u001b[33m[W 2022-02-15 20:59:22,454]\u001b[0m Param n_steps_warm_up_memory unique value length is less than 2.\u001b[0m\n",
      "\u001b[33m[W 2022-02-15 20:59:22,488]\u001b[0m Param nn_hidden_layers unique value length is less than 2.\u001b[0m\n",
      "\u001b[33m[W 2022-02-15 20:59:22,531]\u001b[0m Param normalize_state unique value length is less than 2.\u001b[0m\n"
     ]
    },
    {
     "name": "stdout",
     "output_type": "stream",
     "text": [
      "https://app.neptune.ai/plabartabajo/parametric-q-learning-cart-pole/e/PAR-55\n",
      "Remember to stop your run once you’ve finished logging your metadata (https://docs.neptune.ai/api-reference/run#.stop). It will be stopped automatically only when the notebook kernel/interactive console is terminated.\n",
      "67,586 parameters\n"
     ]
    },
    {
     "name": "stderr",
     "output_type": "stream",
     "text": [
      "100%|█████████████████████████████████████████████████████████████████████████| 500/500 [00:02<00:00, 224.71it/s]\n",
      "100%|███████████████████████████████████████████████████████████████████████| 1000/1000 [00:02<00:00, 336.60it/s]"
     ]
    },
    {
     "name": "stdout",
     "output_type": "stream",
     "text": [
      "Shutting down background jobs, please wait a moment...\n",
      "Done!\n"
     ]
    },
    {
     "name": "stderr",
     "output_type": "stream",
     "text": [
      "\n",
      "Waiting for the remaining 43 operations to synchronize with Neptune. Do not kill this process.\n"
     ]
    },
    {
     "name": "stdout",
     "output_type": "stream",
     "text": [
      "All 43 operations synced, thanks for waiting!\n"
     ]
    },
    {
     "name": "stderr",
     "output_type": "stream",
     "text": [
      "\u001b[32m[I 2022-02-15 20:59:31,399]\u001b[0m Trial 3 finished with value: 9.401 and parameters: {'learning_rate': 0.14112716889048574, 'discount_factor': 0.99, 'batch_size': 64, 'memory_size': 10000, 'freq_steps_train': 256, 'freq_steps_update_target': 1000, 'n_steps_warm_up_memory': 5000, 'n_gradient_steps': 1, 'nn_hidden_layers': '[256, 256]', 'max_grad_norm': 100, 'normalize_state': False, 'epsilon_start': 0.9, 'epsilon_end': 0.1995740952439778, 'steps_epsilon_decay': 1000, 'seed': 47644304}. Best is trial 1 with value: 175.159.\u001b[0m\n",
      "\u001b[33m[W 2022-02-15 20:59:44,024]\u001b[0m Param epsilon_start unique value length is less than 2.\u001b[0m\n",
      "\u001b[33m[W 2022-02-15 20:59:44,342]\u001b[0m Param n_steps_warm_up_memory unique value length is less than 2.\u001b[0m\n",
      "\u001b[33m[W 2022-02-15 20:59:44,386]\u001b[0m Param nn_hidden_layers unique value length is less than 2.\u001b[0m\n",
      "\u001b[33m[W 2022-02-15 20:59:44,440]\u001b[0m Param normalize_state unique value length is less than 2.\u001b[0m\n",
      "\u001b[33m[W 2022-02-15 20:59:44,676]\u001b[0m Param epsilon_start unique value length is less than 2.\u001b[0m\n",
      "\u001b[33m[W 2022-02-15 20:59:44,894]\u001b[0m Param n_steps_warm_up_memory unique value length is less than 2.\u001b[0m\n",
      "\u001b[33m[W 2022-02-15 20:59:44,921]\u001b[0m Param nn_hidden_layers unique value length is less than 2.\u001b[0m\n",
      "\u001b[33m[W 2022-02-15 20:59:44,958]\u001b[0m Param normalize_state unique value length is less than 2.\u001b[0m\n",
      "\u001b[33m[W 2022-02-15 20:59:45,152]\u001b[0m Param epsilon_start unique value length is less than 2.\u001b[0m\n",
      "\u001b[33m[W 2022-02-15 20:59:45,374]\u001b[0m Param n_steps_warm_up_memory unique value length is less than 2.\u001b[0m\n",
      "\u001b[33m[W 2022-02-15 20:59:45,403]\u001b[0m Param nn_hidden_layers unique value length is less than 2.\u001b[0m\n",
      "\u001b[33m[W 2022-02-15 20:59:45,442]\u001b[0m Param normalize_state unique value length is less than 2.\u001b[0m\n",
      "\u001b[33m[W 2022-02-15 20:59:45,556]\u001b[0m Param epsilon_start unique value length is less than 2.\u001b[0m\n",
      "\u001b[33m[W 2022-02-15 20:59:45,582]\u001b[0m Param epsilon_start unique value length is less than 2.\u001b[0m\n",
      "\u001b[33m[W 2022-02-15 20:59:45,608]\u001b[0m Param epsilon_start unique value length is less than 2.\u001b[0m\n",
      "\u001b[33m[W 2022-02-15 20:59:45,659]\u001b[0m Param epsilon_start unique value length is less than 2.\u001b[0m\n",
      "\u001b[33m[W 2022-02-15 20:59:45,687]\u001b[0m Param epsilon_start unique value length is less than 2.\u001b[0m\n",
      "\u001b[33m[W 2022-02-15 20:59:45,713]\u001b[0m Param epsilon_start unique value length is less than 2.\u001b[0m\n",
      "\u001b[33m[W 2022-02-15 20:59:45,753]\u001b[0m Param epsilon_start unique value length is less than 2.\u001b[0m\n",
      "\u001b[33m[W 2022-02-15 20:59:45,780]\u001b[0m Param epsilon_start unique value length is less than 2.\u001b[0m\n",
      "\u001b[33m[W 2022-02-15 20:59:45,808]\u001b[0m Param epsilon_start unique value length is less than 2.\u001b[0m\n",
      "\u001b[33m[W 2022-02-15 20:59:45,837]\u001b[0m Param epsilon_start unique value length is less than 2.\u001b[0m\n",
      "\u001b[33m[W 2022-02-15 20:59:45,863]\u001b[0m Param epsilon_start unique value length is less than 2.\u001b[0m\n",
      "\u001b[33m[W 2022-02-15 20:59:45,905]\u001b[0m Param epsilon_start unique value length is less than 2.\u001b[0m\n",
      "\u001b[33m[W 2022-02-15 20:59:45,943]\u001b[0m Param epsilon_start unique value length is less than 2.\u001b[0m\n",
      "\u001b[33m[W 2022-02-15 20:59:45,976]\u001b[0m Param epsilon_start unique value length is less than 2.\u001b[0m\n",
      "\u001b[33m[W 2022-02-15 20:59:46,106]\u001b[0m Param epsilon_start unique value length is less than 2.\u001b[0m\n",
      "\u001b[33m[W 2022-02-15 20:59:46,312]\u001b[0m Param n_steps_warm_up_memory unique value length is less than 2.\u001b[0m\n",
      "\u001b[33m[W 2022-02-15 20:59:46,339]\u001b[0m Param nn_hidden_layers unique value length is less than 2.\u001b[0m\n",
      "\u001b[33m[W 2022-02-15 20:59:46,376]\u001b[0m Param normalize_state unique value length is less than 2.\u001b[0m\n",
      "\u001b[33m[W 2022-02-15 20:59:46,578]\u001b[0m Param epsilon_start unique value length is less than 2.\u001b[0m\n",
      "\u001b[33m[W 2022-02-15 20:59:46,780]\u001b[0m Param n_steps_warm_up_memory unique value length is less than 2.\u001b[0m\n",
      "\u001b[33m[W 2022-02-15 20:59:46,806]\u001b[0m Param nn_hidden_layers unique value length is less than 2.\u001b[0m\n",
      "\u001b[33m[W 2022-02-15 20:59:46,842]\u001b[0m Param normalize_state unique value length is less than 2.\u001b[0m\n",
      "\u001b[33m[W 2022-02-15 20:59:47,071]\u001b[0m Param epsilon_start unique value length is less than 2.\u001b[0m\n",
      "\u001b[33m[W 2022-02-15 20:59:47,355]\u001b[0m Param n_steps_warm_up_memory unique value length is less than 2.\u001b[0m\n",
      "\u001b[33m[W 2022-02-15 20:59:47,393]\u001b[0m Param nn_hidden_layers unique value length is less than 2.\u001b[0m\n",
      "\u001b[33m[W 2022-02-15 20:59:47,443]\u001b[0m Param normalize_state unique value length is less than 2.\u001b[0m\n",
      "\u001b[33m[W 2022-02-15 20:59:47,668]\u001b[0m Param epsilon_start unique value length is less than 2.\u001b[0m\n",
      "\u001b[33m[W 2022-02-15 20:59:47,864]\u001b[0m Param n_steps_warm_up_memory unique value length is less than 2.\u001b[0m\n",
      "\u001b[33m[W 2022-02-15 20:59:47,891]\u001b[0m Param nn_hidden_layers unique value length is less than 2.\u001b[0m\n",
      "\u001b[33m[W 2022-02-15 20:59:47,927]\u001b[0m Param normalize_state unique value length is less than 2.\u001b[0m\n",
      "\u001b[33m[W 2022-02-15 20:59:48,122]\u001b[0m Param epsilon_start unique value length is less than 2.\u001b[0m\n",
      "\u001b[33m[W 2022-02-15 20:59:48,321]\u001b[0m Param n_steps_warm_up_memory unique value length is less than 2.\u001b[0m\n",
      "\u001b[33m[W 2022-02-15 20:59:48,344]\u001b[0m Param nn_hidden_layers unique value length is less than 2.\u001b[0m\n",
      "\u001b[33m[W 2022-02-15 20:59:48,383]\u001b[0m Param normalize_state unique value length is less than 2.\u001b[0m\n",
      "\u001b[33m[W 2022-02-15 20:59:48,575]\u001b[0m Param epsilon_start unique value length is less than 2.\u001b[0m\n",
      "\u001b[33m[W 2022-02-15 20:59:48,801]\u001b[0m Param n_steps_warm_up_memory unique value length is less than 2.\u001b[0m\n",
      "\u001b[33m[W 2022-02-15 20:59:48,826]\u001b[0m Param nn_hidden_layers unique value length is less than 2.\u001b[0m\n",
      "\u001b[33m[W 2022-02-15 20:59:48,863]\u001b[0m Param normalize_state unique value length is less than 2.\u001b[0m\n",
      "\u001b[33m[W 2022-02-15 20:59:48,971]\u001b[0m Param n_steps_warm_up_memory unique value length is less than 2.\u001b[0m\n",
      "\u001b[33m[W 2022-02-15 20:59:48,996]\u001b[0m Param n_steps_warm_up_memory unique value length is less than 2.\u001b[0m\n",
      "\u001b[33m[W 2022-02-15 20:59:49,022]\u001b[0m Param n_steps_warm_up_memory unique value length is less than 2.\u001b[0m\n",
      "\u001b[33m[W 2022-02-15 20:59:49,047]\u001b[0m Param n_steps_warm_up_memory unique value length is less than 2.\u001b[0m\n",
      "\u001b[33m[W 2022-02-15 20:59:49,074]\u001b[0m Param n_steps_warm_up_memory unique value length is less than 2.\u001b[0m\n",
      "\u001b[33m[W 2022-02-15 20:59:49,100]\u001b[0m Param n_steps_warm_up_memory unique value length is less than 2.\u001b[0m\n",
      "\u001b[33m[W 2022-02-15 20:59:49,127]\u001b[0m Param n_steps_warm_up_memory unique value length is less than 2.\u001b[0m\n",
      "\u001b[33m[W 2022-02-15 20:59:49,211]\u001b[0m Param n_steps_warm_up_memory unique value length is less than 2.\u001b[0m\n",
      "\u001b[33m[W 2022-02-15 20:59:49,239]\u001b[0m Param n_steps_warm_up_memory unique value length is less than 2.\u001b[0m\n",
      "\u001b[33m[W 2022-02-15 20:59:49,268]\u001b[0m Param n_steps_warm_up_memory unique value length is less than 2.\u001b[0m\n",
      "\u001b[33m[W 2022-02-15 20:59:49,315]\u001b[0m Param n_steps_warm_up_memory unique value length is less than 2.\u001b[0m\n",
      "\u001b[33m[W 2022-02-15 20:59:49,353]\u001b[0m Param n_steps_warm_up_memory unique value length is less than 2.\u001b[0m\n",
      "\u001b[33m[W 2022-02-15 20:59:49,389]\u001b[0m Param n_steps_warm_up_memory unique value length is less than 2.\u001b[0m\n",
      "\u001b[33m[W 2022-02-15 20:59:49,414]\u001b[0m Param n_steps_warm_up_memory unique value length is less than 2.\u001b[0m\n",
      "\u001b[33m[W 2022-02-15 20:59:49,454]\u001b[0m Param nn_hidden_layers unique value length is less than 2.\u001b[0m\n",
      "\u001b[33m[W 2022-02-15 20:59:49,489]\u001b[0m Param nn_hidden_layers unique value length is less than 2.\u001b[0m\n",
      "\u001b[33m[W 2022-02-15 20:59:49,525]\u001b[0m Param nn_hidden_layers unique value length is less than 2.\u001b[0m\n",
      "\u001b[33m[W 2022-02-15 20:59:49,562]\u001b[0m Param nn_hidden_layers unique value length is less than 2.\u001b[0m\n",
      "\u001b[33m[W 2022-02-15 20:59:49,601]\u001b[0m Param nn_hidden_layers unique value length is less than 2.\u001b[0m\n",
      "\u001b[33m[W 2022-02-15 20:59:49,638]\u001b[0m Param nn_hidden_layers unique value length is less than 2.\u001b[0m\n",
      "\u001b[33m[W 2022-02-15 20:59:49,674]\u001b[0m Param nn_hidden_layers unique value length is less than 2.\u001b[0m\n",
      "\u001b[33m[W 2022-02-15 20:59:49,720]\u001b[0m Param nn_hidden_layers unique value length is less than 2.\u001b[0m\n",
      "\u001b[33m[W 2022-02-15 20:59:49,757]\u001b[0m Param nn_hidden_layers unique value length is less than 2.\u001b[0m\n",
      "\u001b[33m[W 2022-02-15 20:59:49,792]\u001b[0m Param nn_hidden_layers unique value length is less than 2.\u001b[0m\n",
      "\u001b[33m[W 2022-02-15 20:59:49,827]\u001b[0m Param nn_hidden_layers unique value length is less than 2.\u001b[0m\n",
      "\u001b[33m[W 2022-02-15 20:59:49,910]\u001b[0m Param nn_hidden_layers unique value length is less than 2.\u001b[0m\n"
     ]
    },
    {
     "name": "stderr",
     "output_type": "stream",
     "text": [
      "\u001b[33m[W 2022-02-15 20:59:49,957]\u001b[0m Param nn_hidden_layers unique value length is less than 2.\u001b[0m\n",
      "\u001b[33m[W 2022-02-15 20:59:49,994]\u001b[0m Param nn_hidden_layers unique value length is less than 2.\u001b[0m\n",
      "\u001b[33m[W 2022-02-15 20:59:50,043]\u001b[0m Param normalize_state unique value length is less than 2.\u001b[0m\n",
      "\u001b[33m[W 2022-02-15 20:59:50,080]\u001b[0m Param normalize_state unique value length is less than 2.\u001b[0m\n",
      "\u001b[33m[W 2022-02-15 20:59:50,116]\u001b[0m Param normalize_state unique value length is less than 2.\u001b[0m\n",
      "\u001b[33m[W 2022-02-15 20:59:50,153]\u001b[0m Param normalize_state unique value length is less than 2.\u001b[0m\n",
      "\u001b[33m[W 2022-02-15 20:59:50,189]\u001b[0m Param normalize_state unique value length is less than 2.\u001b[0m\n",
      "\u001b[33m[W 2022-02-15 20:59:50,223]\u001b[0m Param normalize_state unique value length is less than 2.\u001b[0m\n",
      "\u001b[33m[W 2022-02-15 20:59:50,259]\u001b[0m Param normalize_state unique value length is less than 2.\u001b[0m\n",
      "\u001b[33m[W 2022-02-15 20:59:50,307]\u001b[0m Param normalize_state unique value length is less than 2.\u001b[0m\n",
      "\u001b[33m[W 2022-02-15 20:59:50,344]\u001b[0m Param normalize_state unique value length is less than 2.\u001b[0m\n",
      "\u001b[33m[W 2022-02-15 20:59:50,380]\u001b[0m Param normalize_state unique value length is less than 2.\u001b[0m\n",
      "\u001b[33m[W 2022-02-15 20:59:50,420]\u001b[0m Param normalize_state unique value length is less than 2.\u001b[0m\n",
      "\u001b[33m[W 2022-02-15 20:59:50,456]\u001b[0m Param normalize_state unique value length is less than 2.\u001b[0m\n",
      "\u001b[33m[W 2022-02-15 20:59:50,559]\u001b[0m Param normalize_state unique value length is less than 2.\u001b[0m\n",
      "\u001b[33m[W 2022-02-15 20:59:50,595]\u001b[0m Param normalize_state unique value length is less than 2.\u001b[0m\n",
      "\u001b[33m[W 2022-02-15 20:59:50,731]\u001b[0m Param epsilon_start unique value length is less than 2.\u001b[0m\n",
      "\u001b[33m[W 2022-02-15 20:59:50,935]\u001b[0m Param n_steps_warm_up_memory unique value length is less than 2.\u001b[0m\n",
      "\u001b[33m[W 2022-02-15 20:59:50,960]\u001b[0m Param nn_hidden_layers unique value length is less than 2.\u001b[0m\n",
      "\u001b[33m[W 2022-02-15 20:59:50,997]\u001b[0m Param normalize_state unique value length is less than 2.\u001b[0m\n",
      "\u001b[33m[W 2022-02-15 20:59:51,180]\u001b[0m Param epsilon_start unique value length is less than 2.\u001b[0m\n",
      "\u001b[33m[W 2022-02-15 20:59:51,377]\u001b[0m Param n_steps_warm_up_memory unique value length is less than 2.\u001b[0m\n",
      "\u001b[33m[W 2022-02-15 20:59:51,401]\u001b[0m Param nn_hidden_layers unique value length is less than 2.\u001b[0m\n",
      "\u001b[33m[W 2022-02-15 20:59:51,437]\u001b[0m Param normalize_state unique value length is less than 2.\u001b[0m\n"
     ]
    },
    {
     "name": "stdout",
     "output_type": "stream",
     "text": [
      "https://app.neptune.ai/plabartabajo/parametric-q-learning-cart-pole/e/PAR-56\n",
      "Remember to stop your run once you’ve finished logging your metadata (https://docs.neptune.ai/api-reference/run#.stop). It will be stopped automatically only when the notebook kernel/interactive console is terminated.\n",
      "67,586 parameters\n"
     ]
    },
    {
     "name": "stderr",
     "output_type": "stream",
     "text": [
      "100%|█████████████████████████████████████████████████████████████████████████| 500/500 [00:02<00:00, 178.56it/s]\n",
      "100%|███████████████████████████████████████████████████████████████████████| 1000/1000 [00:03<00:00, 314.07it/s]"
     ]
    },
    {
     "name": "stdout",
     "output_type": "stream",
     "text": [
      "Shutting down background jobs, please wait a moment...\n",
      "Done!\n"
     ]
    },
    {
     "name": "stderr",
     "output_type": "stream",
     "text": [
      "\n",
      "Waiting for the remaining 23 operations to synchronize with Neptune. Do not kill this process.\n"
     ]
    },
    {
     "name": "stdout",
     "output_type": "stream",
     "text": [
      "All 23 operations synced, thanks for waiting!\n"
     ]
    },
    {
     "name": "stderr",
     "output_type": "stream",
     "text": [
      "\u001b[32m[I 2022-02-15 21:00:00,562]\u001b[0m Trial 4 finished with value: 9.402 and parameters: {'learning_rate': 0.21103934616164668, 'discount_factor': 0.9, 'batch_size': 128, 'memory_size': 10000, 'freq_steps_train': 8, 'freq_steps_update_target': 10, 'n_steps_warm_up_memory': 5000, 'n_gradient_steps': 1, 'nn_hidden_layers': '[256, 256]', 'max_grad_norm': 100, 'normalize_state': False, 'epsilon_start': 0.9, 'epsilon_end': 0.030970262167121357, 'steps_epsilon_decay': 1000, 'seed': 217902796}. Best is trial 1 with value: 175.159.\u001b[0m\n",
      "\u001b[33m[W 2022-02-15 21:00:12,522]\u001b[0m Param epsilon_start unique value length is less than 2.\u001b[0m\n",
      "\u001b[33m[W 2022-02-15 21:00:12,768]\u001b[0m Param n_steps_warm_up_memory unique value length is less than 2.\u001b[0m\n",
      "\u001b[33m[W 2022-02-15 21:00:12,799]\u001b[0m Param nn_hidden_layers unique value length is less than 2.\u001b[0m\n",
      "\u001b[33m[W 2022-02-15 21:00:12,837]\u001b[0m Param normalize_state unique value length is less than 2.\u001b[0m\n",
      "\u001b[33m[W 2022-02-15 21:00:13,016]\u001b[0m Param epsilon_start unique value length is less than 2.\u001b[0m\n",
      "\u001b[33m[W 2022-02-15 21:00:13,183]\u001b[0m Param n_steps_warm_up_memory unique value length is less than 2.\u001b[0m\n",
      "\u001b[33m[W 2022-02-15 21:00:13,204]\u001b[0m Param nn_hidden_layers unique value length is less than 2.\u001b[0m\n",
      "\u001b[33m[W 2022-02-15 21:00:13,233]\u001b[0m Param normalize_state unique value length is less than 2.\u001b[0m\n",
      "\u001b[33m[W 2022-02-15 21:00:13,393]\u001b[0m Param epsilon_start unique value length is less than 2.\u001b[0m\n",
      "\u001b[33m[W 2022-02-15 21:00:13,710]\u001b[0m Param n_steps_warm_up_memory unique value length is less than 2.\u001b[0m\n",
      "\u001b[33m[W 2022-02-15 21:00:13,730]\u001b[0m Param nn_hidden_layers unique value length is less than 2.\u001b[0m\n",
      "\u001b[33m[W 2022-02-15 21:00:13,760]\u001b[0m Param normalize_state unique value length is less than 2.\u001b[0m\n",
      "\u001b[33m[W 2022-02-15 21:00:13,862]\u001b[0m Param epsilon_start unique value length is less than 2.\u001b[0m\n",
      "\u001b[33m[W 2022-02-15 21:00:13,886]\u001b[0m Param epsilon_start unique value length is less than 2.\u001b[0m\n",
      "\u001b[33m[W 2022-02-15 21:00:13,911]\u001b[0m Param epsilon_start unique value length is less than 2.\u001b[0m\n",
      "\u001b[33m[W 2022-02-15 21:00:13,954]\u001b[0m Param epsilon_start unique value length is less than 2.\u001b[0m\n",
      "\u001b[33m[W 2022-02-15 21:00:13,975]\u001b[0m Param epsilon_start unique value length is less than 2.\u001b[0m\n",
      "\u001b[33m[W 2022-02-15 21:00:13,996]\u001b[0m Param epsilon_start unique value length is less than 2.\u001b[0m\n",
      "\u001b[33m[W 2022-02-15 21:00:14,027]\u001b[0m Param epsilon_start unique value length is less than 2.\u001b[0m\n",
      "\u001b[33m[W 2022-02-15 21:00:14,048]\u001b[0m Param epsilon_start unique value length is less than 2.\u001b[0m\n",
      "\u001b[33m[W 2022-02-15 21:00:14,069]\u001b[0m Param epsilon_start unique value length is less than 2.\u001b[0m\n",
      "\u001b[33m[W 2022-02-15 21:00:14,091]\u001b[0m Param epsilon_start unique value length is less than 2.\u001b[0m\n",
      "\u001b[33m[W 2022-02-15 21:00:14,111]\u001b[0m Param epsilon_start unique value length is less than 2.\u001b[0m\n",
      "\u001b[33m[W 2022-02-15 21:00:14,140]\u001b[0m Param epsilon_start unique value length is less than 2.\u001b[0m\n",
      "\u001b[33m[W 2022-02-15 21:00:14,170]\u001b[0m Param epsilon_start unique value length is less than 2.\u001b[0m\n",
      "\u001b[33m[W 2022-02-15 21:00:14,190]\u001b[0m Param epsilon_start unique value length is less than 2.\u001b[0m\n",
      "\u001b[33m[W 2022-02-15 21:00:14,291]\u001b[0m Param epsilon_start unique value length is less than 2.\u001b[0m\n",
      "\u001b[33m[W 2022-02-15 21:00:14,455]\u001b[0m Param n_steps_warm_up_memory unique value length is less than 2.\u001b[0m\n",
      "\u001b[33m[W 2022-02-15 21:00:14,475]\u001b[0m Param nn_hidden_layers unique value length is less than 2.\u001b[0m\n",
      "\u001b[33m[W 2022-02-15 21:00:14,505]\u001b[0m Param normalize_state unique value length is less than 2.\u001b[0m\n",
      "\u001b[33m[W 2022-02-15 21:00:14,661]\u001b[0m Param epsilon_start unique value length is less than 2.\u001b[0m\n",
      "\u001b[33m[W 2022-02-15 21:00:14,824]\u001b[0m Param n_steps_warm_up_memory unique value length is less than 2.\u001b[0m\n",
      "\u001b[33m[W 2022-02-15 21:00:14,845]\u001b[0m Param nn_hidden_layers unique value length is less than 2.\u001b[0m\n",
      "\u001b[33m[W 2022-02-15 21:00:14,874]\u001b[0m Param normalize_state unique value length is less than 2.\u001b[0m\n",
      "\u001b[33m[W 2022-02-15 21:00:15,051]\u001b[0m Param epsilon_start unique value length is less than 2.\u001b[0m\n",
      "\u001b[33m[W 2022-02-15 21:00:15,269]\u001b[0m Param n_steps_warm_up_memory unique value length is less than 2.\u001b[0m\n",
      "\u001b[33m[W 2022-02-15 21:00:15,299]\u001b[0m Param nn_hidden_layers unique value length is less than 2.\u001b[0m\n",
      "\u001b[33m[W 2022-02-15 21:00:15,335]\u001b[0m Param normalize_state unique value length is less than 2.\u001b[0m\n",
      "\u001b[33m[W 2022-02-15 21:00:15,510]\u001b[0m Param epsilon_start unique value length is less than 2.\u001b[0m\n",
      "\u001b[33m[W 2022-02-15 21:00:15,669]\u001b[0m Param n_steps_warm_up_memory unique value length is less than 2.\u001b[0m\n",
      "\u001b[33m[W 2022-02-15 21:00:15,690]\u001b[0m Param nn_hidden_layers unique value length is less than 2.\u001b[0m\n",
      "\u001b[33m[W 2022-02-15 21:00:15,718]\u001b[0m Param normalize_state unique value length is less than 2.\u001b[0m\n",
      "\u001b[33m[W 2022-02-15 21:00:15,868]\u001b[0m Param epsilon_start unique value length is less than 2.\u001b[0m\n",
      "\u001b[33m[W 2022-02-15 21:00:16,024]\u001b[0m Param n_steps_warm_up_memory unique value length is less than 2.\u001b[0m\n",
      "\u001b[33m[W 2022-02-15 21:00:16,044]\u001b[0m Param nn_hidden_layers unique value length is less than 2.\u001b[0m\n",
      "\u001b[33m[W 2022-02-15 21:00:16,074]\u001b[0m Param normalize_state unique value length is less than 2.\u001b[0m\n",
      "\u001b[33m[W 2022-02-15 21:00:16,233]\u001b[0m Param epsilon_start unique value length is less than 2.\u001b[0m\n",
      "\u001b[33m[W 2022-02-15 21:00:16,438]\u001b[0m Param n_steps_warm_up_memory unique value length is less than 2.\u001b[0m\n",
      "\u001b[33m[W 2022-02-15 21:00:16,461]\u001b[0m Param nn_hidden_layers unique value length is less than 2.\u001b[0m\n",
      "\u001b[33m[W 2022-02-15 21:00:16,495]\u001b[0m Param normalize_state unique value length is less than 2.\u001b[0m\n",
      "\u001b[33m[W 2022-02-15 21:00:16,585]\u001b[0m Param n_steps_warm_up_memory unique value length is less than 2.\u001b[0m\n",
      "\u001b[33m[W 2022-02-15 21:00:16,606]\u001b[0m Param n_steps_warm_up_memory unique value length is less than 2.\u001b[0m\n",
      "\u001b[33m[W 2022-02-15 21:00:16,629]\u001b[0m Param n_steps_warm_up_memory unique value length is less than 2.\u001b[0m\n",
      "\u001b[33m[W 2022-02-15 21:00:16,650]\u001b[0m Param n_steps_warm_up_memory unique value length is less than 2.\u001b[0m\n",
      "\u001b[33m[W 2022-02-15 21:00:16,671]\u001b[0m Param n_steps_warm_up_memory unique value length is less than 2.\u001b[0m\n",
      "\u001b[33m[W 2022-02-15 21:00:16,692]\u001b[0m Param n_steps_warm_up_memory unique value length is less than 2.\u001b[0m\n",
      "\u001b[33m[W 2022-02-15 21:00:16,713]\u001b[0m Param n_steps_warm_up_memory unique value length is less than 2.\u001b[0m\n",
      "\u001b[33m[W 2022-02-15 21:00:16,745]\u001b[0m Param n_steps_warm_up_memory unique value length is less than 2.\u001b[0m\n",
      "\u001b[33m[W 2022-02-15 21:00:16,765]\u001b[0m Param n_steps_warm_up_memory unique value length is less than 2.\u001b[0m\n",
      "\u001b[33m[W 2022-02-15 21:00:16,785]\u001b[0m Param n_steps_warm_up_memory unique value length is less than 2.\u001b[0m\n",
      "\u001b[33m[W 2022-02-15 21:00:16,823]\u001b[0m Param n_steps_warm_up_memory unique value length is less than 2.\u001b[0m\n",
      "\u001b[33m[W 2022-02-15 21:00:16,894]\u001b[0m Param n_steps_warm_up_memory unique value length is less than 2.\u001b[0m\n",
      "\u001b[33m[W 2022-02-15 21:00:16,923]\u001b[0m Param n_steps_warm_up_memory unique value length is less than 2.\u001b[0m\n",
      "\u001b[33m[W 2022-02-15 21:00:16,945]\u001b[0m Param n_steps_warm_up_memory unique value length is less than 2.\u001b[0m\n",
      "\u001b[33m[W 2022-02-15 21:00:16,973]\u001b[0m Param nn_hidden_layers unique value length is less than 2.\u001b[0m\n",
      "\u001b[33m[W 2022-02-15 21:00:17,001]\u001b[0m Param nn_hidden_layers unique value length is less than 2.\u001b[0m\n",
      "\u001b[33m[W 2022-02-15 21:00:17,031]\u001b[0m Param nn_hidden_layers unique value length is less than 2.\u001b[0m\n",
      "\u001b[33m[W 2022-02-15 21:00:17,060]\u001b[0m Param nn_hidden_layers unique value length is less than 2.\u001b[0m\n",
      "\u001b[33m[W 2022-02-15 21:00:17,089]\u001b[0m Param nn_hidden_layers unique value length is less than 2.\u001b[0m\n",
      "\u001b[33m[W 2022-02-15 21:00:17,123]\u001b[0m Param nn_hidden_layers unique value length is less than 2.\u001b[0m\n",
      "\u001b[33m[W 2022-02-15 21:00:17,160]\u001b[0m Param nn_hidden_layers unique value length is less than 2.\u001b[0m\n",
      "\u001b[33m[W 2022-02-15 21:00:17,218]\u001b[0m Param nn_hidden_layers unique value length is less than 2.\u001b[0m\n",
      "\u001b[33m[W 2022-02-15 21:00:17,260]\u001b[0m Param nn_hidden_layers unique value length is less than 2.\u001b[0m\n",
      "\u001b[33m[W 2022-02-15 21:00:17,299]\u001b[0m Param nn_hidden_layers unique value length is less than 2.\u001b[0m\n",
      "\u001b[33m[W 2022-02-15 21:00:17,338]\u001b[0m Param nn_hidden_layers unique value length is less than 2.\u001b[0m\n",
      "\u001b[33m[W 2022-02-15 21:00:17,423]\u001b[0m Param nn_hidden_layers unique value length is less than 2.\u001b[0m\n"
     ]
    },
    {
     "name": "stderr",
     "output_type": "stream",
     "text": [
      "\u001b[33m[W 2022-02-15 21:00:17,467]\u001b[0m Param nn_hidden_layers unique value length is less than 2.\u001b[0m\n",
      "\u001b[33m[W 2022-02-15 21:00:17,500]\u001b[0m Param nn_hidden_layers unique value length is less than 2.\u001b[0m\n",
      "\u001b[33m[W 2022-02-15 21:00:17,550]\u001b[0m Param normalize_state unique value length is less than 2.\u001b[0m\n",
      "\u001b[33m[W 2022-02-15 21:00:17,590]\u001b[0m Param normalize_state unique value length is less than 2.\u001b[0m\n",
      "\u001b[33m[W 2022-02-15 21:00:17,631]\u001b[0m Param normalize_state unique value length is less than 2.\u001b[0m\n",
      "\u001b[33m[W 2022-02-15 21:00:17,675]\u001b[0m Param normalize_state unique value length is less than 2.\u001b[0m\n",
      "\u001b[33m[W 2022-02-15 21:00:17,715]\u001b[0m Param normalize_state unique value length is less than 2.\u001b[0m\n",
      "\u001b[33m[W 2022-02-15 21:00:17,753]\u001b[0m Param normalize_state unique value length is less than 2.\u001b[0m\n",
      "\u001b[33m[W 2022-02-15 21:00:17,791]\u001b[0m Param normalize_state unique value length is less than 2.\u001b[0m\n",
      "\u001b[33m[W 2022-02-15 21:00:17,841]\u001b[0m Param normalize_state unique value length is less than 2.\u001b[0m\n",
      "\u001b[33m[W 2022-02-15 21:00:17,877]\u001b[0m Param normalize_state unique value length is less than 2.\u001b[0m\n",
      "\u001b[33m[W 2022-02-15 21:00:17,914]\u001b[0m Param normalize_state unique value length is less than 2.\u001b[0m\n",
      "\u001b[33m[W 2022-02-15 21:00:17,950]\u001b[0m Param normalize_state unique value length is less than 2.\u001b[0m\n",
      "\u001b[33m[W 2022-02-15 21:00:17,985]\u001b[0m Param normalize_state unique value length is less than 2.\u001b[0m\n",
      "\u001b[33m[W 2022-02-15 21:00:18,065]\u001b[0m Param normalize_state unique value length is less than 2.\u001b[0m\n",
      "\u001b[33m[W 2022-02-15 21:00:18,096]\u001b[0m Param normalize_state unique value length is less than 2.\u001b[0m\n",
      "\u001b[33m[W 2022-02-15 21:00:18,247]\u001b[0m Param epsilon_start unique value length is less than 2.\u001b[0m\n",
      "\u001b[33m[W 2022-02-15 21:00:18,466]\u001b[0m Param n_steps_warm_up_memory unique value length is less than 2.\u001b[0m\n",
      "\u001b[33m[W 2022-02-15 21:00:18,501]\u001b[0m Param nn_hidden_layers unique value length is less than 2.\u001b[0m\n",
      "\u001b[33m[W 2022-02-15 21:00:18,539]\u001b[0m Param normalize_state unique value length is less than 2.\u001b[0m\n",
      "\u001b[33m[W 2022-02-15 21:00:18,742]\u001b[0m Param epsilon_start unique value length is less than 2.\u001b[0m\n",
      "\u001b[33m[W 2022-02-15 21:00:19,043]\u001b[0m Param n_steps_warm_up_memory unique value length is less than 2.\u001b[0m\n",
      "\u001b[33m[W 2022-02-15 21:00:19,078]\u001b[0m Param nn_hidden_layers unique value length is less than 2.\u001b[0m\n",
      "\u001b[33m[W 2022-02-15 21:00:19,117]\u001b[0m Param normalize_state unique value length is less than 2.\u001b[0m\n"
     ]
    },
    {
     "name": "stdout",
     "output_type": "stream",
     "text": [
      "https://app.neptune.ai/plabartabajo/parametric-q-learning-cart-pole/e/PAR-57\n",
      "Remember to stop your run once you’ve finished logging your metadata (https://docs.neptune.ai/api-reference/run#.stop). It will be stopped automatically only when the notebook kernel/interactive console is terminated.\n",
      "67,586 parameters\n"
     ]
    },
    {
     "name": "stderr",
     "output_type": "stream",
     "text": [
      "100%|█████████████████████████████████████████████████████████████████████████| 500/500 [00:02<00:00, 198.05it/s]\n",
      "100%|███████████████████████████████████████████████████████████████████████| 1000/1000 [00:03<00:00, 303.87it/s]"
     ]
    },
    {
     "name": "stdout",
     "output_type": "stream",
     "text": [
      "Shutting down background jobs, please wait a moment...\n"
     ]
    },
    {
     "name": "stderr",
     "output_type": "stream",
     "text": [
      "\n"
     ]
    },
    {
     "name": "stdout",
     "output_type": "stream",
     "text": [
      "Done!\n"
     ]
    },
    {
     "name": "stderr",
     "output_type": "stream",
     "text": [
      "Waiting for the remaining 34 operations to synchronize with Neptune. Do not kill this process.\n"
     ]
    },
    {
     "name": "stdout",
     "output_type": "stream",
     "text": [
      "All 34 operations synced, thanks for waiting!\n"
     ]
    },
    {
     "name": "stderr",
     "output_type": "stream",
     "text": [
      "\u001b[32m[I 2022-02-15 21:00:28,379]\u001b[0m Trial 5 finished with value: 11.73 and parameters: {'learning_rate': 1.733276458824201e-05, 'discount_factor': 0.9, 'batch_size': 64, 'memory_size': 10000, 'freq_steps_train': 256, 'freq_steps_update_target': 100, 'n_steps_warm_up_memory': 1000, 'n_gradient_steps': 4, 'nn_hidden_layers': '[256, 256]', 'max_grad_norm': 10, 'normalize_state': False, 'epsilon_start': 0.9, 'epsilon_end': 0.18086250236513282, 'steps_epsilon_decay': 100000, 'seed': 327752222}. Best is trial 1 with value: 175.159.\u001b[0m\n",
      "\u001b[33m[W 2022-02-15 21:00:39,125]\u001b[0m Param epsilon_start unique value length is less than 2.\u001b[0m\n",
      "\u001b[33m[W 2022-02-15 21:00:39,509]\u001b[0m Param nn_hidden_layers unique value length is less than 2.\u001b[0m\n",
      "\u001b[33m[W 2022-02-15 21:00:39,562]\u001b[0m Param normalize_state unique value length is less than 2.\u001b[0m\n",
      "\u001b[33m[W 2022-02-15 21:00:39,805]\u001b[0m Param epsilon_start unique value length is less than 2.\u001b[0m\n",
      "\u001b[33m[W 2022-02-15 21:00:40,079]\u001b[0m Param nn_hidden_layers unique value length is less than 2.\u001b[0m\n",
      "\u001b[33m[W 2022-02-15 21:00:40,118]\u001b[0m Param normalize_state unique value length is less than 2.\u001b[0m\n",
      "\u001b[33m[W 2022-02-15 21:00:40,402]\u001b[0m Param epsilon_start unique value length is less than 2.\u001b[0m\n",
      "\u001b[33m[W 2022-02-15 21:00:40,719]\u001b[0m Param nn_hidden_layers unique value length is less than 2.\u001b[0m\n",
      "\u001b[33m[W 2022-02-15 21:00:40,761]\u001b[0m Param normalize_state unique value length is less than 2.\u001b[0m\n",
      "\u001b[33m[W 2022-02-15 21:00:40,898]\u001b[0m Param epsilon_start unique value length is less than 2.\u001b[0m\n",
      "\u001b[33m[W 2022-02-15 21:00:40,941]\u001b[0m Param epsilon_start unique value length is less than 2.\u001b[0m\n",
      "\u001b[33m[W 2022-02-15 21:00:40,990]\u001b[0m Param epsilon_start unique value length is less than 2.\u001b[0m\n",
      "\u001b[33m[W 2022-02-15 21:00:41,055]\u001b[0m Param epsilon_start unique value length is less than 2.\u001b[0m\n",
      "\u001b[33m[W 2022-02-15 21:00:41,085]\u001b[0m Param epsilon_start unique value length is less than 2.\u001b[0m\n",
      "\u001b[33m[W 2022-02-15 21:00:41,116]\u001b[0m Param epsilon_start unique value length is less than 2.\u001b[0m\n",
      "\u001b[33m[W 2022-02-15 21:00:41,160]\u001b[0m Param epsilon_start unique value length is less than 2.\u001b[0m\n",
      "\u001b[33m[W 2022-02-15 21:00:41,189]\u001b[0m Param epsilon_start unique value length is less than 2.\u001b[0m\n",
      "\u001b[33m[W 2022-02-15 21:00:41,216]\u001b[0m Param epsilon_start unique value length is less than 2.\u001b[0m\n",
      "\u001b[33m[W 2022-02-15 21:00:41,246]\u001b[0m Param epsilon_start unique value length is less than 2.\u001b[0m\n",
      "\u001b[33m[W 2022-02-15 21:00:41,275]\u001b[0m Param epsilon_start unique value length is less than 2.\u001b[0m\n",
      "\u001b[33m[W 2022-02-15 21:00:41,315]\u001b[0m Param epsilon_start unique value length is less than 2.\u001b[0m\n",
      "\u001b[33m[W 2022-02-15 21:00:41,355]\u001b[0m Param epsilon_start unique value length is less than 2.\u001b[0m\n",
      "\u001b[33m[W 2022-02-15 21:00:41,383]\u001b[0m Param epsilon_start unique value length is less than 2.\u001b[0m\n",
      "\u001b[33m[W 2022-02-15 21:00:41,526]\u001b[0m Param epsilon_start unique value length is less than 2.\u001b[0m\n",
      "\u001b[33m[W 2022-02-15 21:00:41,764]\u001b[0m Param nn_hidden_layers unique value length is less than 2.\u001b[0m\n",
      "\u001b[33m[W 2022-02-15 21:00:41,800]\u001b[0m Param normalize_state unique value length is less than 2.\u001b[0m\n",
      "\u001b[33m[W 2022-02-15 21:00:41,987]\u001b[0m Param epsilon_start unique value length is less than 2.\u001b[0m\n",
      "\u001b[33m[W 2022-02-15 21:00:42,210]\u001b[0m Param nn_hidden_layers unique value length is less than 2.\u001b[0m\n",
      "\u001b[33m[W 2022-02-15 21:00:42,247]\u001b[0m Param normalize_state unique value length is less than 2.\u001b[0m\n",
      "\u001b[33m[W 2022-02-15 21:00:42,468]\u001b[0m Param epsilon_start unique value length is less than 2.\u001b[0m\n",
      "\u001b[33m[W 2022-02-15 21:00:42,845]\u001b[0m Param nn_hidden_layers unique value length is less than 2.\u001b[0m\n",
      "\u001b[33m[W 2022-02-15 21:00:42,929]\u001b[0m Param normalize_state unique value length is less than 2.\u001b[0m\n",
      "\u001b[33m[W 2022-02-15 21:00:43,182]\u001b[0m Param epsilon_start unique value length is less than 2.\u001b[0m\n",
      "\u001b[33m[W 2022-02-15 21:00:43,878]\u001b[0m Param nn_hidden_layers unique value length is less than 2.\u001b[0m\n",
      "\u001b[33m[W 2022-02-15 21:00:43,978]\u001b[0m Param normalize_state unique value length is less than 2.\u001b[0m\n",
      "\u001b[33m[W 2022-02-15 21:00:44,470]\u001b[0m Param epsilon_start unique value length is less than 2.\u001b[0m\n",
      "\u001b[33m[W 2022-02-15 21:00:44,880]\u001b[0m Param nn_hidden_layers unique value length is less than 2.\u001b[0m\n",
      "\u001b[33m[W 2022-02-15 21:00:44,955]\u001b[0m Param normalize_state unique value length is less than 2.\u001b[0m\n",
      "\u001b[33m[W 2022-02-15 21:00:45,212]\u001b[0m Param epsilon_start unique value length is less than 2.\u001b[0m\n",
      "\u001b[33m[W 2022-02-15 21:00:45,488]\u001b[0m Param nn_hidden_layers unique value length is less than 2.\u001b[0m\n",
      "\u001b[33m[W 2022-02-15 21:00:45,530]\u001b[0m Param normalize_state unique value length is less than 2.\u001b[0m\n",
      "\u001b[33m[W 2022-02-15 21:00:45,786]\u001b[0m Param epsilon_start unique value length is less than 2.\u001b[0m\n",
      "\u001b[33m[W 2022-02-15 21:00:46,091]\u001b[0m Param nn_hidden_layers unique value length is less than 2.\u001b[0m\n",
      "\u001b[33m[W 2022-02-15 21:00:46,138]\u001b[0m Param normalize_state unique value length is less than 2.\u001b[0m\n",
      "\u001b[33m[W 2022-02-15 21:00:46,263]\u001b[0m Param nn_hidden_layers unique value length is less than 2.\u001b[0m\n",
      "\u001b[33m[W 2022-02-15 21:00:46,305]\u001b[0m Param nn_hidden_layers unique value length is less than 2.\u001b[0m\n",
      "\u001b[33m[W 2022-02-15 21:00:46,347]\u001b[0m Param nn_hidden_layers unique value length is less than 2.\u001b[0m\n",
      "\u001b[33m[W 2022-02-15 21:00:46,387]\u001b[0m Param nn_hidden_layers unique value length is less than 2.\u001b[0m\n",
      "\u001b[33m[W 2022-02-15 21:00:46,429]\u001b[0m Param nn_hidden_layers unique value length is less than 2.\u001b[0m\n",
      "\u001b[33m[W 2022-02-15 21:00:46,471]\u001b[0m Param nn_hidden_layers unique value length is less than 2.\u001b[0m\n",
      "\u001b[33m[W 2022-02-15 21:00:46,515]\u001b[0m Param nn_hidden_layers unique value length is less than 2.\u001b[0m\n",
      "\u001b[33m[W 2022-02-15 21:00:46,573]\u001b[0m Param nn_hidden_layers unique value length is less than 2.\u001b[0m\n",
      "\u001b[33m[W 2022-02-15 21:00:46,615]\u001b[0m Param nn_hidden_layers unique value length is less than 2.\u001b[0m\n",
      "\u001b[33m[W 2022-02-15 21:00:46,659]\u001b[0m Param nn_hidden_layers unique value length is less than 2.\u001b[0m\n",
      "\u001b[33m[W 2022-02-15 21:00:46,704]\u001b[0m Param nn_hidden_layers unique value length is less than 2.\u001b[0m\n",
      "\u001b[33m[W 2022-02-15 21:00:46,803]\u001b[0m Param nn_hidden_layers unique value length is less than 2.\u001b[0m\n",
      "\u001b[33m[W 2022-02-15 21:00:46,856]\u001b[0m Param nn_hidden_layers unique value length is less than 2.\u001b[0m\n",
      "\u001b[33m[W 2022-02-15 21:00:46,899]\u001b[0m Param nn_hidden_layers unique value length is less than 2.\u001b[0m\n",
      "\u001b[33m[W 2022-02-15 21:00:46,957]\u001b[0m Param normalize_state unique value length is less than 2.\u001b[0m\n",
      "\u001b[33m[W 2022-02-15 21:00:46,998]\u001b[0m Param normalize_state unique value length is less than 2.\u001b[0m\n",
      "\u001b[33m[W 2022-02-15 21:00:47,040]\u001b[0m Param normalize_state unique value length is less than 2.\u001b[0m\n",
      "\u001b[33m[W 2022-02-15 21:00:47,083]\u001b[0m Param normalize_state unique value length is less than 2.\u001b[0m\n",
      "\u001b[33m[W 2022-02-15 21:00:47,126]\u001b[0m Param normalize_state unique value length is less than 2.\u001b[0m\n",
      "\u001b[33m[W 2022-02-15 21:00:47,168]\u001b[0m Param normalize_state unique value length is less than 2.\u001b[0m\n",
      "\u001b[33m[W 2022-02-15 21:00:47,222]\u001b[0m Param normalize_state unique value length is less than 2.\u001b[0m\n",
      "\u001b[33m[W 2022-02-15 21:00:47,314]\u001b[0m Param normalize_state unique value length is less than 2.\u001b[0m\n",
      "\u001b[33m[W 2022-02-15 21:00:47,365]\u001b[0m Param normalize_state unique value length is less than 2.\u001b[0m\n",
      "\u001b[33m[W 2022-02-15 21:00:47,420]\u001b[0m Param normalize_state unique value length is less than 2.\u001b[0m\n",
      "\u001b[33m[W 2022-02-15 21:00:47,466]\u001b[0m Param normalize_state unique value length is less than 2.\u001b[0m\n",
      "\u001b[33m[W 2022-02-15 21:00:47,511]\u001b[0m Param normalize_state unique value length is less than 2.\u001b[0m\n",
      "\u001b[33m[W 2022-02-15 21:00:47,823]\u001b[0m Param normalize_state unique value length is less than 2.\u001b[0m\n",
      "\u001b[33m[W 2022-02-15 21:00:47,901]\u001b[0m Param normalize_state unique value length is less than 2.\u001b[0m\n",
      "\u001b[33m[W 2022-02-15 21:00:48,200]\u001b[0m Param epsilon_start unique value length is less than 2.\u001b[0m\n",
      "\u001b[33m[W 2022-02-15 21:00:49,166]\u001b[0m Param nn_hidden_layers unique value length is less than 2.\u001b[0m\n",
      "\u001b[33m[W 2022-02-15 21:00:49,261]\u001b[0m Param normalize_state unique value length is less than 2.\u001b[0m\n",
      "\u001b[33m[W 2022-02-15 21:00:50,080]\u001b[0m Param epsilon_start unique value length is less than 2.\u001b[0m\n",
      "\u001b[33m[W 2022-02-15 21:00:50,773]\u001b[0m Param nn_hidden_layers unique value length is less than 2.\u001b[0m\n",
      "\u001b[33m[W 2022-02-15 21:00:50,867]\u001b[0m Param normalize_state unique value length is less than 2.\u001b[0m\n"
     ]
    },
    {
     "name": "stdout",
     "output_type": "stream",
     "text": [
      "https://app.neptune.ai/plabartabajo/parametric-q-learning-cart-pole/e/PAR-58\n",
      "Remember to stop your run once you’ve finished logging your metadata (https://docs.neptune.ai/api-reference/run#.stop). It will be stopped automatically only when the notebook kernel/interactive console is terminated.\n",
      "67,586 parameters\n"
     ]
    },
    {
     "name": "stderr",
     "output_type": "stream",
     "text": [
      "100%|█████████████████████████████████████████████████████████████████████████| 500/500 [00:04<00:00, 108.41it/s]\n",
      "100%|████████████████████████████████████████████████████████████████████████| 1000/1000 [00:14<00:00, 69.54it/s]"
     ]
    },
    {
     "name": "stdout",
     "output_type": "stream",
     "text": [
      "Shutting down background jobs, please wait a moment...\n",
      "Done!\n"
     ]
    },
    {
     "name": "stderr",
     "output_type": "stream",
     "text": [
      "\n",
      "Waiting for the remaining 27 operations to synchronize with Neptune. Do not kill this process.\n"
     ]
    },
    {
     "name": "stdout",
     "output_type": "stream",
     "text": [
      "All 27 operations synced, thanks for waiting!\n"
     ]
    },
    {
     "name": "stderr",
     "output_type": "stream",
     "text": [
      "\u001b[32m[I 2022-02-15 21:01:13,961]\u001b[0m Trial 6 finished with value: 56.991 and parameters: {'learning_rate': 0.0004656735987056431, 'discount_factor': 0.9, 'batch_size': 32, 'memory_size': 50000, 'freq_steps_train': 128, 'freq_steps_update_target': 10, 'n_steps_warm_up_memory': 1000, 'n_gradient_steps': 4, 'nn_hidden_layers': '[256, 256]', 'max_grad_norm': 10, 'normalize_state': True, 'epsilon_start': 0.9, 'epsilon_end': 0.015289348982229911, 'steps_epsilon_decay': 100000, 'seed': 212224373}. Best is trial 1 with value: 175.159.\u001b[0m\n",
      "\u001b[33m[W 2022-02-15 21:01:24,087]\u001b[0m Param epsilon_start unique value length is less than 2.\u001b[0m\n",
      "\u001b[33m[W 2022-02-15 21:01:24,375]\u001b[0m Param nn_hidden_layers unique value length is less than 2.\u001b[0m\n",
      "\u001b[33m[W 2022-02-15 21:01:24,591]\u001b[0m Param epsilon_start unique value length is less than 2.\u001b[0m\n",
      "\u001b[33m[W 2022-02-15 21:01:24,778]\u001b[0m Param nn_hidden_layers unique value length is less than 2.\u001b[0m\n",
      "\u001b[33m[W 2022-02-15 21:01:24,957]\u001b[0m Param epsilon_start unique value length is less than 2.\u001b[0m\n",
      "\u001b[33m[W 2022-02-15 21:01:25,152]\u001b[0m Param nn_hidden_layers unique value length is less than 2.\u001b[0m\n",
      "\u001b[33m[W 2022-02-15 21:01:25,267]\u001b[0m Param epsilon_start unique value length is less than 2.\u001b[0m\n",
      "\u001b[33m[W 2022-02-15 21:01:25,290]\u001b[0m Param epsilon_start unique value length is less than 2.\u001b[0m\n",
      "\u001b[33m[W 2022-02-15 21:01:25,319]\u001b[0m Param epsilon_start unique value length is less than 2.\u001b[0m\n",
      "\u001b[33m[W 2022-02-15 21:01:25,379]\u001b[0m Param epsilon_start unique value length is less than 2.\u001b[0m\n",
      "\u001b[33m[W 2022-02-15 21:01:25,411]\u001b[0m Param epsilon_start unique value length is less than 2.\u001b[0m\n",
      "\u001b[33m[W 2022-02-15 21:01:25,434]\u001b[0m Param epsilon_start unique value length is less than 2.\u001b[0m\n",
      "\u001b[33m[W 2022-02-15 21:01:25,469]\u001b[0m Param epsilon_start unique value length is less than 2.\u001b[0m\n",
      "\u001b[33m[W 2022-02-15 21:01:25,496]\u001b[0m Param epsilon_start unique value length is less than 2.\u001b[0m\n",
      "\u001b[33m[W 2022-02-15 21:01:25,520]\u001b[0m Param epsilon_start unique value length is less than 2.\u001b[0m\n",
      "\u001b[33m[W 2022-02-15 21:01:25,544]\u001b[0m Param epsilon_start unique value length is less than 2.\u001b[0m\n",
      "\u001b[33m[W 2022-02-15 21:01:25,572]\u001b[0m Param epsilon_start unique value length is less than 2.\u001b[0m\n",
      "\u001b[33m[W 2022-02-15 21:01:25,609]\u001b[0m Param epsilon_start unique value length is less than 2.\u001b[0m\n",
      "\u001b[33m[W 2022-02-15 21:01:25,642]\u001b[0m Param epsilon_start unique value length is less than 2.\u001b[0m\n",
      "\u001b[33m[W 2022-02-15 21:01:25,665]\u001b[0m Param epsilon_start unique value length is less than 2.\u001b[0m\n",
      "\u001b[33m[W 2022-02-15 21:01:25,872]\u001b[0m Param epsilon_start unique value length is less than 2.\u001b[0m\n",
      "\u001b[33m[W 2022-02-15 21:01:26,069]\u001b[0m Param nn_hidden_layers unique value length is less than 2.\u001b[0m\n",
      "\u001b[33m[W 2022-02-15 21:01:26,261]\u001b[0m Param epsilon_start unique value length is less than 2.\u001b[0m\n",
      "\u001b[33m[W 2022-02-15 21:01:26,457]\u001b[0m Param nn_hidden_layers unique value length is less than 2.\u001b[0m\n",
      "\u001b[33m[W 2022-02-15 21:01:26,669]\u001b[0m Param epsilon_start unique value length is less than 2.\u001b[0m\n",
      "\u001b[33m[W 2022-02-15 21:01:26,927]\u001b[0m Param nn_hidden_layers unique value length is less than 2.\u001b[0m\n",
      "\u001b[33m[W 2022-02-15 21:01:27,147]\u001b[0m Param epsilon_start unique value length is less than 2.\u001b[0m\n",
      "\u001b[33m[W 2022-02-15 21:01:27,328]\u001b[0m Param nn_hidden_layers unique value length is less than 2.\u001b[0m\n",
      "\u001b[33m[W 2022-02-15 21:01:27,512]\u001b[0m Param epsilon_start unique value length is less than 2.\u001b[0m\n",
      "\u001b[33m[W 2022-02-15 21:01:27,697]\u001b[0m Param nn_hidden_layers unique value length is less than 2.\u001b[0m\n",
      "\u001b[33m[W 2022-02-15 21:01:27,879]\u001b[0m Param epsilon_start unique value length is less than 2.\u001b[0m\n",
      "\u001b[33m[W 2022-02-15 21:01:28,064]\u001b[0m Param nn_hidden_layers unique value length is less than 2.\u001b[0m\n",
      "\u001b[33m[W 2022-02-15 21:01:28,247]\u001b[0m Param epsilon_start unique value length is less than 2.\u001b[0m\n",
      "\u001b[33m[W 2022-02-15 21:01:28,426]\u001b[0m Param nn_hidden_layers unique value length is less than 2.\u001b[0m\n",
      "\u001b[33m[W 2022-02-15 21:01:28,548]\u001b[0m Param nn_hidden_layers unique value length is less than 2.\u001b[0m\n",
      "\u001b[33m[W 2022-02-15 21:01:28,577]\u001b[0m Param nn_hidden_layers unique value length is less than 2.\u001b[0m\n",
      "\u001b[33m[W 2022-02-15 21:01:28,607]\u001b[0m Param nn_hidden_layers unique value length is less than 2.\u001b[0m\n",
      "\u001b[33m[W 2022-02-15 21:01:28,638]\u001b[0m Param nn_hidden_layers unique value length is less than 2.\u001b[0m\n",
      "\u001b[33m[W 2022-02-15 21:01:28,671]\u001b[0m Param nn_hidden_layers unique value length is less than 2.\u001b[0m\n",
      "\u001b[33m[W 2022-02-15 21:01:28,704]\u001b[0m Param nn_hidden_layers unique value length is less than 2.\u001b[0m\n",
      "\u001b[33m[W 2022-02-15 21:01:28,734]\u001b[0m Param nn_hidden_layers unique value length is less than 2.\u001b[0m\n",
      "\u001b[33m[W 2022-02-15 21:01:28,774]\u001b[0m Param nn_hidden_layers unique value length is less than 2.\u001b[0m\n",
      "\u001b[33m[W 2022-02-15 21:01:28,804]\u001b[0m Param nn_hidden_layers unique value length is less than 2.\u001b[0m\n",
      "\u001b[33m[W 2022-02-15 21:01:28,834]\u001b[0m Param nn_hidden_layers unique value length is less than 2.\u001b[0m\n",
      "\u001b[33m[W 2022-02-15 21:01:28,865]\u001b[0m Param nn_hidden_layers unique value length is less than 2.\u001b[0m\n",
      "\u001b[33m[W 2022-02-15 21:01:28,937]\u001b[0m Param nn_hidden_layers unique value length is less than 2.\u001b[0m\n",
      "\u001b[33m[W 2022-02-15 21:01:28,979]\u001b[0m Param nn_hidden_layers unique value length is less than 2.\u001b[0m\n",
      "\u001b[33m[W 2022-02-15 21:01:29,008]\u001b[0m Param nn_hidden_layers unique value length is less than 2.\u001b[0m\n",
      "\u001b[33m[W 2022-02-15 21:01:29,164]\u001b[0m Param epsilon_start unique value length is less than 2.\u001b[0m\n",
      "\u001b[33m[W 2022-02-15 21:01:29,420]\u001b[0m Param nn_hidden_layers unique value length is less than 2.\u001b[0m\n",
      "\u001b[33m[W 2022-02-15 21:01:29,688]\u001b[0m Param epsilon_start unique value length is less than 2.\u001b[0m\n",
      "\u001b[33m[W 2022-02-15 21:01:29,911]\u001b[0m Param nn_hidden_layers unique value length is less than 2.\u001b[0m\n",
      "\u001b[33m[W 2022-02-15 21:01:30,098]\u001b[0m Param epsilon_start unique value length is less than 2.\u001b[0m\n",
      "\u001b[33m[W 2022-02-15 21:01:30,289]\u001b[0m Param nn_hidden_layers unique value length is less than 2.\u001b[0m\n"
     ]
    },
    {
     "name": "stdout",
     "output_type": "stream",
     "text": [
      "https://app.neptune.ai/plabartabajo/parametric-q-learning-cart-pole/e/PAR-59\n",
      "Remember to stop your run once you’ve finished logging your metadata (https://docs.neptune.ai/api-reference/run#.stop). It will be stopped automatically only when the notebook kernel/interactive console is terminated.\n",
      "67,586 parameters\n"
     ]
    },
    {
     "name": "stderr",
     "output_type": "stream",
     "text": [
      "100%|██████████████████████████████████████████████████████████████████████████| 500/500 [00:57<00:00,  8.68it/s]\n",
      "100%|███████████████████████████████████████████████████████████████████████| 1000/1000 [00:07<00:00, 140.36it/s]"
     ]
    },
    {
     "name": "stdout",
     "output_type": "stream",
     "text": [
      "Shutting down background jobs, please wait a moment...\n",
      "Done!\n"
     ]
    },
    {
     "name": "stderr",
     "output_type": "stream",
     "text": [
      "\n",
      "Waiting for the remaining 12 operations to synchronize with Neptune. Do not kill this process.\n"
     ]
    },
    {
     "name": "stdout",
     "output_type": "stream",
     "text": [
      "All 12 operations synced, thanks for waiting!\n"
     ]
    },
    {
     "name": "stderr",
     "output_type": "stream",
     "text": [
      "\u001b[32m[I 2022-02-15 21:02:38,038]\u001b[0m Trial 7 finished with value: 38.895 and parameters: {'learning_rate': 0.031160106489165222, 'discount_factor': 0.95, 'batch_size': 64, 'memory_size': 10000, 'freq_steps_train': 16, 'freq_steps_update_target': 1000, 'n_steps_warm_up_memory': 1000, 'n_gradient_steps': 16, 'nn_hidden_layers': '[256, 256]', 'max_grad_norm': 10, 'normalize_state': False, 'epsilon_start': 0.9, 'epsilon_end': 0.07101065061827137, 'steps_epsilon_decay': 100000, 'seed': 771270857}. Best is trial 1 with value: 175.159.\u001b[0m\n",
      "\u001b[33m[W 2022-02-15 21:02:46,701]\u001b[0m Param epsilon_start unique value length is less than 2.\u001b[0m\n",
      "\u001b[33m[W 2022-02-15 21:02:47,026]\u001b[0m Param nn_hidden_layers unique value length is less than 2.\u001b[0m\n",
      "\u001b[33m[W 2022-02-15 21:02:47,264]\u001b[0m Param epsilon_start unique value length is less than 2.\u001b[0m\n",
      "\u001b[33m[W 2022-02-15 21:02:47,476]\u001b[0m Param nn_hidden_layers unique value length is less than 2.\u001b[0m\n",
      "\u001b[33m[W 2022-02-15 21:02:47,670]\u001b[0m Param epsilon_start unique value length is less than 2.\u001b[0m\n",
      "\u001b[33m[W 2022-02-15 21:02:47,903]\u001b[0m Param nn_hidden_layers unique value length is less than 2.\u001b[0m\n",
      "\u001b[33m[W 2022-02-15 21:02:48,030]\u001b[0m Param epsilon_start unique value length is less than 2.\u001b[0m\n",
      "\u001b[33m[W 2022-02-15 21:02:48,052]\u001b[0m Param epsilon_start unique value length is less than 2.\u001b[0m\n",
      "\u001b[33m[W 2022-02-15 21:02:48,074]\u001b[0m Param epsilon_start unique value length is less than 2.\u001b[0m\n",
      "\u001b[33m[W 2022-02-15 21:02:48,117]\u001b[0m Param epsilon_start unique value length is less than 2.\u001b[0m\n",
      "\u001b[33m[W 2022-02-15 21:02:48,141]\u001b[0m Param epsilon_start unique value length is less than 2.\u001b[0m\n",
      "\u001b[33m[W 2022-02-15 21:02:48,163]\u001b[0m Param epsilon_start unique value length is less than 2.\u001b[0m\n",
      "\u001b[33m[W 2022-02-15 21:02:48,195]\u001b[0m Param epsilon_start unique value length is less than 2.\u001b[0m\n",
      "\u001b[33m[W 2022-02-15 21:02:48,218]\u001b[0m Param epsilon_start unique value length is less than 2.\u001b[0m\n",
      "\u001b[33m[W 2022-02-15 21:02:48,240]\u001b[0m Param epsilon_start unique value length is less than 2.\u001b[0m\n",
      "\u001b[33m[W 2022-02-15 21:02:48,262]\u001b[0m Param epsilon_start unique value length is less than 2.\u001b[0m\n",
      "\u001b[33m[W 2022-02-15 21:02:48,285]\u001b[0m Param epsilon_start unique value length is less than 2.\u001b[0m\n",
      "\u001b[33m[W 2022-02-15 21:02:48,317]\u001b[0m Param epsilon_start unique value length is less than 2.\u001b[0m\n",
      "\u001b[33m[W 2022-02-15 21:02:48,350]\u001b[0m Param epsilon_start unique value length is less than 2.\u001b[0m\n",
      "\u001b[33m[W 2022-02-15 21:02:48,374]\u001b[0m Param epsilon_start unique value length is less than 2.\u001b[0m\n",
      "\u001b[33m[W 2022-02-15 21:02:48,492]\u001b[0m Param epsilon_start unique value length is less than 2.\u001b[0m\n",
      "\u001b[33m[W 2022-02-15 21:02:48,720]\u001b[0m Param nn_hidden_layers unique value length is less than 2.\u001b[0m\n",
      "\u001b[33m[W 2022-02-15 21:02:48,919]\u001b[0m Param epsilon_start unique value length is less than 2.\u001b[0m\n",
      "\u001b[33m[W 2022-02-15 21:02:49,119]\u001b[0m Param nn_hidden_layers unique value length is less than 2.\u001b[0m\n",
      "\u001b[33m[W 2022-02-15 21:02:49,348]\u001b[0m Param epsilon_start unique value length is less than 2.\u001b[0m\n",
      "\u001b[33m[W 2022-02-15 21:02:49,628]\u001b[0m Param nn_hidden_layers unique value length is less than 2.\u001b[0m\n",
      "\u001b[33m[W 2022-02-15 21:02:49,882]\u001b[0m Param epsilon_start unique value length is less than 2.\u001b[0m\n",
      "\u001b[33m[W 2022-02-15 21:02:50,078]\u001b[0m Param nn_hidden_layers unique value length is less than 2.\u001b[0m\n",
      "\u001b[33m[W 2022-02-15 21:02:50,279]\u001b[0m Param epsilon_start unique value length is less than 2.\u001b[0m\n",
      "\u001b[33m[W 2022-02-15 21:02:50,469]\u001b[0m Param nn_hidden_layers unique value length is less than 2.\u001b[0m\n",
      "\u001b[33m[W 2022-02-15 21:02:50,659]\u001b[0m Param epsilon_start unique value length is less than 2.\u001b[0m\n",
      "\u001b[33m[W 2022-02-15 21:02:50,849]\u001b[0m Param nn_hidden_layers unique value length is less than 2.\u001b[0m\n",
      "\u001b[33m[W 2022-02-15 21:02:51,045]\u001b[0m Param epsilon_start unique value length is less than 2.\u001b[0m\n",
      "\u001b[33m[W 2022-02-15 21:02:51,234]\u001b[0m Param nn_hidden_layers unique value length is less than 2.\u001b[0m\n",
      "\u001b[33m[W 2022-02-15 21:02:51,351]\u001b[0m Param nn_hidden_layers unique value length is less than 2.\u001b[0m\n",
      "\u001b[33m[W 2022-02-15 21:02:51,381]\u001b[0m Param nn_hidden_layers unique value length is less than 2.\u001b[0m\n",
      "\u001b[33m[W 2022-02-15 21:02:51,412]\u001b[0m Param nn_hidden_layers unique value length is less than 2.\u001b[0m\n",
      "\u001b[33m[W 2022-02-15 21:02:51,444]\u001b[0m Param nn_hidden_layers unique value length is less than 2.\u001b[0m\n",
      "\u001b[33m[W 2022-02-15 21:02:51,474]\u001b[0m Param nn_hidden_layers unique value length is less than 2.\u001b[0m\n",
      "\u001b[33m[W 2022-02-15 21:02:51,503]\u001b[0m Param nn_hidden_layers unique value length is less than 2.\u001b[0m\n",
      "\u001b[33m[W 2022-02-15 21:02:51,534]\u001b[0m Param nn_hidden_layers unique value length is less than 2.\u001b[0m\n",
      "\u001b[33m[W 2022-02-15 21:02:51,573]\u001b[0m Param nn_hidden_layers unique value length is less than 2.\u001b[0m\n",
      "\u001b[33m[W 2022-02-15 21:02:51,605]\u001b[0m Param nn_hidden_layers unique value length is less than 2.\u001b[0m\n",
      "\u001b[33m[W 2022-02-15 21:02:51,635]\u001b[0m Param nn_hidden_layers unique value length is less than 2.\u001b[0m\n",
      "\u001b[33m[W 2022-02-15 21:02:51,665]\u001b[0m Param nn_hidden_layers unique value length is less than 2.\u001b[0m\n",
      "\u001b[33m[W 2022-02-15 21:02:51,729]\u001b[0m Param nn_hidden_layers unique value length is less than 2.\u001b[0m\n",
      "\u001b[33m[W 2022-02-15 21:02:51,766]\u001b[0m Param nn_hidden_layers unique value length is less than 2.\u001b[0m\n",
      "\u001b[33m[W 2022-02-15 21:02:51,793]\u001b[0m Param nn_hidden_layers unique value length is less than 2.\u001b[0m\n",
      "\u001b[33m[W 2022-02-15 21:02:51,922]\u001b[0m Param epsilon_start unique value length is less than 2.\u001b[0m\n",
      "\u001b[33m[W 2022-02-15 21:02:52,171]\u001b[0m Param nn_hidden_layers unique value length is less than 2.\u001b[0m\n",
      "\u001b[33m[W 2022-02-15 21:02:52,377]\u001b[0m Param epsilon_start unique value length is less than 2.\u001b[0m\n",
      "\u001b[33m[W 2022-02-15 21:02:52,561]\u001b[0m Param nn_hidden_layers unique value length is less than 2.\u001b[0m\n",
      "\u001b[33m[W 2022-02-15 21:02:52,735]\u001b[0m Param epsilon_start unique value length is less than 2.\u001b[0m\n",
      "\u001b[33m[W 2022-02-15 21:02:52,926]\u001b[0m Param nn_hidden_layers unique value length is less than 2.\u001b[0m\n"
     ]
    },
    {
     "name": "stdout",
     "output_type": "stream",
     "text": [
      "https://app.neptune.ai/plabartabajo/parametric-q-learning-cart-pole/e/PAR-60\n",
      "Remember to stop your run once you’ve finished logging your metadata (https://docs.neptune.ai/api-reference/run#.stop). It will be stopped automatically only when the notebook kernel/interactive console is terminated.\n",
      "67,586 parameters\n"
     ]
    },
    {
     "name": "stderr",
     "output_type": "stream",
     "text": [
      "100%|█████████████████████████████████████████████████████████████████████████| 500/500 [00:01<00:00, 258.60it/s]\n",
      "100%|███████████████████████████████████████████████████████████████████████| 1000/1000 [00:01<00:00, 584.69it/s]"
     ]
    },
    {
     "name": "stdout",
     "output_type": "stream",
     "text": [
      "Shutting down background jobs, please wait a moment...\n",
      "Done!\n"
     ]
    },
    {
     "name": "stderr",
     "output_type": "stream",
     "text": [
      "\n",
      "Waiting for the remaining 57 operations to synchronize with Neptune. Do not kill this process.\n"
     ]
    },
    {
     "name": "stdout",
     "output_type": "stream",
     "text": [
      "All 57 operations synced, thanks for waiting!\n"
     ]
    },
    {
     "name": "stderr",
     "output_type": "stream",
     "text": [
      "\u001b[32m[I 2022-02-15 21:02:59,668]\u001b[0m Trial 8 finished with value: 9.364 and parameters: {'learning_rate': 0.19417054828896854, 'discount_factor': 0.95, 'batch_size': 128, 'memory_size': 10000, 'freq_steps_train': 128, 'freq_steps_update_target': 1000, 'n_steps_warm_up_memory': 1000, 'n_gradient_steps': 1, 'nn_hidden_layers': '[256, 256]', 'max_grad_norm': 1, 'normalize_state': False, 'epsilon_start': 0.9, 'epsilon_end': 0.02711708933747228, 'steps_epsilon_decay': 1000, 'seed': 502616681}. Best is trial 1 with value: 175.159.\u001b[0m\n",
      "\u001b[33m[W 2022-02-15 21:03:08,679]\u001b[0m Param epsilon_start unique value length is less than 2.\u001b[0m\n",
      "\u001b[33m[W 2022-02-15 21:03:08,940]\u001b[0m Param nn_hidden_layers unique value length is less than 2.\u001b[0m\n",
      "\u001b[33m[W 2022-02-15 21:03:09,152]\u001b[0m Param epsilon_start unique value length is less than 2.\u001b[0m\n",
      "\u001b[33m[W 2022-02-15 21:03:09,350]\u001b[0m Param nn_hidden_layers unique value length is less than 2.\u001b[0m\n",
      "\u001b[33m[W 2022-02-15 21:03:09,533]\u001b[0m Param epsilon_start unique value length is less than 2.\u001b[0m\n",
      "\u001b[33m[W 2022-02-15 21:03:09,725]\u001b[0m Param nn_hidden_layers unique value length is less than 2.\u001b[0m\n",
      "\u001b[33m[W 2022-02-15 21:03:09,844]\u001b[0m Param epsilon_start unique value length is less than 2.\u001b[0m\n",
      "\u001b[33m[W 2022-02-15 21:03:09,869]\u001b[0m Param epsilon_start unique value length is less than 2.\u001b[0m\n",
      "\u001b[33m[W 2022-02-15 21:03:09,901]\u001b[0m Param epsilon_start unique value length is less than 2.\u001b[0m\n",
      "\u001b[33m[W 2022-02-15 21:03:09,949]\u001b[0m Param epsilon_start unique value length is less than 2.\u001b[0m\n",
      "\u001b[33m[W 2022-02-15 21:03:09,970]\u001b[0m Param epsilon_start unique value length is less than 2.\u001b[0m\n",
      "\u001b[33m[W 2022-02-15 21:03:10,000]\u001b[0m Param epsilon_start unique value length is less than 2.\u001b[0m\n",
      "\u001b[33m[W 2022-02-15 21:03:10,029]\u001b[0m Param epsilon_start unique value length is less than 2.\u001b[0m\n",
      "\u001b[33m[W 2022-02-15 21:03:10,048]\u001b[0m Param epsilon_start unique value length is less than 2.\u001b[0m\n",
      "\u001b[33m[W 2022-02-15 21:03:10,069]\u001b[0m Param epsilon_start unique value length is less than 2.\u001b[0m\n",
      "\u001b[33m[W 2022-02-15 21:03:10,090]\u001b[0m Param epsilon_start unique value length is less than 2.\u001b[0m\n",
      "\u001b[33m[W 2022-02-15 21:03:10,111]\u001b[0m Param epsilon_start unique value length is less than 2.\u001b[0m\n",
      "\u001b[33m[W 2022-02-15 21:03:10,165]\u001b[0m Param epsilon_start unique value length is less than 2.\u001b[0m\n",
      "\u001b[33m[W 2022-02-15 21:03:10,199]\u001b[0m Param epsilon_start unique value length is less than 2.\u001b[0m\n",
      "\u001b[33m[W 2022-02-15 21:03:10,240]\u001b[0m Param epsilon_start unique value length is less than 2.\u001b[0m\n",
      "\u001b[33m[W 2022-02-15 21:03:10,343]\u001b[0m Param epsilon_start unique value length is less than 2.\u001b[0m\n",
      "\u001b[33m[W 2022-02-15 21:03:10,536]\u001b[0m Param nn_hidden_layers unique value length is less than 2.\u001b[0m\n",
      "\u001b[33m[W 2022-02-15 21:03:10,726]\u001b[0m Param epsilon_start unique value length is less than 2.\u001b[0m\n",
      "\u001b[33m[W 2022-02-15 21:03:10,924]\u001b[0m Param nn_hidden_layers unique value length is less than 2.\u001b[0m\n",
      "\u001b[33m[W 2022-02-15 21:03:11,260]\u001b[0m Param epsilon_start unique value length is less than 2.\u001b[0m\n",
      "\u001b[33m[W 2022-02-15 21:03:11,581]\u001b[0m Param nn_hidden_layers unique value length is less than 2.\u001b[0m\n",
      "\u001b[33m[W 2022-02-15 21:03:11,912]\u001b[0m Param epsilon_start unique value length is less than 2.\u001b[0m\n",
      "\u001b[33m[W 2022-02-15 21:03:12,292]\u001b[0m Param nn_hidden_layers unique value length is less than 2.\u001b[0m\n",
      "\u001b[33m[W 2022-02-15 21:03:12,512]\u001b[0m Param epsilon_start unique value length is less than 2.\u001b[0m\n",
      "\u001b[33m[W 2022-02-15 21:03:12,708]\u001b[0m Param nn_hidden_layers unique value length is less than 2.\u001b[0m\n",
      "\u001b[33m[W 2022-02-15 21:03:12,908]\u001b[0m Param epsilon_start unique value length is less than 2.\u001b[0m\n",
      "\u001b[33m[W 2022-02-15 21:03:13,107]\u001b[0m Param nn_hidden_layers unique value length is less than 2.\u001b[0m\n",
      "\u001b[33m[W 2022-02-15 21:03:13,303]\u001b[0m Param epsilon_start unique value length is less than 2.\u001b[0m\n",
      "\u001b[33m[W 2022-02-15 21:03:13,501]\u001b[0m Param nn_hidden_layers unique value length is less than 2.\u001b[0m\n",
      "\u001b[33m[W 2022-02-15 21:03:13,625]\u001b[0m Param nn_hidden_layers unique value length is less than 2.\u001b[0m\n",
      "\u001b[33m[W 2022-02-15 21:03:13,656]\u001b[0m Param nn_hidden_layers unique value length is less than 2.\u001b[0m\n",
      "\u001b[33m[W 2022-02-15 21:03:13,688]\u001b[0m Param nn_hidden_layers unique value length is less than 2.\u001b[0m\n",
      "\u001b[33m[W 2022-02-15 21:03:13,719]\u001b[0m Param nn_hidden_layers unique value length is less than 2.\u001b[0m\n",
      "\u001b[33m[W 2022-02-15 21:03:13,753]\u001b[0m Param nn_hidden_layers unique value length is less than 2.\u001b[0m\n",
      "\u001b[33m[W 2022-02-15 21:03:13,785]\u001b[0m Param nn_hidden_layers unique value length is less than 2.\u001b[0m\n",
      "\u001b[33m[W 2022-02-15 21:03:13,816]\u001b[0m Param nn_hidden_layers unique value length is less than 2.\u001b[0m\n",
      "\u001b[33m[W 2022-02-15 21:03:13,858]\u001b[0m Param nn_hidden_layers unique value length is less than 2.\u001b[0m\n",
      "\u001b[33m[W 2022-02-15 21:03:13,891]\u001b[0m Param nn_hidden_layers unique value length is less than 2.\u001b[0m\n",
      "\u001b[33m[W 2022-02-15 21:03:13,921]\u001b[0m Param nn_hidden_layers unique value length is less than 2.\u001b[0m\n",
      "\u001b[33m[W 2022-02-15 21:03:13,954]\u001b[0m Param nn_hidden_layers unique value length is less than 2.\u001b[0m\n",
      "\u001b[33m[W 2022-02-15 21:03:14,022]\u001b[0m Param nn_hidden_layers unique value length is less than 2.\u001b[0m\n",
      "\u001b[33m[W 2022-02-15 21:03:14,062]\u001b[0m Param nn_hidden_layers unique value length is less than 2.\u001b[0m\n",
      "\u001b[33m[W 2022-02-15 21:03:14,094]\u001b[0m Param nn_hidden_layers unique value length is less than 2.\u001b[0m\n",
      "\u001b[33m[W 2022-02-15 21:03:14,239]\u001b[0m Param epsilon_start unique value length is less than 2.\u001b[0m\n",
      "\u001b[33m[W 2022-02-15 21:03:14,509]\u001b[0m Param nn_hidden_layers unique value length is less than 2.\u001b[0m\n",
      "\u001b[33m[W 2022-02-15 21:03:14,738]\u001b[0m Param epsilon_start unique value length is less than 2.\u001b[0m\n",
      "\u001b[33m[W 2022-02-15 21:03:14,943]\u001b[0m Param nn_hidden_layers unique value length is less than 2.\u001b[0m\n",
      "\u001b[33m[W 2022-02-15 21:03:15,142]\u001b[0m Param epsilon_start unique value length is less than 2.\u001b[0m\n",
      "\u001b[33m[W 2022-02-15 21:03:15,365]\u001b[0m Param nn_hidden_layers unique value length is less than 2.\u001b[0m\n"
     ]
    },
    {
     "name": "stdout",
     "output_type": "stream",
     "text": [
      "https://app.neptune.ai/plabartabajo/parametric-q-learning-cart-pole/e/PAR-61\n",
      "Remember to stop your run once you’ve finished logging your metadata (https://docs.neptune.ai/api-reference/run#.stop). It will be stopped automatically only when the notebook kernel/interactive console is terminated.\n",
      "67,586 parameters\n"
     ]
    },
    {
     "name": "stderr",
     "output_type": "stream",
     "text": [
      "100%|█████████████████████████████████████████████████████████████████████████| 500/500 [00:01<00:00, 369.79it/s]\n",
      "100%|███████████████████████████████████████████████████████████████████████| 1000/1000 [00:01<00:00, 562.44it/s]"
     ]
    },
    {
     "name": "stdout",
     "output_type": "stream",
     "text": [
      "Shutting down background jobs, please wait a moment...\n",
      "Done!\n"
     ]
    },
    {
     "name": "stderr",
     "output_type": "stream",
     "text": [
      "\n",
      "Waiting for the remaining 29 operations to synchronize with Neptune. Do not kill this process.\n"
     ]
    },
    {
     "name": "stdout",
     "output_type": "stream",
     "text": [
      "All 29 operations synced, thanks for waiting!\n"
     ]
    },
    {
     "name": "stderr",
     "output_type": "stream",
     "text": [
      "\u001b[32m[I 2022-02-15 21:03:21,329]\u001b[0m Trial 9 finished with value: 9.315 and parameters: {'learning_rate': 0.00010831908767331051, 'discount_factor': 0.95, 'batch_size': 16, 'memory_size': 50000, 'freq_steps_train': 256, 'freq_steps_update_target': 1000, 'n_steps_warm_up_memory': 5000, 'n_gradient_steps': 4, 'nn_hidden_layers': '[256, 256]', 'max_grad_norm': 10, 'normalize_state': False, 'epsilon_start': 0.9, 'epsilon_end': 0.013545099644999682, 'steps_epsilon_decay': 100000, 'seed': 164783419}. Best is trial 1 with value: 175.159.\u001b[0m\n",
      "\u001b[33m[W 2022-02-15 21:03:32,273]\u001b[0m Param epsilon_start unique value length is less than 2.\u001b[0m\n",
      "\u001b[33m[W 2022-02-15 21:03:32,624]\u001b[0m Param nn_hidden_layers unique value length is less than 2.\u001b[0m\n",
      "\u001b[33m[W 2022-02-15 21:03:32,961]\u001b[0m Param epsilon_start unique value length is less than 2.\u001b[0m\n",
      "\u001b[33m[W 2022-02-15 21:03:33,246]\u001b[0m Param nn_hidden_layers unique value length is less than 2.\u001b[0m\n",
      "\u001b[33m[W 2022-02-15 21:03:33,696]\u001b[0m Param epsilon_start unique value length is less than 2.\u001b[0m\n",
      "\u001b[33m[W 2022-02-15 21:03:33,970]\u001b[0m Param nn_hidden_layers unique value length is less than 2.\u001b[0m\n",
      "\u001b[33m[W 2022-02-15 21:03:34,125]\u001b[0m Param epsilon_start unique value length is less than 2.\u001b[0m\n",
      "\u001b[33m[W 2022-02-15 21:03:34,152]\u001b[0m Param epsilon_start unique value length is less than 2.\u001b[0m\n",
      "\u001b[33m[W 2022-02-15 21:03:34,178]\u001b[0m Param epsilon_start unique value length is less than 2.\u001b[0m\n",
      "\u001b[33m[W 2022-02-15 21:03:34,231]\u001b[0m Param epsilon_start unique value length is less than 2.\u001b[0m\n",
      "\u001b[33m[W 2022-02-15 21:03:34,257]\u001b[0m Param epsilon_start unique value length is less than 2.\u001b[0m\n",
      "\u001b[33m[W 2022-02-15 21:03:34,283]\u001b[0m Param epsilon_start unique value length is less than 2.\u001b[0m\n",
      "\u001b[33m[W 2022-02-15 21:03:34,321]\u001b[0m Param epsilon_start unique value length is less than 2.\u001b[0m\n",
      "\u001b[33m[W 2022-02-15 21:03:34,347]\u001b[0m Param epsilon_start unique value length is less than 2.\u001b[0m\n",
      "\u001b[33m[W 2022-02-15 21:03:34,377]\u001b[0m Param epsilon_start unique value length is less than 2.\u001b[0m\n",
      "\u001b[33m[W 2022-02-15 21:03:34,403]\u001b[0m Param epsilon_start unique value length is less than 2.\u001b[0m\n",
      "\u001b[33m[W 2022-02-15 21:03:34,428]\u001b[0m Param epsilon_start unique value length is less than 2.\u001b[0m\n",
      "\u001b[33m[W 2022-02-15 21:03:34,467]\u001b[0m Param epsilon_start unique value length is less than 2.\u001b[0m\n",
      "\u001b[33m[W 2022-02-15 21:03:34,504]\u001b[0m Param epsilon_start unique value length is less than 2.\u001b[0m\n",
      "\u001b[33m[W 2022-02-15 21:03:34,529]\u001b[0m Param epsilon_start unique value length is less than 2.\u001b[0m\n",
      "\u001b[33m[W 2022-02-15 21:03:34,712]\u001b[0m Param epsilon_start unique value length is less than 2.\u001b[0m\n",
      "\u001b[33m[W 2022-02-15 21:03:34,948]\u001b[0m Param nn_hidden_layers unique value length is less than 2.\u001b[0m\n",
      "\u001b[33m[W 2022-02-15 21:03:35,183]\u001b[0m Param epsilon_start unique value length is less than 2.\u001b[0m\n",
      "\u001b[33m[W 2022-02-15 21:03:35,431]\u001b[0m Param nn_hidden_layers unique value length is less than 2.\u001b[0m\n",
      "\u001b[33m[W 2022-02-15 21:03:35,702]\u001b[0m Param epsilon_start unique value length is less than 2.\u001b[0m\n",
      "\u001b[33m[W 2022-02-15 21:03:36,025]\u001b[0m Param nn_hidden_layers unique value length is less than 2.\u001b[0m\n",
      "\u001b[33m[W 2022-02-15 21:03:36,294]\u001b[0m Param epsilon_start unique value length is less than 2.\u001b[0m\n",
      "\u001b[33m[W 2022-02-15 21:03:36,522]\u001b[0m Param nn_hidden_layers unique value length is less than 2.\u001b[0m\n",
      "\u001b[33m[W 2022-02-15 21:03:36,747]\u001b[0m Param epsilon_start unique value length is less than 2.\u001b[0m\n",
      "\u001b[33m[W 2022-02-15 21:03:36,968]\u001b[0m Param nn_hidden_layers unique value length is less than 2.\u001b[0m\n",
      "\u001b[33m[W 2022-02-15 21:03:37,184]\u001b[0m Param epsilon_start unique value length is less than 2.\u001b[0m\n",
      "\u001b[33m[W 2022-02-15 21:03:37,396]\u001b[0m Param nn_hidden_layers unique value length is less than 2.\u001b[0m\n",
      "\u001b[33m[W 2022-02-15 21:03:37,614]\u001b[0m Param epsilon_start unique value length is less than 2.\u001b[0m\n",
      "\u001b[33m[W 2022-02-15 21:03:37,831]\u001b[0m Param nn_hidden_layers unique value length is less than 2.\u001b[0m\n",
      "\u001b[33m[W 2022-02-15 21:03:37,964]\u001b[0m Param nn_hidden_layers unique value length is less than 2.\u001b[0m\n",
      "\u001b[33m[W 2022-02-15 21:03:37,997]\u001b[0m Param nn_hidden_layers unique value length is less than 2.\u001b[0m\n",
      "\u001b[33m[W 2022-02-15 21:03:38,032]\u001b[0m Param nn_hidden_layers unique value length is less than 2.\u001b[0m\n",
      "\u001b[33m[W 2022-02-15 21:03:38,064]\u001b[0m Param nn_hidden_layers unique value length is less than 2.\u001b[0m\n",
      "\u001b[33m[W 2022-02-15 21:03:38,099]\u001b[0m Param nn_hidden_layers unique value length is less than 2.\u001b[0m\n",
      "\u001b[33m[W 2022-02-15 21:03:38,132]\u001b[0m Param nn_hidden_layers unique value length is less than 2.\u001b[0m\n",
      "\u001b[33m[W 2022-02-15 21:03:38,168]\u001b[0m Param nn_hidden_layers unique value length is less than 2.\u001b[0m\n",
      "\u001b[33m[W 2022-02-15 21:03:38,219]\u001b[0m Param nn_hidden_layers unique value length is less than 2.\u001b[0m\n",
      "\u001b[33m[W 2022-02-15 21:03:38,255]\u001b[0m Param nn_hidden_layers unique value length is less than 2.\u001b[0m\n",
      "\u001b[33m[W 2022-02-15 21:03:38,296]\u001b[0m Param nn_hidden_layers unique value length is less than 2.\u001b[0m\n",
      "\u001b[33m[W 2022-02-15 21:03:38,350]\u001b[0m Param nn_hidden_layers unique value length is less than 2.\u001b[0m\n",
      "\u001b[33m[W 2022-02-15 21:03:38,503]\u001b[0m Param nn_hidden_layers unique value length is less than 2.\u001b[0m\n",
      "\u001b[33m[W 2022-02-15 21:03:38,562]\u001b[0m Param nn_hidden_layers unique value length is less than 2.\u001b[0m\n",
      "\u001b[33m[W 2022-02-15 21:03:38,600]\u001b[0m Param nn_hidden_layers unique value length is less than 2.\u001b[0m\n",
      "\u001b[33m[W 2022-02-15 21:03:39,307]\u001b[0m Param epsilon_start unique value length is less than 2.\u001b[0m\n",
      "\u001b[33m[W 2022-02-15 21:03:39,644]\u001b[0m Param nn_hidden_layers unique value length is less than 2.\u001b[0m\n",
      "\u001b[33m[W 2022-02-15 21:03:39,893]\u001b[0m Param epsilon_start unique value length is less than 2.\u001b[0m\n",
      "\u001b[33m[W 2022-02-15 21:03:40,121]\u001b[0m Param nn_hidden_layers unique value length is less than 2.\u001b[0m\n",
      "\u001b[33m[W 2022-02-15 21:03:40,332]\u001b[0m Param epsilon_start unique value length is less than 2.\u001b[0m\n",
      "\u001b[33m[W 2022-02-15 21:03:40,553]\u001b[0m Param nn_hidden_layers unique value length is less than 2.\u001b[0m\n"
     ]
    },
    {
     "name": "stdout",
     "output_type": "stream",
     "text": [
      "https://app.neptune.ai/plabartabajo/parametric-q-learning-cart-pole/e/PAR-62\n",
      "Remember to stop your run once you’ve finished logging your metadata (https://docs.neptune.ai/api-reference/run#.stop). It will be stopped automatically only when the notebook kernel/interactive console is terminated.\n",
      "67,586 parameters\n"
     ]
    },
    {
     "name": "stderr",
     "output_type": "stream",
     "text": [
      "100%|██████████████████████████████████████████████████████████████████████████| 500/500 [00:49<00:00, 10.11it/s]\n",
      "100%|████████████████████████████████████████████████████████████████████████| 1000/1000 [00:28<00:00, 34.52it/s]"
     ]
    },
    {
     "name": "stdout",
     "output_type": "stream",
     "text": [
      "Shutting down background jobs, please wait a moment...\n",
      "Done!\n"
     ]
    },
    {
     "name": "stderr",
     "output_type": "stream",
     "text": [
      "\n",
      "Waiting for the remaining 7 operations to synchronize with Neptune. Do not kill this process.\n"
     ]
    },
    {
     "name": "stdout",
     "output_type": "stream",
     "text": [
      "All 7 operations synced, thanks for waiting!\n"
     ]
    },
    {
     "name": "stderr",
     "output_type": "stream",
     "text": [
      "\u001b[32m[I 2022-02-15 21:05:02,115]\u001b[0m Trial 10 finished with value: 87.822 and parameters: {'learning_rate': 0.004145269817721472, 'discount_factor': 0.9, 'batch_size': 16, 'memory_size': 100000, 'freq_steps_train': 8, 'freq_steps_update_target': 10, 'n_steps_warm_up_memory': 5000, 'n_gradient_steps': 16, 'nn_hidden_layers': '[256, 256]', 'max_grad_norm': 100, 'normalize_state': True, 'epsilon_start': 0.9, 'epsilon_end': 0.12443805664092739, 'steps_epsilon_decay': 100000, 'seed': 1063477976}. Best is trial 1 with value: 175.159.\u001b[0m\n",
      "\u001b[33m[W 2022-02-15 21:05:12,213]\u001b[0m Param epsilon_start unique value length is less than 2.\u001b[0m\n",
      "\u001b[33m[W 2022-02-15 21:05:12,516]\u001b[0m Param nn_hidden_layers unique value length is less than 2.\u001b[0m\n",
      "\u001b[33m[W 2022-02-15 21:05:12,771]\u001b[0m Param epsilon_start unique value length is less than 2.\u001b[0m\n",
      "\u001b[33m[W 2022-02-15 21:05:13,001]\u001b[0m Param nn_hidden_layers unique value length is less than 2.\u001b[0m\n",
      "\u001b[33m[W 2022-02-15 21:05:13,304]\u001b[0m Param epsilon_start unique value length is less than 2.\u001b[0m\n",
      "\u001b[33m[W 2022-02-15 21:05:13,550]\u001b[0m Param nn_hidden_layers unique value length is less than 2.\u001b[0m\n",
      "\u001b[33m[W 2022-02-15 21:05:13,700]\u001b[0m Param epsilon_start unique value length is less than 2.\u001b[0m\n",
      "\u001b[33m[W 2022-02-15 21:05:13,725]\u001b[0m Param epsilon_start unique value length is less than 2.\u001b[0m\n",
      "\u001b[33m[W 2022-02-15 21:05:13,749]\u001b[0m Param epsilon_start unique value length is less than 2.\u001b[0m\n",
      "\u001b[33m[W 2022-02-15 21:05:13,797]\u001b[0m Param epsilon_start unique value length is less than 2.\u001b[0m\n",
      "\u001b[33m[W 2022-02-15 21:05:13,823]\u001b[0m Param epsilon_start unique value length is less than 2.\u001b[0m\n",
      "\u001b[33m[W 2022-02-15 21:05:13,852]\u001b[0m Param epsilon_start unique value length is less than 2.\u001b[0m\n",
      "\u001b[33m[W 2022-02-15 21:05:13,892]\u001b[0m Param epsilon_start unique value length is less than 2.\u001b[0m\n",
      "\u001b[33m[W 2022-02-15 21:05:13,920]\u001b[0m Param epsilon_start unique value length is less than 2.\u001b[0m\n",
      "\u001b[33m[W 2022-02-15 21:05:13,949]\u001b[0m Param epsilon_start unique value length is less than 2.\u001b[0m\n",
      "\u001b[33m[W 2022-02-15 21:05:13,980]\u001b[0m Param epsilon_start unique value length is less than 2.\u001b[0m\n",
      "\u001b[33m[W 2022-02-15 21:05:14,008]\u001b[0m Param epsilon_start unique value length is less than 2.\u001b[0m\n",
      "\u001b[33m[W 2022-02-15 21:05:14,048]\u001b[0m Param epsilon_start unique value length is less than 2.\u001b[0m\n",
      "\u001b[33m[W 2022-02-15 21:05:14,090]\u001b[0m Param epsilon_start unique value length is less than 2.\u001b[0m\n",
      "\u001b[33m[W 2022-02-15 21:05:14,120]\u001b[0m Param epsilon_start unique value length is less than 2.\u001b[0m\n",
      "\u001b[33m[W 2022-02-15 21:05:14,266]\u001b[0m Param epsilon_start unique value length is less than 2.\u001b[0m\n",
      "\u001b[33m[W 2022-02-15 21:05:14,486]\u001b[0m Param nn_hidden_layers unique value length is less than 2.\u001b[0m\n",
      "\u001b[33m[W 2022-02-15 21:05:14,827]\u001b[0m Param epsilon_start unique value length is less than 2.\u001b[0m\n",
      "\u001b[33m[W 2022-02-15 21:05:15,053]\u001b[0m Param nn_hidden_layers unique value length is less than 2.\u001b[0m\n",
      "\u001b[33m[W 2022-02-15 21:05:15,311]\u001b[0m Param epsilon_start unique value length is less than 2.\u001b[0m\n",
      "\u001b[33m[W 2022-02-15 21:05:15,620]\u001b[0m Param nn_hidden_layers unique value length is less than 2.\u001b[0m\n",
      "\u001b[33m[W 2022-02-15 21:05:15,924]\u001b[0m Param epsilon_start unique value length is less than 2.\u001b[0m\n",
      "\u001b[33m[W 2022-02-15 21:05:16,158]\u001b[0m Param nn_hidden_layers unique value length is less than 2.\u001b[0m\n",
      "\u001b[33m[W 2022-02-15 21:05:16,378]\u001b[0m Param epsilon_start unique value length is less than 2.\u001b[0m\n",
      "\u001b[33m[W 2022-02-15 21:05:16,682]\u001b[0m Param nn_hidden_layers unique value length is less than 2.\u001b[0m\n",
      "\u001b[33m[W 2022-02-15 21:05:17,030]\u001b[0m Param epsilon_start unique value length is less than 2.\u001b[0m\n",
      "\u001b[33m[W 2022-02-15 21:05:17,285]\u001b[0m Param nn_hidden_layers unique value length is less than 2.\u001b[0m\n",
      "\u001b[33m[W 2022-02-15 21:05:17,581]\u001b[0m Param epsilon_start unique value length is less than 2.\u001b[0m\n",
      "\u001b[33m[W 2022-02-15 21:05:17,802]\u001b[0m Param nn_hidden_layers unique value length is less than 2.\u001b[0m\n",
      "\u001b[33m[W 2022-02-15 21:05:17,946]\u001b[0m Param nn_hidden_layers unique value length is less than 2.\u001b[0m\n",
      "\u001b[33m[W 2022-02-15 21:05:18,103]\u001b[0m Param nn_hidden_layers unique value length is less than 2.\u001b[0m\n",
      "\u001b[33m[W 2022-02-15 21:05:18,143]\u001b[0m Param nn_hidden_layers unique value length is less than 2.\u001b[0m\n",
      "\u001b[33m[W 2022-02-15 21:05:18,237]\u001b[0m Param nn_hidden_layers unique value length is less than 2.\u001b[0m\n",
      "\u001b[33m[W 2022-02-15 21:05:18,277]\u001b[0m Param nn_hidden_layers unique value length is less than 2.\u001b[0m\n",
      "\u001b[33m[W 2022-02-15 21:05:18,313]\u001b[0m Param nn_hidden_layers unique value length is less than 2.\u001b[0m\n",
      "\u001b[33m[W 2022-02-15 21:05:18,348]\u001b[0m Param nn_hidden_layers unique value length is less than 2.\u001b[0m\n",
      "\u001b[33m[W 2022-02-15 21:05:18,396]\u001b[0m Param nn_hidden_layers unique value length is less than 2.\u001b[0m\n",
      "\u001b[33m[W 2022-02-15 21:05:18,430]\u001b[0m Param nn_hidden_layers unique value length is less than 2.\u001b[0m\n",
      "\u001b[33m[W 2022-02-15 21:05:18,465]\u001b[0m Param nn_hidden_layers unique value length is less than 2.\u001b[0m\n",
      "\u001b[33m[W 2022-02-15 21:05:18,503]\u001b[0m Param nn_hidden_layers unique value length is less than 2.\u001b[0m\n",
      "\u001b[33m[W 2022-02-15 21:05:18,580]\u001b[0m Param nn_hidden_layers unique value length is less than 2.\u001b[0m\n",
      "\u001b[33m[W 2022-02-15 21:05:18,626]\u001b[0m Param nn_hidden_layers unique value length is less than 2.\u001b[0m\n",
      "\u001b[33m[W 2022-02-15 21:05:18,660]\u001b[0m Param nn_hidden_layers unique value length is less than 2.\u001b[0m\n",
      "\u001b[33m[W 2022-02-15 21:05:18,934]\u001b[0m Param epsilon_start unique value length is less than 2.\u001b[0m\n",
      "\u001b[33m[W 2022-02-15 21:05:19,237]\u001b[0m Param nn_hidden_layers unique value length is less than 2.\u001b[0m\n",
      "\u001b[33m[W 2022-02-15 21:05:19,494]\u001b[0m Param epsilon_start unique value length is less than 2.\u001b[0m\n",
      "\u001b[33m[W 2022-02-15 21:05:19,735]\u001b[0m Param nn_hidden_layers unique value length is less than 2.\u001b[0m\n",
      "\u001b[33m[W 2022-02-15 21:05:19,951]\u001b[0m Param epsilon_start unique value length is less than 2.\u001b[0m\n",
      "\u001b[33m[W 2022-02-15 21:05:20,177]\u001b[0m Param nn_hidden_layers unique value length is less than 2.\u001b[0m\n"
     ]
    },
    {
     "name": "stdout",
     "output_type": "stream",
     "text": [
      "https://app.neptune.ai/plabartabajo/parametric-q-learning-cart-pole/e/PAR-63\n",
      "Remember to stop your run once you’ve finished logging your metadata (https://docs.neptune.ai/api-reference/run#.stop). It will be stopped automatically only when the notebook kernel/interactive console is terminated.\n",
      "67,586 parameters\n"
     ]
    },
    {
     "name": "stderr",
     "output_type": "stream",
     "text": [
      "100%|██████████████████████████████████████████████████████████████████████████| 500/500 [01:01<00:00,  8.11it/s]\n",
      "100%|████████████████████████████████████████████████████████████████████████| 1000/1000 [00:14<00:00, 69.82it/s]"
     ]
    },
    {
     "name": "stdout",
     "output_type": "stream",
     "text": [
      "Shutting down background jobs, please wait a moment...\n",
      "Done!\n"
     ]
    },
    {
     "name": "stderr",
     "output_type": "stream",
     "text": [
      "\n",
      "Waiting for the remaining 39 operations to synchronize with Neptune. Do not kill this process.\n"
     ]
    },
    {
     "name": "stdout",
     "output_type": "stream",
     "text": [
      "All 39 operations synced, thanks for waiting!\n"
     ]
    },
    {
     "name": "stderr",
     "output_type": "stream",
     "text": [
      "\u001b[32m[I 2022-02-15 21:06:38,838]\u001b[0m Trial 11 finished with value: 71.831 and parameters: {'learning_rate': 0.004753971779997355, 'discount_factor': 0.9, 'batch_size': 16, 'memory_size': 100000, 'freq_steps_train': 8, 'freq_steps_update_target': 10, 'n_steps_warm_up_memory': 5000, 'n_gradient_steps': 16, 'nn_hidden_layers': '[256, 256]', 'max_grad_norm': 100, 'normalize_state': True, 'epsilon_start': 0.9, 'epsilon_end': 0.13334233675540044, 'steps_epsilon_decay': 100000, 'seed': 1071997345}. Best is trial 1 with value: 175.159.\u001b[0m\n",
      "\u001b[33m[W 2022-02-15 21:06:48,463]\u001b[0m Param epsilon_start unique value length is less than 2.\u001b[0m\n",
      "\u001b[33m[W 2022-02-15 21:06:48,919]\u001b[0m Param nn_hidden_layers unique value length is less than 2.\u001b[0m\n",
      "\u001b[33m[W 2022-02-15 21:06:49,217]\u001b[0m Param epsilon_start unique value length is less than 2.\u001b[0m\n",
      "\u001b[33m[W 2022-02-15 21:06:49,459]\u001b[0m Param nn_hidden_layers unique value length is less than 2.\u001b[0m\n",
      "\u001b[33m[W 2022-02-15 21:06:49,705]\u001b[0m Param epsilon_start unique value length is less than 2.\u001b[0m\n",
      "\u001b[33m[W 2022-02-15 21:06:49,982]\u001b[0m Param nn_hidden_layers unique value length is less than 2.\u001b[0m\n",
      "\u001b[33m[W 2022-02-15 21:06:50,154]\u001b[0m Param epsilon_start unique value length is less than 2.\u001b[0m\n",
      "\u001b[33m[W 2022-02-15 21:06:50,187]\u001b[0m Param epsilon_start unique value length is less than 2.\u001b[0m\n",
      "\u001b[33m[W 2022-02-15 21:06:50,217]\u001b[0m Param epsilon_start unique value length is less than 2.\u001b[0m\n",
      "\u001b[33m[W 2022-02-15 21:06:50,270]\u001b[0m Param epsilon_start unique value length is less than 2.\u001b[0m\n",
      "\u001b[33m[W 2022-02-15 21:06:50,296]\u001b[0m Param epsilon_start unique value length is less than 2.\u001b[0m\n",
      "\u001b[33m[W 2022-02-15 21:06:50,323]\u001b[0m Param epsilon_start unique value length is less than 2.\u001b[0m\n",
      "\u001b[33m[W 2022-02-15 21:06:50,359]\u001b[0m Param epsilon_start unique value length is less than 2.\u001b[0m\n",
      "\u001b[33m[W 2022-02-15 21:06:50,383]\u001b[0m Param epsilon_start unique value length is less than 2.\u001b[0m\n",
      "\u001b[33m[W 2022-02-15 21:06:50,407]\u001b[0m Param epsilon_start unique value length is less than 2.\u001b[0m\n",
      "\u001b[33m[W 2022-02-15 21:06:50,432]\u001b[0m Param epsilon_start unique value length is less than 2.\u001b[0m\n",
      "\u001b[33m[W 2022-02-15 21:06:50,456]\u001b[0m Param epsilon_start unique value length is less than 2.\u001b[0m\n",
      "\u001b[33m[W 2022-02-15 21:06:50,492]\u001b[0m Param epsilon_start unique value length is less than 2.\u001b[0m\n",
      "\u001b[33m[W 2022-02-15 21:06:50,530]\u001b[0m Param epsilon_start unique value length is less than 2.\u001b[0m\n",
      "\u001b[33m[W 2022-02-15 21:06:50,557]\u001b[0m Param epsilon_start unique value length is less than 2.\u001b[0m\n",
      "\u001b[33m[W 2022-02-15 21:06:50,705]\u001b[0m Param epsilon_start unique value length is less than 2.\u001b[0m\n",
      "\u001b[33m[W 2022-02-15 21:06:50,927]\u001b[0m Param nn_hidden_layers unique value length is less than 2.\u001b[0m\n",
      "\u001b[33m[W 2022-02-15 21:06:51,147]\u001b[0m Param epsilon_start unique value length is less than 2.\u001b[0m\n",
      "\u001b[33m[W 2022-02-15 21:06:51,371]\u001b[0m Param nn_hidden_layers unique value length is less than 2.\u001b[0m\n",
      "\u001b[33m[W 2022-02-15 21:06:51,638]\u001b[0m Param epsilon_start unique value length is less than 2.\u001b[0m\n",
      "\u001b[33m[W 2022-02-15 21:06:51,973]\u001b[0m Param nn_hidden_layers unique value length is less than 2.\u001b[0m\n",
      "\u001b[33m[W 2022-02-15 21:06:52,256]\u001b[0m Param epsilon_start unique value length is less than 2.\u001b[0m\n",
      "\u001b[33m[W 2022-02-15 21:06:52,500]\u001b[0m Param nn_hidden_layers unique value length is less than 2.\u001b[0m\n",
      "\u001b[33m[W 2022-02-15 21:06:52,767]\u001b[0m Param epsilon_start unique value length is less than 2.\u001b[0m\n",
      "\u001b[33m[W 2022-02-15 21:06:52,996]\u001b[0m Param nn_hidden_layers unique value length is less than 2.\u001b[0m\n",
      "\u001b[33m[W 2022-02-15 21:06:53,343]\u001b[0m Param epsilon_start unique value length is less than 2.\u001b[0m\n",
      "\u001b[33m[W 2022-02-15 21:06:53,704]\u001b[0m Param nn_hidden_layers unique value length is less than 2.\u001b[0m\n",
      "\u001b[33m[W 2022-02-15 21:06:53,996]\u001b[0m Param epsilon_start unique value length is less than 2.\u001b[0m\n",
      "\u001b[33m[W 2022-02-15 21:06:54,250]\u001b[0m Param nn_hidden_layers unique value length is less than 2.\u001b[0m\n",
      "\u001b[33m[W 2022-02-15 21:06:54,402]\u001b[0m Param nn_hidden_layers unique value length is less than 2.\u001b[0m\n",
      "\u001b[33m[W 2022-02-15 21:06:54,438]\u001b[0m Param nn_hidden_layers unique value length is less than 2.\u001b[0m\n",
      "\u001b[33m[W 2022-02-15 21:06:54,474]\u001b[0m Param nn_hidden_layers unique value length is less than 2.\u001b[0m\n",
      "\u001b[33m[W 2022-02-15 21:06:54,512]\u001b[0m Param nn_hidden_layers unique value length is less than 2.\u001b[0m\n",
      "\u001b[33m[W 2022-02-15 21:06:54,553]\u001b[0m Param nn_hidden_layers unique value length is less than 2.\u001b[0m\n",
      "\u001b[33m[W 2022-02-15 21:06:54,599]\u001b[0m Param nn_hidden_layers unique value length is less than 2.\u001b[0m\n",
      "\u001b[33m[W 2022-02-15 21:06:54,647]\u001b[0m Param nn_hidden_layers unique value length is less than 2.\u001b[0m\n",
      "\u001b[33m[W 2022-02-15 21:06:54,705]\u001b[0m Param nn_hidden_layers unique value length is less than 2.\u001b[0m\n",
      "\u001b[33m[W 2022-02-15 21:06:54,746]\u001b[0m Param nn_hidden_layers unique value length is less than 2.\u001b[0m\n",
      "\u001b[33m[W 2022-02-15 21:06:54,789]\u001b[0m Param nn_hidden_layers unique value length is less than 2.\u001b[0m\n",
      "\u001b[33m[W 2022-02-15 21:06:54,825]\u001b[0m Param nn_hidden_layers unique value length is less than 2.\u001b[0m\n",
      "\u001b[33m[W 2022-02-15 21:06:54,915]\u001b[0m Param nn_hidden_layers unique value length is less than 2.\u001b[0m\n",
      "\u001b[33m[W 2022-02-15 21:06:54,968]\u001b[0m Param nn_hidden_layers unique value length is less than 2.\u001b[0m\n",
      "\u001b[33m[W 2022-02-15 21:06:55,010]\u001b[0m Param nn_hidden_layers unique value length is less than 2.\u001b[0m\n",
      "\u001b[33m[W 2022-02-15 21:06:55,190]\u001b[0m Param epsilon_start unique value length is less than 2.\u001b[0m\n",
      "\u001b[33m[W 2022-02-15 21:06:55,539]\u001b[0m Param nn_hidden_layers unique value length is less than 2.\u001b[0m\n",
      "\u001b[33m[W 2022-02-15 21:06:55,811]\u001b[0m Param epsilon_start unique value length is less than 2.\u001b[0m\n",
      "\u001b[33m[W 2022-02-15 21:06:56,065]\u001b[0m Param nn_hidden_layers unique value length is less than 2.\u001b[0m\n",
      "\u001b[33m[W 2022-02-15 21:06:56,299]\u001b[0m Param epsilon_start unique value length is less than 2.\u001b[0m\n",
      "\u001b[33m[W 2022-02-15 21:06:56,781]\u001b[0m Param nn_hidden_layers unique value length is less than 2.\u001b[0m\n"
     ]
    },
    {
     "name": "stdout",
     "output_type": "stream",
     "text": [
      "https://app.neptune.ai/plabartabajo/parametric-q-learning-cart-pole/e/PAR-64\n",
      "Remember to stop your run once you’ve finished logging your metadata (https://docs.neptune.ai/api-reference/run#.stop). It will be stopped automatically only when the notebook kernel/interactive console is terminated.\n",
      "67,586 parameters\n"
     ]
    },
    {
     "name": "stderr",
     "output_type": "stream",
     "text": [
      "100%|██████████████████████████████████████████████████████████████████████████| 500/500 [01:27<00:00,  5.69it/s]\n",
      "100%|████████████████████████████████████████████████████████████████████████| 1000/1000 [01:35<00:00, 10.47it/s]"
     ]
    },
    {
     "name": "stdout",
     "output_type": "stream",
     "text": [
      "Shutting down background jobs, please wait a moment...\n",
      "Done!\n"
     ]
    },
    {
     "name": "stderr",
     "output_type": "stream",
     "text": [
      "\n",
      "Waiting for the remaining 34 operations to synchronize with Neptune. Do not kill this process.\n"
     ]
    },
    {
     "name": "stdout",
     "output_type": "stream",
     "text": [
      "All 34 operations synced, thanks for waiting!\n"
     ]
    },
    {
     "name": "stderr",
     "output_type": "stream",
     "text": [
      "\u001b[32m[I 2022-02-15 21:10:03,838]\u001b[0m Trial 12 finished with value: 313.91 and parameters: {'learning_rate': 0.004996227982462779, 'discount_factor': 0.9, 'batch_size': 16, 'memory_size': 100000, 'freq_steps_train': 8, 'freq_steps_update_target': 10, 'n_steps_warm_up_memory': 5000, 'n_gradient_steps': 16, 'nn_hidden_layers': '[256, 256]', 'max_grad_norm': 100, 'normalize_state': True, 'epsilon_start': 0.9, 'epsilon_end': 0.12262191488796657, 'steps_epsilon_decay': 100000, 'seed': 881993024}. Best is trial 12 with value: 313.91.\u001b[0m\n",
      "\u001b[33m[W 2022-02-15 21:10:14,860]\u001b[0m Param epsilon_start unique value length is less than 2.\u001b[0m\n",
      "\u001b[33m[W 2022-02-15 21:10:15,243]\u001b[0m Param nn_hidden_layers unique value length is less than 2.\u001b[0m\n",
      "\u001b[33m[W 2022-02-15 21:10:15,507]\u001b[0m Param epsilon_start unique value length is less than 2.\u001b[0m\n",
      "\u001b[33m[W 2022-02-15 21:10:15,735]\u001b[0m Param nn_hidden_layers unique value length is less than 2.\u001b[0m\n",
      "\u001b[33m[W 2022-02-15 21:10:15,948]\u001b[0m Param epsilon_start unique value length is less than 2.\u001b[0m\n",
      "\u001b[33m[W 2022-02-15 21:10:16,184]\u001b[0m Param nn_hidden_layers unique value length is less than 2.\u001b[0m\n",
      "\u001b[33m[W 2022-02-15 21:10:16,325]\u001b[0m Param epsilon_start unique value length is less than 2.\u001b[0m\n",
      "\u001b[33m[W 2022-02-15 21:10:16,349]\u001b[0m Param epsilon_start unique value length is less than 2.\u001b[0m\n",
      "\u001b[33m[W 2022-02-15 21:10:16,373]\u001b[0m Param epsilon_start unique value length is less than 2.\u001b[0m\n",
      "\u001b[33m[W 2022-02-15 21:10:16,419]\u001b[0m Param epsilon_start unique value length is less than 2.\u001b[0m\n",
      "\u001b[33m[W 2022-02-15 21:10:16,444]\u001b[0m Param epsilon_start unique value length is less than 2.\u001b[0m\n",
      "\u001b[33m[W 2022-02-15 21:10:16,469]\u001b[0m Param epsilon_start unique value length is less than 2.\u001b[0m\n",
      "\u001b[33m[W 2022-02-15 21:10:16,504]\u001b[0m Param epsilon_start unique value length is less than 2.\u001b[0m\n",
      "\u001b[33m[W 2022-02-15 21:10:16,529]\u001b[0m Param epsilon_start unique value length is less than 2.\u001b[0m\n",
      "\u001b[33m[W 2022-02-15 21:10:16,554]\u001b[0m Param epsilon_start unique value length is less than 2.\u001b[0m\n",
      "\u001b[33m[W 2022-02-15 21:10:16,577]\u001b[0m Param epsilon_start unique value length is less than 2.\u001b[0m\n",
      "\u001b[33m[W 2022-02-15 21:10:16,602]\u001b[0m Param epsilon_start unique value length is less than 2.\u001b[0m\n",
      "\u001b[33m[W 2022-02-15 21:10:16,636]\u001b[0m Param epsilon_start unique value length is less than 2.\u001b[0m\n",
      "\u001b[33m[W 2022-02-15 21:10:16,670]\u001b[0m Param epsilon_start unique value length is less than 2.\u001b[0m\n",
      "\u001b[33m[W 2022-02-15 21:10:16,693]\u001b[0m Param epsilon_start unique value length is less than 2.\u001b[0m\n",
      "\u001b[33m[W 2022-02-15 21:10:16,817]\u001b[0m Param epsilon_start unique value length is less than 2.\u001b[0m\n",
      "\u001b[33m[W 2022-02-15 21:10:17,041]\u001b[0m Param nn_hidden_layers unique value length is less than 2.\u001b[0m\n",
      "\u001b[33m[W 2022-02-15 21:10:17,294]\u001b[0m Param epsilon_start unique value length is less than 2.\u001b[0m\n",
      "\u001b[33m[W 2022-02-15 21:10:17,530]\u001b[0m Param nn_hidden_layers unique value length is less than 2.\u001b[0m\n",
      "\u001b[33m[W 2022-02-15 21:10:17,829]\u001b[0m Param epsilon_start unique value length is less than 2.\u001b[0m\n",
      "\u001b[33m[W 2022-02-15 21:10:18,340]\u001b[0m Param nn_hidden_layers unique value length is less than 2.\u001b[0m\n",
      "\u001b[33m[W 2022-02-15 21:10:18,608]\u001b[0m Param epsilon_start unique value length is less than 2.\u001b[0m\n",
      "\u001b[33m[W 2022-02-15 21:10:18,952]\u001b[0m Param nn_hidden_layers unique value length is less than 2.\u001b[0m\n",
      "\u001b[33m[W 2022-02-15 21:10:19,183]\u001b[0m Param epsilon_start unique value length is less than 2.\u001b[0m\n",
      "\u001b[33m[W 2022-02-15 21:10:19,430]\u001b[0m Param nn_hidden_layers unique value length is less than 2.\u001b[0m\n",
      "\u001b[33m[W 2022-02-15 21:10:19,662]\u001b[0m Param epsilon_start unique value length is less than 2.\u001b[0m\n",
      "\u001b[33m[W 2022-02-15 21:10:19,927]\u001b[0m Param nn_hidden_layers unique value length is less than 2.\u001b[0m\n",
      "\u001b[33m[W 2022-02-15 21:10:20,156]\u001b[0m Param epsilon_start unique value length is less than 2.\u001b[0m\n",
      "\u001b[33m[W 2022-02-15 21:10:20,381]\u001b[0m Param nn_hidden_layers unique value length is less than 2.\u001b[0m\n",
      "\u001b[33m[W 2022-02-15 21:10:20,558]\u001b[0m Param nn_hidden_layers unique value length is less than 2.\u001b[0m\n",
      "\u001b[33m[W 2022-02-15 21:10:20,594]\u001b[0m Param nn_hidden_layers unique value length is less than 2.\u001b[0m\n",
      "\u001b[33m[W 2022-02-15 21:10:20,633]\u001b[0m Param nn_hidden_layers unique value length is less than 2.\u001b[0m\n",
      "\u001b[33m[W 2022-02-15 21:10:20,671]\u001b[0m Param nn_hidden_layers unique value length is less than 2.\u001b[0m\n",
      "\u001b[33m[W 2022-02-15 21:10:20,712]\u001b[0m Param nn_hidden_layers unique value length is less than 2.\u001b[0m\n",
      "\u001b[33m[W 2022-02-15 21:10:20,759]\u001b[0m Param nn_hidden_layers unique value length is less than 2.\u001b[0m\n",
      "\u001b[33m[W 2022-02-15 21:10:20,808]\u001b[0m Param nn_hidden_layers unique value length is less than 2.\u001b[0m\n",
      "\u001b[33m[W 2022-02-15 21:10:20,876]\u001b[0m Param nn_hidden_layers unique value length is less than 2.\u001b[0m\n",
      "\u001b[33m[W 2022-02-15 21:10:20,917]\u001b[0m Param nn_hidden_layers unique value length is less than 2.\u001b[0m\n",
      "\u001b[33m[W 2022-02-15 21:10:20,959]\u001b[0m Param nn_hidden_layers unique value length is less than 2.\u001b[0m\n",
      "\u001b[33m[W 2022-02-15 21:10:20,998]\u001b[0m Param nn_hidden_layers unique value length is less than 2.\u001b[0m\n",
      "\u001b[33m[W 2022-02-15 21:10:21,080]\u001b[0m Param nn_hidden_layers unique value length is less than 2.\u001b[0m\n",
      "\u001b[33m[W 2022-02-15 21:10:21,127]\u001b[0m Param nn_hidden_layers unique value length is less than 2.\u001b[0m\n",
      "\u001b[33m[W 2022-02-15 21:10:21,169]\u001b[0m Param nn_hidden_layers unique value length is less than 2.\u001b[0m\n",
      "\u001b[33m[W 2022-02-15 21:10:21,374]\u001b[0m Param epsilon_start unique value length is less than 2.\u001b[0m\n",
      "\u001b[33m[W 2022-02-15 21:10:21,707]\u001b[0m Param nn_hidden_layers unique value length is less than 2.\u001b[0m\n",
      "\u001b[33m[W 2022-02-15 21:10:22,010]\u001b[0m Param epsilon_start unique value length is less than 2.\u001b[0m\n",
      "\u001b[33m[W 2022-02-15 21:10:22,259]\u001b[0m Param nn_hidden_layers unique value length is less than 2.\u001b[0m\n",
      "\u001b[33m[W 2022-02-15 21:10:22,499]\u001b[0m Param epsilon_start unique value length is less than 2.\u001b[0m\n",
      "\u001b[33m[W 2022-02-15 21:10:22,748]\u001b[0m Param nn_hidden_layers unique value length is less than 2.\u001b[0m\n"
     ]
    },
    {
     "name": "stdout",
     "output_type": "stream",
     "text": [
      "https://app.neptune.ai/plabartabajo/parametric-q-learning-cart-pole/e/PAR-65\n",
      "Remember to stop your run once you’ve finished logging your metadata (https://docs.neptune.ai/api-reference/run#.stop). It will be stopped automatically only when the notebook kernel/interactive console is terminated.\n",
      "67,586 parameters\n"
     ]
    },
    {
     "name": "stderr",
     "output_type": "stream",
     "text": [
      "100%|██████████████████████████████████████████████████████████████████████████| 500/500 [01:07<00:00,  7.38it/s]\n",
      "100%|████████████████████████████████████████████████████████████████████████| 1000/1000 [00:48<00:00, 20.57it/s]"
     ]
    },
    {
     "name": "stdout",
     "output_type": "stream",
     "text": [
      "Shutting down background jobs, please wait a moment...\n",
      "Done!\n"
     ]
    },
    {
     "name": "stderr",
     "output_type": "stream",
     "text": [
      "\n",
      "Waiting for the remaining 7 operations to synchronize with Neptune. Do not kill this process.\n"
     ]
    },
    {
     "name": "stdout",
     "output_type": "stream",
     "text": [
      "All 7 operations synced, thanks for waiting!\n"
     ]
    },
    {
     "name": "stderr",
     "output_type": "stream",
     "text": [
      "\u001b[32m[I 2022-02-15 21:12:22,730]\u001b[0m Trial 13 finished with value: 211.612 and parameters: {'learning_rate': 0.0010108577278620198, 'discount_factor': 0.9, 'batch_size': 16, 'memory_size': 100000, 'freq_steps_train': 8, 'freq_steps_update_target': 10, 'n_steps_warm_up_memory': 5000, 'n_gradient_steps': 16, 'nn_hidden_layers': '[256, 256]', 'max_grad_norm': 100, 'normalize_state': True, 'epsilon_start': 0.9, 'epsilon_end': 0.08885340762055942, 'steps_epsilon_decay': 100000, 'seed': 845027190}. Best is trial 12 with value: 313.91.\u001b[0m\n",
      "\u001b[33m[W 2022-02-15 21:12:39,609]\u001b[0m Param epsilon_start unique value length is less than 2.\u001b[0m\n",
      "\u001b[33m[W 2022-02-15 21:12:40,202]\u001b[0m Param nn_hidden_layers unique value length is less than 2.\u001b[0m\n",
      "\u001b[33m[W 2022-02-15 21:12:40,580]\u001b[0m Param epsilon_start unique value length is less than 2.\u001b[0m\n",
      "\u001b[33m[W 2022-02-15 21:12:41,035]\u001b[0m Param nn_hidden_layers unique value length is less than 2.\u001b[0m\n",
      "\u001b[33m[W 2022-02-15 21:12:41,510]\u001b[0m Param epsilon_start unique value length is less than 2.\u001b[0m\n",
      "\u001b[33m[W 2022-02-15 21:12:41,949]\u001b[0m Param nn_hidden_layers unique value length is less than 2.\u001b[0m\n",
      "\u001b[33m[W 2022-02-15 21:12:42,228]\u001b[0m Param epsilon_start unique value length is less than 2.\u001b[0m\n",
      "\u001b[33m[W 2022-02-15 21:12:42,264]\u001b[0m Param epsilon_start unique value length is less than 2.\u001b[0m\n",
      "\u001b[33m[W 2022-02-15 21:12:42,303]\u001b[0m Param epsilon_start unique value length is less than 2.\u001b[0m\n",
      "\u001b[33m[W 2022-02-15 21:12:42,367]\u001b[0m Param epsilon_start unique value length is less than 2.\u001b[0m\n",
      "\u001b[33m[W 2022-02-15 21:12:42,399]\u001b[0m Param epsilon_start unique value length is less than 2.\u001b[0m\n",
      "\u001b[33m[W 2022-02-15 21:12:42,432]\u001b[0m Param epsilon_start unique value length is less than 2.\u001b[0m\n",
      "\u001b[33m[W 2022-02-15 21:12:42,479]\u001b[0m Param epsilon_start unique value length is less than 2.\u001b[0m\n",
      "\u001b[33m[W 2022-02-15 21:12:42,511]\u001b[0m Param epsilon_start unique value length is less than 2.\u001b[0m\n",
      "\u001b[33m[W 2022-02-15 21:12:42,544]\u001b[0m Param epsilon_start unique value length is less than 2.\u001b[0m\n",
      "\u001b[33m[W 2022-02-15 21:12:42,580]\u001b[0m Param epsilon_start unique value length is less than 2.\u001b[0m\n",
      "\u001b[33m[W 2022-02-15 21:12:42,643]\u001b[0m Param epsilon_start unique value length is less than 2.\u001b[0m\n",
      "\u001b[33m[W 2022-02-15 21:12:42,872]\u001b[0m Param epsilon_start unique value length is less than 2.\u001b[0m\n",
      "\u001b[33m[W 2022-02-15 21:12:42,950]\u001b[0m Param epsilon_start unique value length is less than 2.\u001b[0m\n",
      "\u001b[33m[W 2022-02-15 21:12:42,983]\u001b[0m Param epsilon_start unique value length is less than 2.\u001b[0m\n",
      "\u001b[33m[W 2022-02-15 21:12:43,152]\u001b[0m Param epsilon_start unique value length is less than 2.\u001b[0m\n",
      "\u001b[33m[W 2022-02-15 21:12:43,448]\u001b[0m Param nn_hidden_layers unique value length is less than 2.\u001b[0m\n",
      "\u001b[33m[W 2022-02-15 21:12:43,793]\u001b[0m Param epsilon_start unique value length is less than 2.\u001b[0m\n",
      "\u001b[33m[W 2022-02-15 21:12:44,250]\u001b[0m Param nn_hidden_layers unique value length is less than 2.\u001b[0m\n",
      "\u001b[33m[W 2022-02-15 21:12:44,629]\u001b[0m Param epsilon_start unique value length is less than 2.\u001b[0m\n",
      "\u001b[33m[W 2022-02-15 21:12:45,227]\u001b[0m Param nn_hidden_layers unique value length is less than 2.\u001b[0m\n",
      "\u001b[33m[W 2022-02-15 21:12:45,651]\u001b[0m Param epsilon_start unique value length is less than 2.\u001b[0m\n",
      "\u001b[33m[W 2022-02-15 21:12:46,313]\u001b[0m Param nn_hidden_layers unique value length is less than 2.\u001b[0m\n",
      "\u001b[33m[W 2022-02-15 21:12:46,605]\u001b[0m Param epsilon_start unique value length is less than 2.\u001b[0m\n",
      "\u001b[33m[W 2022-02-15 21:12:46,921]\u001b[0m Param nn_hidden_layers unique value length is less than 2.\u001b[0m\n",
      "\u001b[33m[W 2022-02-15 21:12:47,273]\u001b[0m Param epsilon_start unique value length is less than 2.\u001b[0m\n",
      "\u001b[33m[W 2022-02-15 21:12:47,640]\u001b[0m Param nn_hidden_layers unique value length is less than 2.\u001b[0m\n",
      "\u001b[33m[W 2022-02-15 21:12:48,000]\u001b[0m Param epsilon_start unique value length is less than 2.\u001b[0m\n",
      "\u001b[33m[W 2022-02-15 21:12:48,335]\u001b[0m Param nn_hidden_layers unique value length is less than 2.\u001b[0m\n",
      "\u001b[33m[W 2022-02-15 21:12:48,504]\u001b[0m Param nn_hidden_layers unique value length is less than 2.\u001b[0m\n",
      "\u001b[33m[W 2022-02-15 21:12:48,547]\u001b[0m Param nn_hidden_layers unique value length is less than 2.\u001b[0m\n",
      "\u001b[33m[W 2022-02-15 21:12:48,594]\u001b[0m Param nn_hidden_layers unique value length is less than 2.\u001b[0m\n",
      "\u001b[33m[W 2022-02-15 21:12:48,643]\u001b[0m Param nn_hidden_layers unique value length is less than 2.\u001b[0m\n",
      "\u001b[33m[W 2022-02-15 21:12:48,692]\u001b[0m Param nn_hidden_layers unique value length is less than 2.\u001b[0m\n",
      "\u001b[33m[W 2022-02-15 21:12:48,741]\u001b[0m Param nn_hidden_layers unique value length is less than 2.\u001b[0m\n",
      "\u001b[33m[W 2022-02-15 21:12:48,788]\u001b[0m Param nn_hidden_layers unique value length is less than 2.\u001b[0m\n",
      "\u001b[33m[W 2022-02-15 21:12:48,849]\u001b[0m Param nn_hidden_layers unique value length is less than 2.\u001b[0m\n",
      "\u001b[33m[W 2022-02-15 21:12:48,892]\u001b[0m Param nn_hidden_layers unique value length is less than 2.\u001b[0m\n",
      "\u001b[33m[W 2022-02-15 21:12:48,936]\u001b[0m Param nn_hidden_layers unique value length is less than 2.\u001b[0m\n",
      "\u001b[33m[W 2022-02-15 21:12:48,979]\u001b[0m Param nn_hidden_layers unique value length is less than 2.\u001b[0m\n",
      "\u001b[33m[W 2022-02-15 21:12:49,087]\u001b[0m Param nn_hidden_layers unique value length is less than 2.\u001b[0m\n",
      "\u001b[33m[W 2022-02-15 21:12:49,160]\u001b[0m Param nn_hidden_layers unique value length is less than 2.\u001b[0m\n",
      "\u001b[33m[W 2022-02-15 21:12:49,219]\u001b[0m Param nn_hidden_layers unique value length is less than 2.\u001b[0m\n",
      "\u001b[33m[W 2022-02-15 21:12:49,442]\u001b[0m Param epsilon_start unique value length is less than 2.\u001b[0m\n",
      "\u001b[33m[W 2022-02-15 21:12:49,829]\u001b[0m Param nn_hidden_layers unique value length is less than 2.\u001b[0m\n",
      "\u001b[33m[W 2022-02-15 21:12:50,149]\u001b[0m Param epsilon_start unique value length is less than 2.\u001b[0m\n",
      "\u001b[33m[W 2022-02-15 21:12:50,467]\u001b[0m Param nn_hidden_layers unique value length is less than 2.\u001b[0m\n",
      "\u001b[33m[W 2022-02-15 21:12:50,770]\u001b[0m Param epsilon_start unique value length is less than 2.\u001b[0m\n",
      "\u001b[33m[W 2022-02-15 21:12:51,273]\u001b[0m Param nn_hidden_layers unique value length is less than 2.\u001b[0m\n"
     ]
    },
    {
     "name": "stdout",
     "output_type": "stream",
     "text": [
      "https://app.neptune.ai/plabartabajo/parametric-q-learning-cart-pole/e/PAR-66\n",
      "Remember to stop your run once you’ve finished logging your metadata (https://docs.neptune.ai/api-reference/run#.stop). It will be stopped automatically only when the notebook kernel/interactive console is terminated.\n",
      "67,586 parameters\n"
     ]
    },
    {
     "name": "stderr",
     "output_type": "stream",
     "text": [
      "100%|██████████████████████████████████████████████████████████████████████████| 500/500 [02:33<00:00,  3.26it/s]\n",
      "100%|████████████████████████████████████████████████████████████████████████| 1000/1000 [00:35<00:00, 27.81it/s]"
     ]
    },
    {
     "name": "stdout",
     "output_type": "stream",
     "text": [
      "Shutting down background jobs, please wait a moment...\n",
      "Done!\n"
     ]
    },
    {
     "name": "stderr",
     "output_type": "stream",
     "text": [
      "\n",
      "Waiting for the remaining 36 operations to synchronize with Neptune. Do not kill this process.\n"
     ]
    },
    {
     "name": "stdout",
     "output_type": "stream",
     "text": [
      "All 36 operations synced, thanks for waiting!\n"
     ]
    },
    {
     "name": "stderr",
     "output_type": "stream",
     "text": [
      "\u001b[32m[I 2022-02-15 21:16:04,776]\u001b[0m Trial 14 finished with value: 109.303 and parameters: {'learning_rate': 0.0005717178557321615, 'discount_factor': 0.9, 'batch_size': 16, 'memory_size': 100000, 'freq_steps_train': 8, 'freq_steps_update_target': 100, 'n_steps_warm_up_memory': 5000, 'n_gradient_steps': 16, 'nn_hidden_layers': '[256, 256]', 'max_grad_norm': 100, 'normalize_state': True, 'epsilon_start': 0.9, 'epsilon_end': 0.08199052689598185, 'steps_epsilon_decay': 100000, 'seed': 853752449}. Best is trial 12 with value: 313.91.\u001b[0m\n",
      "\u001b[33m[W 2022-02-15 21:16:15,553]\u001b[0m Param epsilon_start unique value length is less than 2.\u001b[0m\n",
      "\u001b[33m[W 2022-02-15 21:16:15,940]\u001b[0m Param nn_hidden_layers unique value length is less than 2.\u001b[0m\n",
      "\u001b[33m[W 2022-02-15 21:16:16,223]\u001b[0m Param epsilon_start unique value length is less than 2.\u001b[0m\n",
      "\u001b[33m[W 2022-02-15 21:16:16,510]\u001b[0m Param nn_hidden_layers unique value length is less than 2.\u001b[0m\n",
      "\u001b[33m[W 2022-02-15 21:16:16,782]\u001b[0m Param epsilon_start unique value length is less than 2.\u001b[0m\n",
      "\u001b[33m[W 2022-02-15 21:16:17,077]\u001b[0m Param nn_hidden_layers unique value length is less than 2.\u001b[0m\n",
      "\u001b[33m[W 2022-02-15 21:16:17,235]\u001b[0m Param epsilon_start unique value length is less than 2.\u001b[0m\n",
      "\u001b[33m[W 2022-02-15 21:16:17,261]\u001b[0m Param epsilon_start unique value length is less than 2.\u001b[0m\n",
      "\u001b[33m[W 2022-02-15 21:16:17,286]\u001b[0m Param epsilon_start unique value length is less than 2.\u001b[0m\n",
      "\u001b[33m[W 2022-02-15 21:16:17,341]\u001b[0m Param epsilon_start unique value length is less than 2.\u001b[0m\n",
      "\u001b[33m[W 2022-02-15 21:16:17,370]\u001b[0m Param epsilon_start unique value length is less than 2.\u001b[0m\n",
      "\u001b[33m[W 2022-02-15 21:16:17,397]\u001b[0m Param epsilon_start unique value length is less than 2.\u001b[0m\n",
      "\u001b[33m[W 2022-02-15 21:16:17,436]\u001b[0m Param epsilon_start unique value length is less than 2.\u001b[0m\n",
      "\u001b[33m[W 2022-02-15 21:16:17,466]\u001b[0m Param epsilon_start unique value length is less than 2.\u001b[0m\n",
      "\u001b[33m[W 2022-02-15 21:16:17,492]\u001b[0m Param epsilon_start unique value length is less than 2.\u001b[0m\n",
      "\u001b[33m[W 2022-02-15 21:16:17,518]\u001b[0m Param epsilon_start unique value length is less than 2.\u001b[0m\n",
      "\u001b[33m[W 2022-02-15 21:16:17,547]\u001b[0m Param epsilon_start unique value length is less than 2.\u001b[0m\n",
      "\u001b[33m[W 2022-02-15 21:16:17,590]\u001b[0m Param epsilon_start unique value length is less than 2.\u001b[0m\n",
      "\u001b[33m[W 2022-02-15 21:16:17,638]\u001b[0m Param epsilon_start unique value length is less than 2.\u001b[0m\n",
      "\u001b[33m[W 2022-02-15 21:16:17,673]\u001b[0m Param epsilon_start unique value length is less than 2.\u001b[0m\n",
      "\u001b[33m[W 2022-02-15 21:16:17,820]\u001b[0m Param epsilon_start unique value length is less than 2.\u001b[0m\n",
      "\u001b[33m[W 2022-02-15 21:16:18,087]\u001b[0m Param nn_hidden_layers unique value length is less than 2.\u001b[0m\n",
      "\u001b[33m[W 2022-02-15 21:16:18,337]\u001b[0m Param epsilon_start unique value length is less than 2.\u001b[0m\n",
      "\u001b[33m[W 2022-02-15 21:16:18,608]\u001b[0m Param nn_hidden_layers unique value length is less than 2.\u001b[0m\n",
      "\u001b[33m[W 2022-02-15 21:16:18,912]\u001b[0m Param epsilon_start unique value length is less than 2.\u001b[0m\n",
      "\u001b[33m[W 2022-02-15 21:16:19,249]\u001b[0m Param nn_hidden_layers unique value length is less than 2.\u001b[0m\n",
      "\u001b[33m[W 2022-02-15 21:16:19,595]\u001b[0m Param epsilon_start unique value length is less than 2.\u001b[0m\n",
      "\u001b[33m[W 2022-02-15 21:16:19,940]\u001b[0m Param nn_hidden_layers unique value length is less than 2.\u001b[0m\n",
      "\u001b[33m[W 2022-02-15 21:16:20,273]\u001b[0m Param epsilon_start unique value length is less than 2.\u001b[0m\n",
      "\u001b[33m[W 2022-02-15 21:16:20,514]\u001b[0m Param nn_hidden_layers unique value length is less than 2.\u001b[0m\n",
      "\u001b[33m[W 2022-02-15 21:16:20,763]\u001b[0m Param epsilon_start unique value length is less than 2.\u001b[0m\n",
      "\u001b[33m[W 2022-02-15 21:16:20,997]\u001b[0m Param nn_hidden_layers unique value length is less than 2.\u001b[0m\n",
      "\u001b[33m[W 2022-02-15 21:16:21,233]\u001b[0m Param epsilon_start unique value length is less than 2.\u001b[0m\n",
      "\u001b[33m[W 2022-02-15 21:16:21,471]\u001b[0m Param nn_hidden_layers unique value length is less than 2.\u001b[0m\n",
      "\u001b[33m[W 2022-02-15 21:16:21,618]\u001b[0m Param nn_hidden_layers unique value length is less than 2.\u001b[0m\n",
      "\u001b[33m[W 2022-02-15 21:16:21,655]\u001b[0m Param nn_hidden_layers unique value length is less than 2.\u001b[0m\n",
      "\u001b[33m[W 2022-02-15 21:16:21,691]\u001b[0m Param nn_hidden_layers unique value length is less than 2.\u001b[0m\n",
      "\u001b[33m[W 2022-02-15 21:16:21,728]\u001b[0m Param nn_hidden_layers unique value length is less than 2.\u001b[0m\n",
      "\u001b[33m[W 2022-02-15 21:16:21,765]\u001b[0m Param nn_hidden_layers unique value length is less than 2.\u001b[0m\n",
      "\u001b[33m[W 2022-02-15 21:16:21,805]\u001b[0m Param nn_hidden_layers unique value length is less than 2.\u001b[0m\n",
      "\u001b[33m[W 2022-02-15 21:16:21,843]\u001b[0m Param nn_hidden_layers unique value length is less than 2.\u001b[0m\n",
      "\u001b[33m[W 2022-02-15 21:16:21,893]\u001b[0m Param nn_hidden_layers unique value length is less than 2.\u001b[0m\n",
      "\u001b[33m[W 2022-02-15 21:16:21,929]\u001b[0m Param nn_hidden_layers unique value length is less than 2.\u001b[0m\n",
      "\u001b[33m[W 2022-02-15 21:16:21,965]\u001b[0m Param nn_hidden_layers unique value length is less than 2.\u001b[0m\n",
      "\u001b[33m[W 2022-02-15 21:16:22,002]\u001b[0m Param nn_hidden_layers unique value length is less than 2.\u001b[0m\n",
      "\u001b[33m[W 2022-02-15 21:16:22,081]\u001b[0m Param nn_hidden_layers unique value length is less than 2.\u001b[0m\n",
      "\u001b[33m[W 2022-02-15 21:16:22,130]\u001b[0m Param nn_hidden_layers unique value length is less than 2.\u001b[0m\n",
      "\u001b[33m[W 2022-02-15 21:16:22,168]\u001b[0m Param nn_hidden_layers unique value length is less than 2.\u001b[0m\n",
      "\u001b[33m[W 2022-02-15 21:16:22,342]\u001b[0m Param epsilon_start unique value length is less than 2.\u001b[0m\n",
      "\u001b[33m[W 2022-02-15 21:16:22,740]\u001b[0m Param nn_hidden_layers unique value length is less than 2.\u001b[0m\n",
      "\u001b[33m[W 2022-02-15 21:16:23,042]\u001b[0m Param epsilon_start unique value length is less than 2.\u001b[0m\n",
      "\u001b[33m[W 2022-02-15 21:16:23,353]\u001b[0m Param nn_hidden_layers unique value length is less than 2.\u001b[0m\n",
      "\u001b[33m[W 2022-02-15 21:16:23,632]\u001b[0m Param epsilon_start unique value length is less than 2.\u001b[0m\n",
      "\u001b[33m[W 2022-02-15 21:16:23,937]\u001b[0m Param nn_hidden_layers unique value length is less than 2.\u001b[0m\n"
     ]
    },
    {
     "name": "stdout",
     "output_type": "stream",
     "text": [
      "https://app.neptune.ai/plabartabajo/parametric-q-learning-cart-pole/e/PAR-67\n",
      "Remember to stop your run once you’ve finished logging your metadata (https://docs.neptune.ai/api-reference/run#.stop). It will be stopped automatically only when the notebook kernel/interactive console is terminated.\n",
      "67,586 parameters\n"
     ]
    },
    {
     "name": "stderr",
     "output_type": "stream",
     "text": [
      "100%|██████████████████████████████████████████████████████████████████████████| 500/500 [05:15<00:00,  1.59it/s]\n",
      "100%|████████████████████████████████████████████████████████████████████████| 1000/1000 [00:41<00:00, 23.84it/s]"
     ]
    },
    {
     "name": "stdout",
     "output_type": "stream",
     "text": [
      "Shutting down background jobs, please wait a moment...\n",
      "Done!\n"
     ]
    },
    {
     "name": "stderr",
     "output_type": "stream",
     "text": [
      "\n",
      "Waiting for the remaining 39 operations to synchronize with Neptune. Do not kill this process.\n"
     ]
    },
    {
     "name": "stdout",
     "output_type": "stream",
     "text": [
      "All 39 operations synced, thanks for waiting!\n"
     ]
    },
    {
     "name": "stderr",
     "output_type": "stream",
     "text": [
      "\u001b[32m[I 2022-02-15 21:22:26,905]\u001b[0m Trial 15 finished with value: 99.505 and parameters: {'learning_rate': 0.0011658190898048617, 'discount_factor': 0.9, 'batch_size': 32, 'memory_size': 100000, 'freq_steps_train': 8, 'freq_steps_update_target': 10, 'n_steps_warm_up_memory': 5000, 'n_gradient_steps': 16, 'nn_hidden_layers': '[256, 256]', 'max_grad_norm': 100, 'normalize_state': True, 'epsilon_start': 0.9, 'epsilon_end': 0.1562015809686442, 'steps_epsilon_decay': 10000, 'seed': 917945676}. Best is trial 12 with value: 313.91.\u001b[0m\n",
      "\u001b[33m[W 2022-02-15 21:22:53,074]\u001b[0m Param epsilon_start unique value length is less than 2.\u001b[0m\n",
      "\u001b[33m[W 2022-02-15 21:22:53,807]\u001b[0m Param nn_hidden_layers unique value length is less than 2.\u001b[0m\n",
      "\u001b[33m[W 2022-02-15 21:22:54,318]\u001b[0m Param epsilon_start unique value length is less than 2.\u001b[0m\n",
      "\u001b[33m[W 2022-02-15 21:22:54,764]\u001b[0m Param nn_hidden_layers unique value length is less than 2.\u001b[0m\n",
      "\u001b[33m[W 2022-02-15 21:22:55,197]\u001b[0m Param epsilon_start unique value length is less than 2.\u001b[0m\n",
      "\u001b[33m[W 2022-02-15 21:22:55,631]\u001b[0m Param nn_hidden_layers unique value length is less than 2.\u001b[0m\n",
      "\u001b[33m[W 2022-02-15 21:22:55,906]\u001b[0m Param epsilon_start unique value length is less than 2.\u001b[0m\n",
      "\u001b[33m[W 2022-02-15 21:22:55,965]\u001b[0m Param epsilon_start unique value length is less than 2.\u001b[0m\n",
      "\u001b[33m[W 2022-02-15 21:22:56,029]\u001b[0m Param epsilon_start unique value length is less than 2.\u001b[0m\n",
      "\u001b[33m[W 2022-02-15 21:22:56,133]\u001b[0m Param epsilon_start unique value length is less than 2.\u001b[0m\n",
      "\u001b[33m[W 2022-02-15 21:22:56,194]\u001b[0m Param epsilon_start unique value length is less than 2.\u001b[0m\n",
      "\u001b[33m[W 2022-02-15 21:22:56,247]\u001b[0m Param epsilon_start unique value length is less than 2.\u001b[0m\n",
      "\u001b[33m[W 2022-02-15 21:22:56,325]\u001b[0m Param epsilon_start unique value length is less than 2.\u001b[0m\n",
      "\u001b[33m[W 2022-02-15 21:22:56,381]\u001b[0m Param epsilon_start unique value length is less than 2.\u001b[0m\n",
      "\u001b[33m[W 2022-02-15 21:22:56,432]\u001b[0m Param epsilon_start unique value length is less than 2.\u001b[0m\n",
      "\u001b[33m[W 2022-02-15 21:22:56,483]\u001b[0m Param epsilon_start unique value length is less than 2.\u001b[0m\n",
      "\u001b[33m[W 2022-02-15 21:22:56,536]\u001b[0m Param epsilon_start unique value length is less than 2.\u001b[0m\n",
      "\u001b[33m[W 2022-02-15 21:22:56,610]\u001b[0m Param epsilon_start unique value length is less than 2.\u001b[0m\n",
      "\u001b[33m[W 2022-02-15 21:22:56,687]\u001b[0m Param epsilon_start unique value length is less than 2.\u001b[0m\n",
      "\u001b[33m[W 2022-02-15 21:22:56,745]\u001b[0m Param epsilon_start unique value length is less than 2.\u001b[0m\n",
      "\u001b[33m[W 2022-02-15 21:22:56,979]\u001b[0m Param epsilon_start unique value length is less than 2.\u001b[0m\n",
      "\u001b[33m[W 2022-02-15 21:22:57,438]\u001b[0m Param nn_hidden_layers unique value length is less than 2.\u001b[0m\n",
      "\u001b[33m[W 2022-02-15 21:22:57,849]\u001b[0m Param epsilon_start unique value length is less than 2.\u001b[0m\n",
      "\u001b[33m[W 2022-02-15 21:22:58,317]\u001b[0m Param nn_hidden_layers unique value length is less than 2.\u001b[0m\n",
      "\u001b[33m[W 2022-02-15 21:22:58,828]\u001b[0m Param epsilon_start unique value length is less than 2.\u001b[0m\n",
      "\u001b[33m[W 2022-02-15 21:22:59,574]\u001b[0m Param nn_hidden_layers unique value length is less than 2.\u001b[0m\n",
      "\u001b[33m[W 2022-02-15 21:23:00,279]\u001b[0m Param epsilon_start unique value length is less than 2.\u001b[0m\n",
      "\u001b[33m[W 2022-02-15 21:23:00,800]\u001b[0m Param nn_hidden_layers unique value length is less than 2.\u001b[0m\n",
      "\u001b[33m[W 2022-02-15 21:23:01,199]\u001b[0m Param epsilon_start unique value length is less than 2.\u001b[0m\n",
      "\u001b[33m[W 2022-02-15 21:23:01,625]\u001b[0m Param nn_hidden_layers unique value length is less than 2.\u001b[0m\n",
      "\u001b[33m[W 2022-02-15 21:23:02,040]\u001b[0m Param epsilon_start unique value length is less than 2.\u001b[0m\n",
      "\u001b[33m[W 2022-02-15 21:23:02,413]\u001b[0m Param nn_hidden_layers unique value length is less than 2.\u001b[0m\n",
      "\u001b[33m[W 2022-02-15 21:23:02,811]\u001b[0m Param epsilon_start unique value length is less than 2.\u001b[0m\n",
      "\u001b[33m[W 2022-02-15 21:23:03,229]\u001b[0m Param nn_hidden_layers unique value length is less than 2.\u001b[0m\n",
      "\u001b[33m[W 2022-02-15 21:23:03,475]\u001b[0m Param nn_hidden_layers unique value length is less than 2.\u001b[0m\n",
      "\u001b[33m[W 2022-02-15 21:23:03,534]\u001b[0m Param nn_hidden_layers unique value length is less than 2.\u001b[0m\n",
      "\u001b[33m[W 2022-02-15 21:23:03,592]\u001b[0m Param nn_hidden_layers unique value length is less than 2.\u001b[0m\n",
      "\u001b[33m[W 2022-02-15 21:23:03,653]\u001b[0m Param nn_hidden_layers unique value length is less than 2.\u001b[0m\n",
      "\u001b[33m[W 2022-02-15 21:23:03,711]\u001b[0m Param nn_hidden_layers unique value length is less than 2.\u001b[0m\n",
      "\u001b[33m[W 2022-02-15 21:23:03,772]\u001b[0m Param nn_hidden_layers unique value length is less than 2.\u001b[0m\n",
      "\u001b[33m[W 2022-02-15 21:23:03,832]\u001b[0m Param nn_hidden_layers unique value length is less than 2.\u001b[0m\n",
      "\u001b[33m[W 2022-02-15 21:23:03,908]\u001b[0m Param nn_hidden_layers unique value length is less than 2.\u001b[0m\n",
      "\u001b[33m[W 2022-02-15 21:23:03,965]\u001b[0m Param nn_hidden_layers unique value length is less than 2.\u001b[0m\n",
      "\u001b[33m[W 2022-02-15 21:23:04,028]\u001b[0m Param nn_hidden_layers unique value length is less than 2.\u001b[0m\n",
      "\u001b[33m[W 2022-02-15 21:23:04,086]\u001b[0m Param nn_hidden_layers unique value length is less than 2.\u001b[0m\n",
      "\u001b[33m[W 2022-02-15 21:23:04,296]\u001b[0m Param nn_hidden_layers unique value length is less than 2.\u001b[0m\n",
      "\u001b[33m[W 2022-02-15 21:23:04,382]\u001b[0m Param nn_hidden_layers unique value length is less than 2.\u001b[0m\n",
      "\u001b[33m[W 2022-02-15 21:23:04,460]\u001b[0m Param nn_hidden_layers unique value length is less than 2.\u001b[0m\n",
      "\u001b[33m[W 2022-02-15 21:23:04,733]\u001b[0m Param epsilon_start unique value length is less than 2.\u001b[0m\n",
      "\u001b[33m[W 2022-02-15 21:23:05,226]\u001b[0m Param nn_hidden_layers unique value length is less than 2.\u001b[0m\n",
      "\u001b[33m[W 2022-02-15 21:23:05,693]\u001b[0m Param epsilon_start unique value length is less than 2.\u001b[0m\n",
      "\u001b[33m[W 2022-02-15 21:23:06,079]\u001b[0m Param nn_hidden_layers unique value length is less than 2.\u001b[0m\n",
      "\u001b[33m[W 2022-02-15 21:23:06,423]\u001b[0m Param epsilon_start unique value length is less than 2.\u001b[0m\n",
      "\u001b[33m[W 2022-02-15 21:23:06,811]\u001b[0m Param nn_hidden_layers unique value length is less than 2.\u001b[0m\n"
     ]
    },
    {
     "name": "stdout",
     "output_type": "stream",
     "text": [
      "https://app.neptune.ai/plabartabajo/parametric-q-learning-cart-pole/e/PAR-68\n",
      "Remember to stop your run once you’ve finished logging your metadata (https://docs.neptune.ai/api-reference/run#.stop). It will be stopped automatically only when the notebook kernel/interactive console is terminated.\n",
      "67,586 parameters\n"
     ]
    },
    {
     "name": "stderr",
     "output_type": "stream",
     "text": [
      "100%|██████████████████████████████████████████████████████████████████████████| 500/500 [01:20<00:00,  6.19it/s]\n",
      "100%|███████████████████████████████████████████████████████████████████████| 1000/1000 [00:03<00:00, 266.65it/s]"
     ]
    },
    {
     "name": "stdout",
     "output_type": "stream",
     "text": [
      "Shutting down background jobs, please wait a moment...\n",
      "Done!\n"
     ]
    },
    {
     "name": "stderr",
     "output_type": "stream",
     "text": [
      "\n",
      "Waiting for the remaining 9 operations to synchronize with Neptune. Do not kill this process.\n"
     ]
    },
    {
     "name": "stdout",
     "output_type": "stream",
     "text": [
      "All 9 operations synced, thanks for waiting!\n"
     ]
    },
    {
     "name": "stderr",
     "output_type": "stream",
     "text": [
      "\u001b[32m[I 2022-02-15 21:24:36,267]\u001b[0m Trial 16 finished with value: 20.462 and parameters: {'learning_rate': 0.014449891232633148, 'discount_factor': 0.9, 'batch_size': 16, 'memory_size': 100000, 'freq_steps_train': 8, 'freq_steps_update_target': 10, 'n_steps_warm_up_memory': 5000, 'n_gradient_steps': 16, 'nn_hidden_layers': '[256, 256]', 'max_grad_norm': 1, 'normalize_state': True, 'epsilon_start': 0.9, 'epsilon_end': 0.08797969651510802, 'steps_epsilon_decay': 100000, 'seed': 632667626}. Best is trial 12 with value: 313.91.\u001b[0m\n",
      "\u001b[33m[W 2022-02-15 21:24:45,412]\u001b[0m Param epsilon_start unique value length is less than 2.\u001b[0m\n",
      "\u001b[33m[W 2022-02-15 21:24:45,706]\u001b[0m Param nn_hidden_layers unique value length is less than 2.\u001b[0m\n",
      "\u001b[33m[W 2022-02-15 21:24:45,953]\u001b[0m Param epsilon_start unique value length is less than 2.\u001b[0m\n",
      "\u001b[33m[W 2022-02-15 21:24:46,172]\u001b[0m Param nn_hidden_layers unique value length is less than 2.\u001b[0m\n",
      "\u001b[33m[W 2022-02-15 21:24:46,377]\u001b[0m Param epsilon_start unique value length is less than 2.\u001b[0m\n",
      "\u001b[33m[W 2022-02-15 21:24:46,601]\u001b[0m Param nn_hidden_layers unique value length is less than 2.\u001b[0m\n",
      "\u001b[33m[W 2022-02-15 21:24:46,738]\u001b[0m Param epsilon_start unique value length is less than 2.\u001b[0m\n",
      "\u001b[33m[W 2022-02-15 21:24:46,761]\u001b[0m Param epsilon_start unique value length is less than 2.\u001b[0m\n",
      "\u001b[33m[W 2022-02-15 21:24:46,786]\u001b[0m Param epsilon_start unique value length is less than 2.\u001b[0m\n",
      "\u001b[33m[W 2022-02-15 21:24:46,832]\u001b[0m Param epsilon_start unique value length is less than 2.\u001b[0m\n",
      "\u001b[33m[W 2022-02-15 21:24:46,859]\u001b[0m Param epsilon_start unique value length is less than 2.\u001b[0m\n",
      "\u001b[33m[W 2022-02-15 21:24:46,886]\u001b[0m Param epsilon_start unique value length is less than 2.\u001b[0m\n",
      "\u001b[33m[W 2022-02-15 21:24:46,919]\u001b[0m Param epsilon_start unique value length is less than 2.\u001b[0m\n",
      "\u001b[33m[W 2022-02-15 21:24:46,946]\u001b[0m Param epsilon_start unique value length is less than 2.\u001b[0m\n",
      "\u001b[33m[W 2022-02-15 21:24:46,975]\u001b[0m Param epsilon_start unique value length is less than 2.\u001b[0m\n",
      "\u001b[33m[W 2022-02-15 21:24:46,998]\u001b[0m Param epsilon_start unique value length is less than 2.\u001b[0m\n",
      "\u001b[33m[W 2022-02-15 21:24:47,024]\u001b[0m Param epsilon_start unique value length is less than 2.\u001b[0m\n",
      "\u001b[33m[W 2022-02-15 21:24:47,058]\u001b[0m Param epsilon_start unique value length is less than 2.\u001b[0m\n",
      "\u001b[33m[W 2022-02-15 21:24:47,093]\u001b[0m Param epsilon_start unique value length is less than 2.\u001b[0m\n",
      "\u001b[33m[W 2022-02-15 21:24:47,115]\u001b[0m Param epsilon_start unique value length is less than 2.\u001b[0m\n",
      "\u001b[33m[W 2022-02-15 21:24:47,236]\u001b[0m Param epsilon_start unique value length is less than 2.\u001b[0m\n",
      "\u001b[33m[W 2022-02-15 21:24:47,439]\u001b[0m Param nn_hidden_layers unique value length is less than 2.\u001b[0m\n",
      "\u001b[33m[W 2022-02-15 21:24:47,642]\u001b[0m Param epsilon_start unique value length is less than 2.\u001b[0m\n",
      "\u001b[33m[W 2022-02-15 21:24:47,849]\u001b[0m Param nn_hidden_layers unique value length is less than 2.\u001b[0m\n",
      "\u001b[33m[W 2022-02-15 21:24:48,073]\u001b[0m Param epsilon_start unique value length is less than 2.\u001b[0m\n",
      "\u001b[33m[W 2022-02-15 21:24:48,339]\u001b[0m Param nn_hidden_layers unique value length is less than 2.\u001b[0m\n",
      "\u001b[33m[W 2022-02-15 21:24:48,610]\u001b[0m Param epsilon_start unique value length is less than 2.\u001b[0m\n",
      "\u001b[33m[W 2022-02-15 21:24:48,819]\u001b[0m Param nn_hidden_layers unique value length is less than 2.\u001b[0m\n",
      "\u001b[33m[W 2022-02-15 21:24:49,015]\u001b[0m Param epsilon_start unique value length is less than 2.\u001b[0m\n",
      "\u001b[33m[W 2022-02-15 21:24:49,208]\u001b[0m Param nn_hidden_layers unique value length is less than 2.\u001b[0m\n",
      "\u001b[33m[W 2022-02-15 21:24:49,404]\u001b[0m Param epsilon_start unique value length is less than 2.\u001b[0m\n",
      "\u001b[33m[W 2022-02-15 21:24:49,600]\u001b[0m Param nn_hidden_layers unique value length is less than 2.\u001b[0m\n",
      "\u001b[33m[W 2022-02-15 21:24:49,792]\u001b[0m Param epsilon_start unique value length is less than 2.\u001b[0m\n",
      "\u001b[33m[W 2022-02-15 21:24:49,986]\u001b[0m Param nn_hidden_layers unique value length is less than 2.\u001b[0m\n",
      "\u001b[33m[W 2022-02-15 21:24:50,120]\u001b[0m Param nn_hidden_layers unique value length is less than 2.\u001b[0m\n",
      "\u001b[33m[W 2022-02-15 21:24:50,149]\u001b[0m Param nn_hidden_layers unique value length is less than 2.\u001b[0m\n",
      "\u001b[33m[W 2022-02-15 21:24:50,180]\u001b[0m Param nn_hidden_layers unique value length is less than 2.\u001b[0m\n",
      "\u001b[33m[W 2022-02-15 21:24:50,214]\u001b[0m Param nn_hidden_layers unique value length is less than 2.\u001b[0m\n",
      "\u001b[33m[W 2022-02-15 21:24:50,249]\u001b[0m Param nn_hidden_layers unique value length is less than 2.\u001b[0m\n",
      "\u001b[33m[W 2022-02-15 21:24:50,288]\u001b[0m Param nn_hidden_layers unique value length is less than 2.\u001b[0m\n",
      "\u001b[33m[W 2022-02-15 21:24:50,321]\u001b[0m Param nn_hidden_layers unique value length is less than 2.\u001b[0m\n",
      "\u001b[33m[W 2022-02-15 21:24:50,364]\u001b[0m Param nn_hidden_layers unique value length is less than 2.\u001b[0m\n",
      "\u001b[33m[W 2022-02-15 21:24:50,398]\u001b[0m Param nn_hidden_layers unique value length is less than 2.\u001b[0m\n",
      "\u001b[33m[W 2022-02-15 21:24:50,430]\u001b[0m Param nn_hidden_layers unique value length is less than 2.\u001b[0m\n",
      "\u001b[33m[W 2022-02-15 21:24:50,461]\u001b[0m Param nn_hidden_layers unique value length is less than 2.\u001b[0m\n",
      "\u001b[33m[W 2022-02-15 21:24:50,536]\u001b[0m Param nn_hidden_layers unique value length is less than 2.\u001b[0m\n",
      "\u001b[33m[W 2022-02-15 21:24:50,574]\u001b[0m Param nn_hidden_layers unique value length is less than 2.\u001b[0m\n",
      "\u001b[33m[W 2022-02-15 21:24:50,611]\u001b[0m Param nn_hidden_layers unique value length is less than 2.\u001b[0m\n",
      "\u001b[33m[W 2022-02-15 21:24:50,771]\u001b[0m Param epsilon_start unique value length is less than 2.\u001b[0m\n",
      "\u001b[33m[W 2022-02-15 21:24:51,039]\u001b[0m Param nn_hidden_layers unique value length is less than 2.\u001b[0m\n",
      "\u001b[33m[W 2022-02-15 21:24:51,269]\u001b[0m Param epsilon_start unique value length is less than 2.\u001b[0m\n",
      "\u001b[33m[W 2022-02-15 21:24:51,490]\u001b[0m Param nn_hidden_layers unique value length is less than 2.\u001b[0m\n",
      "\u001b[33m[W 2022-02-15 21:24:51,705]\u001b[0m Param epsilon_start unique value length is less than 2.\u001b[0m\n",
      "\u001b[33m[W 2022-02-15 21:24:51,924]\u001b[0m Param nn_hidden_layers unique value length is less than 2.\u001b[0m\n"
     ]
    },
    {
     "name": "stdout",
     "output_type": "stream",
     "text": [
      "https://app.neptune.ai/plabartabajo/parametric-q-learning-cart-pole/e/PAR-69\n",
      "Remember to stop your run once you’ve finished logging your metadata (https://docs.neptune.ai/api-reference/run#.stop). It will be stopped automatically only when the notebook kernel/interactive console is terminated.\n",
      "67,586 parameters\n"
     ]
    },
    {
     "name": "stderr",
     "output_type": "stream",
     "text": [
      "100%|██████████████████████████████████████████████████████████████████████████| 500/500 [01:04<00:00,  7.72it/s]\n",
      "100%|████████████████████████████████████████████████████████████████████████| 1000/1000 [00:41<00:00, 24.30it/s]"
     ]
    },
    {
     "name": "stdout",
     "output_type": "stream",
     "text": [
      "Shutting down background jobs, please wait a moment...\n",
      "Done!\n"
     ]
    },
    {
     "name": "stderr",
     "output_type": "stream",
     "text": [
      "\n",
      "Waiting for the remaining 14 operations to synchronize with Neptune. Do not kill this process.\n"
     ]
    },
    {
     "name": "stdout",
     "output_type": "stream",
     "text": [
      "All 14 operations synced, thanks for waiting!\n"
     ]
    },
    {
     "name": "stderr",
     "output_type": "stream",
     "text": [
      "\u001b[32m[I 2022-02-15 21:26:40,599]\u001b[0m Trial 17 finished with value: 198.859 and parameters: {'learning_rate': 0.00013896366736865129, 'discount_factor': 0.9, 'batch_size': 16, 'memory_size': 100000, 'freq_steps_train': 8, 'freq_steps_update_target': 100, 'n_steps_warm_up_memory': 5000, 'n_gradient_steps': 16, 'nn_hidden_layers': '[256, 256]', 'max_grad_norm': 100, 'normalize_state': True, 'epsilon_start': 0.9, 'epsilon_end': 0.058464083807100775, 'steps_epsilon_decay': 100000, 'seed': 491240780}. Best is trial 12 with value: 313.91.\u001b[0m\n",
      "\u001b[33m[W 2022-02-15 21:26:49,035]\u001b[0m Param epsilon_start unique value length is less than 2.\u001b[0m\n",
      "\u001b[33m[W 2022-02-15 21:26:49,295]\u001b[0m Param nn_hidden_layers unique value length is less than 2.\u001b[0m\n",
      "\u001b[33m[W 2022-02-15 21:26:49,517]\u001b[0m Param epsilon_start unique value length is less than 2.\u001b[0m\n",
      "\u001b[33m[W 2022-02-15 21:26:49,713]\u001b[0m Param nn_hidden_layers unique value length is less than 2.\u001b[0m\n",
      "\u001b[33m[W 2022-02-15 21:26:49,890]\u001b[0m Param epsilon_start unique value length is less than 2.\u001b[0m\n",
      "\u001b[33m[W 2022-02-15 21:26:50,092]\u001b[0m Param nn_hidden_layers unique value length is less than 2.\u001b[0m\n",
      "\u001b[33m[W 2022-02-15 21:26:50,215]\u001b[0m Param epsilon_start unique value length is less than 2.\u001b[0m\n",
      "\u001b[33m[W 2022-02-15 21:26:50,236]\u001b[0m Param epsilon_start unique value length is less than 2.\u001b[0m\n",
      "\u001b[33m[W 2022-02-15 21:26:50,259]\u001b[0m Param epsilon_start unique value length is less than 2.\u001b[0m\n",
      "\u001b[33m[W 2022-02-15 21:26:50,298]\u001b[0m Param epsilon_start unique value length is less than 2.\u001b[0m\n",
      "\u001b[33m[W 2022-02-15 21:26:50,320]\u001b[0m Param epsilon_start unique value length is less than 2.\u001b[0m\n",
      "\u001b[33m[W 2022-02-15 21:26:50,340]\u001b[0m Param epsilon_start unique value length is less than 2.\u001b[0m\n",
      "\u001b[33m[W 2022-02-15 21:26:50,370]\u001b[0m Param epsilon_start unique value length is less than 2.\u001b[0m\n",
      "\u001b[33m[W 2022-02-15 21:26:50,393]\u001b[0m Param epsilon_start unique value length is less than 2.\u001b[0m\n",
      "\u001b[33m[W 2022-02-15 21:26:50,414]\u001b[0m Param epsilon_start unique value length is less than 2.\u001b[0m\n",
      "\u001b[33m[W 2022-02-15 21:26:50,436]\u001b[0m Param epsilon_start unique value length is less than 2.\u001b[0m\n",
      "\u001b[33m[W 2022-02-15 21:26:50,456]\u001b[0m Param epsilon_start unique value length is less than 2.\u001b[0m\n",
      "\u001b[33m[W 2022-02-15 21:26:50,487]\u001b[0m Param epsilon_start unique value length is less than 2.\u001b[0m\n",
      "\u001b[33m[W 2022-02-15 21:26:50,517]\u001b[0m Param epsilon_start unique value length is less than 2.\u001b[0m\n",
      "\u001b[33m[W 2022-02-15 21:26:50,539]\u001b[0m Param epsilon_start unique value length is less than 2.\u001b[0m\n",
      "\u001b[33m[W 2022-02-15 21:26:50,653]\u001b[0m Param epsilon_start unique value length is less than 2.\u001b[0m\n",
      "\u001b[33m[W 2022-02-15 21:26:50,852]\u001b[0m Param nn_hidden_layers unique value length is less than 2.\u001b[0m\n",
      "\u001b[33m[W 2022-02-15 21:26:51,042]\u001b[0m Param epsilon_start unique value length is less than 2.\u001b[0m\n",
      "\u001b[33m[W 2022-02-15 21:26:51,230]\u001b[0m Param nn_hidden_layers unique value length is less than 2.\u001b[0m\n",
      "\u001b[33m[W 2022-02-15 21:26:51,452]\u001b[0m Param epsilon_start unique value length is less than 2.\u001b[0m\n",
      "\u001b[33m[W 2022-02-15 21:26:51,719]\u001b[0m Param nn_hidden_layers unique value length is less than 2.\u001b[0m\n",
      "\u001b[33m[W 2022-02-15 21:26:51,953]\u001b[0m Param epsilon_start unique value length is less than 2.\u001b[0m\n",
      "\u001b[33m[W 2022-02-15 21:26:52,150]\u001b[0m Param nn_hidden_layers unique value length is less than 2.\u001b[0m\n",
      "\u001b[33m[W 2022-02-15 21:26:52,364]\u001b[0m Param epsilon_start unique value length is less than 2.\u001b[0m\n",
      "\u001b[33m[W 2022-02-15 21:26:52,584]\u001b[0m Param nn_hidden_layers unique value length is less than 2.\u001b[0m\n",
      "\u001b[33m[W 2022-02-15 21:26:52,789]\u001b[0m Param epsilon_start unique value length is less than 2.\u001b[0m\n",
      "\u001b[33m[W 2022-02-15 21:26:52,986]\u001b[0m Param nn_hidden_layers unique value length is less than 2.\u001b[0m\n",
      "\u001b[33m[W 2022-02-15 21:26:53,241]\u001b[0m Param epsilon_start unique value length is less than 2.\u001b[0m\n",
      "\u001b[33m[W 2022-02-15 21:26:53,450]\u001b[0m Param nn_hidden_layers unique value length is less than 2.\u001b[0m\n",
      "\u001b[33m[W 2022-02-15 21:26:53,584]\u001b[0m Param nn_hidden_layers unique value length is less than 2.\u001b[0m\n",
      "\u001b[33m[W 2022-02-15 21:26:53,615]\u001b[0m Param nn_hidden_layers unique value length is less than 2.\u001b[0m\n",
      "\u001b[33m[W 2022-02-15 21:26:53,648]\u001b[0m Param nn_hidden_layers unique value length is less than 2.\u001b[0m\n",
      "\u001b[33m[W 2022-02-15 21:26:53,681]\u001b[0m Param nn_hidden_layers unique value length is less than 2.\u001b[0m\n",
      "\u001b[33m[W 2022-02-15 21:26:53,713]\u001b[0m Param nn_hidden_layers unique value length is less than 2.\u001b[0m\n",
      "\u001b[33m[W 2022-02-15 21:26:53,746]\u001b[0m Param nn_hidden_layers unique value length is less than 2.\u001b[0m\n",
      "\u001b[33m[W 2022-02-15 21:26:53,778]\u001b[0m Param nn_hidden_layers unique value length is less than 2.\u001b[0m\n",
      "\u001b[33m[W 2022-02-15 21:26:53,820]\u001b[0m Param nn_hidden_layers unique value length is less than 2.\u001b[0m\n",
      "\u001b[33m[W 2022-02-15 21:26:53,856]\u001b[0m Param nn_hidden_layers unique value length is less than 2.\u001b[0m\n",
      "\u001b[33m[W 2022-02-15 21:26:53,887]\u001b[0m Param nn_hidden_layers unique value length is less than 2.\u001b[0m\n",
      "\u001b[33m[W 2022-02-15 21:26:53,923]\u001b[0m Param nn_hidden_layers unique value length is less than 2.\u001b[0m\n",
      "\u001b[33m[W 2022-02-15 21:26:53,996]\u001b[0m Param nn_hidden_layers unique value length is less than 2.\u001b[0m\n",
      "\u001b[33m[W 2022-02-15 21:26:54,042]\u001b[0m Param nn_hidden_layers unique value length is less than 2.\u001b[0m\n",
      "\u001b[33m[W 2022-02-15 21:26:54,076]\u001b[0m Param nn_hidden_layers unique value length is less than 2.\u001b[0m\n",
      "\u001b[33m[W 2022-02-15 21:26:54,228]\u001b[0m Param epsilon_start unique value length is less than 2.\u001b[0m\n",
      "\u001b[33m[W 2022-02-15 21:26:54,515]\u001b[0m Param nn_hidden_layers unique value length is less than 2.\u001b[0m\n",
      "\u001b[33m[W 2022-02-15 21:26:54,761]\u001b[0m Param epsilon_start unique value length is less than 2.\u001b[0m\n",
      "\u001b[33m[W 2022-02-15 21:26:54,978]\u001b[0m Param nn_hidden_layers unique value length is less than 2.\u001b[0m\n",
      "\u001b[33m[W 2022-02-15 21:26:55,177]\u001b[0m Param epsilon_start unique value length is less than 2.\u001b[0m\n",
      "\u001b[33m[W 2022-02-15 21:26:55,393]\u001b[0m Param nn_hidden_layers unique value length is less than 2.\u001b[0m\n"
     ]
    },
    {
     "name": "stdout",
     "output_type": "stream",
     "text": [
      "https://app.neptune.ai/plabartabajo/parametric-q-learning-cart-pole/e/PAR-70\n",
      "Remember to stop your run once you’ve finished logging your metadata (https://docs.neptune.ai/api-reference/run#.stop). It will be stopped automatically only when the notebook kernel/interactive console is terminated.\n",
      "67,586 parameters\n"
     ]
    },
    {
     "name": "stderr",
     "output_type": "stream",
     "text": [
      "100%|██████████████████████████████████████████████████████████████████████████| 500/500 [02:32<00:00,  3.27it/s]\n",
      "100%|███████████████████████████████████████████████████████████████████████| 1000/1000 [00:02<00:00, 383.08it/s]"
     ]
    },
    {
     "name": "stdout",
     "output_type": "stream",
     "text": [
      "Shutting down background jobs, please wait a moment...\n",
      "Done!\n"
     ]
    },
    {
     "name": "stderr",
     "output_type": "stream",
     "text": [
      "\n",
      "Waiting for the remaining 38 operations to synchronize with Neptune. Do not kill this process.\n"
     ]
    },
    {
     "name": "stdout",
     "output_type": "stream",
     "text": [
      "All 38 operations synced, thanks for waiting!\n"
     ]
    },
    {
     "name": "stderr",
     "output_type": "stream",
     "text": [
      "\u001b[32m[I 2022-02-15 21:29:34,480]\u001b[0m Trial 18 finished with value: 9.345 and parameters: {'learning_rate': 0.7830068803039612, 'discount_factor': 0.95, 'batch_size': 16, 'memory_size': 50000, 'freq_steps_train': 8, 'freq_steps_update_target': 10, 'n_steps_warm_up_memory': 1000, 'n_gradient_steps': 16, 'nn_hidden_layers': '[256, 256]', 'max_grad_norm': 100, 'normalize_state': True, 'epsilon_start': 0.9, 'epsilon_end': 0.10234002782337318, 'steps_epsilon_decay': 10000, 'seed': 950485593}. Best is trial 12 with value: 313.91.\u001b[0m\n",
      "\u001b[33m[W 2022-02-15 21:29:45,791]\u001b[0m Param epsilon_start unique value length is less than 2.\u001b[0m\n",
      "\u001b[33m[W 2022-02-15 21:29:46,163]\u001b[0m Param nn_hidden_layers unique value length is less than 2.\u001b[0m\n",
      "\u001b[33m[W 2022-02-15 21:29:46,465]\u001b[0m Param epsilon_start unique value length is less than 2.\u001b[0m\n",
      "\u001b[33m[W 2022-02-15 21:29:46,730]\u001b[0m Param nn_hidden_layers unique value length is less than 2.\u001b[0m\n",
      "\u001b[33m[W 2022-02-15 21:29:46,971]\u001b[0m Param epsilon_start unique value length is less than 2.\u001b[0m\n",
      "\u001b[33m[W 2022-02-15 21:29:47,366]\u001b[0m Param nn_hidden_layers unique value length is less than 2.\u001b[0m\n",
      "\u001b[33m[W 2022-02-15 21:29:47,595]\u001b[0m Param epsilon_start unique value length is less than 2.\u001b[0m\n",
      "\u001b[33m[W 2022-02-15 21:29:47,641]\u001b[0m Param epsilon_start unique value length is less than 2.\u001b[0m\n",
      "\u001b[33m[W 2022-02-15 21:29:47,699]\u001b[0m Param epsilon_start unique value length is less than 2.\u001b[0m\n",
      "\u001b[33m[W 2022-02-15 21:29:47,834]\u001b[0m Param epsilon_start unique value length is less than 2.\u001b[0m\n",
      "\u001b[33m[W 2022-02-15 21:29:47,901]\u001b[0m Param epsilon_start unique value length is less than 2.\u001b[0m\n",
      "\u001b[33m[W 2022-02-15 21:29:47,946]\u001b[0m Param epsilon_start unique value length is less than 2.\u001b[0m\n",
      "\u001b[33m[W 2022-02-15 21:29:48,003]\u001b[0m Param epsilon_start unique value length is less than 2.\u001b[0m\n",
      "\u001b[33m[W 2022-02-15 21:29:48,034]\u001b[0m Param epsilon_start unique value length is less than 2.\u001b[0m\n",
      "\u001b[33m[W 2022-02-15 21:29:48,066]\u001b[0m Param epsilon_start unique value length is less than 2.\u001b[0m\n",
      "\u001b[33m[W 2022-02-15 21:29:48,104]\u001b[0m Param epsilon_start unique value length is less than 2.\u001b[0m\n",
      "\u001b[33m[W 2022-02-15 21:29:48,138]\u001b[0m Param epsilon_start unique value length is less than 2.\u001b[0m\n",
      "\u001b[33m[W 2022-02-15 21:29:48,184]\u001b[0m Param epsilon_start unique value length is less than 2.\u001b[0m\n",
      "\u001b[33m[W 2022-02-15 21:29:48,241]\u001b[0m Param epsilon_start unique value length is less than 2.\u001b[0m\n",
      "\u001b[33m[W 2022-02-15 21:29:48,285]\u001b[0m Param epsilon_start unique value length is less than 2.\u001b[0m\n",
      "\u001b[33m[W 2022-02-15 21:29:48,443]\u001b[0m Param epsilon_start unique value length is less than 2.\u001b[0m\n",
      "\u001b[33m[W 2022-02-15 21:29:48,712]\u001b[0m Param nn_hidden_layers unique value length is less than 2.\u001b[0m\n",
      "\u001b[33m[W 2022-02-15 21:29:48,981]\u001b[0m Param epsilon_start unique value length is less than 2.\u001b[0m\n",
      "\u001b[33m[W 2022-02-15 21:29:49,241]\u001b[0m Param nn_hidden_layers unique value length is less than 2.\u001b[0m\n",
      "\u001b[33m[W 2022-02-15 21:29:49,569]\u001b[0m Param epsilon_start unique value length is less than 2.\u001b[0m\n",
      "\u001b[33m[W 2022-02-15 21:29:49,951]\u001b[0m Param nn_hidden_layers unique value length is less than 2.\u001b[0m\n",
      "\u001b[33m[W 2022-02-15 21:29:50,286]\u001b[0m Param epsilon_start unique value length is less than 2.\u001b[0m\n",
      "\u001b[33m[W 2022-02-15 21:29:50,605]\u001b[0m Param nn_hidden_layers unique value length is less than 2.\u001b[0m\n",
      "\u001b[33m[W 2022-02-15 21:29:50,883]\u001b[0m Param epsilon_start unique value length is less than 2.\u001b[0m\n",
      "\u001b[33m[W 2022-02-15 21:29:51,151]\u001b[0m Param nn_hidden_layers unique value length is less than 2.\u001b[0m\n",
      "\u001b[33m[W 2022-02-15 21:29:51,421]\u001b[0m Param epsilon_start unique value length is less than 2.\u001b[0m\n",
      "\u001b[33m[W 2022-02-15 21:29:51,686]\u001b[0m Param nn_hidden_layers unique value length is less than 2.\u001b[0m\n",
      "\u001b[33m[W 2022-02-15 21:29:51,961]\u001b[0m Param epsilon_start unique value length is less than 2.\u001b[0m\n",
      "\u001b[33m[W 2022-02-15 21:29:52,225]\u001b[0m Param nn_hidden_layers unique value length is less than 2.\u001b[0m\n",
      "\u001b[33m[W 2022-02-15 21:29:52,413]\u001b[0m Param nn_hidden_layers unique value length is less than 2.\u001b[0m\n",
      "\u001b[33m[W 2022-02-15 21:29:52,457]\u001b[0m Param nn_hidden_layers unique value length is less than 2.\u001b[0m\n",
      "\u001b[33m[W 2022-02-15 21:29:52,510]\u001b[0m Param nn_hidden_layers unique value length is less than 2.\u001b[0m\n",
      "\u001b[33m[W 2022-02-15 21:29:52,551]\u001b[0m Param nn_hidden_layers unique value length is less than 2.\u001b[0m\n",
      "\u001b[33m[W 2022-02-15 21:29:52,595]\u001b[0m Param nn_hidden_layers unique value length is less than 2.\u001b[0m\n",
      "\u001b[33m[W 2022-02-15 21:29:52,641]\u001b[0m Param nn_hidden_layers unique value length is less than 2.\u001b[0m\n",
      "\u001b[33m[W 2022-02-15 21:29:52,693]\u001b[0m Param nn_hidden_layers unique value length is less than 2.\u001b[0m\n",
      "\u001b[33m[W 2022-02-15 21:29:52,755]\u001b[0m Param nn_hidden_layers unique value length is less than 2.\u001b[0m\n",
      "\u001b[33m[W 2022-02-15 21:29:52,799]\u001b[0m Param nn_hidden_layers unique value length is less than 2.\u001b[0m\n",
      "\u001b[33m[W 2022-02-15 21:29:52,846]\u001b[0m Param nn_hidden_layers unique value length is less than 2.\u001b[0m\n",
      "\u001b[33m[W 2022-02-15 21:29:52,890]\u001b[0m Param nn_hidden_layers unique value length is less than 2.\u001b[0m\n",
      "\u001b[33m[W 2022-02-15 21:29:52,989]\u001b[0m Param nn_hidden_layers unique value length is less than 2.\u001b[0m\n",
      "\u001b[33m[W 2022-02-15 21:29:53,046]\u001b[0m Param nn_hidden_layers unique value length is less than 2.\u001b[0m\n",
      "\u001b[33m[W 2022-02-15 21:29:53,090]\u001b[0m Param nn_hidden_layers unique value length is less than 2.\u001b[0m\n",
      "\u001b[33m[W 2022-02-15 21:29:53,290]\u001b[0m Param epsilon_start unique value length is less than 2.\u001b[0m\n",
      "\u001b[33m[W 2022-02-15 21:29:53,660]\u001b[0m Param nn_hidden_layers unique value length is less than 2.\u001b[0m\n",
      "\u001b[33m[W 2022-02-15 21:29:54,010]\u001b[0m Param epsilon_start unique value length is less than 2.\u001b[0m\n",
      "\u001b[33m[W 2022-02-15 21:29:54,404]\u001b[0m Param nn_hidden_layers unique value length is less than 2.\u001b[0m\n",
      "\u001b[33m[W 2022-02-15 21:29:54,755]\u001b[0m Param epsilon_start unique value length is less than 2.\u001b[0m\n",
      "\u001b[33m[W 2022-02-15 21:29:55,042]\u001b[0m Param nn_hidden_layers unique value length is less than 2.\u001b[0m\n"
     ]
    },
    {
     "name": "stdout",
     "output_type": "stream",
     "text": [
      "https://app.neptune.ai/plabartabajo/parametric-q-learning-cart-pole/e/PAR-71\n",
      "Remember to stop your run once you’ve finished logging your metadata (https://docs.neptune.ai/api-reference/run#.stop). It will be stopped automatically only when the notebook kernel/interactive console is terminated.\n",
      "67,586 parameters\n"
     ]
    },
    {
     "name": "stderr",
     "output_type": "stream",
     "text": [
      "100%|█████████████████████████████████████████████████████████████████████████| 500/500 [00:03<00:00, 146.61it/s]\n",
      "100%|███████████████████████████████████████████████████████████████████████| 1000/1000 [00:05<00:00, 191.78it/s]"
     ]
    },
    {
     "name": "stdout",
     "output_type": "stream",
     "text": [
      "Shutting down background jobs, please wait a moment...\n"
     ]
    },
    {
     "name": "stderr",
     "output_type": "stream",
     "text": [
      "\n"
     ]
    },
    {
     "name": "stdout",
     "output_type": "stream",
     "text": [
      "Done!\n"
     ]
    },
    {
     "name": "stderr",
     "output_type": "stream",
     "text": [
      "Waiting for the remaining 86 operations to synchronize with Neptune. Do not kill this process.\n"
     ]
    },
    {
     "name": "stdout",
     "output_type": "stream",
     "text": [
      "All 86 operations synced, thanks for waiting!\n"
     ]
    },
    {
     "name": "stderr",
     "output_type": "stream",
     "text": [
      "\u001b[32m[I 2022-02-15 21:30:08,828]\u001b[0m Trial 19 finished with value: 10.886 and parameters: {'learning_rate': 0.0015101527728955224, 'discount_factor': 0.99, 'batch_size': 32, 'memory_size': 100000, 'freq_steps_train': 16, 'freq_steps_update_target': 10, 'n_steps_warm_up_memory': 5000, 'n_gradient_steps': 4, 'nn_hidden_layers': '[256, 256]', 'max_grad_norm': 1, 'normalize_state': True, 'epsilon_start': 0.9, 'epsilon_end': 0.10565219537878576, 'steps_epsilon_decay': 1000, 'seed': 614433385}. Best is trial 12 with value: 313.91.\u001b[0m\n",
      "\u001b[33m[W 2022-02-15 21:30:25,584]\u001b[0m Param epsilon_start unique value length is less than 2.\u001b[0m\n",
      "\u001b[33m[W 2022-02-15 21:30:26,022]\u001b[0m Param nn_hidden_layers unique value length is less than 2.\u001b[0m\n",
      "\u001b[33m[W 2022-02-15 21:30:26,392]\u001b[0m Param epsilon_start unique value length is less than 2.\u001b[0m\n",
      "\u001b[33m[W 2022-02-15 21:30:26,709]\u001b[0m Param nn_hidden_layers unique value length is less than 2.\u001b[0m\n",
      "\u001b[33m[W 2022-02-15 21:30:27,059]\u001b[0m Param epsilon_start unique value length is less than 2.\u001b[0m\n",
      "\u001b[33m[W 2022-02-15 21:30:27,391]\u001b[0m Param nn_hidden_layers unique value length is less than 2.\u001b[0m\n",
      "\u001b[33m[W 2022-02-15 21:30:27,581]\u001b[0m Param epsilon_start unique value length is less than 2.\u001b[0m\n",
      "\u001b[33m[W 2022-02-15 21:30:27,615]\u001b[0m Param epsilon_start unique value length is less than 2.\u001b[0m\n",
      "\u001b[33m[W 2022-02-15 21:30:27,655]\u001b[0m Param epsilon_start unique value length is less than 2.\u001b[0m\n",
      "\u001b[33m[W 2022-02-15 21:30:27,724]\u001b[0m Param epsilon_start unique value length is less than 2.\u001b[0m\n",
      "\u001b[33m[W 2022-02-15 21:30:27,758]\u001b[0m Param epsilon_start unique value length is less than 2.\u001b[0m\n",
      "\u001b[33m[W 2022-02-15 21:30:27,794]\u001b[0m Param epsilon_start unique value length is less than 2.\u001b[0m\n",
      "\u001b[33m[W 2022-02-15 21:30:27,858]\u001b[0m Param epsilon_start unique value length is less than 2.\u001b[0m\n",
      "\u001b[33m[W 2022-02-15 21:30:27,891]\u001b[0m Param epsilon_start unique value length is less than 2.\u001b[0m\n",
      "\u001b[33m[W 2022-02-15 21:30:27,924]\u001b[0m Param epsilon_start unique value length is less than 2.\u001b[0m\n",
      "\u001b[33m[W 2022-02-15 21:30:27,956]\u001b[0m Param epsilon_start unique value length is less than 2.\u001b[0m\n",
      "\u001b[33m[W 2022-02-15 21:30:27,989]\u001b[0m Param epsilon_start unique value length is less than 2.\u001b[0m\n",
      "\u001b[33m[W 2022-02-15 21:30:28,033]\u001b[0m Param epsilon_start unique value length is less than 2.\u001b[0m\n",
      "\u001b[33m[W 2022-02-15 21:30:28,077]\u001b[0m Param epsilon_start unique value length is less than 2.\u001b[0m\n",
      "\u001b[33m[W 2022-02-15 21:30:28,108]\u001b[0m Param epsilon_start unique value length is less than 2.\u001b[0m\n",
      "\u001b[33m[W 2022-02-15 21:30:28,267]\u001b[0m Param epsilon_start unique value length is less than 2.\u001b[0m\n",
      "\u001b[33m[W 2022-02-15 21:30:28,611]\u001b[0m Param nn_hidden_layers unique value length is less than 2.\u001b[0m\n",
      "\u001b[33m[W 2022-02-15 21:30:28,902]\u001b[0m Param epsilon_start unique value length is less than 2.\u001b[0m\n",
      "\u001b[33m[W 2022-02-15 21:30:29,237]\u001b[0m Param nn_hidden_layers unique value length is less than 2.\u001b[0m\n",
      "\u001b[33m[W 2022-02-15 21:30:29,565]\u001b[0m Param epsilon_start unique value length is less than 2.\u001b[0m\n",
      "\u001b[33m[W 2022-02-15 21:30:29,999]\u001b[0m Param nn_hidden_layers unique value length is less than 2.\u001b[0m\n",
      "\u001b[33m[W 2022-02-15 21:30:30,366]\u001b[0m Param epsilon_start unique value length is less than 2.\u001b[0m\n",
      "\u001b[33m[W 2022-02-15 21:30:30,666]\u001b[0m Param nn_hidden_layers unique value length is less than 2.\u001b[0m\n",
      "\u001b[33m[W 2022-02-15 21:30:30,960]\u001b[0m Param epsilon_start unique value length is less than 2.\u001b[0m\n",
      "\u001b[33m[W 2022-02-15 21:30:31,280]\u001b[0m Param nn_hidden_layers unique value length is less than 2.\u001b[0m\n",
      "\u001b[33m[W 2022-02-15 21:30:31,584]\u001b[0m Param epsilon_start unique value length is less than 2.\u001b[0m\n",
      "\u001b[33m[W 2022-02-15 21:30:31,892]\u001b[0m Param nn_hidden_layers unique value length is less than 2.\u001b[0m\n",
      "\u001b[33m[W 2022-02-15 21:30:32,197]\u001b[0m Param epsilon_start unique value length is less than 2.\u001b[0m\n",
      "\u001b[33m[W 2022-02-15 21:30:32,507]\u001b[0m Param nn_hidden_layers unique value length is less than 2.\u001b[0m\n",
      "\u001b[33m[W 2022-02-15 21:30:32,700]\u001b[0m Param nn_hidden_layers unique value length is less than 2.\u001b[0m\n",
      "\u001b[33m[W 2022-02-15 21:30:32,748]\u001b[0m Param nn_hidden_layers unique value length is less than 2.\u001b[0m\n",
      "\u001b[33m[W 2022-02-15 21:30:32,798]\u001b[0m Param nn_hidden_layers unique value length is less than 2.\u001b[0m\n",
      "\u001b[33m[W 2022-02-15 21:30:32,846]\u001b[0m Param nn_hidden_layers unique value length is less than 2.\u001b[0m\n",
      "\u001b[33m[W 2022-02-15 21:30:32,910]\u001b[0m Param nn_hidden_layers unique value length is less than 2.\u001b[0m\n",
      "\u001b[33m[W 2022-02-15 21:30:32,970]\u001b[0m Param nn_hidden_layers unique value length is less than 2.\u001b[0m\n",
      "\u001b[33m[W 2022-02-15 21:30:33,020]\u001b[0m Param nn_hidden_layers unique value length is less than 2.\u001b[0m\n",
      "\u001b[33m[W 2022-02-15 21:30:33,093]\u001b[0m Param nn_hidden_layers unique value length is less than 2.\u001b[0m\n",
      "\u001b[33m[W 2022-02-15 21:30:33,150]\u001b[0m Param nn_hidden_layers unique value length is less than 2.\u001b[0m\n",
      "\u001b[33m[W 2022-02-15 21:30:33,217]\u001b[0m Param nn_hidden_layers unique value length is less than 2.\u001b[0m\n",
      "\u001b[33m[W 2022-02-15 21:30:33,279]\u001b[0m Param nn_hidden_layers unique value length is less than 2.\u001b[0m\n",
      "\u001b[33m[W 2022-02-15 21:30:33,403]\u001b[0m Param nn_hidden_layers unique value length is less than 2.\u001b[0m\n",
      "\u001b[33m[W 2022-02-15 21:30:33,481]\u001b[0m Param nn_hidden_layers unique value length is less than 2.\u001b[0m\n",
      "\u001b[33m[W 2022-02-15 21:30:33,548]\u001b[0m Param nn_hidden_layers unique value length is less than 2.\u001b[0m\n",
      "\u001b[33m[W 2022-02-15 21:30:33,807]\u001b[0m Param epsilon_start unique value length is less than 2.\u001b[0m\n",
      "\u001b[33m[W 2022-02-15 21:30:34,277]\u001b[0m Param nn_hidden_layers unique value length is less than 2.\u001b[0m\n",
      "\u001b[33m[W 2022-02-15 21:30:34,730]\u001b[0m Param epsilon_start unique value length is less than 2.\u001b[0m\n",
      "\u001b[33m[W 2022-02-15 21:30:35,099]\u001b[0m Param nn_hidden_layers unique value length is less than 2.\u001b[0m\n",
      "\u001b[33m[W 2022-02-15 21:30:35,418]\u001b[0m Param epsilon_start unique value length is less than 2.\u001b[0m\n",
      "\u001b[33m[W 2022-02-15 21:30:35,756]\u001b[0m Param nn_hidden_layers unique value length is less than 2.\u001b[0m\n"
     ]
    },
    {
     "name": "stdout",
     "output_type": "stream",
     "text": [
      "https://app.neptune.ai/plabartabajo/parametric-q-learning-cart-pole/e/PAR-72\n",
      "Remember to stop your run once you’ve finished logging your metadata (https://docs.neptune.ai/api-reference/run#.stop). It will be stopped automatically only when the notebook kernel/interactive console is terminated.\n",
      "67,586 parameters\n"
     ]
    },
    {
     "name": "stderr",
     "output_type": "stream",
     "text": [
      "100%|██████████████████████████████████████████████████████████████████████████| 500/500 [01:56<00:00,  4.28it/s]\n",
      "100%|████████████████████████████████████████████████████████████████████████| 1000/1000 [00:32<00:00, 30.64it/s]"
     ]
    },
    {
     "name": "stdout",
     "output_type": "stream",
     "text": [
      "Shutting down background jobs, please wait a moment...\n",
      "Done!\n"
     ]
    },
    {
     "name": "stderr",
     "output_type": "stream",
     "text": [
      "\n",
      "Waiting for the remaining 13 operations to synchronize with Neptune. Do not kill this process.\n"
     ]
    },
    {
     "name": "stdout",
     "output_type": "stream",
     "text": [
      "All 13 operations synced, thanks for waiting!\n"
     ]
    },
    {
     "name": "stderr",
     "output_type": "stream",
     "text": [
      "\u001b[32m[I 2022-02-15 21:33:08,764]\u001b[0m Trial 20 finished with value: 159.474 and parameters: {'learning_rate': 0.024084230055697407, 'discount_factor': 0.9, 'batch_size': 16, 'memory_size': 100000, 'freq_steps_train': 8, 'freq_steps_update_target': 10, 'n_steps_warm_up_memory': 5000, 'n_gradient_steps': 16, 'nn_hidden_layers': '[256, 256]', 'max_grad_norm': 100, 'normalize_state': True, 'epsilon_start': 0.9, 'epsilon_end': 0.1494298475072165, 'steps_epsilon_decay': 100000, 'seed': 790887014}. Best is trial 12 with value: 313.91.\u001b[0m\n",
      "\u001b[33m[W 2022-02-15 21:33:18,847]\u001b[0m Param epsilon_start unique value length is less than 2.\u001b[0m\n",
      "\u001b[33m[W 2022-02-15 21:33:19,120]\u001b[0m Param nn_hidden_layers unique value length is less than 2.\u001b[0m\n",
      "\u001b[33m[W 2022-02-15 21:33:19,347]\u001b[0m Param epsilon_start unique value length is less than 2.\u001b[0m\n",
      "\u001b[33m[W 2022-02-15 21:33:19,557]\u001b[0m Param nn_hidden_layers unique value length is less than 2.\u001b[0m\n",
      "\u001b[33m[W 2022-02-15 21:33:19,766]\u001b[0m Param epsilon_start unique value length is less than 2.\u001b[0m\n",
      "\u001b[33m[W 2022-02-15 21:33:19,988]\u001b[0m Param nn_hidden_layers unique value length is less than 2.\u001b[0m\n",
      "\u001b[33m[W 2022-02-15 21:33:20,126]\u001b[0m Param epsilon_start unique value length is less than 2.\u001b[0m\n",
      "\u001b[33m[W 2022-02-15 21:33:20,147]\u001b[0m Param epsilon_start unique value length is less than 2.\u001b[0m\n",
      "\u001b[33m[W 2022-02-15 21:33:20,170]\u001b[0m Param epsilon_start unique value length is less than 2.\u001b[0m\n",
      "\u001b[33m[W 2022-02-15 21:33:20,215]\u001b[0m Param epsilon_start unique value length is less than 2.\u001b[0m\n",
      "\u001b[33m[W 2022-02-15 21:33:20,239]\u001b[0m Param epsilon_start unique value length is less than 2.\u001b[0m\n",
      "\u001b[33m[W 2022-02-15 21:33:20,263]\u001b[0m Param epsilon_start unique value length is less than 2.\u001b[0m\n",
      "\u001b[33m[W 2022-02-15 21:33:20,296]\u001b[0m Param epsilon_start unique value length is less than 2.\u001b[0m\n",
      "\u001b[33m[W 2022-02-15 21:33:20,318]\u001b[0m Param epsilon_start unique value length is less than 2.\u001b[0m\n",
      "\u001b[33m[W 2022-02-15 21:33:20,344]\u001b[0m Param epsilon_start unique value length is less than 2.\u001b[0m\n",
      "\u001b[33m[W 2022-02-15 21:33:20,373]\u001b[0m Param epsilon_start unique value length is less than 2.\u001b[0m\n",
      "\u001b[33m[W 2022-02-15 21:33:20,396]\u001b[0m Param epsilon_start unique value length is less than 2.\u001b[0m\n",
      "\u001b[33m[W 2022-02-15 21:33:20,427]\u001b[0m Param epsilon_start unique value length is less than 2.\u001b[0m\n",
      "\u001b[33m[W 2022-02-15 21:33:20,459]\u001b[0m Param epsilon_start unique value length is less than 2.\u001b[0m\n",
      "\u001b[33m[W 2022-02-15 21:33:20,480]\u001b[0m Param epsilon_start unique value length is less than 2.\u001b[0m\n",
      "\u001b[33m[W 2022-02-15 21:33:20,592]\u001b[0m Param epsilon_start unique value length is less than 2.\u001b[0m\n",
      "\u001b[33m[W 2022-02-15 21:33:20,811]\u001b[0m Param nn_hidden_layers unique value length is less than 2.\u001b[0m\n",
      "\u001b[33m[W 2022-02-15 21:33:21,012]\u001b[0m Param epsilon_start unique value length is less than 2.\u001b[0m\n",
      "\u001b[33m[W 2022-02-15 21:33:21,215]\u001b[0m Param nn_hidden_layers unique value length is less than 2.\u001b[0m\n",
      "\u001b[33m[W 2022-02-15 21:33:21,460]\u001b[0m Param epsilon_start unique value length is less than 2.\u001b[0m\n",
      "\u001b[33m[W 2022-02-15 21:33:21,747]\u001b[0m Param nn_hidden_layers unique value length is less than 2.\u001b[0m\n",
      "\u001b[33m[W 2022-02-15 21:33:21,998]\u001b[0m Param epsilon_start unique value length is less than 2.\u001b[0m\n",
      "\u001b[33m[W 2022-02-15 21:33:22,209]\u001b[0m Param nn_hidden_layers unique value length is less than 2.\u001b[0m\n",
      "\u001b[33m[W 2022-02-15 21:33:22,419]\u001b[0m Param epsilon_start unique value length is less than 2.\u001b[0m\n",
      "\u001b[33m[W 2022-02-15 21:33:22,611]\u001b[0m Param nn_hidden_layers unique value length is less than 2.\u001b[0m\n",
      "\u001b[33m[W 2022-02-15 21:33:22,859]\u001b[0m Param epsilon_start unique value length is less than 2.\u001b[0m\n",
      "\u001b[33m[W 2022-02-15 21:33:23,086]\u001b[0m Param nn_hidden_layers unique value length is less than 2.\u001b[0m\n",
      "\u001b[33m[W 2022-02-15 21:33:23,283]\u001b[0m Param epsilon_start unique value length is less than 2.\u001b[0m\n",
      "\u001b[33m[W 2022-02-15 21:33:23,486]\u001b[0m Param nn_hidden_layers unique value length is less than 2.\u001b[0m\n",
      "\u001b[33m[W 2022-02-15 21:33:23,607]\u001b[0m Param nn_hidden_layers unique value length is less than 2.\u001b[0m\n",
      "\u001b[33m[W 2022-02-15 21:33:23,636]\u001b[0m Param nn_hidden_layers unique value length is less than 2.\u001b[0m\n",
      "\u001b[33m[W 2022-02-15 21:33:23,667]\u001b[0m Param nn_hidden_layers unique value length is less than 2.\u001b[0m\n",
      "\u001b[33m[W 2022-02-15 21:33:23,699]\u001b[0m Param nn_hidden_layers unique value length is less than 2.\u001b[0m\n",
      "\u001b[33m[W 2022-02-15 21:33:23,731]\u001b[0m Param nn_hidden_layers unique value length is less than 2.\u001b[0m\n",
      "\u001b[33m[W 2022-02-15 21:33:23,763]\u001b[0m Param nn_hidden_layers unique value length is less than 2.\u001b[0m\n",
      "\u001b[33m[W 2022-02-15 21:33:23,826]\u001b[0m Param nn_hidden_layers unique value length is less than 2.\u001b[0m\n",
      "\u001b[33m[W 2022-02-15 21:33:23,928]\u001b[0m Param nn_hidden_layers unique value length is less than 2.\u001b[0m\n",
      "\u001b[33m[W 2022-02-15 21:33:23,973]\u001b[0m Param nn_hidden_layers unique value length is less than 2.\u001b[0m\n",
      "\u001b[33m[W 2022-02-15 21:33:24,004]\u001b[0m Param nn_hidden_layers unique value length is less than 2.\u001b[0m\n",
      "\u001b[33m[W 2022-02-15 21:33:24,039]\u001b[0m Param nn_hidden_layers unique value length is less than 2.\u001b[0m\n",
      "\u001b[33m[W 2022-02-15 21:33:24,120]\u001b[0m Param nn_hidden_layers unique value length is less than 2.\u001b[0m\n",
      "\u001b[33m[W 2022-02-15 21:33:24,160]\u001b[0m Param nn_hidden_layers unique value length is less than 2.\u001b[0m\n",
      "\u001b[33m[W 2022-02-15 21:33:24,205]\u001b[0m Param nn_hidden_layers unique value length is less than 2.\u001b[0m\n",
      "\u001b[33m[W 2022-02-15 21:33:24,460]\u001b[0m Param epsilon_start unique value length is less than 2.\u001b[0m\n",
      "\u001b[33m[W 2022-02-15 21:33:24,942]\u001b[0m Param nn_hidden_layers unique value length is less than 2.\u001b[0m\n",
      "\u001b[33m[W 2022-02-15 21:33:25,296]\u001b[0m Param epsilon_start unique value length is less than 2.\u001b[0m\n",
      "\u001b[33m[W 2022-02-15 21:33:25,587]\u001b[0m Param nn_hidden_layers unique value length is less than 2.\u001b[0m\n",
      "\u001b[33m[W 2022-02-15 21:33:25,860]\u001b[0m Param epsilon_start unique value length is less than 2.\u001b[0m\n",
      "\u001b[33m[W 2022-02-15 21:33:26,379]\u001b[0m Param nn_hidden_layers unique value length is less than 2.\u001b[0m\n"
     ]
    },
    {
     "name": "stdout",
     "output_type": "stream",
     "text": [
      "https://app.neptune.ai/plabartabajo/parametric-q-learning-cart-pole/e/PAR-73\n",
      "Remember to stop your run once you’ve finished logging your metadata (https://docs.neptune.ai/api-reference/run#.stop). It will be stopped automatically only when the notebook kernel/interactive console is terminated.\n",
      "67,586 parameters\n"
     ]
    },
    {
     "name": "stderr",
     "output_type": "stream",
     "text": [
      "100%|██████████████████████████████████████████████████████████████████████████| 500/500 [01:35<00:00,  5.22it/s]\n",
      "100%|████████████████████████████████████████████████████████████████████████| 1000/1000 [01:34<00:00, 10.55it/s]"
     ]
    },
    {
     "name": "stdout",
     "output_type": "stream",
     "text": [
      "Shutting down background jobs, please wait a moment...\n",
      "Done!\n"
     ]
    },
    {
     "name": "stderr",
     "output_type": "stream",
     "text": [
      "\n",
      "Waiting for the remaining 14 operations to synchronize with Neptune. Do not kill this process.\n"
     ]
    },
    {
     "name": "stdout",
     "output_type": "stream",
     "text": [
      "All 14 operations synced, thanks for waiting!\n"
     ]
    },
    {
     "name": "stderr",
     "output_type": "stream",
     "text": [
      "\u001b[32m[I 2022-02-15 21:36:41,520]\u001b[0m Trial 21 finished with value: 233.736 and parameters: {'learning_rate': 0.00014510654705785056, 'discount_factor': 0.9, 'batch_size': 16, 'memory_size': 100000, 'freq_steps_train': 8, 'freq_steps_update_target': 100, 'n_steps_warm_up_memory': 5000, 'n_gradient_steps': 16, 'nn_hidden_layers': '[256, 256]', 'max_grad_norm': 100, 'normalize_state': True, 'epsilon_start': 0.9, 'epsilon_end': 0.0584730262604114, 'steps_epsilon_decay': 100000, 'seed': 474634611}. Best is trial 12 with value: 313.91.\u001b[0m\n",
      "\u001b[33m[W 2022-02-15 21:36:57,124]\u001b[0m Param epsilon_start unique value length is less than 2.\u001b[0m\n",
      "\u001b[33m[W 2022-02-15 21:36:57,487]\u001b[0m Param nn_hidden_layers unique value length is less than 2.\u001b[0m\n",
      "\u001b[33m[W 2022-02-15 21:36:57,794]\u001b[0m Param epsilon_start unique value length is less than 2.\u001b[0m\n",
      "\u001b[33m[W 2022-02-15 21:36:58,063]\u001b[0m Param nn_hidden_layers unique value length is less than 2.\u001b[0m\n",
      "\u001b[33m[W 2022-02-15 21:36:58,353]\u001b[0m Param epsilon_start unique value length is less than 2.\u001b[0m\n",
      "\u001b[33m[W 2022-02-15 21:36:58,619]\u001b[0m Param nn_hidden_layers unique value length is less than 2.\u001b[0m\n",
      "\u001b[33m[W 2022-02-15 21:36:58,868]\u001b[0m Param epsilon_start unique value length is less than 2.\u001b[0m\n",
      "\u001b[33m[W 2022-02-15 21:36:58,907]\u001b[0m Param epsilon_start unique value length is less than 2.\u001b[0m\n",
      "\u001b[33m[W 2022-02-15 21:36:58,946]\u001b[0m Param epsilon_start unique value length is less than 2.\u001b[0m\n",
      "\u001b[33m[W 2022-02-15 21:36:59,009]\u001b[0m Param epsilon_start unique value length is less than 2.\u001b[0m\n",
      "\u001b[33m[W 2022-02-15 21:36:59,041]\u001b[0m Param epsilon_start unique value length is less than 2.\u001b[0m\n",
      "\u001b[33m[W 2022-02-15 21:36:59,072]\u001b[0m Param epsilon_start unique value length is less than 2.\u001b[0m\n",
      "\u001b[33m[W 2022-02-15 21:36:59,127]\u001b[0m Param epsilon_start unique value length is less than 2.\u001b[0m\n",
      "\u001b[33m[W 2022-02-15 21:36:59,166]\u001b[0m Param epsilon_start unique value length is less than 2.\u001b[0m\n",
      "\u001b[33m[W 2022-02-15 21:36:59,198]\u001b[0m Param epsilon_start unique value length is less than 2.\u001b[0m\n",
      "\u001b[33m[W 2022-02-15 21:36:59,227]\u001b[0m Param epsilon_start unique value length is less than 2.\u001b[0m\n",
      "\u001b[33m[W 2022-02-15 21:36:59,266]\u001b[0m Param epsilon_start unique value length is less than 2.\u001b[0m\n",
      "\u001b[33m[W 2022-02-15 21:36:59,305]\u001b[0m Param epsilon_start unique value length is less than 2.\u001b[0m\n",
      "\u001b[33m[W 2022-02-15 21:36:59,345]\u001b[0m Param epsilon_start unique value length is less than 2.\u001b[0m\n",
      "\u001b[33m[W 2022-02-15 21:36:59,372]\u001b[0m Param epsilon_start unique value length is less than 2.\u001b[0m\n",
      "\u001b[33m[W 2022-02-15 21:36:59,510]\u001b[0m Param epsilon_start unique value length is less than 2.\u001b[0m\n",
      "\u001b[33m[W 2022-02-15 21:36:59,756]\u001b[0m Param nn_hidden_layers unique value length is less than 2.\u001b[0m\n",
      "\u001b[33m[W 2022-02-15 21:37:00,027]\u001b[0m Param epsilon_start unique value length is less than 2.\u001b[0m\n",
      "\u001b[33m[W 2022-02-15 21:37:00,297]\u001b[0m Param nn_hidden_layers unique value length is less than 2.\u001b[0m\n",
      "\u001b[33m[W 2022-02-15 21:37:00,618]\u001b[0m Param epsilon_start unique value length is less than 2.\u001b[0m\n",
      "\u001b[33m[W 2022-02-15 21:37:01,056]\u001b[0m Param nn_hidden_layers unique value length is less than 2.\u001b[0m\n",
      "\u001b[33m[W 2022-02-15 21:37:01,415]\u001b[0m Param epsilon_start unique value length is less than 2.\u001b[0m\n",
      "\u001b[33m[W 2022-02-15 21:37:01,705]\u001b[0m Param nn_hidden_layers unique value length is less than 2.\u001b[0m\n",
      "\u001b[33m[W 2022-02-15 21:37:02,000]\u001b[0m Param epsilon_start unique value length is less than 2.\u001b[0m\n",
      "\u001b[33m[W 2022-02-15 21:37:02,330]\u001b[0m Param nn_hidden_layers unique value length is less than 2.\u001b[0m\n",
      "\u001b[33m[W 2022-02-15 21:37:02,782]\u001b[0m Param epsilon_start unique value length is less than 2.\u001b[0m\n",
      "\u001b[33m[W 2022-02-15 21:37:03,354]\u001b[0m Param nn_hidden_layers unique value length is less than 2.\u001b[0m\n",
      "\u001b[33m[W 2022-02-15 21:37:03,752]\u001b[0m Param epsilon_start unique value length is less than 2.\u001b[0m\n",
      "\u001b[33m[W 2022-02-15 21:37:04,110]\u001b[0m Param nn_hidden_layers unique value length is less than 2.\u001b[0m\n",
      "\u001b[33m[W 2022-02-15 21:37:04,296]\u001b[0m Param nn_hidden_layers unique value length is less than 2.\u001b[0m\n",
      "\u001b[33m[W 2022-02-15 21:37:04,341]\u001b[0m Param nn_hidden_layers unique value length is less than 2.\u001b[0m\n",
      "\u001b[33m[W 2022-02-15 21:37:04,387]\u001b[0m Param nn_hidden_layers unique value length is less than 2.\u001b[0m\n",
      "\u001b[33m[W 2022-02-15 21:37:04,433]\u001b[0m Param nn_hidden_layers unique value length is less than 2.\u001b[0m\n",
      "\u001b[33m[W 2022-02-15 21:37:04,484]\u001b[0m Param nn_hidden_layers unique value length is less than 2.\u001b[0m\n",
      "\u001b[33m[W 2022-02-15 21:37:04,532]\u001b[0m Param nn_hidden_layers unique value length is less than 2.\u001b[0m\n",
      "\u001b[33m[W 2022-02-15 21:37:04,602]\u001b[0m Param nn_hidden_layers unique value length is less than 2.\u001b[0m\n",
      "\u001b[33m[W 2022-02-15 21:37:04,683]\u001b[0m Param nn_hidden_layers unique value length is less than 2.\u001b[0m\n",
      "\u001b[33m[W 2022-02-15 21:37:04,743]\u001b[0m Param nn_hidden_layers unique value length is less than 2.\u001b[0m\n",
      "\u001b[33m[W 2022-02-15 21:37:04,804]\u001b[0m Param nn_hidden_layers unique value length is less than 2.\u001b[0m\n",
      "\u001b[33m[W 2022-02-15 21:37:04,859]\u001b[0m Param nn_hidden_layers unique value length is less than 2.\u001b[0m\n",
      "\u001b[33m[W 2022-02-15 21:37:04,993]\u001b[0m Param nn_hidden_layers unique value length is less than 2.\u001b[0m\n",
      "\u001b[33m[W 2022-02-15 21:37:05,061]\u001b[0m Param nn_hidden_layers unique value length is less than 2.\u001b[0m\n",
      "\u001b[33m[W 2022-02-15 21:37:05,117]\u001b[0m Param nn_hidden_layers unique value length is less than 2.\u001b[0m\n",
      "\u001b[33m[W 2022-02-15 21:37:05,366]\u001b[0m Param epsilon_start unique value length is less than 2.\u001b[0m\n",
      "\u001b[33m[W 2022-02-15 21:37:05,835]\u001b[0m Param nn_hidden_layers unique value length is less than 2.\u001b[0m\n",
      "\u001b[33m[W 2022-02-15 21:37:06,182]\u001b[0m Param epsilon_start unique value length is less than 2.\u001b[0m\n",
      "\u001b[33m[W 2022-02-15 21:37:06,516]\u001b[0m Param nn_hidden_layers unique value length is less than 2.\u001b[0m\n",
      "\u001b[33m[W 2022-02-15 21:37:06,795]\u001b[0m Param epsilon_start unique value length is less than 2.\u001b[0m\n",
      "\u001b[33m[W 2022-02-15 21:37:07,117]\u001b[0m Param nn_hidden_layers unique value length is less than 2.\u001b[0m\n"
     ]
    },
    {
     "name": "stdout",
     "output_type": "stream",
     "text": [
      "https://app.neptune.ai/plabartabajo/parametric-q-learning-cart-pole/e/PAR-74\n",
      "Remember to stop your run once you’ve finished logging your metadata (https://docs.neptune.ai/api-reference/run#.stop). It will be stopped automatically only when the notebook kernel/interactive console is terminated.\n",
      "67,586 parameters\n"
     ]
    },
    {
     "name": "stderr",
     "output_type": "stream",
     "text": [
      "100%|██████████████████████████████████████████████████████████████████████████| 500/500 [01:20<00:00,  6.22it/s]\n",
      "100%|████████████████████████████████████████████████████████████████████████| 1000/1000 [00:50<00:00, 19.98it/s]"
     ]
    },
    {
     "name": "stdout",
     "output_type": "stream",
     "text": [
      "Shutting down background jobs, please wait a moment...\n",
      "Done!\n"
     ]
    },
    {
     "name": "stderr",
     "output_type": "stream",
     "text": [
      "\n",
      "Waiting for the remaining 12 operations to synchronize with Neptune. Do not kill this process.\n"
     ]
    },
    {
     "name": "stdout",
     "output_type": "stream",
     "text": [
      "All 12 operations synced, thanks for waiting!\n"
     ]
    },
    {
     "name": "stderr",
     "output_type": "stream",
     "text": [
      "\u001b[32m[I 2022-02-15 21:39:22,333]\u001b[0m Trial 22 finished with value: 198.692 and parameters: {'learning_rate': 0.0001473235375248217, 'discount_factor': 0.9, 'batch_size': 16, 'memory_size': 100000, 'freq_steps_train': 8, 'freq_steps_update_target': 100, 'n_steps_warm_up_memory': 5000, 'n_gradient_steps': 16, 'nn_hidden_layers': '[256, 256]', 'max_grad_norm': 100, 'normalize_state': True, 'epsilon_start': 0.9, 'epsilon_end': 0.0637614550959938, 'steps_epsilon_decay': 100000, 'seed': 382798184}. Best is trial 12 with value: 313.91.\u001b[0m\n",
      "\u001b[33m[W 2022-02-15 21:39:31,347]\u001b[0m Param epsilon_start unique value length is less than 2.\u001b[0m\n",
      "\u001b[33m[W 2022-02-15 21:39:31,631]\u001b[0m Param nn_hidden_layers unique value length is less than 2.\u001b[0m\n",
      "\u001b[33m[W 2022-02-15 21:39:31,868]\u001b[0m Param epsilon_start unique value length is less than 2.\u001b[0m\n",
      "\u001b[33m[W 2022-02-15 21:39:32,085]\u001b[0m Param nn_hidden_layers unique value length is less than 2.\u001b[0m\n",
      "\u001b[33m[W 2022-02-15 21:39:32,284]\u001b[0m Param epsilon_start unique value length is less than 2.\u001b[0m\n",
      "\u001b[33m[W 2022-02-15 21:39:32,494]\u001b[0m Param nn_hidden_layers unique value length is less than 2.\u001b[0m\n",
      "\u001b[33m[W 2022-02-15 21:39:32,647]\u001b[0m Param epsilon_start unique value length is less than 2.\u001b[0m\n",
      "\u001b[33m[W 2022-02-15 21:39:32,672]\u001b[0m Param epsilon_start unique value length is less than 2.\u001b[0m\n",
      "\u001b[33m[W 2022-02-15 21:39:32,694]\u001b[0m Param epsilon_start unique value length is less than 2.\u001b[0m\n",
      "\u001b[33m[W 2022-02-15 21:39:32,748]\u001b[0m Param epsilon_start unique value length is less than 2.\u001b[0m\n",
      "\u001b[33m[W 2022-02-15 21:39:32,772]\u001b[0m Param epsilon_start unique value length is less than 2.\u001b[0m\n",
      "\u001b[33m[W 2022-02-15 21:39:32,795]\u001b[0m Param epsilon_start unique value length is less than 2.\u001b[0m\n",
      "\u001b[33m[W 2022-02-15 21:39:32,832]\u001b[0m Param epsilon_start unique value length is less than 2.\u001b[0m\n",
      "\u001b[33m[W 2022-02-15 21:39:32,857]\u001b[0m Param epsilon_start unique value length is less than 2.\u001b[0m\n",
      "\u001b[33m[W 2022-02-15 21:39:32,885]\u001b[0m Param epsilon_start unique value length is less than 2.\u001b[0m\n",
      "\u001b[33m[W 2022-02-15 21:39:32,910]\u001b[0m Param epsilon_start unique value length is less than 2.\u001b[0m\n",
      "\u001b[33m[W 2022-02-15 21:39:32,933]\u001b[0m Param epsilon_start unique value length is less than 2.\u001b[0m\n",
      "\u001b[33m[W 2022-02-15 21:39:32,969]\u001b[0m Param epsilon_start unique value length is less than 2.\u001b[0m\n",
      "\u001b[33m[W 2022-02-15 21:39:33,004]\u001b[0m Param epsilon_start unique value length is less than 2.\u001b[0m\n",
      "\u001b[33m[W 2022-02-15 21:39:33,028]\u001b[0m Param epsilon_start unique value length is less than 2.\u001b[0m\n",
      "\u001b[33m[W 2022-02-15 21:39:33,149]\u001b[0m Param epsilon_start unique value length is less than 2.\u001b[0m\n",
      "\u001b[33m[W 2022-02-15 21:39:33,371]\u001b[0m Param nn_hidden_layers unique value length is less than 2.\u001b[0m\n",
      "\u001b[33m[W 2022-02-15 21:39:33,596]\u001b[0m Param epsilon_start unique value length is less than 2.\u001b[0m\n",
      "\u001b[33m[W 2022-02-15 21:39:33,826]\u001b[0m Param nn_hidden_layers unique value length is less than 2.\u001b[0m\n",
      "\u001b[33m[W 2022-02-15 21:39:34,064]\u001b[0m Param epsilon_start unique value length is less than 2.\u001b[0m\n",
      "\u001b[33m[W 2022-02-15 21:39:34,362]\u001b[0m Param nn_hidden_layers unique value length is less than 2.\u001b[0m\n",
      "\u001b[33m[W 2022-02-15 21:39:34,673]\u001b[0m Param epsilon_start unique value length is less than 2.\u001b[0m\n",
      "\u001b[33m[W 2022-02-15 21:39:34,903]\u001b[0m Param nn_hidden_layers unique value length is less than 2.\u001b[0m\n",
      "\u001b[33m[W 2022-02-15 21:39:35,143]\u001b[0m Param epsilon_start unique value length is less than 2.\u001b[0m\n",
      "\u001b[33m[W 2022-02-15 21:39:35,344]\u001b[0m Param nn_hidden_layers unique value length is less than 2.\u001b[0m\n",
      "\u001b[33m[W 2022-02-15 21:39:35,547]\u001b[0m Param epsilon_start unique value length is less than 2.\u001b[0m\n",
      "\u001b[33m[W 2022-02-15 21:39:35,750]\u001b[0m Param nn_hidden_layers unique value length is less than 2.\u001b[0m\n",
      "\u001b[33m[W 2022-02-15 21:39:35,950]\u001b[0m Param epsilon_start unique value length is less than 2.\u001b[0m\n",
      "\u001b[33m[W 2022-02-15 21:39:36,148]\u001b[0m Param nn_hidden_layers unique value length is less than 2.\u001b[0m\n",
      "\u001b[33m[W 2022-02-15 21:39:36,275]\u001b[0m Param nn_hidden_layers unique value length is less than 2.\u001b[0m\n",
      "\u001b[33m[W 2022-02-15 21:39:36,306]\u001b[0m Param nn_hidden_layers unique value length is less than 2.\u001b[0m\n",
      "\u001b[33m[W 2022-02-15 21:39:36,340]\u001b[0m Param nn_hidden_layers unique value length is less than 2.\u001b[0m\n",
      "\u001b[33m[W 2022-02-15 21:39:36,375]\u001b[0m Param nn_hidden_layers unique value length is less than 2.\u001b[0m\n",
      "\u001b[33m[W 2022-02-15 21:39:36,412]\u001b[0m Param nn_hidden_layers unique value length is less than 2.\u001b[0m\n",
      "\u001b[33m[W 2022-02-15 21:39:36,454]\u001b[0m Param nn_hidden_layers unique value length is less than 2.\u001b[0m\n",
      "\u001b[33m[W 2022-02-15 21:39:36,496]\u001b[0m Param nn_hidden_layers unique value length is less than 2.\u001b[0m\n",
      "\u001b[33m[W 2022-02-15 21:39:36,542]\u001b[0m Param nn_hidden_layers unique value length is less than 2.\u001b[0m\n",
      "\u001b[33m[W 2022-02-15 21:39:36,580]\u001b[0m Param nn_hidden_layers unique value length is less than 2.\u001b[0m\n",
      "\u001b[33m[W 2022-02-15 21:39:36,615]\u001b[0m Param nn_hidden_layers unique value length is less than 2.\u001b[0m\n",
      "\u001b[33m[W 2022-02-15 21:39:36,647]\u001b[0m Param nn_hidden_layers unique value length is less than 2.\u001b[0m\n",
      "\u001b[33m[W 2022-02-15 21:39:36,717]\u001b[0m Param nn_hidden_layers unique value length is less than 2.\u001b[0m\n",
      "\u001b[33m[W 2022-02-15 21:39:36,756]\u001b[0m Param nn_hidden_layers unique value length is less than 2.\u001b[0m\n",
      "\u001b[33m[W 2022-02-15 21:39:36,788]\u001b[0m Param nn_hidden_layers unique value length is less than 2.\u001b[0m\n",
      "\u001b[33m[W 2022-02-15 21:39:36,953]\u001b[0m Param epsilon_start unique value length is less than 2.\u001b[0m\n",
      "\u001b[33m[W 2022-02-15 21:39:37,235]\u001b[0m Param nn_hidden_layers unique value length is less than 2.\u001b[0m\n",
      "\u001b[33m[W 2022-02-15 21:39:37,476]\u001b[0m Param epsilon_start unique value length is less than 2.\u001b[0m\n",
      "\u001b[33m[W 2022-02-15 21:39:37,698]\u001b[0m Param nn_hidden_layers unique value length is less than 2.\u001b[0m\n",
      "\u001b[33m[W 2022-02-15 21:39:37,949]\u001b[0m Param epsilon_start unique value length is less than 2.\u001b[0m\n",
      "\u001b[33m[W 2022-02-15 21:39:38,201]\u001b[0m Param nn_hidden_layers unique value length is less than 2.\u001b[0m\n"
     ]
    },
    {
     "name": "stdout",
     "output_type": "stream",
     "text": [
      "https://app.neptune.ai/plabartabajo/parametric-q-learning-cart-pole/e/PAR-75\n",
      "Remember to stop your run once you’ve finished logging your metadata (https://docs.neptune.ai/api-reference/run#.stop). It will be stopped automatically only when the notebook kernel/interactive console is terminated.\n",
      "67,586 parameters\n"
     ]
    },
    {
     "name": "stderr",
     "output_type": "stream",
     "text": [
      "100%|██████████████████████████████████████████████████████████████████████████| 500/500 [01:27<00:00,  5.69it/s]\n",
      "100%|████████████████████████████████████████████████████████████████████████| 1000/1000 [01:01<00:00, 16.29it/s]"
     ]
    },
    {
     "name": "stdout",
     "output_type": "stream",
     "text": [
      "Shutting down background jobs, please wait a moment...\n",
      "Done!\n"
     ]
    },
    {
     "name": "stderr",
     "output_type": "stream",
     "text": [
      "\n",
      "Waiting for the remaining 29 operations to synchronize with Neptune. Do not kill this process.\n"
     ]
    },
    {
     "name": "stdout",
     "output_type": "stream",
     "text": [
      "All 29 operations synced, thanks for waiting!\n"
     ]
    },
    {
     "name": "stderr",
     "output_type": "stream",
     "text": [
      "\u001b[32m[I 2022-02-15 21:42:10,857]\u001b[0m Trial 23 finished with value: 220.236 and parameters: {'learning_rate': 0.0004831353757207155, 'discount_factor': 0.9, 'batch_size': 16, 'memory_size': 100000, 'freq_steps_train': 8, 'freq_steps_update_target': 100, 'n_steps_warm_up_memory': 5000, 'n_gradient_steps': 16, 'nn_hidden_layers': '[256, 256]', 'max_grad_norm': 100, 'normalize_state': True, 'epsilon_start': 0.9, 'epsilon_end': 0.045427999061061534, 'steps_epsilon_decay': 100000, 'seed': 394301809}. Best is trial 12 with value: 313.91.\u001b[0m\n",
      "\u001b[33m[W 2022-02-15 21:42:18,890]\u001b[0m Param epsilon_start unique value length is less than 2.\u001b[0m\n",
      "\u001b[33m[W 2022-02-15 21:42:19,228]\u001b[0m Param nn_hidden_layers unique value length is less than 2.\u001b[0m\n",
      "\u001b[33m[W 2022-02-15 21:42:19,473]\u001b[0m Param epsilon_start unique value length is less than 2.\u001b[0m\n",
      "\u001b[33m[W 2022-02-15 21:42:19,700]\u001b[0m Param nn_hidden_layers unique value length is less than 2.\u001b[0m\n",
      "\u001b[33m[W 2022-02-15 21:42:19,926]\u001b[0m Param epsilon_start unique value length is less than 2.\u001b[0m\n",
      "\u001b[33m[W 2022-02-15 21:42:20,184]\u001b[0m Param nn_hidden_layers unique value length is less than 2.\u001b[0m\n",
      "\u001b[33m[W 2022-02-15 21:42:20,349]\u001b[0m Param epsilon_start unique value length is less than 2.\u001b[0m\n",
      "\u001b[33m[W 2022-02-15 21:42:20,371]\u001b[0m Param epsilon_start unique value length is less than 2.\u001b[0m\n",
      "\u001b[33m[W 2022-02-15 21:42:20,392]\u001b[0m Param epsilon_start unique value length is less than 2.\u001b[0m\n",
      "\u001b[33m[W 2022-02-15 21:42:20,435]\u001b[0m Param epsilon_start unique value length is less than 2.\u001b[0m\n",
      "\u001b[33m[W 2022-02-15 21:42:20,456]\u001b[0m Param epsilon_start unique value length is less than 2.\u001b[0m\n",
      "\u001b[33m[W 2022-02-15 21:42:20,479]\u001b[0m Param epsilon_start unique value length is less than 2.\u001b[0m\n",
      "\u001b[33m[W 2022-02-15 21:42:20,511]\u001b[0m Param epsilon_start unique value length is less than 2.\u001b[0m\n",
      "\u001b[33m[W 2022-02-15 21:42:20,533]\u001b[0m Param epsilon_start unique value length is less than 2.\u001b[0m\n",
      "\u001b[33m[W 2022-02-15 21:42:20,555]\u001b[0m Param epsilon_start unique value length is less than 2.\u001b[0m\n",
      "\u001b[33m[W 2022-02-15 21:42:20,580]\u001b[0m Param epsilon_start unique value length is less than 2.\u001b[0m\n",
      "\u001b[33m[W 2022-02-15 21:42:20,604]\u001b[0m Param epsilon_start unique value length is less than 2.\u001b[0m\n",
      "\u001b[33m[W 2022-02-15 21:42:20,662]\u001b[0m Param epsilon_start unique value length is less than 2.\u001b[0m\n",
      "\u001b[33m[W 2022-02-15 21:42:20,770]\u001b[0m Param epsilon_start unique value length is less than 2.\u001b[0m\n",
      "\u001b[33m[W 2022-02-15 21:42:20,818]\u001b[0m Param epsilon_start unique value length is less than 2.\u001b[0m\n",
      "\u001b[33m[W 2022-02-15 21:42:21,043]\u001b[0m Param epsilon_start unique value length is less than 2.\u001b[0m\n",
      "\u001b[33m[W 2022-02-15 21:42:21,378]\u001b[0m Param nn_hidden_layers unique value length is less than 2.\u001b[0m\n",
      "\u001b[33m[W 2022-02-15 21:42:21,618]\u001b[0m Param epsilon_start unique value length is less than 2.\u001b[0m\n",
      "\u001b[33m[W 2022-02-15 21:42:21,841]\u001b[0m Param nn_hidden_layers unique value length is less than 2.\u001b[0m\n",
      "\u001b[33m[W 2022-02-15 21:42:22,177]\u001b[0m Param epsilon_start unique value length is less than 2.\u001b[0m\n",
      "\u001b[33m[W 2022-02-15 21:42:22,494]\u001b[0m Param nn_hidden_layers unique value length is less than 2.\u001b[0m\n",
      "\u001b[33m[W 2022-02-15 21:42:22,768]\u001b[0m Param epsilon_start unique value length is less than 2.\u001b[0m\n",
      "\u001b[33m[W 2022-02-15 21:42:22,991]\u001b[0m Param nn_hidden_layers unique value length is less than 2.\u001b[0m\n",
      "\u001b[33m[W 2022-02-15 21:42:23,214]\u001b[0m Param epsilon_start unique value length is less than 2.\u001b[0m\n",
      "\u001b[33m[W 2022-02-15 21:42:23,436]\u001b[0m Param nn_hidden_layers unique value length is less than 2.\u001b[0m\n",
      "\u001b[33m[W 2022-02-15 21:42:23,660]\u001b[0m Param epsilon_start unique value length is less than 2.\u001b[0m\n",
      "\u001b[33m[W 2022-02-15 21:42:23,884]\u001b[0m Param nn_hidden_layers unique value length is less than 2.\u001b[0m\n",
      "\u001b[33m[W 2022-02-15 21:42:24,109]\u001b[0m Param epsilon_start unique value length is less than 2.\u001b[0m\n",
      "\u001b[33m[W 2022-02-15 21:42:24,333]\u001b[0m Param nn_hidden_layers unique value length is less than 2.\u001b[0m\n",
      "\u001b[33m[W 2022-02-15 21:42:24,470]\u001b[0m Param nn_hidden_layers unique value length is less than 2.\u001b[0m\n",
      "\u001b[33m[W 2022-02-15 21:42:24,505]\u001b[0m Param nn_hidden_layers unique value length is less than 2.\u001b[0m\n",
      "\u001b[33m[W 2022-02-15 21:42:24,540]\u001b[0m Param nn_hidden_layers unique value length is less than 2.\u001b[0m\n",
      "\u001b[33m[W 2022-02-15 21:42:24,576]\u001b[0m Param nn_hidden_layers unique value length is less than 2.\u001b[0m\n",
      "\u001b[33m[W 2022-02-15 21:42:24,607]\u001b[0m Param nn_hidden_layers unique value length is less than 2.\u001b[0m\n",
      "\u001b[33m[W 2022-02-15 21:42:24,639]\u001b[0m Param nn_hidden_layers unique value length is less than 2.\u001b[0m\n",
      "\u001b[33m[W 2022-02-15 21:42:24,671]\u001b[0m Param nn_hidden_layers unique value length is less than 2.\u001b[0m\n",
      "\u001b[33m[W 2022-02-15 21:42:24,715]\u001b[0m Param nn_hidden_layers unique value length is less than 2.\u001b[0m\n",
      "\u001b[33m[W 2022-02-15 21:42:24,751]\u001b[0m Param nn_hidden_layers unique value length is less than 2.\u001b[0m\n",
      "\u001b[33m[W 2022-02-15 21:42:24,782]\u001b[0m Param nn_hidden_layers unique value length is less than 2.\u001b[0m\n",
      "\u001b[33m[W 2022-02-15 21:42:24,813]\u001b[0m Param nn_hidden_layers unique value length is less than 2.\u001b[0m\n",
      "\u001b[33m[W 2022-02-15 21:42:24,886]\u001b[0m Param nn_hidden_layers unique value length is less than 2.\u001b[0m\n",
      "\u001b[33m[W 2022-02-15 21:42:24,927]\u001b[0m Param nn_hidden_layers unique value length is less than 2.\u001b[0m\n",
      "\u001b[33m[W 2022-02-15 21:42:24,963]\u001b[0m Param nn_hidden_layers unique value length is less than 2.\u001b[0m\n",
      "\u001b[33m[W 2022-02-15 21:42:25,114]\u001b[0m Param epsilon_start unique value length is less than 2.\u001b[0m\n",
      "\u001b[33m[W 2022-02-15 21:42:25,400]\u001b[0m Param nn_hidden_layers unique value length is less than 2.\u001b[0m\n",
      "\u001b[33m[W 2022-02-15 21:42:25,642]\u001b[0m Param epsilon_start unique value length is less than 2.\u001b[0m\n",
      "\u001b[33m[W 2022-02-15 21:42:25,868]\u001b[0m Param nn_hidden_layers unique value length is less than 2.\u001b[0m\n",
      "\u001b[33m[W 2022-02-15 21:42:26,070]\u001b[0m Param epsilon_start unique value length is less than 2.\u001b[0m\n",
      "\u001b[33m[W 2022-02-15 21:42:26,325]\u001b[0m Param nn_hidden_layers unique value length is less than 2.\u001b[0m\n"
     ]
    },
    {
     "name": "stdout",
     "output_type": "stream",
     "text": [
      "https://app.neptune.ai/plabartabajo/parametric-q-learning-cart-pole/e/PAR-76\n",
      "Remember to stop your run once you’ve finished logging your metadata (https://docs.neptune.ai/api-reference/run#.stop). It will be stopped automatically only when the notebook kernel/interactive console is terminated.\n",
      "67,586 parameters\n"
     ]
    },
    {
     "name": "stderr",
     "output_type": "stream",
     "text": [
      "100%|██████████████████████████████████████████████████████████████████████████| 500/500 [00:51<00:00,  9.70it/s]\n",
      "100%|████████████████████████████████████████████████████████████████████████| 1000/1000 [00:25<00:00, 39.94it/s]"
     ]
    },
    {
     "name": "stdout",
     "output_type": "stream",
     "text": [
      "Shutting down background jobs, please wait a moment...\n",
      "Done!\n"
     ]
    },
    {
     "name": "stderr",
     "output_type": "stream",
     "text": [
      "\n",
      "Waiting for the remaining 41 operations to synchronize with Neptune. Do not kill this process.\n"
     ]
    },
    {
     "name": "stdout",
     "output_type": "stream",
     "text": [
      "All 41 operations synced, thanks for waiting!\n"
     ]
    },
    {
     "name": "stderr",
     "output_type": "stream",
     "text": [
      "\u001b[32m[I 2022-02-15 21:43:45,802]\u001b[0m Trial 24 finished with value: 161.179 and parameters: {'learning_rate': 0.0003010202199559407, 'discount_factor': 0.9, 'batch_size': 16, 'memory_size': 100000, 'freq_steps_train': 8, 'freq_steps_update_target': 100, 'n_steps_warm_up_memory': 5000, 'n_gradient_steps': 16, 'nn_hidden_layers': '[256, 256]', 'max_grad_norm': 100, 'normalize_state': True, 'epsilon_start': 0.9, 'epsilon_end': 0.04624021259078559, 'steps_epsilon_decay': 100000, 'seed': 432898265}. Best is trial 12 with value: 313.91.\u001b[0m\n",
      "\u001b[33m[W 2022-02-15 21:43:53,140]\u001b[0m Param epsilon_start unique value length is less than 2.\u001b[0m\n",
      "\u001b[33m[W 2022-02-15 21:43:53,380]\u001b[0m Param nn_hidden_layers unique value length is less than 2.\u001b[0m\n",
      "\u001b[33m[W 2022-02-15 21:43:53,570]\u001b[0m Param epsilon_start unique value length is less than 2.\u001b[0m\n",
      "\u001b[33m[W 2022-02-15 21:43:53,747]\u001b[0m Param nn_hidden_layers unique value length is less than 2.\u001b[0m\n",
      "\u001b[33m[W 2022-02-15 21:43:53,911]\u001b[0m Param epsilon_start unique value length is less than 2.\u001b[0m\n",
      "\u001b[33m[W 2022-02-15 21:43:54,115]\u001b[0m Param nn_hidden_layers unique value length is less than 2.\u001b[0m\n",
      "\u001b[33m[W 2022-02-15 21:43:54,246]\u001b[0m Param epsilon_start unique value length is less than 2.\u001b[0m\n",
      "\u001b[33m[W 2022-02-15 21:43:54,267]\u001b[0m Param epsilon_start unique value length is less than 2.\u001b[0m\n",
      "\u001b[33m[W 2022-02-15 21:43:54,286]\u001b[0m Param epsilon_start unique value length is less than 2.\u001b[0m\n",
      "\u001b[33m[W 2022-02-15 21:43:54,327]\u001b[0m Param epsilon_start unique value length is less than 2.\u001b[0m\n",
      "\u001b[33m[W 2022-02-15 21:43:54,349]\u001b[0m Param epsilon_start unique value length is less than 2.\u001b[0m\n",
      "\u001b[33m[W 2022-02-15 21:43:54,368]\u001b[0m Param epsilon_start unique value length is less than 2.\u001b[0m\n",
      "\u001b[33m[W 2022-02-15 21:43:54,397]\u001b[0m Param epsilon_start unique value length is less than 2.\u001b[0m\n",
      "\u001b[33m[W 2022-02-15 21:43:54,416]\u001b[0m Param epsilon_start unique value length is less than 2.\u001b[0m\n",
      "\u001b[33m[W 2022-02-15 21:43:54,435]\u001b[0m Param epsilon_start unique value length is less than 2.\u001b[0m\n",
      "\u001b[33m[W 2022-02-15 21:43:54,455]\u001b[0m Param epsilon_start unique value length is less than 2.\u001b[0m\n",
      "\u001b[33m[W 2022-02-15 21:43:54,478]\u001b[0m Param epsilon_start unique value length is less than 2.\u001b[0m\n",
      "\u001b[33m[W 2022-02-15 21:43:54,506]\u001b[0m Param epsilon_start unique value length is less than 2.\u001b[0m\n",
      "\u001b[33m[W 2022-02-15 21:43:54,533]\u001b[0m Param epsilon_start unique value length is less than 2.\u001b[0m\n",
      "\u001b[33m[W 2022-02-15 21:43:54,552]\u001b[0m Param epsilon_start unique value length is less than 2.\u001b[0m\n",
      "\u001b[33m[W 2022-02-15 21:43:54,658]\u001b[0m Param epsilon_start unique value length is less than 2.\u001b[0m\n",
      "\u001b[33m[W 2022-02-15 21:43:54,840]\u001b[0m Param nn_hidden_layers unique value length is less than 2.\u001b[0m\n",
      "\u001b[33m[W 2022-02-15 21:43:55,009]\u001b[0m Param epsilon_start unique value length is less than 2.\u001b[0m\n",
      "\u001b[33m[W 2022-02-15 21:43:55,176]\u001b[0m Param nn_hidden_layers unique value length is less than 2.\u001b[0m\n",
      "\u001b[33m[W 2022-02-15 21:43:55,375]\u001b[0m Param epsilon_start unique value length is less than 2.\u001b[0m\n",
      "\u001b[33m[W 2022-02-15 21:43:55,613]\u001b[0m Param nn_hidden_layers unique value length is less than 2.\u001b[0m\n",
      "\u001b[33m[W 2022-02-15 21:43:55,817]\u001b[0m Param epsilon_start unique value length is less than 2.\u001b[0m\n",
      "\u001b[33m[W 2022-02-15 21:43:55,990]\u001b[0m Param nn_hidden_layers unique value length is less than 2.\u001b[0m\n",
      "\u001b[33m[W 2022-02-15 21:43:56,157]\u001b[0m Param epsilon_start unique value length is less than 2.\u001b[0m\n",
      "\u001b[33m[W 2022-02-15 21:43:56,329]\u001b[0m Param nn_hidden_layers unique value length is less than 2.\u001b[0m\n",
      "\u001b[33m[W 2022-02-15 21:43:56,499]\u001b[0m Param epsilon_start unique value length is less than 2.\u001b[0m\n",
      "\u001b[33m[W 2022-02-15 21:43:56,669]\u001b[0m Param nn_hidden_layers unique value length is less than 2.\u001b[0m\n",
      "\u001b[33m[W 2022-02-15 21:43:56,847]\u001b[0m Param epsilon_start unique value length is less than 2.\u001b[0m\n",
      "\u001b[33m[W 2022-02-15 21:43:57,028]\u001b[0m Param nn_hidden_layers unique value length is less than 2.\u001b[0m\n",
      "\u001b[33m[W 2022-02-15 21:43:57,133]\u001b[0m Param nn_hidden_layers unique value length is less than 2.\u001b[0m\n",
      "\u001b[33m[W 2022-02-15 21:43:57,159]\u001b[0m Param nn_hidden_layers unique value length is less than 2.\u001b[0m\n",
      "\u001b[33m[W 2022-02-15 21:43:57,184]\u001b[0m Param nn_hidden_layers unique value length is less than 2.\u001b[0m\n",
      "\u001b[33m[W 2022-02-15 21:43:57,211]\u001b[0m Param nn_hidden_layers unique value length is less than 2.\u001b[0m\n",
      "\u001b[33m[W 2022-02-15 21:43:57,237]\u001b[0m Param nn_hidden_layers unique value length is less than 2.\u001b[0m\n",
      "\u001b[33m[W 2022-02-15 21:43:57,264]\u001b[0m Param nn_hidden_layers unique value length is less than 2.\u001b[0m\n",
      "\u001b[33m[W 2022-02-15 21:43:57,289]\u001b[0m Param nn_hidden_layers unique value length is less than 2.\u001b[0m\n",
      "\u001b[33m[W 2022-02-15 21:43:57,327]\u001b[0m Param nn_hidden_layers unique value length is less than 2.\u001b[0m\n",
      "\u001b[33m[W 2022-02-15 21:43:57,352]\u001b[0m Param nn_hidden_layers unique value length is less than 2.\u001b[0m\n",
      "\u001b[33m[W 2022-02-15 21:43:57,401]\u001b[0m Param nn_hidden_layers unique value length is less than 2.\u001b[0m\n",
      "\u001b[33m[W 2022-02-15 21:43:57,436]\u001b[0m Param nn_hidden_layers unique value length is less than 2.\u001b[0m\n",
      "\u001b[33m[W 2022-02-15 21:43:57,493]\u001b[0m Param nn_hidden_layers unique value length is less than 2.\u001b[0m\n",
      "\u001b[33m[W 2022-02-15 21:43:57,526]\u001b[0m Param nn_hidden_layers unique value length is less than 2.\u001b[0m\n",
      "\u001b[33m[W 2022-02-15 21:43:57,551]\u001b[0m Param nn_hidden_layers unique value length is less than 2.\u001b[0m\n",
      "\u001b[33m[W 2022-02-15 21:43:57,675]\u001b[0m Param epsilon_start unique value length is less than 2.\u001b[0m\n",
      "\u001b[33m[W 2022-02-15 21:43:57,913]\u001b[0m Param nn_hidden_layers unique value length is less than 2.\u001b[0m\n",
      "\u001b[33m[W 2022-02-15 21:43:58,117]\u001b[0m Param epsilon_start unique value length is less than 2.\u001b[0m\n",
      "\u001b[33m[W 2022-02-15 21:43:58,309]\u001b[0m Param nn_hidden_layers unique value length is less than 2.\u001b[0m\n",
      "\u001b[33m[W 2022-02-15 21:43:58,479]\u001b[0m Param epsilon_start unique value length is less than 2.\u001b[0m\n",
      "\u001b[33m[W 2022-02-15 21:43:58,658]\u001b[0m Param nn_hidden_layers unique value length is less than 2.\u001b[0m\n"
     ]
    },
    {
     "name": "stdout",
     "output_type": "stream",
     "text": [
      "https://app.neptune.ai/plabartabajo/parametric-q-learning-cart-pole/e/PAR-77\n",
      "Remember to stop your run once you’ve finished logging your metadata (https://docs.neptune.ai/api-reference/run#.stop). It will be stopped automatically only when the notebook kernel/interactive console is terminated.\n",
      "67,586 parameters\n"
     ]
    },
    {
     "name": "stderr",
     "output_type": "stream",
     "text": [
      "100%|██████████████████████████████████████████████████████████████████████████| 500/500 [00:49<00:00, 10.19it/s]\n",
      "100%|████████████████████████████████████████████████████████████████████████| 1000/1000 [00:42<00:00, 23.71it/s]"
     ]
    },
    {
     "name": "stdout",
     "output_type": "stream",
     "text": [
      "Shutting down background jobs, please wait a moment...\n",
      "Done!\n"
     ]
    },
    {
     "name": "stderr",
     "output_type": "stream",
     "text": [
      "\n",
      "Waiting for the remaining 24 operations to synchronize with Neptune. Do not kill this process.\n"
     ]
    },
    {
     "name": "stdout",
     "output_type": "stream",
     "text": [
      "All 24 operations synced, thanks for waiting!\n"
     ]
    },
    {
     "name": "stderr",
     "output_type": "stream",
     "text": [
      "\u001b[32m[I 2022-02-15 21:45:32,464]\u001b[0m Trial 25 finished with value: 252.139 and parameters: {'learning_rate': 4.637720898373944e-05, 'discount_factor': 0.9, 'batch_size': 16, 'memory_size': 50000, 'freq_steps_train': 8, 'freq_steps_update_target': 100, 'n_steps_warm_up_memory': 5000, 'n_gradient_steps': 16, 'nn_hidden_layers': '[256, 256]', 'max_grad_norm': 100, 'normalize_state': True, 'epsilon_start': 0.9, 'epsilon_end': 0.05207153677919339, 'steps_epsilon_decay': 100000, 'seed': 280543675}. Best is trial 12 with value: 313.91.\u001b[0m\n",
      "\u001b[33m[W 2022-02-15 21:45:40,450]\u001b[0m Param epsilon_start unique value length is less than 2.\u001b[0m\n",
      "\u001b[33m[W 2022-02-15 21:45:40,721]\u001b[0m Param nn_hidden_layers unique value length is less than 2.\u001b[0m\n",
      "\u001b[33m[W 2022-02-15 21:45:40,945]\u001b[0m Param epsilon_start unique value length is less than 2.\u001b[0m\n",
      "\u001b[33m[W 2022-02-15 21:45:41,147]\u001b[0m Param nn_hidden_layers unique value length is less than 2.\u001b[0m\n",
      "\u001b[33m[W 2022-02-15 21:45:41,335]\u001b[0m Param epsilon_start unique value length is less than 2.\u001b[0m\n",
      "\u001b[33m[W 2022-02-15 21:45:41,553]\u001b[0m Param nn_hidden_layers unique value length is less than 2.\u001b[0m\n",
      "\u001b[33m[W 2022-02-15 21:45:41,679]\u001b[0m Param epsilon_start unique value length is less than 2.\u001b[0m\n",
      "\u001b[33m[W 2022-02-15 21:45:41,699]\u001b[0m Param epsilon_start unique value length is less than 2.\u001b[0m\n",
      "\u001b[33m[W 2022-02-15 21:45:41,719]\u001b[0m Param epsilon_start unique value length is less than 2.\u001b[0m\n",
      "\u001b[33m[W 2022-02-15 21:45:41,757]\u001b[0m Param epsilon_start unique value length is less than 2.\u001b[0m\n",
      "\u001b[33m[W 2022-02-15 21:45:41,776]\u001b[0m Param epsilon_start unique value length is less than 2.\u001b[0m\n",
      "\u001b[33m[W 2022-02-15 21:45:41,797]\u001b[0m Param epsilon_start unique value length is less than 2.\u001b[0m\n",
      "\u001b[33m[W 2022-02-15 21:45:41,826]\u001b[0m Param epsilon_start unique value length is less than 2.\u001b[0m\n",
      "\u001b[33m[W 2022-02-15 21:45:41,846]\u001b[0m Param epsilon_start unique value length is less than 2.\u001b[0m\n",
      "\u001b[33m[W 2022-02-15 21:45:41,866]\u001b[0m Param epsilon_start unique value length is less than 2.\u001b[0m\n",
      "\u001b[33m[W 2022-02-15 21:45:41,886]\u001b[0m Param epsilon_start unique value length is less than 2.\u001b[0m\n",
      "\u001b[33m[W 2022-02-15 21:45:41,907]\u001b[0m Param epsilon_start unique value length is less than 2.\u001b[0m\n",
      "\u001b[33m[W 2022-02-15 21:45:41,937]\u001b[0m Param epsilon_start unique value length is less than 2.\u001b[0m\n",
      "\u001b[33m[W 2022-02-15 21:45:41,968]\u001b[0m Param epsilon_start unique value length is less than 2.\u001b[0m\n",
      "\u001b[33m[W 2022-02-15 21:45:41,988]\u001b[0m Param epsilon_start unique value length is less than 2.\u001b[0m\n",
      "\u001b[33m[W 2022-02-15 21:45:42,093]\u001b[0m Param epsilon_start unique value length is less than 2.\u001b[0m\n",
      "\u001b[33m[W 2022-02-15 21:45:42,295]\u001b[0m Param nn_hidden_layers unique value length is less than 2.\u001b[0m\n",
      "\u001b[33m[W 2022-02-15 21:45:42,486]\u001b[0m Param epsilon_start unique value length is less than 2.\u001b[0m\n",
      "\u001b[33m[W 2022-02-15 21:45:42,678]\u001b[0m Param nn_hidden_layers unique value length is less than 2.\u001b[0m\n",
      "\u001b[33m[W 2022-02-15 21:45:42,904]\u001b[0m Param epsilon_start unique value length is less than 2.\u001b[0m\n",
      "\u001b[33m[W 2022-02-15 21:45:43,174]\u001b[0m Param nn_hidden_layers unique value length is less than 2.\u001b[0m\n",
      "\u001b[33m[W 2022-02-15 21:45:43,408]\u001b[0m Param epsilon_start unique value length is less than 2.\u001b[0m\n",
      "\u001b[33m[W 2022-02-15 21:45:43,599]\u001b[0m Param nn_hidden_layers unique value length is less than 2.\u001b[0m\n",
      "\u001b[33m[W 2022-02-15 21:45:43,793]\u001b[0m Param epsilon_start unique value length is less than 2.\u001b[0m\n",
      "\u001b[33m[W 2022-02-15 21:45:43,984]\u001b[0m Param nn_hidden_layers unique value length is less than 2.\u001b[0m\n",
      "\u001b[33m[W 2022-02-15 21:45:44,177]\u001b[0m Param epsilon_start unique value length is less than 2.\u001b[0m\n",
      "\u001b[33m[W 2022-02-15 21:45:44,376]\u001b[0m Param nn_hidden_layers unique value length is less than 2.\u001b[0m\n",
      "\u001b[33m[W 2022-02-15 21:45:44,569]\u001b[0m Param epsilon_start unique value length is less than 2.\u001b[0m\n",
      "\u001b[33m[W 2022-02-15 21:45:44,761]\u001b[0m Param nn_hidden_layers unique value length is less than 2.\u001b[0m\n",
      "\u001b[33m[W 2022-02-15 21:45:44,879]\u001b[0m Param nn_hidden_layers unique value length is less than 2.\u001b[0m\n",
      "\u001b[33m[W 2022-02-15 21:45:44,907]\u001b[0m Param nn_hidden_layers unique value length is less than 2.\u001b[0m\n",
      "\u001b[33m[W 2022-02-15 21:45:44,936]\u001b[0m Param nn_hidden_layers unique value length is less than 2.\u001b[0m\n",
      "\u001b[33m[W 2022-02-15 21:45:44,963]\u001b[0m Param nn_hidden_layers unique value length is less than 2.\u001b[0m\n",
      "\u001b[33m[W 2022-02-15 21:45:44,991]\u001b[0m Param nn_hidden_layers unique value length is less than 2.\u001b[0m\n",
      "\u001b[33m[W 2022-02-15 21:45:45,019]\u001b[0m Param nn_hidden_layers unique value length is less than 2.\u001b[0m\n",
      "\u001b[33m[W 2022-02-15 21:45:45,047]\u001b[0m Param nn_hidden_layers unique value length is less than 2.\u001b[0m\n",
      "\u001b[33m[W 2022-02-15 21:45:45,084]\u001b[0m Param nn_hidden_layers unique value length is less than 2.\u001b[0m\n",
      "\u001b[33m[W 2022-02-15 21:45:45,112]\u001b[0m Param nn_hidden_layers unique value length is less than 2.\u001b[0m\n",
      "\u001b[33m[W 2022-02-15 21:45:45,141]\u001b[0m Param nn_hidden_layers unique value length is less than 2.\u001b[0m\n",
      "\u001b[33m[W 2022-02-15 21:45:45,169]\u001b[0m Param nn_hidden_layers unique value length is less than 2.\u001b[0m\n",
      "\u001b[33m[W 2022-02-15 21:45:45,232]\u001b[0m Param nn_hidden_layers unique value length is less than 2.\u001b[0m\n",
      "\u001b[33m[W 2022-02-15 21:45:45,270]\u001b[0m Param nn_hidden_layers unique value length is less than 2.\u001b[0m\n",
      "\u001b[33m[W 2022-02-15 21:45:45,299]\u001b[0m Param nn_hidden_layers unique value length is less than 2.\u001b[0m\n",
      "\u001b[33m[W 2022-02-15 21:45:45,433]\u001b[0m Param epsilon_start unique value length is less than 2.\u001b[0m\n",
      "\u001b[33m[W 2022-02-15 21:45:45,691]\u001b[0m Param nn_hidden_layers unique value length is less than 2.\u001b[0m\n",
      "\u001b[33m[W 2022-02-15 21:45:45,916]\u001b[0m Param epsilon_start unique value length is less than 2.\u001b[0m\n",
      "\u001b[33m[W 2022-02-15 21:45:46,127]\u001b[0m Param nn_hidden_layers unique value length is less than 2.\u001b[0m\n",
      "\u001b[33m[W 2022-02-15 21:45:46,312]\u001b[0m Param epsilon_start unique value length is less than 2.\u001b[0m\n",
      "\u001b[33m[W 2022-02-15 21:45:46,517]\u001b[0m Param nn_hidden_layers unique value length is less than 2.\u001b[0m\n"
     ]
    },
    {
     "name": "stdout",
     "output_type": "stream",
     "text": [
      "https://app.neptune.ai/plabartabajo/parametric-q-learning-cart-pole/e/PAR-78\n",
      "Remember to stop your run once you’ve finished logging your metadata (https://docs.neptune.ai/api-reference/run#.stop). It will be stopped automatically only when the notebook kernel/interactive console is terminated.\n",
      "67,586 parameters\n"
     ]
    },
    {
     "name": "stderr",
     "output_type": "stream",
     "text": [
      "100%|██████████████████████████████████████████████████████████████████████████| 500/500 [01:42<00:00,  4.88it/s]\n",
      "100%|████████████████████████████████████████████████████████████████████████| 1000/1000 [00:37<00:00, 26.75it/s]"
     ]
    },
    {
     "name": "stdout",
     "output_type": "stream",
     "text": [
      "Shutting down background jobs, please wait a moment...\n",
      "Done!\n"
     ]
    },
    {
     "name": "stderr",
     "output_type": "stream",
     "text": [
      "\n",
      "Waiting for the remaining 30 operations to synchronize with Neptune. Do not kill this process.\n"
     ]
    },
    {
     "name": "stdout",
     "output_type": "stream",
     "text": [
      "All 30 operations synced, thanks for waiting!\n"
     ]
    },
    {
     "name": "stderr",
     "output_type": "stream",
     "text": [
      "\u001b[32m[I 2022-02-15 21:48:09,269]\u001b[0m Trial 26 finished with value: 219.93 and parameters: {'learning_rate': 4.840894244695482e-05, 'discount_factor': 0.9, 'batch_size': 16, 'memory_size': 50000, 'freq_steps_train': 8, 'freq_steps_update_target': 100, 'n_steps_warm_up_memory': 1000, 'n_gradient_steps': 16, 'nn_hidden_layers': '[256, 256]', 'max_grad_norm': 100, 'normalize_state': True, 'epsilon_start': 0.9, 'epsilon_end': 0.11049880004906254, 'steps_epsilon_decay': 100000, 'seed': 290545103}. Best is trial 12 with value: 313.91.\u001b[0m\n",
      "\u001b[33m[W 2022-02-15 21:48:16,979]\u001b[0m Param epsilon_start unique value length is less than 2.\u001b[0m\n",
      "\u001b[33m[W 2022-02-15 21:48:17,236]\u001b[0m Param nn_hidden_layers unique value length is less than 2.\u001b[0m\n",
      "\u001b[33m[W 2022-02-15 21:48:17,440]\u001b[0m Param epsilon_start unique value length is less than 2.\u001b[0m\n",
      "\u001b[33m[W 2022-02-15 21:48:17,632]\u001b[0m Param nn_hidden_layers unique value length is less than 2.\u001b[0m\n",
      "\u001b[33m[W 2022-02-15 21:48:17,805]\u001b[0m Param epsilon_start unique value length is less than 2.\u001b[0m\n",
      "\u001b[33m[W 2022-02-15 21:48:18,005]\u001b[0m Param nn_hidden_layers unique value length is less than 2.\u001b[0m\n",
      "\u001b[33m[W 2022-02-15 21:48:18,121]\u001b[0m Param epsilon_start unique value length is less than 2.\u001b[0m\n",
      "\u001b[33m[W 2022-02-15 21:48:18,138]\u001b[0m Param epsilon_start unique value length is less than 2.\u001b[0m\n",
      "\u001b[33m[W 2022-02-15 21:48:18,156]\u001b[0m Param epsilon_start unique value length is less than 2.\u001b[0m\n",
      "\u001b[33m[W 2022-02-15 21:48:18,190]\u001b[0m Param epsilon_start unique value length is less than 2.\u001b[0m\n",
      "\u001b[33m[W 2022-02-15 21:48:18,208]\u001b[0m Param epsilon_start unique value length is less than 2.\u001b[0m\n",
      "\u001b[33m[W 2022-02-15 21:48:18,226]\u001b[0m Param epsilon_start unique value length is less than 2.\u001b[0m\n",
      "\u001b[33m[W 2022-02-15 21:48:18,253]\u001b[0m Param epsilon_start unique value length is less than 2.\u001b[0m\n",
      "\u001b[33m[W 2022-02-15 21:48:18,271]\u001b[0m Param epsilon_start unique value length is less than 2.\u001b[0m\n",
      "\u001b[33m[W 2022-02-15 21:48:18,289]\u001b[0m Param epsilon_start unique value length is less than 2.\u001b[0m\n",
      "\u001b[33m[W 2022-02-15 21:48:18,307]\u001b[0m Param epsilon_start unique value length is less than 2.\u001b[0m\n",
      "\u001b[33m[W 2022-02-15 21:48:18,326]\u001b[0m Param epsilon_start unique value length is less than 2.\u001b[0m\n",
      "\u001b[33m[W 2022-02-15 21:48:18,353]\u001b[0m Param epsilon_start unique value length is less than 2.\u001b[0m\n",
      "\u001b[33m[W 2022-02-15 21:48:18,382]\u001b[0m Param epsilon_start unique value length is less than 2.\u001b[0m\n",
      "\u001b[33m[W 2022-02-15 21:48:18,401]\u001b[0m Param epsilon_start unique value length is less than 2.\u001b[0m\n",
      "\u001b[33m[W 2022-02-15 21:48:18,504]\u001b[0m Param epsilon_start unique value length is less than 2.\u001b[0m\n",
      "\u001b[33m[W 2022-02-15 21:48:18,692]\u001b[0m Param nn_hidden_layers unique value length is less than 2.\u001b[0m\n",
      "\u001b[33m[W 2022-02-15 21:48:18,877]\u001b[0m Param epsilon_start unique value length is less than 2.\u001b[0m\n",
      "\u001b[33m[W 2022-02-15 21:48:19,060]\u001b[0m Param nn_hidden_layers unique value length is less than 2.\u001b[0m\n",
      "\u001b[33m[W 2022-02-15 21:48:19,270]\u001b[0m Param epsilon_start unique value length is less than 2.\u001b[0m\n",
      "\u001b[33m[W 2022-02-15 21:48:19,526]\u001b[0m Param nn_hidden_layers unique value length is less than 2.\u001b[0m\n",
      "\u001b[33m[W 2022-02-15 21:48:19,748]\u001b[0m Param epsilon_start unique value length is less than 2.\u001b[0m\n",
      "\u001b[33m[W 2022-02-15 21:48:19,926]\u001b[0m Param nn_hidden_layers unique value length is less than 2.\u001b[0m\n",
      "\u001b[33m[W 2022-02-15 21:48:20,114]\u001b[0m Param epsilon_start unique value length is less than 2.\u001b[0m\n",
      "\u001b[33m[W 2022-02-15 21:48:20,302]\u001b[0m Param nn_hidden_layers unique value length is less than 2.\u001b[0m\n",
      "\u001b[33m[W 2022-02-15 21:48:20,481]\u001b[0m Param epsilon_start unique value length is less than 2.\u001b[0m\n",
      "\u001b[33m[W 2022-02-15 21:48:20,665]\u001b[0m Param nn_hidden_layers unique value length is less than 2.\u001b[0m\n",
      "\u001b[33m[W 2022-02-15 21:48:20,841]\u001b[0m Param epsilon_start unique value length is less than 2.\u001b[0m\n",
      "\u001b[33m[W 2022-02-15 21:48:21,016]\u001b[0m Param nn_hidden_layers unique value length is less than 2.\u001b[0m\n",
      "\u001b[33m[W 2022-02-15 21:48:21,121]\u001b[0m Param nn_hidden_layers unique value length is less than 2.\u001b[0m\n",
      "\u001b[33m[W 2022-02-15 21:48:21,146]\u001b[0m Param nn_hidden_layers unique value length is less than 2.\u001b[0m\n",
      "\u001b[33m[W 2022-02-15 21:48:21,171]\u001b[0m Param nn_hidden_layers unique value length is less than 2.\u001b[0m\n",
      "\u001b[33m[W 2022-02-15 21:48:21,196]\u001b[0m Param nn_hidden_layers unique value length is less than 2.\u001b[0m\n",
      "\u001b[33m[W 2022-02-15 21:48:21,222]\u001b[0m Param nn_hidden_layers unique value length is less than 2.\u001b[0m\n",
      "\u001b[33m[W 2022-02-15 21:48:21,248]\u001b[0m Param nn_hidden_layers unique value length is less than 2.\u001b[0m\n",
      "\u001b[33m[W 2022-02-15 21:48:21,273]\u001b[0m Param nn_hidden_layers unique value length is less than 2.\u001b[0m\n",
      "\u001b[33m[W 2022-02-15 21:48:21,306]\u001b[0m Param nn_hidden_layers unique value length is less than 2.\u001b[0m\n",
      "\u001b[33m[W 2022-02-15 21:48:21,331]\u001b[0m Param nn_hidden_layers unique value length is less than 2.\u001b[0m\n",
      "\u001b[33m[W 2022-02-15 21:48:21,356]\u001b[0m Param nn_hidden_layers unique value length is less than 2.\u001b[0m\n",
      "\u001b[33m[W 2022-02-15 21:48:21,384]\u001b[0m Param nn_hidden_layers unique value length is less than 2.\u001b[0m\n",
      "\u001b[33m[W 2022-02-15 21:48:21,440]\u001b[0m Param nn_hidden_layers unique value length is less than 2.\u001b[0m\n",
      "\u001b[33m[W 2022-02-15 21:48:21,472]\u001b[0m Param nn_hidden_layers unique value length is less than 2.\u001b[0m\n",
      "\u001b[33m[W 2022-02-15 21:48:21,497]\u001b[0m Param nn_hidden_layers unique value length is less than 2.\u001b[0m\n",
      "\u001b[33m[W 2022-02-15 21:48:21,618]\u001b[0m Param epsilon_start unique value length is less than 2.\u001b[0m\n",
      "\u001b[33m[W 2022-02-15 21:48:21,852]\u001b[0m Param nn_hidden_layers unique value length is less than 2.\u001b[0m\n",
      "\u001b[33m[W 2022-02-15 21:48:22,054]\u001b[0m Param epsilon_start unique value length is less than 2.\u001b[0m\n",
      "\u001b[33m[W 2022-02-15 21:48:22,242]\u001b[0m Param nn_hidden_layers unique value length is less than 2.\u001b[0m\n",
      "\u001b[33m[W 2022-02-15 21:48:22,408]\u001b[0m Param epsilon_start unique value length is less than 2.\u001b[0m\n",
      "\u001b[33m[W 2022-02-15 21:48:22,591]\u001b[0m Param nn_hidden_layers unique value length is less than 2.\u001b[0m\n"
     ]
    },
    {
     "name": "stdout",
     "output_type": "stream",
     "text": [
      "https://app.neptune.ai/plabartabajo/parametric-q-learning-cart-pole/e/PAR-79\n",
      "Remember to stop your run once you’ve finished logging your metadata (https://docs.neptune.ai/api-reference/run#.stop). It will be stopped automatically only when the notebook kernel/interactive console is terminated.\n",
      "67,586 parameters\n"
     ]
    },
    {
     "name": "stderr",
     "output_type": "stream",
     "text": [
      "100%|██████████████████████████████████████████████████████████████████████████| 500/500 [01:08<00:00,  7.33it/s]\n",
      "100%|████████████████████████████████████████████████████████████████████████| 1000/1000 [00:17<00:00, 57.26it/s]"
     ]
    },
    {
     "name": "stdout",
     "output_type": "stream",
     "text": [
      "Shutting down background jobs, please wait a moment...\n",
      "Done!\n"
     ]
    },
    {
     "name": "stderr",
     "output_type": "stream",
     "text": [
      "\n",
      "Waiting for the remaining 29 operations to synchronize with Neptune. Do not kill this process.\n"
     ]
    },
    {
     "name": "stdout",
     "output_type": "stream",
     "text": [
      "All 29 operations synced, thanks for waiting!\n"
     ]
    },
    {
     "name": "stderr",
     "output_type": "stream",
     "text": [
      "\u001b[32m[I 2022-02-15 21:49:50,767]\u001b[0m Trial 27 finished with value: 82.186 and parameters: {'learning_rate': 1.003569848960024e-05, 'discount_factor': 0.9, 'batch_size': 128, 'memory_size': 50000, 'freq_steps_train': 16, 'freq_steps_update_target': 100, 'n_steps_warm_up_memory': 5000, 'n_gradient_steps': 16, 'nn_hidden_layers': '[256, 256]', 'max_grad_norm': 100, 'normalize_state': True, 'epsilon_start': 0.9, 'epsilon_end': 0.07426087284332114, 'steps_epsilon_decay': 100000, 'seed': 585078892}. Best is trial 12 with value: 313.91.\u001b[0m\n",
      "\u001b[33m[W 2022-02-15 21:50:03,986]\u001b[0m Param epsilon_start unique value length is less than 2.\u001b[0m\n",
      "\u001b[33m[W 2022-02-15 21:50:04,347]\u001b[0m Param nn_hidden_layers unique value length is less than 2.\u001b[0m\n",
      "\u001b[33m[W 2022-02-15 21:50:04,674]\u001b[0m Param epsilon_start unique value length is less than 2.\u001b[0m\n",
      "\u001b[33m[W 2022-02-15 21:50:04,991]\u001b[0m Param nn_hidden_layers unique value length is less than 2.\u001b[0m\n",
      "\u001b[33m[W 2022-02-15 21:50:05,343]\u001b[0m Param epsilon_start unique value length is less than 2.\u001b[0m\n",
      "\u001b[33m[W 2022-02-15 21:50:05,720]\u001b[0m Param nn_hidden_layers unique value length is less than 2.\u001b[0m\n",
      "\u001b[33m[W 2022-02-15 21:50:06,001]\u001b[0m Param epsilon_start unique value length is less than 2.\u001b[0m\n",
      "\u001b[33m[W 2022-02-15 21:50:06,038]\u001b[0m Param epsilon_start unique value length is less than 2.\u001b[0m\n",
      "\u001b[33m[W 2022-02-15 21:50:06,072]\u001b[0m Param epsilon_start unique value length is less than 2.\u001b[0m\n",
      "\u001b[33m[W 2022-02-15 21:50:06,141]\u001b[0m Param epsilon_start unique value length is less than 2.\u001b[0m\n",
      "\u001b[33m[W 2022-02-15 21:50:06,176]\u001b[0m Param epsilon_start unique value length is less than 2.\u001b[0m\n",
      "\u001b[33m[W 2022-02-15 21:50:06,213]\u001b[0m Param epsilon_start unique value length is less than 2.\u001b[0m\n",
      "\u001b[33m[W 2022-02-15 21:50:06,267]\u001b[0m Param epsilon_start unique value length is less than 2.\u001b[0m\n",
      "\u001b[33m[W 2022-02-15 21:50:06,306]\u001b[0m Param epsilon_start unique value length is less than 2.\u001b[0m\n",
      "\u001b[33m[W 2022-02-15 21:50:06,341]\u001b[0m Param epsilon_start unique value length is less than 2.\u001b[0m\n",
      "\u001b[33m[W 2022-02-15 21:50:06,376]\u001b[0m Param epsilon_start unique value length is less than 2.\u001b[0m\n",
      "\u001b[33m[W 2022-02-15 21:50:06,411]\u001b[0m Param epsilon_start unique value length is less than 2.\u001b[0m\n",
      "\u001b[33m[W 2022-02-15 21:50:06,462]\u001b[0m Param epsilon_start unique value length is less than 2.\u001b[0m\n",
      "\u001b[33m[W 2022-02-15 21:50:06,518]\u001b[0m Param epsilon_start unique value length is less than 2.\u001b[0m\n",
      "\u001b[33m[W 2022-02-15 21:50:06,560]\u001b[0m Param epsilon_start unique value length is less than 2.\u001b[0m\n",
      "\u001b[33m[W 2022-02-15 21:50:06,747]\u001b[0m Param epsilon_start unique value length is less than 2.\u001b[0m\n",
      "\u001b[33m[W 2022-02-15 21:50:07,101]\u001b[0m Param nn_hidden_layers unique value length is less than 2.\u001b[0m\n",
      "\u001b[33m[W 2022-02-15 21:50:07,473]\u001b[0m Param epsilon_start unique value length is less than 2.\u001b[0m\n",
      "\u001b[33m[W 2022-02-15 21:50:07,945]\u001b[0m Param nn_hidden_layers unique value length is less than 2.\u001b[0m\n",
      "\u001b[33m[W 2022-02-15 21:50:09,017]\u001b[0m Param epsilon_start unique value length is less than 2.\u001b[0m\n",
      "\u001b[33m[W 2022-02-15 21:50:09,553]\u001b[0m Param nn_hidden_layers unique value length is less than 2.\u001b[0m\n",
      "\u001b[33m[W 2022-02-15 21:50:09,980]\u001b[0m Param epsilon_start unique value length is less than 2.\u001b[0m\n",
      "\u001b[33m[W 2022-02-15 21:50:10,321]\u001b[0m Param nn_hidden_layers unique value length is less than 2.\u001b[0m\n",
      "\u001b[33m[W 2022-02-15 21:50:10,655]\u001b[0m Param epsilon_start unique value length is less than 2.\u001b[0m\n",
      "\u001b[33m[W 2022-02-15 21:50:10,970]\u001b[0m Param nn_hidden_layers unique value length is less than 2.\u001b[0m\n",
      "\u001b[33m[W 2022-02-15 21:50:11,266]\u001b[0m Param epsilon_start unique value length is less than 2.\u001b[0m\n",
      "\u001b[33m[W 2022-02-15 21:50:11,560]\u001b[0m Param nn_hidden_layers unique value length is less than 2.\u001b[0m\n",
      "\u001b[33m[W 2022-02-15 21:50:11,855]\u001b[0m Param epsilon_start unique value length is less than 2.\u001b[0m\n",
      "\u001b[33m[W 2022-02-15 21:50:12,132]\u001b[0m Param nn_hidden_layers unique value length is less than 2.\u001b[0m\n",
      "\u001b[33m[W 2022-02-15 21:50:12,301]\u001b[0m Param nn_hidden_layers unique value length is less than 2.\u001b[0m\n",
      "\u001b[33m[W 2022-02-15 21:50:12,345]\u001b[0m Param nn_hidden_layers unique value length is less than 2.\u001b[0m\n",
      "\u001b[33m[W 2022-02-15 21:50:12,387]\u001b[0m Param nn_hidden_layers unique value length is less than 2.\u001b[0m\n",
      "\u001b[33m[W 2022-02-15 21:50:12,425]\u001b[0m Param nn_hidden_layers unique value length is less than 2.\u001b[0m\n",
      "\u001b[33m[W 2022-02-15 21:50:12,464]\u001b[0m Param nn_hidden_layers unique value length is less than 2.\u001b[0m\n",
      "\u001b[33m[W 2022-02-15 21:50:12,544]\u001b[0m Param nn_hidden_layers unique value length is less than 2.\u001b[0m\n",
      "\u001b[33m[W 2022-02-15 21:50:12,586]\u001b[0m Param nn_hidden_layers unique value length is less than 2.\u001b[0m\n",
      "\u001b[33m[W 2022-02-15 21:50:12,638]\u001b[0m Param nn_hidden_layers unique value length is less than 2.\u001b[0m\n",
      "\u001b[33m[W 2022-02-15 21:50:12,677]\u001b[0m Param nn_hidden_layers unique value length is less than 2.\u001b[0m\n",
      "\u001b[33m[W 2022-02-15 21:50:12,719]\u001b[0m Param nn_hidden_layers unique value length is less than 2.\u001b[0m\n",
      "\u001b[33m[W 2022-02-15 21:50:12,756]\u001b[0m Param nn_hidden_layers unique value length is less than 2.\u001b[0m\n",
      "\u001b[33m[W 2022-02-15 21:50:12,843]\u001b[0m Param nn_hidden_layers unique value length is less than 2.\u001b[0m\n",
      "\u001b[33m[W 2022-02-15 21:50:12,895]\u001b[0m Param nn_hidden_layers unique value length is less than 2.\u001b[0m\n",
      "\u001b[33m[W 2022-02-15 21:50:12,934]\u001b[0m Param nn_hidden_layers unique value length is less than 2.\u001b[0m\n",
      "\u001b[33m[W 2022-02-15 21:50:13,115]\u001b[0m Param epsilon_start unique value length is less than 2.\u001b[0m\n",
      "\u001b[33m[W 2022-02-15 21:50:13,456]\u001b[0m Param nn_hidden_layers unique value length is less than 2.\u001b[0m\n",
      "\u001b[33m[W 2022-02-15 21:50:13,860]\u001b[0m Param epsilon_start unique value length is less than 2.\u001b[0m\n",
      "\u001b[33m[W 2022-02-15 21:50:14,185]\u001b[0m Param nn_hidden_layers unique value length is less than 2.\u001b[0m\n",
      "\u001b[33m[W 2022-02-15 21:50:14,541]\u001b[0m Param epsilon_start unique value length is less than 2.\u001b[0m\n",
      "\u001b[33m[W 2022-02-15 21:50:14,847]\u001b[0m Param nn_hidden_layers unique value length is less than 2.\u001b[0m\n"
     ]
    },
    {
     "name": "stdout",
     "output_type": "stream",
     "text": [
      "https://app.neptune.ai/plabartabajo/parametric-q-learning-cart-pole/e/PAR-80\n",
      "Remember to stop your run once you’ve finished logging your metadata (https://docs.neptune.ai/api-reference/run#.stop). It will be stopped automatically only when the notebook kernel/interactive console is terminated.\n",
      "67,586 parameters\n"
     ]
    },
    {
     "name": "stderr",
     "output_type": "stream",
     "text": [
      "100%|█████████████████████████████████████████████████████████████████████████| 500/500 [00:03<00:00, 159.96it/s]\n",
      "100%|███████████████████████████████████████████████████████████████████████| 1000/1000 [00:04<00:00, 243.15it/s]"
     ]
    },
    {
     "name": "stdout",
     "output_type": "stream",
     "text": [
      "Shutting down background jobs, please wait a moment...\n",
      "Done!\n"
     ]
    },
    {
     "name": "stderr",
     "output_type": "stream",
     "text": [
      "\n",
      "Waiting for the remaining 74 operations to synchronize with Neptune. Do not kill this process.\n"
     ]
    },
    {
     "name": "stdout",
     "output_type": "stream",
     "text": [
      "All 74 operations synced, thanks for waiting!\n"
     ]
    },
    {
     "name": "stderr",
     "output_type": "stream",
     "text": [
      "\u001b[32m[I 2022-02-15 21:50:27,123]\u001b[0m Trial 28 finished with value: 9.358 and parameters: {'learning_rate': 5.6910093178772284e-05, 'discount_factor': 0.95, 'batch_size': 32, 'memory_size': 50000, 'freq_steps_train': 256, 'freq_steps_update_target': 100, 'n_steps_warm_up_memory': 5000, 'n_gradient_steps': 1, 'nn_hidden_layers': '[256, 256]', 'max_grad_norm': 10, 'normalize_state': True, 'epsilon_start': 0.9, 'epsilon_end': 0.05394433577650991, 'steps_epsilon_decay': 10000, 'seed': 683544491}. Best is trial 12 with value: 313.91.\u001b[0m\n",
      "\u001b[33m[W 2022-02-15 21:50:37,739]\u001b[0m Param epsilon_start unique value length is less than 2.\u001b[0m\n",
      "\u001b[33m[W 2022-02-15 21:50:38,034]\u001b[0m Param nn_hidden_layers unique value length is less than 2.\u001b[0m\n",
      "\u001b[33m[W 2022-02-15 21:50:38,277]\u001b[0m Param epsilon_start unique value length is less than 2.\u001b[0m\n",
      "\u001b[33m[W 2022-02-15 21:50:38,506]\u001b[0m Param nn_hidden_layers unique value length is less than 2.\u001b[0m\n",
      "\u001b[33m[W 2022-02-15 21:50:38,718]\u001b[0m Param epsilon_start unique value length is less than 2.\u001b[0m\n",
      "\u001b[33m[W 2022-02-15 21:50:38,971]\u001b[0m Param nn_hidden_layers unique value length is less than 2.\u001b[0m\n",
      "\u001b[33m[W 2022-02-15 21:50:39,115]\u001b[0m Param epsilon_start unique value length is less than 2.\u001b[0m\n",
      "\u001b[33m[W 2022-02-15 21:50:39,137]\u001b[0m Param epsilon_start unique value length is less than 2.\u001b[0m\n",
      "\u001b[33m[W 2022-02-15 21:50:39,161]\u001b[0m Param epsilon_start unique value length is less than 2.\u001b[0m\n",
      "\u001b[33m[W 2022-02-15 21:50:39,207]\u001b[0m Param epsilon_start unique value length is less than 2.\u001b[0m\n",
      "\u001b[33m[W 2022-02-15 21:50:39,234]\u001b[0m Param epsilon_start unique value length is less than 2.\u001b[0m\n",
      "\u001b[33m[W 2022-02-15 21:50:39,258]\u001b[0m Param epsilon_start unique value length is less than 2.\u001b[0m\n",
      "\u001b[33m[W 2022-02-15 21:50:39,291]\u001b[0m Param epsilon_start unique value length is less than 2.\u001b[0m\n",
      "\u001b[33m[W 2022-02-15 21:50:39,314]\u001b[0m Param epsilon_start unique value length is less than 2.\u001b[0m\n",
      "\u001b[33m[W 2022-02-15 21:50:39,339]\u001b[0m Param epsilon_start unique value length is less than 2.\u001b[0m\n",
      "\u001b[33m[W 2022-02-15 21:50:39,363]\u001b[0m Param epsilon_start unique value length is less than 2.\u001b[0m\n",
      "\u001b[33m[W 2022-02-15 21:50:39,391]\u001b[0m Param epsilon_start unique value length is less than 2.\u001b[0m\n",
      "\u001b[33m[W 2022-02-15 21:50:39,424]\u001b[0m Param epsilon_start unique value length is less than 2.\u001b[0m\n",
      "\u001b[33m[W 2022-02-15 21:50:39,458]\u001b[0m Param epsilon_start unique value length is less than 2.\u001b[0m\n",
      "\u001b[33m[W 2022-02-15 21:50:39,486]\u001b[0m Param epsilon_start unique value length is less than 2.\u001b[0m\n",
      "\u001b[33m[W 2022-02-15 21:50:39,626]\u001b[0m Param epsilon_start unique value length is less than 2.\u001b[0m\n",
      "\u001b[33m[W 2022-02-15 21:50:39,862]\u001b[0m Param nn_hidden_layers unique value length is less than 2.\u001b[0m\n",
      "\u001b[33m[W 2022-02-15 21:50:40,102]\u001b[0m Param epsilon_start unique value length is less than 2.\u001b[0m\n",
      "\u001b[33m[W 2022-02-15 21:50:40,342]\u001b[0m Param nn_hidden_layers unique value length is less than 2.\u001b[0m\n",
      "\u001b[33m[W 2022-02-15 21:50:40,628]\u001b[0m Param epsilon_start unique value length is less than 2.\u001b[0m\n",
      "\u001b[33m[W 2022-02-15 21:50:40,952]\u001b[0m Param nn_hidden_layers unique value length is less than 2.\u001b[0m\n",
      "\u001b[33m[W 2022-02-15 21:50:41,258]\u001b[0m Param epsilon_start unique value length is less than 2.\u001b[0m\n",
      "\u001b[33m[W 2022-02-15 21:50:41,476]\u001b[0m Param nn_hidden_layers unique value length is less than 2.\u001b[0m\n",
      "\u001b[33m[W 2022-02-15 21:50:41,693]\u001b[0m Param epsilon_start unique value length is less than 2.\u001b[0m\n",
      "\u001b[33m[W 2022-02-15 21:50:41,906]\u001b[0m Param nn_hidden_layers unique value length is less than 2.\u001b[0m\n",
      "\u001b[33m[W 2022-02-15 21:50:42,115]\u001b[0m Param epsilon_start unique value length is less than 2.\u001b[0m\n",
      "\u001b[33m[W 2022-02-15 21:50:42,335]\u001b[0m Param nn_hidden_layers unique value length is less than 2.\u001b[0m\n",
      "\u001b[33m[W 2022-02-15 21:50:42,544]\u001b[0m Param epsilon_start unique value length is less than 2.\u001b[0m\n",
      "\u001b[33m[W 2022-02-15 21:50:42,760]\u001b[0m Param nn_hidden_layers unique value length is less than 2.\u001b[0m\n",
      "\u001b[33m[W 2022-02-15 21:50:42,920]\u001b[0m Param nn_hidden_layers unique value length is less than 2.\u001b[0m\n",
      "\u001b[33m[W 2022-02-15 21:50:42,954]\u001b[0m Param nn_hidden_layers unique value length is less than 2.\u001b[0m\n",
      "\u001b[33m[W 2022-02-15 21:50:42,991]\u001b[0m Param nn_hidden_layers unique value length is less than 2.\u001b[0m\n",
      "\u001b[33m[W 2022-02-15 21:50:43,026]\u001b[0m Param nn_hidden_layers unique value length is less than 2.\u001b[0m\n",
      "\u001b[33m[W 2022-02-15 21:50:43,062]\u001b[0m Param nn_hidden_layers unique value length is less than 2.\u001b[0m\n",
      "\u001b[33m[W 2022-02-15 21:50:43,145]\u001b[0m Param nn_hidden_layers unique value length is less than 2.\u001b[0m\n",
      "\u001b[33m[W 2022-02-15 21:50:43,209]\u001b[0m Param nn_hidden_layers unique value length is less than 2.\u001b[0m\n",
      "\u001b[33m[W 2022-02-15 21:50:43,260]\u001b[0m Param nn_hidden_layers unique value length is less than 2.\u001b[0m\n",
      "\u001b[33m[W 2022-02-15 21:50:43,294]\u001b[0m Param nn_hidden_layers unique value length is less than 2.\u001b[0m\n",
      "\u001b[33m[W 2022-02-15 21:50:43,339]\u001b[0m Param nn_hidden_layers unique value length is less than 2.\u001b[0m\n",
      "\u001b[33m[W 2022-02-15 21:50:43,378]\u001b[0m Param nn_hidden_layers unique value length is less than 2.\u001b[0m\n",
      "\u001b[33m[W 2022-02-15 21:50:43,461]\u001b[0m Param nn_hidden_layers unique value length is less than 2.\u001b[0m\n",
      "\u001b[33m[W 2022-02-15 21:50:43,508]\u001b[0m Param nn_hidden_layers unique value length is less than 2.\u001b[0m\n",
      "\u001b[33m[W 2022-02-15 21:50:43,538]\u001b[0m Param nn_hidden_layers unique value length is less than 2.\u001b[0m\n",
      "\u001b[33m[W 2022-02-15 21:50:43,685]\u001b[0m Param epsilon_start unique value length is less than 2.\u001b[0m\n",
      "\u001b[33m[W 2022-02-15 21:50:43,977]\u001b[0m Param nn_hidden_layers unique value length is less than 2.\u001b[0m\n",
      "\u001b[33m[W 2022-02-15 21:50:44,224]\u001b[0m Param epsilon_start unique value length is less than 2.\u001b[0m\n",
      "\u001b[33m[W 2022-02-15 21:50:44,468]\u001b[0m Param nn_hidden_layers unique value length is less than 2.\u001b[0m\n",
      "\u001b[33m[W 2022-02-15 21:50:44,702]\u001b[0m Param epsilon_start unique value length is less than 2.\u001b[0m\n",
      "\u001b[33m[W 2022-02-15 21:50:45,002]\u001b[0m Param nn_hidden_layers unique value length is less than 2.\u001b[0m\n"
     ]
    },
    {
     "name": "stdout",
     "output_type": "stream",
     "text": [
      "https://app.neptune.ai/plabartabajo/parametric-q-learning-cart-pole/e/PAR-81\n",
      "Remember to stop your run once you’ve finished logging your metadata (https://docs.neptune.ai/api-reference/run#.stop). It will be stopped automatically only when the notebook kernel/interactive console is terminated.\n",
      "67,586 parameters\n"
     ]
    },
    {
     "name": "stderr",
     "output_type": "stream",
     "text": [
      "100%|█████████████████████████████████████████████████████████████████████████| 500/500 [00:02<00:00, 198.91it/s]\n",
      "100%|███████████████████████████████████████████████████████████████████████| 1000/1000 [00:03<00:00, 286.41it/s]"
     ]
    },
    {
     "name": "stdout",
     "output_type": "stream",
     "text": [
      "Shutting down background jobs, please wait a moment...\n",
      "Done!\n"
     ]
    },
    {
     "name": "stderr",
     "output_type": "stream",
     "text": [
      "\n",
      "Waiting for the remaining 55 operations to synchronize with Neptune. Do not kill this process.\n"
     ]
    },
    {
     "name": "stdout",
     "output_type": "stream",
     "text": [
      "All 55 operations synced, thanks for waiting!\n"
     ]
    },
    {
     "name": "stderr",
     "output_type": "stream",
     "text": [
      "\u001b[32m[I 2022-02-15 21:50:55,658]\u001b[0m Trial 29 finished with value: 9.383 and parameters: {'learning_rate': 2.9036547081505377e-05, 'discount_factor': 0.99, 'batch_size': 128, 'memory_size': 50000, 'freq_steps_train': 16, 'freq_steps_update_target': 100, 'n_steps_warm_up_memory': 5000, 'n_gradient_steps': 4, 'nn_hidden_layers': '[256, 256]', 'max_grad_norm': 1, 'normalize_state': True, 'epsilon_start': 0.9, 'epsilon_end': 0.002485595143758852, 'steps_epsilon_decay': 1000, 'seed': 295460832}. Best is trial 12 with value: 313.91.\u001b[0m\n",
      "\u001b[33m[W 2022-02-15 21:51:07,877]\u001b[0m Param epsilon_start unique value length is less than 2.\u001b[0m\n",
      "\u001b[33m[W 2022-02-15 21:51:08,187]\u001b[0m Param nn_hidden_layers unique value length is less than 2.\u001b[0m\n",
      "\u001b[33m[W 2022-02-15 21:51:08,436]\u001b[0m Param epsilon_start unique value length is less than 2.\u001b[0m\n",
      "\u001b[33m[W 2022-02-15 21:51:08,661]\u001b[0m Param nn_hidden_layers unique value length is less than 2.\u001b[0m\n",
      "\u001b[33m[W 2022-02-15 21:51:08,868]\u001b[0m Param epsilon_start unique value length is less than 2.\u001b[0m\n",
      "\u001b[33m[W 2022-02-15 21:51:09,108]\u001b[0m Param nn_hidden_layers unique value length is less than 2.\u001b[0m\n",
      "\u001b[33m[W 2022-02-15 21:51:09,246]\u001b[0m Param epsilon_start unique value length is less than 2.\u001b[0m\n",
      "\u001b[33m[W 2022-02-15 21:51:09,266]\u001b[0m Param epsilon_start unique value length is less than 2.\u001b[0m\n",
      "\u001b[33m[W 2022-02-15 21:51:09,288]\u001b[0m Param epsilon_start unique value length is less than 2.\u001b[0m\n",
      "\u001b[33m[W 2022-02-15 21:51:09,330]\u001b[0m Param epsilon_start unique value length is less than 2.\u001b[0m\n",
      "\u001b[33m[W 2022-02-15 21:51:09,354]\u001b[0m Param epsilon_start unique value length is less than 2.\u001b[0m\n",
      "\u001b[33m[W 2022-02-15 21:51:09,376]\u001b[0m Param epsilon_start unique value length is less than 2.\u001b[0m\n",
      "\u001b[33m[W 2022-02-15 21:51:09,408]\u001b[0m Param epsilon_start unique value length is less than 2.\u001b[0m\n",
      "\u001b[33m[W 2022-02-15 21:51:09,430]\u001b[0m Param epsilon_start unique value length is less than 2.\u001b[0m\n",
      "\u001b[33m[W 2022-02-15 21:51:09,455]\u001b[0m Param epsilon_start unique value length is less than 2.\u001b[0m\n",
      "\u001b[33m[W 2022-02-15 21:51:09,493]\u001b[0m Param epsilon_start unique value length is less than 2.\u001b[0m\n",
      "\u001b[33m[W 2022-02-15 21:51:09,528]\u001b[0m Param epsilon_start unique value length is less than 2.\u001b[0m\n",
      "\u001b[33m[W 2022-02-15 21:51:09,572]\u001b[0m Param epsilon_start unique value length is less than 2.\u001b[0m\n",
      "\u001b[33m[W 2022-02-15 21:51:09,619]\u001b[0m Param epsilon_start unique value length is less than 2.\u001b[0m\n",
      "\u001b[33m[W 2022-02-15 21:51:09,653]\u001b[0m Param epsilon_start unique value length is less than 2.\u001b[0m\n",
      "\u001b[33m[W 2022-02-15 21:51:09,787]\u001b[0m Param epsilon_start unique value length is less than 2.\u001b[0m\n",
      "\u001b[33m[W 2022-02-15 21:51:10,016]\u001b[0m Param nn_hidden_layers unique value length is less than 2.\u001b[0m\n",
      "\u001b[33m[W 2022-02-15 21:51:10,222]\u001b[0m Param epsilon_start unique value length is less than 2.\u001b[0m\n",
      "\u001b[33m[W 2022-02-15 21:51:10,488]\u001b[0m Param nn_hidden_layers unique value length is less than 2.\u001b[0m\n",
      "\u001b[33m[W 2022-02-15 21:51:10,770]\u001b[0m Param epsilon_start unique value length is less than 2.\u001b[0m\n",
      "\u001b[33m[W 2022-02-15 21:51:11,108]\u001b[0m Param nn_hidden_layers unique value length is less than 2.\u001b[0m\n",
      "\u001b[33m[W 2022-02-15 21:51:11,396]\u001b[0m Param epsilon_start unique value length is less than 2.\u001b[0m\n",
      "\u001b[33m[W 2022-02-15 21:51:11,634]\u001b[0m Param nn_hidden_layers unique value length is less than 2.\u001b[0m\n",
      "\u001b[33m[W 2022-02-15 21:51:11,864]\u001b[0m Param epsilon_start unique value length is less than 2.\u001b[0m\n",
      "\u001b[33m[W 2022-02-15 21:51:12,116]\u001b[0m Param nn_hidden_layers unique value length is less than 2.\u001b[0m\n",
      "\u001b[33m[W 2022-02-15 21:51:12,364]\u001b[0m Param epsilon_start unique value length is less than 2.\u001b[0m\n",
      "\u001b[33m[W 2022-02-15 21:51:12,609]\u001b[0m Param nn_hidden_layers unique value length is less than 2.\u001b[0m\n",
      "\u001b[33m[W 2022-02-15 21:51:12,846]\u001b[0m Param epsilon_start unique value length is less than 2.\u001b[0m\n",
      "\u001b[33m[W 2022-02-15 21:51:13,134]\u001b[0m Param nn_hidden_layers unique value length is less than 2.\u001b[0m\n",
      "\u001b[33m[W 2022-02-15 21:51:13,291]\u001b[0m Param nn_hidden_layers unique value length is less than 2.\u001b[0m\n",
      "\u001b[33m[W 2022-02-15 21:51:13,323]\u001b[0m Param nn_hidden_layers unique value length is less than 2.\u001b[0m\n",
      "\u001b[33m[W 2022-02-15 21:51:13,362]\u001b[0m Param nn_hidden_layers unique value length is less than 2.\u001b[0m\n",
      "\u001b[33m[W 2022-02-15 21:51:13,402]\u001b[0m Param nn_hidden_layers unique value length is less than 2.\u001b[0m\n",
      "\u001b[33m[W 2022-02-15 21:51:13,436]\u001b[0m Param nn_hidden_layers unique value length is less than 2.\u001b[0m\n",
      "\u001b[33m[W 2022-02-15 21:51:13,473]\u001b[0m Param nn_hidden_layers unique value length is less than 2.\u001b[0m\n",
      "\u001b[33m[W 2022-02-15 21:51:13,510]\u001b[0m Param nn_hidden_layers unique value length is less than 2.\u001b[0m\n",
      "\u001b[33m[W 2022-02-15 21:51:13,563]\u001b[0m Param nn_hidden_layers unique value length is less than 2.\u001b[0m\n",
      "\u001b[33m[W 2022-02-15 21:51:13,601]\u001b[0m Param nn_hidden_layers unique value length is less than 2.\u001b[0m\n",
      "\u001b[33m[W 2022-02-15 21:51:13,633]\u001b[0m Param nn_hidden_layers unique value length is less than 2.\u001b[0m\n",
      "\u001b[33m[W 2022-02-15 21:51:13,669]\u001b[0m Param nn_hidden_layers unique value length is less than 2.\u001b[0m\n",
      "\u001b[33m[W 2022-02-15 21:51:13,749]\u001b[0m Param nn_hidden_layers unique value length is less than 2.\u001b[0m\n",
      "\u001b[33m[W 2022-02-15 21:51:13,793]\u001b[0m Param nn_hidden_layers unique value length is less than 2.\u001b[0m\n",
      "\u001b[33m[W 2022-02-15 21:51:13,834]\u001b[0m Param nn_hidden_layers unique value length is less than 2.\u001b[0m\n",
      "\u001b[33m[W 2022-02-15 21:51:13,995]\u001b[0m Param epsilon_start unique value length is less than 2.\u001b[0m\n",
      "\u001b[33m[W 2022-02-15 21:51:14,298]\u001b[0m Param nn_hidden_layers unique value length is less than 2.\u001b[0m\n",
      "\u001b[33m[W 2022-02-15 21:51:14,570]\u001b[0m Param epsilon_start unique value length is less than 2.\u001b[0m\n",
      "\u001b[33m[W 2022-02-15 21:51:14,830]\u001b[0m Param nn_hidden_layers unique value length is less than 2.\u001b[0m\n",
      "\u001b[33m[W 2022-02-15 21:51:15,053]\u001b[0m Param epsilon_start unique value length is less than 2.\u001b[0m\n",
      "\u001b[33m[W 2022-02-15 21:51:15,290]\u001b[0m Param nn_hidden_layers unique value length is less than 2.\u001b[0m\n"
     ]
    },
    {
     "name": "stdout",
     "output_type": "stream",
     "text": [
      "https://app.neptune.ai/plabartabajo/parametric-q-learning-cart-pole/e/PAR-82\n",
      "Remember to stop your run once you’ve finished logging your metadata (https://docs.neptune.ai/api-reference/run#.stop). It will be stopped automatically only when the notebook kernel/interactive console is terminated.\n",
      "67,586 parameters\n"
     ]
    },
    {
     "name": "stderr",
     "output_type": "stream",
     "text": [
      "100%|██████████████████████████████████████████████████████████████████████████| 500/500 [00:07<00:00, 67.56it/s]\n",
      "100%|████████████████████████████████████████████████████████████████████████| 1000/1000 [01:13<00:00, 13.53it/s]"
     ]
    },
    {
     "name": "stdout",
     "output_type": "stream",
     "text": [
      "Shutting down background jobs, please wait a moment...\n",
      "Done!\n"
     ]
    },
    {
     "name": "stderr",
     "output_type": "stream",
     "text": [
      "\n",
      "Waiting for the remaining 43 operations to synchronize with Neptune. Do not kill this process.\n"
     ]
    },
    {
     "name": "stdout",
     "output_type": "stream",
     "text": [
      "All 43 operations synced, thanks for waiting!\n"
     ]
    },
    {
     "name": "stderr",
     "output_type": "stream",
     "text": [
      "\u001b[32m[I 2022-02-15 21:52:40,210]\u001b[0m Trial 30 finished with value: 250.141 and parameters: {'learning_rate': 0.002383449442370523, 'discount_factor': 0.99, 'batch_size': 16, 'memory_size': 50000, 'freq_steps_train': 8, 'freq_steps_update_target': 100, 'n_steps_warm_up_memory': 5000, 'n_gradient_steps': 1, 'nn_hidden_layers': '[256, 256]', 'max_grad_norm': 1, 'normalize_state': True, 'epsilon_start': 0.9, 'epsilon_end': 0.0439323913918396, 'steps_epsilon_decay': 10000, 'seed': 727801766}. Best is trial 12 with value: 313.91.\u001b[0m\n",
      "\u001b[33m[W 2022-02-15 21:52:49,776]\u001b[0m Param epsilon_start unique value length is less than 2.\u001b[0m\n",
      "\u001b[33m[W 2022-02-15 21:52:50,091]\u001b[0m Param nn_hidden_layers unique value length is less than 2.\u001b[0m\n",
      "\u001b[33m[W 2022-02-15 21:52:50,410]\u001b[0m Param epsilon_start unique value length is less than 2.\u001b[0m\n",
      "\u001b[33m[W 2022-02-15 21:52:50,664]\u001b[0m Param nn_hidden_layers unique value length is less than 2.\u001b[0m\n",
      "\u001b[33m[W 2022-02-15 21:52:50,981]\u001b[0m Param epsilon_start unique value length is less than 2.\u001b[0m\n",
      "\u001b[33m[W 2022-02-15 21:52:51,351]\u001b[0m Param nn_hidden_layers unique value length is less than 2.\u001b[0m\n",
      "\u001b[33m[W 2022-02-15 21:52:51,524]\u001b[0m Param epsilon_start unique value length is less than 2.\u001b[0m\n",
      "\u001b[33m[W 2022-02-15 21:52:51,551]\u001b[0m Param epsilon_start unique value length is less than 2.\u001b[0m\n",
      "\u001b[33m[W 2022-02-15 21:52:51,586]\u001b[0m Param epsilon_start unique value length is less than 2.\u001b[0m\n",
      "\u001b[33m[W 2022-02-15 21:52:51,644]\u001b[0m Param epsilon_start unique value length is less than 2.\u001b[0m\n",
      "\u001b[33m[W 2022-02-15 21:52:51,685]\u001b[0m Param epsilon_start unique value length is less than 2.\u001b[0m\n",
      "\u001b[33m[W 2022-02-15 21:52:51,716]\u001b[0m Param epsilon_start unique value length is less than 2.\u001b[0m\n",
      "\u001b[33m[W 2022-02-15 21:52:51,765]\u001b[0m Param epsilon_start unique value length is less than 2.\u001b[0m\n",
      "\u001b[33m[W 2022-02-15 21:52:51,811]\u001b[0m Param epsilon_start unique value length is less than 2.\u001b[0m\n",
      "\u001b[33m[W 2022-02-15 21:52:51,855]\u001b[0m Param epsilon_start unique value length is less than 2.\u001b[0m\n",
      "\u001b[33m[W 2022-02-15 21:52:51,903]\u001b[0m Param epsilon_start unique value length is less than 2.\u001b[0m\n",
      "\u001b[33m[W 2022-02-15 21:52:51,946]\u001b[0m Param epsilon_start unique value length is less than 2.\u001b[0m\n",
      "\u001b[33m[W 2022-02-15 21:52:52,048]\u001b[0m Param epsilon_start unique value length is less than 2.\u001b[0m\n",
      "\u001b[33m[W 2022-02-15 21:52:52,117]\u001b[0m Param epsilon_start unique value length is less than 2.\u001b[0m\n",
      "\u001b[33m[W 2022-02-15 21:52:52,155]\u001b[0m Param epsilon_start unique value length is less than 2.\u001b[0m\n",
      "\u001b[33m[W 2022-02-15 21:52:52,336]\u001b[0m Param epsilon_start unique value length is less than 2.\u001b[0m\n",
      "\u001b[33m[W 2022-02-15 21:52:52,621]\u001b[0m Param nn_hidden_layers unique value length is less than 2.\u001b[0m\n",
      "\u001b[33m[W 2022-02-15 21:52:53,000]\u001b[0m Param epsilon_start unique value length is less than 2.\u001b[0m\n",
      "\u001b[33m[W 2022-02-15 21:52:53,320]\u001b[0m Param nn_hidden_layers unique value length is less than 2.\u001b[0m\n",
      "\u001b[33m[W 2022-02-15 21:52:53,704]\u001b[0m Param epsilon_start unique value length is less than 2.\u001b[0m\n",
      "\u001b[33m[W 2022-02-15 21:52:54,123]\u001b[0m Param nn_hidden_layers unique value length is less than 2.\u001b[0m\n",
      "\u001b[33m[W 2022-02-15 21:52:54,491]\u001b[0m Param epsilon_start unique value length is less than 2.\u001b[0m\n",
      "\u001b[33m[W 2022-02-15 21:52:54,832]\u001b[0m Param nn_hidden_layers unique value length is less than 2.\u001b[0m\n",
      "\u001b[33m[W 2022-02-15 21:52:55,101]\u001b[0m Param epsilon_start unique value length is less than 2.\u001b[0m\n",
      "\u001b[33m[W 2022-02-15 21:52:55,468]\u001b[0m Param nn_hidden_layers unique value length is less than 2.\u001b[0m\n",
      "\u001b[33m[W 2022-02-15 21:52:56,001]\u001b[0m Param epsilon_start unique value length is less than 2.\u001b[0m\n",
      "\u001b[33m[W 2022-02-15 21:52:56,560]\u001b[0m Param nn_hidden_layers unique value length is less than 2.\u001b[0m\n",
      "\u001b[33m[W 2022-02-15 21:52:57,254]\u001b[0m Param epsilon_start unique value length is less than 2.\u001b[0m\n",
      "\u001b[33m[W 2022-02-15 21:52:57,758]\u001b[0m Param nn_hidden_layers unique value length is less than 2.\u001b[0m\n",
      "\u001b[33m[W 2022-02-15 21:52:58,002]\u001b[0m Param nn_hidden_layers unique value length is less than 2.\u001b[0m\n",
      "\u001b[33m[W 2022-02-15 21:52:58,052]\u001b[0m Param nn_hidden_layers unique value length is less than 2.\u001b[0m\n",
      "\u001b[33m[W 2022-02-15 21:52:58,105]\u001b[0m Param nn_hidden_layers unique value length is less than 2.\u001b[0m\n",
      "\u001b[33m[W 2022-02-15 21:52:58,155]\u001b[0m Param nn_hidden_layers unique value length is less than 2.\u001b[0m\n",
      "\u001b[33m[W 2022-02-15 21:52:58,204]\u001b[0m Param nn_hidden_layers unique value length is less than 2.\u001b[0m\n",
      "\u001b[33m[W 2022-02-15 21:52:58,256]\u001b[0m Param nn_hidden_layers unique value length is less than 2.\u001b[0m\n",
      "\u001b[33m[W 2022-02-15 21:52:58,304]\u001b[0m Param nn_hidden_layers unique value length is less than 2.\u001b[0m\n",
      "\u001b[33m[W 2022-02-15 21:52:58,372]\u001b[0m Param nn_hidden_layers unique value length is less than 2.\u001b[0m\n",
      "\u001b[33m[W 2022-02-15 21:52:58,421]\u001b[0m Param nn_hidden_layers unique value length is less than 2.\u001b[0m\n",
      "\u001b[33m[W 2022-02-15 21:52:58,472]\u001b[0m Param nn_hidden_layers unique value length is less than 2.\u001b[0m\n",
      "\u001b[33m[W 2022-02-15 21:52:58,519]\u001b[0m Param nn_hidden_layers unique value length is less than 2.\u001b[0m\n",
      "\u001b[33m[W 2022-02-15 21:52:58,643]\u001b[0m Param nn_hidden_layers unique value length is less than 2.\u001b[0m\n",
      "\u001b[33m[W 2022-02-15 21:52:58,757]\u001b[0m Param nn_hidden_layers unique value length is less than 2.\u001b[0m\n",
      "\u001b[33m[W 2022-02-15 21:52:58,819]\u001b[0m Param nn_hidden_layers unique value length is less than 2.\u001b[0m\n",
      "\u001b[33m[W 2022-02-15 21:52:59,056]\u001b[0m Param epsilon_start unique value length is less than 2.\u001b[0m\n",
      "\u001b[33m[W 2022-02-15 21:52:59,521]\u001b[0m Param nn_hidden_layers unique value length is less than 2.\u001b[0m\n",
      "\u001b[33m[W 2022-02-15 21:52:59,924]\u001b[0m Param epsilon_start unique value length is less than 2.\u001b[0m\n",
      "\u001b[33m[W 2022-02-15 21:53:00,301]\u001b[0m Param nn_hidden_layers unique value length is less than 2.\u001b[0m\n",
      "\u001b[33m[W 2022-02-15 21:53:00,655]\u001b[0m Param epsilon_start unique value length is less than 2.\u001b[0m\n",
      "\u001b[33m[W 2022-02-15 21:53:01,021]\u001b[0m Param nn_hidden_layers unique value length is less than 2.\u001b[0m\n"
     ]
    },
    {
     "name": "stdout",
     "output_type": "stream",
     "text": [
      "https://app.neptune.ai/plabartabajo/parametric-q-learning-cart-pole/e/PAR-84\n",
      "Remember to stop your run once you’ve finished logging your metadata (https://docs.neptune.ai/api-reference/run#.stop). It will be stopped automatically only when the notebook kernel/interactive console is terminated.\n",
      "67,586 parameters\n"
     ]
    },
    {
     "name": "stderr",
     "output_type": "stream",
     "text": [
      "100%|██████████████████████████████████████████████████████████████████████████| 500/500 [00:05<00:00, 89.84it/s]\n",
      "100%|███████████████████████████████████████████████████████████████████████| 1000/1000 [00:02<00:00, 383.83it/s]"
     ]
    },
    {
     "name": "stdout",
     "output_type": "stream",
     "text": [
      "Shutting down background jobs, please wait a moment...\n",
      "Done!\n"
     ]
    },
    {
     "name": "stderr",
     "output_type": "stream",
     "text": [
      "\n",
      "Waiting for the remaining 19 operations to synchronize with Neptune. Do not kill this process.\n"
     ]
    },
    {
     "name": "stdout",
     "output_type": "stream",
     "text": [
      "All 19 operations synced, thanks for waiting!\n"
     ]
    },
    {
     "name": "stderr",
     "output_type": "stream",
     "text": [
      "\u001b[32m[I 2022-02-15 21:53:14,621]\u001b[0m Trial 31 finished with value: 9.359 and parameters: {'learning_rate': 0.0002431859556890333, 'discount_factor': 0.99, 'batch_size': 16, 'memory_size': 50000, 'freq_steps_train': 8, 'freq_steps_update_target': 100, 'n_steps_warm_up_memory': 5000, 'n_gradient_steps': 1, 'nn_hidden_layers': '[256, 256]', 'max_grad_norm': 1, 'normalize_state': True, 'epsilon_start': 0.9, 'epsilon_end': 0.04086537348054936, 'steps_epsilon_decay': 10000, 'seed': 725151846}. Best is trial 12 with value: 313.91.\u001b[0m\n",
      "\u001b[33m[W 2022-02-15 21:53:26,958]\u001b[0m Param epsilon_start unique value length is less than 2.\u001b[0m\n",
      "\u001b[33m[W 2022-02-15 21:53:27,338]\u001b[0m Param nn_hidden_layers unique value length is less than 2.\u001b[0m\n",
      "\u001b[33m[W 2022-02-15 21:53:27,668]\u001b[0m Param epsilon_start unique value length is less than 2.\u001b[0m\n",
      "\u001b[33m[W 2022-02-15 21:53:27,972]\u001b[0m Param nn_hidden_layers unique value length is less than 2.\u001b[0m\n",
      "\u001b[33m[W 2022-02-15 21:53:28,278]\u001b[0m Param epsilon_start unique value length is less than 2.\u001b[0m\n",
      "\u001b[33m[W 2022-02-15 21:53:28,603]\u001b[0m Param nn_hidden_layers unique value length is less than 2.\u001b[0m\n",
      "\u001b[33m[W 2022-02-15 21:53:28,789]\u001b[0m Param epsilon_start unique value length is less than 2.\u001b[0m\n",
      "\u001b[33m[W 2022-02-15 21:53:28,814]\u001b[0m Param epsilon_start unique value length is less than 2.\u001b[0m\n",
      "\u001b[33m[W 2022-02-15 21:53:28,845]\u001b[0m Param epsilon_start unique value length is less than 2.\u001b[0m\n",
      "\u001b[33m[W 2022-02-15 21:53:28,898]\u001b[0m Param epsilon_start unique value length is less than 2.\u001b[0m\n",
      "\u001b[33m[W 2022-02-15 21:53:28,926]\u001b[0m Param epsilon_start unique value length is less than 2.\u001b[0m\n",
      "\u001b[33m[W 2022-02-15 21:53:28,953]\u001b[0m Param epsilon_start unique value length is less than 2.\u001b[0m\n",
      "\u001b[33m[W 2022-02-15 21:53:28,996]\u001b[0m Param epsilon_start unique value length is less than 2.\u001b[0m\n",
      "\u001b[33m[W 2022-02-15 21:53:29,025]\u001b[0m Param epsilon_start unique value length is less than 2.\u001b[0m\n",
      "\u001b[33m[W 2022-02-15 21:53:29,060]\u001b[0m Param epsilon_start unique value length is less than 2.\u001b[0m\n",
      "\u001b[33m[W 2022-02-15 21:53:29,092]\u001b[0m Param epsilon_start unique value length is less than 2.\u001b[0m\n",
      "\u001b[33m[W 2022-02-15 21:53:29,119]\u001b[0m Param epsilon_start unique value length is less than 2.\u001b[0m\n",
      "\u001b[33m[W 2022-02-15 21:53:29,163]\u001b[0m Param epsilon_start unique value length is less than 2.\u001b[0m\n",
      "\u001b[33m[W 2022-02-15 21:53:29,201]\u001b[0m Param epsilon_start unique value length is less than 2.\u001b[0m\n",
      "\u001b[33m[W 2022-02-15 21:53:29,235]\u001b[0m Param epsilon_start unique value length is less than 2.\u001b[0m\n",
      "\u001b[33m[W 2022-02-15 21:53:29,388]\u001b[0m Param epsilon_start unique value length is less than 2.\u001b[0m\n",
      "\u001b[33m[W 2022-02-15 21:53:29,670]\u001b[0m Param nn_hidden_layers unique value length is less than 2.\u001b[0m\n",
      "\u001b[33m[W 2022-02-15 21:53:29,943]\u001b[0m Param epsilon_start unique value length is less than 2.\u001b[0m\n",
      "\u001b[33m[W 2022-02-15 21:53:30,195]\u001b[0m Param nn_hidden_layers unique value length is less than 2.\u001b[0m\n",
      "\u001b[33m[W 2022-02-15 21:53:30,515]\u001b[0m Param epsilon_start unique value length is less than 2.\u001b[0m\n",
      "\u001b[33m[W 2022-02-15 21:53:30,903]\u001b[0m Param nn_hidden_layers unique value length is less than 2.\u001b[0m\n",
      "\u001b[33m[W 2022-02-15 21:53:31,207]\u001b[0m Param epsilon_start unique value length is less than 2.\u001b[0m\n",
      "\u001b[33m[W 2022-02-15 21:53:31,456]\u001b[0m Param nn_hidden_layers unique value length is less than 2.\u001b[0m\n",
      "\u001b[33m[W 2022-02-15 21:53:31,706]\u001b[0m Param epsilon_start unique value length is less than 2.\u001b[0m\n",
      "\u001b[33m[W 2022-02-15 21:53:31,974]\u001b[0m Param nn_hidden_layers unique value length is less than 2.\u001b[0m\n",
      "\u001b[33m[W 2022-02-15 21:53:32,228]\u001b[0m Param epsilon_start unique value length is less than 2.\u001b[0m\n",
      "\u001b[33m[W 2022-02-15 21:53:32,488]\u001b[0m Param nn_hidden_layers unique value length is less than 2.\u001b[0m\n",
      "\u001b[33m[W 2022-02-15 21:53:32,734]\u001b[0m Param epsilon_start unique value length is less than 2.\u001b[0m\n",
      "\u001b[33m[W 2022-02-15 21:53:32,994]\u001b[0m Param nn_hidden_layers unique value length is less than 2.\u001b[0m\n",
      "\u001b[33m[W 2022-02-15 21:53:33,159]\u001b[0m Param nn_hidden_layers unique value length is less than 2.\u001b[0m\n",
      "\u001b[33m[W 2022-02-15 21:53:33,195]\u001b[0m Param nn_hidden_layers unique value length is less than 2.\u001b[0m\n",
      "\u001b[33m[W 2022-02-15 21:53:33,233]\u001b[0m Param nn_hidden_layers unique value length is less than 2.\u001b[0m\n",
      "\u001b[33m[W 2022-02-15 21:53:33,275]\u001b[0m Param nn_hidden_layers unique value length is less than 2.\u001b[0m\n",
      "\u001b[33m[W 2022-02-15 21:53:33,311]\u001b[0m Param nn_hidden_layers unique value length is less than 2.\u001b[0m\n",
      "\u001b[33m[W 2022-02-15 21:53:33,350]\u001b[0m Param nn_hidden_layers unique value length is less than 2.\u001b[0m\n",
      "\u001b[33m[W 2022-02-15 21:53:33,393]\u001b[0m Param nn_hidden_layers unique value length is less than 2.\u001b[0m\n",
      "\u001b[33m[W 2022-02-15 21:53:33,438]\u001b[0m Param nn_hidden_layers unique value length is less than 2.\u001b[0m\n",
      "\u001b[33m[W 2022-02-15 21:53:33,489]\u001b[0m Param nn_hidden_layers unique value length is less than 2.\u001b[0m\n",
      "\u001b[33m[W 2022-02-15 21:53:33,525]\u001b[0m Param nn_hidden_layers unique value length is less than 2.\u001b[0m\n",
      "\u001b[33m[W 2022-02-15 21:53:33,576]\u001b[0m Param nn_hidden_layers unique value length is less than 2.\u001b[0m\n",
      "\u001b[33m[W 2022-02-15 21:53:33,663]\u001b[0m Param nn_hidden_layers unique value length is less than 2.\u001b[0m\n",
      "\u001b[33m[W 2022-02-15 21:53:33,709]\u001b[0m Param nn_hidden_layers unique value length is less than 2.\u001b[0m\n",
      "\u001b[33m[W 2022-02-15 21:53:33,754]\u001b[0m Param nn_hidden_layers unique value length is less than 2.\u001b[0m\n",
      "\u001b[33m[W 2022-02-15 21:53:33,929]\u001b[0m Param epsilon_start unique value length is less than 2.\u001b[0m\n",
      "\u001b[33m[W 2022-02-15 21:53:34,259]\u001b[0m Param nn_hidden_layers unique value length is less than 2.\u001b[0m\n",
      "\u001b[33m[W 2022-02-15 21:53:34,548]\u001b[0m Param epsilon_start unique value length is less than 2.\u001b[0m\n",
      "\u001b[33m[W 2022-02-15 21:53:34,860]\u001b[0m Param nn_hidden_layers unique value length is less than 2.\u001b[0m\n",
      "\u001b[33m[W 2022-02-15 21:53:35,101]\u001b[0m Param epsilon_start unique value length is less than 2.\u001b[0m\n",
      "\u001b[33m[W 2022-02-15 21:53:35,369]\u001b[0m Param nn_hidden_layers unique value length is less than 2.\u001b[0m\n"
     ]
    },
    {
     "name": "stdout",
     "output_type": "stream",
     "text": [
      "https://app.neptune.ai/plabartabajo/parametric-q-learning-cart-pole/e/PAR-85\n",
      "Remember to stop your run once you’ve finished logging your metadata (https://docs.neptune.ai/api-reference/run#.stop). It will be stopped automatically only when the notebook kernel/interactive console is terminated.\n",
      "67,586 parameters\n"
     ]
    },
    {
     "name": "stderr",
     "output_type": "stream",
     "text": [
      "100%|██████████████████████████████████████████████████████████████████████████| 500/500 [00:12<00:00, 38.65it/s]\n",
      "100%|████████████████████████████████████████████████████████████████████████| 1000/1000 [00:38<00:00, 25.92it/s]"
     ]
    },
    {
     "name": "stdout",
     "output_type": "stream",
     "text": [
      "Shutting down background jobs, please wait a moment...\n",
      "Done!\n"
     ]
    },
    {
     "name": "stderr",
     "output_type": "stream",
     "text": [
      "\n",
      "Waiting for the remaining 10 operations to synchronize with Neptune. Do not kill this process.\n"
     ]
    },
    {
     "name": "stdout",
     "output_type": "stream",
     "text": [
      "All 10 operations synced, thanks for waiting!\n"
     ]
    },
    {
     "name": "stderr",
     "output_type": "stream",
     "text": [
      "\u001b[32m[I 2022-02-15 21:54:30,610]\u001b[0m Trial 32 finished with value: 192.7 and parameters: {'learning_rate': 0.0027649466547607832, 'discount_factor': 0.99, 'batch_size': 16, 'memory_size': 50000, 'freq_steps_train': 8, 'freq_steps_update_target': 100, 'n_steps_warm_up_memory': 5000, 'n_gradient_steps': 1, 'nn_hidden_layers': '[256, 256]', 'max_grad_norm': 1, 'normalize_state': True, 'epsilon_start': 0.9, 'epsilon_end': 0.03325255013299335, 'steps_epsilon_decay': 10000, 'seed': 536751552}. Best is trial 12 with value: 313.91.\u001b[0m\n",
      "\u001b[33m[W 2022-02-15 21:54:39,794]\u001b[0m Param epsilon_start unique value length is less than 2.\u001b[0m\n",
      "\u001b[33m[W 2022-02-15 21:54:40,114]\u001b[0m Param nn_hidden_layers unique value length is less than 2.\u001b[0m\n",
      "\u001b[33m[W 2022-02-15 21:54:40,375]\u001b[0m Param epsilon_start unique value length is less than 2.\u001b[0m\n",
      "\u001b[33m[W 2022-02-15 21:54:40,617]\u001b[0m Param nn_hidden_layers unique value length is less than 2.\u001b[0m\n",
      "\u001b[33m[W 2022-02-15 21:54:40,849]\u001b[0m Param epsilon_start unique value length is less than 2.\u001b[0m\n",
      "\u001b[33m[W 2022-02-15 21:54:41,109]\u001b[0m Param nn_hidden_layers unique value length is less than 2.\u001b[0m\n",
      "\u001b[33m[W 2022-02-15 21:54:41,265]\u001b[0m Param epsilon_start unique value length is less than 2.\u001b[0m\n",
      "\u001b[33m[W 2022-02-15 21:54:41,288]\u001b[0m Param epsilon_start unique value length is less than 2.\u001b[0m\n",
      "\u001b[33m[W 2022-02-15 21:54:41,312]\u001b[0m Param epsilon_start unique value length is less than 2.\u001b[0m\n",
      "\u001b[33m[W 2022-02-15 21:54:41,361]\u001b[0m Param epsilon_start unique value length is less than 2.\u001b[0m\n",
      "\u001b[33m[W 2022-02-15 21:54:41,385]\u001b[0m Param epsilon_start unique value length is less than 2.\u001b[0m\n",
      "\u001b[33m[W 2022-02-15 21:54:41,410]\u001b[0m Param epsilon_start unique value length is less than 2.\u001b[0m\n",
      "\u001b[33m[W 2022-02-15 21:54:41,447]\u001b[0m Param epsilon_start unique value length is less than 2.\u001b[0m\n",
      "\u001b[33m[W 2022-02-15 21:54:41,471]\u001b[0m Param epsilon_start unique value length is less than 2.\u001b[0m\n",
      "\u001b[33m[W 2022-02-15 21:54:41,494]\u001b[0m Param epsilon_start unique value length is less than 2.\u001b[0m\n",
      "\u001b[33m[W 2022-02-15 21:54:41,525]\u001b[0m Param epsilon_start unique value length is less than 2.\u001b[0m\n",
      "\u001b[33m[W 2022-02-15 21:54:41,548]\u001b[0m Param epsilon_start unique value length is less than 2.\u001b[0m\n",
      "\u001b[33m[W 2022-02-15 21:54:41,582]\u001b[0m Param epsilon_start unique value length is less than 2.\u001b[0m\n",
      "\u001b[33m[W 2022-02-15 21:54:41,622]\u001b[0m Param epsilon_start unique value length is less than 2.\u001b[0m\n",
      "\u001b[33m[W 2022-02-15 21:54:41,645]\u001b[0m Param epsilon_start unique value length is less than 2.\u001b[0m\n",
      "\u001b[33m[W 2022-02-15 21:54:41,780]\u001b[0m Param epsilon_start unique value length is less than 2.\u001b[0m\n",
      "\u001b[33m[W 2022-02-15 21:54:42,014]\u001b[0m Param nn_hidden_layers unique value length is less than 2.\u001b[0m\n",
      "\u001b[33m[W 2022-02-15 21:54:42,246]\u001b[0m Param epsilon_start unique value length is less than 2.\u001b[0m\n",
      "\u001b[33m[W 2022-02-15 21:54:42,487]\u001b[0m Param nn_hidden_layers unique value length is less than 2.\u001b[0m\n",
      "\u001b[33m[W 2022-02-15 21:54:42,765]\u001b[0m Param epsilon_start unique value length is less than 2.\u001b[0m\n",
      "\u001b[33m[W 2022-02-15 21:54:43,092]\u001b[0m Param nn_hidden_layers unique value length is less than 2.\u001b[0m\n",
      "\u001b[33m[W 2022-02-15 21:54:43,375]\u001b[0m Param epsilon_start unique value length is less than 2.\u001b[0m\n",
      "\u001b[33m[W 2022-02-15 21:54:43,601]\u001b[0m Param nn_hidden_layers unique value length is less than 2.\u001b[0m\n",
      "\u001b[33m[W 2022-02-15 21:54:43,826]\u001b[0m Param epsilon_start unique value length is less than 2.\u001b[0m\n",
      "\u001b[33m[W 2022-02-15 21:54:44,053]\u001b[0m Param nn_hidden_layers unique value length is less than 2.\u001b[0m\n",
      "\u001b[33m[W 2022-02-15 21:54:44,283]\u001b[0m Param epsilon_start unique value length is less than 2.\u001b[0m\n",
      "\u001b[33m[W 2022-02-15 21:54:44,511]\u001b[0m Param nn_hidden_layers unique value length is less than 2.\u001b[0m\n",
      "\u001b[33m[W 2022-02-15 21:54:44,739]\u001b[0m Param epsilon_start unique value length is less than 2.\u001b[0m\n",
      "\u001b[33m[W 2022-02-15 21:54:44,968]\u001b[0m Param nn_hidden_layers unique value length is less than 2.\u001b[0m\n",
      "\u001b[33m[W 2022-02-15 21:54:45,108]\u001b[0m Param nn_hidden_layers unique value length is less than 2.\u001b[0m\n",
      "\u001b[33m[W 2022-02-15 21:54:45,142]\u001b[0m Param nn_hidden_layers unique value length is less than 2.\u001b[0m\n",
      "\u001b[33m[W 2022-02-15 21:54:45,175]\u001b[0m Param nn_hidden_layers unique value length is less than 2.\u001b[0m\n",
      "\u001b[33m[W 2022-02-15 21:54:45,208]\u001b[0m Param nn_hidden_layers unique value length is less than 2.\u001b[0m\n",
      "\u001b[33m[W 2022-02-15 21:54:45,273]\u001b[0m Param nn_hidden_layers unique value length is less than 2.\u001b[0m\n",
      "\u001b[33m[W 2022-02-15 21:54:45,317]\u001b[0m Param nn_hidden_layers unique value length is less than 2.\u001b[0m\n",
      "\u001b[33m[W 2022-02-15 21:54:45,353]\u001b[0m Param nn_hidden_layers unique value length is less than 2.\u001b[0m\n",
      "\u001b[33m[W 2022-02-15 21:54:45,399]\u001b[0m Param nn_hidden_layers unique value length is less than 2.\u001b[0m\n",
      "\u001b[33m[W 2022-02-15 21:54:45,434]\u001b[0m Param nn_hidden_layers unique value length is less than 2.\u001b[0m\n",
      "\u001b[33m[W 2022-02-15 21:54:45,473]\u001b[0m Param nn_hidden_layers unique value length is less than 2.\u001b[0m\n",
      "\u001b[33m[W 2022-02-15 21:54:45,510]\u001b[0m Param nn_hidden_layers unique value length is less than 2.\u001b[0m\n",
      "\u001b[33m[W 2022-02-15 21:54:45,582]\u001b[0m Param nn_hidden_layers unique value length is less than 2.\u001b[0m\n",
      "\u001b[33m[W 2022-02-15 21:54:45,625]\u001b[0m Param nn_hidden_layers unique value length is less than 2.\u001b[0m\n",
      "\u001b[33m[W 2022-02-15 21:54:45,662]\u001b[0m Param nn_hidden_layers unique value length is less than 2.\u001b[0m\n",
      "\u001b[33m[W 2022-02-15 21:54:45,819]\u001b[0m Param epsilon_start unique value length is less than 2.\u001b[0m\n",
      "\u001b[33m[W 2022-02-15 21:54:46,123]\u001b[0m Param nn_hidden_layers unique value length is less than 2.\u001b[0m\n",
      "\u001b[33m[W 2022-02-15 21:54:46,387]\u001b[0m Param epsilon_start unique value length is less than 2.\u001b[0m\n",
      "\u001b[33m[W 2022-02-15 21:54:46,644]\u001b[0m Param nn_hidden_layers unique value length is less than 2.\u001b[0m\n",
      "\u001b[33m[W 2022-02-15 21:54:46,871]\u001b[0m Param epsilon_start unique value length is less than 2.\u001b[0m\n",
      "\u001b[33m[W 2022-02-15 21:54:47,109]\u001b[0m Param nn_hidden_layers unique value length is less than 2.\u001b[0m\n"
     ]
    },
    {
     "name": "stdout",
     "output_type": "stream",
     "text": [
      "https://app.neptune.ai/plabartabajo/parametric-q-learning-cart-pole/e/PAR-86\n",
      "Remember to stop your run once you’ve finished logging your metadata (https://docs.neptune.ai/api-reference/run#.stop). It will be stopped automatically only when the notebook kernel/interactive console is terminated.\n",
      "67,586 parameters\n"
     ]
    },
    {
     "name": "stderr",
     "output_type": "stream",
     "text": [
      "100%|██████████████████████████████████████████████████████████████████████████| 500/500 [00:10<00:00, 46.69it/s]\n",
      "100%|████████████████████████████████████████████████████████████████████████| 1000/1000 [00:33<00:00, 29.52it/s]"
     ]
    },
    {
     "name": "stdout",
     "output_type": "stream",
     "text": [
      "Shutting down background jobs, please wait a moment...\n",
      "Done!\n"
     ]
    },
    {
     "name": "stderr",
     "output_type": "stream",
     "text": [
      "\n",
      "Waiting for the remaining 12 operations to synchronize with Neptune. Do not kill this process.\n"
     ]
    },
    {
     "name": "stdout",
     "output_type": "stream",
     "text": [
      "All 12 operations synced, thanks for waiting!\n"
     ]
    },
    {
     "name": "stderr",
     "output_type": "stream",
     "text": [
      "\u001b[32m[I 2022-02-15 21:55:35,902]\u001b[0m Trial 33 finished with value: 164.743 and parameters: {'learning_rate': 0.009576718636345977, 'discount_factor': 0.99, 'batch_size': 16, 'memory_size': 50000, 'freq_steps_train': 8, 'freq_steps_update_target': 100, 'n_steps_warm_up_memory': 5000, 'n_gradient_steps': 1, 'nn_hidden_layers': '[256, 256]', 'max_grad_norm': 1, 'normalize_state': True, 'epsilon_start': 0.9, 'epsilon_end': 0.06102531712945983, 'steps_epsilon_decay': 10000, 'seed': 933399286}. Best is trial 12 with value: 313.91.\u001b[0m\n",
      "\u001b[33m[W 2022-02-15 21:55:44,961]\u001b[0m Param epsilon_start unique value length is less than 2.\u001b[0m\n",
      "\u001b[33m[W 2022-02-15 21:55:45,282]\u001b[0m Param nn_hidden_layers unique value length is less than 2.\u001b[0m\n",
      "\u001b[33m[W 2022-02-15 21:55:45,541]\u001b[0m Param epsilon_start unique value length is less than 2.\u001b[0m\n",
      "\u001b[33m[W 2022-02-15 21:55:45,783]\u001b[0m Param nn_hidden_layers unique value length is less than 2.\u001b[0m\n",
      "\u001b[33m[W 2022-02-15 21:55:46,006]\u001b[0m Param epsilon_start unique value length is less than 2.\u001b[0m\n",
      "\u001b[33m[W 2022-02-15 21:55:46,278]\u001b[0m Param nn_hidden_layers unique value length is less than 2.\u001b[0m\n",
      "\u001b[33m[W 2022-02-15 21:55:46,433]\u001b[0m Param epsilon_start unique value length is less than 2.\u001b[0m\n",
      "\u001b[33m[W 2022-02-15 21:55:46,455]\u001b[0m Param epsilon_start unique value length is less than 2.\u001b[0m\n",
      "\u001b[33m[W 2022-02-15 21:55:46,480]\u001b[0m Param epsilon_start unique value length is less than 2.\u001b[0m\n",
      "\u001b[33m[W 2022-02-15 21:55:46,528]\u001b[0m Param epsilon_start unique value length is less than 2.\u001b[0m\n",
      "\u001b[33m[W 2022-02-15 21:55:46,550]\u001b[0m Param epsilon_start unique value length is less than 2.\u001b[0m\n",
      "\u001b[33m[W 2022-02-15 21:55:46,577]\u001b[0m Param epsilon_start unique value length is less than 2.\u001b[0m\n",
      "\u001b[33m[W 2022-02-15 21:55:46,616]\u001b[0m Param epsilon_start unique value length is less than 2.\u001b[0m\n",
      "\u001b[33m[W 2022-02-15 21:55:46,638]\u001b[0m Param epsilon_start unique value length is less than 2.\u001b[0m\n",
      "\u001b[33m[W 2022-02-15 21:55:46,666]\u001b[0m Param epsilon_start unique value length is less than 2.\u001b[0m\n",
      "\u001b[33m[W 2022-02-15 21:55:46,690]\u001b[0m Param epsilon_start unique value length is less than 2.\u001b[0m\n",
      "\u001b[33m[W 2022-02-15 21:55:46,718]\u001b[0m Param epsilon_start unique value length is less than 2.\u001b[0m\n",
      "\u001b[33m[W 2022-02-15 21:55:46,753]\u001b[0m Param epsilon_start unique value length is less than 2.\u001b[0m\n",
      "\u001b[33m[W 2022-02-15 21:55:46,788]\u001b[0m Param epsilon_start unique value length is less than 2.\u001b[0m\n",
      "\u001b[33m[W 2022-02-15 21:55:46,815]\u001b[0m Param epsilon_start unique value length is less than 2.\u001b[0m\n",
      "\u001b[33m[W 2022-02-15 21:55:46,949]\u001b[0m Param epsilon_start unique value length is less than 2.\u001b[0m\n",
      "\u001b[33m[W 2022-02-15 21:55:47,230]\u001b[0m Param nn_hidden_layers unique value length is less than 2.\u001b[0m\n",
      "\u001b[33m[W 2022-02-15 21:55:47,458]\u001b[0m Param epsilon_start unique value length is less than 2.\u001b[0m\n",
      "\u001b[33m[W 2022-02-15 21:55:47,699]\u001b[0m Param nn_hidden_layers unique value length is less than 2.\u001b[0m\n",
      "\u001b[33m[W 2022-02-15 21:55:47,985]\u001b[0m Param epsilon_start unique value length is less than 2.\u001b[0m\n",
      "\u001b[33m[W 2022-02-15 21:55:48,308]\u001b[0m Param nn_hidden_layers unique value length is less than 2.\u001b[0m\n",
      "\u001b[33m[W 2022-02-15 21:55:48,600]\u001b[0m Param epsilon_start unique value length is less than 2.\u001b[0m\n",
      "\u001b[33m[W 2022-02-15 21:55:48,911]\u001b[0m Param nn_hidden_layers unique value length is less than 2.\u001b[0m\n",
      "\u001b[33m[W 2022-02-15 21:55:49,207]\u001b[0m Param epsilon_start unique value length is less than 2.\u001b[0m\n",
      "\u001b[33m[W 2022-02-15 21:55:49,484]\u001b[0m Param nn_hidden_layers unique value length is less than 2.\u001b[0m\n",
      "\u001b[33m[W 2022-02-15 21:55:49,835]\u001b[0m Param epsilon_start unique value length is less than 2.\u001b[0m\n",
      "\u001b[33m[W 2022-02-15 21:55:50,132]\u001b[0m Param nn_hidden_layers unique value length is less than 2.\u001b[0m\n",
      "\u001b[33m[W 2022-02-15 21:55:50,553]\u001b[0m Param epsilon_start unique value length is less than 2.\u001b[0m\n",
      "\u001b[33m[W 2022-02-15 21:55:50,994]\u001b[0m Param nn_hidden_layers unique value length is less than 2.\u001b[0m\n",
      "\u001b[33m[W 2022-02-15 21:55:51,213]\u001b[0m Param nn_hidden_layers unique value length is less than 2.\u001b[0m\n",
      "\u001b[33m[W 2022-02-15 21:55:51,282]\u001b[0m Param nn_hidden_layers unique value length is less than 2.\u001b[0m\n",
      "\u001b[33m[W 2022-02-15 21:55:51,349]\u001b[0m Param nn_hidden_layers unique value length is less than 2.\u001b[0m\n",
      "\u001b[33m[W 2022-02-15 21:55:51,411]\u001b[0m Param nn_hidden_layers unique value length is less than 2.\u001b[0m\n",
      "\u001b[33m[W 2022-02-15 21:55:51,454]\u001b[0m Param nn_hidden_layers unique value length is less than 2.\u001b[0m\n",
      "\u001b[33m[W 2022-02-15 21:55:51,502]\u001b[0m Param nn_hidden_layers unique value length is less than 2.\u001b[0m\n",
      "\u001b[33m[W 2022-02-15 21:55:51,543]\u001b[0m Param nn_hidden_layers unique value length is less than 2.\u001b[0m\n",
      "\u001b[33m[W 2022-02-15 21:55:51,603]\u001b[0m Param nn_hidden_layers unique value length is less than 2.\u001b[0m\n",
      "\u001b[33m[W 2022-02-15 21:55:51,644]\u001b[0m Param nn_hidden_layers unique value length is less than 2.\u001b[0m\n",
      "\u001b[33m[W 2022-02-15 21:55:51,689]\u001b[0m Param nn_hidden_layers unique value length is less than 2.\u001b[0m\n",
      "\u001b[33m[W 2022-02-15 21:55:51,735]\u001b[0m Param nn_hidden_layers unique value length is less than 2.\u001b[0m\n",
      "\u001b[33m[W 2022-02-15 21:55:51,832]\u001b[0m Param nn_hidden_layers unique value length is less than 2.\u001b[0m\n",
      "\u001b[33m[W 2022-02-15 21:55:51,890]\u001b[0m Param nn_hidden_layers unique value length is less than 2.\u001b[0m\n",
      "\u001b[33m[W 2022-02-15 21:55:51,935]\u001b[0m Param nn_hidden_layers unique value length is less than 2.\u001b[0m\n",
      "\u001b[33m[W 2022-02-15 21:55:52,175]\u001b[0m Param epsilon_start unique value length is less than 2.\u001b[0m\n",
      "\u001b[33m[W 2022-02-15 21:55:52,673]\u001b[0m Param nn_hidden_layers unique value length is less than 2.\u001b[0m\n",
      "\u001b[33m[W 2022-02-15 21:55:53,034]\u001b[0m Param epsilon_start unique value length is less than 2.\u001b[0m\n",
      "\u001b[33m[W 2022-02-15 21:55:53,377]\u001b[0m Param nn_hidden_layers unique value length is less than 2.\u001b[0m\n",
      "\u001b[33m[W 2022-02-15 21:55:53,670]\u001b[0m Param epsilon_start unique value length is less than 2.\u001b[0m\n",
      "\u001b[33m[W 2022-02-15 21:55:54,054]\u001b[0m Param nn_hidden_layers unique value length is less than 2.\u001b[0m\n"
     ]
    },
    {
     "name": "stdout",
     "output_type": "stream",
     "text": [
      "https://app.neptune.ai/plabartabajo/parametric-q-learning-cart-pole/e/PAR-87\n",
      "Remember to stop your run once you’ve finished logging your metadata (https://docs.neptune.ai/api-reference/run#.stop). It will be stopped automatically only when the notebook kernel/interactive console is terminated.\n",
      "67,586 parameters\n"
     ]
    },
    {
     "name": "stderr",
     "output_type": "stream",
     "text": [
      "100%|█████████████████████████████████████████████████████████████████████████| 500/500 [00:02<00:00, 175.08it/s]\n",
      "100%|███████████████████████████████████████████████████████████████████████| 1000/1000 [00:03<00:00, 280.82it/s]"
     ]
    },
    {
     "name": "stdout",
     "output_type": "stream",
     "text": [
      "Shutting down background jobs, please wait a moment...\n",
      "Done!\n"
     ]
    },
    {
     "name": "stderr",
     "output_type": "stream",
     "text": [
      "\n",
      "Waiting for the remaining 72 operations to synchronize with Neptune. Do not kill this process.\n"
     ]
    },
    {
     "name": "stdout",
     "output_type": "stream",
     "text": [
      "All 72 operations synced, thanks for waiting!\n"
     ]
    },
    {
     "name": "stderr",
     "output_type": "stream",
     "text": [
      "\u001b[32m[I 2022-02-15 21:56:06,169]\u001b[0m Trial 34 finished with value: 9.39 and parameters: {'learning_rate': 0.03906562318165239, 'discount_factor': 0.99, 'batch_size': 16, 'memory_size': 50000, 'freq_steps_train': 128, 'freq_steps_update_target': 100, 'n_steps_warm_up_memory': 5000, 'n_gradient_steps': 1, 'nn_hidden_layers': '[256, 256]', 'max_grad_norm': 1, 'normalize_state': True, 'epsilon_start': 0.9, 'epsilon_end': 0.11805516308287226, 'steps_epsilon_decay': 10000, 'seed': 703742235}. Best is trial 12 with value: 313.91.\u001b[0m\n",
      "\u001b[33m[W 2022-02-15 21:56:19,886]\u001b[0m Param epsilon_start unique value length is less than 2.\u001b[0m\n",
      "\u001b[33m[W 2022-02-15 21:56:20,306]\u001b[0m Param nn_hidden_layers unique value length is less than 2.\u001b[0m\n",
      "\u001b[33m[W 2022-02-15 21:56:20,645]\u001b[0m Param epsilon_start unique value length is less than 2.\u001b[0m\n",
      "\u001b[33m[W 2022-02-15 21:56:20,956]\u001b[0m Param nn_hidden_layers unique value length is less than 2.\u001b[0m\n",
      "\u001b[33m[W 2022-02-15 21:56:21,248]\u001b[0m Param epsilon_start unique value length is less than 2.\u001b[0m\n",
      "\u001b[33m[W 2022-02-15 21:56:21,578]\u001b[0m Param nn_hidden_layers unique value length is less than 2.\u001b[0m\n",
      "\u001b[33m[W 2022-02-15 21:56:21,766]\u001b[0m Param epsilon_start unique value length is less than 2.\u001b[0m\n",
      "\u001b[33m[W 2022-02-15 21:56:21,795]\u001b[0m Param epsilon_start unique value length is less than 2.\u001b[0m\n",
      "\u001b[33m[W 2022-02-15 21:56:21,824]\u001b[0m Param epsilon_start unique value length is less than 2.\u001b[0m\n",
      "\u001b[33m[W 2022-02-15 21:56:21,878]\u001b[0m Param epsilon_start unique value length is less than 2.\u001b[0m\n",
      "\u001b[33m[W 2022-02-15 21:56:21,909]\u001b[0m Param epsilon_start unique value length is less than 2.\u001b[0m\n",
      "\u001b[33m[W 2022-02-15 21:56:21,941]\u001b[0m Param epsilon_start unique value length is less than 2.\u001b[0m\n",
      "\u001b[33m[W 2022-02-15 21:56:21,984]\u001b[0m Param epsilon_start unique value length is less than 2.\u001b[0m\n",
      "\u001b[33m[W 2022-02-15 21:56:22,014]\u001b[0m Param epsilon_start unique value length is less than 2.\u001b[0m\n",
      "\u001b[33m[W 2022-02-15 21:56:22,051]\u001b[0m Param epsilon_start unique value length is less than 2.\u001b[0m\n",
      "\u001b[33m[W 2022-02-15 21:56:22,079]\u001b[0m Param epsilon_start unique value length is less than 2.\u001b[0m\n",
      "\u001b[33m[W 2022-02-15 21:56:22,108]\u001b[0m Param epsilon_start unique value length is less than 2.\u001b[0m\n",
      "\u001b[33m[W 2022-02-15 21:56:22,146]\u001b[0m Param epsilon_start unique value length is less than 2.\u001b[0m\n",
      "\u001b[33m[W 2022-02-15 21:56:22,188]\u001b[0m Param epsilon_start unique value length is less than 2.\u001b[0m\n",
      "\u001b[33m[W 2022-02-15 21:56:22,217]\u001b[0m Param epsilon_start unique value length is less than 2.\u001b[0m\n",
      "\u001b[33m[W 2022-02-15 21:56:22,366]\u001b[0m Param epsilon_start unique value length is less than 2.\u001b[0m\n",
      "\u001b[33m[W 2022-02-15 21:56:22,668]\u001b[0m Param nn_hidden_layers unique value length is less than 2.\u001b[0m\n",
      "\u001b[33m[W 2022-02-15 21:56:22,953]\u001b[0m Param epsilon_start unique value length is less than 2.\u001b[0m\n",
      "\u001b[33m[W 2022-02-15 21:56:23,255]\u001b[0m Param nn_hidden_layers unique value length is less than 2.\u001b[0m\n",
      "\u001b[33m[W 2022-02-15 21:56:23,610]\u001b[0m Param epsilon_start unique value length is less than 2.\u001b[0m\n",
      "\u001b[33m[W 2022-02-15 21:56:24,023]\u001b[0m Param nn_hidden_layers unique value length is less than 2.\u001b[0m\n",
      "\u001b[33m[W 2022-02-15 21:56:24,502]\u001b[0m Param epsilon_start unique value length is less than 2.\u001b[0m\n",
      "\u001b[33m[W 2022-02-15 21:56:24,884]\u001b[0m Param nn_hidden_layers unique value length is less than 2.\u001b[0m\n",
      "\u001b[33m[W 2022-02-15 21:56:25,195]\u001b[0m Param epsilon_start unique value length is less than 2.\u001b[0m\n",
      "\u001b[33m[W 2022-02-15 21:56:25,485]\u001b[0m Param nn_hidden_layers unique value length is less than 2.\u001b[0m\n",
      "\u001b[33m[W 2022-02-15 21:56:25,877]\u001b[0m Param epsilon_start unique value length is less than 2.\u001b[0m\n",
      "\u001b[33m[W 2022-02-15 21:56:26,285]\u001b[0m Param nn_hidden_layers unique value length is less than 2.\u001b[0m\n",
      "\u001b[33m[W 2022-02-15 21:56:26,865]\u001b[0m Param epsilon_start unique value length is less than 2.\u001b[0m\n",
      "\u001b[33m[W 2022-02-15 21:56:27,435]\u001b[0m Param nn_hidden_layers unique value length is less than 2.\u001b[0m\n",
      "\u001b[33m[W 2022-02-15 21:56:27,689]\u001b[0m Param nn_hidden_layers unique value length is less than 2.\u001b[0m\n",
      "\u001b[33m[W 2022-02-15 21:56:27,786]\u001b[0m Param nn_hidden_layers unique value length is less than 2.\u001b[0m\n",
      "\u001b[33m[W 2022-02-15 21:56:27,849]\u001b[0m Param nn_hidden_layers unique value length is less than 2.\u001b[0m\n",
      "\u001b[33m[W 2022-02-15 21:56:27,926]\u001b[0m Param nn_hidden_layers unique value length is less than 2.\u001b[0m\n",
      "\u001b[33m[W 2022-02-15 21:56:27,985]\u001b[0m Param nn_hidden_layers unique value length is less than 2.\u001b[0m\n",
      "\u001b[33m[W 2022-02-15 21:56:28,048]\u001b[0m Param nn_hidden_layers unique value length is less than 2.\u001b[0m\n",
      "\u001b[33m[W 2022-02-15 21:56:28,111]\u001b[0m Param nn_hidden_layers unique value length is less than 2.\u001b[0m\n",
      "\u001b[33m[W 2022-02-15 21:56:28,184]\u001b[0m Param nn_hidden_layers unique value length is less than 2.\u001b[0m\n",
      "\u001b[33m[W 2022-02-15 21:56:28,243]\u001b[0m Param nn_hidden_layers unique value length is less than 2.\u001b[0m\n",
      "\u001b[33m[W 2022-02-15 21:56:28,300]\u001b[0m Param nn_hidden_layers unique value length is less than 2.\u001b[0m\n",
      "\u001b[33m[W 2022-02-15 21:56:28,358]\u001b[0m Param nn_hidden_layers unique value length is less than 2.\u001b[0m\n",
      "\u001b[33m[W 2022-02-15 21:56:28,482]\u001b[0m Param nn_hidden_layers unique value length is less than 2.\u001b[0m\n",
      "\u001b[33m[W 2022-02-15 21:56:28,555]\u001b[0m Param nn_hidden_layers unique value length is less than 2.\u001b[0m\n",
      "\u001b[33m[W 2022-02-15 21:56:28,620]\u001b[0m Param nn_hidden_layers unique value length is less than 2.\u001b[0m\n",
      "\u001b[33m[W 2022-02-15 21:56:28,878]\u001b[0m Param epsilon_start unique value length is less than 2.\u001b[0m\n",
      "\u001b[33m[W 2022-02-15 21:56:29,337]\u001b[0m Param nn_hidden_layers unique value length is less than 2.\u001b[0m\n",
      "\u001b[33m[W 2022-02-15 21:56:29,736]\u001b[0m Param epsilon_start unique value length is less than 2.\u001b[0m\n",
      "\u001b[33m[W 2022-02-15 21:56:30,142]\u001b[0m Param nn_hidden_layers unique value length is less than 2.\u001b[0m\n",
      "\u001b[33m[W 2022-02-15 21:56:30,486]\u001b[0m Param epsilon_start unique value length is less than 2.\u001b[0m\n",
      "\u001b[33m[W 2022-02-15 21:56:30,878]\u001b[0m Param nn_hidden_layers unique value length is less than 2.\u001b[0m\n"
     ]
    },
    {
     "name": "stdout",
     "output_type": "stream",
     "text": [
      "https://app.neptune.ai/plabartabajo/parametric-q-learning-cart-pole/e/PAR-88\n",
      "Remember to stop your run once you’ve finished logging your metadata (https://docs.neptune.ai/api-reference/run#.stop). It will be stopped automatically only when the notebook kernel/interactive console is terminated.\n",
      "67,586 parameters\n"
     ]
    },
    {
     "name": "stderr",
     "output_type": "stream",
     "text": [
      "100%|██████████████████████████████████████████████████████████████████████████| 500/500 [00:45<00:00, 10.97it/s]\n",
      "100%|████████████████████████████████████████████████████████████████████████| 1000/1000 [01:01<00:00, 16.15it/s]"
     ]
    },
    {
     "name": "stdout",
     "output_type": "stream",
     "text": [
      "Shutting down background jobs, please wait a moment...\n",
      "Done!\n"
     ]
    },
    {
     "name": "stderr",
     "output_type": "stream",
     "text": [
      "\n",
      "Waiting for the remaining 27 operations to synchronize with Neptune. Do not kill this process.\n"
     ]
    },
    {
     "name": "stdout",
     "output_type": "stream",
     "text": [
      "All 27 operations synced, thanks for waiting!\n"
     ]
    },
    {
     "name": "stderr",
     "output_type": "stream",
     "text": [
      "\u001b[32m[I 2022-02-15 21:58:23,790]\u001b[0m Trial 35 finished with value: 140.105 and parameters: {'learning_rate': 0.0022393221133350924, 'discount_factor': 0.99, 'batch_size': 64, 'memory_size': 50000, 'freq_steps_train': 8, 'freq_steps_update_target': 100, 'n_steps_warm_up_memory': 5000, 'n_gradient_steps': 1, 'nn_hidden_layers': '[256, 256]', 'max_grad_norm': 100, 'normalize_state': True, 'epsilon_start': 0.9, 'epsilon_end': 0.09415513569180767, 'steps_epsilon_decay': 10000, 'seed': 469519591}. Best is trial 12 with value: 313.91.\u001b[0m\n",
      "\u001b[33m[W 2022-02-15 21:58:48,351]\u001b[0m Param epsilon_start unique value length is less than 2.\u001b[0m\n",
      "\u001b[33m[W 2022-02-15 21:58:48,995]\u001b[0m Param nn_hidden_layers unique value length is less than 2.\u001b[0m\n",
      "\u001b[33m[W 2022-02-15 21:58:49,355]\u001b[0m Param epsilon_start unique value length is less than 2.\u001b[0m\n",
      "\u001b[33m[W 2022-02-15 21:58:49,700]\u001b[0m Param nn_hidden_layers unique value length is less than 2.\u001b[0m\n",
      "\u001b[33m[W 2022-02-15 21:58:50,003]\u001b[0m Param epsilon_start unique value length is less than 2.\u001b[0m\n",
      "\u001b[33m[W 2022-02-15 21:58:50,355]\u001b[0m Param nn_hidden_layers unique value length is less than 2.\u001b[0m\n",
      "\u001b[33m[W 2022-02-15 21:58:50,561]\u001b[0m Param epsilon_start unique value length is less than 2.\u001b[0m\n",
      "\u001b[33m[W 2022-02-15 21:58:50,589]\u001b[0m Param epsilon_start unique value length is less than 2.\u001b[0m\n",
      "\u001b[33m[W 2022-02-15 21:58:50,617]\u001b[0m Param epsilon_start unique value length is less than 2.\u001b[0m\n",
      "\u001b[33m[W 2022-02-15 21:58:50,671]\u001b[0m Param epsilon_start unique value length is less than 2.\u001b[0m\n",
      "\u001b[33m[W 2022-02-15 21:58:50,699]\u001b[0m Param epsilon_start unique value length is less than 2.\u001b[0m\n",
      "\u001b[33m[W 2022-02-15 21:58:50,729]\u001b[0m Param epsilon_start unique value length is less than 2.\u001b[0m\n",
      "\u001b[33m[W 2022-02-15 21:58:50,777]\u001b[0m Param epsilon_start unique value length is less than 2.\u001b[0m\n",
      "\u001b[33m[W 2022-02-15 21:58:50,807]\u001b[0m Param epsilon_start unique value length is less than 2.\u001b[0m\n",
      "\u001b[33m[W 2022-02-15 21:58:50,839]\u001b[0m Param epsilon_start unique value length is less than 2.\u001b[0m\n",
      "\u001b[33m[W 2022-02-15 21:58:50,875]\u001b[0m Param epsilon_start unique value length is less than 2.\u001b[0m\n",
      "\u001b[33m[W 2022-02-15 21:58:50,903]\u001b[0m Param epsilon_start unique value length is less than 2.\u001b[0m\n",
      "\u001b[33m[W 2022-02-15 21:58:50,944]\u001b[0m Param epsilon_start unique value length is less than 2.\u001b[0m\n",
      "\u001b[33m[W 2022-02-15 21:58:50,984]\u001b[0m Param epsilon_start unique value length is less than 2.\u001b[0m\n",
      "\u001b[33m[W 2022-02-15 21:58:51,014]\u001b[0m Param epsilon_start unique value length is less than 2.\u001b[0m\n",
      "\u001b[33m[W 2022-02-15 21:58:51,172]\u001b[0m Param epsilon_start unique value length is less than 2.\u001b[0m\n",
      "\u001b[33m[W 2022-02-15 21:58:51,465]\u001b[0m Param nn_hidden_layers unique value length is less than 2.\u001b[0m\n",
      "\u001b[33m[W 2022-02-15 21:58:51,761]\u001b[0m Param epsilon_start unique value length is less than 2.\u001b[0m\n",
      "\u001b[33m[W 2022-02-15 21:58:52,049]\u001b[0m Param nn_hidden_layers unique value length is less than 2.\u001b[0m\n",
      "\u001b[33m[W 2022-02-15 21:58:52,381]\u001b[0m Param epsilon_start unique value length is less than 2.\u001b[0m\n",
      "\u001b[33m[W 2022-02-15 21:58:52,839]\u001b[0m Param nn_hidden_layers unique value length is less than 2.\u001b[0m\n",
      "\u001b[33m[W 2022-02-15 21:58:53,184]\u001b[0m Param epsilon_start unique value length is less than 2.\u001b[0m\n",
      "\u001b[33m[W 2022-02-15 21:58:53,505]\u001b[0m Param nn_hidden_layers unique value length is less than 2.\u001b[0m\n",
      "\u001b[33m[W 2022-02-15 21:58:53,862]\u001b[0m Param epsilon_start unique value length is less than 2.\u001b[0m\n",
      "\u001b[33m[W 2022-02-15 21:58:54,157]\u001b[0m Param nn_hidden_layers unique value length is less than 2.\u001b[0m\n",
      "\u001b[33m[W 2022-02-15 21:58:54,436]\u001b[0m Param epsilon_start unique value length is less than 2.\u001b[0m\n",
      "\u001b[33m[W 2022-02-15 21:58:54,719]\u001b[0m Param nn_hidden_layers unique value length is less than 2.\u001b[0m\n",
      "\u001b[33m[W 2022-02-15 21:58:54,993]\u001b[0m Param epsilon_start unique value length is less than 2.\u001b[0m\n",
      "\u001b[33m[W 2022-02-15 21:58:55,269]\u001b[0m Param nn_hidden_layers unique value length is less than 2.\u001b[0m\n",
      "\u001b[33m[W 2022-02-15 21:58:55,440]\u001b[0m Param nn_hidden_layers unique value length is less than 2.\u001b[0m\n",
      "\u001b[33m[W 2022-02-15 21:58:55,482]\u001b[0m Param nn_hidden_layers unique value length is less than 2.\u001b[0m\n",
      "\u001b[33m[W 2022-02-15 21:58:55,534]\u001b[0m Param nn_hidden_layers unique value length is less than 2.\u001b[0m\n",
      "\u001b[33m[W 2022-02-15 21:58:55,575]\u001b[0m Param nn_hidden_layers unique value length is less than 2.\u001b[0m\n",
      "\u001b[33m[W 2022-02-15 21:58:55,616]\u001b[0m Param nn_hidden_layers unique value length is less than 2.\u001b[0m\n",
      "\u001b[33m[W 2022-02-15 21:58:55,657]\u001b[0m Param nn_hidden_layers unique value length is less than 2.\u001b[0m\n",
      "\u001b[33m[W 2022-02-15 21:58:55,697]\u001b[0m Param nn_hidden_layers unique value length is less than 2.\u001b[0m\n",
      "\u001b[33m[W 2022-02-15 21:58:55,748]\u001b[0m Param nn_hidden_layers unique value length is less than 2.\u001b[0m\n",
      "\u001b[33m[W 2022-02-15 21:58:55,787]\u001b[0m Param nn_hidden_layers unique value length is less than 2.\u001b[0m\n",
      "\u001b[33m[W 2022-02-15 21:58:55,824]\u001b[0m Param nn_hidden_layers unique value length is less than 2.\u001b[0m\n",
      "\u001b[33m[W 2022-02-15 21:58:55,865]\u001b[0m Param nn_hidden_layers unique value length is less than 2.\u001b[0m\n",
      "\u001b[33m[W 2022-02-15 21:58:55,964]\u001b[0m Param nn_hidden_layers unique value length is less than 2.\u001b[0m\n",
      "\u001b[33m[W 2022-02-15 21:58:56,030]\u001b[0m Param nn_hidden_layers unique value length is less than 2.\u001b[0m\n",
      "\u001b[33m[W 2022-02-15 21:58:56,079]\u001b[0m Param nn_hidden_layers unique value length is less than 2.\u001b[0m\n",
      "\u001b[33m[W 2022-02-15 21:58:56,334]\u001b[0m Param epsilon_start unique value length is less than 2.\u001b[0m\n",
      "\u001b[33m[W 2022-02-15 21:58:56,791]\u001b[0m Param nn_hidden_layers unique value length is less than 2.\u001b[0m\n",
      "\u001b[33m[W 2022-02-15 21:58:57,172]\u001b[0m Param epsilon_start unique value length is less than 2.\u001b[0m\n",
      "\u001b[33m[W 2022-02-15 21:58:57,511]\u001b[0m Param nn_hidden_layers unique value length is less than 2.\u001b[0m\n",
      "\u001b[33m[W 2022-02-15 21:58:57,834]\u001b[0m Param epsilon_start unique value length is less than 2.\u001b[0m\n",
      "\u001b[33m[W 2022-02-15 21:58:58,193]\u001b[0m Param nn_hidden_layers unique value length is less than 2.\u001b[0m\n"
     ]
    },
    {
     "name": "stdout",
     "output_type": "stream",
     "text": [
      "https://app.neptune.ai/plabartabajo/parametric-q-learning-cart-pole/e/PAR-89\n",
      "Remember to stop your run once you’ve finished logging your metadata (https://docs.neptune.ai/api-reference/run#.stop). It will be stopped automatically only when the notebook kernel/interactive console is terminated.\n",
      "67,586 parameters\n"
     ]
    },
    {
     "name": "stderr",
     "output_type": "stream",
     "text": [
      "100%|██████████████████████████████████████████████████████████████████████████| 500/500 [01:30<00:00,  5.54it/s]\n",
      "100%|████████████████████████████████████████████████████████████████████████| 1000/1000 [00:38<00:00, 26.29it/s]"
     ]
    },
    {
     "name": "stdout",
     "output_type": "stream",
     "text": [
      "Shutting down background jobs, please wait a moment...\n",
      "Done!\n"
     ]
    },
    {
     "name": "stderr",
     "output_type": "stream",
     "text": [
      "\n",
      "Waiting for the remaining 19 operations to synchronize with Neptune. Do not kill this process.\n"
     ]
    },
    {
     "name": "stdout",
     "output_type": "stream",
     "text": [
      "All 19 operations synced, thanks for waiting!\n"
     ]
    },
    {
     "name": "stderr",
     "output_type": "stream",
     "text": [
      "\u001b[32m[I 2022-02-15 22:01:12,772]\u001b[0m Trial 36 finished with value: 207.017 and parameters: {'learning_rate': 8.38678054826598e-05, 'discount_factor': 0.9, 'batch_size': 16, 'memory_size': 50000, 'freq_steps_train': 8, 'freq_steps_update_target': 100, 'n_steps_warm_up_memory': 5000, 'n_gradient_steps': 16, 'nn_hidden_layers': '[256, 256]', 'max_grad_norm': 100, 'normalize_state': True, 'epsilon_start': 0.9, 'epsilon_end': 0.1408639168924345, 'steps_epsilon_decay': 100000, 'seed': 560250966}. Best is trial 12 with value: 313.91.\u001b[0m\n",
      "\u001b[33m[W 2022-02-15 22:01:20,630]\u001b[0m Param epsilon_start unique value length is less than 2.\u001b[0m\n",
      "\u001b[33m[W 2022-02-15 22:01:20,893]\u001b[0m Param nn_hidden_layers unique value length is less than 2.\u001b[0m\n",
      "\u001b[33m[W 2022-02-15 22:01:21,109]\u001b[0m Param epsilon_start unique value length is less than 2.\u001b[0m\n",
      "\u001b[33m[W 2022-02-15 22:01:21,310]\u001b[0m Param nn_hidden_layers unique value length is less than 2.\u001b[0m\n",
      "\u001b[33m[W 2022-02-15 22:01:21,497]\u001b[0m Param epsilon_start unique value length is less than 2.\u001b[0m\n",
      "\u001b[33m[W 2022-02-15 22:01:21,725]\u001b[0m Param nn_hidden_layers unique value length is less than 2.\u001b[0m\n",
      "\u001b[33m[W 2022-02-15 22:01:21,861]\u001b[0m Param epsilon_start unique value length is less than 2.\u001b[0m\n",
      "\u001b[33m[W 2022-02-15 22:01:21,879]\u001b[0m Param epsilon_start unique value length is less than 2.\u001b[0m\n",
      "\u001b[33m[W 2022-02-15 22:01:21,899]\u001b[0m Param epsilon_start unique value length is less than 2.\u001b[0m\n",
      "\u001b[33m[W 2022-02-15 22:01:21,936]\u001b[0m Param epsilon_start unique value length is less than 2.\u001b[0m\n",
      "\u001b[33m[W 2022-02-15 22:01:21,955]\u001b[0m Param epsilon_start unique value length is less than 2.\u001b[0m\n",
      "\u001b[33m[W 2022-02-15 22:01:21,975]\u001b[0m Param epsilon_start unique value length is less than 2.\u001b[0m\n",
      "\u001b[33m[W 2022-02-15 22:01:22,007]\u001b[0m Param epsilon_start unique value length is less than 2.\u001b[0m\n",
      "\u001b[33m[W 2022-02-15 22:01:22,029]\u001b[0m Param epsilon_start unique value length is less than 2.\u001b[0m\n",
      "\u001b[33m[W 2022-02-15 22:01:22,050]\u001b[0m Param epsilon_start unique value length is less than 2.\u001b[0m\n",
      "\u001b[33m[W 2022-02-15 22:01:22,072]\u001b[0m Param epsilon_start unique value length is less than 2.\u001b[0m\n",
      "\u001b[33m[W 2022-02-15 22:01:22,092]\u001b[0m Param epsilon_start unique value length is less than 2.\u001b[0m\n",
      "\u001b[33m[W 2022-02-15 22:01:22,119]\u001b[0m Param epsilon_start unique value length is less than 2.\u001b[0m\n",
      "\u001b[33m[W 2022-02-15 22:01:22,148]\u001b[0m Param epsilon_start unique value length is less than 2.\u001b[0m\n",
      "\u001b[33m[W 2022-02-15 22:01:22,168]\u001b[0m Param epsilon_start unique value length is less than 2.\u001b[0m\n",
      "\u001b[33m[W 2022-02-15 22:01:22,278]\u001b[0m Param epsilon_start unique value length is less than 2.\u001b[0m\n",
      "\u001b[33m[W 2022-02-15 22:01:22,472]\u001b[0m Param nn_hidden_layers unique value length is less than 2.\u001b[0m\n",
      "\u001b[33m[W 2022-02-15 22:01:22,664]\u001b[0m Param epsilon_start unique value length is less than 2.\u001b[0m\n",
      "\u001b[33m[W 2022-02-15 22:01:22,867]\u001b[0m Param nn_hidden_layers unique value length is less than 2.\u001b[0m\n",
      "\u001b[33m[W 2022-02-15 22:01:23,113]\u001b[0m Param epsilon_start unique value length is less than 2.\u001b[0m\n",
      "\u001b[33m[W 2022-02-15 22:01:23,384]\u001b[0m Param nn_hidden_layers unique value length is less than 2.\u001b[0m\n",
      "\u001b[33m[W 2022-02-15 22:01:23,637]\u001b[0m Param epsilon_start unique value length is less than 2.\u001b[0m\n",
      "\u001b[33m[W 2022-02-15 22:01:23,841]\u001b[0m Param nn_hidden_layers unique value length is less than 2.\u001b[0m\n",
      "\u001b[33m[W 2022-02-15 22:01:24,040]\u001b[0m Param epsilon_start unique value length is less than 2.\u001b[0m\n",
      "\u001b[33m[W 2022-02-15 22:01:24,236]\u001b[0m Param nn_hidden_layers unique value length is less than 2.\u001b[0m\n",
      "\u001b[33m[W 2022-02-15 22:01:24,432]\u001b[0m Param epsilon_start unique value length is less than 2.\u001b[0m\n",
      "\u001b[33m[W 2022-02-15 22:01:24,628]\u001b[0m Param nn_hidden_layers unique value length is less than 2.\u001b[0m\n",
      "\u001b[33m[W 2022-02-15 22:01:24,824]\u001b[0m Param epsilon_start unique value length is less than 2.\u001b[0m\n",
      "\u001b[33m[W 2022-02-15 22:01:25,019]\u001b[0m Param nn_hidden_layers unique value length is less than 2.\u001b[0m\n",
      "\u001b[33m[W 2022-02-15 22:01:25,139]\u001b[0m Param nn_hidden_layers unique value length is less than 2.\u001b[0m\n",
      "\u001b[33m[W 2022-02-15 22:01:25,165]\u001b[0m Param nn_hidden_layers unique value length is less than 2.\u001b[0m\n",
      "\u001b[33m[W 2022-02-15 22:01:25,194]\u001b[0m Param nn_hidden_layers unique value length is less than 2.\u001b[0m\n",
      "\u001b[33m[W 2022-02-15 22:01:25,223]\u001b[0m Param nn_hidden_layers unique value length is less than 2.\u001b[0m\n",
      "\u001b[33m[W 2022-02-15 22:01:25,252]\u001b[0m Param nn_hidden_layers unique value length is less than 2.\u001b[0m\n",
      "\u001b[33m[W 2022-02-15 22:01:25,281]\u001b[0m Param nn_hidden_layers unique value length is less than 2.\u001b[0m\n",
      "\u001b[33m[W 2022-02-15 22:01:25,311]\u001b[0m Param nn_hidden_layers unique value length is less than 2.\u001b[0m\n",
      "\u001b[33m[W 2022-02-15 22:01:25,350]\u001b[0m Param nn_hidden_layers unique value length is less than 2.\u001b[0m\n",
      "\u001b[33m[W 2022-02-15 22:01:25,411]\u001b[0m Param nn_hidden_layers unique value length is less than 2.\u001b[0m\n",
      "\u001b[33m[W 2022-02-15 22:01:25,461]\u001b[0m Param nn_hidden_layers unique value length is less than 2.\u001b[0m\n",
      "\u001b[33m[W 2022-02-15 22:01:25,488]\u001b[0m Param nn_hidden_layers unique value length is less than 2.\u001b[0m\n",
      "\u001b[33m[W 2022-02-15 22:01:25,551]\u001b[0m Param nn_hidden_layers unique value length is less than 2.\u001b[0m\n",
      "\u001b[33m[W 2022-02-15 22:01:25,585]\u001b[0m Param nn_hidden_layers unique value length is less than 2.\u001b[0m\n",
      "\u001b[33m[W 2022-02-15 22:01:25,614]\u001b[0m Param nn_hidden_layers unique value length is less than 2.\u001b[0m\n",
      "\u001b[33m[W 2022-02-15 22:01:25,750]\u001b[0m Param epsilon_start unique value length is less than 2.\u001b[0m\n",
      "\u001b[33m[W 2022-02-15 22:01:26,002]\u001b[0m Param nn_hidden_layers unique value length is less than 2.\u001b[0m\n",
      "\u001b[33m[W 2022-02-15 22:01:26,231]\u001b[0m Param epsilon_start unique value length is less than 2.\u001b[0m\n",
      "\u001b[33m[W 2022-02-15 22:01:26,458]\u001b[0m Param nn_hidden_layers unique value length is less than 2.\u001b[0m\n",
      "\u001b[33m[W 2022-02-15 22:01:26,645]\u001b[0m Param epsilon_start unique value length is less than 2.\u001b[0m\n",
      "\u001b[33m[W 2022-02-15 22:01:26,854]\u001b[0m Param nn_hidden_layers unique value length is less than 2.\u001b[0m\n"
     ]
    },
    {
     "name": "stdout",
     "output_type": "stream",
     "text": [
      "https://app.neptune.ai/plabartabajo/parametric-q-learning-cart-pole/e/PAR-90\n",
      "Remember to stop your run once you’ve finished logging your metadata (https://docs.neptune.ai/api-reference/run#.stop). It will be stopped automatically only when the notebook kernel/interactive console is terminated.\n",
      "67,586 parameters\n"
     ]
    },
    {
     "name": "stderr",
     "output_type": "stream",
     "text": [
      "100%|█████████████████████████████████████████████████████████████████████████| 500/500 [00:01<00:00, 324.18it/s]\n",
      "100%|███████████████████████████████████████████████████████████████████████| 1000/1000 [00:01<00:00, 591.87it/s]"
     ]
    },
    {
     "name": "stdout",
     "output_type": "stream",
     "text": [
      "Shutting down background jobs, please wait a moment...\n",
      "Done!\n"
     ]
    },
    {
     "name": "stderr",
     "output_type": "stream",
     "text": [
      "\n",
      "Waiting for the remaining 21 operations to synchronize with Neptune. Do not kill this process.\n"
     ]
    },
    {
     "name": "stdout",
     "output_type": "stream",
     "text": [
      "All 21 operations synced, thanks for waiting!\n"
     ]
    },
    {
     "name": "stderr",
     "output_type": "stream",
     "text": [
      "\u001b[32m[I 2022-02-15 22:01:33,459]\u001b[0m Trial 37 finished with value: 9.341 and parameters: {'learning_rate': 2.3867489698067538e-05, 'discount_factor': 0.99, 'batch_size': 16, 'memory_size': 10000, 'freq_steps_train': 256, 'freq_steps_update_target': 1000, 'n_steps_warm_up_memory': 5000, 'n_gradient_steps': 1, 'nn_hidden_layers': '[256, 256]', 'max_grad_norm': 1, 'normalize_state': False, 'epsilon_start': 0.9, 'epsilon_end': 0.024082361465325473, 'steps_epsilon_decay': 1000, 'seed': 9238404}. Best is trial 12 with value: 313.91.\u001b[0m\n",
      "\u001b[33m[W 2022-02-15 22:01:41,410]\u001b[0m Param epsilon_start unique value length is less than 2.\u001b[0m\n",
      "\u001b[33m[W 2022-02-15 22:01:41,687]\u001b[0m Param nn_hidden_layers unique value length is less than 2.\u001b[0m\n",
      "\u001b[33m[W 2022-02-15 22:01:41,920]\u001b[0m Param epsilon_start unique value length is less than 2.\u001b[0m\n",
      "\u001b[33m[W 2022-02-15 22:01:42,133]\u001b[0m Param nn_hidden_layers unique value length is less than 2.\u001b[0m\n",
      "\u001b[33m[W 2022-02-15 22:01:42,326]\u001b[0m Param epsilon_start unique value length is less than 2.\u001b[0m\n",
      "\u001b[33m[W 2022-02-15 22:01:42,585]\u001b[0m Param nn_hidden_layers unique value length is less than 2.\u001b[0m\n",
      "\u001b[33m[W 2022-02-15 22:01:42,725]\u001b[0m Param epsilon_start unique value length is less than 2.\u001b[0m\n",
      "\u001b[33m[W 2022-02-15 22:01:42,745]\u001b[0m Param epsilon_start unique value length is less than 2.\u001b[0m\n",
      "\u001b[33m[W 2022-02-15 22:01:42,768]\u001b[0m Param epsilon_start unique value length is less than 2.\u001b[0m\n",
      "\u001b[33m[W 2022-02-15 22:01:42,806]\u001b[0m Param epsilon_start unique value length is less than 2.\u001b[0m\n",
      "\u001b[33m[W 2022-02-15 22:01:42,828]\u001b[0m Param epsilon_start unique value length is less than 2.\u001b[0m\n",
      "\u001b[33m[W 2022-02-15 22:01:42,848]\u001b[0m Param epsilon_start unique value length is less than 2.\u001b[0m\n",
      "\u001b[33m[W 2022-02-15 22:01:42,877]\u001b[0m Param epsilon_start unique value length is less than 2.\u001b[0m\n",
      "\u001b[33m[W 2022-02-15 22:01:42,898]\u001b[0m Param epsilon_start unique value length is less than 2.\u001b[0m\n",
      "\u001b[33m[W 2022-02-15 22:01:42,920]\u001b[0m Param epsilon_start unique value length is less than 2.\u001b[0m\n",
      "\u001b[33m[W 2022-02-15 22:01:42,942]\u001b[0m Param epsilon_start unique value length is less than 2.\u001b[0m\n",
      "\u001b[33m[W 2022-02-15 22:01:42,962]\u001b[0m Param epsilon_start unique value length is less than 2.\u001b[0m\n",
      "\u001b[33m[W 2022-02-15 22:01:42,991]\u001b[0m Param epsilon_start unique value length is less than 2.\u001b[0m\n",
      "\u001b[33m[W 2022-02-15 22:01:43,020]\u001b[0m Param epsilon_start unique value length is less than 2.\u001b[0m\n",
      "\u001b[33m[W 2022-02-15 22:01:43,041]\u001b[0m Param epsilon_start unique value length is less than 2.\u001b[0m\n",
      "\u001b[33m[W 2022-02-15 22:01:43,153]\u001b[0m Param epsilon_start unique value length is less than 2.\u001b[0m\n",
      "\u001b[33m[W 2022-02-15 22:01:43,356]\u001b[0m Param nn_hidden_layers unique value length is less than 2.\u001b[0m\n",
      "\u001b[33m[W 2022-02-15 22:01:43,555]\u001b[0m Param epsilon_start unique value length is less than 2.\u001b[0m\n",
      "\u001b[33m[W 2022-02-15 22:01:43,753]\u001b[0m Param nn_hidden_layers unique value length is less than 2.\u001b[0m\n",
      "\u001b[33m[W 2022-02-15 22:01:43,994]\u001b[0m Param epsilon_start unique value length is less than 2.\u001b[0m\n",
      "\u001b[33m[W 2022-02-15 22:01:44,269]\u001b[0m Param nn_hidden_layers unique value length is less than 2.\u001b[0m\n",
      "\u001b[33m[W 2022-02-15 22:01:44,518]\u001b[0m Param epsilon_start unique value length is less than 2.\u001b[0m\n",
      "\u001b[33m[W 2022-02-15 22:01:44,715]\u001b[0m Param nn_hidden_layers unique value length is less than 2.\u001b[0m\n",
      "\u001b[33m[W 2022-02-15 22:01:44,912]\u001b[0m Param epsilon_start unique value length is less than 2.\u001b[0m\n",
      "\u001b[33m[W 2022-02-15 22:01:45,114]\u001b[0m Param nn_hidden_layers unique value length is less than 2.\u001b[0m\n",
      "\u001b[33m[W 2022-02-15 22:01:45,310]\u001b[0m Param epsilon_start unique value length is less than 2.\u001b[0m\n",
      "\u001b[33m[W 2022-02-15 22:01:45,507]\u001b[0m Param nn_hidden_layers unique value length is less than 2.\u001b[0m\n",
      "\u001b[33m[W 2022-02-15 22:01:45,706]\u001b[0m Param epsilon_start unique value length is less than 2.\u001b[0m\n",
      "\u001b[33m[W 2022-02-15 22:01:45,902]\u001b[0m Param nn_hidden_layers unique value length is less than 2.\u001b[0m\n",
      "\u001b[33m[W 2022-02-15 22:01:46,024]\u001b[0m Param nn_hidden_layers unique value length is less than 2.\u001b[0m\n",
      "\u001b[33m[W 2022-02-15 22:01:46,051]\u001b[0m Param nn_hidden_layers unique value length is less than 2.\u001b[0m\n",
      "\u001b[33m[W 2022-02-15 22:01:46,080]\u001b[0m Param nn_hidden_layers unique value length is less than 2.\u001b[0m\n",
      "\u001b[33m[W 2022-02-15 22:01:46,110]\u001b[0m Param nn_hidden_layers unique value length is less than 2.\u001b[0m\n",
      "\u001b[33m[W 2022-02-15 22:01:46,138]\u001b[0m Param nn_hidden_layers unique value length is less than 2.\u001b[0m\n",
      "\u001b[33m[W 2022-02-15 22:01:46,167]\u001b[0m Param nn_hidden_layers unique value length is less than 2.\u001b[0m\n",
      "\u001b[33m[W 2022-02-15 22:01:46,196]\u001b[0m Param nn_hidden_layers unique value length is less than 2.\u001b[0m\n",
      "\u001b[33m[W 2022-02-15 22:01:46,233]\u001b[0m Param nn_hidden_layers unique value length is less than 2.\u001b[0m\n",
      "\u001b[33m[W 2022-02-15 22:01:46,266]\u001b[0m Param nn_hidden_layers unique value length is less than 2.\u001b[0m\n",
      "\u001b[33m[W 2022-02-15 22:01:46,294]\u001b[0m Param nn_hidden_layers unique value length is less than 2.\u001b[0m\n",
      "\u001b[33m[W 2022-02-15 22:01:46,324]\u001b[0m Param nn_hidden_layers unique value length is less than 2.\u001b[0m\n",
      "\u001b[33m[W 2022-02-15 22:01:46,387]\u001b[0m Param nn_hidden_layers unique value length is less than 2.\u001b[0m\n",
      "\u001b[33m[W 2022-02-15 22:01:46,423]\u001b[0m Param nn_hidden_layers unique value length is less than 2.\u001b[0m\n",
      "\u001b[33m[W 2022-02-15 22:01:46,453]\u001b[0m Param nn_hidden_layers unique value length is less than 2.\u001b[0m\n",
      "\u001b[33m[W 2022-02-15 22:01:46,589]\u001b[0m Param epsilon_start unique value length is less than 2.\u001b[0m\n",
      "\u001b[33m[W 2022-02-15 22:01:46,842]\u001b[0m Param nn_hidden_layers unique value length is less than 2.\u001b[0m\n",
      "\u001b[33m[W 2022-02-15 22:01:47,116]\u001b[0m Param epsilon_start unique value length is less than 2.\u001b[0m\n",
      "\u001b[33m[W 2022-02-15 22:01:47,342]\u001b[0m Param nn_hidden_layers unique value length is less than 2.\u001b[0m\n",
      "\u001b[33m[W 2022-02-15 22:01:47,535]\u001b[0m Param epsilon_start unique value length is less than 2.\u001b[0m\n",
      "\u001b[33m[W 2022-02-15 22:01:47,749]\u001b[0m Param nn_hidden_layers unique value length is less than 2.\u001b[0m\n"
     ]
    },
    {
     "name": "stdout",
     "output_type": "stream",
     "text": [
      "https://app.neptune.ai/plabartabajo/parametric-q-learning-cart-pole/e/PAR-91\n",
      "Remember to stop your run once you’ve finished logging your metadata (https://docs.neptune.ai/api-reference/run#.stop). It will be stopped automatically only when the notebook kernel/interactive console is terminated.\n",
      "67,586 parameters\n"
     ]
    },
    {
     "name": "stderr",
     "output_type": "stream",
     "text": [
      "100%|██████████████████████████████████████████████████████████████████████████| 500/500 [00:07<00:00, 67.59it/s]\n",
      "100%|███████████████████████████████████████████████████████████████████████| 1000/1000 [00:07<00:00, 127.07it/s]"
     ]
    },
    {
     "name": "stdout",
     "output_type": "stream",
     "text": [
      "Shutting down background jobs, please wait a moment...\n",
      "Done!\n"
     ]
    },
    {
     "name": "stderr",
     "output_type": "stream",
     "text": [
      "\n",
      "Waiting for the remaining 27 operations to synchronize with Neptune. Do not kill this process.\n"
     ]
    },
    {
     "name": "stdout",
     "output_type": "stream",
     "text": [
      "All 27 operations synced, thanks for waiting!\n"
     ]
    },
    {
     "name": "stderr",
     "output_type": "stream",
     "text": [
      "\u001b[32m[I 2022-02-15 22:02:06,659]\u001b[0m Trial 38 finished with value: 43.921 and parameters: {'learning_rate': 0.05159014832677878, 'discount_factor': 0.9, 'batch_size': 64, 'memory_size': 100000, 'freq_steps_train': 128, 'freq_steps_update_target': 100, 'n_steps_warm_up_memory': 1000, 'n_gradient_steps': 16, 'nn_hidden_layers': '[256, 256]', 'max_grad_norm': 100, 'normalize_state': True, 'epsilon_start': 0.9, 'epsilon_end': 0.07372785993130004, 'steps_epsilon_decay': 100000, 'seed': 98803646}. Best is trial 12 with value: 313.91.\u001b[0m\n",
      "\u001b[33m[W 2022-02-15 22:02:14,684]\u001b[0m Param epsilon_start unique value length is less than 2.\u001b[0m\n",
      "\u001b[33m[W 2022-02-15 22:02:14,966]\u001b[0m Param nn_hidden_layers unique value length is less than 2.\u001b[0m\n",
      "\u001b[33m[W 2022-02-15 22:02:15,194]\u001b[0m Param epsilon_start unique value length is less than 2.\u001b[0m\n",
      "\u001b[33m[W 2022-02-15 22:02:15,407]\u001b[0m Param nn_hidden_layers unique value length is less than 2.\u001b[0m\n",
      "\u001b[33m[W 2022-02-15 22:02:15,601]\u001b[0m Param epsilon_start unique value length is less than 2.\u001b[0m\n",
      "\u001b[33m[W 2022-02-15 22:02:15,835]\u001b[0m Param nn_hidden_layers unique value length is less than 2.\u001b[0m\n",
      "\u001b[33m[W 2022-02-15 22:02:15,973]\u001b[0m Param epsilon_start unique value length is less than 2.\u001b[0m\n",
      "\u001b[33m[W 2022-02-15 22:02:15,992]\u001b[0m Param epsilon_start unique value length is less than 2.\u001b[0m\n",
      "\u001b[33m[W 2022-02-15 22:02:16,013]\u001b[0m Param epsilon_start unique value length is less than 2.\u001b[0m\n",
      "\u001b[33m[W 2022-02-15 22:02:16,050]\u001b[0m Param epsilon_start unique value length is less than 2.\u001b[0m\n",
      "\u001b[33m[W 2022-02-15 22:02:16,072]\u001b[0m Param epsilon_start unique value length is less than 2.\u001b[0m\n",
      "\u001b[33m[W 2022-02-15 22:02:16,092]\u001b[0m Param epsilon_start unique value length is less than 2.\u001b[0m\n",
      "\u001b[33m[W 2022-02-15 22:02:16,121]\u001b[0m Param epsilon_start unique value length is less than 2.\u001b[0m\n",
      "\u001b[33m[W 2022-02-15 22:02:16,142]\u001b[0m Param epsilon_start unique value length is less than 2.\u001b[0m\n",
      "\u001b[33m[W 2022-02-15 22:02:16,163]\u001b[0m Param epsilon_start unique value length is less than 2.\u001b[0m\n",
      "\u001b[33m[W 2022-02-15 22:02:16,183]\u001b[0m Param epsilon_start unique value length is less than 2.\u001b[0m\n",
      "\u001b[33m[W 2022-02-15 22:02:16,204]\u001b[0m Param epsilon_start unique value length is less than 2.\u001b[0m\n",
      "\u001b[33m[W 2022-02-15 22:02:16,237]\u001b[0m Param epsilon_start unique value length is less than 2.\u001b[0m\n",
      "\u001b[33m[W 2022-02-15 22:02:16,265]\u001b[0m Param epsilon_start unique value length is less than 2.\u001b[0m\n",
      "\u001b[33m[W 2022-02-15 22:02:16,288]\u001b[0m Param epsilon_start unique value length is less than 2.\u001b[0m\n",
      "\u001b[33m[W 2022-02-15 22:02:16,422]\u001b[0m Param epsilon_start unique value length is less than 2.\u001b[0m\n",
      "\u001b[33m[W 2022-02-15 22:02:16,622]\u001b[0m Param nn_hidden_layers unique value length is less than 2.\u001b[0m\n",
      "\u001b[33m[W 2022-02-15 22:02:16,821]\u001b[0m Param epsilon_start unique value length is less than 2.\u001b[0m\n",
      "\u001b[33m[W 2022-02-15 22:02:17,022]\u001b[0m Param nn_hidden_layers unique value length is less than 2.\u001b[0m\n",
      "\u001b[33m[W 2022-02-15 22:02:17,268]\u001b[0m Param epsilon_start unique value length is less than 2.\u001b[0m\n",
      "\u001b[33m[W 2022-02-15 22:02:17,545]\u001b[0m Param nn_hidden_layers unique value length is less than 2.\u001b[0m\n",
      "\u001b[33m[W 2022-02-15 22:02:17,801]\u001b[0m Param epsilon_start unique value length is less than 2.\u001b[0m\n",
      "\u001b[33m[W 2022-02-15 22:02:18,000]\u001b[0m Param nn_hidden_layers unique value length is less than 2.\u001b[0m\n",
      "\u001b[33m[W 2022-02-15 22:02:18,201]\u001b[0m Param epsilon_start unique value length is less than 2.\u001b[0m\n",
      "\u001b[33m[W 2022-02-15 22:02:18,399]\u001b[0m Param nn_hidden_layers unique value length is less than 2.\u001b[0m\n",
      "\u001b[33m[W 2022-02-15 22:02:18,600]\u001b[0m Param epsilon_start unique value length is less than 2.\u001b[0m\n",
      "\u001b[33m[W 2022-02-15 22:02:18,798]\u001b[0m Param nn_hidden_layers unique value length is less than 2.\u001b[0m\n",
      "\u001b[33m[W 2022-02-15 22:02:18,996]\u001b[0m Param epsilon_start unique value length is less than 2.\u001b[0m\n",
      "\u001b[33m[W 2022-02-15 22:02:19,199]\u001b[0m Param nn_hidden_layers unique value length is less than 2.\u001b[0m\n",
      "\u001b[33m[W 2022-02-15 22:02:19,321]\u001b[0m Param nn_hidden_layers unique value length is less than 2.\u001b[0m\n",
      "\u001b[33m[W 2022-02-15 22:02:19,348]\u001b[0m Param nn_hidden_layers unique value length is less than 2.\u001b[0m\n",
      "\u001b[33m[W 2022-02-15 22:02:19,377]\u001b[0m Param nn_hidden_layers unique value length is less than 2.\u001b[0m\n",
      "\u001b[33m[W 2022-02-15 22:02:19,406]\u001b[0m Param nn_hidden_layers unique value length is less than 2.\u001b[0m\n",
      "\u001b[33m[W 2022-02-15 22:02:19,438]\u001b[0m Param nn_hidden_layers unique value length is less than 2.\u001b[0m\n",
      "\u001b[33m[W 2022-02-15 22:02:19,466]\u001b[0m Param nn_hidden_layers unique value length is less than 2.\u001b[0m\n",
      "\u001b[33m[W 2022-02-15 22:02:19,495]\u001b[0m Param nn_hidden_layers unique value length is less than 2.\u001b[0m\n",
      "\u001b[33m[W 2022-02-15 22:02:19,534]\u001b[0m Param nn_hidden_layers unique value length is less than 2.\u001b[0m\n",
      "\u001b[33m[W 2022-02-15 22:02:19,565]\u001b[0m Param nn_hidden_layers unique value length is less than 2.\u001b[0m\n",
      "\u001b[33m[W 2022-02-15 22:02:19,593]\u001b[0m Param nn_hidden_layers unique value length is less than 2.\u001b[0m\n",
      "\u001b[33m[W 2022-02-15 22:02:19,621]\u001b[0m Param nn_hidden_layers unique value length is less than 2.\u001b[0m\n",
      "\u001b[33m[W 2022-02-15 22:02:19,684]\u001b[0m Param nn_hidden_layers unique value length is less than 2.\u001b[0m\n",
      "\u001b[33m[W 2022-02-15 22:02:19,720]\u001b[0m Param nn_hidden_layers unique value length is less than 2.\u001b[0m\n",
      "\u001b[33m[W 2022-02-15 22:02:19,748]\u001b[0m Param nn_hidden_layers unique value length is less than 2.\u001b[0m\n",
      "\u001b[33m[W 2022-02-15 22:02:19,886]\u001b[0m Param epsilon_start unique value length is less than 2.\u001b[0m\n",
      "\u001b[33m[W 2022-02-15 22:02:20,144]\u001b[0m Param nn_hidden_layers unique value length is less than 2.\u001b[0m\n",
      "\u001b[33m[W 2022-02-15 22:02:20,384]\u001b[0m Param epsilon_start unique value length is less than 2.\u001b[0m\n",
      "\u001b[33m[W 2022-02-15 22:02:20,667]\u001b[0m Param nn_hidden_layers unique value length is less than 2.\u001b[0m\n",
      "\u001b[33m[W 2022-02-15 22:02:20,865]\u001b[0m Param epsilon_start unique value length is less than 2.\u001b[0m\n",
      "\u001b[33m[W 2022-02-15 22:02:21,101]\u001b[0m Param nn_hidden_layers unique value length is less than 2.\u001b[0m\n"
     ]
    },
    {
     "name": "stdout",
     "output_type": "stream",
     "text": [
      "https://app.neptune.ai/plabartabajo/parametric-q-learning-cart-pole/e/PAR-92\n",
      "Remember to stop your run once you’ve finished logging your metadata (https://docs.neptune.ai/api-reference/run#.stop). It will be stopped automatically only when the notebook kernel/interactive console is terminated.\n",
      "67,586 parameters\n"
     ]
    },
    {
     "name": "stderr",
     "output_type": "stream",
     "text": [
      "100%|██████████████████████████████████████████████████████████████████████████| 500/500 [01:16<00:00,  6.54it/s]\n",
      "100%|████████████████████████████████████████████████████████████████████████| 1000/1000 [00:18<00:00, 54.69it/s]"
     ]
    },
    {
     "name": "stdout",
     "output_type": "stream",
     "text": [
      "Shutting down background jobs, please wait a moment...\n",
      "Done!\n"
     ]
    },
    {
     "name": "stderr",
     "output_type": "stream",
     "text": [
      "\n",
      "Waiting for the remaining 47 operations to synchronize with Neptune. Do not kill this process.\n"
     ]
    },
    {
     "name": "stdout",
     "output_type": "stream",
     "text": [
      "All 47 operations synced, thanks for waiting!\n"
     ]
    },
    {
     "name": "stderr",
     "output_type": "stream",
     "text": [
      "\u001b[32m[I 2022-02-15 22:03:59,600]\u001b[0m Trial 39 finished with value: 91.619 and parameters: {'learning_rate': 0.007445996457903688, 'discount_factor': 0.9, 'batch_size': 128, 'memory_size': 10000, 'freq_steps_train': 8, 'freq_steps_update_target': 100, 'n_steps_warm_up_memory': 5000, 'n_gradient_steps': 4, 'nn_hidden_layers': '[256, 256]', 'max_grad_norm': 10, 'normalize_state': False, 'epsilon_start': 0.9, 'epsilon_end': 0.17063247500820308, 'steps_epsilon_decay': 10000, 'seed': 654021306}. Best is trial 12 with value: 313.91.\u001b[0m\n",
      "\u001b[33m[W 2022-02-15 22:04:08,824]\u001b[0m Param epsilon_start unique value length is less than 2.\u001b[0m\n",
      "\u001b[33m[W 2022-02-15 22:04:09,163]\u001b[0m Param nn_hidden_layers unique value length is less than 2.\u001b[0m\n",
      "\u001b[33m[W 2022-02-15 22:04:09,447]\u001b[0m Param epsilon_start unique value length is less than 2.\u001b[0m\n",
      "\u001b[33m[W 2022-02-15 22:04:09,701]\u001b[0m Param nn_hidden_layers unique value length is less than 2.\u001b[0m\n",
      "\u001b[33m[W 2022-02-15 22:04:09,931]\u001b[0m Param epsilon_start unique value length is less than 2.\u001b[0m\n",
      "\u001b[33m[W 2022-02-15 22:04:10,209]\u001b[0m Param nn_hidden_layers unique value length is less than 2.\u001b[0m\n",
      "\u001b[33m[W 2022-02-15 22:04:10,373]\u001b[0m Param epsilon_start unique value length is less than 2.\u001b[0m\n",
      "\u001b[33m[W 2022-02-15 22:04:10,395]\u001b[0m Param epsilon_start unique value length is less than 2.\u001b[0m\n",
      "\u001b[33m[W 2022-02-15 22:04:10,417]\u001b[0m Param epsilon_start unique value length is less than 2.\u001b[0m\n",
      "\u001b[33m[W 2022-02-15 22:04:10,459]\u001b[0m Param epsilon_start unique value length is less than 2.\u001b[0m\n",
      "\u001b[33m[W 2022-02-15 22:04:10,482]\u001b[0m Param epsilon_start unique value length is less than 2.\u001b[0m\n",
      "\u001b[33m[W 2022-02-15 22:04:10,505]\u001b[0m Param epsilon_start unique value length is less than 2.\u001b[0m\n",
      "\u001b[33m[W 2022-02-15 22:04:10,537]\u001b[0m Param epsilon_start unique value length is less than 2.\u001b[0m\n",
      "\u001b[33m[W 2022-02-15 22:04:10,560]\u001b[0m Param epsilon_start unique value length is less than 2.\u001b[0m\n",
      "\u001b[33m[W 2022-02-15 22:04:10,582]\u001b[0m Param epsilon_start unique value length is less than 2.\u001b[0m\n",
      "\u001b[33m[W 2022-02-15 22:04:10,605]\u001b[0m Param epsilon_start unique value length is less than 2.\u001b[0m\n",
      "\u001b[33m[W 2022-02-15 22:04:10,629]\u001b[0m Param epsilon_start unique value length is less than 2.\u001b[0m\n",
      "\u001b[33m[W 2022-02-15 22:04:10,661]\u001b[0m Param epsilon_start unique value length is less than 2.\u001b[0m\n",
      "\u001b[33m[W 2022-02-15 22:04:10,694]\u001b[0m Param epsilon_start unique value length is less than 2.\u001b[0m\n",
      "\u001b[33m[W 2022-02-15 22:04:10,718]\u001b[0m Param epsilon_start unique value length is less than 2.\u001b[0m\n",
      "\u001b[33m[W 2022-02-15 22:04:10,842]\u001b[0m Param epsilon_start unique value length is less than 2.\u001b[0m\n",
      "\u001b[33m[W 2022-02-15 22:04:11,066]\u001b[0m Param nn_hidden_layers unique value length is less than 2.\u001b[0m\n",
      "\u001b[33m[W 2022-02-15 22:04:11,294]\u001b[0m Param epsilon_start unique value length is less than 2.\u001b[0m\n",
      "\u001b[33m[W 2022-02-15 22:04:11,523]\u001b[0m Param nn_hidden_layers unique value length is less than 2.\u001b[0m\n",
      "\u001b[33m[W 2022-02-15 22:04:11,799]\u001b[0m Param epsilon_start unique value length is less than 2.\u001b[0m\n",
      "\u001b[33m[W 2022-02-15 22:04:12,105]\u001b[0m Param nn_hidden_layers unique value length is less than 2.\u001b[0m\n",
      "\u001b[33m[W 2022-02-15 22:04:12,378]\u001b[0m Param epsilon_start unique value length is less than 2.\u001b[0m\n",
      "\u001b[33m[W 2022-02-15 22:04:12,596]\u001b[0m Param nn_hidden_layers unique value length is less than 2.\u001b[0m\n",
      "\u001b[33m[W 2022-02-15 22:04:12,815]\u001b[0m Param epsilon_start unique value length is less than 2.\u001b[0m\n",
      "\u001b[33m[W 2022-02-15 22:04:13,075]\u001b[0m Param nn_hidden_layers unique value length is less than 2.\u001b[0m\n",
      "\u001b[33m[W 2022-02-15 22:04:13,294]\u001b[0m Param epsilon_start unique value length is less than 2.\u001b[0m\n",
      "\u001b[33m[W 2022-02-15 22:04:13,512]\u001b[0m Param nn_hidden_layers unique value length is less than 2.\u001b[0m\n",
      "\u001b[33m[W 2022-02-15 22:04:13,732]\u001b[0m Param epsilon_start unique value length is less than 2.\u001b[0m\n",
      "\u001b[33m[W 2022-02-15 22:04:13,947]\u001b[0m Param nn_hidden_layers unique value length is less than 2.\u001b[0m\n",
      "\u001b[33m[W 2022-02-15 22:04:14,080]\u001b[0m Param nn_hidden_layers unique value length is less than 2.\u001b[0m\n",
      "\u001b[33m[W 2022-02-15 22:04:14,109]\u001b[0m Param nn_hidden_layers unique value length is less than 2.\u001b[0m\n",
      "\u001b[33m[W 2022-02-15 22:04:14,138]\u001b[0m Param nn_hidden_layers unique value length is less than 2.\u001b[0m\n",
      "\u001b[33m[W 2022-02-15 22:04:14,168]\u001b[0m Param nn_hidden_layers unique value length is less than 2.\u001b[0m\n",
      "\u001b[33m[W 2022-02-15 22:04:14,198]\u001b[0m Param nn_hidden_layers unique value length is less than 2.\u001b[0m\n",
      "\u001b[33m[W 2022-02-15 22:04:14,228]\u001b[0m Param nn_hidden_layers unique value length is less than 2.\u001b[0m\n",
      "\u001b[33m[W 2022-02-15 22:04:14,257]\u001b[0m Param nn_hidden_layers unique value length is less than 2.\u001b[0m\n",
      "\u001b[33m[W 2022-02-15 22:04:14,297]\u001b[0m Param nn_hidden_layers unique value length is less than 2.\u001b[0m\n",
      "\u001b[33m[W 2022-02-15 22:04:14,329]\u001b[0m Param nn_hidden_layers unique value length is less than 2.\u001b[0m\n",
      "\u001b[33m[W 2022-02-15 22:04:14,358]\u001b[0m Param nn_hidden_layers unique value length is less than 2.\u001b[0m\n",
      "\u001b[33m[W 2022-02-15 22:04:14,388]\u001b[0m Param nn_hidden_layers unique value length is less than 2.\u001b[0m\n",
      "\u001b[33m[W 2022-02-15 22:04:14,453]\u001b[0m Param nn_hidden_layers unique value length is less than 2.\u001b[0m\n",
      "\u001b[33m[W 2022-02-15 22:04:14,492]\u001b[0m Param nn_hidden_layers unique value length is less than 2.\u001b[0m\n",
      "\u001b[33m[W 2022-02-15 22:04:14,521]\u001b[0m Param nn_hidden_layers unique value length is less than 2.\u001b[0m\n",
      "\u001b[33m[W 2022-02-15 22:04:14,673]\u001b[0m Param epsilon_start unique value length is less than 2.\u001b[0m\n",
      "\u001b[33m[W 2022-02-15 22:04:14,965]\u001b[0m Param nn_hidden_layers unique value length is less than 2.\u001b[0m\n",
      "\u001b[33m[W 2022-02-15 22:04:15,224]\u001b[0m Param epsilon_start unique value length is less than 2.\u001b[0m\n",
      "\u001b[33m[W 2022-02-15 22:04:15,481]\u001b[0m Param nn_hidden_layers unique value length is less than 2.\u001b[0m\n",
      "\u001b[33m[W 2022-02-15 22:04:15,692]\u001b[0m Param epsilon_start unique value length is less than 2.\u001b[0m\n",
      "\u001b[33m[W 2022-02-15 22:04:15,912]\u001b[0m Param nn_hidden_layers unique value length is less than 2.\u001b[0m\n"
     ]
    },
    {
     "name": "stdout",
     "output_type": "stream",
     "text": [
      "https://app.neptune.ai/plabartabajo/parametric-q-learning-cart-pole/e/PAR-93\n",
      "Remember to stop your run once you’ve finished logging your metadata (https://docs.neptune.ai/api-reference/run#.stop). It will be stopped automatically only when the notebook kernel/interactive console is terminated.\n",
      "67,586 parameters\n"
     ]
    },
    {
     "name": "stderr",
     "output_type": "stream",
     "text": [
      "100%|█████████████████████████████████████████████████████████████████████████| 500/500 [00:01<00:00, 310.88it/s]\n",
      "100%|███████████████████████████████████████████████████████████████████████| 1000/1000 [00:04<00:00, 209.92it/s]"
     ]
    },
    {
     "name": "stdout",
     "output_type": "stream",
     "text": [
      "Shutting down background jobs, please wait a moment...\n",
      "Done!\n"
     ]
    },
    {
     "name": "stderr",
     "output_type": "stream",
     "text": [
      "\n",
      "Waiting for the remaining 38 operations to synchronize with Neptune. Do not kill this process.\n"
     ]
    },
    {
     "name": "stdout",
     "output_type": "stream",
     "text": [
      "All 38 operations synced, thanks for waiting!\n"
     ]
    },
    {
     "name": "stderr",
     "output_type": "stream",
     "text": [
      "\u001b[32m[I 2022-02-15 22:04:26,426]\u001b[0m Trial 40 finished with value: 20.522 and parameters: {'learning_rate': 0.00020868352884135572, 'discount_factor': 0.99, 'batch_size': 32, 'memory_size': 50000, 'freq_steps_train': 256, 'freq_steps_update_target': 1000, 'n_steps_warm_up_memory': 1000, 'n_gradient_steps': 1, 'nn_hidden_layers': '[256, 256]', 'max_grad_norm': 100, 'normalize_state': True, 'epsilon_start': 0.9, 'epsilon_end': 0.0011129286649947737, 'steps_epsilon_decay': 100000, 'seed': 254969340}. Best is trial 12 with value: 313.91.\u001b[0m\n",
      "\u001b[33m[W 2022-02-15 22:04:40,032]\u001b[0m Param epsilon_start unique value length is less than 2.\u001b[0m\n",
      "\u001b[33m[W 2022-02-15 22:04:40,610]\u001b[0m Param nn_hidden_layers unique value length is less than 2.\u001b[0m\n",
      "\u001b[33m[W 2022-02-15 22:04:41,106]\u001b[0m Param epsilon_start unique value length is less than 2.\u001b[0m\n",
      "\u001b[33m[W 2022-02-15 22:04:41,612]\u001b[0m Param nn_hidden_layers unique value length is less than 2.\u001b[0m\n",
      "\u001b[33m[W 2022-02-15 22:04:42,048]\u001b[0m Param epsilon_start unique value length is less than 2.\u001b[0m\n",
      "\u001b[33m[W 2022-02-15 22:04:42,655]\u001b[0m Param nn_hidden_layers unique value length is less than 2.\u001b[0m\n",
      "\u001b[33m[W 2022-02-15 22:04:43,015]\u001b[0m Param epsilon_start unique value length is less than 2.\u001b[0m\n",
      "\u001b[33m[W 2022-02-15 22:04:43,068]\u001b[0m Param epsilon_start unique value length is less than 2.\u001b[0m\n",
      "\u001b[33m[W 2022-02-15 22:04:43,184]\u001b[0m Param epsilon_start unique value length is less than 2.\u001b[0m\n",
      "\u001b[33m[W 2022-02-15 22:04:43,295]\u001b[0m Param epsilon_start unique value length is less than 2.\u001b[0m\n",
      "\u001b[33m[W 2022-02-15 22:04:43,354]\u001b[0m Param epsilon_start unique value length is less than 2.\u001b[0m\n",
      "\u001b[33m[W 2022-02-15 22:04:43,412]\u001b[0m Param epsilon_start unique value length is less than 2.\u001b[0m\n",
      "\u001b[33m[W 2022-02-15 22:04:43,489]\u001b[0m Param epsilon_start unique value length is less than 2.\u001b[0m\n",
      "\u001b[33m[W 2022-02-15 22:04:43,546]\u001b[0m Param epsilon_start unique value length is less than 2.\u001b[0m\n",
      "\u001b[33m[W 2022-02-15 22:04:43,598]\u001b[0m Param epsilon_start unique value length is less than 2.\u001b[0m\n",
      "\u001b[33m[W 2022-02-15 22:04:43,643]\u001b[0m Param epsilon_start unique value length is less than 2.\u001b[0m\n",
      "\u001b[33m[W 2022-02-15 22:04:43,688]\u001b[0m Param epsilon_start unique value length is less than 2.\u001b[0m\n",
      "\u001b[33m[W 2022-02-15 22:04:43,754]\u001b[0m Param epsilon_start unique value length is less than 2.\u001b[0m\n",
      "\u001b[33m[W 2022-02-15 22:04:43,815]\u001b[0m Param epsilon_start unique value length is less than 2.\u001b[0m\n",
      "\u001b[33m[W 2022-02-15 22:04:43,862]\u001b[0m Param epsilon_start unique value length is less than 2.\u001b[0m\n",
      "\u001b[33m[W 2022-02-15 22:04:44,132]\u001b[0m Param epsilon_start unique value length is less than 2.\u001b[0m\n",
      "\u001b[33m[W 2022-02-15 22:04:44,648]\u001b[0m Param nn_hidden_layers unique value length is less than 2.\u001b[0m\n",
      "\u001b[33m[W 2022-02-15 22:04:45,217]\u001b[0m Param epsilon_start unique value length is less than 2.\u001b[0m\n",
      "\u001b[33m[W 2022-02-15 22:04:45,741]\u001b[0m Param nn_hidden_layers unique value length is less than 2.\u001b[0m\n",
      "\u001b[33m[W 2022-02-15 22:04:46,376]\u001b[0m Param epsilon_start unique value length is less than 2.\u001b[0m\n",
      "\u001b[33m[W 2022-02-15 22:04:47,107]\u001b[0m Param nn_hidden_layers unique value length is less than 2.\u001b[0m\n",
      "\u001b[33m[W 2022-02-15 22:04:47,785]\u001b[0m Param epsilon_start unique value length is less than 2.\u001b[0m\n",
      "\u001b[33m[W 2022-02-15 22:04:48,301]\u001b[0m Param nn_hidden_layers unique value length is less than 2.\u001b[0m\n",
      "\u001b[33m[W 2022-02-15 22:04:49,021]\u001b[0m Param epsilon_start unique value length is less than 2.\u001b[0m\n",
      "\u001b[33m[W 2022-02-15 22:04:49,600]\u001b[0m Param nn_hidden_layers unique value length is less than 2.\u001b[0m\n",
      "\u001b[33m[W 2022-02-15 22:04:50,247]\u001b[0m Param epsilon_start unique value length is less than 2.\u001b[0m\n",
      "\u001b[33m[W 2022-02-15 22:04:50,771]\u001b[0m Param nn_hidden_layers unique value length is less than 2.\u001b[0m\n",
      "\u001b[33m[W 2022-02-15 22:04:51,418]\u001b[0m Param epsilon_start unique value length is less than 2.\u001b[0m\n",
      "\u001b[33m[W 2022-02-15 22:04:52,022]\u001b[0m Param nn_hidden_layers unique value length is less than 2.\u001b[0m\n",
      "\u001b[33m[W 2022-02-15 22:04:52,372]\u001b[0m Param nn_hidden_layers unique value length is less than 2.\u001b[0m\n",
      "\u001b[33m[W 2022-02-15 22:04:52,458]\u001b[0m Param nn_hidden_layers unique value length is less than 2.\u001b[0m\n",
      "\u001b[33m[W 2022-02-15 22:04:52,554]\u001b[0m Param nn_hidden_layers unique value length is less than 2.\u001b[0m\n",
      "\u001b[33m[W 2022-02-15 22:04:52,654]\u001b[0m Param nn_hidden_layers unique value length is less than 2.\u001b[0m\n",
      "\u001b[33m[W 2022-02-15 22:04:52,756]\u001b[0m Param nn_hidden_layers unique value length is less than 2.\u001b[0m\n",
      "\u001b[33m[W 2022-02-15 22:04:52,841]\u001b[0m Param nn_hidden_layers unique value length is less than 2.\u001b[0m\n",
      "\u001b[33m[W 2022-02-15 22:04:52,936]\u001b[0m Param nn_hidden_layers unique value length is less than 2.\u001b[0m\n",
      "\u001b[33m[W 2022-02-15 22:04:53,081]\u001b[0m Param nn_hidden_layers unique value length is less than 2.\u001b[0m\n",
      "\u001b[33m[W 2022-02-15 22:04:53,161]\u001b[0m Param nn_hidden_layers unique value length is less than 2.\u001b[0m\n",
      "\u001b[33m[W 2022-02-15 22:04:53,240]\u001b[0m Param nn_hidden_layers unique value length is less than 2.\u001b[0m\n",
      "\u001b[33m[W 2022-02-15 22:04:53,323]\u001b[0m Param nn_hidden_layers unique value length is less than 2.\u001b[0m\n",
      "\u001b[33m[W 2022-02-15 22:04:53,489]\u001b[0m Param nn_hidden_layers unique value length is less than 2.\u001b[0m\n",
      "\u001b[33m[W 2022-02-15 22:04:53,593]\u001b[0m Param nn_hidden_layers unique value length is less than 2.\u001b[0m\n",
      "\u001b[33m[W 2022-02-15 22:04:53,685]\u001b[0m Param nn_hidden_layers unique value length is less than 2.\u001b[0m\n",
      "\u001b[33m[W 2022-02-15 22:04:54,183]\u001b[0m Param epsilon_start unique value length is less than 2.\u001b[0m\n",
      "\u001b[33m[W 2022-02-15 22:04:54,865]\u001b[0m Param nn_hidden_layers unique value length is less than 2.\u001b[0m\n",
      "\u001b[33m[W 2022-02-15 22:04:55,613]\u001b[0m Param epsilon_start unique value length is less than 2.\u001b[0m\n",
      "\u001b[33m[W 2022-02-15 22:04:56,390]\u001b[0m Param nn_hidden_layers unique value length is less than 2.\u001b[0m\n",
      "\u001b[33m[W 2022-02-15 22:04:57,142]\u001b[0m Param epsilon_start unique value length is less than 2.\u001b[0m\n",
      "\u001b[33m[W 2022-02-15 22:04:57,725]\u001b[0m Param nn_hidden_layers unique value length is less than 2.\u001b[0m\n"
     ]
    },
    {
     "name": "stdout",
     "output_type": "stream",
     "text": [
      "https://app.neptune.ai/plabartabajo/parametric-q-learning-cart-pole/e/PAR-94\n",
      "Remember to stop your run once you’ve finished logging your metadata (https://docs.neptune.ai/api-reference/run#.stop). It will be stopped automatically only when the notebook kernel/interactive console is terminated.\n",
      "67,586 parameters\n"
     ]
    },
    {
     "name": "stderr",
     "output_type": "stream",
     "text": [
      "100%|██████████████████████████████████████████████████████████████████████████| 500/500 [01:59<00:00,  4.19it/s]\n",
      "100%|████████████████████████████████████████████████████████████████████████| 1000/1000 [00:34<00:00, 28.93it/s]"
     ]
    },
    {
     "name": "stdout",
     "output_type": "stream",
     "text": [
      "Shutting down background jobs, please wait a moment...\n",
      "Done!\n"
     ]
    },
    {
     "name": "stderr",
     "output_type": "stream",
     "text": [
      "\n",
      "Waiting for the remaining 28 operations to synchronize with Neptune. Do not kill this process.\n"
     ]
    },
    {
     "name": "stdout",
     "output_type": "stream",
     "text": [
      "All 28 operations synced, thanks for waiting!\n"
     ]
    },
    {
     "name": "stderr",
     "output_type": "stream",
     "text": [
      "\u001b[32m[I 2022-02-15 22:07:51,096]\u001b[0m Trial 41 finished with value: 141.091 and parameters: {'learning_rate': 0.0006101638234434191, 'discount_factor': 0.9, 'batch_size': 16, 'memory_size': 100000, 'freq_steps_train': 8, 'freq_steps_update_target': 100, 'n_steps_warm_up_memory': 5000, 'n_gradient_steps': 16, 'nn_hidden_layers': '[256, 256]', 'max_grad_norm': 100, 'normalize_state': True, 'epsilon_start': 0.9, 'epsilon_end': 0.044739745628764434, 'steps_epsilon_decay': 100000, 'seed': 361034218}. Best is trial 12 with value: 313.91.\u001b[0m\n",
      "\u001b[33m[W 2022-02-15 22:08:00,281]\u001b[0m Param epsilon_start unique value length is less than 2.\u001b[0m\n",
      "\u001b[33m[W 2022-02-15 22:08:00,610]\u001b[0m Param nn_hidden_layers unique value length is less than 2.\u001b[0m\n",
      "\u001b[33m[W 2022-02-15 22:08:00,910]\u001b[0m Param epsilon_start unique value length is less than 2.\u001b[0m\n",
      "\u001b[33m[W 2022-02-15 22:08:01,166]\u001b[0m Param nn_hidden_layers unique value length is less than 2.\u001b[0m\n",
      "\u001b[33m[W 2022-02-15 22:08:01,404]\u001b[0m Param epsilon_start unique value length is less than 2.\u001b[0m\n",
      "\u001b[33m[W 2022-02-15 22:08:01,689]\u001b[0m Param nn_hidden_layers unique value length is less than 2.\u001b[0m\n",
      "\u001b[33m[W 2022-02-15 22:08:01,859]\u001b[0m Param epsilon_start unique value length is less than 2.\u001b[0m\n",
      "\u001b[33m[W 2022-02-15 22:08:01,881]\u001b[0m Param epsilon_start unique value length is less than 2.\u001b[0m\n",
      "\u001b[33m[W 2022-02-15 22:08:01,903]\u001b[0m Param epsilon_start unique value length is less than 2.\u001b[0m\n",
      "\u001b[33m[W 2022-02-15 22:08:01,948]\u001b[0m Param epsilon_start unique value length is less than 2.\u001b[0m\n",
      "\u001b[33m[W 2022-02-15 22:08:01,970]\u001b[0m Param epsilon_start unique value length is less than 2.\u001b[0m\n",
      "\u001b[33m[W 2022-02-15 22:08:01,992]\u001b[0m Param epsilon_start unique value length is less than 2.\u001b[0m\n",
      "\u001b[33m[W 2022-02-15 22:08:02,025]\u001b[0m Param epsilon_start unique value length is less than 2.\u001b[0m\n",
      "\u001b[33m[W 2022-02-15 22:08:02,061]\u001b[0m Param epsilon_start unique value length is less than 2.\u001b[0m\n",
      "\u001b[33m[W 2022-02-15 22:08:02,094]\u001b[0m Param epsilon_start unique value length is less than 2.\u001b[0m\n",
      "\u001b[33m[W 2022-02-15 22:08:02,127]\u001b[0m Param epsilon_start unique value length is less than 2.\u001b[0m\n",
      "\u001b[33m[W 2022-02-15 22:08:02,160]\u001b[0m Param epsilon_start unique value length is less than 2.\u001b[0m\n",
      "\u001b[33m[W 2022-02-15 22:08:02,206]\u001b[0m Param epsilon_start unique value length is less than 2.\u001b[0m\n",
      "\u001b[33m[W 2022-02-15 22:08:02,241]\u001b[0m Param epsilon_start unique value length is less than 2.\u001b[0m\n",
      "\u001b[33m[W 2022-02-15 22:08:02,262]\u001b[0m Param epsilon_start unique value length is less than 2.\u001b[0m\n",
      "\u001b[33m[W 2022-02-15 22:08:02,445]\u001b[0m Param epsilon_start unique value length is less than 2.\u001b[0m\n",
      "\u001b[33m[W 2022-02-15 22:08:02,749]\u001b[0m Param nn_hidden_layers unique value length is less than 2.\u001b[0m\n",
      "\u001b[33m[W 2022-02-15 22:08:02,991]\u001b[0m Param epsilon_start unique value length is less than 2.\u001b[0m\n",
      "\u001b[33m[W 2022-02-15 22:08:03,240]\u001b[0m Param nn_hidden_layers unique value length is less than 2.\u001b[0m\n",
      "\u001b[33m[W 2022-02-15 22:08:03,542]\u001b[0m Param epsilon_start unique value length is less than 2.\u001b[0m\n",
      "\u001b[33m[W 2022-02-15 22:08:03,934]\u001b[0m Param nn_hidden_layers unique value length is less than 2.\u001b[0m\n",
      "\u001b[33m[W 2022-02-15 22:08:04,250]\u001b[0m Param epsilon_start unique value length is less than 2.\u001b[0m\n",
      "\u001b[33m[W 2022-02-15 22:08:04,495]\u001b[0m Param nn_hidden_layers unique value length is less than 2.\u001b[0m\n",
      "\u001b[33m[W 2022-02-15 22:08:04,745]\u001b[0m Param epsilon_start unique value length is less than 2.\u001b[0m\n",
      "\u001b[33m[W 2022-02-15 22:08:04,995]\u001b[0m Param nn_hidden_layers unique value length is less than 2.\u001b[0m\n",
      "\u001b[33m[W 2022-02-15 22:08:05,241]\u001b[0m Param epsilon_start unique value length is less than 2.\u001b[0m\n",
      "\u001b[33m[W 2022-02-15 22:08:05,485]\u001b[0m Param nn_hidden_layers unique value length is less than 2.\u001b[0m\n",
      "\u001b[33m[W 2022-02-15 22:08:05,729]\u001b[0m Param epsilon_start unique value length is less than 2.\u001b[0m\n",
      "\u001b[33m[W 2022-02-15 22:08:05,978]\u001b[0m Param nn_hidden_layers unique value length is less than 2.\u001b[0m\n",
      "\u001b[33m[W 2022-02-15 22:08:06,126]\u001b[0m Param nn_hidden_layers unique value length is less than 2.\u001b[0m\n",
      "\u001b[33m[W 2022-02-15 22:08:06,158]\u001b[0m Param nn_hidden_layers unique value length is less than 2.\u001b[0m\n",
      "\u001b[33m[W 2022-02-15 22:08:06,190]\u001b[0m Param nn_hidden_layers unique value length is less than 2.\u001b[0m\n",
      "\u001b[33m[W 2022-02-15 22:08:06,223]\u001b[0m Param nn_hidden_layers unique value length is less than 2.\u001b[0m\n",
      "\u001b[33m[W 2022-02-15 22:08:06,258]\u001b[0m Param nn_hidden_layers unique value length is less than 2.\u001b[0m\n",
      "\u001b[33m[W 2022-02-15 22:08:06,292]\u001b[0m Param nn_hidden_layers unique value length is less than 2.\u001b[0m\n",
      "\u001b[33m[W 2022-02-15 22:08:06,324]\u001b[0m Param nn_hidden_layers unique value length is less than 2.\u001b[0m\n",
      "\u001b[33m[W 2022-02-15 22:08:06,366]\u001b[0m Param nn_hidden_layers unique value length is less than 2.\u001b[0m\n",
      "\u001b[33m[W 2022-02-15 22:08:06,398]\u001b[0m Param nn_hidden_layers unique value length is less than 2.\u001b[0m\n",
      "\u001b[33m[W 2022-02-15 22:08:06,430]\u001b[0m Param nn_hidden_layers unique value length is less than 2.\u001b[0m\n",
      "\u001b[33m[W 2022-02-15 22:08:06,465]\u001b[0m Param nn_hidden_layers unique value length is less than 2.\u001b[0m\n",
      "\u001b[33m[W 2022-02-15 22:08:06,540]\u001b[0m Param nn_hidden_layers unique value length is less than 2.\u001b[0m\n",
      "\u001b[33m[W 2022-02-15 22:08:06,581]\u001b[0m Param nn_hidden_layers unique value length is less than 2.\u001b[0m\n",
      "\u001b[33m[W 2022-02-15 22:08:06,614]\u001b[0m Param nn_hidden_layers unique value length is less than 2.\u001b[0m\n",
      "\u001b[33m[W 2022-02-15 22:08:06,785]\u001b[0m Param epsilon_start unique value length is less than 2.\u001b[0m\n",
      "\u001b[33m[W 2022-02-15 22:08:07,103]\u001b[0m Param nn_hidden_layers unique value length is less than 2.\u001b[0m\n",
      "\u001b[33m[W 2022-02-15 22:08:07,394]\u001b[0m Param epsilon_start unique value length is less than 2.\u001b[0m\n",
      "\u001b[33m[W 2022-02-15 22:08:07,688]\u001b[0m Param nn_hidden_layers unique value length is less than 2.\u001b[0m\n",
      "\u001b[33m[W 2022-02-15 22:08:07,986]\u001b[0m Param epsilon_start unique value length is less than 2.\u001b[0m\n",
      "\u001b[33m[W 2022-02-15 22:08:08,249]\u001b[0m Param nn_hidden_layers unique value length is less than 2.\u001b[0m\n"
     ]
    },
    {
     "name": "stdout",
     "output_type": "stream",
     "text": [
      "https://app.neptune.ai/plabartabajo/parametric-q-learning-cart-pole/e/PAR-95\n",
      "Remember to stop your run once you’ve finished logging your metadata (https://docs.neptune.ai/api-reference/run#.stop). It will be stopped automatically only when the notebook kernel/interactive console is terminated.\n",
      "67,586 parameters\n"
     ]
    },
    {
     "name": "stderr",
     "output_type": "stream",
     "text": [
      "100%|██████████████████████████████████████████████████████████████████████████| 500/500 [01:13<00:00,  6.77it/s]\n",
      "100%|████████████████████████████████████████████████████████████████████████| 1000/1000 [00:29<00:00, 33.62it/s]"
     ]
    },
    {
     "name": "stdout",
     "output_type": "stream",
     "text": [
      "Shutting down background jobs, please wait a moment...\n",
      "Done!\n"
     ]
    },
    {
     "name": "stderr",
     "output_type": "stream",
     "text": [
      "\n",
      "Waiting for the remaining 46 operations to synchronize with Neptune. Do not kill this process.\n"
     ]
    },
    {
     "name": "stdout",
     "output_type": "stream",
     "text": [
      "All 46 operations synced, thanks for waiting!\n"
     ]
    },
    {
     "name": "stderr",
     "output_type": "stream",
     "text": [
      "\u001b[32m[I 2022-02-15 22:09:55,969]\u001b[0m Trial 42 finished with value: 146.043 and parameters: {'learning_rate': 0.00039715905844779284, 'discount_factor': 0.9, 'batch_size': 16, 'memory_size': 100000, 'freq_steps_train': 8, 'freq_steps_update_target': 100, 'n_steps_warm_up_memory': 5000, 'n_gradient_steps': 16, 'nn_hidden_layers': '[256, 256]', 'max_grad_norm': 100, 'normalize_state': True, 'epsilon_start': 0.9, 'epsilon_end': 0.022285897561266088, 'steps_epsilon_decay': 100000, 'seed': 397043711}. Best is trial 12 with value: 313.91.\u001b[0m\n",
      "\u001b[33m[W 2022-02-15 22:10:05,588]\u001b[0m Param epsilon_start unique value length is less than 2.\u001b[0m\n",
      "\u001b[33m[W 2022-02-15 22:10:05,937]\u001b[0m Param nn_hidden_layers unique value length is less than 2.\u001b[0m\n",
      "\u001b[33m[W 2022-02-15 22:10:06,219]\u001b[0m Param epsilon_start unique value length is less than 2.\u001b[0m\n",
      "\u001b[33m[W 2022-02-15 22:10:06,486]\u001b[0m Param nn_hidden_layers unique value length is less than 2.\u001b[0m\n",
      "\u001b[33m[W 2022-02-15 22:10:06,741]\u001b[0m Param epsilon_start unique value length is less than 2.\u001b[0m\n",
      "\u001b[33m[W 2022-02-15 22:10:07,038]\u001b[0m Param nn_hidden_layers unique value length is less than 2.\u001b[0m\n",
      "\u001b[33m[W 2022-02-15 22:10:07,215]\u001b[0m Param epsilon_start unique value length is less than 2.\u001b[0m\n",
      "\u001b[33m[W 2022-02-15 22:10:07,240]\u001b[0m Param epsilon_start unique value length is less than 2.\u001b[0m\n",
      "\u001b[33m[W 2022-02-15 22:10:07,266]\u001b[0m Param epsilon_start unique value length is less than 2.\u001b[0m\n",
      "\u001b[33m[W 2022-02-15 22:10:07,310]\u001b[0m Param epsilon_start unique value length is less than 2.\u001b[0m\n",
      "\u001b[33m[W 2022-02-15 22:10:07,334]\u001b[0m Param epsilon_start unique value length is less than 2.\u001b[0m\n",
      "\u001b[33m[W 2022-02-15 22:10:07,356]\u001b[0m Param epsilon_start unique value length is less than 2.\u001b[0m\n",
      "\u001b[33m[W 2022-02-15 22:10:07,393]\u001b[0m Param epsilon_start unique value length is less than 2.\u001b[0m\n",
      "\u001b[33m[W 2022-02-15 22:10:07,416]\u001b[0m Param epsilon_start unique value length is less than 2.\u001b[0m\n",
      "\u001b[33m[W 2022-02-15 22:10:07,440]\u001b[0m Param epsilon_start unique value length is less than 2.\u001b[0m\n",
      "\u001b[33m[W 2022-02-15 22:10:07,465]\u001b[0m Param epsilon_start unique value length is less than 2.\u001b[0m\n",
      "\u001b[33m[W 2022-02-15 22:10:07,490]\u001b[0m Param epsilon_start unique value length is less than 2.\u001b[0m\n",
      "\u001b[33m[W 2022-02-15 22:10:07,525]\u001b[0m Param epsilon_start unique value length is less than 2.\u001b[0m\n",
      "\u001b[33m[W 2022-02-15 22:10:07,560]\u001b[0m Param epsilon_start unique value length is less than 2.\u001b[0m\n",
      "\u001b[33m[W 2022-02-15 22:10:07,585]\u001b[0m Param epsilon_start unique value length is less than 2.\u001b[0m\n",
      "\u001b[33m[W 2022-02-15 22:10:07,722]\u001b[0m Param epsilon_start unique value length is less than 2.\u001b[0m\n",
      "\u001b[33m[W 2022-02-15 22:10:07,969]\u001b[0m Param nn_hidden_layers unique value length is less than 2.\u001b[0m\n",
      "\u001b[33m[W 2022-02-15 22:10:08,211]\u001b[0m Param epsilon_start unique value length is less than 2.\u001b[0m\n",
      "\u001b[33m[W 2022-02-15 22:10:08,453]\u001b[0m Param nn_hidden_layers unique value length is less than 2.\u001b[0m\n",
      "\u001b[33m[W 2022-02-15 22:10:08,747]\u001b[0m Param epsilon_start unique value length is less than 2.\u001b[0m\n",
      "\u001b[33m[W 2022-02-15 22:10:09,078]\u001b[0m Param nn_hidden_layers unique value length is less than 2.\u001b[0m\n",
      "\u001b[33m[W 2022-02-15 22:10:09,389]\u001b[0m Param epsilon_start unique value length is less than 2.\u001b[0m\n",
      "\u001b[33m[W 2022-02-15 22:10:09,626]\u001b[0m Param nn_hidden_layers unique value length is less than 2.\u001b[0m\n",
      "\u001b[33m[W 2022-02-15 22:10:09,864]\u001b[0m Param epsilon_start unique value length is less than 2.\u001b[0m\n",
      "\u001b[33m[W 2022-02-15 22:10:10,103]\u001b[0m Param nn_hidden_layers unique value length is less than 2.\u001b[0m\n",
      "\u001b[33m[W 2022-02-15 22:10:10,340]\u001b[0m Param epsilon_start unique value length is less than 2.\u001b[0m\n",
      "\u001b[33m[W 2022-02-15 22:10:10,577]\u001b[0m Param nn_hidden_layers unique value length is less than 2.\u001b[0m\n",
      "\u001b[33m[W 2022-02-15 22:10:10,813]\u001b[0m Param epsilon_start unique value length is less than 2.\u001b[0m\n",
      "\u001b[33m[W 2022-02-15 22:10:11,049]\u001b[0m Param nn_hidden_layers unique value length is less than 2.\u001b[0m\n",
      "\u001b[33m[W 2022-02-15 22:10:11,198]\u001b[0m Param nn_hidden_layers unique value length is less than 2.\u001b[0m\n",
      "\u001b[33m[W 2022-02-15 22:10:11,228]\u001b[0m Param nn_hidden_layers unique value length is less than 2.\u001b[0m\n",
      "\u001b[33m[W 2022-02-15 22:10:11,260]\u001b[0m Param nn_hidden_layers unique value length is less than 2.\u001b[0m\n",
      "\u001b[33m[W 2022-02-15 22:10:11,294]\u001b[0m Param nn_hidden_layers unique value length is less than 2.\u001b[0m\n",
      "\u001b[33m[W 2022-02-15 22:10:11,326]\u001b[0m Param nn_hidden_layers unique value length is less than 2.\u001b[0m\n",
      "\u001b[33m[W 2022-02-15 22:10:11,357]\u001b[0m Param nn_hidden_layers unique value length is less than 2.\u001b[0m\n",
      "\u001b[33m[W 2022-02-15 22:10:11,389]\u001b[0m Param nn_hidden_layers unique value length is less than 2.\u001b[0m\n",
      "\u001b[33m[W 2022-02-15 22:10:11,428]\u001b[0m Param nn_hidden_layers unique value length is less than 2.\u001b[0m\n",
      "\u001b[33m[W 2022-02-15 22:10:11,461]\u001b[0m Param nn_hidden_layers unique value length is less than 2.\u001b[0m\n",
      "\u001b[33m[W 2022-02-15 22:10:11,493]\u001b[0m Param nn_hidden_layers unique value length is less than 2.\u001b[0m\n",
      "\u001b[33m[W 2022-02-15 22:10:11,526]\u001b[0m Param nn_hidden_layers unique value length is less than 2.\u001b[0m\n",
      "\u001b[33m[W 2022-02-15 22:10:11,594]\u001b[0m Param nn_hidden_layers unique value length is less than 2.\u001b[0m\n",
      "\u001b[33m[W 2022-02-15 22:10:11,636]\u001b[0m Param nn_hidden_layers unique value length is less than 2.\u001b[0m\n",
      "\u001b[33m[W 2022-02-15 22:10:11,667]\u001b[0m Param nn_hidden_layers unique value length is less than 2.\u001b[0m\n",
      "\u001b[33m[W 2022-02-15 22:10:11,832]\u001b[0m Param epsilon_start unique value length is less than 2.\u001b[0m\n",
      "\u001b[33m[W 2022-02-15 22:10:12,138]\u001b[0m Param nn_hidden_layers unique value length is less than 2.\u001b[0m\n",
      "\u001b[33m[W 2022-02-15 22:10:12,461]\u001b[0m Param epsilon_start unique value length is less than 2.\u001b[0m\n",
      "\u001b[33m[W 2022-02-15 22:10:12,745]\u001b[0m Param nn_hidden_layers unique value length is less than 2.\u001b[0m\n",
      "\u001b[33m[W 2022-02-15 22:10:12,972]\u001b[0m Param epsilon_start unique value length is less than 2.\u001b[0m\n",
      "\u001b[33m[W 2022-02-15 22:10:13,226]\u001b[0m Param nn_hidden_layers unique value length is less than 2.\u001b[0m\n"
     ]
    },
    {
     "name": "stdout",
     "output_type": "stream",
     "text": [
      "https://app.neptune.ai/plabartabajo/parametric-q-learning-cart-pole/e/PAR-96\n",
      "Remember to stop your run once you’ve finished logging your metadata (https://docs.neptune.ai/api-reference/run#.stop). It will be stopped automatically only when the notebook kernel/interactive console is terminated.\n",
      "67,586 parameters\n"
     ]
    },
    {
     "name": "stderr",
     "output_type": "stream",
     "text": [
      "100%|██████████████████████████████████████████████████████████████████████████| 500/500 [00:57<00:00,  8.64it/s]\n",
      "100%|████████████████████████████████████████████████████████████████████████| 1000/1000 [00:35<00:00, 28.27it/s]"
     ]
    },
    {
     "name": "stdout",
     "output_type": "stream",
     "text": [
      "Shutting down background jobs, please wait a moment...\n",
      "Done!\n"
     ]
    },
    {
     "name": "stderr",
     "output_type": "stream",
     "text": [
      "\n",
      "Waiting for the remaining 43 operations to synchronize with Neptune. Do not kill this process.\n"
     ]
    },
    {
     "name": "stdout",
     "output_type": "stream",
     "text": [
      "All 43 operations synced, thanks for waiting!\n"
     ]
    },
    {
     "name": "stderr",
     "output_type": "stream",
     "text": [
      "\u001b[32m[I 2022-02-15 22:11:50,457]\u001b[0m Trial 43 finished with value: 96.21 and parameters: {'learning_rate': 0.0007397509335778098, 'discount_factor': 0.9, 'batch_size': 16, 'memory_size': 100000, 'freq_steps_train': 8, 'freq_steps_update_target': 100, 'n_steps_warm_up_memory': 5000, 'n_gradient_steps': 16, 'nn_hidden_layers': '[256, 256]', 'max_grad_norm': 100, 'normalize_state': True, 'epsilon_start': 0.9, 'epsilon_end': 0.05186038707043972, 'steps_epsilon_decay': 100000, 'seed': 995792998}. Best is trial 12 with value: 313.91.\u001b[0m\n",
      "\u001b[33m[W 2022-02-15 22:12:11,140]\u001b[0m Param epsilon_start unique value length is less than 2.\u001b[0m\n",
      "\u001b[33m[W 2022-02-15 22:12:11,660]\u001b[0m Param nn_hidden_layers unique value length is less than 2.\u001b[0m\n",
      "\u001b[33m[W 2022-02-15 22:12:12,082]\u001b[0m Param epsilon_start unique value length is less than 2.\u001b[0m\n",
      "\u001b[33m[W 2022-02-15 22:12:12,482]\u001b[0m Param nn_hidden_layers unique value length is less than 2.\u001b[0m\n",
      "\u001b[33m[W 2022-02-15 22:12:12,844]\u001b[0m Param epsilon_start unique value length is less than 2.\u001b[0m\n",
      "\u001b[33m[W 2022-02-15 22:12:13,278]\u001b[0m Param nn_hidden_layers unique value length is less than 2.\u001b[0m\n",
      "\u001b[33m[W 2022-02-15 22:12:13,757]\u001b[0m Param epsilon_start unique value length is less than 2.\u001b[0m\n",
      "\u001b[33m[W 2022-02-15 22:12:13,787]\u001b[0m Param epsilon_start unique value length is less than 2.\u001b[0m\n",
      "\u001b[33m[W 2022-02-15 22:12:13,826]\u001b[0m Param epsilon_start unique value length is less than 2.\u001b[0m\n",
      "\u001b[33m[W 2022-02-15 22:12:13,883]\u001b[0m Param epsilon_start unique value length is less than 2.\u001b[0m\n",
      "\u001b[33m[W 2022-02-15 22:12:13,913]\u001b[0m Param epsilon_start unique value length is less than 2.\u001b[0m\n",
      "\u001b[33m[W 2022-02-15 22:12:13,944]\u001b[0m Param epsilon_start unique value length is less than 2.\u001b[0m\n",
      "\u001b[33m[W 2022-02-15 22:12:13,989]\u001b[0m Param epsilon_start unique value length is less than 2.\u001b[0m\n",
      "\u001b[33m[W 2022-02-15 22:12:14,028]\u001b[0m Param epsilon_start unique value length is less than 2.\u001b[0m\n",
      "\u001b[33m[W 2022-02-15 22:12:14,058]\u001b[0m Param epsilon_start unique value length is less than 2.\u001b[0m\n",
      "\u001b[33m[W 2022-02-15 22:12:14,088]\u001b[0m Param epsilon_start unique value length is less than 2.\u001b[0m\n",
      "\u001b[33m[W 2022-02-15 22:12:14,128]\u001b[0m Param epsilon_start unique value length is less than 2.\u001b[0m\n",
      "\u001b[33m[W 2022-02-15 22:12:14,171]\u001b[0m Param epsilon_start unique value length is less than 2.\u001b[0m\n",
      "\u001b[33m[W 2022-02-15 22:12:14,214]\u001b[0m Param epsilon_start unique value length is less than 2.\u001b[0m\n",
      "\u001b[33m[W 2022-02-15 22:12:14,248]\u001b[0m Param epsilon_start unique value length is less than 2.\u001b[0m\n",
      "\u001b[33m[W 2022-02-15 22:12:14,428]\u001b[0m Param epsilon_start unique value length is less than 2.\u001b[0m\n",
      "\u001b[33m[W 2022-02-15 22:12:14,793]\u001b[0m Param nn_hidden_layers unique value length is less than 2.\u001b[0m\n",
      "\u001b[33m[W 2022-02-15 22:12:15,132]\u001b[0m Param epsilon_start unique value length is less than 2.\u001b[0m\n",
      "\u001b[33m[W 2022-02-15 22:12:15,517]\u001b[0m Param nn_hidden_layers unique value length is less than 2.\u001b[0m\n",
      "\u001b[33m[W 2022-02-15 22:12:16,026]\u001b[0m Param epsilon_start unique value length is less than 2.\u001b[0m\n",
      "\u001b[33m[W 2022-02-15 22:12:16,594]\u001b[0m Param nn_hidden_layers unique value length is less than 2.\u001b[0m\n",
      "\u001b[33m[W 2022-02-15 22:12:17,054]\u001b[0m Param epsilon_start unique value length is less than 2.\u001b[0m\n",
      "\u001b[33m[W 2022-02-15 22:12:17,410]\u001b[0m Param nn_hidden_layers unique value length is less than 2.\u001b[0m\n",
      "\u001b[33m[W 2022-02-15 22:12:17,748]\u001b[0m Param epsilon_start unique value length is less than 2.\u001b[0m\n",
      "\u001b[33m[W 2022-02-15 22:12:18,077]\u001b[0m Param nn_hidden_layers unique value length is less than 2.\u001b[0m\n",
      "\u001b[33m[W 2022-02-15 22:12:18,406]\u001b[0m Param epsilon_start unique value length is less than 2.\u001b[0m\n",
      "\u001b[33m[W 2022-02-15 22:12:18,732]\u001b[0m Param nn_hidden_layers unique value length is less than 2.\u001b[0m\n",
      "\u001b[33m[W 2022-02-15 22:12:19,059]\u001b[0m Param epsilon_start unique value length is less than 2.\u001b[0m\n",
      "\u001b[33m[W 2022-02-15 22:12:19,380]\u001b[0m Param nn_hidden_layers unique value length is less than 2.\u001b[0m\n",
      "\u001b[33m[W 2022-02-15 22:12:19,573]\u001b[0m Param nn_hidden_layers unique value length is less than 2.\u001b[0m\n",
      "\u001b[33m[W 2022-02-15 22:12:19,615]\u001b[0m Param nn_hidden_layers unique value length is less than 2.\u001b[0m\n",
      "\u001b[33m[W 2022-02-15 22:12:19,660]\u001b[0m Param nn_hidden_layers unique value length is less than 2.\u001b[0m\n",
      "\u001b[33m[W 2022-02-15 22:12:19,703]\u001b[0m Param nn_hidden_layers unique value length is less than 2.\u001b[0m\n",
      "\u001b[33m[W 2022-02-15 22:12:19,752]\u001b[0m Param nn_hidden_layers unique value length is less than 2.\u001b[0m\n",
      "\u001b[33m[W 2022-02-15 22:12:19,797]\u001b[0m Param nn_hidden_layers unique value length is less than 2.\u001b[0m\n",
      "\u001b[33m[W 2022-02-15 22:12:19,851]\u001b[0m Param nn_hidden_layers unique value length is less than 2.\u001b[0m\n",
      "\u001b[33m[W 2022-02-15 22:12:19,938]\u001b[0m Param nn_hidden_layers unique value length is less than 2.\u001b[0m\n",
      "\u001b[33m[W 2022-02-15 22:12:20,000]\u001b[0m Param nn_hidden_layers unique value length is less than 2.\u001b[0m\n",
      "\u001b[33m[W 2022-02-15 22:12:20,071]\u001b[0m Param nn_hidden_layers unique value length is less than 2.\u001b[0m\n",
      "\u001b[33m[W 2022-02-15 22:12:20,118]\u001b[0m Param nn_hidden_layers unique value length is less than 2.\u001b[0m\n",
      "\u001b[33m[W 2022-02-15 22:12:20,212]\u001b[0m Param nn_hidden_layers unique value length is less than 2.\u001b[0m\n",
      "\u001b[33m[W 2022-02-15 22:12:20,270]\u001b[0m Param nn_hidden_layers unique value length is less than 2.\u001b[0m\n",
      "\u001b[33m[W 2022-02-15 22:12:20,321]\u001b[0m Param nn_hidden_layers unique value length is less than 2.\u001b[0m\n",
      "\u001b[33m[W 2022-02-15 22:12:20,595]\u001b[0m Param epsilon_start unique value length is less than 2.\u001b[0m\n",
      "\u001b[33m[W 2022-02-15 22:12:21,086]\u001b[0m Param nn_hidden_layers unique value length is less than 2.\u001b[0m\n",
      "\u001b[33m[W 2022-02-15 22:12:21,535]\u001b[0m Param epsilon_start unique value length is less than 2.\u001b[0m\n",
      "\u001b[33m[W 2022-02-15 22:12:21,911]\u001b[0m Param nn_hidden_layers unique value length is less than 2.\u001b[0m\n",
      "\u001b[33m[W 2022-02-15 22:12:22,214]\u001b[0m Param epsilon_start unique value length is less than 2.\u001b[0m\n",
      "\u001b[33m[W 2022-02-15 22:12:22,548]\u001b[0m Param nn_hidden_layers unique value length is less than 2.\u001b[0m\n"
     ]
    },
    {
     "name": "stdout",
     "output_type": "stream",
     "text": [
      "https://app.neptune.ai/plabartabajo/parametric-q-learning-cart-pole/e/PAR-97\n",
      "Remember to stop your run once you’ve finished logging your metadata (https://docs.neptune.ai/api-reference/run#.stop). It will be stopped automatically only when the notebook kernel/interactive console is terminated.\n",
      "67,586 parameters\n"
     ]
    },
    {
     "name": "stderr",
     "output_type": "stream",
     "text": [
      "100%|██████████████████████████████████████████████████████████████████████████| 500/500 [01:14<00:00,  6.67it/s]\n",
      "100%|████████████████████████████████████████████████████████████████████████| 1000/1000 [00:49<00:00, 20.17it/s]"
     ]
    },
    {
     "name": "stdout",
     "output_type": "stream",
     "text": [
      "Shutting down background jobs, please wait a moment...\n",
      "Done!\n"
     ]
    },
    {
     "name": "stderr",
     "output_type": "stream",
     "text": [
      "\n",
      "Waiting for the remaining 30 operations to synchronize with Neptune. Do not kill this process.\n"
     ]
    },
    {
     "name": "stdout",
     "output_type": "stream",
     "text": [
      "All 30 operations synced, thanks for waiting!\n"
     ]
    },
    {
     "name": "stderr",
     "output_type": "stream",
     "text": [
      "\u001b[32m[I 2022-02-15 22:14:31,947]\u001b[0m Trial 44 finished with value: 206.698 and parameters: {'learning_rate': 6.57083386465854e-05, 'discount_factor': 0.9, 'batch_size': 16, 'memory_size': 100000, 'freq_steps_train': 8, 'freq_steps_update_target': 100, 'n_steps_warm_up_memory': 5000, 'n_gradient_steps': 16, 'nn_hidden_layers': '[256, 256]', 'max_grad_norm': 100, 'normalize_state': False, 'epsilon_start': 0.9, 'epsilon_end': 0.06722847326406202, 'steps_epsilon_decay': 100000, 'seed': 223834774}. Best is trial 12 with value: 313.91.\u001b[0m\n",
      "\u001b[33m[W 2022-02-15 22:14:45,989]\u001b[0m Param epsilon_start unique value length is less than 2.\u001b[0m\n",
      "\u001b[33m[W 2022-02-15 22:14:46,659]\u001b[0m Param nn_hidden_layers unique value length is less than 2.\u001b[0m\n",
      "\u001b[33m[W 2022-02-15 22:14:47,175]\u001b[0m Param epsilon_start unique value length is less than 2.\u001b[0m\n",
      "\u001b[33m[W 2022-02-15 22:14:47,697]\u001b[0m Param nn_hidden_layers unique value length is less than 2.\u001b[0m\n",
      "\u001b[33m[W 2022-02-15 22:14:48,170]\u001b[0m Param epsilon_start unique value length is less than 2.\u001b[0m\n",
      "\u001b[33m[W 2022-02-15 22:14:48,768]\u001b[0m Param nn_hidden_layers unique value length is less than 2.\u001b[0m\n",
      "\u001b[33m[W 2022-02-15 22:14:49,203]\u001b[0m Param epsilon_start unique value length is less than 2.\u001b[0m\n",
      "\u001b[33m[W 2022-02-15 22:14:49,307]\u001b[0m Param epsilon_start unique value length is less than 2.\u001b[0m\n",
      "\u001b[33m[W 2022-02-15 22:14:49,380]\u001b[0m Param epsilon_start unique value length is less than 2.\u001b[0m\n",
      "\u001b[33m[W 2022-02-15 22:14:49,480]\u001b[0m Param epsilon_start unique value length is less than 2.\u001b[0m\n",
      "\u001b[33m[W 2022-02-15 22:14:49,525]\u001b[0m Param epsilon_start unique value length is less than 2.\u001b[0m\n",
      "\u001b[33m[W 2022-02-15 22:14:49,566]\u001b[0m Param epsilon_start unique value length is less than 2.\u001b[0m\n",
      "\u001b[33m[W 2022-02-15 22:14:49,629]\u001b[0m Param epsilon_start unique value length is less than 2.\u001b[0m\n",
      "\u001b[33m[W 2022-02-15 22:14:49,666]\u001b[0m Param epsilon_start unique value length is less than 2.\u001b[0m\n",
      "\u001b[33m[W 2022-02-15 22:14:49,710]\u001b[0m Param epsilon_start unique value length is less than 2.\u001b[0m\n",
      "\u001b[33m[W 2022-02-15 22:14:49,752]\u001b[0m Param epsilon_start unique value length is less than 2.\u001b[0m\n",
      "\u001b[33m[W 2022-02-15 22:14:49,791]\u001b[0m Param epsilon_start unique value length is less than 2.\u001b[0m\n",
      "\u001b[33m[W 2022-02-15 22:14:49,847]\u001b[0m Param epsilon_start unique value length is less than 2.\u001b[0m\n",
      "\u001b[33m[W 2022-02-15 22:14:49,903]\u001b[0m Param epsilon_start unique value length is less than 2.\u001b[0m\n",
      "\u001b[33m[W 2022-02-15 22:14:49,945]\u001b[0m Param epsilon_start unique value length is less than 2.\u001b[0m\n",
      "\u001b[33m[W 2022-02-15 22:14:50,163]\u001b[0m Param epsilon_start unique value length is less than 2.\u001b[0m\n",
      "\u001b[33m[W 2022-02-15 22:14:50,627]\u001b[0m Param nn_hidden_layers unique value length is less than 2.\u001b[0m\n",
      "\u001b[33m[W 2022-02-15 22:14:50,989]\u001b[0m Param epsilon_start unique value length is less than 2.\u001b[0m\n",
      "\u001b[33m[W 2022-02-15 22:14:51,472]\u001b[0m Param nn_hidden_layers unique value length is less than 2.\u001b[0m\n",
      "\u001b[33m[W 2022-02-15 22:14:52,160]\u001b[0m Param epsilon_start unique value length is less than 2.\u001b[0m\n",
      "\u001b[33m[W 2022-02-15 22:14:52,836]\u001b[0m Param nn_hidden_layers unique value length is less than 2.\u001b[0m\n",
      "\u001b[33m[W 2022-02-15 22:14:53,412]\u001b[0m Param epsilon_start unique value length is less than 2.\u001b[0m\n",
      "\u001b[33m[W 2022-02-15 22:14:53,910]\u001b[0m Param nn_hidden_layers unique value length is less than 2.\u001b[0m\n",
      "\u001b[33m[W 2022-02-15 22:14:54,413]\u001b[0m Param epsilon_start unique value length is less than 2.\u001b[0m\n",
      "\u001b[33m[W 2022-02-15 22:14:55,036]\u001b[0m Param nn_hidden_layers unique value length is less than 2.\u001b[0m\n",
      "\u001b[33m[W 2022-02-15 22:14:55,697]\u001b[0m Param epsilon_start unique value length is less than 2.\u001b[0m\n",
      "\u001b[33m[W 2022-02-15 22:14:56,432]\u001b[0m Param nn_hidden_layers unique value length is less than 2.\u001b[0m\n",
      "\u001b[33m[W 2022-02-15 22:14:57,574]\u001b[0m Param epsilon_start unique value length is less than 2.\u001b[0m\n",
      "\u001b[33m[W 2022-02-15 22:14:58,265]\u001b[0m Param nn_hidden_layers unique value length is less than 2.\u001b[0m\n",
      "\u001b[33m[W 2022-02-15 22:14:58,758]\u001b[0m Param nn_hidden_layers unique value length is less than 2.\u001b[0m\n",
      "\u001b[33m[W 2022-02-15 22:14:58,863]\u001b[0m Param nn_hidden_layers unique value length is less than 2.\u001b[0m\n",
      "\u001b[33m[W 2022-02-15 22:14:58,974]\u001b[0m Param nn_hidden_layers unique value length is less than 2.\u001b[0m\n",
      "\u001b[33m[W 2022-02-15 22:14:59,078]\u001b[0m Param nn_hidden_layers unique value length is less than 2.\u001b[0m\n",
      "\u001b[33m[W 2022-02-15 22:14:59,201]\u001b[0m Param nn_hidden_layers unique value length is less than 2.\u001b[0m\n",
      "\u001b[33m[W 2022-02-15 22:14:59,299]\u001b[0m Param nn_hidden_layers unique value length is less than 2.\u001b[0m\n",
      "\u001b[33m[W 2022-02-15 22:14:59,389]\u001b[0m Param nn_hidden_layers unique value length is less than 2.\u001b[0m\n",
      "\u001b[33m[W 2022-02-15 22:14:59,556]\u001b[0m Param nn_hidden_layers unique value length is less than 2.\u001b[0m\n",
      "\u001b[33m[W 2022-02-15 22:14:59,655]\u001b[0m Param nn_hidden_layers unique value length is less than 2.\u001b[0m\n",
      "\u001b[33m[W 2022-02-15 22:14:59,716]\u001b[0m Param nn_hidden_layers unique value length is less than 2.\u001b[0m\n",
      "\u001b[33m[W 2022-02-15 22:14:59,775]\u001b[0m Param nn_hidden_layers unique value length is less than 2.\u001b[0m\n",
      "\u001b[33m[W 2022-02-15 22:14:59,978]\u001b[0m Param nn_hidden_layers unique value length is less than 2.\u001b[0m\n",
      "\u001b[33m[W 2022-02-15 22:15:00,114]\u001b[0m Param nn_hidden_layers unique value length is less than 2.\u001b[0m\n",
      "\u001b[33m[W 2022-02-15 22:15:00,365]\u001b[0m Param nn_hidden_layers unique value length is less than 2.\u001b[0m\n",
      "\u001b[33m[W 2022-02-15 22:15:01,167]\u001b[0m Param epsilon_start unique value length is less than 2.\u001b[0m\n",
      "\u001b[33m[W 2022-02-15 22:15:02,084]\u001b[0m Param nn_hidden_layers unique value length is less than 2.\u001b[0m\n",
      "\u001b[33m[W 2022-02-15 22:15:02,912]\u001b[0m Param epsilon_start unique value length is less than 2.\u001b[0m\n",
      "\u001b[33m[W 2022-02-15 22:15:03,649]\u001b[0m Param nn_hidden_layers unique value length is less than 2.\u001b[0m\n",
      "\u001b[33m[W 2022-02-15 22:15:04,216]\u001b[0m Param epsilon_start unique value length is less than 2.\u001b[0m\n",
      "\u001b[33m[W 2022-02-15 22:15:04,766]\u001b[0m Param nn_hidden_layers unique value length is less than 2.\u001b[0m\n"
     ]
    },
    {
     "name": "stdout",
     "output_type": "stream",
     "text": [
      "https://app.neptune.ai/plabartabajo/parametric-q-learning-cart-pole/e/PAR-98\n",
      "Remember to stop your run once you’ve finished logging your metadata (https://docs.neptune.ai/api-reference/run#.stop). It will be stopped automatically only when the notebook kernel/interactive console is terminated.\n",
      "67,586 parameters\n"
     ]
    },
    {
     "name": "stderr",
     "output_type": "stream",
     "text": [
      "100%|██████████████████████████████████████████████████████████████████████████| 500/500 [00:09<00:00, 54.80it/s]\n",
      "100%|████████████████████████████████████████████████████████████████████████| 1000/1000 [00:10<00:00, 96.73it/s]"
     ]
    },
    {
     "name": "stdout",
     "output_type": "stream",
     "text": [
      "Shutting down background jobs, please wait a moment...\n"
     ]
    },
    {
     "name": "stderr",
     "output_type": "stream",
     "text": [
      "\n"
     ]
    },
    {
     "name": "stdout",
     "output_type": "stream",
     "text": [
      "Done!\n"
     ]
    },
    {
     "name": "stderr",
     "output_type": "stream",
     "text": [
      "Waiting for the remaining 46 operations to synchronize with Neptune. Do not kill this process.\n"
     ]
    },
    {
     "name": "stdout",
     "output_type": "stream",
     "text": [
      "All 46 operations synced, thanks for waiting!\n"
     ]
    },
    {
     "name": "stderr",
     "output_type": "stream",
     "text": [
      "\u001b[32m[I 2022-02-15 22:15:31,067]\u001b[0m Trial 45 finished with value: 13.083 and parameters: {'learning_rate': 0.00587318958300871, 'discount_factor': 0.95, 'batch_size': 64, 'memory_size': 100000, 'freq_steps_train': 128, 'freq_steps_update_target': 1000, 'n_steps_warm_up_memory': 5000, 'n_gradient_steps': 16, 'nn_hidden_layers': '[256, 256]', 'max_grad_norm': 10, 'normalize_state': True, 'epsilon_start': 0.9, 'epsilon_end': 0.03672878605311394, 'steps_epsilon_decay': 100000, 'seed': 445341479}. Best is trial 12 with value: 313.91.\u001b[0m\n",
      "\u001b[33m[W 2022-02-15 22:15:47,497]\u001b[0m Param epsilon_start unique value length is less than 2.\u001b[0m\n",
      "\u001b[33m[W 2022-02-15 22:15:48,112]\u001b[0m Param nn_hidden_layers unique value length is less than 2.\u001b[0m\n",
      "\u001b[33m[W 2022-02-15 22:15:48,554]\u001b[0m Param epsilon_start unique value length is less than 2.\u001b[0m\n",
      "\u001b[33m[W 2022-02-15 22:15:48,998]\u001b[0m Param nn_hidden_layers unique value length is less than 2.\u001b[0m\n",
      "\u001b[33m[W 2022-02-15 22:15:49,460]\u001b[0m Param epsilon_start unique value length is less than 2.\u001b[0m\n",
      "\u001b[33m[W 2022-02-15 22:15:50,059]\u001b[0m Param nn_hidden_layers unique value length is less than 2.\u001b[0m\n",
      "\u001b[33m[W 2022-02-15 22:15:50,380]\u001b[0m Param epsilon_start unique value length is less than 2.\u001b[0m\n",
      "\u001b[33m[W 2022-02-15 22:15:50,420]\u001b[0m Param epsilon_start unique value length is less than 2.\u001b[0m\n",
      "\u001b[33m[W 2022-02-15 22:15:50,467]\u001b[0m Param epsilon_start unique value length is less than 2.\u001b[0m\n",
      "\u001b[33m[W 2022-02-15 22:15:50,564]\u001b[0m Param epsilon_start unique value length is less than 2.\u001b[0m\n",
      "\u001b[33m[W 2022-02-15 22:15:50,602]\u001b[0m Param epsilon_start unique value length is less than 2.\u001b[0m\n",
      "\u001b[33m[W 2022-02-15 22:15:50,644]\u001b[0m Param epsilon_start unique value length is less than 2.\u001b[0m\n",
      "\u001b[33m[W 2022-02-15 22:15:50,710]\u001b[0m Param epsilon_start unique value length is less than 2.\u001b[0m\n",
      "\u001b[33m[W 2022-02-15 22:15:50,745]\u001b[0m Param epsilon_start unique value length is less than 2.\u001b[0m\n",
      "\u001b[33m[W 2022-02-15 22:15:50,784]\u001b[0m Param epsilon_start unique value length is less than 2.\u001b[0m\n",
      "\u001b[33m[W 2022-02-15 22:15:50,909]\u001b[0m Param epsilon_start unique value length is less than 2.\u001b[0m\n",
      "\u001b[33m[W 2022-02-15 22:15:50,942]\u001b[0m Param epsilon_start unique value length is less than 2.\u001b[0m\n",
      "\u001b[33m[W 2022-02-15 22:15:50,999]\u001b[0m Param epsilon_start unique value length is less than 2.\u001b[0m\n",
      "\u001b[33m[W 2022-02-15 22:15:51,060]\u001b[0m Param epsilon_start unique value length is less than 2.\u001b[0m\n"
     ]
    },
    {
     "ename": "KeyboardInterrupt",
     "evalue": "",
     "output_type": "error",
     "traceback": [
      "\u001b[0;31m---------------------------------------------------------------------------\u001b[0m",
      "\u001b[0;31mKeyboardInterrupt\u001b[0m                         Traceback (most recent call last)",
      "\u001b[0;32m/var/folders/6w/65_srvks1m19fg50f07zj5_80000gn/T/ipykernel_53997/1344851222.py\u001b[0m in \u001b[0;36m<module>\u001b[0;34m\u001b[0m\n\u001b[0;32m----> 1\u001b[0;31m \u001b[0mstudy\u001b[0m\u001b[0;34m.\u001b[0m\u001b[0moptimize\u001b[0m\u001b[0;34m(\u001b[0m\u001b[0mfunc\u001b[0m\u001b[0;34m,\u001b[0m \u001b[0mn_trials\u001b[0m\u001b[0;34m=\u001b[0m\u001b[0;36m100\u001b[0m\u001b[0;34m,\u001b[0m \u001b[0mcallbacks\u001b[0m\u001b[0;34m=\u001b[0m\u001b[0;34m[\u001b[0m\u001b[0mneptune_callback\u001b[0m\u001b[0;34m]\u001b[0m\u001b[0;34m)\u001b[0m\u001b[0;34m\u001b[0m\u001b[0;34m\u001b[0m\u001b[0m\n\u001b[0m",
      "\u001b[0;32m~/src/online-courses/hands-on-rl/04_cart_pole_tune_hparams_like_a_pro/.venv/lib/python3.7/site-packages/optuna/study/study.py\u001b[0m in \u001b[0;36moptimize\u001b[0;34m(self, func, n_trials, timeout, n_jobs, catch, callbacks, gc_after_trial, show_progress_bar)\u001b[0m\n\u001b[1;32m    407\u001b[0m             \u001b[0mcallbacks\u001b[0m\u001b[0;34m=\u001b[0m\u001b[0mcallbacks\u001b[0m\u001b[0;34m,\u001b[0m\u001b[0;34m\u001b[0m\u001b[0;34m\u001b[0m\u001b[0m\n\u001b[1;32m    408\u001b[0m             \u001b[0mgc_after_trial\u001b[0m\u001b[0;34m=\u001b[0m\u001b[0mgc_after_trial\u001b[0m\u001b[0;34m,\u001b[0m\u001b[0;34m\u001b[0m\u001b[0;34m\u001b[0m\u001b[0m\n\u001b[0;32m--> 409\u001b[0;31m             \u001b[0mshow_progress_bar\u001b[0m\u001b[0;34m=\u001b[0m\u001b[0mshow_progress_bar\u001b[0m\u001b[0;34m,\u001b[0m\u001b[0;34m\u001b[0m\u001b[0;34m\u001b[0m\u001b[0m\n\u001b[0m\u001b[1;32m    410\u001b[0m         )\n\u001b[1;32m    411\u001b[0m \u001b[0;34m\u001b[0m\u001b[0m\n",
      "\u001b[0;32m~/src/online-courses/hands-on-rl/04_cart_pole_tune_hparams_like_a_pro/.venv/lib/python3.7/site-packages/optuna/study/_optimize.py\u001b[0m in \u001b[0;36m_optimize\u001b[0;34m(study, func, n_trials, timeout, n_jobs, catch, callbacks, gc_after_trial, show_progress_bar)\u001b[0m\n\u001b[1;32m     74\u001b[0m                 \u001b[0mreseed_sampler_rng\u001b[0m\u001b[0;34m=\u001b[0m\u001b[0;32mFalse\u001b[0m\u001b[0;34m,\u001b[0m\u001b[0;34m\u001b[0m\u001b[0;34m\u001b[0m\u001b[0m\n\u001b[1;32m     75\u001b[0m                 \u001b[0mtime_start\u001b[0m\u001b[0;34m=\u001b[0m\u001b[0;32mNone\u001b[0m\u001b[0;34m,\u001b[0m\u001b[0;34m\u001b[0m\u001b[0;34m\u001b[0m\u001b[0m\n\u001b[0;32m---> 76\u001b[0;31m                 \u001b[0mprogress_bar\u001b[0m\u001b[0;34m=\u001b[0m\u001b[0mprogress_bar\u001b[0m\u001b[0;34m,\u001b[0m\u001b[0;34m\u001b[0m\u001b[0;34m\u001b[0m\u001b[0m\n\u001b[0m\u001b[1;32m     77\u001b[0m             )\n\u001b[1;32m     78\u001b[0m         \u001b[0;32melse\u001b[0m\u001b[0;34m:\u001b[0m\u001b[0;34m\u001b[0m\u001b[0;34m\u001b[0m\u001b[0m\n",
      "\u001b[0;32m~/src/online-courses/hands-on-rl/04_cart_pole_tune_hparams_like_a_pro/.venv/lib/python3.7/site-packages/optuna/study/_optimize.py\u001b[0m in \u001b[0;36m_optimize_sequential\u001b[0;34m(study, func, n_trials, timeout, catch, callbacks, gc_after_trial, reseed_sampler_rng, time_start, progress_bar)\u001b[0m\n\u001b[1;32m    175\u001b[0m             \u001b[0mfrozen_trial\u001b[0m \u001b[0;34m=\u001b[0m \u001b[0mcopy\u001b[0m\u001b[0;34m.\u001b[0m\u001b[0mdeepcopy\u001b[0m\u001b[0;34m(\u001b[0m\u001b[0mstudy\u001b[0m\u001b[0;34m.\u001b[0m\u001b[0m_storage\u001b[0m\u001b[0;34m.\u001b[0m\u001b[0mget_trial\u001b[0m\u001b[0;34m(\u001b[0m\u001b[0mtrial\u001b[0m\u001b[0;34m.\u001b[0m\u001b[0m_trial_id\u001b[0m\u001b[0;34m)\u001b[0m\u001b[0;34m)\u001b[0m\u001b[0;34m\u001b[0m\u001b[0;34m\u001b[0m\u001b[0m\n\u001b[1;32m    176\u001b[0m             \u001b[0;32mfor\u001b[0m \u001b[0mcallback\u001b[0m \u001b[0;32min\u001b[0m \u001b[0mcallbacks\u001b[0m\u001b[0;34m:\u001b[0m\u001b[0;34m\u001b[0m\u001b[0;34m\u001b[0m\u001b[0m\n\u001b[0;32m--> 177\u001b[0;31m                 \u001b[0mcallback\u001b[0m\u001b[0;34m(\u001b[0m\u001b[0mstudy\u001b[0m\u001b[0;34m,\u001b[0m \u001b[0mfrozen_trial\u001b[0m\u001b[0;34m)\u001b[0m\u001b[0;34m\u001b[0m\u001b[0;34m\u001b[0m\u001b[0m\n\u001b[0m\u001b[1;32m    178\u001b[0m \u001b[0;34m\u001b[0m\u001b[0m\n\u001b[1;32m    179\u001b[0m         \u001b[0;32mif\u001b[0m \u001b[0mprogress_bar\u001b[0m \u001b[0;32mis\u001b[0m \u001b[0;32mnot\u001b[0m \u001b[0;32mNone\u001b[0m\u001b[0;34m:\u001b[0m\u001b[0;34m\u001b[0m\u001b[0;34m\u001b[0m\u001b[0m\n",
      "\u001b[0;32m~/src/online-courses/hands-on-rl/04_cart_pole_tune_hparams_like_a_pro/.venv/lib/python3.7/site-packages/neptune_optuna/impl/__init__.py\u001b[0m in \u001b[0;36m__call__\u001b[0;34m(self, study, trial)\u001b[0m\n\u001b[1;32m    153\u001b[0m         \u001b[0mself\u001b[0m\u001b[0;34m.\u001b[0m\u001b[0m_log_best_trials\u001b[0m\u001b[0;34m(\u001b[0m\u001b[0mstudy\u001b[0m\u001b[0;34m)\u001b[0m\u001b[0;34m\u001b[0m\u001b[0;34m\u001b[0m\u001b[0m\n\u001b[1;32m    154\u001b[0m         \u001b[0mself\u001b[0m\u001b[0;34m.\u001b[0m\u001b[0m_log_study_details\u001b[0m\u001b[0;34m(\u001b[0m\u001b[0mstudy\u001b[0m\u001b[0;34m,\u001b[0m \u001b[0mtrial\u001b[0m\u001b[0;34m)\u001b[0m\u001b[0;34m\u001b[0m\u001b[0;34m\u001b[0m\u001b[0m\n\u001b[0;32m--> 155\u001b[0;31m         \u001b[0mself\u001b[0m\u001b[0;34m.\u001b[0m\u001b[0m_log_plots\u001b[0m\u001b[0;34m(\u001b[0m\u001b[0mstudy\u001b[0m\u001b[0;34m,\u001b[0m \u001b[0mtrial\u001b[0m\u001b[0;34m)\u001b[0m\u001b[0;34m\u001b[0m\u001b[0;34m\u001b[0m\u001b[0m\n\u001b[0m\u001b[1;32m    156\u001b[0m         \u001b[0mself\u001b[0m\u001b[0;34m.\u001b[0m\u001b[0m_log_study\u001b[0m\u001b[0;34m(\u001b[0m\u001b[0mstudy\u001b[0m\u001b[0;34m,\u001b[0m \u001b[0mtrial\u001b[0m\u001b[0;34m)\u001b[0m\u001b[0;34m\u001b[0m\u001b[0;34m\u001b[0m\u001b[0m\n\u001b[1;32m    157\u001b[0m \u001b[0;34m\u001b[0m\u001b[0m\n",
      "\u001b[0;32m~/src/online-courses/hands-on-rl/04_cart_pole_tune_hparams_like_a_pro/.venv/lib/python3.7/site-packages/neptune_optuna/impl/__init__.py\u001b[0m in \u001b[0;36m_log_plots\u001b[0;34m(self, study, trial)\u001b[0m\n\u001b[1;32m    180\u001b[0m                        \u001b[0mlog_plot_slice\u001b[0m\u001b[0;34m=\u001b[0m\u001b[0mself\u001b[0m\u001b[0;34m.\u001b[0m\u001b[0m_log_plot_slice\u001b[0m\u001b[0;34m,\u001b[0m\u001b[0;34m\u001b[0m\u001b[0;34m\u001b[0m\u001b[0m\n\u001b[1;32m    181\u001b[0m                        \u001b[0mlog_plot_optimization_history\u001b[0m\u001b[0;34m=\u001b[0m\u001b[0mself\u001b[0m\u001b[0;34m.\u001b[0m\u001b[0m_log_plot_optimization_history\u001b[0m\u001b[0;34m,\u001b[0m\u001b[0;34m\u001b[0m\u001b[0;34m\u001b[0m\u001b[0m\n\u001b[0;32m--> 182\u001b[0;31m                        \u001b[0mlog_plot_intermediate_values\u001b[0m\u001b[0;34m=\u001b[0m\u001b[0mself\u001b[0m\u001b[0;34m.\u001b[0m\u001b[0m_log_plot_intermediate_values\u001b[0m\u001b[0;34m,\u001b[0m\u001b[0;34m\u001b[0m\u001b[0;34m\u001b[0m\u001b[0m\n\u001b[0m\u001b[1;32m    183\u001b[0m                        )\n\u001b[1;32m    184\u001b[0m \u001b[0;34m\u001b[0m\u001b[0m\n",
      "\u001b[0;32m~/src/online-courses/hands-on-rl/04_cart_pole_tune_hparams_like_a_pro/.venv/lib/python3.7/site-packages/neptune_optuna/impl/__init__.py\u001b[0m in \u001b[0;36m_log_plots\u001b[0;34m(run, study, visualization_backend, log_plot_contour, log_plot_edf, log_plot_parallel_coordinate, log_plot_param_importances, log_plot_pareto_front, log_plot_slice, log_plot_intermediate_values, log_plot_optimization_history)\u001b[0m\n\u001b[1;32m    405\u001b[0m \u001b[0;34m\u001b[0m\u001b[0m\n\u001b[1;32m    406\u001b[0m         \u001b[0;32mif\u001b[0m \u001b[0mlog_plot_contour\u001b[0m \u001b[0;32mand\u001b[0m \u001b[0many\u001b[0m\u001b[0;34m(\u001b[0m\u001b[0mparams\u001b[0m\u001b[0;34m)\u001b[0m\u001b[0;34m:\u001b[0m\u001b[0;34m\u001b[0m\u001b[0;34m\u001b[0m\u001b[0m\n\u001b[0;32m--> 407\u001b[0;31m             \u001b[0mrun\u001b[0m\u001b[0;34m[\u001b[0m\u001b[0;34m'visualizations/plot_contour'\u001b[0m\u001b[0;34m]\u001b[0m \u001b[0;34m=\u001b[0m \u001b[0mneptune\u001b[0m\u001b[0;34m.\u001b[0m\u001b[0mtypes\u001b[0m\u001b[0;34m.\u001b[0m\u001b[0mFile\u001b[0m\u001b[0;34m.\u001b[0m\u001b[0mas_html\u001b[0m\u001b[0;34m(\u001b[0m\u001b[0mvis\u001b[0m\u001b[0;34m.\u001b[0m\u001b[0mplot_contour\u001b[0m\u001b[0;34m(\u001b[0m\u001b[0mstudy\u001b[0m\u001b[0;34m)\u001b[0m\u001b[0;34m)\u001b[0m\u001b[0;34m\u001b[0m\u001b[0;34m\u001b[0m\u001b[0m\n\u001b[0m\u001b[1;32m    408\u001b[0m \u001b[0;34m\u001b[0m\u001b[0m\n\u001b[1;32m    409\u001b[0m         \u001b[0;32mif\u001b[0m \u001b[0mlog_plot_edf\u001b[0m\u001b[0;34m:\u001b[0m\u001b[0;34m\u001b[0m\u001b[0;34m\u001b[0m\u001b[0m\n",
      "\u001b[0;32m~/src/online-courses/hands-on-rl/04_cart_pole_tune_hparams_like_a_pro/.venv/lib/python3.7/site-packages/optuna/visualization/_contour.py\u001b[0m in \u001b[0;36mplot_contour\u001b[0;34m(study, params, target, target_name)\u001b[0m\n\u001b[1;32m     88\u001b[0m     \u001b[0m_imports\u001b[0m\u001b[0;34m.\u001b[0m\u001b[0mcheck\u001b[0m\u001b[0;34m(\u001b[0m\u001b[0;34m)\u001b[0m\u001b[0;34m\u001b[0m\u001b[0;34m\u001b[0m\u001b[0m\n\u001b[1;32m     89\u001b[0m     \u001b[0m_check_plot_args\u001b[0m\u001b[0;34m(\u001b[0m\u001b[0mstudy\u001b[0m\u001b[0;34m,\u001b[0m \u001b[0mtarget\u001b[0m\u001b[0;34m,\u001b[0m \u001b[0mtarget_name\u001b[0m\u001b[0;34m)\u001b[0m\u001b[0;34m\u001b[0m\u001b[0;34m\u001b[0m\u001b[0m\n\u001b[0;32m---> 90\u001b[0;31m     \u001b[0;32mreturn\u001b[0m \u001b[0m_get_contour_plot\u001b[0m\u001b[0;34m(\u001b[0m\u001b[0mstudy\u001b[0m\u001b[0;34m,\u001b[0m \u001b[0mparams\u001b[0m\u001b[0;34m,\u001b[0m \u001b[0mtarget\u001b[0m\u001b[0;34m,\u001b[0m \u001b[0mtarget_name\u001b[0m\u001b[0;34m)\u001b[0m\u001b[0;34m\u001b[0m\u001b[0;34m\u001b[0m\u001b[0m\n\u001b[0m\u001b[1;32m     91\u001b[0m \u001b[0;34m\u001b[0m\u001b[0m\n\u001b[1;32m     92\u001b[0m \u001b[0;34m\u001b[0m\u001b[0m\n",
      "\u001b[0;32m~/src/online-courses/hands-on-rl/04_cart_pole_tune_hparams_like_a_pro/.venv/lib/python3.7/site-packages/optuna/visualization/_contour.py\u001b[0m in \u001b[0;36m_get_contour_plot\u001b[0;34m(study, params, target, target_name)\u001b[0m\n\u001b[1;32m    198\u001b[0m                     \u001b[0mcontour\u001b[0m \u001b[0;34m=\u001b[0m \u001b[0msub_plots\u001b[0m\u001b[0;34m[\u001b[0m\u001b[0;36m0\u001b[0m\u001b[0;34m]\u001b[0m\u001b[0;34m\u001b[0m\u001b[0;34m\u001b[0m\u001b[0m\n\u001b[1;32m    199\u001b[0m                     \u001b[0mscatter\u001b[0m \u001b[0;34m=\u001b[0m \u001b[0msub_plots\u001b[0m\u001b[0;34m[\u001b[0m\u001b[0;36m1\u001b[0m\u001b[0;34m]\u001b[0m\u001b[0;34m\u001b[0m\u001b[0;34m\u001b[0m\u001b[0m\n\u001b[0;32m--> 200\u001b[0;31m                     \u001b[0mcontour\u001b[0m\u001b[0;34m.\u001b[0m\u001b[0mupdate\u001b[0m\u001b[0;34m(\u001b[0m\u001b[0mshowscale\u001b[0m\u001b[0;34m=\u001b[0m\u001b[0mshowscale\u001b[0m\u001b[0;34m)\u001b[0m  \u001b[0;31m# showscale's default is True\u001b[0m\u001b[0;34m\u001b[0m\u001b[0;34m\u001b[0m\u001b[0m\n\u001b[0m\u001b[1;32m    201\u001b[0m                     \u001b[0;32mif\u001b[0m \u001b[0mshowscale\u001b[0m\u001b[0;34m:\u001b[0m\u001b[0;34m\u001b[0m\u001b[0;34m\u001b[0m\u001b[0m\n\u001b[1;32m    202\u001b[0m                         \u001b[0mshowscale\u001b[0m \u001b[0;34m=\u001b[0m \u001b[0;32mFalse\u001b[0m\u001b[0;34m\u001b[0m\u001b[0;34m\u001b[0m\u001b[0m\n",
      "\u001b[0;32m~/src/online-courses/hands-on-rl/04_cart_pole_tune_hparams_like_a_pro/.venv/lib/python3.7/site-packages/plotly/basedatatypes.py\u001b[0m in \u001b[0;36mupdate\u001b[0;34m(self, dict1, overwrite, **kwargs)\u001b[0m\n\u001b[1;32m   5091\u001b[0m         \u001b[0;32melse\u001b[0m\u001b[0;34m:\u001b[0m\u001b[0;34m\u001b[0m\u001b[0;34m\u001b[0m\u001b[0m\n\u001b[1;32m   5092\u001b[0m             \u001b[0mBaseFigure\u001b[0m\u001b[0;34m.\u001b[0m\u001b[0m_perform_update\u001b[0m\u001b[0;34m(\u001b[0m\u001b[0mself\u001b[0m\u001b[0;34m,\u001b[0m \u001b[0mdict1\u001b[0m\u001b[0;34m,\u001b[0m \u001b[0moverwrite\u001b[0m\u001b[0;34m=\u001b[0m\u001b[0moverwrite\u001b[0m\u001b[0;34m)\u001b[0m\u001b[0;34m\u001b[0m\u001b[0;34m\u001b[0m\u001b[0m\n\u001b[0;32m-> 5093\u001b[0;31m             \u001b[0mBaseFigure\u001b[0m\u001b[0;34m.\u001b[0m\u001b[0m_perform_update\u001b[0m\u001b[0;34m(\u001b[0m\u001b[0mself\u001b[0m\u001b[0;34m,\u001b[0m \u001b[0mkwargs\u001b[0m\u001b[0;34m,\u001b[0m \u001b[0moverwrite\u001b[0m\u001b[0;34m=\u001b[0m\u001b[0moverwrite\u001b[0m\u001b[0;34m)\u001b[0m\u001b[0;34m\u001b[0m\u001b[0;34m\u001b[0m\u001b[0m\n\u001b[0m\u001b[1;32m   5094\u001b[0m \u001b[0;34m\u001b[0m\u001b[0m\n\u001b[1;32m   5095\u001b[0m         \u001b[0;32mreturn\u001b[0m \u001b[0mself\u001b[0m\u001b[0;34m\u001b[0m\u001b[0;34m\u001b[0m\u001b[0m\n",
      "\u001b[0;32m~/src/online-courses/hands-on-rl/04_cart_pole_tune_hparams_like_a_pro/.venv/lib/python3.7/site-packages/plotly/basedatatypes.py\u001b[0m in \u001b[0;36m_perform_update\u001b[0;34m(plotly_obj, update_obj, overwrite)\u001b[0m\n\u001b[1;32m   3900\u001b[0m                     \u001b[0;32mcontinue\u001b[0m\u001b[0;34m\u001b[0m\u001b[0;34m\u001b[0m\u001b[0m\n\u001b[1;32m   3901\u001b[0m \u001b[0;34m\u001b[0m\u001b[0m\n\u001b[0;32m-> 3902\u001b[0;31m                 \u001b[0mvalidator\u001b[0m \u001b[0;34m=\u001b[0m \u001b[0mplotly_obj\u001b[0m\u001b[0;34m.\u001b[0m\u001b[0m_get_prop_validator\u001b[0m\u001b[0;34m(\u001b[0m\u001b[0mkey\u001b[0m\u001b[0;34m)\u001b[0m\u001b[0;34m\u001b[0m\u001b[0;34m\u001b[0m\u001b[0m\n\u001b[0m\u001b[1;32m   3903\u001b[0m \u001b[0;34m\u001b[0m\u001b[0m\n\u001b[1;32m   3904\u001b[0m                 \u001b[0;32mif\u001b[0m \u001b[0misinstance\u001b[0m\u001b[0;34m(\u001b[0m\u001b[0mvalidator\u001b[0m\u001b[0;34m,\u001b[0m \u001b[0mCompoundValidator\u001b[0m\u001b[0;34m)\u001b[0m \u001b[0;32mand\u001b[0m \u001b[0misinstance\u001b[0m\u001b[0;34m(\u001b[0m\u001b[0mval\u001b[0m\u001b[0;34m,\u001b[0m \u001b[0mdict\u001b[0m\u001b[0;34m)\u001b[0m\u001b[0;34m:\u001b[0m\u001b[0;34m\u001b[0m\u001b[0;34m\u001b[0m\u001b[0m\n",
      "\u001b[0;32m~/src/online-courses/hands-on-rl/04_cart_pole_tune_hparams_like_a_pro/.venv/lib/python3.7/site-packages/plotly/basedatatypes.py\u001b[0m in \u001b[0;36m_get_prop_validator\u001b[0;34m(self, prop)\u001b[0m\n\u001b[1;32m   4578\u001b[0m         \u001b[0;32melse\u001b[0m\u001b[0;34m:\u001b[0m\u001b[0;34m\u001b[0m\u001b[0;34m\u001b[0m\u001b[0m\n\u001b[1;32m   4579\u001b[0m             \u001b[0mprop_path\u001b[0m \u001b[0;34m=\u001b[0m \u001b[0mBaseFigure\u001b[0m\u001b[0;34m.\u001b[0m\u001b[0m_str_to_dict_path\u001b[0m\u001b[0;34m(\u001b[0m\u001b[0mprop\u001b[0m\u001b[0;34m)\u001b[0m\u001b[0;34m\u001b[0m\u001b[0;34m\u001b[0m\u001b[0m\n\u001b[0;32m-> 4580\u001b[0;31m             \u001b[0mplotly_obj\u001b[0m \u001b[0;34m=\u001b[0m \u001b[0mself\u001b[0m\u001b[0;34m[\u001b[0m\u001b[0mprop_path\u001b[0m\u001b[0;34m[\u001b[0m\u001b[0;34m:\u001b[0m\u001b[0;34m-\u001b[0m\u001b[0;36m1\u001b[0m\u001b[0;34m]\u001b[0m\u001b[0;34m]\u001b[0m\u001b[0;34m\u001b[0m\u001b[0;34m\u001b[0m\u001b[0m\n\u001b[0m\u001b[1;32m   4581\u001b[0m             \u001b[0mprop\u001b[0m \u001b[0;34m=\u001b[0m \u001b[0mprop_path\u001b[0m\u001b[0;34m[\u001b[0m\u001b[0;34m-\u001b[0m\u001b[0;36m1\u001b[0m\u001b[0;34m]\u001b[0m\u001b[0;34m\u001b[0m\u001b[0;34m\u001b[0m\u001b[0m\n\u001b[1;32m   4582\u001b[0m \u001b[0;34m\u001b[0m\u001b[0m\n",
      "\u001b[0;32m~/src/online-courses/hands-on-rl/04_cart_pole_tune_hparams_like_a_pro/.venv/lib/python3.7/site-packages/plotly/basedatatypes.py\u001b[0m in \u001b[0;36m__getitem__\u001b[0;34m(self, prop)\u001b[0m\n\u001b[1;32m   4655\u001b[0m         \u001b[0;31m# Convert into a property tuple\u001b[0m\u001b[0;34m\u001b[0m\u001b[0;34m\u001b[0m\u001b[0;34m\u001b[0m\u001b[0m\n\u001b[1;32m   4656\u001b[0m         \u001b[0morig_prop\u001b[0m \u001b[0;34m=\u001b[0m \u001b[0mprop\u001b[0m\u001b[0;34m\u001b[0m\u001b[0;34m\u001b[0m\u001b[0m\n\u001b[0;32m-> 4657\u001b[0;31m         \u001b[0mprop\u001b[0m \u001b[0;34m=\u001b[0m \u001b[0mBaseFigure\u001b[0m\u001b[0;34m.\u001b[0m\u001b[0m_str_to_dict_path\u001b[0m\u001b[0;34m(\u001b[0m\u001b[0mprop\u001b[0m\u001b[0;34m)\u001b[0m\u001b[0;34m\u001b[0m\u001b[0;34m\u001b[0m\u001b[0m\n\u001b[0m\u001b[1;32m   4658\u001b[0m \u001b[0;34m\u001b[0m\u001b[0m\n\u001b[1;32m   4659\u001b[0m         \u001b[0;31m# Handle remapping\u001b[0m\u001b[0;34m\u001b[0m\u001b[0;34m\u001b[0m\u001b[0;34m\u001b[0m\u001b[0m\n",
      "\u001b[0;31mKeyboardInterrupt\u001b[0m: "
     ]
    }
   ],
   "source": [
    "study.optimize(func, n_trials=100, callbacks=[neptune_callback])"
   ]
  },
  {
   "cell_type": "code",
   "execution_count": 10,
   "id": "2bb522bc",
   "metadata": {},
   "outputs": [
    {
     "name": "stdout",
     "output_type": "stream",
     "text": [
      "Shutting down background jobs, please wait a moment...\n",
      "Done!\n"
     ]
    },
    {
     "name": "stderr",
     "output_type": "stream",
     "text": [
      "Waiting for the remaining 14 operations to synchronize with Neptune. Do not kill this process.\n"
     ]
    },
    {
     "name": "stdout",
     "output_type": "stream",
     "text": [
      "All 14 operations synced, thanks for waiting!\n"
     ]
    }
   ],
   "source": [
    "run.stop()"
   ]
  },
  {
   "cell_type": "code",
   "execution_count": null,
   "id": "a6c1ff82",
   "metadata": {},
   "outputs": [],
   "source": []
  }
 ],
 "metadata": {
  "kernelspec": {
   "display_name": "Python 3 (ipykernel)",
   "language": "python",
   "name": "python3"
  },
  "language_info": {
   "codemirror_mode": {
    "name": "ipython",
    "version": 3
   },
   "file_extension": ".py",
   "mimetype": "text/x-python",
   "name": "python",
   "nbconvert_exporter": "python",
   "pygments_lexer": "ipython3",
   "version": "3.7.5"
  }
 },
 "nbformat": 4,
 "nbformat_minor": 5
}
