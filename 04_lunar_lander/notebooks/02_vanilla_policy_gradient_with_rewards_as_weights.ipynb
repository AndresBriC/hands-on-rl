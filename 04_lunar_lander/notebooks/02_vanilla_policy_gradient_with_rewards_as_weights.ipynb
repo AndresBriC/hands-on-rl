{
 "cells": [
  {
   "cell_type": "markdown",
   "id": "f7893323",
   "metadata": {},
   "source": [
    "# 03 Vanilla Policy Gradient with rewards as weights\n",
    "\n",
    "#### 👉🏽 The policy network will have the following architecture:\n",
    "\n",
    "<img src=\"https://github.com/Paulescu/hands-on-rl/blob/main/04_lunar_lander/images/policy_network.svg?raw=True\" width=\"400\"/>\n",
    "\n",
    "#### 👉🏽 And we will use the rewards to compute the weights in the policy gradient formula."
   ]
  },
  {
   "cell_type": "code",
   "execution_count": 1,
   "id": "fd7b5c91",
   "metadata": {},
   "outputs": [
    {
     "name": "stdout",
     "output_type": "stream",
     "text": [
      "%pylab is deprecated, use %matplotlib inline and import the required libraries.\n",
      "Populating the interactive namespace from numpy and matplotlib\n"
     ]
    }
   ],
   "source": [
    "%load_ext autoreload\n",
    "%autoreload 2\n",
    "%pylab inline\n",
    "%config InlineBackend.figure_format = 'svg'"
   ]
  },
  {
   "cell_type": "markdown",
   "id": "9241f546",
   "metadata": {},
   "source": [
    "## Environment 🚀🌙"
   ]
  },
  {
   "cell_type": "code",
   "execution_count": 2,
   "id": "267a519c",
   "metadata": {},
   "outputs": [],
   "source": [
    "ENV_NAME = 'LunarLander-v2'"
   ]
  },
  {
   "cell_type": "markdown",
   "id": "a3e61b4b",
   "metadata": {},
   "source": [
    "## Create agent and set hyperparameters"
   ]
  },
  {
   "cell_type": "code",
   "execution_count": 3,
   "id": "70383cb2",
   "metadata": {},
   "outputs": [
    {
     "name": "stdout",
     "output_type": "stream",
     "text": [
      "Policy network with 836 parameters\n",
      "Sequential(\n",
      "  (0): Linear(in_features=8, out_features=64, bias=True)\n",
      "  (1): ReLU()\n",
      "  (2): Linear(in_features=64, out_features=4, bias=True)\n",
      ")\n"
     ]
    }
   ],
   "source": [
    "from src.vpg_agent import VPGAgent\n",
    "\n",
    "agent = VPGAgent(\n",
    "    env_name=ENV_NAME,\n",
    "    learning_rate=3e-3,\n",
    "    hidden_layers=[64],\n",
    "    gradient_weights='rewards',\n",
    ")"
   ]
  },
  {
   "cell_type": "markdown",
   "id": "e9a83b60",
   "metadata": {},
   "source": [
    "## Tensorboard logger to see training metrics"
   ]
  },
  {
   "cell_type": "code",
   "execution_count": 4,
   "id": "630ea91b",
   "metadata": {},
   "outputs": [],
   "source": [
    "from src.utils import get_agent_id\n",
    "agent_id = get_agent_id(ENV_NAME)\n",
    "\n",
    "# tensorboard logger to see training curves\n",
    "from src.utils import get_logger, get_model_path\n",
    "logger = get_logger(env_name=ENV_NAME, agent_id=agent_id)\n",
    "\n",
    "# path to save policy network weights and hyperparameters\n",
    "model_path = get_model_path(env_name=ENV_NAME, agent_id=agent_id)"
   ]
  },
  {
   "cell_type": "markdown",
   "id": "639dd70c",
   "metadata": {},
   "source": [
    "## Training 🏋️"
   ]
  },
  {
   "cell_type": "code",
   "execution_count": 5,
   "id": "8285b344",
   "metadata": {},
   "outputs": [
    {
     "name": "stderr",
     "output_type": "stream",
     "text": [
      "/Users/paulabartabajo/src/online-courses/hands-on-rl/04_lunar_lander/src/vpg_agent.py:214: UserWarning: Creating a tensor from a list of numpy.ndarrays is extremely slow. Please consider converting the list to a single numpy.ndarray with numpy.array() before converting to a tensor. (Triggered internally at  /Users/distiller/project/pytorch/torch/csrc/utils/tensor_new.cpp:210.)\n",
      "  obs=torch.as_tensor(states, dtype=torch.float32),\n"
     ]
    },
    {
     "name": "stdout",
     "output_type": "stream",
     "text": [
      "epoch:   0 \t loss: -239.067 \t reward: -170.802\n",
      "epoch:   1 \t loss: -205.310 \t reward: -143.232\n",
      "epoch:   2 \t loss: -192.923 \t reward: -137.108\n",
      "epoch:   3 \t loss: -204.779 \t reward: -145.512\n",
      "epoch:   4 \t loss: -200.766 \t reward: -143.951\n",
      "epoch:   5 \t loss: -216.208 \t reward: -157.995\n",
      "epoch:   6 \t loss: -195.658 \t reward: -143.433\n",
      "epoch:   7 \t loss: -202.640 \t reward: -143.721\n",
      "epoch:   8 \t loss: -234.408 \t reward: -168.554\n",
      "epoch:   9 \t loss: -215.698 \t reward: -153.011\n"
     ]
    },
    {
     "name": "stderr",
     "output_type": "stream",
     "text": [
      "100%|████████████████████████| 100/100 [00:02<00:00, 36.24it/s]\n"
     ]
    },
    {
     "name": "stdout",
     "output_type": "stream",
     "text": [
      "Best model! Average reward = -150.74\n",
      "epoch:  10 \t loss: -205.497 \t reward: -149.118\n",
      "epoch:  11 \t loss: -196.835 \t reward: -142.623\n",
      "epoch:  12 \t loss: -198.701 \t reward: -146.779\n",
      "epoch:  13 \t loss: -214.776 \t reward: -154.416\n",
      "epoch:  14 \t loss: -220.123 \t reward: -161.913\n",
      "epoch:  15 \t loss: -248.685 \t reward: -180.783\n",
      "epoch:  16 \t loss: -221.501 \t reward: -165.948\n",
      "epoch:  17 \t loss: -171.868 \t reward: -130.465\n",
      "epoch:  18 \t loss: -219.582 \t reward: -163.228\n",
      "epoch:  19 \t loss: -213.880 \t reward: -160.240\n"
     ]
    },
    {
     "name": "stderr",
     "output_type": "stream",
     "text": [
      "100%|████████████████████████| 100/100 [00:02<00:00, 37.09it/s]\n"
     ]
    },
    {
     "name": "stdout",
     "output_type": "stream",
     "text": [
      "epoch:  20 \t loss: -201.279 \t reward: -151.929\n",
      "epoch:  21 \t loss: -232.225 \t reward: -170.002\n",
      "epoch:  22 \t loss: -195.847 \t reward: -148.705\n",
      "epoch:  23 \t loss: -159.606 \t reward: -121.181\n",
      "epoch:  24 \t loss: -245.036 \t reward: -175.115\n",
      "epoch:  25 \t loss: -236.202 \t reward: -177.025\n",
      "epoch:  26 \t loss: -208.881 \t reward: -154.530\n",
      "epoch:  27 \t loss: -167.340 \t reward: -129.180\n",
      "epoch:  28 \t loss: -165.288 \t reward: -124.414\n",
      "epoch:  29 \t loss: -204.188 \t reward: -151.726\n"
     ]
    },
    {
     "name": "stderr",
     "output_type": "stream",
     "text": [
      "100%|████████████████████████| 100/100 [00:02<00:00, 34.30it/s]\n"
     ]
    },
    {
     "name": "stdout",
     "output_type": "stream",
     "text": [
      "Best model! Average reward = -136.88\n",
      "epoch:  30 \t loss: -180.150 \t reward: -135.384\n",
      "epoch:  31 \t loss: -165.299 \t reward: -126.821\n",
      "epoch:  32 \t loss: -183.172 \t reward: -137.518\n",
      "epoch:  33 \t loss: -186.359 \t reward: -140.381\n",
      "epoch:  34 \t loss: -223.981 \t reward: -165.613\n",
      "epoch:  35 \t loss: -185.132 \t reward: -141.539\n",
      "epoch:  36 \t loss: -204.761 \t reward: -156.726\n",
      "epoch:  37 \t loss: -209.236 \t reward: -152.627\n",
      "epoch:  38 \t loss: -195.234 \t reward: -146.080\n",
      "epoch:  39 \t loss: -199.969 \t reward: -149.257\n"
     ]
    },
    {
     "name": "stderr",
     "output_type": "stream",
     "text": [
      "100%|████████████████████████| 100/100 [00:03<00:00, 27.76it/s]\n"
     ]
    },
    {
     "name": "stdout",
     "output_type": "stream",
     "text": [
      "epoch:  40 \t loss: -187.205 \t reward: -138.628\n",
      "epoch:  41 \t loss: -217.435 \t reward: -162.182\n",
      "epoch:  42 \t loss: -175.568 \t reward: -137.919\n",
      "epoch:  43 \t loss: -179.932 \t reward: -137.276\n",
      "epoch:  44 \t loss: -157.033 \t reward: -124.470\n",
      "epoch:  45 \t loss: -159.063 \t reward: -124.291\n",
      "epoch:  46 \t loss: -200.416 \t reward: -151.104\n",
      "epoch:  47 \t loss: -169.895 \t reward: -129.370\n",
      "epoch:  48 \t loss: -158.322 \t reward: -120.510\n",
      "epoch:  49 \t loss: -170.761 \t reward: -128.609\n"
     ]
    },
    {
     "name": "stderr",
     "output_type": "stream",
     "text": [
      "100%|████████████████████████| 100/100 [00:02<00:00, 37.52it/s]\n"
     ]
    },
    {
     "name": "stdout",
     "output_type": "stream",
     "text": [
      "Best model! Average reward = -136.08\n",
      "epoch:  50 \t loss: -159.192 \t reward: -119.935\n",
      "epoch:  51 \t loss: -160.248 \t reward: -124.409\n",
      "epoch:  52 \t loss: -175.878 \t reward: -132.225\n",
      "epoch:  53 \t loss: -197.318 \t reward: -144.874\n",
      "epoch:  54 \t loss: -177.035 \t reward: -130.334\n",
      "epoch:  55 \t loss: -151.799 \t reward: -114.557\n",
      "epoch:  56 \t loss: -143.345 \t reward: -110.698\n",
      "epoch:  57 \t loss: -175.154 \t reward: -133.399\n",
      "epoch:  58 \t loss: -194.865 \t reward: -141.220\n",
      "epoch:  59 \t loss: -167.528 \t reward: -127.729\n"
     ]
    },
    {
     "name": "stderr",
     "output_type": "stream",
     "text": [
      "100%|████████████████████████| 100/100 [00:02<00:00, 38.36it/s]\n"
     ]
    },
    {
     "name": "stdout",
     "output_type": "stream",
     "text": [
      "Best model! Average reward = -124.52\n",
      "epoch:  60 \t loss: -203.134 \t reward: -147.520\n",
      "epoch:  61 \t loss: -179.863 \t reward: -134.791\n",
      "epoch:  62 \t loss: -181.429 \t reward: -134.984\n",
      "epoch:  63 \t loss: -184.779 \t reward: -137.477\n",
      "epoch:  64 \t loss: -161.280 \t reward: -124.925\n",
      "epoch:  65 \t loss: -169.526 \t reward: -130.924\n",
      "epoch:  66 \t loss: -166.689 \t reward: -125.732\n",
      "epoch:  67 \t loss: -166.658 \t reward: -125.429\n",
      "epoch:  68 \t loss: -175.344 \t reward: -130.982\n",
      "epoch:  69 \t loss: -194.562 \t reward: -147.211\n"
     ]
    },
    {
     "name": "stderr",
     "output_type": "stream",
     "text": [
      "100%|████████████████████████| 100/100 [00:02<00:00, 38.26it/s]\n"
     ]
    },
    {
     "name": "stdout",
     "output_type": "stream",
     "text": [
      "epoch:  70 \t loss: -24.326 \t reward: -125.612\n",
      "epoch:  71 \t loss: -206.708 \t reward: -160.128\n",
      "epoch:  72 \t loss: -186.851 \t reward: -148.205\n",
      "epoch:  73 \t loss: -175.326 \t reward: -135.449\n",
      "epoch:  74 \t loss: -180.217 \t reward: -139.184\n",
      "epoch:  75 \t loss: -165.809 \t reward: -128.863\n",
      "epoch:  76 \t loss: -203.780 \t reward: -148.916\n",
      "epoch:  77 \t loss: -158.513 \t reward: -120.546\n",
      "epoch:  78 \t loss: -158.878 \t reward: -122.906\n",
      "epoch:  79 \t loss: -162.800 \t reward: -123.231\n"
     ]
    },
    {
     "name": "stderr",
     "output_type": "stream",
     "text": [
      "100%|████████████████████████| 100/100 [00:02<00:00, 38.63it/s]\n"
     ]
    },
    {
     "name": "stdout",
     "output_type": "stream",
     "text": [
      "epoch:  80 \t loss: -166.455 \t reward: -126.782\n",
      "epoch:  81 \t loss: -147.589 \t reward: -116.496\n",
      "epoch:  82 \t loss: -9.416 \t reward: -98.727\n",
      "epoch:  83 \t loss: -158.782 \t reward: -119.704\n",
      "epoch:  84 \t loss: -150.074 \t reward: -115.827\n",
      "epoch:  85 \t loss: -164.745 \t reward: -119.937\n",
      "epoch:  86 \t loss: -150.249 \t reward: -114.779\n",
      "epoch:  87 \t loss: -159.698 \t reward: -121.456\n",
      "epoch:  88 \t loss: -181.960 \t reward: -139.878\n",
      "epoch:  89 \t loss: -191.691 \t reward: -143.795\n"
     ]
    },
    {
     "name": "stderr",
     "output_type": "stream",
     "text": [
      "100%|████████████████████████| 100/100 [00:03<00:00, 29.62it/s]\n"
     ]
    },
    {
     "name": "stdout",
     "output_type": "stream",
     "text": [
      "epoch:  90 \t loss: -170.528 \t reward: -127.805\n",
      "epoch:  91 \t loss: -153.579 \t reward: -119.251\n",
      "epoch:  92 \t loss: -159.046 \t reward: -122.992\n",
      "epoch:  93 \t loss: -206.174 \t reward: -153.899\n",
      "epoch:  94 \t loss: -177.777 \t reward: -128.933\n",
      "epoch:  95 \t loss: -166.429 \t reward: -123.196\n",
      "epoch:  96 \t loss: -196.238 \t reward: -139.267\n",
      "epoch:  97 \t loss: -172.707 \t reward: -125.898\n",
      "epoch:  98 \t loss: -190.051 \t reward: -144.339\n",
      "epoch:  99 \t loss: -189.037 \t reward: -141.690\n"
     ]
    },
    {
     "name": "stderr",
     "output_type": "stream",
     "text": [
      "100%|████████████████████████| 100/100 [00:03<00:00, 30.86it/s]\n"
     ]
    },
    {
     "name": "stdout",
     "output_type": "stream",
     "text": [
      "Best model! Average reward = -124.09\n",
      "epoch: 100 \t loss: -187.796 \t reward: -140.963\n",
      "epoch: 101 \t loss: -152.225 \t reward: -112.512\n",
      "epoch: 102 \t loss: -187.319 \t reward: -135.809\n",
      "epoch: 103 \t loss: -160.785 \t reward: -118.911\n",
      "epoch: 104 \t loss: -168.861 \t reward: -125.943\n",
      "epoch: 105 \t loss: -175.871 \t reward: -129.579\n",
      "epoch: 106 \t loss: -156.167 \t reward: -117.508\n",
      "epoch: 107 \t loss: -155.528 \t reward: -111.295\n",
      "epoch: 108 \t loss: -159.756 \t reward: -119.554\n",
      "epoch: 109 \t loss: -152.532 \t reward: -113.831\n"
     ]
    },
    {
     "name": "stderr",
     "output_type": "stream",
     "text": [
      "100%|████████████████████████| 100/100 [00:02<00:00, 34.39it/s]\n"
     ]
    },
    {
     "name": "stdout",
     "output_type": "stream",
     "text": [
      "epoch: 110 \t loss: -186.473 \t reward: -142.513\n",
      "epoch: 111 \t loss: -199.039 \t reward: -151.317\n",
      "epoch: 112 \t loss: -187.984 \t reward: -136.729\n",
      "epoch: 113 \t loss: -251.815 \t reward: -187.618\n",
      "epoch: 114 \t loss: -141.745 \t reward: -113.012\n",
      "epoch: 115 \t loss: -211.081 \t reward: -162.683\n",
      "epoch: 116 \t loss: -206.603 \t reward: -157.852\n",
      "epoch: 117 \t loss: -186.874 \t reward: -138.562\n",
      "epoch: 118 \t loss: -187.272 \t reward: -144.858\n",
      "epoch: 119 \t loss: -180.684 \t reward: -136.058\n"
     ]
    },
    {
     "name": "stderr",
     "output_type": "stream",
     "text": [
      "100%|████████████████████████| 100/100 [00:02<00:00, 34.03it/s]\n"
     ]
    },
    {
     "name": "stdout",
     "output_type": "stream",
     "text": [
      "epoch: 120 \t loss: -169.347 \t reward: -124.825\n",
      "epoch: 121 \t loss: -190.502 \t reward: -138.029\n",
      "epoch: 122 \t loss: -162.293 \t reward: -121.579\n",
      "epoch: 123 \t loss: -162.798 \t reward: -126.445\n",
      "epoch: 124 \t loss: -177.997 \t reward: -133.610\n",
      "epoch: 125 \t loss: -149.574 \t reward: -112.442\n",
      "epoch: 126 \t loss: -148.539 \t reward: -110.514\n",
      "epoch: 127 \t loss: -160.833 \t reward: -118.295\n",
      "epoch: 128 \t loss: -159.869 \t reward: -119.476\n",
      "epoch: 129 \t loss: -159.243 \t reward: -116.496\n"
     ]
    },
    {
     "name": "stderr",
     "output_type": "stream",
     "text": [
      "100%|████████████████████████| 100/100 [00:03<00:00, 28.26it/s]\n"
     ]
    },
    {
     "name": "stdout",
     "output_type": "stream",
     "text": [
      "Best model! Average reward = -115.13\n",
      "epoch: 130 \t loss: -162.852 \t reward: -122.572\n",
      "epoch: 131 \t loss: -176.204 \t reward: -132.592\n",
      "epoch: 132 \t loss: -137.579 \t reward: -106.750\n",
      "epoch: 133 \t loss: -158.043 \t reward: -120.056\n",
      "epoch: 134 \t loss: -145.159 \t reward: -112.066\n",
      "epoch: 135 \t loss: -154.426 \t reward: -115.320\n",
      "epoch: 136 \t loss: -153.720 \t reward: -115.991\n",
      "epoch: 137 \t loss: -181.537 \t reward: -136.825\n",
      "epoch: 138 \t loss: -146.616 \t reward: -109.769\n",
      "epoch: 139 \t loss: -178.072 \t reward: -132.280\n"
     ]
    },
    {
     "name": "stderr",
     "output_type": "stream",
     "text": [
      "100%|████████████████████████| 100/100 [00:03<00:00, 26.92it/s]\n"
     ]
    },
    {
     "name": "stdout",
     "output_type": "stream",
     "text": [
      "epoch: 140 \t loss: -148.516 \t reward: -113.909\n",
      "epoch: 141 \t loss: -170.116 \t reward: -128.773\n",
      "epoch: 142 \t loss: -151.769 \t reward: -116.063\n",
      "epoch: 143 \t loss: -171.516 \t reward: -128.189\n",
      "epoch: 144 \t loss: -160.334 \t reward: -122.161\n",
      "epoch: 145 \t loss: -143.419 \t reward: -109.011\n",
      "epoch: 146 \t loss: -157.984 \t reward: -123.846\n",
      "epoch: 147 \t loss: -175.105 \t reward: -129.200\n",
      "epoch: 148 \t loss: -161.678 \t reward: -123.219\n",
      "epoch: 149 \t loss: -151.321 \t reward: -113.564\n"
     ]
    },
    {
     "name": "stderr",
     "output_type": "stream",
     "text": [
      "100%|████████████████████████| 100/100 [00:02<00:00, 35.66it/s]\n"
     ]
    },
    {
     "name": "stdout",
     "output_type": "stream",
     "text": [
      "Best model! Average reward = -114.45\n",
      "epoch: 150 \t loss: -145.267 \t reward: -110.958\n",
      "epoch: 151 \t loss: -153.582 \t reward: -115.439\n",
      "epoch: 152 \t loss: -176.761 \t reward: -137.114\n",
      "epoch: 153 \t loss: -147.233 \t reward: -117.016\n",
      "epoch: 154 \t loss: -146.436 \t reward: -116.182\n",
      "epoch: 155 \t loss: -154.803 \t reward: -120.713\n",
      "epoch: 156 \t loss: -30.222 \t reward: -99.741\n",
      "epoch: 157 \t loss: -174.445 \t reward: -134.445\n",
      "epoch: 158 \t loss: -157.404 \t reward: -120.660\n",
      "epoch: 159 \t loss: -158.824 \t reward: -126.179\n"
     ]
    },
    {
     "name": "stderr",
     "output_type": "stream",
     "text": [
      "100%|████████████████████████| 100/100 [00:02<00:00, 34.60it/s]\n"
     ]
    },
    {
     "name": "stdout",
     "output_type": "stream",
     "text": [
      "Best model! Average reward = -114.07\n",
      "epoch: 160 \t loss: -155.354 \t reward: -123.488\n",
      "epoch: 161 \t loss: -141.147 \t reward: -113.040\n",
      "epoch: 162 \t loss: -148.573 \t reward: -117.447\n",
      "epoch: 163 \t loss: 7.264 \t reward: -106.826\n",
      "epoch: 164 \t loss: -132.458 \t reward: -106.255\n",
      "epoch: 165 \t loss: -132.916 \t reward: -107.333\n",
      "epoch: 166 \t loss: -130.689 \t reward: -106.547\n",
      "epoch: 167 \t loss: -128.687 \t reward: -104.958\n",
      "epoch: 168 \t loss: -158.720 \t reward: -125.530\n",
      "epoch: 169 \t loss: -128.226 \t reward: -104.387\n"
     ]
    },
    {
     "name": "stderr",
     "output_type": "stream",
     "text": [
      "100%|████████████████████████| 100/100 [00:02<00:00, 34.03it/s]\n"
     ]
    },
    {
     "name": "stdout",
     "output_type": "stream",
     "text": [
      "Best model! Average reward = -112.34\n",
      "epoch: 170 \t loss: -153.109 \t reward: -122.826\n",
      "epoch: 171 \t loss: -139.032 \t reward: -114.664\n",
      "epoch: 172 \t loss: -148.450 \t reward: -118.760\n",
      "epoch: 173 \t loss: -143.139 \t reward: -115.338\n",
      "epoch: 174 \t loss: -133.807 \t reward: -108.085\n",
      "epoch: 175 \t loss: -126.688 \t reward: -102.380\n",
      "epoch: 176 \t loss: -133.844 \t reward: -108.051\n",
      "epoch: 177 \t loss: -136.135 \t reward: -111.074\n",
      "epoch: 178 \t loss: -126.680 \t reward: -102.852\n",
      "epoch: 179 \t loss: -108.341 \t reward: -96.620\n"
     ]
    },
    {
     "name": "stderr",
     "output_type": "stream",
     "text": [
      "100%|████████████████████████| 100/100 [00:02<00:00, 36.06it/s]\n"
     ]
    },
    {
     "name": "stdout",
     "output_type": "stream",
     "text": [
      "Best model! Average reward = -109.22\n",
      "epoch: 180 \t loss: -138.822 \t reward: -111.649\n",
      "epoch: 181 \t loss: -155.924 \t reward: -131.263\n",
      "epoch: 182 \t loss: -137.190 \t reward: -112.108\n",
      "epoch: 183 \t loss: -129.134 \t reward: -106.663\n",
      "epoch: 184 \t loss: -145.845 \t reward: -118.639\n",
      "epoch: 185 \t loss: -122.982 \t reward: -101.525\n",
      "epoch: 186 \t loss: -140.017 \t reward: -114.601\n",
      "epoch: 187 \t loss: -147.892 \t reward: -120.158\n",
      "epoch: 188 \t loss: -150.904 \t reward: -122.803\n",
      "epoch: 189 \t loss: -165.747 \t reward: -136.940\n"
     ]
    },
    {
     "name": "stderr",
     "output_type": "stream",
     "text": [
      "100%|████████████████████████| 100/100 [00:03<00:00, 28.70it/s]\n"
     ]
    },
    {
     "name": "stdout",
     "output_type": "stream",
     "text": [
      "Best model! Average reward = -106.47\n",
      "epoch: 190 \t loss: -133.768 \t reward: -107.883\n",
      "epoch: 191 \t loss: -144.197 \t reward: -118.509\n",
      "epoch: 192 \t loss: -130.336 \t reward: -106.596\n",
      "epoch: 193 \t loss: -144.421 \t reward: -113.485\n",
      "epoch: 194 \t loss: -133.235 \t reward: -109.185\n",
      "epoch: 195 \t loss: -134.522 \t reward: -109.162\n",
      "epoch: 196 \t loss: -129.471 \t reward: -105.562\n",
      "epoch: 197 \t loss: -123.122 \t reward: -100.923\n",
      "epoch: 198 \t loss: -124.056 \t reward: -99.922\n",
      "epoch: 199 \t loss: -134.420 \t reward: -109.368\n"
     ]
    },
    {
     "name": "stderr",
     "output_type": "stream",
     "text": [
      "100%|████████████████████████| 100/100 [00:03<00:00, 33.23it/s]\n"
     ]
    },
    {
     "name": "stdout",
     "output_type": "stream",
     "text": [
      "epoch: 200 \t loss: -122.419 \t reward: -97.888\n",
      "epoch: 201 \t loss: -117.833 \t reward: -95.787\n",
      "epoch: 202 \t loss: -141.827 \t reward: -113.737\n",
      "epoch: 203 \t loss: -140.369 \t reward: -113.820\n",
      "epoch: 204 \t loss: -155.751 \t reward: -125.875\n",
      "epoch: 205 \t loss: -150.244 \t reward: -119.696\n",
      "epoch: 206 \t loss: -125.050 \t reward: -103.170\n",
      "epoch: 207 \t loss: -146.890 \t reward: -117.166\n",
      "epoch: 208 \t loss: -163.039 \t reward: -128.868\n",
      "epoch: 209 \t loss: -152.760 \t reward: -124.769\n"
     ]
    },
    {
     "name": "stderr",
     "output_type": "stream",
     "text": [
      "100%|████████████████████████| 100/100 [00:02<00:00, 33.88it/s]\n"
     ]
    },
    {
     "name": "stdout",
     "output_type": "stream",
     "text": [
      "epoch: 210 \t loss: -129.967 \t reward: -109.465\n",
      "epoch: 211 \t loss: -124.410 \t reward: -103.264\n",
      "epoch: 212 \t loss: -138.736 \t reward: -114.901\n",
      "epoch: 213 \t loss: -138.243 \t reward: -113.005\n",
      "epoch: 214 \t loss: -119.377 \t reward: -94.398\n",
      "epoch: 215 \t loss: -134.988 \t reward: -108.812\n",
      "epoch: 216 \t loss: -140.504 \t reward: -112.979\n",
      "epoch: 217 \t loss: -140.974 \t reward: -114.375\n",
      "epoch: 218 \t loss: -123.846 \t reward: -102.788\n",
      "epoch: 219 \t loss: -117.169 \t reward: -95.468\n"
     ]
    },
    {
     "name": "stderr",
     "output_type": "stream",
     "text": [
      "100%|████████████████████████| 100/100 [00:02<00:00, 34.34it/s]\n"
     ]
    },
    {
     "name": "stdout",
     "output_type": "stream",
     "text": [
      "Best model! Average reward = -102.09\n",
      "epoch: 220 \t loss: -129.183 \t reward: -105.148\n",
      "epoch: 221 \t loss: -108.737 \t reward: -90.696\n",
      "epoch: 222 \t loss: -120.377 \t reward: -99.094\n",
      "epoch: 223 \t loss: -140.254 \t reward: -112.445\n",
      "epoch: 224 \t loss: -119.660 \t reward: -98.983\n",
      "epoch: 225 \t loss: -130.712 \t reward: -105.918\n",
      "epoch: 226 \t loss: -123.729 \t reward: -100.403\n",
      "epoch: 227 \t loss: -127.046 \t reward: -100.291\n",
      "epoch: 228 \t loss: -124.423 \t reward: -100.439\n",
      "epoch: 229 \t loss: -131.329 \t reward: -105.366\n"
     ]
    },
    {
     "name": "stderr",
     "output_type": "stream",
     "text": [
      "100%|████████████████████████| 100/100 [00:02<00:00, 34.16it/s]\n"
     ]
    },
    {
     "name": "stdout",
     "output_type": "stream",
     "text": [
      "epoch: 230 \t loss: -123.232 \t reward: -98.665\n",
      "epoch: 231 \t loss: -135.288 \t reward: -107.837\n",
      "epoch: 232 \t loss: -136.266 \t reward: -109.139\n",
      "epoch: 233 \t loss: -142.709 \t reward: -113.996\n",
      "epoch: 234 \t loss: -118.782 \t reward: -96.076\n",
      "epoch: 235 \t loss: -130.368 \t reward: -102.022\n",
      "epoch: 236 \t loss: -125.856 \t reward: -103.217\n",
      "epoch: 237 \t loss: -126.045 \t reward: -98.358\n",
      "epoch: 238 \t loss: -127.154 \t reward: -107.935\n",
      "epoch: 239 \t loss: -134.848 \t reward: -106.791\n"
     ]
    },
    {
     "name": "stderr",
     "output_type": "stream",
     "text": [
      "100%|████████████████████████| 100/100 [00:03<00:00, 32.66it/s]\n"
     ]
    },
    {
     "name": "stdout",
     "output_type": "stream",
     "text": [
      "Best model! Average reward = -96.12\n",
      "epoch: 240 \t loss: -125.932 \t reward: -102.614\n",
      "epoch: 241 \t loss: -116.038 \t reward: -93.502\n",
      "epoch: 242 \t loss: -130.223 \t reward: -102.030\n",
      "epoch: 243 \t loss: -101.576 \t reward: -81.151\n",
      "epoch: 244 \t loss: -123.751 \t reward: -96.509\n",
      "epoch: 245 \t loss: -116.596 \t reward: -91.376\n",
      "epoch: 246 \t loss: -134.718 \t reward: -105.352\n",
      "epoch: 247 \t loss: -123.097 \t reward: -96.711\n",
      "epoch: 248 \t loss: -106.576 \t reward: -85.490\n",
      "epoch: 249 \t loss: -123.780 \t reward: -93.715\n"
     ]
    },
    {
     "name": "stderr",
     "output_type": "stream",
     "text": [
      "100%|████████████████████████| 100/100 [00:03<00:00, 30.52it/s]\n"
     ]
    },
    {
     "name": "stdout",
     "output_type": "stream",
     "text": [
      "Best model! Average reward = -89.64\n",
      "epoch: 250 \t loss: -114.443 \t reward: -90.131\n",
      "epoch: 251 \t loss: -119.546 \t reward: -93.940\n",
      "epoch: 252 \t loss: -123.997 \t reward: -97.244\n",
      "epoch: 253 \t loss: -129.760 \t reward: -101.326\n",
      "epoch: 254 \t loss: -112.069 \t reward: -89.835\n",
      "epoch: 255 \t loss: -106.645 \t reward: -84.676\n",
      "epoch: 256 \t loss: -116.952 \t reward: -90.085\n",
      "epoch: 257 \t loss: -114.155 \t reward: -92.770\n",
      "epoch: 258 \t loss: -104.110 \t reward: -82.081\n",
      "epoch: 259 \t loss: -131.654 \t reward: -100.721\n"
     ]
    },
    {
     "name": "stderr",
     "output_type": "stream",
     "text": [
      "100%|████████████████████████| 100/100 [00:03<00:00, 30.03it/s]\n"
     ]
    },
    {
     "name": "stdout",
     "output_type": "stream",
     "text": [
      "epoch: 260 \t loss: -127.728 \t reward: -98.750\n",
      "epoch: 261 \t loss: -102.819 \t reward: -81.763\n",
      "epoch: 262 \t loss: -115.256 \t reward: -89.590\n",
      "epoch: 263 \t loss: -96.410 \t reward: -78.945\n",
      "epoch: 264 \t loss: -100.674 \t reward: -79.939\n",
      "epoch: 265 \t loss: -102.761 \t reward: -83.060\n",
      "epoch: 266 \t loss: -97.512 \t reward: -80.276\n",
      "epoch: 267 \t loss: -98.434 \t reward: -77.851\n",
      "epoch: 268 \t loss: -125.171 \t reward: -96.981\n",
      "epoch: 269 \t loss: -103.471 \t reward: -82.934\n"
     ]
    },
    {
     "name": "stderr",
     "output_type": "stream",
     "text": [
      "100%|████████████████████████| 100/100 [00:04<00:00, 22.08it/s]\n"
     ]
    },
    {
     "name": "stdout",
     "output_type": "stream",
     "text": [
      "Best model! Average reward = -78.49\n",
      "epoch: 270 \t loss: -111.977 \t reward: -89.332\n",
      "epoch: 271 \t loss: -119.881 \t reward: -94.644\n",
      "epoch: 272 \t loss: -114.671 \t reward: -92.624\n",
      "epoch: 273 \t loss: -100.033 \t reward: -77.485\n",
      "epoch: 274 \t loss: -106.275 \t reward: -81.261\n",
      "epoch: 275 \t loss: -115.844 \t reward: -92.769\n",
      "epoch: 276 \t loss: -124.573 \t reward: -99.534\n",
      "epoch: 277 \t loss: -112.051 \t reward: -87.938\n",
      "epoch: 278 \t loss: -106.091 \t reward: -87.523\n",
      "epoch: 279 \t loss: -122.214 \t reward: -93.025\n"
     ]
    },
    {
     "name": "stderr",
     "output_type": "stream",
     "text": [
      "100%|████████████████████████| 100/100 [00:03<00:00, 29.06it/s]\n"
     ]
    },
    {
     "name": "stdout",
     "output_type": "stream",
     "text": [
      "epoch: 280 \t loss: -123.127 \t reward: -94.480\n",
      "epoch: 281 \t loss: -121.895 \t reward: -94.040\n",
      "epoch: 282 \t loss: -119.672 \t reward: -96.764\n",
      "epoch: 283 \t loss: -125.330 \t reward: -99.742\n",
      "epoch: 284 \t loss: -130.600 \t reward: -103.682\n",
      "epoch: 285 \t loss: -115.536 \t reward: -92.035\n",
      "epoch: 286 \t loss: -84.301 \t reward: -65.488\n",
      "epoch: 287 \t loss: -108.699 \t reward: -84.132\n",
      "epoch: 288 \t loss: -106.557 \t reward: -86.383\n",
      "epoch: 289 \t loss: -116.736 \t reward: -92.833\n"
     ]
    },
    {
     "name": "stderr",
     "output_type": "stream",
     "text": [
      "100%|████████████████████████| 100/100 [00:03<00:00, 28.79it/s]\n"
     ]
    },
    {
     "name": "stdout",
     "output_type": "stream",
     "text": [
      "Best model! Average reward = -78.15\n",
      "epoch: 290 \t loss: -127.644 \t reward: -97.546\n",
      "epoch: 291 \t loss: -105.659 \t reward: -83.128\n",
      "epoch: 292 \t loss: -93.224 \t reward: -74.239\n",
      "epoch: 293 \t loss: -116.041 \t reward: -91.246\n",
      "epoch: 294 \t loss: -101.391 \t reward: -83.740\n",
      "epoch: 295 \t loss: -77.756 \t reward: -63.756\n",
      "epoch: 296 \t loss: -109.364 \t reward: -90.352\n",
      "epoch: 297 \t loss: -120.608 \t reward: -96.583\n",
      "epoch: 298 \t loss: -101.687 \t reward: -77.996\n",
      "epoch: 299 \t loss: -86.166 \t reward: -69.537\n"
     ]
    },
    {
     "name": "stderr",
     "output_type": "stream",
     "text": [
      "100%|████████████████████████| 100/100 [00:03<00:00, 27.29it/s]\n"
     ]
    },
    {
     "name": "stdout",
     "output_type": "stream",
     "text": [
      "Best model! Average reward = -74.24\n",
      "epoch: 300 \t loss: -94.693 \t reward: -76.068\n",
      "epoch: 301 \t loss: -110.693 \t reward: -83.250\n",
      "epoch: 302 \t loss: -114.822 \t reward: -88.708\n",
      "epoch: 303 \t loss: -63.753 \t reward: -52.464\n",
      "epoch: 304 \t loss: -89.983 \t reward: -73.576\n",
      "epoch: 305 \t loss: -82.143 \t reward: -64.271\n",
      "epoch: 306 \t loss: -79.223 \t reward: -64.185\n",
      "epoch: 307 \t loss: -80.634 \t reward: -63.960\n",
      "epoch: 308 \t loss: -79.102 \t reward: -63.812\n",
      "epoch: 309 \t loss: -67.833 \t reward: -57.119\n"
     ]
    },
    {
     "name": "stderr",
     "output_type": "stream",
     "text": [
      "100%|████████████████████████| 100/100 [00:03<00:00, 27.34it/s]\n"
     ]
    },
    {
     "name": "stdout",
     "output_type": "stream",
     "text": [
      "Best model! Average reward = -68.34\n",
      "epoch: 310 \t loss: -75.575 \t reward: -61.130\n",
      "epoch: 311 \t loss: -76.023 \t reward: -61.091\n",
      "epoch: 312 \t loss: -109.702 \t reward: -88.193\n",
      "epoch: 313 \t loss: -92.330 \t reward: -73.116\n",
      "epoch: 314 \t loss: -85.288 \t reward: -70.313\n",
      "epoch: 315 \t loss: -80.710 \t reward: -67.315\n",
      "epoch: 316 \t loss: -91.632 \t reward: -75.285\n",
      "epoch: 317 \t loss: -78.422 \t reward: -62.318\n",
      "epoch: 318 \t loss: -84.161 \t reward: -68.133\n",
      "epoch: 319 \t loss: -90.924 \t reward: -70.838\n"
     ]
    },
    {
     "name": "stderr",
     "output_type": "stream",
     "text": [
      "100%|████████████████████████| 100/100 [00:04<00:00, 22.12it/s]\n"
     ]
    },
    {
     "name": "stdout",
     "output_type": "stream",
     "text": [
      "Best model! Average reward = -54.33\n",
      "epoch: 320 \t loss: -73.666 \t reward: -62.858\n",
      "epoch: 321 \t loss: -84.631 \t reward: -71.982\n",
      "epoch: 322 \t loss: -78.633 \t reward: -65.173\n",
      "epoch: 323 \t loss: -74.876 \t reward: -62.621\n",
      "epoch: 324 \t loss: -59.447 \t reward: -51.786\n",
      "epoch: 325 \t loss: -66.747 \t reward: -55.403\n",
      "epoch: 326 \t loss: -74.175 \t reward: -62.018\n",
      "epoch: 327 \t loss: -72.311 \t reward: -61.879\n",
      "epoch: 328 \t loss: -75.889 \t reward: -64.196\n",
      "epoch: 329 \t loss: -58.876 \t reward: -50.376\n"
     ]
    },
    {
     "name": "stderr",
     "output_type": "stream",
     "text": [
      "100%|████████████████████████| 100/100 [00:05<00:00, 16.99it/s]\n"
     ]
    },
    {
     "name": "stdout",
     "output_type": "stream",
     "text": [
      "epoch: 330 \t loss: -79.260 \t reward: -65.261\n",
      "epoch: 331 \t loss: -71.648 \t reward: -60.629\n",
      "epoch: 332 \t loss: -70.742 \t reward: -58.499\n",
      "epoch: 333 \t loss: -72.287 \t reward: -62.039\n",
      "epoch: 334 \t loss: -63.995 \t reward: -54.223\n",
      "epoch: 335 \t loss: -72.824 \t reward: -59.110\n",
      "epoch: 336 \t loss: -54.862 \t reward: -46.306\n",
      "epoch: 337 \t loss: -65.626 \t reward: -57.836\n",
      "epoch: 338 \t loss: -50.295 \t reward: -44.803\n",
      "epoch: 339 \t loss: -55.739 \t reward: -50.376\n"
     ]
    },
    {
     "name": "stderr",
     "output_type": "stream",
     "text": [
      "100%|████████████████████████| 100/100 [00:04<00:00, 22.25it/s]\n"
     ]
    },
    {
     "name": "stdout",
     "output_type": "stream",
     "text": [
      "Best model! Average reward = -50.38\n",
      "epoch: 340 \t loss: 41.405 \t reward: -18.851\n",
      "epoch: 341 \t loss: -59.002 \t reward: -50.572\n",
      "epoch: 342 \t loss: -48.437 \t reward: -39.653\n",
      "epoch: 343 \t loss: -44.078 \t reward: -38.245\n",
      "epoch: 344 \t loss: -57.064 \t reward: -51.475\n",
      "epoch: 345 \t loss: -50.442 \t reward: -42.846\n",
      "epoch: 346 \t loss: -12.235 \t reward: -39.509\n",
      "epoch: 347 \t loss: -63.160 \t reward: -56.678\n",
      "epoch: 348 \t loss: 11.006 \t reward: -20.947\n",
      "epoch: 349 \t loss: -8.085 \t reward: -39.521\n"
     ]
    },
    {
     "name": "stderr",
     "output_type": "stream",
     "text": [
      "100%|████████████████████████| 100/100 [00:05<00:00, 17.55it/s]\n"
     ]
    },
    {
     "name": "stdout",
     "output_type": "stream",
     "text": [
      "Best model! Average reward = -48.33\n",
      "epoch: 350 \t loss: -6.279 \t reward: -38.391\n",
      "epoch: 351 \t loss: -56.587 \t reward: -50.703\n",
      "epoch: 352 \t loss: -73.103 \t reward: -65.512\n",
      "epoch: 353 \t loss: -2.382 \t reward: -42.263\n",
      "epoch: 354 \t loss: -64.316 \t reward: -49.621\n",
      "epoch: 355 \t loss: -49.698 \t reward: -43.749\n",
      "epoch: 356 \t loss: -72.516 \t reward: -60.403\n",
      "epoch: 357 \t loss: -22.937 \t reward: -37.111\n",
      "epoch: 358 \t loss: -44.461 \t reward: -39.252\n",
      "epoch: 359 \t loss: -55.360 \t reward: -51.352\n"
     ]
    },
    {
     "name": "stderr",
     "output_type": "stream",
     "text": [
      "100%|████████████████████████| 100/100 [00:06<00:00, 14.69it/s]\n"
     ]
    },
    {
     "name": "stdout",
     "output_type": "stream",
     "text": [
      "Best model! Average reward = -37.26\n",
      "epoch: 360 \t loss: -58.818 \t reward: -60.294\n",
      "epoch: 361 \t loss: -34.555 \t reward: -31.066\n",
      "epoch: 362 \t loss: -37.461 \t reward: -33.754\n",
      "epoch: 363 \t loss: 0.393 \t reward: -22.324\n",
      "epoch: 364 \t loss: -13.461 \t reward: -48.528\n",
      "epoch: 365 \t loss: -52.806 \t reward: -45.664\n",
      "epoch: 366 \t loss: -51.561 \t reward: -42.694\n",
      "epoch: 367 \t loss: -14.571 \t reward: -49.205\n",
      "epoch: 368 \t loss: 15.648 \t reward: -26.128\n",
      "epoch: 369 \t loss: -61.229 \t reward: -51.335\n"
     ]
    },
    {
     "name": "stderr",
     "output_type": "stream",
     "text": [
      "100%|████████████████████████| 100/100 [00:11<00:00,  8.79it/s]\n"
     ]
    },
    {
     "name": "stdout",
     "output_type": "stream",
     "text": [
      "Best model! Average reward = -35.37\n",
      "epoch: 370 \t loss: 20.939 \t reward: -6.581\n",
      "epoch: 371 \t loss: -47.778 \t reward: -40.301\n",
      "epoch: 372 \t loss: -25.380 \t reward: -27.304\n",
      "epoch: 373 \t loss: -47.223 \t reward: -37.649\n",
      "epoch: 374 \t loss: -26.918 \t reward: -22.850\n",
      "epoch: 375 \t loss: -22.887 \t reward: -19.146\n",
      "epoch: 376 \t loss: -66.793 \t reward: -61.548\n",
      "epoch: 377 \t loss: -23.935 \t reward: -32.438\n",
      "epoch: 378 \t loss: 1.463 \t reward: -20.571\n",
      "epoch: 379 \t loss: -36.122 \t reward: -30.282\n"
     ]
    },
    {
     "name": "stderr",
     "output_type": "stream",
     "text": [
      "100%|████████████████████████| 100/100 [00:18<00:00,  5.51it/s]\n"
     ]
    },
    {
     "name": "stdout",
     "output_type": "stream",
     "text": [
      "Best model! Average reward = -31.75\n",
      "epoch: 380 \t loss: -21.632 \t reward: -17.245\n",
      "epoch: 381 \t loss: -17.584 \t reward: -19.111\n",
      "epoch: 382 \t loss: -70.000 \t reward: -31.607\n",
      "epoch: 383 \t loss: -46.785 \t reward: -27.779\n",
      "epoch: 384 \t loss: -46.777 \t reward: -37.717\n",
      "epoch: 385 \t loss: 3.432 \t reward: -14.861\n",
      "epoch: 386 \t loss: -8.861 \t reward: -25.861\n",
      "epoch: 387 \t loss: 3.225 \t reward: -26.839\n",
      "epoch: 388 \t loss: -7.897 \t reward: -8.824\n",
      "epoch: 389 \t loss: -39.253 \t reward: -30.140\n"
     ]
    },
    {
     "name": "stderr",
     "output_type": "stream",
     "text": [
      "100%|████████████████████████| 100/100 [00:17<00:00,  5.67it/s]\n"
     ]
    },
    {
     "name": "stdout",
     "output_type": "stream",
     "text": [
      "Best model! Average reward = -25.41\n",
      "epoch: 390 \t loss: -32.343 \t reward: -34.737\n",
      "epoch: 391 \t loss: -43.743 \t reward: -40.661\n",
      "epoch: 392 \t loss: -43.125 \t reward: -42.059\n",
      "epoch: 393 \t loss: -23.509 \t reward: -20.271\n",
      "epoch: 394 \t loss: 12.444 \t reward: -14.937\n",
      "epoch: 395 \t loss: -40.602 \t reward: -46.699\n",
      "epoch: 396 \t loss: -39.090 \t reward: -37.725\n",
      "epoch: 397 \t loss: -1.821 \t reward: -5.222\n",
      "epoch: 398 \t loss: 38.469 \t reward: 0.661\n",
      "epoch: 399 \t loss: -30.780 \t reward: -26.572\n"
     ]
    },
    {
     "name": "stderr",
     "output_type": "stream",
     "text": [
      "100%|████████████████████████| 100/100 [00:24<00:00,  4.11it/s]\n"
     ]
    },
    {
     "name": "stdout",
     "output_type": "stream",
     "text": [
      "Best model! Average reward = -20.99\n",
      "epoch: 400 \t loss: -7.319 \t reward: -22.909\n",
      "epoch: 401 \t loss: -17.540 \t reward: -20.460\n",
      "epoch: 402 \t loss: 55.876 \t reward: 5.523\n",
      "epoch: 403 \t loss: -6.256 \t reward: -3.507\n",
      "epoch: 404 \t loss: -42.421 \t reward: -34.122\n",
      "epoch: 405 \t loss: -27.163 \t reward: -24.736\n",
      "epoch: 406 \t loss: -51.392 \t reward: -59.273\n",
      "epoch: 407 \t loss: -33.490 \t reward: -30.231\n",
      "epoch: 408 \t loss: -74.189 \t reward: -33.443\n",
      "epoch: 409 \t loss: -32.663 \t reward: -44.604\n"
     ]
    },
    {
     "name": "stderr",
     "output_type": "stream",
     "text": [
      "100%|████████████████████████| 100/100 [00:22<00:00,  4.43it/s]\n"
     ]
    },
    {
     "name": "stdout",
     "output_type": "stream",
     "text": [
      "epoch: 410 \t loss: -8.276 \t reward: -11.888\n",
      "epoch: 411 \t loss: -32.798 \t reward: -23.568\n",
      "epoch: 412 \t loss: -41.155 \t reward: -32.304\n",
      "epoch: 413 \t loss: -45.987 \t reward: -30.504\n",
      "epoch: 414 \t loss: 43.952 \t reward: 9.174\n",
      "epoch: 415 \t loss: -16.194 \t reward: -15.808\n",
      "epoch: 416 \t loss: 4.267 \t reward: -26.611\n",
      "epoch: 417 \t loss: -2.394 \t reward: -1.352\n",
      "epoch: 418 \t loss: -22.325 \t reward: -26.195\n",
      "epoch: 419 \t loss: 16.724 \t reward: -12.186\n"
     ]
    },
    {
     "name": "stderr",
     "output_type": "stream",
     "text": [
      "100%|████████████████████████| 100/100 [00:12<00:00,  8.31it/s]\n"
     ]
    },
    {
     "name": "stdout",
     "output_type": "stream",
     "text": [
      "Best model! Average reward = -13.54\n",
      "epoch: 420 \t loss: -17.644 \t reward: -14.998\n",
      "epoch: 421 \t loss: 20.583 \t reward: -4.226\n",
      "epoch: 422 \t loss: -25.904 \t reward: -22.916\n",
      "epoch: 423 \t loss: -13.491 \t reward: -12.187\n",
      "epoch: 424 \t loss: -21.397 \t reward: -24.848\n",
      "epoch: 425 \t loss: -16.307 \t reward: -14.567\n",
      "epoch: 426 \t loss: -56.993 \t reward: -18.962\n",
      "epoch: 427 \t loss: 39.886 \t reward: 3.017\n",
      "epoch: 428 \t loss: -11.403 \t reward: -13.977\n",
      "epoch: 429 \t loss: 1.245 \t reward: -2.460\n"
     ]
    },
    {
     "name": "stderr",
     "output_type": "stream",
     "text": [
      "100%|████████████████████████| 100/100 [00:15<00:00,  6.64it/s]\n"
     ]
    },
    {
     "name": "stdout",
     "output_type": "stream",
     "text": [
      "epoch: 430 \t loss: -24.208 \t reward: -42.015\n",
      "epoch: 431 \t loss: 9.681 \t reward: -3.607\n",
      "epoch: 432 \t loss: -7.788 \t reward: -30.660\n",
      "epoch: 433 \t loss: -24.506 \t reward: -19.560\n",
      "epoch: 434 \t loss: -4.625 \t reward: -18.971\n",
      "epoch: 435 \t loss: 2.081 \t reward: 0.226\n",
      "epoch: 436 \t loss: 14.281 \t reward: -11.311\n",
      "epoch: 437 \t loss: -10.040 \t reward: -10.831\n",
      "epoch: 438 \t loss: 23.915 \t reward: -0.135\n",
      "epoch: 439 \t loss: 35.768 \t reward: 8.921\n"
     ]
    },
    {
     "name": "stderr",
     "output_type": "stream",
     "text": [
      "100%|████████████████████████| 100/100 [00:28<00:00,  3.53it/s]\n"
     ]
    },
    {
     "name": "stdout",
     "output_type": "stream",
     "text": [
      "Best model! Average reward = -12.07\n",
      "epoch: 440 \t loss: -57.559 \t reward: -33.649\n",
      "epoch: 441 \t loss: 4.331 \t reward: -27.827\n",
      "epoch: 442 \t loss: -14.166 \t reward: -12.748\n",
      "epoch: 443 \t loss: -29.763 \t reward: -21.290\n",
      "epoch: 444 \t loss: -28.197 \t reward: -29.931\n",
      "epoch: 445 \t loss: -11.500 \t reward: -11.327\n",
      "epoch: 446 \t loss: 18.547 \t reward: -6.175\n",
      "epoch: 447 \t loss: -39.963 \t reward: -57.316\n",
      "epoch: 448 \t loss: -44.048 \t reward: -22.378\n",
      "epoch: 449 \t loss: 8.447 \t reward: 2.255\n"
     ]
    },
    {
     "name": "stderr",
     "output_type": "stream",
     "text": [
      "100%|████████████████████████| 100/100 [00:28<00:00,  3.45it/s]\n"
     ]
    },
    {
     "name": "stdout",
     "output_type": "stream",
     "text": [
      "Best model! Average reward = -9.92\n",
      "epoch: 450 \t loss: 1.478 \t reward: 3.227\n",
      "epoch: 451 \t loss: -19.914 \t reward: -17.043\n",
      "epoch: 452 \t loss: -9.644 \t reward: -3.476\n",
      "epoch: 453 \t loss: -156.595 \t reward: -51.724\n",
      "epoch: 454 \t loss: -1.125 \t reward: 3.688\n",
      "epoch: 455 \t loss: 15.365 \t reward: -20.012\n",
      "epoch: 456 \t loss: -16.103 \t reward: -15.289\n",
      "epoch: 457 \t loss: 6.614 \t reward: 5.424\n",
      "epoch: 458 \t loss: -42.617 \t reward: -23.562\n",
      "epoch: 459 \t loss: 11.627 \t reward: -14.503\n"
     ]
    },
    {
     "name": "stderr",
     "output_type": "stream",
     "text": [
      "100%|████████████████████████| 100/100 [00:09<00:00, 10.49it/s]\n"
     ]
    },
    {
     "name": "stdout",
     "output_type": "stream",
     "text": [
      "epoch: 460 \t loss: -45.100 \t reward: -29.544\n",
      "epoch: 461 \t loss: -27.173 \t reward: -14.917\n",
      "epoch: 462 \t loss: 3.539 \t reward: 5.089\n",
      "epoch: 463 \t loss: -14.864 \t reward: -13.439\n",
      "epoch: 464 \t loss: -4.639 \t reward: -2.931\n",
      "epoch: 465 \t loss: -4.236 \t reward: -1.888\n",
      "epoch: 466 \t loss: 4.042 \t reward: 2.715\n",
      "epoch: 467 \t loss: 15.808 \t reward: 0.100\n",
      "epoch: 468 \t loss: 5.957 \t reward: 4.093\n",
      "epoch: 469 \t loss: 29.806 \t reward: -10.230\n"
     ]
    },
    {
     "name": "stderr",
     "output_type": "stream",
     "text": [
      "100%|████████████████████████| 100/100 [00:20<00:00,  4.83it/s]\n"
     ]
    },
    {
     "name": "stdout",
     "output_type": "stream",
     "text": [
      "Best model! Average reward = -0.51\n",
      "epoch: 470 \t loss: -3.603 \t reward: -2.482\n",
      "epoch: 471 \t loss: 9.030 \t reward: 9.137\n",
      "epoch: 472 \t loss: 20.373 \t reward: -10.313\n",
      "epoch: 473 \t loss: 3.073 \t reward: 3.580\n",
      "epoch: 474 \t loss: -36.581 \t reward: -25.891\n",
      "epoch: 475 \t loss: 21.871 \t reward: 5.041\n",
      "epoch: 476 \t loss: -7.169 \t reward: -15.088\n",
      "epoch: 477 \t loss: -5.802 \t reward: -6.298\n",
      "epoch: 478 \t loss: -12.298 \t reward: -9.304\n",
      "epoch: 479 \t loss: 31.013 \t reward: 3.575\n"
     ]
    },
    {
     "name": "stderr",
     "output_type": "stream",
     "text": [
      "100%|████████████████████████| 100/100 [00:25<00:00,  3.97it/s]\n"
     ]
    },
    {
     "name": "stdout",
     "output_type": "stream",
     "text": [
      "epoch: 480 \t loss: 17.080 \t reward: 1.300\n",
      "epoch: 481 \t loss: -4.430 \t reward: -4.285\n",
      "epoch: 482 \t loss: -5.829 \t reward: -4.311\n",
      "epoch: 483 \t loss: -35.470 \t reward: -7.708\n",
      "epoch: 484 \t loss: 59.093 \t reward: 21.885\n",
      "epoch: 485 \t loss: 0.243 \t reward: 0.294\n",
      "epoch: 486 \t loss: 2.160 \t reward: -10.691\n",
      "epoch: 487 \t loss: 3.611 \t reward: 4.121\n",
      "epoch: 488 \t loss: -11.928 \t reward: -12.594\n",
      "epoch: 489 \t loss: 18.789 \t reward: 11.470\n"
     ]
    },
    {
     "name": "stderr",
     "output_type": "stream",
     "text": [
      "100%|████████████████████████| 100/100 [00:12<00:00,  8.14it/s]\n"
     ]
    },
    {
     "name": "stdout",
     "output_type": "stream",
     "text": [
      "epoch: 490 \t loss: 16.614 \t reward: 0.304\n",
      "epoch: 491 \t loss: -3.250 \t reward: -1.606\n",
      "epoch: 492 \t loss: 66.947 \t reward: 16.975\n",
      "epoch: 493 \t loss: -8.189 \t reward: -11.547\n",
      "epoch: 494 \t loss: -0.614 \t reward: -13.996\n",
      "epoch: 495 \t loss: 5.606 \t reward: 3.814\n",
      "epoch: 496 \t loss: 8.172 \t reward: -2.558\n",
      "epoch: 497 \t loss: 16.127 \t reward: 4.444\n",
      "epoch: 498 \t loss: 16.689 \t reward: -0.469\n",
      "epoch: 499 \t loss: -19.266 \t reward: -10.402\n"
     ]
    },
    {
     "name": "stderr",
     "output_type": "stream",
     "text": [
      "100%|████████████████████████| 100/100 [00:28<00:00,  3.55it/s]\n"
     ]
    },
    {
     "name": "stdout",
     "output_type": "stream",
     "text": [
      "epoch: 500 \t loss: 30.263 \t reward: 7.365\n",
      "epoch: 501 \t loss: 38.292 \t reward: 11.173\n",
      "epoch: 502 \t loss: 49.137 \t reward: 17.597\n",
      "epoch: 503 \t loss: -10.160 \t reward: -8.087\n",
      "epoch: 504 \t loss: 0.757 \t reward: 0.886\n",
      "epoch: 505 \t loss: 31.455 \t reward: 6.379\n",
      "epoch: 506 \t loss: 8.549 \t reward: 8.991\n",
      "epoch: 507 \t loss: -75.479 \t reward: -10.443\n",
      "epoch: 508 \t loss: 12.249 \t reward: -12.560\n",
      "epoch: 509 \t loss: -13.175 \t reward: -12.237\n"
     ]
    },
    {
     "name": "stderr",
     "output_type": "stream",
     "text": [
      "100%|████████████████████████| 100/100 [00:22<00:00,  4.41it/s]\n"
     ]
    },
    {
     "name": "stdout",
     "output_type": "stream",
     "text": [
      "Best model! Average reward = 4.02\n",
      "epoch: 510 \t loss: 3.764 \t reward: 2.395\n",
      "epoch: 511 \t loss: 17.200 \t reward: 13.590\n",
      "epoch: 512 \t loss: 57.280 \t reward: 14.063\n",
      "epoch: 513 \t loss: 35.436 \t reward: -5.780\n",
      "epoch: 514 \t loss: 3.299 \t reward: 3.542\n",
      "epoch: 515 \t loss: 9.228 \t reward: 6.226\n",
      "epoch: 516 \t loss: -3.087 \t reward: -1.647\n",
      "epoch: 517 \t loss: -44.564 \t reward: -11.286\n",
      "epoch: 518 \t loss: 4.514 \t reward: 5.697\n",
      "epoch: 519 \t loss: 24.715 \t reward: 13.647\n"
     ]
    },
    {
     "name": "stderr",
     "output_type": "stream",
     "text": [
      "100%|████████████████████████| 100/100 [00:06<00:00, 15.56it/s]\n"
     ]
    },
    {
     "name": "stdout",
     "output_type": "stream",
     "text": [
      "epoch: 520 \t loss: 5.898 \t reward: 6.321\n",
      "epoch: 521 \t loss: 1.374 \t reward: -1.219\n",
      "epoch: 522 \t loss: -3.804 \t reward: -5.724\n",
      "epoch: 523 \t loss: 37.929 \t reward: 9.764\n",
      "epoch: 524 \t loss: 47.015 \t reward: 4.141\n",
      "epoch: 525 \t loss: 41.306 \t reward: 3.439\n",
      "epoch: 526 \t loss: -4.263 \t reward: -2.478\n",
      "epoch: 527 \t loss: 15.062 \t reward: 13.992\n",
      "epoch: 528 \t loss: -5.837 \t reward: 5.840\n",
      "epoch: 529 \t loss: 10.241 \t reward: 10.893\n"
     ]
    },
    {
     "name": "stderr",
     "output_type": "stream",
     "text": [
      "100%|████████████████████████| 100/100 [00:10<00:00,  9.69it/s]\n"
     ]
    },
    {
     "name": "stdout",
     "output_type": "stream",
     "text": [
      "Best model! Average reward = 8.60\n",
      "epoch: 530 \t loss: 16.963 \t reward: 14.794\n",
      "epoch: 531 \t loss: 62.676 \t reward: 18.163\n",
      "epoch: 532 \t loss: 9.950 \t reward: 12.225\n",
      "epoch: 533 \t loss: 17.851 \t reward: 2.561\n",
      "epoch: 534 \t loss: -49.561 \t reward: -24.593\n",
      "epoch: 535 \t loss: 5.788 \t reward: 5.760\n",
      "epoch: 536 \t loss: -0.085 \t reward: -1.211\n",
      "epoch: 537 \t loss: -7.584 \t reward: -3.783\n",
      "epoch: 538 \t loss: 9.027 \t reward: 8.771\n",
      "epoch: 539 \t loss: 19.575 \t reward: 18.577\n"
     ]
    },
    {
     "name": "stderr",
     "output_type": "stream",
     "text": [
      "100%|████████████████████████| 100/100 [00:10<00:00,  9.37it/s]\n"
     ]
    },
    {
     "name": "stdout",
     "output_type": "stream",
     "text": [
      "Best model! Average reward = 11.12\n",
      "epoch: 540 \t loss: 21.060 \t reward: 19.837\n",
      "epoch: 541 \t loss: -0.058 \t reward: -2.179\n",
      "epoch: 542 \t loss: -4.475 \t reward: -4.124\n",
      "epoch: 543 \t loss: 4.093 \t reward: 12.631\n",
      "epoch: 544 \t loss: 7.866 \t reward: 8.160\n",
      "epoch: 545 \t loss: 4.593 \t reward: 2.787\n",
      "epoch: 546 \t loss: 22.231 \t reward: 6.100\n",
      "epoch: 547 \t loss: 4.774 \t reward: 2.287\n",
      "epoch: 548 \t loss: 8.356 \t reward: 7.545\n",
      "epoch: 549 \t loss: 9.116 \t reward: 8.234\n"
     ]
    },
    {
     "name": "stderr",
     "output_type": "stream",
     "text": [
      "100%|████████████████████████| 100/100 [00:06<00:00, 16.63it/s]\n"
     ]
    },
    {
     "name": "stdout",
     "output_type": "stream",
     "text": [
      "epoch: 550 \t loss: 3.881 \t reward: 3.468\n",
      "epoch: 551 \t loss: 31.243 \t reward: 10.657\n",
      "epoch: 552 \t loss: 20.279 \t reward: 20.700\n",
      "epoch: 553 \t loss: 18.645 \t reward: 16.792\n",
      "epoch: 554 \t loss: 4.673 \t reward: 3.461\n",
      "epoch: 555 \t loss: 13.733 \t reward: 12.719\n",
      "epoch: 556 \t loss: 10.829 \t reward: 5.075\n",
      "epoch: 557 \t loss: 9.486 \t reward: 9.204\n",
      "epoch: 558 \t loss: -1.370 \t reward: -3.899\n",
      "epoch: 559 \t loss: 7.501 \t reward: 7.555\n"
     ]
    },
    {
     "name": "stderr",
     "output_type": "stream",
     "text": [
      "100%|████████████████████████| 100/100 [00:15<00:00,  6.27it/s]\n"
     ]
    },
    {
     "name": "stdout",
     "output_type": "stream",
     "text": [
      "epoch: 560 \t loss: -0.923 \t reward: 0.275\n",
      "epoch: 561 \t loss: 16.133 \t reward: 14.898\n",
      "epoch: 562 \t loss: 18.980 \t reward: 14.003\n",
      "epoch: 563 \t loss: 19.616 \t reward: 9.996\n",
      "epoch: 564 \t loss: 7.355 \t reward: 8.239\n",
      "epoch: 565 \t loss: -42.266 \t reward: -6.584\n",
      "epoch: 566 \t loss: -25.629 \t reward: -2.851\n",
      "epoch: 567 \t loss: 17.212 \t reward: 15.039\n",
      "epoch: 568 \t loss: 13.940 \t reward: 13.228\n",
      "epoch: 569 \t loss: 61.142 \t reward: 23.402\n"
     ]
    },
    {
     "name": "stderr",
     "output_type": "stream",
     "text": [
      "100%|████████████████████████| 100/100 [00:14<00:00,  7.10it/s]\n"
     ]
    },
    {
     "name": "stdout",
     "output_type": "stream",
     "text": [
      "epoch: 570 \t loss: 28.024 \t reward: 27.605\n",
      "epoch: 571 \t loss: -3.922 \t reward: -1.266\n",
      "epoch: 572 \t loss: 53.088 \t reward: 30.155\n",
      "epoch: 573 \t loss: 55.779 \t reward: 40.343\n",
      "epoch: 574 \t loss: 5.180 \t reward: 10.309\n",
      "epoch: 575 \t loss: 20.551 \t reward: 12.189\n",
      "epoch: 576 \t loss: 12.248 \t reward: 12.813\n",
      "epoch: 577 \t loss: 38.250 \t reward: 27.574\n",
      "epoch: 578 \t loss: 4.722 \t reward: 10.417\n",
      "epoch: 579 \t loss: 4.213 \t reward: 3.755\n"
     ]
    },
    {
     "name": "stderr",
     "output_type": "stream",
     "text": [
      "100%|████████████████████████| 100/100 [00:11<00:00,  8.91it/s]\n"
     ]
    },
    {
     "name": "stdout",
     "output_type": "stream",
     "text": [
      "Best model! Average reward = 16.85\n",
      "epoch: 580 \t loss: 11.915 \t reward: 12.008\n",
      "epoch: 581 \t loss: 14.576 \t reward: 12.621\n",
      "epoch: 582 \t loss: -4.866 \t reward: 5.602\n",
      "epoch: 583 \t loss: -20.624 \t reward: 0.015\n",
      "epoch: 584 \t loss: 22.029 \t reward: 24.122\n",
      "epoch: 585 \t loss: -10.627 \t reward: -6.503\n",
      "epoch: 586 \t loss: -17.589 \t reward: 3.290\n",
      "epoch: 587 \t loss: 21.817 \t reward: 24.016\n",
      "epoch: 588 \t loss: -4.817 \t reward: 0.235\n",
      "epoch: 589 \t loss: 6.920 \t reward: 7.849\n"
     ]
    },
    {
     "name": "stderr",
     "output_type": "stream",
     "text": [
      "100%|████████████████████████| 100/100 [00:13<00:00,  7.45it/s]\n"
     ]
    },
    {
     "name": "stdout",
     "output_type": "stream",
     "text": [
      "Best model! Average reward = 19.14\n",
      "epoch: 590 \t loss: -12.210 \t reward: 4.337\n",
      "epoch: 591 \t loss: 36.443 \t reward: 25.190\n",
      "epoch: 592 \t loss: 15.135 \t reward: 7.968\n",
      "epoch: 593 \t loss: 16.809 \t reward: 16.314\n",
      "epoch: 594 \t loss: 50.556 \t reward: 36.985\n",
      "epoch: 595 \t loss: 17.058 \t reward: 14.745\n",
      "epoch: 596 \t loss: 3.671 \t reward: 4.539\n",
      "epoch: 597 \t loss: 1.461 \t reward: 13.420\n",
      "epoch: 598 \t loss: 31.046 \t reward: 11.353\n",
      "epoch: 599 \t loss: 5.718 \t reward: 4.593\n"
     ]
    },
    {
     "name": "stderr",
     "output_type": "stream",
     "text": [
      "100%|████████████████████████| 100/100 [00:10<00:00,  9.93it/s]\n"
     ]
    },
    {
     "name": "stdout",
     "output_type": "stream",
     "text": [
      "epoch: 600 \t loss: 13.500 \t reward: 12.618\n",
      "epoch: 601 \t loss: 15.279 \t reward: 16.143\n",
      "epoch: 602 \t loss: 16.048 \t reward: 15.804\n",
      "epoch: 603 \t loss: 19.693 \t reward: 12.926\n",
      "epoch: 604 \t loss: 13.447 \t reward: 11.329\n",
      "epoch: 605 \t loss: 9.977 \t reward: 10.902\n",
      "epoch: 606 \t loss: 22.442 \t reward: 21.663\n",
      "epoch: 607 \t loss: 15.565 \t reward: 13.705\n",
      "epoch: 608 \t loss: 46.431 \t reward: 40.351\n",
      "epoch: 609 \t loss: 54.163 \t reward: 44.754\n"
     ]
    },
    {
     "name": "stderr",
     "output_type": "stream",
     "text": [
      "100%|████████████████████████| 100/100 [00:07<00:00, 13.03it/s]\n"
     ]
    },
    {
     "name": "stdout",
     "output_type": "stream",
     "text": [
      "epoch: 610 \t loss: 60.186 \t reward: 34.314\n",
      "epoch: 611 \t loss: 11.470 \t reward: 11.342\n",
      "epoch: 612 \t loss: 48.258 \t reward: 25.317\n",
      "epoch: 613 \t loss: 33.813 \t reward: 26.126\n",
      "epoch: 614 \t loss: 16.906 \t reward: 14.954\n",
      "epoch: 615 \t loss: -26.209 \t reward: 0.952\n",
      "epoch: 616 \t loss: 35.725 \t reward: 24.483\n",
      "epoch: 617 \t loss: 63.329 \t reward: 35.297\n",
      "epoch: 618 \t loss: 59.306 \t reward: 34.501\n",
      "epoch: 619 \t loss: 42.942 \t reward: 35.412\n"
     ]
    },
    {
     "name": "stderr",
     "output_type": "stream",
     "text": [
      "100%|████████████████████████| 100/100 [00:28<00:00,  3.52it/s]\n"
     ]
    },
    {
     "name": "stdout",
     "output_type": "stream",
     "text": [
      "Best model! Average reward = 28.49\n",
      "epoch: 620 \t loss: 73.176 \t reward: 50.017\n",
      "epoch: 621 \t loss: -13.448 \t reward: 6.083\n",
      "epoch: 622 \t loss: 27.177 \t reward: 3.138\n",
      "epoch: 623 \t loss: 31.606 \t reward: 28.464\n",
      "epoch: 624 \t loss: 58.658 \t reward: 48.317\n",
      "epoch: 625 \t loss: 4.796 \t reward: 11.573\n",
      "epoch: 626 \t loss: 36.235 \t reward: 12.636\n",
      "epoch: 627 \t loss: -61.161 \t reward: -20.252\n",
      "epoch: 628 \t loss: -16.319 \t reward: -10.289\n",
      "epoch: 629 \t loss: 14.047 \t reward: -2.874\n"
     ]
    },
    {
     "name": "stderr",
     "output_type": "stream",
     "text": [
      "100%|████████████████████████| 100/100 [00:40<00:00,  2.48it/s]\n"
     ]
    },
    {
     "name": "stdout",
     "output_type": "stream",
     "text": [
      "epoch: 630 \t loss: -4.894 \t reward: -10.411\n",
      "epoch: 631 \t loss: 11.062 \t reward: 3.156\n",
      "epoch: 632 \t loss: -85.964 \t reward: -47.902\n",
      "epoch: 633 \t loss: -35.112 \t reward: -35.588\n",
      "epoch: 634 \t loss: -99.436 \t reward: -131.061\n",
      "epoch: 635 \t loss: -0.063 \t reward: -6.504\n",
      "epoch: 636 \t loss: 35.590 \t reward: 30.935\n",
      "epoch: 637 \t loss: 20.216 \t reward: 6.665\n",
      "epoch: 638 \t loss: 17.069 \t reward: 17.664\n",
      "epoch: 639 \t loss: -26.785 \t reward: -16.311\n"
     ]
    },
    {
     "name": "stderr",
     "output_type": "stream",
     "text": [
      "100%|████████████████████████| 100/100 [00:50<00:00,  1.99it/s]\n"
     ]
    },
    {
     "name": "stdout",
     "output_type": "stream",
     "text": [
      "epoch: 640 \t loss: 42.896 \t reward: 44.908\n",
      "epoch: 641 \t loss: 14.457 \t reward: -26.658\n",
      "epoch: 642 \t loss: 29.436 \t reward: 26.601\n",
      "epoch: 643 \t loss: 52.430 \t reward: 39.294\n",
      "epoch: 644 \t loss: 98.564 \t reward: 82.568\n",
      "epoch: 645 \t loss: 40.655 \t reward: 24.593\n",
      "epoch: 646 \t loss: 46.421 \t reward: 20.502\n",
      "epoch: 647 \t loss: 28.899 \t reward: 24.283\n",
      "epoch: 648 \t loss: 1.157 \t reward: 4.374\n",
      "epoch: 649 \t loss: -6.209 \t reward: 12.234\n"
     ]
    },
    {
     "name": "stderr",
     "output_type": "stream",
     "text": [
      "100%|████████████████████████| 100/100 [00:21<00:00,  4.71it/s]\n"
     ]
    },
    {
     "name": "stdout",
     "output_type": "stream",
     "text": [
      "epoch: 650 \t loss: 11.918 \t reward: 18.497\n",
      "epoch: 651 \t loss: 20.962 \t reward: 19.737\n",
      "epoch: 652 \t loss: 11.633 \t reward: 12.527\n",
      "epoch: 653 \t loss: 17.848 \t reward: 18.590\n",
      "epoch: 654 \t loss: -27.587 \t reward: -2.167\n",
      "epoch: 655 \t loss: -26.742 \t reward: 3.055\n",
      "epoch: 656 \t loss: -17.518 \t reward: 3.622\n",
      "epoch: 657 \t loss: 66.098 \t reward: 42.621\n",
      "epoch: 658 \t loss: -18.198 \t reward: -2.481\n",
      "epoch: 659 \t loss: 42.791 \t reward: 33.317\n"
     ]
    },
    {
     "name": "stderr",
     "output_type": "stream",
     "text": [
      "100%|████████████████████████| 100/100 [00:15<00:00,  6.42it/s]\n"
     ]
    },
    {
     "name": "stdout",
     "output_type": "stream",
     "text": [
      "epoch: 660 \t loss: 12.489 \t reward: 14.054\n",
      "epoch: 661 \t loss: 61.524 \t reward: 24.703\n",
      "epoch: 662 \t loss: 78.207 \t reward: 64.006\n",
      "epoch: 663 \t loss: 23.428 \t reward: 17.740\n",
      "epoch: 664 \t loss: 11.843 \t reward: 10.535\n",
      "epoch: 665 \t loss: -4.951 \t reward: 1.769\n",
      "epoch: 666 \t loss: 50.091 \t reward: 40.556\n",
      "epoch: 667 \t loss: 9.007 \t reward: 10.001\n",
      "epoch: 668 \t loss: 67.197 \t reward: 43.025\n",
      "epoch: 669 \t loss: 70.237 \t reward: 45.691\n"
     ]
    },
    {
     "name": "stderr",
     "output_type": "stream",
     "text": [
      "100%|████████████████████████| 100/100 [00:08<00:00, 11.87it/s]\n"
     ]
    },
    {
     "name": "stdout",
     "output_type": "stream",
     "text": [
      "epoch: 670 \t loss: 10.759 \t reward: 13.246\n",
      "epoch: 671 \t loss: 3.172 \t reward: 8.201\n",
      "epoch: 672 \t loss: -31.851 \t reward: -14.218\n",
      "epoch: 673 \t loss: 39.396 \t reward: 33.599\n",
      "epoch: 674 \t loss: 22.765 \t reward: 7.662\n",
      "epoch: 675 \t loss: 43.085 \t reward: 32.358\n",
      "epoch: 676 \t loss: 1.203 \t reward: 8.927\n",
      "epoch: 677 \t loss: 21.798 \t reward: 10.283\n",
      "epoch: 678 \t loss: 35.305 \t reward: 19.352\n",
      "epoch: 679 \t loss: 21.508 \t reward: 21.745\n"
     ]
    },
    {
     "name": "stderr",
     "output_type": "stream",
     "text": [
      "100%|████████████████████████| 100/100 [00:10<00:00,  9.56it/s]\n"
     ]
    },
    {
     "name": "stdout",
     "output_type": "stream",
     "text": [
      "Best model! Average reward = 29.90\n",
      "epoch: 680 \t loss: 36.234 \t reward: 22.282\n",
      "epoch: 681 \t loss: 57.052 \t reward: 47.613\n",
      "epoch: 682 \t loss: -8.671 \t reward: -12.270\n",
      "epoch: 683 \t loss: -8.429 \t reward: -1.844\n",
      "epoch: 684 \t loss: -64.660 \t reward: -16.598\n",
      "epoch: 685 \t loss: 28.860 \t reward: 18.180\n",
      "epoch: 686 \t loss: 38.124 \t reward: 28.224\n",
      "epoch: 687 \t loss: 57.296 \t reward: 23.386\n",
      "epoch: 688 \t loss: 24.832 \t reward: 9.142\n",
      "epoch: 689 \t loss: 61.169 \t reward: 22.811\n"
     ]
    },
    {
     "name": "stderr",
     "output_type": "stream",
     "text": [
      "100%|████████████████████████| 100/100 [00:20<00:00,  4.86it/s]\n"
     ]
    },
    {
     "name": "stdout",
     "output_type": "stream",
     "text": [
      "epoch: 690 \t loss: 54.099 \t reward: 34.479\n",
      "epoch: 691 \t loss: 72.695 \t reward: 41.428\n",
      "epoch: 692 \t loss: 64.455 \t reward: 39.403\n",
      "epoch: 693 \t loss: 30.171 \t reward: 14.571\n",
      "epoch: 694 \t loss: 20.296 \t reward: 0.603\n",
      "epoch: 695 \t loss: 25.103 \t reward: 11.006\n",
      "epoch: 696 \t loss: -33.835 \t reward: -15.923\n",
      "epoch: 697 \t loss: 49.757 \t reward: 43.430\n",
      "epoch: 698 \t loss: -20.124 \t reward: 2.326\n",
      "epoch: 699 \t loss: 11.714 \t reward: 15.268\n"
     ]
    },
    {
     "name": "stderr",
     "output_type": "stream",
     "text": [
      "100%|████████████████████████| 100/100 [00:27<00:00,  3.69it/s]\n"
     ]
    },
    {
     "name": "stdout",
     "output_type": "stream",
     "text": [
      "Best model! Average reward = 33.33\n",
      "epoch: 700 \t loss: -4.090 \t reward: 17.377\n",
      "epoch: 701 \t loss: 7.488 \t reward: 4.305\n",
      "epoch: 702 \t loss: 32.310 \t reward: 18.101\n",
      "epoch: 703 \t loss: 56.352 \t reward: 41.236\n",
      "epoch: 704 \t loss: 57.045 \t reward: 49.522\n",
      "epoch: 705 \t loss: 67.393 \t reward: 46.963\n",
      "epoch: 706 \t loss: 58.835 \t reward: 45.073\n",
      "epoch: 707 \t loss: 11.138 \t reward: 32.727\n",
      "epoch: 708 \t loss: 115.387 \t reward: 67.609\n",
      "epoch: 709 \t loss: 56.240 \t reward: 42.481\n"
     ]
    },
    {
     "name": "stderr",
     "output_type": "stream",
     "text": [
      "100%|████████████████████████| 100/100 [00:26<00:00,  3.77it/s]\n"
     ]
    },
    {
     "name": "stdout",
     "output_type": "stream",
     "text": [
      "epoch: 710 \t loss: 27.127 \t reward: 19.880\n",
      "epoch: 711 \t loss: 39.894 \t reward: 26.772\n",
      "epoch: 712 \t loss: 25.417 \t reward: 15.871\n",
      "epoch: 713 \t loss: 36.848 \t reward: 34.445\n",
      "epoch: 714 \t loss: 34.676 \t reward: 23.454\n",
      "epoch: 715 \t loss: 74.668 \t reward: 62.166\n",
      "epoch: 716 \t loss: 16.544 \t reward: 17.149\n",
      "epoch: 717 \t loss: 29.418 \t reward: 24.579\n",
      "epoch: 718 \t loss: 38.700 \t reward: 28.215\n",
      "epoch: 719 \t loss: 22.343 \t reward: 25.487\n"
     ]
    },
    {
     "name": "stderr",
     "output_type": "stream",
     "text": [
      "100%|████████████████████████| 100/100 [00:17<00:00,  5.82it/s]\n"
     ]
    },
    {
     "name": "stdout",
     "output_type": "stream",
     "text": [
      "epoch: 720 \t loss: 14.195 \t reward: 32.610\n",
      "epoch: 721 \t loss: 65.878 \t reward: 37.187\n",
      "epoch: 722 \t loss: 26.799 \t reward: 48.138\n",
      "epoch: 723 \t loss: 79.268 \t reward: 47.467\n",
      "epoch: 724 \t loss: 121.568 \t reward: 76.414\n",
      "epoch: 725 \t loss: -32.050 \t reward: -7.849\n",
      "epoch: 726 \t loss: 75.138 \t reward: 53.318\n",
      "epoch: 727 \t loss: 122.481 \t reward: 90.363\n",
      "epoch: 728 \t loss: 108.890 \t reward: 79.179\n",
      "epoch: 729 \t loss: 62.013 \t reward: 47.469\n"
     ]
    },
    {
     "name": "stderr",
     "output_type": "stream",
     "text": [
      "100%|████████████████████████| 100/100 [00:20<00:00,  4.85it/s]\n"
     ]
    },
    {
     "name": "stdout",
     "output_type": "stream",
     "text": [
      "Best model! Average reward = 43.07\n",
      "epoch: 730 \t loss: -18.135 \t reward: 7.540\n",
      "epoch: 731 \t loss: -21.131 \t reward: 3.984\n",
      "epoch: 732 \t loss: 61.500 \t reward: 55.723\n",
      "epoch: 733 \t loss: 56.618 \t reward: 39.587\n",
      "epoch: 734 \t loss: 36.612 \t reward: 53.050\n",
      "epoch: 735 \t loss: 73.458 \t reward: 102.114\n",
      "epoch: 736 \t loss: 6.206 \t reward: 18.760\n",
      "epoch: 737 \t loss: 42.321 \t reward: 30.878\n",
      "epoch: 738 \t loss: 55.135 \t reward: 49.127\n",
      "epoch: 739 \t loss: 14.822 \t reward: 16.964\n"
     ]
    },
    {
     "name": "stderr",
     "output_type": "stream",
     "text": [
      "100%|████████████████████████| 100/100 [01:25<00:00,  1.17it/s]\n"
     ]
    },
    {
     "name": "stdout",
     "output_type": "stream",
     "text": [
      "epoch: 740 \t loss: 5.477 \t reward: -2.593\n",
      "epoch: 741 \t loss: -49.063 \t reward: -77.215\n",
      "epoch: 742 \t loss: 16.621 \t reward: -0.284\n",
      "epoch: 743 \t loss: 104.390 \t reward: 62.594\n",
      "epoch: 744 \t loss: 43.204 \t reward: 19.103\n",
      "epoch: 745 \t loss: 15.682 \t reward: 23.507\n",
      "epoch: 746 \t loss: 18.534 \t reward: 7.666\n",
      "epoch: 747 \t loss: -22.030 \t reward: -33.124\n",
      "epoch: 748 \t loss: 25.120 \t reward: 20.906\n",
      "epoch: 749 \t loss: 48.118 \t reward: 61.082\n"
     ]
    },
    {
     "name": "stderr",
     "output_type": "stream",
     "text": [
      "100%|████████████████████████| 100/100 [01:39<00:00,  1.01it/s]\n"
     ]
    },
    {
     "name": "stdout",
     "output_type": "stream",
     "text": [
      "epoch: 750 \t loss: -110.623 \t reward: -84.211\n",
      "epoch: 751 \t loss: 35.902 \t reward: 33.861\n",
      "epoch: 752 \t loss: -112.819 \t reward: -119.922\n",
      "epoch: 753 \t loss: 46.853 \t reward: 69.863\n",
      "epoch: 754 \t loss: 43.338 \t reward: 53.837\n",
      "epoch: 755 \t loss: 122.486 \t reward: 131.816\n",
      "epoch: 756 \t loss: 151.647 \t reward: 187.765\n",
      "epoch: 757 \t loss: 41.726 \t reward: 35.568\n",
      "epoch: 758 \t loss: -122.112 \t reward: -159.781\n",
      "epoch: 759 \t loss: 59.803 \t reward: 62.563\n"
     ]
    },
    {
     "name": "stderr",
     "output_type": "stream",
     "text": [
      "100%|████████████████████████| 100/100 [01:12<00:00,  1.37it/s]\n"
     ]
    },
    {
     "name": "stdout",
     "output_type": "stream",
     "text": [
      "Best model! Average reward = 85.31\n",
      "epoch: 760 \t loss: 70.247 \t reward: 46.173\n",
      "epoch: 761 \t loss: -19.369 \t reward: -16.746\n",
      "epoch: 762 \t loss: 76.448 \t reward: 105.023\n",
      "epoch: 763 \t loss: 79.617 \t reward: 64.780\n",
      "epoch: 764 \t loss: 74.846 \t reward: 58.800\n",
      "epoch: 765 \t loss: -10.642 \t reward: -4.934\n",
      "epoch: 766 \t loss: 4.927 \t reward: 5.957\n",
      "epoch: 767 \t loss: 59.651 \t reward: 20.390\n",
      "epoch: 768 \t loss: 39.060 \t reward: 20.201\n",
      "epoch: 769 \t loss: 95.181 \t reward: 42.435\n"
     ]
    },
    {
     "name": "stderr",
     "output_type": "stream",
     "text": [
      "100%|████████████████████████| 100/100 [00:32<00:00,  3.10it/s]\n"
     ]
    },
    {
     "name": "stdout",
     "output_type": "stream",
     "text": [
      "epoch: 770 \t loss: 103.687 \t reward: 90.553\n",
      "epoch: 771 \t loss: 48.541 \t reward: 35.538\n",
      "epoch: 772 \t loss: 20.469 \t reward: 20.839\n",
      "epoch: 773 \t loss: 49.991 \t reward: 44.237\n",
      "epoch: 774 \t loss: 59.370 \t reward: 46.008\n",
      "epoch: 775 \t loss: 17.051 \t reward: 16.087\n",
      "epoch: 776 \t loss: 87.942 \t reward: 71.347\n",
      "epoch: 777 \t loss: 38.376 \t reward: 34.933\n",
      "epoch: 778 \t loss: 45.851 \t reward: 34.910\n",
      "epoch: 779 \t loss: 29.157 \t reward: 30.211\n"
     ]
    },
    {
     "name": "stderr",
     "output_type": "stream",
     "text": [
      "100%|████████████████████████| 100/100 [00:11<00:00,  8.93it/s]\n"
     ]
    },
    {
     "name": "stdout",
     "output_type": "stream",
     "text": [
      "epoch: 780 \t loss: -34.551 \t reward: -11.077\n",
      "epoch: 781 \t loss: 27.112 \t reward: 27.862\n",
      "epoch: 782 \t loss: 15.962 \t reward: 17.254\n",
      "epoch: 783 \t loss: 42.149 \t reward: 40.170\n",
      "epoch: 784 \t loss: 40.842 \t reward: 41.677\n",
      "epoch: 785 \t loss: 43.489 \t reward: 41.661\n",
      "epoch: 786 \t loss: 70.936 \t reward: 67.646\n",
      "epoch: 787 \t loss: 35.023 \t reward: 41.657\n",
      "epoch: 788 \t loss: 31.781 \t reward: 26.792\n",
      "epoch: 789 \t loss: -35.726 \t reward: -8.242\n"
     ]
    },
    {
     "name": "stderr",
     "output_type": "stream",
     "text": [
      "100%|████████████████████████| 100/100 [00:11<00:00,  9.03it/s]\n"
     ]
    },
    {
     "name": "stdout",
     "output_type": "stream",
     "text": [
      "epoch: 790 \t loss: 55.693 \t reward: 57.001\n",
      "epoch: 791 \t loss: 37.755 \t reward: 40.311\n",
      "epoch: 792 \t loss: 11.526 \t reward: 13.190\n",
      "epoch: 793 \t loss: 57.604 \t reward: 62.287\n",
      "epoch: 794 \t loss: 25.745 \t reward: 27.411\n",
      "epoch: 795 \t loss: 19.121 \t reward: 22.484\n",
      "epoch: 796 \t loss: 36.464 \t reward: 33.556\n",
      "epoch: 797 \t loss: 50.967 \t reward: 60.741\n",
      "epoch: 798 \t loss: 44.779 \t reward: 47.119\n",
      "epoch: 799 \t loss: 15.474 \t reward: 17.318\n"
     ]
    },
    {
     "name": "stderr",
     "output_type": "stream",
     "text": [
      "100%|████████████████████████| 100/100 [00:17<00:00,  5.79it/s]\n"
     ]
    },
    {
     "name": "stdout",
     "output_type": "stream",
     "text": [
      "epoch: 800 \t loss: 33.108 \t reward: 50.112\n",
      "epoch: 801 \t loss: 60.141 \t reward: 72.095\n",
      "epoch: 802 \t loss: 3.042 \t reward: 17.968\n",
      "epoch: 803 \t loss: -5.306 \t reward: 13.535\n",
      "epoch: 804 \t loss: -0.651 \t reward: 14.056\n",
      "epoch: 805 \t loss: 69.436 \t reward: 74.662\n",
      "epoch: 806 \t loss: 50.528 \t reward: 51.745\n",
      "epoch: 807 \t loss: 51.261 \t reward: 48.595\n",
      "epoch: 808 \t loss: 44.103 \t reward: 35.539\n",
      "epoch: 809 \t loss: 65.100 \t reward: 69.154\n"
     ]
    },
    {
     "name": "stderr",
     "output_type": "stream",
     "text": [
      "100%|████████████████████████| 100/100 [00:13<00:00,  7.22it/s]\n"
     ]
    },
    {
     "name": "stdout",
     "output_type": "stream",
     "text": [
      "epoch: 810 \t loss: 18.089 \t reward: 35.927\n",
      "epoch: 811 \t loss: -41.554 \t reward: -34.031\n",
      "epoch: 812 \t loss: 82.004 \t reward: 95.066\n",
      "epoch: 813 \t loss: 93.532 \t reward: 103.021\n",
      "epoch: 814 \t loss: 31.649 \t reward: 42.792\n",
      "epoch: 815 \t loss: -5.472 \t reward: -0.755\n",
      "epoch: 816 \t loss: 24.641 \t reward: 52.616\n",
      "epoch: 817 \t loss: -16.500 \t reward: 12.139\n",
      "epoch: 818 \t loss: -3.785 \t reward: 10.699\n",
      "epoch: 819 \t loss: 74.974 \t reward: 103.058\n"
     ]
    },
    {
     "name": "stderr",
     "output_type": "stream",
     "text": [
      "100%|████████████████████████| 100/100 [00:25<00:00,  3.86it/s]\n"
     ]
    },
    {
     "name": "stdout",
     "output_type": "stream",
     "text": [
      "epoch: 820 \t loss: 90.838 \t reward: 109.260\n",
      "epoch: 821 \t loss: 61.704 \t reward: 83.115\n",
      "epoch: 822 \t loss: 26.193 \t reward: 62.183\n",
      "epoch: 823 \t loss: -35.894 \t reward: -36.661\n",
      "epoch: 824 \t loss: 15.777 \t reward: 3.094\n",
      "epoch: 825 \t loss: -19.206 \t reward: -6.640\n",
      "epoch: 826 \t loss: 24.756 \t reward: 64.597\n",
      "epoch: 827 \t loss: -28.422 \t reward: -35.884\n",
      "epoch: 828 \t loss: 66.711 \t reward: 117.772\n",
      "epoch: 829 \t loss: 7.159 \t reward: 31.339\n"
     ]
    },
    {
     "name": "stderr",
     "output_type": "stream",
     "text": [
      "100%|████████████████████████| 100/100 [00:31<00:00,  3.19it/s]\n"
     ]
    },
    {
     "name": "stdout",
     "output_type": "stream",
     "text": [
      "epoch: 830 \t loss: -38.699 \t reward: -41.578\n",
      "epoch: 831 \t loss: -126.836 \t reward: -131.578\n",
      "epoch: 832 \t loss: -32.522 \t reward: -22.436\n",
      "epoch: 833 \t loss: 24.596 \t reward: 35.456\n",
      "epoch: 834 \t loss: -24.862 \t reward: -18.620\n",
      "epoch: 835 \t loss: -18.678 \t reward: -21.194\n",
      "epoch: 836 \t loss: -33.650 \t reward: -17.779\n",
      "epoch: 837 \t loss: 11.018 \t reward: 16.165\n",
      "epoch: 838 \t loss: 10.866 \t reward: 43.231\n",
      "epoch: 839 \t loss: -115.607 \t reward: -139.758\n"
     ]
    },
    {
     "name": "stderr",
     "output_type": "stream",
     "text": [
      "100%|████████████████████████| 100/100 [00:47<00:00,  2.12it/s]\n"
     ]
    },
    {
     "name": "stdout",
     "output_type": "stream",
     "text": [
      "epoch: 840 \t loss: -24.809 \t reward: -19.464\n",
      "epoch: 841 \t loss: -63.225 \t reward: -69.933\n",
      "epoch: 842 \t loss: 16.126 \t reward: 40.755\n",
      "epoch: 843 \t loss: 32.915 \t reward: 45.364\n",
      "epoch: 844 \t loss: 115.225 \t reward: 150.272\n",
      "epoch: 845 \t loss: 35.865 \t reward: 36.413\n",
      "epoch: 846 \t loss: 16.340 \t reward: -4.737\n",
      "epoch: 847 \t loss: 111.776 \t reward: 142.179\n",
      "epoch: 848 \t loss: -84.988 \t reward: -81.912\n",
      "epoch: 849 \t loss: 69.821 \t reward: 54.351\n"
     ]
    },
    {
     "name": "stderr",
     "output_type": "stream",
     "text": [
      "100%|████████████████████████| 100/100 [01:09<00:00,  1.44it/s]\n"
     ]
    },
    {
     "name": "stdout",
     "output_type": "stream",
     "text": [
      "epoch: 850 \t loss: 92.274 \t reward: 71.004\n",
      "epoch: 851 \t loss: 166.453 \t reward: 203.060\n",
      "epoch: 852 \t loss: 94.838 \t reward: 106.863\n",
      "epoch: 853 \t loss: 54.938 \t reward: 82.623\n",
      "epoch: 854 \t loss: 15.858 \t reward: 50.397\n",
      "epoch: 855 \t loss: 33.311 \t reward: 38.164\n",
      "epoch: 856 \t loss: 71.698 \t reward: 101.646\n",
      "epoch: 857 \t loss: 40.705 \t reward: 31.398\n",
      "epoch: 858 \t loss: 123.622 \t reward: 103.962\n",
      "epoch: 859 \t loss: -15.672 \t reward: -15.362\n"
     ]
    },
    {
     "name": "stderr",
     "output_type": "stream",
     "text": [
      "100%|████████████████████████| 100/100 [00:51<00:00,  1.93it/s]\n"
     ]
    },
    {
     "name": "stdout",
     "output_type": "stream",
     "text": [
      "epoch: 860 \t loss: 116.546 \t reward: 124.906\n",
      "epoch: 861 \t loss: 53.971 \t reward: 35.519\n",
      "epoch: 862 \t loss: 123.605 \t reward: 124.093\n",
      "epoch: 863 \t loss: 3.770 \t reward: 38.543\n",
      "epoch: 864 \t loss: 33.518 \t reward: 72.806\n",
      "epoch: 865 \t loss: 102.720 \t reward: 88.949\n",
      "epoch: 866 \t loss: 27.569 \t reward: 43.001\n",
      "epoch: 867 \t loss: 62.520 \t reward: 50.135\n",
      "epoch: 868 \t loss: 52.466 \t reward: 45.404\n",
      "epoch: 869 \t loss: 112.516 \t reward: 126.030\n"
     ]
    },
    {
     "name": "stderr",
     "output_type": "stream",
     "text": [
      "100%|████████████████████████| 100/100 [00:33<00:00,  3.01it/s]\n"
     ]
    },
    {
     "name": "stdout",
     "output_type": "stream",
     "text": [
      "epoch: 870 \t loss: 115.218 \t reward: 101.131\n",
      "epoch: 871 \t loss: -9.678 \t reward: 12.176\n",
      "epoch: 872 \t loss: 58.536 \t reward: 65.760\n",
      "epoch: 873 \t loss: 107.663 \t reward: 108.329\n",
      "epoch: 874 \t loss: 110.759 \t reward: 100.016\n",
      "epoch: 875 \t loss: 81.605 \t reward: 62.823\n",
      "epoch: 876 \t loss: 60.932 \t reward: 63.348\n",
      "epoch: 877 \t loss: 91.957 \t reward: 78.568\n",
      "epoch: 878 \t loss: 104.567 \t reward: 93.726\n",
      "epoch: 879 \t loss: 60.287 \t reward: 63.516\n"
     ]
    },
    {
     "name": "stderr",
     "output_type": "stream",
     "text": [
      "100%|████████████████████████| 100/100 [00:27<00:00,  3.61it/s]\n"
     ]
    },
    {
     "name": "stdout",
     "output_type": "stream",
     "text": [
      "epoch: 880 \t loss: 120.055 \t reward: 149.523\n",
      "epoch: 881 \t loss: 28.355 \t reward: 35.530\n",
      "epoch: 882 \t loss: 41.419 \t reward: 33.096\n",
      "epoch: 883 \t loss: 65.407 \t reward: 64.370\n",
      "epoch: 884 \t loss: 74.274 \t reward: 78.579\n",
      "epoch: 885 \t loss: -8.685 \t reward: 23.891\n",
      "epoch: 886 \t loss: 13.100 \t reward: 26.465\n",
      "epoch: 887 \t loss: 47.068 \t reward: 37.678\n",
      "epoch: 888 \t loss: 108.479 \t reward: 116.283\n",
      "epoch: 889 \t loss: 107.404 \t reward: 111.634\n"
     ]
    },
    {
     "name": "stderr",
     "output_type": "stream",
     "text": [
      "100%|████████████████████████| 100/100 [00:25<00:00,  3.87it/s]\n"
     ]
    },
    {
     "name": "stdout",
     "output_type": "stream",
     "text": [
      "epoch: 890 \t loss: 22.272 \t reward: 46.091\n",
      "epoch: 891 \t loss: 78.179 \t reward: 111.206\n",
      "epoch: 892 \t loss: 38.527 \t reward: 45.931\n",
      "epoch: 893 \t loss: 53.422 \t reward: 68.016\n",
      "epoch: 894 \t loss: 62.032 \t reward: 97.678\n",
      "epoch: 895 \t loss: 43.364 \t reward: 34.031\n",
      "epoch: 896 \t loss: 75.428 \t reward: 92.102\n",
      "epoch: 897 \t loss: 68.446 \t reward: 91.590\n",
      "epoch: 898 \t loss: 33.813 \t reward: 73.894\n",
      "epoch: 899 \t loss: 20.470 \t reward: 28.361\n"
     ]
    },
    {
     "name": "stderr",
     "output_type": "stream",
     "text": [
      "100%|████████████████████████| 100/100 [01:12<00:00,  1.39it/s]\n"
     ]
    },
    {
     "name": "stdout",
     "output_type": "stream",
     "text": [
      "Best model! Average reward = 98.00\n",
      "epoch: 900 \t loss: 50.351 \t reward: 71.993\n",
      "epoch: 901 \t loss: 127.137 \t reward: 147.856\n",
      "epoch: 902 \t loss: 39.703 \t reward: 76.341\n",
      "epoch: 903 \t loss: 122.747 \t reward: 131.799\n",
      "epoch: 904 \t loss: 110.690 \t reward: 126.740\n",
      "epoch: 905 \t loss: 53.276 \t reward: 63.834\n",
      "epoch: 906 \t loss: -38.519 \t reward: -36.226\n",
      "epoch: 907 \t loss: 133.915 \t reward: 125.602\n",
      "epoch: 908 \t loss: -13.558 \t reward: -16.688\n",
      "epoch: 909 \t loss: 18.979 \t reward: 42.735\n"
     ]
    },
    {
     "name": "stderr",
     "output_type": "stream",
     "text": [
      "100%|████████████████████████| 100/100 [01:48<00:00,  1.09s/it]\n"
     ]
    },
    {
     "name": "stdout",
     "output_type": "stream",
     "text": [
      "epoch: 910 \t loss: 121.364 \t reward: 132.358\n",
      "epoch: 911 \t loss: 114.678 \t reward: 131.802\n",
      "epoch: 912 \t loss: 51.617 \t reward: 70.478\n",
      "epoch: 913 \t loss: 131.684 \t reward: 154.505\n",
      "epoch: 914 \t loss: 154.824 \t reward: 190.566\n",
      "epoch: 915 \t loss: 52.739 \t reward: 65.886\n",
      "epoch: 916 \t loss: 122.400 \t reward: 150.518\n",
      "epoch: 917 \t loss: -17.172 \t reward: -15.377\n",
      "epoch: 918 \t loss: 78.591 \t reward: 109.124\n",
      "epoch: 919 \t loss: 15.409 \t reward: 21.388\n"
     ]
    },
    {
     "name": "stderr",
     "output_type": "stream",
     "text": [
      "100%|████████████████████████| 100/100 [01:36<00:00,  1.04it/s]\n"
     ]
    },
    {
     "name": "stdout",
     "output_type": "stream",
     "text": [
      "epoch: 920 \t loss: 60.022 \t reward: 10.250\n",
      "epoch: 921 \t loss: 49.723 \t reward: 49.139\n",
      "epoch: 922 \t loss: 127.285 \t reward: 144.039\n",
      "epoch: 923 \t loss: 43.075 \t reward: 40.871\n",
      "epoch: 924 \t loss: 87.525 \t reward: 53.603\n",
      "epoch: 925 \t loss: 124.626 \t reward: 178.233\n",
      "epoch: 926 \t loss: 6.790 \t reward: 16.359\n",
      "epoch: 927 \t loss: 112.112 \t reward: 160.605\n",
      "epoch: 928 \t loss: 43.640 \t reward: 41.642\n",
      "epoch: 929 \t loss: 130.654 \t reward: 153.129\n"
     ]
    },
    {
     "name": "stderr",
     "output_type": "stream",
     "text": [
      "100%|████████████████████████| 100/100 [01:29<00:00,  1.12it/s]\n"
     ]
    },
    {
     "name": "stdout",
     "output_type": "stream",
     "text": [
      "epoch: 930 \t loss: -2.189 \t reward: 24.064\n",
      "epoch: 931 \t loss: -7.938 \t reward: 12.699\n",
      "epoch: 932 \t loss: 16.306 \t reward: 30.849\n",
      "epoch: 933 \t loss: 2.899 \t reward: 36.193\n",
      "epoch: 934 \t loss: -3.424 \t reward: 15.956\n",
      "epoch: 935 \t loss: -88.906 \t reward: -59.158\n",
      "epoch: 936 \t loss: 120.872 \t reward: 166.133\n",
      "epoch: 937 \t loss: -7.930 \t reward: 24.076\n",
      "epoch: 938 \t loss: 82.581 \t reward: 139.650\n",
      "epoch: 939 \t loss: 124.420 \t reward: 184.038\n"
     ]
    },
    {
     "name": "stderr",
     "output_type": "stream",
     "text": [
      "100%|████████████████████████| 100/100 [00:41<00:00,  2.43it/s]\n"
     ]
    },
    {
     "name": "stdout",
     "output_type": "stream",
     "text": [
      "Best model! Average reward = 111.63\n",
      "epoch: 940 \t loss: 131.347 \t reward: 165.057\n",
      "epoch: 941 \t loss: 50.242 \t reward: 52.476\n",
      "epoch: 942 \t loss: 89.955 \t reward: 113.986\n",
      "epoch: 943 \t loss: 113.749 \t reward: 142.572\n",
      "epoch: 944 \t loss: 105.642 \t reward: 121.562\n",
      "epoch: 945 \t loss: 70.769 \t reward: 129.562\n",
      "epoch: 946 \t loss: -5.104 \t reward: 26.720\n",
      "epoch: 947 \t loss: -28.487 \t reward: -13.591\n",
      "epoch: 948 \t loss: 33.497 \t reward: 54.739\n",
      "epoch: 949 \t loss: 97.493 \t reward: 157.774\n"
     ]
    },
    {
     "name": "stderr",
     "output_type": "stream",
     "text": [
      "100%|████████████████████████| 100/100 [00:14<00:00,  7.10it/s]\n"
     ]
    },
    {
     "name": "stdout",
     "output_type": "stream",
     "text": [
      "epoch: 950 \t loss: 57.424 \t reward: 114.383\n",
      "epoch: 951 \t loss: -6.743 \t reward: 14.104\n",
      "epoch: 952 \t loss: 53.729 \t reward: 56.284\n",
      "epoch: 953 \t loss: 48.979 \t reward: 59.000\n",
      "epoch: 954 \t loss: -0.528 \t reward: 15.867\n",
      "epoch: 955 \t loss: 48.579 \t reward: 53.201\n",
      "epoch: 956 \t loss: 65.658 \t reward: 71.616\n",
      "epoch: 957 \t loss: 13.128 \t reward: 15.483\n",
      "epoch: 958 \t loss: -29.854 \t reward: -16.021\n",
      "epoch: 959 \t loss: 31.063 \t reward: 35.815\n"
     ]
    },
    {
     "name": "stderr",
     "output_type": "stream",
     "text": [
      "100%|████████████████████████| 100/100 [00:06<00:00, 15.49it/s]\n"
     ]
    },
    {
     "name": "stdout",
     "output_type": "stream",
     "text": [
      "epoch: 960 \t loss: -28.817 \t reward: -19.702\n",
      "epoch: 961 \t loss: 45.827 \t reward: 50.158\n",
      "epoch: 962 \t loss: -15.993 \t reward: -3.412\n",
      "epoch: 963 \t loss: 29.429 \t reward: 32.080\n",
      "epoch: 964 \t loss: 20.456 \t reward: 25.929\n",
      "epoch: 965 \t loss: -0.128 \t reward: 7.745\n",
      "epoch: 966 \t loss: 13.898 \t reward: 16.165\n",
      "epoch: 967 \t loss: 23.737 \t reward: 28.208\n",
      "epoch: 968 \t loss: 14.377 \t reward: 15.511\n",
      "epoch: 969 \t loss: 8.231 \t reward: 7.683\n"
     ]
    },
    {
     "name": "stderr",
     "output_type": "stream",
     "text": [
      "100%|████████████████████████| 100/100 [00:05<00:00, 17.50it/s]\n"
     ]
    },
    {
     "name": "stdout",
     "output_type": "stream",
     "text": [
      "epoch: 970 \t loss: 57.087 \t reward: 43.268\n",
      "epoch: 971 \t loss: 12.204 \t reward: 14.243\n",
      "epoch: 972 \t loss: -10.083 \t reward: -0.309\n",
      "epoch: 973 \t loss: 12.055 \t reward: 12.898\n",
      "epoch: 974 \t loss: 32.722 \t reward: 36.042\n",
      "epoch: 975 \t loss: 20.430 \t reward: 23.031\n",
      "epoch: 976 \t loss: 31.807 \t reward: 30.632\n",
      "epoch: 977 \t loss: 21.491 \t reward: 22.628\n",
      "epoch: 978 \t loss: 49.074 \t reward: 50.031\n",
      "epoch: 979 \t loss: 76.887 \t reward: 80.712\n"
     ]
    },
    {
     "name": "stderr",
     "output_type": "stream",
     "text": [
      "100%|████████████████████████| 100/100 [00:06<00:00, 15.64it/s]\n"
     ]
    },
    {
     "name": "stdout",
     "output_type": "stream",
     "text": [
      "epoch: 980 \t loss: 39.956 \t reward: 38.297\n",
      "epoch: 981 \t loss: 16.115 \t reward: 23.926\n",
      "epoch: 982 \t loss: 50.029 \t reward: 52.532\n",
      "epoch: 983 \t loss: 47.060 \t reward: 48.868\n",
      "epoch: 984 \t loss: 38.046 \t reward: 42.385\n",
      "epoch: 985 \t loss: 75.549 \t reward: 82.830\n",
      "epoch: 986 \t loss: 66.978 \t reward: 70.453\n",
      "epoch: 987 \t loss: 77.110 \t reward: 78.995\n",
      "epoch: 988 \t loss: 38.768 \t reward: 50.821\n",
      "epoch: 989 \t loss: 56.664 \t reward: 72.023\n"
     ]
    },
    {
     "name": "stderr",
     "output_type": "stream",
     "text": [
      "100%|████████████████████████| 100/100 [00:15<00:00,  6.40it/s]\n"
     ]
    },
    {
     "name": "stdout",
     "output_type": "stream",
     "text": [
      "epoch: 990 \t loss: 86.871 \t reward: 110.734\n",
      "epoch: 991 \t loss: 50.796 \t reward: 63.671\n",
      "epoch: 992 \t loss: 38.285 \t reward: 51.571\n",
      "epoch: 993 \t loss: 35.092 \t reward: 59.680\n",
      "epoch: 994 \t loss: 106.982 \t reward: 125.995\n",
      "epoch: 995 \t loss: 15.143 \t reward: 22.094\n",
      "epoch: 996 \t loss: 27.056 \t reward: 68.779\n",
      "epoch: 997 \t loss: 86.177 \t reward: 109.578\n",
      "epoch: 998 \t loss: 23.648 \t reward: 39.858\n",
      "epoch: 999 \t loss: 2.177 \t reward: 11.289\n"
     ]
    },
    {
     "name": "stderr",
     "output_type": "stream",
     "text": [
      "100%|████████████████████████| 100/100 [00:18<00:00,  5.54it/s]\n"
     ]
    },
    {
     "name": "stdout",
     "output_type": "stream",
     "text": [
      "epoch: 1000 \t loss: 76.427 \t reward: 111.825\n",
      "epoch: 1001 \t loss: 63.186 \t reward: 101.993\n",
      "epoch: 1002 \t loss: -49.658 \t reward: -42.847\n",
      "epoch: 1003 \t loss: 41.440 \t reward: 58.330\n",
      "epoch: 1004 \t loss: -19.021 \t reward: -5.572\n",
      "epoch: 1005 \t loss: 37.923 \t reward: 70.388\n",
      "epoch: 1006 \t loss: 49.636 \t reward: 73.373\n",
      "epoch: 1007 \t loss: 32.050 \t reward: 39.880\n",
      "epoch: 1008 \t loss: 12.417 \t reward: 9.931\n",
      "epoch: 1009 \t loss: 52.336 \t reward: 53.246\n"
     ]
    },
    {
     "name": "stderr",
     "output_type": "stream",
     "text": [
      "100%|████████████████████████| 100/100 [00:13<00:00,  7.32it/s]\n"
     ]
    },
    {
     "name": "stdout",
     "output_type": "stream",
     "text": [
      "epoch: 1010 \t loss: 63.762 \t reward: 80.164\n",
      "epoch: 1011 \t loss: 46.149 \t reward: 64.448\n",
      "epoch: 1012 \t loss: 22.691 \t reward: 51.804\n",
      "epoch: 1013 \t loss: 37.606 \t reward: 45.944\n",
      "epoch: 1014 \t loss: 81.842 \t reward: 93.408\n",
      "epoch: 1015 \t loss: 14.390 \t reward: 56.196\n",
      "epoch: 1016 \t loss: 66.509 \t reward: 81.969\n",
      "epoch: 1017 \t loss: 64.665 \t reward: 94.132\n",
      "epoch: 1018 \t loss: 62.476 \t reward: 87.774\n",
      "epoch: 1019 \t loss: 66.402 \t reward: 93.866\n"
     ]
    },
    {
     "name": "stderr",
     "output_type": "stream",
     "text": [
      "100%|████████████████████████| 100/100 [00:11<00:00,  8.49it/s]\n"
     ]
    },
    {
     "name": "stdout",
     "output_type": "stream",
     "text": [
      "epoch: 1020 \t loss: 94.025 \t reward: 102.401\n",
      "epoch: 1021 \t loss: 7.279 \t reward: 18.484\n",
      "epoch: 1022 \t loss: 74.151 \t reward: 127.993\n",
      "epoch: 1023 \t loss: -14.218 \t reward: 4.457\n",
      "epoch: 1024 \t loss: 38.514 \t reward: 41.911\n",
      "epoch: 1025 \t loss: -13.680 \t reward: -13.966\n",
      "epoch: 1026 \t loss: -12.021 \t reward: 16.279\n",
      "epoch: 1027 \t loss: -13.455 \t reward: 6.568\n",
      "epoch: 1028 \t loss: 44.553 \t reward: 60.706\n",
      "epoch: 1029 \t loss: -18.849 \t reward: -22.076\n"
     ]
    },
    {
     "name": "stderr",
     "output_type": "stream",
     "text": [
      "100%|████████████████████████| 100/100 [00:10<00:00,  9.59it/s]\n"
     ]
    },
    {
     "name": "stdout",
     "output_type": "stream",
     "text": [
      "epoch: 1030 \t loss: 38.814 \t reward: 71.771\n",
      "epoch: 1031 \t loss: 46.660 \t reward: 46.784\n",
      "epoch: 1032 \t loss: 75.054 \t reward: 97.426\n",
      "epoch: 1033 \t loss: 13.372 \t reward: 38.783\n",
      "epoch: 1034 \t loss: 66.664 \t reward: 84.222\n",
      "epoch: 1035 \t loss: 81.960 \t reward: 117.959\n",
      "epoch: 1036 \t loss: 41.484 \t reward: 74.367\n",
      "epoch: 1037 \t loss: 61.535 \t reward: 92.416\n",
      "epoch: 1038 \t loss: 3.637 \t reward: 19.788\n",
      "epoch: 1039 \t loss: 37.618 \t reward: 62.156\n"
     ]
    },
    {
     "name": "stderr",
     "output_type": "stream",
     "text": [
      "100%|████████████████████████| 100/100 [00:20<00:00,  4.99it/s]\n"
     ]
    },
    {
     "name": "stdout",
     "output_type": "stream",
     "text": [
      "epoch: 1040 \t loss: 94.855 \t reward: 110.442\n",
      "epoch: 1041 \t loss: -19.664 \t reward: -17.239\n",
      "epoch: 1042 \t loss: 102.416 \t reward: 153.383\n",
      "epoch: 1043 \t loss: 103.707 \t reward: 148.935\n",
      "epoch: 1044 \t loss: 68.256 \t reward: 123.562\n",
      "epoch: 1045 \t loss: 83.026 \t reward: 132.254\n",
      "epoch: 1046 \t loss: 58.582 \t reward: 100.853\n",
      "epoch: 1047 \t loss: 106.105 \t reward: 151.408\n",
      "epoch: 1048 \t loss: 91.383 \t reward: 122.631\n",
      "epoch: 1049 \t loss: 4.435 \t reward: -1.911\n"
     ]
    },
    {
     "name": "stderr",
     "output_type": "stream",
     "text": [
      "100%|████████████████████████| 100/100 [00:36<00:00,  2.77it/s]\n"
     ]
    },
    {
     "name": "stdout",
     "output_type": "stream",
     "text": [
      "epoch: 1050 \t loss: 41.678 \t reward: 60.131\n",
      "epoch: 1051 \t loss: 97.941 \t reward: 159.162\n",
      "epoch: 1052 \t loss: -34.448 \t reward: -42.423\n",
      "epoch: 1053 \t loss: 119.982 \t reward: 168.225\n",
      "epoch: 1054 \t loss: 109.843 \t reward: 147.236\n",
      "epoch: 1055 \t loss: 63.591 \t reward: 79.914\n",
      "epoch: 1056 \t loss: 71.347 \t reward: 115.736\n",
      "epoch: 1057 \t loss: 16.840 \t reward: 42.458\n",
      "epoch: 1058 \t loss: 21.444 \t reward: 32.226\n",
      "epoch: 1059 \t loss: 74.889 \t reward: 80.292\n"
     ]
    },
    {
     "name": "stderr",
     "output_type": "stream",
     "text": [
      "100%|████████████████████████| 100/100 [00:21<00:00,  4.73it/s]\n"
     ]
    },
    {
     "name": "stdout",
     "output_type": "stream",
     "text": [
      "epoch: 1060 \t loss: -17.081 \t reward: 4.329\n",
      "epoch: 1061 \t loss: 18.809 \t reward: 23.965\n",
      "epoch: 1062 \t loss: 86.750 \t reward: 98.190\n",
      "epoch: 1063 \t loss: 97.009 \t reward: 92.638\n",
      "epoch: 1064 \t loss: 106.634 \t reward: 102.844\n",
      "epoch: 1065 \t loss: 27.465 \t reward: 14.405\n",
      "epoch: 1066 \t loss: 94.990 \t reward: 110.439\n",
      "epoch: 1067 \t loss: 68.297 \t reward: 85.343\n",
      "epoch: 1068 \t loss: 90.128 \t reward: 105.016\n",
      "epoch: 1069 \t loss: 0.403 \t reward: 31.512\n"
     ]
    },
    {
     "name": "stderr",
     "output_type": "stream",
     "text": [
      "100%|████████████████████████| 100/100 [00:29<00:00,  3.41it/s]\n"
     ]
    },
    {
     "name": "stdout",
     "output_type": "stream",
     "text": [
      "epoch: 1070 \t loss: 62.733 \t reward: 35.121\n",
      "epoch: 1071 \t loss: 64.901 \t reward: 85.107\n",
      "epoch: 1072 \t loss: 97.031 \t reward: 125.553\n",
      "epoch: 1073 \t loss: 74.265 \t reward: 59.268\n",
      "epoch: 1074 \t loss: -59.107 \t reward: -24.581\n",
      "epoch: 1075 \t loss: 62.126 \t reward: 106.594\n",
      "epoch: 1076 \t loss: 41.477 \t reward: 64.949\n",
      "epoch: 1077 \t loss: 99.271 \t reward: 174.273\n",
      "epoch: 1078 \t loss: 95.818 \t reward: 81.430\n",
      "epoch: 1079 \t loss: -0.294 \t reward: 8.083\n"
     ]
    },
    {
     "name": "stderr",
     "output_type": "stream",
     "text": [
      "100%|████████████████████████| 100/100 [00:37<00:00,  2.69it/s]\n"
     ]
    },
    {
     "name": "stdout",
     "output_type": "stream",
     "text": [
      "epoch: 1080 \t loss: 47.284 \t reward: 67.932\n",
      "epoch: 1081 \t loss: 45.071 \t reward: 55.403\n",
      "epoch: 1082 \t loss: -3.771 \t reward: -11.401\n",
      "epoch: 1083 \t loss: 73.521 \t reward: 113.975\n",
      "epoch: 1084 \t loss: 31.925 \t reward: 43.255\n",
      "epoch: 1085 \t loss: 97.079 \t reward: 115.910\n",
      "epoch: 1086 \t loss: 93.399 \t reward: 129.485\n",
      "epoch: 1087 \t loss: 91.795 \t reward: 94.407\n",
      "epoch: 1088 \t loss: 142.092 \t reward: 202.163\n",
      "epoch: 1089 \t loss: 43.688 \t reward: 84.445\n"
     ]
    },
    {
     "name": "stderr",
     "output_type": "stream",
     "text": [
      "100%|████████████████████████| 100/100 [01:00<00:00,  1.65it/s]\n"
     ]
    },
    {
     "name": "stdout",
     "output_type": "stream",
     "text": [
      "epoch: 1090 \t loss: 120.026 \t reward: 150.138\n",
      "epoch: 1091 \t loss: 138.669 \t reward: 157.760\n",
      "epoch: 1092 \t loss: 55.240 \t reward: 57.176\n",
      "epoch: 1093 \t loss: 136.120 \t reward: 151.607\n",
      "epoch: 1094 \t loss: 48.190 \t reward: 88.051\n",
      "epoch: 1095 \t loss: 36.067 \t reward: 99.047\n",
      "epoch: 1096 \t loss: 75.161 \t reward: 119.802\n",
      "epoch: 1097 \t loss: 89.064 \t reward: 150.771\n",
      "epoch: 1098 \t loss: 20.574 \t reward: 45.745\n",
      "epoch: 1099 \t loss: 111.894 \t reward: 176.171\n"
     ]
    },
    {
     "name": "stderr",
     "output_type": "stream",
     "text": [
      "100%|████████████████████████| 100/100 [00:54<00:00,  1.82it/s]\n"
     ]
    },
    {
     "name": "stdout",
     "output_type": "stream",
     "text": [
      "Best model! Average reward = 127.53\n",
      "epoch: 1100 \t loss: 159.383 \t reward: 216.296\n",
      "epoch: 1101 \t loss: 93.882 \t reward: 174.287\n",
      "epoch: 1102 \t loss: 85.911 \t reward: 115.146\n",
      "epoch: 1103 \t loss: 94.462 \t reward: 147.944\n",
      "epoch: 1104 \t loss: 104.555 \t reward: 144.768\n",
      "epoch: 1105 \t loss: 135.299 \t reward: 152.136\n",
      "epoch: 1106 \t loss: 76.501 \t reward: 109.071\n",
      "epoch: 1107 \t loss: 72.159 \t reward: 127.972\n",
      "epoch: 1108 \t loss: 53.948 \t reward: 123.738\n",
      "epoch: 1109 \t loss: 127.622 \t reward: 145.361\n"
     ]
    },
    {
     "name": "stderr",
     "output_type": "stream",
     "text": [
      "100%|████████████████████████| 100/100 [00:39<00:00,  2.54it/s]\n"
     ]
    },
    {
     "name": "stdout",
     "output_type": "stream",
     "text": [
      "Best model! Average reward = 134.53\n",
      "epoch: 1110 \t loss: 62.459 \t reward: 81.867\n",
      "epoch: 1111 \t loss: 131.611 \t reward: 209.165\n",
      "epoch: 1112 \t loss: 105.027 \t reward: 146.299\n",
      "epoch: 1113 \t loss: 127.794 \t reward: 194.848\n",
      "epoch: 1114 \t loss: 79.271 \t reward: 122.482\n",
      "epoch: 1115 \t loss: 107.054 \t reward: 156.227\n",
      "epoch: 1116 \t loss: 103.686 \t reward: 165.796\n",
      "epoch: 1117 \t loss: -14.978 \t reward: 21.967\n",
      "epoch: 1118 \t loss: 60.148 \t reward: 74.031\n",
      "epoch: 1119 \t loss: 104.118 \t reward: 134.563\n"
     ]
    },
    {
     "name": "stderr",
     "output_type": "stream",
     "text": [
      "100%|████████████████████████| 100/100 [00:35<00:00,  2.83it/s]\n"
     ]
    },
    {
     "name": "stdout",
     "output_type": "stream",
     "text": [
      "epoch: 1120 \t loss: 41.730 \t reward: 57.234\n",
      "epoch: 1121 \t loss: 115.411 \t reward: 161.752\n",
      "epoch: 1122 \t loss: 43.656 \t reward: 74.630\n",
      "epoch: 1123 \t loss: 57.665 \t reward: 111.538\n",
      "epoch: 1124 \t loss: 114.872 \t reward: 156.780\n",
      "epoch: 1125 \t loss: 126.124 \t reward: 152.998\n",
      "epoch: 1126 \t loss: 80.531 \t reward: 138.860\n",
      "epoch: 1127 \t loss: 41.516 \t reward: 66.078\n",
      "epoch: 1128 \t loss: 51.810 \t reward: 98.220\n",
      "epoch: 1129 \t loss: 97.531 \t reward: 121.704\n"
     ]
    },
    {
     "name": "stderr",
     "output_type": "stream",
     "text": [
      "100%|████████████████████████| 100/100 [00:28<00:00,  3.56it/s]\n"
     ]
    },
    {
     "name": "stdout",
     "output_type": "stream",
     "text": [
      "epoch: 1130 \t loss: 87.403 \t reward: 149.361\n",
      "epoch: 1131 \t loss: 20.130 \t reward: 43.811\n",
      "epoch: 1132 \t loss: 119.770 \t reward: 156.351\n",
      "epoch: 1133 \t loss: 151.959 \t reward: 244.486\n",
      "epoch: 1134 \t loss: 36.708 \t reward: 90.936\n",
      "epoch: 1135 \t loss: 152.960 \t reward: 226.286\n",
      "epoch: 1136 \t loss: 96.245 \t reward: 123.486\n",
      "epoch: 1137 \t loss: 135.708 \t reward: 201.740\n",
      "epoch: 1138 \t loss: 89.420 \t reward: 118.582\n",
      "epoch: 1139 \t loss: 85.104 \t reward: 138.716\n"
     ]
    },
    {
     "name": "stderr",
     "output_type": "stream",
     "text": [
      "100%|████████████████████████| 100/100 [00:43<00:00,  2.31it/s]\n"
     ]
    },
    {
     "name": "stdout",
     "output_type": "stream",
     "text": [
      "Best model! Average reward = 146.97\n",
      "epoch: 1140 \t loss: 90.068 \t reward: 133.002\n",
      "epoch: 1141 \t loss: -18.715 \t reward: -2.704\n",
      "epoch: 1142 \t loss: 96.266 \t reward: 101.298\n",
      "epoch: 1143 \t loss: 80.565 \t reward: 121.096\n",
      "epoch: 1144 \t loss: 24.451 \t reward: 51.816\n",
      "epoch: 1145 \t loss: 96.169 \t reward: 143.643\n",
      "epoch: 1146 \t loss: 105.494 \t reward: 161.468\n",
      "epoch: 1147 \t loss: 63.236 \t reward: 108.481\n",
      "epoch: 1148 \t loss: -65.637 \t reward: -0.645\n",
      "epoch: 1149 \t loss: 11.052 \t reward: 57.780\n"
     ]
    },
    {
     "name": "stderr",
     "output_type": "stream",
     "text": [
      "100%|████████████████████████| 100/100 [01:26<00:00,  1.15it/s]\n"
     ]
    },
    {
     "name": "stdout",
     "output_type": "stream",
     "text": [
      "epoch: 1150 \t loss: 101.702 \t reward: 132.227\n",
      "epoch: 1151 \t loss: 128.381 \t reward: 166.235\n",
      "epoch: 1152 \t loss: 106.361 \t reward: 131.549\n",
      "epoch: 1153 \t loss: 24.220 \t reward: 24.086\n",
      "epoch: 1154 \t loss: 102.961 \t reward: 140.745\n",
      "epoch: 1155 \t loss: 89.930 \t reward: 127.017\n",
      "epoch: 1156 \t loss: 106.634 \t reward: 125.035\n",
      "epoch: 1157 \t loss: 59.231 \t reward: 81.264\n",
      "epoch: 1158 \t loss: 32.782 \t reward: 40.886\n",
      "epoch: 1159 \t loss: 52.686 \t reward: 65.512\n"
     ]
    },
    {
     "name": "stderr",
     "output_type": "stream",
     "text": [
      "100%|████████████████████████| 100/100 [02:29<00:00,  1.49s/it]\n"
     ]
    },
    {
     "name": "stdout",
     "output_type": "stream",
     "text": [
      "epoch: 1160 \t loss: 18.282 \t reward: 33.995\n",
      "epoch: 1161 \t loss: -20.914 \t reward: -19.888\n",
      "epoch: 1162 \t loss: 32.911 \t reward: 52.048\n",
      "epoch: 1163 \t loss: 85.542 \t reward: 101.703\n",
      "epoch: 1164 \t loss: 92.247 \t reward: 108.003\n",
      "epoch: 1165 \t loss: 0.876 \t reward: 17.285\n",
      "epoch: 1166 \t loss: 0.022 \t reward: -15.478\n",
      "epoch: 1167 \t loss: -2.315 \t reward: 7.067\n",
      "epoch: 1168 \t loss: 16.514 \t reward: 22.361\n",
      "epoch: 1169 \t loss: -37.147 \t reward: -35.167\n"
     ]
    },
    {
     "name": "stderr",
     "output_type": "stream",
     "text": [
      "100%|████████████████████████| 100/100 [02:18<00:00,  1.39s/it]\n"
     ]
    },
    {
     "name": "stdout",
     "output_type": "stream",
     "text": [
      "epoch: 1170 \t loss: 12.898 \t reward: 22.933\n",
      "epoch: 1171 \t loss: 3.288 \t reward: 3.602\n",
      "epoch: 1172 \t loss: 36.771 \t reward: 72.433\n",
      "epoch: 1173 \t loss: -37.807 \t reward: -42.788\n",
      "epoch: 1174 \t loss: 38.244 \t reward: 65.831\n",
      "epoch: 1175 \t loss: 13.446 \t reward: 15.469\n",
      "epoch: 1176 \t loss: 16.134 \t reward: 18.818\n",
      "epoch: 1177 \t loss: -5.443 \t reward: 26.254\n",
      "epoch: 1178 \t loss: 103.656 \t reward: 128.207\n",
      "epoch: 1179 \t loss: 35.661 \t reward: 34.022\n"
     ]
    },
    {
     "name": "stderr",
     "output_type": "stream",
     "text": [
      "100%|████████████████████████| 100/100 [02:04<00:00,  1.25s/it]\n"
     ]
    },
    {
     "name": "stdout",
     "output_type": "stream",
     "text": [
      "epoch: 1180 \t loss: 29.039 \t reward: 48.168\n",
      "epoch: 1181 \t loss: 89.355 \t reward: 135.054\n",
      "epoch: 1182 \t loss: 88.907 \t reward: 113.735\n",
      "epoch: 1183 \t loss: 77.361 \t reward: 125.820\n",
      "epoch: 1184 \t loss: -24.039 \t reward: -24.182\n",
      "epoch: 1185 \t loss: 159.294 \t reward: 199.969\n",
      "epoch: 1186 \t loss: 32.283 \t reward: 25.831\n",
      "epoch: 1187 \t loss: 133.791 \t reward: 178.845\n",
      "epoch: 1188 \t loss: 98.730 \t reward: 111.282\n",
      "epoch: 1189 \t loss: 132.836 \t reward: 170.112\n"
     ]
    },
    {
     "name": "stderr",
     "output_type": "stream",
     "text": [
      "100%|████████████████████████| 100/100 [01:31<00:00,  1.09it/s]\n"
     ]
    },
    {
     "name": "stdout",
     "output_type": "stream",
     "text": [
      "epoch: 1190 \t loss: 124.609 \t reward: 159.362\n",
      "epoch: 1191 \t loss: 59.861 \t reward: 80.177\n",
      "epoch: 1192 \t loss: 80.429 \t reward: 115.601\n",
      "epoch: 1193 \t loss: 48.148 \t reward: 79.493\n",
      "epoch: 1194 \t loss: 152.756 \t reward: 183.714\n",
      "epoch: 1195 \t loss: 79.405 \t reward: 125.798\n",
      "epoch: 1196 \t loss: -70.334 \t reward: -66.234\n",
      "epoch: 1197 \t loss: -3.724 \t reward: 9.948\n",
      "epoch: 1198 \t loss: 62.940 \t reward: 98.542\n",
      "epoch: 1199 \t loss: 127.574 \t reward: 150.250\n"
     ]
    },
    {
     "name": "stderr",
     "output_type": "stream",
     "text": [
      "100%|████████████████████████| 100/100 [01:00<00:00,  1.65it/s]\n"
     ]
    },
    {
     "name": "stdout",
     "output_type": "stream",
     "text": [
      "epoch: 1200 \t loss: 28.830 \t reward: 69.538\n",
      "epoch: 1201 \t loss: -17.587 \t reward: 1.090\n",
      "epoch: 1202 \t loss: 146.828 \t reward: 164.234\n",
      "epoch: 1203 \t loss: 34.873 \t reward: 36.164\n",
      "epoch: 1204 \t loss: 119.146 \t reward: 123.190\n",
      "epoch: 1205 \t loss: 72.414 \t reward: 119.716\n",
      "epoch: 1206 \t loss: 42.634 \t reward: 73.913\n",
      "epoch: 1207 \t loss: -29.250 \t reward: -11.726\n",
      "epoch: 1208 \t loss: 111.565 \t reward: 175.620\n",
      "epoch: 1209 \t loss: 64.372 \t reward: 122.699\n"
     ]
    },
    {
     "name": "stderr",
     "output_type": "stream",
     "text": [
      "100%|████████████████████████| 100/100 [01:09<00:00,  1.43it/s]\n"
     ]
    },
    {
     "name": "stdout",
     "output_type": "stream",
     "text": [
      "epoch: 1210 \t loss: 134.657 \t reward: 149.082\n",
      "epoch: 1211 \t loss: 133.804 \t reward: 185.619\n",
      "epoch: 1212 \t loss: 18.249 \t reward: 59.043\n",
      "epoch: 1213 \t loss: 99.689 \t reward: 175.133\n",
      "epoch: 1214 \t loss: -12.564 \t reward: -4.163\n",
      "epoch: 1215 \t loss: 51.892 \t reward: 97.684\n",
      "epoch: 1216 \t loss: 125.690 \t reward: 181.052\n",
      "epoch: 1217 \t loss: 39.493 \t reward: 149.344\n",
      "epoch: 1218 \t loss: 35.165 \t reward: 64.723\n",
      "epoch: 1219 \t loss: 35.024 \t reward: 61.280\n"
     ]
    },
    {
     "name": "stderr",
     "output_type": "stream",
     "text": [
      "100%|████████████████████████| 100/100 [01:11<00:00,  1.41it/s]\n"
     ]
    },
    {
     "name": "stdout",
     "output_type": "stream",
     "text": [
      "epoch: 1220 \t loss: 120.173 \t reward: 141.957\n",
      "epoch: 1221 \t loss: 122.097 \t reward: 175.908\n",
      "epoch: 1222 \t loss: 91.588 \t reward: 134.109\n",
      "epoch: 1223 \t loss: 143.761 \t reward: 178.434\n",
      "epoch: 1224 \t loss: 63.205 \t reward: 133.088\n",
      "epoch: 1225 \t loss: 37.619 \t reward: 56.774\n",
      "epoch: 1226 \t loss: 140.357 \t reward: 220.750\n",
      "epoch: 1227 \t loss: 94.860 \t reward: 168.355\n",
      "epoch: 1228 \t loss: 117.512 \t reward: 179.647\n",
      "epoch: 1229 \t loss: 39.165 \t reward: 75.703\n"
     ]
    },
    {
     "name": "stderr",
     "output_type": "stream",
     "text": [
      "100%|████████████████████████| 100/100 [00:51<00:00,  1.93it/s]\n"
     ]
    },
    {
     "name": "stdout",
     "output_type": "stream",
     "text": [
      "epoch: 1230 \t loss: 89.176 \t reward: 145.421\n",
      "epoch: 1231 \t loss: 84.273 \t reward: 145.720\n",
      "epoch: 1232 \t loss: 76.895 \t reward: 128.489\n",
      "epoch: 1233 \t loss: 57.325 \t reward: 93.912\n",
      "epoch: 1234 \t loss: 57.338 \t reward: 102.512\n",
      "epoch: 1235 \t loss: 11.451 \t reward: 34.737\n",
      "epoch: 1236 \t loss: 86.838 \t reward: 122.769\n",
      "epoch: 1237 \t loss: 71.433 \t reward: 112.563\n",
      "epoch: 1238 \t loss: 23.076 \t reward: 34.349\n",
      "epoch: 1239 \t loss: 46.232 \t reward: 95.850\n"
     ]
    },
    {
     "name": "stderr",
     "output_type": "stream",
     "text": [
      "100%|████████████████████████| 100/100 [00:49<00:00,  2.03it/s]\n"
     ]
    },
    {
     "name": "stdout",
     "output_type": "stream",
     "text": [
      "epoch: 1240 \t loss: -24.006 \t reward: -28.768\n",
      "epoch: 1241 \t loss: 101.147 \t reward: 135.080\n",
      "epoch: 1242 \t loss: 109.622 \t reward: 188.369\n",
      "epoch: 1243 \t loss: 106.552 \t reward: 176.632\n",
      "epoch: 1244 \t loss: 76.007 \t reward: 116.735\n",
      "epoch: 1245 \t loss: 62.322 \t reward: 106.658\n",
      "epoch: 1246 \t loss: 94.591 \t reward: 140.694\n",
      "epoch: 1247 \t loss: 99.136 \t reward: 140.577\n",
      "epoch: 1248 \t loss: 85.443 \t reward: 127.675\n",
      "epoch: 1249 \t loss: 79.739 \t reward: 113.007\n"
     ]
    },
    {
     "name": "stderr",
     "output_type": "stream",
     "text": [
      "100%|████████████████████████| 100/100 [00:55<00:00,  1.79it/s]\n"
     ]
    },
    {
     "name": "stdout",
     "output_type": "stream",
     "text": [
      "epoch: 1250 \t loss: 115.492 \t reward: 174.447\n",
      "epoch: 1251 \t loss: 109.655 \t reward: 117.591\n",
      "epoch: 1252 \t loss: 129.149 \t reward: 151.279\n",
      "epoch: 1253 \t loss: 68.996 \t reward: 86.352\n",
      "epoch: 1254 \t loss: 83.288 \t reward: 118.582\n",
      "epoch: 1255 \t loss: 77.461 \t reward: 133.504\n",
      "epoch: 1256 \t loss: 63.245 \t reward: 111.894\n",
      "epoch: 1257 \t loss: 169.365 \t reward: 231.797\n",
      "epoch: 1258 \t loss: 53.844 \t reward: 85.332\n",
      "epoch: 1259 \t loss: 54.117 \t reward: 90.990\n"
     ]
    },
    {
     "name": "stderr",
     "output_type": "stream",
     "text": [
      "100%|████████████████████████| 100/100 [01:15<00:00,  1.32it/s]\n"
     ]
    },
    {
     "name": "stdout",
     "output_type": "stream",
     "text": [
      "epoch: 1260 \t loss: 89.573 \t reward: 167.739\n",
      "epoch: 1261 \t loss: 128.211 \t reward: 193.398\n",
      "epoch: 1262 \t loss: 18.127 \t reward: 21.180\n",
      "epoch: 1263 \t loss: 86.146 \t reward: 127.426\n",
      "epoch: 1264 \t loss: 75.446 \t reward: 139.818\n",
      "epoch: 1265 \t loss: 97.674 \t reward: 138.625\n",
      "epoch: 1266 \t loss: 54.011 \t reward: 63.861\n",
      "epoch: 1267 \t loss: 87.930 \t reward: 138.350\n",
      "epoch: 1268 \t loss: 53.959 \t reward: 92.156\n",
      "epoch: 1269 \t loss: 74.644 \t reward: 132.951\n"
     ]
    },
    {
     "name": "stderr",
     "output_type": "stream",
     "text": [
      "100%|████████████████████████| 100/100 [01:14<00:00,  1.34it/s]\n"
     ]
    },
    {
     "name": "stdout",
     "output_type": "stream",
     "text": [
      "epoch: 1270 \t loss: 87.332 \t reward: 134.254\n",
      "epoch: 1271 \t loss: 91.017 \t reward: 113.407\n",
      "epoch: 1272 \t loss: 91.999 \t reward: 126.708\n",
      "epoch: 1273 \t loss: 20.745 \t reward: 25.243\n",
      "epoch: 1274 \t loss: 110.898 \t reward: 198.244\n",
      "epoch: 1275 \t loss: 44.601 \t reward: 63.332\n",
      "epoch: 1276 \t loss: 28.948 \t reward: 27.486\n",
      "epoch: 1277 \t loss: 56.056 \t reward: 86.803\n",
      "epoch: 1278 \t loss: 52.741 \t reward: 108.776\n",
      "epoch: 1279 \t loss: 76.801 \t reward: 114.074\n"
     ]
    },
    {
     "name": "stderr",
     "output_type": "stream",
     "text": [
      "100%|████████████████████████| 100/100 [00:49<00:00,  2.02it/s]\n"
     ]
    },
    {
     "name": "stdout",
     "output_type": "stream",
     "text": [
      "epoch: 1280 \t loss: 65.728 \t reward: 65.423\n",
      "epoch: 1281 \t loss: -31.606 \t reward: 26.778\n",
      "epoch: 1282 \t loss: 68.066 \t reward: 96.099\n",
      "epoch: 1283 \t loss: 43.652 \t reward: 66.514\n",
      "epoch: 1284 \t loss: 91.783 \t reward: 104.464\n",
      "epoch: 1285 \t loss: 29.693 \t reward: 69.442\n",
      "epoch: 1286 \t loss: 52.498 \t reward: 106.173\n",
      "epoch: 1287 \t loss: 11.632 \t reward: -0.773\n",
      "epoch: 1288 \t loss: 16.592 \t reward: 35.608\n",
      "epoch: 1289 \t loss: 61.326 \t reward: 92.453\n"
     ]
    },
    {
     "name": "stderr",
     "output_type": "stream",
     "text": [
      "100%|████████████████████████| 100/100 [00:58<00:00,  1.72it/s]\n"
     ]
    },
    {
     "name": "stdout",
     "output_type": "stream",
     "text": [
      "epoch: 1290 \t loss: 62.200 \t reward: 96.851\n",
      "epoch: 1291 \t loss: 81.820 \t reward: 132.760\n",
      "epoch: 1292 \t loss: 76.304 \t reward: 133.711\n",
      "epoch: 1293 \t loss: 56.511 \t reward: 106.328\n",
      "epoch: 1294 \t loss: 89.995 \t reward: 123.270\n",
      "epoch: 1295 \t loss: 89.536 \t reward: 166.275\n",
      "epoch: 1296 \t loss: 80.359 \t reward: 115.741\n",
      "epoch: 1297 \t loss: 45.400 \t reward: 58.276\n",
      "epoch: 1298 \t loss: 100.843 \t reward: 127.177\n",
      "epoch: 1299 \t loss: 79.645 \t reward: 122.056\n"
     ]
    },
    {
     "name": "stderr",
     "output_type": "stream",
     "text": [
      "100%|████████████████████████| 100/100 [00:53<00:00,  1.88it/s]\n"
     ]
    },
    {
     "name": "stdout",
     "output_type": "stream",
     "text": [
      "epoch: 1300 \t loss: 144.958 \t reward: 216.566\n",
      "epoch: 1301 \t loss: 53.088 \t reward: 98.562\n",
      "epoch: 1302 \t loss: 81.066 \t reward: 118.662\n",
      "epoch: 1303 \t loss: 99.433 \t reward: 165.178\n",
      "epoch: 1304 \t loss: 109.742 \t reward: 174.344\n",
      "epoch: 1305 \t loss: 83.189 \t reward: 136.785\n",
      "epoch: 1306 \t loss: 97.150 \t reward: 203.232\n",
      "epoch: 1307 \t loss: 56.339 \t reward: 89.188\n",
      "epoch: 1308 \t loss: 65.930 \t reward: 111.041\n",
      "epoch: 1309 \t loss: 94.440 \t reward: 194.687\n"
     ]
    },
    {
     "name": "stderr",
     "output_type": "stream",
     "text": [
      "100%|████████████████████████| 100/100 [00:59<00:00,  1.67it/s]\n"
     ]
    },
    {
     "name": "stdout",
     "output_type": "stream",
     "text": [
      "epoch: 1310 \t loss: 56.190 \t reward: 72.350\n",
      "epoch: 1311 \t loss: 52.188 \t reward: 77.236\n",
      "epoch: 1312 \t loss: 165.351 \t reward: 222.162\n",
      "epoch: 1313 \t loss: 16.448 \t reward: 45.849\n",
      "epoch: 1314 \t loss: 56.391 \t reward: 99.295\n",
      "epoch: 1315 \t loss: 81.041 \t reward: 150.886\n",
      "epoch: 1316 \t loss: 29.149 \t reward: 38.646\n",
      "epoch: 1317 \t loss: 101.940 \t reward: 186.492\n",
      "epoch: 1318 \t loss: 79.443 \t reward: 118.181\n",
      "epoch: 1319 \t loss: 129.494 \t reward: 185.556\n"
     ]
    },
    {
     "name": "stderr",
     "output_type": "stream",
     "text": [
      "100%|████████████████████████| 100/100 [01:16<00:00,  1.30it/s]\n"
     ]
    },
    {
     "name": "stdout",
     "output_type": "stream",
     "text": [
      "epoch: 1320 \t loss: 32.057 \t reward: 44.318\n",
      "epoch: 1321 \t loss: 69.525 \t reward: 132.098\n",
      "epoch: 1322 \t loss: 72.764 \t reward: 128.839\n",
      "epoch: 1323 \t loss: 39.262 \t reward: 54.944\n",
      "epoch: 1324 \t loss: 164.522 \t reward: 225.624\n",
      "epoch: 1325 \t loss: 54.694 \t reward: 83.928\n",
      "epoch: 1326 \t loss: 106.231 \t reward: 159.905\n",
      "epoch: 1327 \t loss: 66.088 \t reward: 108.869\n",
      "epoch: 1328 \t loss: 30.793 \t reward: 37.677\n",
      "epoch: 1329 \t loss: 99.654 \t reward: 147.909\n"
     ]
    },
    {
     "name": "stderr",
     "output_type": "stream",
     "text": [
      "100%|████████████████████████| 100/100 [01:29<00:00,  1.12it/s]\n"
     ]
    },
    {
     "name": "stdout",
     "output_type": "stream",
     "text": [
      "epoch: 1330 \t loss: 41.616 \t reward: 67.944\n",
      "epoch: 1331 \t loss: 84.629 \t reward: 106.747\n",
      "epoch: 1332 \t loss: 122.926 \t reward: 211.799\n",
      "epoch: 1333 \t loss: 73.063 \t reward: 109.321\n",
      "epoch: 1334 \t loss: 61.659 \t reward: 95.011\n",
      "epoch: 1335 \t loss: 52.783 \t reward: 82.018\n",
      "epoch: 1336 \t loss: 40.177 \t reward: 53.897\n",
      "epoch: 1337 \t loss: 125.819 \t reward: 189.141\n",
      "epoch: 1338 \t loss: 42.010 \t reward: 62.811\n",
      "epoch: 1339 \t loss: 121.791 \t reward: 191.855\n"
     ]
    },
    {
     "name": "stderr",
     "output_type": "stream",
     "text": [
      "100%|████████████████████████| 100/100 [01:02<00:00,  1.60it/s]\n"
     ]
    },
    {
     "name": "stdout",
     "output_type": "stream",
     "text": [
      "epoch: 1340 \t loss: 51.130 \t reward: 71.192\n",
      "epoch: 1341 \t loss: 93.195 \t reward: 112.930\n",
      "epoch: 1342 \t loss: 78.040 \t reward: 89.710\n",
      "epoch: 1343 \t loss: 82.081 \t reward: 101.109\n",
      "epoch: 1344 \t loss: 85.375 \t reward: 145.387\n",
      "epoch: 1345 \t loss: 45.719 \t reward: 65.663\n",
      "epoch: 1346 \t loss: 63.086 \t reward: 75.391\n",
      "epoch: 1347 \t loss: 60.859 \t reward: 82.482\n",
      "epoch: 1348 \t loss: 95.076 \t reward: 162.407\n",
      "epoch: 1349 \t loss: 85.224 \t reward: 75.422\n"
     ]
    },
    {
     "name": "stderr",
     "output_type": "stream",
     "text": [
      "100%|████████████████████████| 100/100 [01:04<00:00,  1.55it/s]\n"
     ]
    },
    {
     "name": "stdout",
     "output_type": "stream",
     "text": [
      "epoch: 1350 \t loss: 110.532 \t reward: 167.928\n",
      "epoch: 1351 \t loss: 30.195 \t reward: 45.888\n",
      "epoch: 1352 \t loss: 110.131 \t reward: 118.236\n",
      "epoch: 1353 \t loss: 122.935 \t reward: 185.953\n",
      "epoch: 1354 \t loss: 111.715 \t reward: 124.399\n",
      "epoch: 1355 \t loss: 87.643 \t reward: 146.646\n",
      "epoch: 1356 \t loss: 72.082 \t reward: 116.825\n",
      "epoch: 1357 \t loss: 50.186 \t reward: 62.169\n",
      "epoch: 1358 \t loss: 35.975 \t reward: 39.452\n",
      "epoch: 1359 \t loss: 42.607 \t reward: 54.351\n"
     ]
    },
    {
     "name": "stderr",
     "output_type": "stream",
     "text": [
      "100%|████████████████████████| 100/100 [01:52<00:00,  1.12s/it]\n"
     ]
    },
    {
     "name": "stdout",
     "output_type": "stream",
     "text": [
      "epoch: 1360 \t loss: 59.851 \t reward: 71.632\n",
      "epoch: 1361 \t loss: 120.689 \t reward: 154.658\n",
      "epoch: 1362 \t loss: 76.755 \t reward: 104.257\n",
      "epoch: 1363 \t loss: 59.544 \t reward: 71.308\n",
      "epoch: 1364 \t loss: -1.761 \t reward: -10.167\n",
      "epoch: 1365 \t loss: 62.617 \t reward: 69.875\n",
      "epoch: 1366 \t loss: 65.344 \t reward: 73.025\n",
      "epoch: 1367 \t loss: 47.879 \t reward: 41.176\n",
      "epoch: 1368 \t loss: 59.029 \t reward: 63.356\n",
      "epoch: 1369 \t loss: 42.884 \t reward: 48.010\n"
     ]
    },
    {
     "name": "stderr",
     "output_type": "stream",
     "text": [
      "100%|████████████████████████| 100/100 [02:07<00:00,  1.27s/it]\n"
     ]
    },
    {
     "name": "stdout",
     "output_type": "stream",
     "text": [
      "epoch: 1370 \t loss: 17.194 \t reward: 19.601\n",
      "epoch: 1371 \t loss: 21.334 \t reward: 43.444\n",
      "epoch: 1372 \t loss: 53.046 \t reward: 56.248\n",
      "epoch: 1373 \t loss: 13.824 \t reward: 14.345\n",
      "epoch: 1374 \t loss: 52.142 \t reward: 49.119\n",
      "epoch: 1375 \t loss: 6.939 \t reward: 9.061\n",
      "epoch: 1376 \t loss: -16.483 \t reward: -22.827\n",
      "epoch: 1377 \t loss: -15.516 \t reward: -15.332\n",
      "epoch: 1378 \t loss: 36.464 \t reward: 37.281\n",
      "epoch: 1379 \t loss: -9.758 \t reward: -9.498\n"
     ]
    },
    {
     "name": "stderr",
     "output_type": "stream",
     "text": [
      "100%|████████████████████████| 100/100 [02:17<00:00,  1.37s/it]\n"
     ]
    },
    {
     "name": "stdout",
     "output_type": "stream",
     "text": [
      "epoch: 1380 \t loss: 37.053 \t reward: 42.964\n",
      "epoch: 1381 \t loss: -19.438 \t reward: -19.012\n",
      "epoch: 1382 \t loss: 47.413 \t reward: 68.282\n",
      "epoch: 1383 \t loss: 48.419 \t reward: 68.373\n",
      "epoch: 1384 \t loss: -12.048 \t reward: -18.942\n",
      "epoch: 1385 \t loss: 15.658 \t reward: 40.613\n",
      "epoch: 1386 \t loss: 37.856 \t reward: 43.730\n",
      "epoch: 1387 \t loss: 0.743 \t reward: -5.558\n",
      "epoch: 1388 \t loss: -22.035 \t reward: -26.759\n",
      "epoch: 1389 \t loss: 20.910 \t reward: 13.866\n"
     ]
    },
    {
     "name": "stderr",
     "output_type": "stream",
     "text": [
      "100%|████████████████████████| 100/100 [02:21<00:00,  1.41s/it]\n"
     ]
    },
    {
     "name": "stdout",
     "output_type": "stream",
     "text": [
      "epoch: 1390 \t loss: 30.032 \t reward: 32.791\n",
      "epoch: 1391 \t loss: 20.526 \t reward: -40.460\n",
      "epoch: 1392 \t loss: 41.909 \t reward: 51.365\n",
      "epoch: 1393 \t loss: 53.161 \t reward: 57.810\n",
      "epoch: 1394 \t loss: 36.575 \t reward: 34.705\n",
      "epoch: 1395 \t loss: 66.603 \t reward: 75.246\n",
      "epoch: 1396 \t loss: 63.529 \t reward: 71.879\n",
      "epoch: 1397 \t loss: 60.965 \t reward: 70.871\n",
      "epoch: 1398 \t loss: 51.797 \t reward: 67.346\n",
      "epoch: 1399 \t loss: 97.728 \t reward: 101.514\n"
     ]
    },
    {
     "name": "stderr",
     "output_type": "stream",
     "text": [
      "100%|████████████████████████| 100/100 [02:02<00:00,  1.23s/it]\n"
     ]
    },
    {
     "name": "stdout",
     "output_type": "stream",
     "text": [
      "epoch: 1400 \t loss: 85.554 \t reward: 101.741\n",
      "epoch: 1401 \t loss: 28.762 \t reward: 22.296\n",
      "epoch: 1402 \t loss: 72.440 \t reward: 59.135\n",
      "epoch: 1403 \t loss: 63.149 \t reward: 74.846\n",
      "epoch: 1404 \t loss: 70.532 \t reward: 82.292\n",
      "epoch: 1405 \t loss: 75.245 \t reward: 91.223\n",
      "epoch: 1406 \t loss: 85.857 \t reward: 104.502\n",
      "epoch: 1407 \t loss: 100.754 \t reward: 97.045\n",
      "epoch: 1408 \t loss: 117.271 \t reward: 142.124\n",
      "epoch: 1409 \t loss: 80.545 \t reward: 108.364\n"
     ]
    },
    {
     "name": "stderr",
     "output_type": "stream",
     "text": [
      "100%|████████████████████████| 100/100 [01:47<00:00,  1.07s/it]\n"
     ]
    },
    {
     "name": "stdout",
     "output_type": "stream",
     "text": [
      "epoch: 1410 \t loss: 163.352 \t reward: 228.452\n",
      "epoch: 1411 \t loss: 110.555 \t reward: 181.334\n",
      "epoch: 1412 \t loss: 54.087 \t reward: 73.727\n",
      "epoch: 1413 \t loss: 113.306 \t reward: 160.844\n",
      "epoch: 1414 \t loss: 78.096 \t reward: 108.834\n",
      "epoch: 1415 \t loss: 116.539 \t reward: 190.849\n",
      "epoch: 1416 \t loss: 36.532 \t reward: 48.286\n",
      "epoch: 1417 \t loss: 41.253 \t reward: 49.777\n",
      "epoch: 1418 \t loss: 66.751 \t reward: 108.695\n",
      "epoch: 1419 \t loss: 97.367 \t reward: 134.276\n"
     ]
    },
    {
     "name": "stderr",
     "output_type": "stream",
     "text": [
      "100%|████████████████████████| 100/100 [01:39<00:00,  1.01it/s]\n"
     ]
    },
    {
     "name": "stdout",
     "output_type": "stream",
     "text": [
      "epoch: 1420 \t loss: 56.319 \t reward: 97.083\n",
      "epoch: 1421 \t loss: 66.491 \t reward: 99.339\n",
      "epoch: 1422 \t loss: 106.810 \t reward: 131.712\n",
      "epoch: 1423 \t loss: 114.788 \t reward: 154.302\n",
      "epoch: 1424 \t loss: 121.283 \t reward: 188.801\n",
      "epoch: 1425 \t loss: 52.621 \t reward: 70.533\n",
      "epoch: 1426 \t loss: 62.956 \t reward: 94.224\n",
      "epoch: 1427 \t loss: 56.394 \t reward: 90.998\n",
      "epoch: 1428 \t loss: 153.901 \t reward: 207.327\n",
      "epoch: 1429 \t loss: 119.565 \t reward: 179.656\n"
     ]
    },
    {
     "name": "stderr",
     "output_type": "stream",
     "text": [
      "100%|████████████████████████| 100/100 [01:40<00:00,  1.00s/it]\n"
     ]
    },
    {
     "name": "stdout",
     "output_type": "stream",
     "text": [
      "epoch: 1430 \t loss: 92.858 \t reward: 172.715\n",
      "epoch: 1431 \t loss: 65.457 \t reward: 77.478\n",
      "epoch: 1432 \t loss: 75.841 \t reward: 104.215\n",
      "epoch: 1433 \t loss: 50.870 \t reward: 85.066\n",
      "epoch: 1434 \t loss: 47.516 \t reward: 60.678\n",
      "epoch: 1435 \t loss: 24.550 \t reward: 29.433\n",
      "epoch: 1436 \t loss: 55.166 \t reward: 66.345\n",
      "epoch: 1437 \t loss: 98.738 \t reward: 137.365\n",
      "epoch: 1438 \t loss: 63.253 \t reward: 73.231\n",
      "epoch: 1439 \t loss: 128.091 \t reward: 161.263\n"
     ]
    },
    {
     "name": "stderr",
     "output_type": "stream",
     "text": [
      "100%|████████████████████████| 100/100 [02:22<00:00,  1.42s/it]\n"
     ]
    },
    {
     "name": "stdout",
     "output_type": "stream",
     "text": [
      "epoch: 1440 \t loss: 78.963 \t reward: 83.760\n",
      "epoch: 1441 \t loss: 2.239 \t reward: -5.204\n",
      "epoch: 1442 \t loss: 85.003 \t reward: 114.996\n",
      "epoch: 1443 \t loss: 54.988 \t reward: 45.783\n",
      "epoch: 1444 \t loss: 64.370 \t reward: 66.406\n",
      "epoch: 1445 \t loss: 86.300 \t reward: 102.892\n",
      "epoch: 1446 \t loss: 49.296 \t reward: 59.912\n",
      "epoch: 1447 \t loss: 55.212 \t reward: 62.644\n",
      "epoch: 1448 \t loss: 48.505 \t reward: 52.431\n",
      "epoch: 1449 \t loss: 46.942 \t reward: 52.093\n"
     ]
    },
    {
     "name": "stderr",
     "output_type": "stream",
     "text": [
      "100%|████████████████████████| 100/100 [02:03<00:00,  1.24s/it]\n"
     ]
    },
    {
     "name": "stdout",
     "output_type": "stream",
     "text": [
      "epoch: 1450 \t loss: 51.637 \t reward: 55.677\n",
      "epoch: 1451 \t loss: 67.542 \t reward: 81.522\n",
      "epoch: 1452 \t loss: 121.238 \t reward: 139.419\n",
      "epoch: 1453 \t loss: 48.208 \t reward: 56.461\n",
      "epoch: 1454 \t loss: 45.318 \t reward: 49.942\n",
      "epoch: 1455 \t loss: 51.762 \t reward: 66.792\n",
      "epoch: 1456 \t loss: 75.603 \t reward: 90.049\n",
      "epoch: 1457 \t loss: 161.402 \t reward: 202.770\n",
      "epoch: 1458 \t loss: 80.250 \t reward: 99.403\n",
      "epoch: 1459 \t loss: 63.856 \t reward: 80.541\n"
     ]
    },
    {
     "name": "stderr",
     "output_type": "stream",
     "text": [
      "100%|████████████████████████| 100/100 [01:51<00:00,  1.12s/it]\n"
     ]
    },
    {
     "name": "stdout",
     "output_type": "stream",
     "text": [
      "epoch: 1460 \t loss: 102.098 \t reward: 150.525\n",
      "epoch: 1461 \t loss: 82.484 \t reward: 108.680\n",
      "epoch: 1462 \t loss: 127.605 \t reward: 178.466\n",
      "epoch: 1463 \t loss: 103.371 \t reward: 142.219\n",
      "epoch: 1464 \t loss: 116.853 \t reward: 164.550\n",
      "epoch: 1465 \t loss: 92.743 \t reward: 130.019\n",
      "epoch: 1466 \t loss: 144.662 \t reward: 166.163\n",
      "epoch: 1467 \t loss: 63.208 \t reward: 80.831\n",
      "epoch: 1468 \t loss: 125.044 \t reward: 179.219\n",
      "epoch: 1469 \t loss: 35.076 \t reward: 46.079\n"
     ]
    },
    {
     "name": "stderr",
     "output_type": "stream",
     "text": [
      "100%|████████████████████████| 100/100 [01:41<00:00,  1.01s/it]\n"
     ]
    },
    {
     "name": "stdout",
     "output_type": "stream",
     "text": [
      "epoch: 1470 \t loss: 84.219 \t reward: 125.550\n",
      "epoch: 1471 \t loss: 146.364 \t reward: 190.240\n",
      "epoch: 1472 \t loss: 61.391 \t reward: 86.086\n",
      "epoch: 1473 \t loss: 114.130 \t reward: 162.639\n",
      "epoch: 1474 \t loss: 75.309 \t reward: 99.059\n",
      "epoch: 1475 \t loss: 88.169 \t reward: 105.599\n",
      "epoch: 1476 \t loss: 77.314 \t reward: 136.191\n",
      "epoch: 1477 \t loss: 68.076 \t reward: 89.241\n",
      "epoch: 1478 \t loss: 33.104 \t reward: 78.850\n",
      "epoch: 1479 \t loss: 39.457 \t reward: 52.887\n"
     ]
    },
    {
     "name": "stderr",
     "output_type": "stream",
     "text": [
      "100%|████████████████████████| 100/100 [01:23<00:00,  1.20it/s]\n"
     ]
    },
    {
     "name": "stdout",
     "output_type": "stream",
     "text": [
      "epoch: 1480 \t loss: 77.451 \t reward: 113.272\n",
      "epoch: 1481 \t loss: 63.582 \t reward: 92.298\n",
      "epoch: 1482 \t loss: 74.485 \t reward: 112.785\n",
      "epoch: 1483 \t loss: 88.773 \t reward: 138.353\n",
      "epoch: 1484 \t loss: 50.161 \t reward: 55.702\n",
      "epoch: 1485 \t loss: 92.544 \t reward: 151.545\n",
      "epoch: 1486 \t loss: 53.297 \t reward: 95.374\n",
      "epoch: 1487 \t loss: 173.665 \t reward: 229.954\n",
      "epoch: 1488 \t loss: 71.071 \t reward: 96.386\n",
      "epoch: 1489 \t loss: 88.949 \t reward: 166.962\n"
     ]
    },
    {
     "name": "stderr",
     "output_type": "stream",
     "text": [
      "100%|████████████████████████| 100/100 [01:33<00:00,  1.07it/s]\n"
     ]
    },
    {
     "name": "stdout",
     "output_type": "stream",
     "text": [
      "epoch: 1490 \t loss: 57.125 \t reward: 124.125\n",
      "epoch: 1491 \t loss: 170.051 \t reward: 215.487\n",
      "epoch: 1492 \t loss: 37.373 \t reward: 42.856\n",
      "epoch: 1493 \t loss: 78.675 \t reward: 135.736\n",
      "epoch: 1494 \t loss: 117.994 \t reward: 162.494\n",
      "epoch: 1495 \t loss: 41.841 \t reward: 98.537\n",
      "epoch: 1496 \t loss: 65.777 \t reward: 99.991\n",
      "epoch: 1497 \t loss: 70.953 \t reward: 120.404\n",
      "epoch: 1498 \t loss: 60.502 \t reward: 128.436\n",
      "epoch: 1499 \t loss: 27.026 \t reward: 58.869\n"
     ]
    },
    {
     "name": "stderr",
     "output_type": "stream",
     "text": [
      "100%|████████████████████████| 100/100 [01:15<00:00,  1.33it/s]\n"
     ]
    },
    {
     "name": "stdout",
     "output_type": "stream",
     "text": [
      "epoch: 1500 \t loss: 94.552 \t reward: 120.959\n",
      "epoch: 1501 \t loss: 129.699 \t reward: 227.726\n",
      "epoch: 1502 \t loss: 44.504 \t reward: 63.071\n",
      "epoch: 1503 \t loss: 71.969 \t reward: 124.621\n",
      "epoch: 1504 \t loss: 136.305 \t reward: 141.805\n",
      "epoch: 1505 \t loss: 87.975 \t reward: 140.183\n",
      "epoch: 1506 \t loss: 48.989 \t reward: 78.376\n",
      "epoch: 1507 \t loss: 33.984 \t reward: 19.027\n",
      "epoch: 1508 \t loss: 35.514 \t reward: 45.758\n",
      "epoch: 1509 \t loss: 98.828 \t reward: 155.484\n"
     ]
    },
    {
     "name": "stderr",
     "output_type": "stream",
     "text": [
      "100%|████████████████████████| 100/100 [01:05<00:00,  1.54it/s]\n"
     ]
    },
    {
     "name": "stdout",
     "output_type": "stream",
     "text": [
      "epoch: 1510 \t loss: 55.453 \t reward: 98.517\n",
      "epoch: 1511 \t loss: 41.257 \t reward: 79.317\n",
      "epoch: 1512 \t loss: 91.940 \t reward: 143.558\n",
      "epoch: 1513 \t loss: 97.938 \t reward: 176.538\n",
      "epoch: 1514 \t loss: 88.329 \t reward: 146.294\n",
      "epoch: 1515 \t loss: 22.623 \t reward: 87.695\n",
      "epoch: 1516 \t loss: 60.129 \t reward: 91.659\n",
      "epoch: 1517 \t loss: 120.144 \t reward: 146.703\n",
      "epoch: 1518 \t loss: 82.505 \t reward: 133.625\n",
      "epoch: 1519 \t loss: 35.109 \t reward: 91.734\n"
     ]
    },
    {
     "name": "stderr",
     "output_type": "stream",
     "text": [
      "100%|████████████████████████| 100/100 [01:20<00:00,  1.24it/s]\n"
     ]
    },
    {
     "name": "stdout",
     "output_type": "stream",
     "text": [
      "epoch: 1520 \t loss: 46.804 \t reward: 69.301\n",
      "epoch: 1521 \t loss: 51.477 \t reward: 60.327\n",
      "epoch: 1522 \t loss: -7.109 \t reward: 31.457\n",
      "epoch: 1523 \t loss: 67.462 \t reward: 127.472\n",
      "epoch: 1524 \t loss: 37.414 \t reward: 73.123\n",
      "epoch: 1525 \t loss: 75.105 \t reward: 137.684\n",
      "epoch: 1526 \t loss: -10.478 \t reward: 19.589\n",
      "epoch: 1527 \t loss: 140.730 \t reward: 183.683\n",
      "epoch: 1528 \t loss: 44.515 \t reward: 102.128\n",
      "epoch: 1529 \t loss: 28.453 \t reward: 82.713\n"
     ]
    },
    {
     "name": "stderr",
     "output_type": "stream",
     "text": [
      "100%|████████████████████████| 100/100 [01:01<00:00,  1.63it/s]\n"
     ]
    },
    {
     "name": "stdout",
     "output_type": "stream",
     "text": [
      "Best model! Average reward = 163.15\n",
      "epoch: 1530 \t loss: 41.870 \t reward: 50.930\n",
      "epoch: 1531 \t loss: 56.768 \t reward: 106.727\n",
      "epoch: 1532 \t loss: 99.755 \t reward: 160.363\n",
      "epoch: 1533 \t loss: 52.285 \t reward: 101.088\n",
      "epoch: 1534 \t loss: 79.709 \t reward: 109.225\n",
      "epoch: 1535 \t loss: 44.680 \t reward: 77.790\n",
      "epoch: 1536 \t loss: 45.032 \t reward: 91.002\n",
      "epoch: 1537 \t loss: 33.555 \t reward: 48.910\n",
      "epoch: 1538 \t loss: 27.699 \t reward: 57.334\n",
      "epoch: 1539 \t loss: 82.495 \t reward: 135.029\n"
     ]
    },
    {
     "name": "stderr",
     "output_type": "stream",
     "text": [
      "100%|████████████████████████| 100/100 [00:51<00:00,  1.93it/s]\n"
     ]
    },
    {
     "name": "stdout",
     "output_type": "stream",
     "text": [
      "epoch: 1540 \t loss: 101.698 \t reward: 145.526\n",
      "epoch: 1541 \t loss: 115.554 \t reward: 189.997\n",
      "epoch: 1542 \t loss: 91.287 \t reward: 142.678\n",
      "epoch: 1543 \t loss: 18.142 \t reward: 27.963\n",
      "epoch: 1544 \t loss: 50.720 \t reward: 40.263\n",
      "epoch: 1545 \t loss: 29.530 \t reward: 65.495\n",
      "epoch: 1546 \t loss: 77.888 \t reward: 92.153\n",
      "epoch: 1547 \t loss: 84.658 \t reward: 150.243\n",
      "epoch: 1548 \t loss: 43.123 \t reward: 67.256\n",
      "epoch: 1549 \t loss: 47.614 \t reward: 117.267\n"
     ]
    },
    {
     "name": "stderr",
     "output_type": "stream",
     "text": [
      "100%|████████████████████████| 100/100 [00:50<00:00,  1.98it/s]\n"
     ]
    },
    {
     "name": "stdout",
     "output_type": "stream",
     "text": [
      "epoch: 1550 \t loss: 57.071 \t reward: 114.659\n",
      "epoch: 1551 \t loss: 58.154 \t reward: 106.354\n",
      "epoch: 1552 \t loss: 31.382 \t reward: 32.539\n",
      "epoch: 1553 \t loss: 85.494 \t reward: 128.262\n",
      "epoch: 1554 \t loss: 64.856 \t reward: 114.017\n",
      "epoch: 1555 \t loss: 25.972 \t reward: 23.976\n",
      "epoch: 1556 \t loss: 73.452 \t reward: 153.232\n",
      "epoch: 1557 \t loss: 85.808 \t reward: 101.187\n",
      "epoch: 1558 \t loss: 33.124 \t reward: 105.470\n",
      "epoch: 1559 \t loss: 81.036 \t reward: 162.023\n"
     ]
    },
    {
     "name": "stderr",
     "output_type": "stream",
     "text": [
      "100%|████████████████████████| 100/100 [00:37<00:00,  2.65it/s]\n"
     ]
    },
    {
     "name": "stdout",
     "output_type": "stream",
     "text": [
      "epoch: 1560 \t loss: 90.618 \t reward: 104.328\n",
      "epoch: 1561 \t loss: 39.703 \t reward: 10.727\n",
      "epoch: 1562 \t loss: -18.532 \t reward: -37.091\n",
      "epoch: 1563 \t loss: -0.220 \t reward: 22.449\n",
      "epoch: 1564 \t loss: -3.650 \t reward: 3.584\n",
      "epoch: 1565 \t loss: 113.093 \t reward: 147.827\n",
      "epoch: 1566 \t loss: 16.754 \t reward: 13.492\n",
      "epoch: 1567 \t loss: 32.445 \t reward: 57.179\n",
      "epoch: 1568 \t loss: 43.998 \t reward: 92.108\n",
      "epoch: 1569 \t loss: 69.164 \t reward: 128.202\n"
     ]
    },
    {
     "name": "stderr",
     "output_type": "stream",
     "text": [
      "100%|████████████████████████| 100/100 [00:29<00:00,  3.38it/s]\n"
     ]
    },
    {
     "name": "stdout",
     "output_type": "stream",
     "text": [
      "epoch: 1570 \t loss: 58.165 \t reward: 47.425\n",
      "epoch: 1571 \t loss: 73.603 \t reward: 123.694\n",
      "epoch: 1572 \t loss: 37.146 \t reward: 48.691\n",
      "epoch: 1573 \t loss: 43.613 \t reward: 71.586\n",
      "epoch: 1574 \t loss: 96.855 \t reward: 137.794\n",
      "epoch: 1575 \t loss: -13.668 \t reward: -35.003\n",
      "epoch: 1576 \t loss: 90.868 \t reward: 109.192\n",
      "epoch: 1577 \t loss: 67.283 \t reward: 81.908\n",
      "epoch: 1578 \t loss: 39.343 \t reward: 41.365\n",
      "epoch: 1579 \t loss: 132.280 \t reward: 193.386\n"
     ]
    },
    {
     "name": "stderr",
     "output_type": "stream",
     "text": [
      "100%|████████████████████████| 100/100 [00:36<00:00,  2.77it/s]\n"
     ]
    },
    {
     "name": "stdout",
     "output_type": "stream",
     "text": [
      "epoch: 1580 \t loss: 82.250 \t reward: 84.292\n",
      "epoch: 1581 \t loss: 114.339 \t reward: 157.495\n",
      "epoch: 1582 \t loss: 54.230 \t reward: 88.740\n",
      "epoch: 1583 \t loss: 52.112 \t reward: 67.126\n",
      "epoch: 1584 \t loss: 63.997 \t reward: 109.570\n",
      "epoch: 1585 \t loss: 92.572 \t reward: 100.778\n",
      "epoch: 1586 \t loss: 76.148 \t reward: 120.823\n",
      "epoch: 1587 \t loss: 41.952 \t reward: 96.760\n",
      "epoch: 1588 \t loss: 89.043 \t reward: 170.412\n",
      "epoch: 1589 \t loss: 45.834 \t reward: 100.847\n"
     ]
    },
    {
     "name": "stderr",
     "output_type": "stream",
     "text": [
      "100%|████████████████████████| 100/100 [00:37<00:00,  2.70it/s]\n"
     ]
    },
    {
     "name": "stdout",
     "output_type": "stream",
     "text": [
      "epoch: 1590 \t loss: 104.474 \t reward: 133.812\n",
      "epoch: 1591 \t loss: 41.300 \t reward: 43.663\n",
      "epoch: 1592 \t loss: 64.799 \t reward: 107.550\n",
      "epoch: 1593 \t loss: 23.344 \t reward: 40.115\n",
      "epoch: 1594 \t loss: 95.784 \t reward: 179.689\n",
      "epoch: 1595 \t loss: 114.458 \t reward: 188.906\n",
      "epoch: 1596 \t loss: 86.467 \t reward: 123.636\n",
      "epoch: 1597 \t loss: 67.572 \t reward: 76.264\n",
      "epoch: 1598 \t loss: 87.963 \t reward: 177.409\n",
      "epoch: 1599 \t loss: 111.421 \t reward: 229.811\n"
     ]
    },
    {
     "name": "stderr",
     "output_type": "stream",
     "text": [
      "100%|████████████████████████| 100/100 [00:45<00:00,  2.18it/s]\n"
     ]
    },
    {
     "name": "stdout",
     "output_type": "stream",
     "text": [
      "epoch: 1600 \t loss: 68.078 \t reward: 84.769\n",
      "epoch: 1601 \t loss: 28.106 \t reward: 99.933\n",
      "epoch: 1602 \t loss: 109.805 \t reward: 171.341\n",
      "epoch: 1603 \t loss: 54.489 \t reward: 116.878\n",
      "epoch: 1604 \t loss: 138.742 \t reward: 199.677\n",
      "epoch: 1605 \t loss: 141.158 \t reward: 217.562\n",
      "epoch: 1606 \t loss: 65.369 \t reward: 139.889\n",
      "epoch: 1607 \t loss: 102.057 \t reward: 180.991\n",
      "epoch: 1608 \t loss: 51.000 \t reward: 96.255\n",
      "epoch: 1609 \t loss: 36.646 \t reward: 55.243\n"
     ]
    },
    {
     "name": "stderr",
     "output_type": "stream",
     "text": [
      "100%|████████████████████████| 100/100 [01:14<00:00,  1.35it/s]\n"
     ]
    },
    {
     "name": "stdout",
     "output_type": "stream",
     "text": [
      "epoch: 1610 \t loss: 43.968 \t reward: 106.093\n",
      "epoch: 1611 \t loss: 92.955 \t reward: 189.733\n",
      "epoch: 1612 \t loss: 72.017 \t reward: 153.308\n",
      "epoch: 1613 \t loss: 124.566 \t reward: 188.261\n",
      "epoch: 1614 \t loss: 94.860 \t reward: 172.919\n",
      "epoch: 1615 \t loss: 77.051 \t reward: 138.860\n",
      "epoch: 1616 \t loss: 75.709 \t reward: 127.887\n",
      "epoch: 1617 \t loss: 63.400 \t reward: 117.211\n",
      "epoch: 1618 \t loss: 81.236 \t reward: 131.260\n",
      "epoch: 1619 \t loss: 92.837 \t reward: 150.193\n"
     ]
    },
    {
     "name": "stderr",
     "output_type": "stream",
     "text": [
      "100%|████████████████████████| 100/100 [01:33<00:00,  1.07it/s]\n"
     ]
    },
    {
     "name": "stdout",
     "output_type": "stream",
     "text": [
      "epoch: 1620 \t loss: 44.439 \t reward: 75.744\n",
      "epoch: 1621 \t loss: 73.123 \t reward: 121.438\n",
      "epoch: 1622 \t loss: 117.270 \t reward: 190.292\n",
      "epoch: 1623 \t loss: 148.332 \t reward: 195.229\n",
      "epoch: 1624 \t loss: 14.931 \t reward: 38.103\n",
      "epoch: 1625 \t loss: 45.761 \t reward: 65.878\n",
      "epoch: 1626 \t loss: 4.545 \t reward: 29.969\n",
      "epoch: 1627 \t loss: 24.433 \t reward: 48.997\n",
      "epoch: 1628 \t loss: 64.246 \t reward: 85.656\n",
      "epoch: 1629 \t loss: 68.199 \t reward: 99.718\n"
     ]
    },
    {
     "name": "stderr",
     "output_type": "stream",
     "text": [
      "100%|████████████████████████| 100/100 [02:14<00:00,  1.35s/it]\n"
     ]
    },
    {
     "name": "stdout",
     "output_type": "stream",
     "text": [
      "epoch: 1630 \t loss: 54.819 \t reward: 83.201\n",
      "epoch: 1631 \t loss: 17.306 \t reward: 51.864\n",
      "epoch: 1632 \t loss: 63.797 \t reward: 87.733\n",
      "epoch: 1633 \t loss: 29.613 \t reward: 62.540\n",
      "epoch: 1634 \t loss: 68.286 \t reward: 96.840\n",
      "epoch: 1635 \t loss: -5.984 \t reward: 3.841\n",
      "epoch: 1636 \t loss: 60.331 \t reward: 77.308\n",
      "epoch: 1637 \t loss: 49.093 \t reward: 74.187\n",
      "epoch: 1638 \t loss: 65.243 \t reward: 90.268\n",
      "epoch: 1639 \t loss: 144.137 \t reward: 176.940\n"
     ]
    },
    {
     "name": "stderr",
     "output_type": "stream",
     "text": [
      "100%|████████████████████████| 100/100 [02:10<00:00,  1.30s/it]\n"
     ]
    },
    {
     "name": "stdout",
     "output_type": "stream",
     "text": [
      "epoch: 1640 \t loss: 68.381 \t reward: 119.135\n",
      "epoch: 1641 \t loss: 63.052 \t reward: 87.947\n",
      "epoch: 1642 \t loss: 24.593 \t reward: 57.914\n",
      "epoch: 1643 \t loss: -1.710 \t reward: 2.651\n",
      "epoch: 1644 \t loss: 74.878 \t reward: 111.497\n",
      "epoch: 1645 \t loss: 10.599 \t reward: 23.013\n",
      "epoch: 1646 \t loss: -19.154 \t reward: -28.277\n",
      "epoch: 1647 \t loss: 97.218 \t reward: 139.915\n",
      "epoch: 1648 \t loss: 103.319 \t reward: 127.450\n",
      "epoch: 1649 \t loss: 98.754 \t reward: 139.798\n"
     ]
    },
    {
     "name": "stderr",
     "output_type": "stream",
     "text": [
      "100%|████████████████████████| 100/100 [01:47<00:00,  1.07s/it]\n"
     ]
    },
    {
     "name": "stdout",
     "output_type": "stream",
     "text": [
      "epoch: 1650 \t loss: 96.645 \t reward: 148.002\n",
      "epoch: 1651 \t loss: 56.999 \t reward: 118.071\n",
      "epoch: 1652 \t loss: 38.631 \t reward: 54.526\n",
      "epoch: 1653 \t loss: 8.186 \t reward: 13.881\n",
      "epoch: 1654 \t loss: -2.165 \t reward: 5.935\n",
      "epoch: 1655 \t loss: -29.128 \t reward: -39.176\n",
      "epoch: 1656 \t loss: -3.369 \t reward: 4.367\n",
      "epoch: 1657 \t loss: 2.923 \t reward: 12.534\n",
      "epoch: 1658 \t loss: -18.391 \t reward: -40.573\n",
      "epoch: 1659 \t loss: 70.033 \t reward: 88.943\n"
     ]
    },
    {
     "name": "stderr",
     "output_type": "stream",
     "text": [
      "100%|████████████████████████| 100/100 [01:51<00:00,  1.11s/it]\n"
     ]
    },
    {
     "name": "stdout",
     "output_type": "stream",
     "text": [
      "epoch: 1660 \t loss: -2.666 \t reward: 9.131\n",
      "epoch: 1661 \t loss: 42.881 \t reward: 108.861\n",
      "epoch: 1662 \t loss: 10.735 \t reward: 23.444\n",
      "epoch: 1663 \t loss: 52.793 \t reward: 93.139\n",
      "epoch: 1664 \t loss: 53.930 \t reward: 51.708\n",
      "epoch: 1665 \t loss: 9.892 \t reward: 14.477\n",
      "epoch: 1666 \t loss: 72.285 \t reward: 112.234\n",
      "epoch: 1667 \t loss: -7.146 \t reward: -3.733\n",
      "epoch: 1668 \t loss: 50.772 \t reward: 67.428\n",
      "epoch: 1669 \t loss: 18.634 \t reward: 32.829\n"
     ]
    },
    {
     "name": "stderr",
     "output_type": "stream",
     "text": [
      "100%|████████████████████████| 100/100 [01:33<00:00,  1.07it/s]\n"
     ]
    },
    {
     "name": "stdout",
     "output_type": "stream",
     "text": [
      "epoch: 1670 \t loss: -14.016 \t reward: -11.297\n",
      "epoch: 1671 \t loss: 64.541 \t reward: 103.321\n",
      "epoch: 1672 \t loss: 24.908 \t reward: 65.379\n",
      "epoch: 1673 \t loss: 55.740 \t reward: 90.901\n",
      "epoch: 1674 \t loss: 25.913 \t reward: 57.151\n",
      "epoch: 1675 \t loss: 125.044 \t reward: 174.733\n",
      "epoch: 1676 \t loss: 40.170 \t reward: 66.456\n",
      "epoch: 1677 \t loss: -40.355 \t reward: -52.836\n",
      "epoch: 1678 \t loss: 123.953 \t reward: 171.335\n",
      "epoch: 1679 \t loss: 42.183 \t reward: 30.311\n"
     ]
    },
    {
     "name": "stderr",
     "output_type": "stream",
     "text": [
      "100%|████████████████████████| 100/100 [01:14<00:00,  1.34it/s]\n"
     ]
    },
    {
     "name": "stdout",
     "output_type": "stream",
     "text": [
      "epoch: 1680 \t loss: 74.002 \t reward: 145.257\n",
      "epoch: 1681 \t loss: 71.582 \t reward: 114.477\n",
      "epoch: 1682 \t loss: 34.719 \t reward: 57.696\n",
      "epoch: 1683 \t loss: 56.101 \t reward: 94.841\n",
      "epoch: 1684 \t loss: 26.240 \t reward: 87.144\n",
      "epoch: 1685 \t loss: 29.956 \t reward: 72.903\n",
      "epoch: 1686 \t loss: 9.108 \t reward: 10.472\n",
      "epoch: 1687 \t loss: 95.953 \t reward: 136.421\n",
      "epoch: 1688 \t loss: 45.613 \t reward: 99.654\n",
      "epoch: 1689 \t loss: 38.702 \t reward: 49.772\n"
     ]
    },
    {
     "name": "stderr",
     "output_type": "stream",
     "text": [
      "100%|████████████████████████| 100/100 [01:28<00:00,  1.13it/s]\n"
     ]
    },
    {
     "name": "stdout",
     "output_type": "stream",
     "text": [
      "epoch: 1690 \t loss: 159.240 \t reward: 190.132\n",
      "epoch: 1691 \t loss: 106.777 \t reward: 168.446\n",
      "epoch: 1692 \t loss: 125.330 \t reward: 161.553\n",
      "epoch: 1693 \t loss: 22.423 \t reward: 66.562\n",
      "epoch: 1694 \t loss: 87.440 \t reward: 127.683\n",
      "epoch: 1695 \t loss: 76.490 \t reward: 91.530\n",
      "epoch: 1696 \t loss: -5.490 \t reward: 4.549\n",
      "epoch: 1697 \t loss: 60.765 \t reward: 76.277\n",
      "epoch: 1698 \t loss: 32.941 \t reward: 49.980\n",
      "epoch: 1699 \t loss: 117.065 \t reward: 147.708\n"
     ]
    },
    {
     "name": "stderr",
     "output_type": "stream",
     "text": [
      "100%|████████████████████████| 100/100 [02:00<00:00,  1.21s/it]\n"
     ]
    },
    {
     "name": "stdout",
     "output_type": "stream",
     "text": [
      "epoch: 1700 \t loss: 38.274 \t reward: 47.490\n",
      "epoch: 1701 \t loss: 14.821 \t reward: 68.333\n",
      "epoch: 1702 \t loss: 32.112 \t reward: 71.751\n",
      "epoch: 1703 \t loss: 44.668 \t reward: 69.168\n",
      "epoch: 1704 \t loss: 89.790 \t reward: 121.425\n",
      "epoch: 1705 \t loss: 15.605 \t reward: 24.958\n",
      "epoch: 1706 \t loss: 53.655 \t reward: 72.790\n",
      "epoch: 1707 \t loss: 96.421 \t reward: 132.324\n",
      "epoch: 1708 \t loss: 105.344 \t reward: 154.522\n",
      "epoch: 1709 \t loss: 90.583 \t reward: 152.009\n"
     ]
    },
    {
     "name": "stderr",
     "output_type": "stream",
     "text": [
      "100%|████████████████████████| 100/100 [01:30<00:00,  1.11it/s]\n"
     ]
    },
    {
     "name": "stdout",
     "output_type": "stream",
     "text": [
      "epoch: 1710 \t loss: 94.139 \t reward: 147.295\n",
      "epoch: 1711 \t loss: 102.075 \t reward: 172.098\n",
      "epoch: 1712 \t loss: 53.883 \t reward: 79.391\n",
      "epoch: 1713 \t loss: 40.480 \t reward: 59.153\n",
      "epoch: 1714 \t loss: 51.947 \t reward: 67.956\n",
      "epoch: 1715 \t loss: 65.164 \t reward: 104.475\n",
      "epoch: 1716 \t loss: 77.506 \t reward: 138.665\n",
      "epoch: 1717 \t loss: 33.068 \t reward: 50.778\n",
      "epoch: 1718 \t loss: 119.514 \t reward: 188.970\n",
      "epoch: 1719 \t loss: 113.798 \t reward: 164.820\n"
     ]
    },
    {
     "name": "stderr",
     "output_type": "stream",
     "text": [
      "100%|████████████████████████| 100/100 [01:24<00:00,  1.18it/s]\n"
     ]
    },
    {
     "name": "stdout",
     "output_type": "stream",
     "text": [
      "epoch: 1720 \t loss: 91.246 \t reward: 121.300\n",
      "epoch: 1721 \t loss: 151.865 \t reward: 214.721\n",
      "epoch: 1722 \t loss: 81.159 \t reward: 127.732\n",
      "epoch: 1723 \t loss: 68.980 \t reward: 88.497\n",
      "epoch: 1724 \t loss: 50.210 \t reward: 108.147\n",
      "epoch: 1725 \t loss: 109.219 \t reward: 187.380\n",
      "epoch: 1726 \t loss: 121.961 \t reward: 191.260\n",
      "epoch: 1727 \t loss: 79.691 \t reward: 133.371\n",
      "epoch: 1728 \t loss: 66.653 \t reward: 105.468\n",
      "epoch: 1729 \t loss: 109.025 \t reward: 167.624\n"
     ]
    },
    {
     "name": "stderr",
     "output_type": "stream",
     "text": [
      "100%|████████████████████████| 100/100 [01:29<00:00,  1.12it/s]\n"
     ]
    },
    {
     "name": "stdout",
     "output_type": "stream",
     "text": [
      "epoch: 1730 \t loss: 76.680 \t reward: 129.863\n",
      "epoch: 1731 \t loss: 98.379 \t reward: 162.296\n",
      "epoch: 1732 \t loss: 108.323 \t reward: 193.743\n",
      "epoch: 1733 \t loss: 91.937 \t reward: 154.867\n",
      "epoch: 1734 \t loss: 66.380 \t reward: 73.151\n",
      "epoch: 1735 \t loss: 32.567 \t reward: 40.586\n",
      "epoch: 1736 \t loss: 93.315 \t reward: 138.818\n",
      "epoch: 1737 \t loss: 96.074 \t reward: 171.623\n",
      "epoch: 1738 \t loss: 105.266 \t reward: 161.283\n",
      "epoch: 1739 \t loss: 117.087 \t reward: 164.400\n"
     ]
    },
    {
     "name": "stderr",
     "output_type": "stream",
     "text": [
      "100%|████████████████████████| 100/100 [01:16<00:00,  1.31it/s]\n"
     ]
    },
    {
     "name": "stdout",
     "output_type": "stream",
     "text": [
      "epoch: 1740 \t loss: 87.861 \t reward: 162.423\n",
      "epoch: 1741 \t loss: 107.582 \t reward: 135.932\n",
      "epoch: 1742 \t loss: 89.256 \t reward: 170.581\n",
      "epoch: 1743 \t loss: 107.223 \t reward: 164.550\n",
      "epoch: 1744 \t loss: 81.524 \t reward: 150.392\n",
      "epoch: 1745 \t loss: 46.946 \t reward: 100.117\n",
      "epoch: 1746 \t loss: 102.927 \t reward: 142.464\n",
      "epoch: 1747 \t loss: 96.872 \t reward: 147.263\n",
      "epoch: 1748 \t loss: 126.434 \t reward: 179.746\n",
      "epoch: 1749 \t loss: 70.647 \t reward: 109.937\n"
     ]
    },
    {
     "name": "stderr",
     "output_type": "stream",
     "text": [
      "100%|████████████████████████| 100/100 [00:58<00:00,  1.72it/s]\n"
     ]
    },
    {
     "name": "stdout",
     "output_type": "stream",
     "text": [
      "epoch: 1750 \t loss: 109.037 \t reward: 118.160\n",
      "epoch: 1751 \t loss: 84.414 \t reward: 119.644\n",
      "epoch: 1752 \t loss: 126.241 \t reward: 172.127\n",
      "epoch: 1753 \t loss: 80.806 \t reward: 110.100\n",
      "epoch: 1754 \t loss: 145.849 \t reward: 187.105\n",
      "epoch: 1755 \t loss: 84.578 \t reward: 114.133\n",
      "epoch: 1756 \t loss: 102.999 \t reward: 136.021\n",
      "epoch: 1757 \t loss: 90.206 \t reward: 120.724\n",
      "epoch: 1758 \t loss: 95.025 \t reward: 199.033\n",
      "epoch: 1759 \t loss: 92.337 \t reward: 178.190\n"
     ]
    },
    {
     "name": "stderr",
     "output_type": "stream",
     "text": [
      "100%|████████████████████████| 100/100 [00:54<00:00,  1.82it/s]\n"
     ]
    },
    {
     "name": "stdout",
     "output_type": "stream",
     "text": [
      "epoch: 1760 \t loss: 144.876 \t reward: 222.226\n",
      "epoch: 1761 \t loss: 72.862 \t reward: 115.159\n",
      "epoch: 1762 \t loss: 62.199 \t reward: 83.632\n",
      "epoch: 1763 \t loss: 74.966 \t reward: 64.911\n",
      "epoch: 1764 \t loss: 81.546 \t reward: 141.469\n",
      "epoch: 1765 \t loss: 101.882 \t reward: 160.464\n",
      "epoch: 1766 \t loss: 121.761 \t reward: 174.913\n",
      "epoch: 1767 \t loss: 99.869 \t reward: 153.183\n",
      "epoch: 1768 \t loss: 148.666 \t reward: 223.901\n",
      "epoch: 1769 \t loss: 75.374 \t reward: 115.527\n"
     ]
    },
    {
     "name": "stderr",
     "output_type": "stream",
     "text": [
      "100%|████████████████████████| 100/100 [01:19<00:00,  1.26it/s]\n"
     ]
    },
    {
     "name": "stdout",
     "output_type": "stream",
     "text": [
      "epoch: 1770 \t loss: 60.352 \t reward: 87.455\n",
      "epoch: 1771 \t loss: 69.160 \t reward: 89.606\n",
      "epoch: 1772 \t loss: 81.970 \t reward: 137.755\n",
      "epoch: 1773 \t loss: 87.368 \t reward: 152.303\n",
      "epoch: 1774 \t loss: 74.260 \t reward: 134.423\n",
      "epoch: 1775 \t loss: 51.131 \t reward: 65.276\n",
      "epoch: 1776 \t loss: 118.613 \t reward: 196.101\n",
      "epoch: 1777 \t loss: 65.700 \t reward: 90.948\n",
      "epoch: 1778 \t loss: 94.540 \t reward: 180.578\n",
      "epoch: 1779 \t loss: 91.189 \t reward: 143.081\n"
     ]
    },
    {
     "name": "stderr",
     "output_type": "stream",
     "text": [
      "100%|████████████████████████| 100/100 [01:16<00:00,  1.31it/s]\n"
     ]
    },
    {
     "name": "stdout",
     "output_type": "stream",
     "text": [
      "epoch: 1780 \t loss: 59.577 \t reward: 68.356\n",
      "epoch: 1781 \t loss: 94.125 \t reward: 139.011\n",
      "epoch: 1782 \t loss: 121.597 \t reward: 222.928\n",
      "epoch: 1783 \t loss: 84.176 \t reward: 116.202\n",
      "epoch: 1784 \t loss: 99.873 \t reward: 136.036\n",
      "epoch: 1785 \t loss: 116.937 \t reward: 173.851\n",
      "epoch: 1786 \t loss: 98.624 \t reward: 123.828\n",
      "epoch: 1787 \t loss: 95.325 \t reward: 162.472\n",
      "epoch: 1788 \t loss: 83.394 \t reward: 150.714\n",
      "epoch: 1789 \t loss: 82.662 \t reward: 123.625\n"
     ]
    },
    {
     "name": "stderr",
     "output_type": "stream",
     "text": [
      "100%|████████████████████████| 100/100 [01:48<00:00,  1.08s/it]\n"
     ]
    },
    {
     "name": "stdout",
     "output_type": "stream",
     "text": [
      "epoch: 1790 \t loss: 77.035 \t reward: 96.232\n",
      "epoch: 1791 \t loss: 78.003 \t reward: 113.454\n",
      "epoch: 1792 \t loss: 94.036 \t reward: 133.897\n",
      "epoch: 1793 \t loss: 53.142 \t reward: 47.919\n",
      "epoch: 1794 \t loss: 100.785 \t reward: 128.381\n",
      "epoch: 1795 \t loss: 76.049 \t reward: 113.068\n",
      "epoch: 1796 \t loss: 95.119 \t reward: 150.263\n",
      "epoch: 1797 \t loss: 93.667 \t reward: 124.117\n",
      "epoch: 1798 \t loss: 86.497 \t reward: 105.710\n",
      "epoch: 1799 \t loss: 74.320 \t reward: 108.751\n"
     ]
    },
    {
     "name": "stderr",
     "output_type": "stream",
     "text": [
      "100%|████████████████████████| 100/100 [01:39<00:00,  1.00it/s]\n"
     ]
    },
    {
     "name": "stdout",
     "output_type": "stream",
     "text": [
      "epoch: 1800 \t loss: 96.031 \t reward: 118.340\n",
      "epoch: 1801 \t loss: 81.611 \t reward: 119.990\n",
      "epoch: 1802 \t loss: 77.089 \t reward: 105.980\n",
      "epoch: 1803 \t loss: 107.730 \t reward: 171.120\n",
      "epoch: 1804 \t loss: 86.552 \t reward: 107.015\n",
      "epoch: 1805 \t loss: 74.039 \t reward: 99.649\n",
      "epoch: 1806 \t loss: 84.884 \t reward: 125.505\n",
      "epoch: 1807 \t loss: 111.499 \t reward: 178.733\n",
      "epoch: 1808 \t loss: 68.837 \t reward: 90.985\n",
      "epoch: 1809 \t loss: 64.550 \t reward: 77.690\n"
     ]
    },
    {
     "name": "stderr",
     "output_type": "stream",
     "text": [
      "100%|████████████████████████| 100/100 [01:23<00:00,  1.20it/s]\n"
     ]
    },
    {
     "name": "stdout",
     "output_type": "stream",
     "text": [
      "epoch: 1810 \t loss: 74.004 \t reward: 85.901\n",
      "epoch: 1811 \t loss: 73.824 \t reward: 120.378\n",
      "epoch: 1812 \t loss: 82.746 \t reward: 127.509\n",
      "epoch: 1813 \t loss: 66.256 \t reward: 79.244\n",
      "epoch: 1814 \t loss: 72.221 \t reward: 78.265\n",
      "epoch: 1815 \t loss: 85.568 \t reward: 114.949\n",
      "epoch: 1816 \t loss: 91.288 \t reward: 141.690\n",
      "epoch: 1817 \t loss: 75.983 \t reward: 114.502\n",
      "epoch: 1818 \t loss: 81.293 \t reward: 85.423\n",
      "epoch: 1819 \t loss: 71.614 \t reward: 84.774\n"
     ]
    },
    {
     "name": "stderr",
     "output_type": "stream",
     "text": [
      "100%|████████████████████████| 100/100 [00:57<00:00,  1.73it/s]\n"
     ]
    },
    {
     "name": "stdout",
     "output_type": "stream",
     "text": [
      "epoch: 1820 \t loss: 68.296 \t reward: 84.879\n",
      "epoch: 1821 \t loss: 81.367 \t reward: 99.372\n",
      "epoch: 1822 \t loss: 59.851 \t reward: 87.498\n",
      "epoch: 1823 \t loss: 73.266 \t reward: 81.448\n",
      "epoch: 1824 \t loss: 55.003 \t reward: 54.084\n",
      "epoch: 1825 \t loss: 81.052 \t reward: 95.824\n",
      "epoch: 1826 \t loss: 59.567 \t reward: 57.785\n",
      "epoch: 1827 \t loss: 66.564 \t reward: 76.158\n",
      "epoch: 1828 \t loss: 89.284 \t reward: 163.525\n",
      "epoch: 1829 \t loss: 47.029 \t reward: 66.620\n"
     ]
    },
    {
     "name": "stderr",
     "output_type": "stream",
     "text": [
      "100%|████████████████████████| 100/100 [00:55<00:00,  1.81it/s]\n"
     ]
    },
    {
     "name": "stdout",
     "output_type": "stream",
     "text": [
      "epoch: 1830 \t loss: 73.533 \t reward: 91.441\n",
      "epoch: 1831 \t loss: 92.408 \t reward: 149.424\n",
      "epoch: 1832 \t loss: 103.289 \t reward: 115.501\n",
      "epoch: 1833 \t loss: 86.661 \t reward: 79.284\n",
      "epoch: 1834 \t loss: 71.556 \t reward: 73.989\n",
      "epoch: 1835 \t loss: 67.087 \t reward: 71.997\n",
      "epoch: 1836 \t loss: 71.898 \t reward: 73.764\n",
      "epoch: 1837 \t loss: 101.529 \t reward: 107.331\n",
      "epoch: 1838 \t loss: 16.742 \t reward: 25.939\n",
      "epoch: 1839 \t loss: 78.821 \t reward: 66.734\n"
     ]
    },
    {
     "name": "stderr",
     "output_type": "stream",
     "text": [
      "100%|████████████████████████| 100/100 [00:38<00:00,  2.61it/s]\n"
     ]
    },
    {
     "name": "stdout",
     "output_type": "stream",
     "text": [
      "epoch: 1840 \t loss: 61.256 \t reward: 54.360\n",
      "epoch: 1841 \t loss: 65.773 \t reward: 80.272\n",
      "epoch: 1842 \t loss: 63.328 \t reward: 56.168\n",
      "epoch: 1843 \t loss: 45.510 \t reward: 38.816\n",
      "epoch: 1844 \t loss: 76.937 \t reward: 53.692\n",
      "epoch: 1845 \t loss: 46.805 \t reward: 46.365\n",
      "epoch: 1846 \t loss: 100.304 \t reward: 149.001\n",
      "epoch: 1847 \t loss: 62.103 \t reward: 47.163\n",
      "epoch: 1848 \t loss: 85.062 \t reward: 80.351\n",
      "epoch: 1849 \t loss: 63.755 \t reward: 54.903\n"
     ]
    },
    {
     "name": "stderr",
     "output_type": "stream",
     "text": [
      "100%|████████████████████████| 100/100 [00:41<00:00,  2.39it/s]\n"
     ]
    },
    {
     "name": "stdout",
     "output_type": "stream",
     "text": [
      "epoch: 1850 \t loss: 56.338 \t reward: 49.859\n",
      "epoch: 1851 \t loss: 74.120 \t reward: 91.537\n",
      "epoch: 1852 \t loss: 35.672 \t reward: 29.481\n",
      "epoch: 1853 \t loss: 80.535 \t reward: 65.169\n",
      "epoch: 1854 \t loss: 78.458 \t reward: 85.365\n",
      "epoch: 1855 \t loss: 60.605 \t reward: 50.529\n",
      "epoch: 1856 \t loss: 76.058 \t reward: 76.584\n",
      "epoch: 1857 \t loss: 81.103 \t reward: 125.172\n",
      "epoch: 1858 \t loss: 69.995 \t reward: 59.369\n",
      "epoch: 1859 \t loss: 92.046 \t reward: 144.972\n"
     ]
    },
    {
     "name": "stderr",
     "output_type": "stream",
     "text": [
      "100%|████████████████████████| 100/100 [01:03<00:00,  1.57it/s]\n"
     ]
    },
    {
     "name": "stdout",
     "output_type": "stream",
     "text": [
      "epoch: 1860 \t loss: 67.216 \t reward: 79.086\n",
      "epoch: 1861 \t loss: 69.122 \t reward: 68.747\n",
      "epoch: 1862 \t loss: 93.661 \t reward: 111.620\n",
      "epoch: 1863 \t loss: 65.430 \t reward: 87.330\n",
      "epoch: 1864 \t loss: 70.601 \t reward: 91.633\n",
      "epoch: 1865 \t loss: 76.446 \t reward: 96.706\n",
      "epoch: 1866 \t loss: 86.577 \t reward: 110.807\n",
      "epoch: 1867 \t loss: 69.030 \t reward: 67.323\n",
      "epoch: 1868 \t loss: 101.131 \t reward: 118.378\n",
      "epoch: 1869 \t loss: 76.796 \t reward: 103.666\n"
     ]
    },
    {
     "name": "stderr",
     "output_type": "stream",
     "text": [
      "100%|████████████████████████| 100/100 [01:02<00:00,  1.59it/s]\n"
     ]
    },
    {
     "name": "stdout",
     "output_type": "stream",
     "text": [
      "epoch: 1870 \t loss: 56.191 \t reward: 53.736\n",
      "epoch: 1871 \t loss: 60.159 \t reward: 71.543\n",
      "epoch: 1872 \t loss: 90.299 \t reward: 149.587\n",
      "epoch: 1873 \t loss: 76.941 \t reward: 115.361\n",
      "epoch: 1874 \t loss: 61.062 \t reward: 74.144\n",
      "epoch: 1875 \t loss: 62.376 \t reward: 80.474\n",
      "epoch: 1876 \t loss: 87.188 \t reward: 122.100\n",
      "epoch: 1877 \t loss: 75.638 \t reward: 84.114\n",
      "epoch: 1878 \t loss: 93.509 \t reward: 122.525\n",
      "epoch: 1879 \t loss: 74.508 \t reward: 91.691\n"
     ]
    },
    {
     "name": "stderr",
     "output_type": "stream",
     "text": [
      "100%|████████████████████████| 100/100 [01:08<00:00,  1.47it/s]\n"
     ]
    },
    {
     "name": "stdout",
     "output_type": "stream",
     "text": [
      "epoch: 1880 \t loss: 68.238 \t reward: 120.645\n",
      "epoch: 1881 \t loss: 91.107 \t reward: 119.514\n",
      "epoch: 1882 \t loss: 80.792 \t reward: 134.711\n",
      "epoch: 1883 \t loss: 75.082 \t reward: 130.444\n",
      "epoch: 1884 \t loss: 68.942 \t reward: 80.245\n",
      "epoch: 1885 \t loss: 99.615 \t reward: 149.511\n",
      "epoch: 1886 \t loss: 78.263 \t reward: 111.530\n",
      "epoch: 1887 \t loss: 95.944 \t reward: 135.892\n",
      "epoch: 1888 \t loss: 74.727 \t reward: 133.795\n",
      "epoch: 1889 \t loss: 111.455 \t reward: 151.365\n"
     ]
    },
    {
     "name": "stderr",
     "output_type": "stream",
     "text": [
      "100%|████████████████████████| 100/100 [01:12<00:00,  1.39it/s]\n"
     ]
    },
    {
     "name": "stdout",
     "output_type": "stream",
     "text": [
      "epoch: 1890 \t loss: 68.305 \t reward: 112.773\n",
      "epoch: 1891 \t loss: 76.335 \t reward: 140.720\n",
      "epoch: 1892 \t loss: 95.017 \t reward: 149.060\n",
      "epoch: 1893 \t loss: 79.308 \t reward: 104.262\n",
      "epoch: 1894 \t loss: 84.180 \t reward: 154.613\n",
      "epoch: 1895 \t loss: 52.463 \t reward: 63.192\n",
      "epoch: 1896 \t loss: 109.692 \t reward: 120.051\n",
      "epoch: 1897 \t loss: 83.743 \t reward: 112.730\n",
      "epoch: 1898 \t loss: 75.316 \t reward: 91.672\n",
      "epoch: 1899 \t loss: 94.157 \t reward: 153.468\n"
     ]
    },
    {
     "name": "stderr",
     "output_type": "stream",
     "text": [
      "100%|████████████████████████| 100/100 [01:34<00:00,  1.05it/s]\n"
     ]
    },
    {
     "name": "stdout",
     "output_type": "stream",
     "text": [
      "epoch: 1900 \t loss: 79.152 \t reward: 133.084\n",
      "epoch: 1901 \t loss: 90.146 \t reward: 147.760\n",
      "epoch: 1902 \t loss: 80.642 \t reward: 120.510\n",
      "epoch: 1903 \t loss: 74.242 \t reward: 114.432\n",
      "epoch: 1904 \t loss: 107.723 \t reward: 177.783\n",
      "epoch: 1905 \t loss: 107.313 \t reward: 151.457\n",
      "epoch: 1906 \t loss: 94.412 \t reward: 104.041\n",
      "epoch: 1907 \t loss: 84.711 \t reward: 107.606\n",
      "epoch: 1908 \t loss: 102.543 \t reward: 106.699\n",
      "epoch: 1909 \t loss: 107.062 \t reward: 147.784\n"
     ]
    },
    {
     "name": "stderr",
     "output_type": "stream",
     "text": [
      "100%|████████████████████████| 100/100 [01:25<00:00,  1.16it/s]\n"
     ]
    },
    {
     "name": "stdout",
     "output_type": "stream",
     "text": [
      "epoch: 1910 \t loss: 59.376 \t reward: 59.165\n",
      "epoch: 1911 \t loss: 105.812 \t reward: 99.188\n",
      "epoch: 1912 \t loss: 113.735 \t reward: 168.508\n",
      "epoch: 1913 \t loss: 100.435 \t reward: 104.588\n",
      "epoch: 1914 \t loss: 93.221 \t reward: 128.012\n",
      "epoch: 1915 \t loss: 78.274 \t reward: 118.372\n",
      "epoch: 1916 \t loss: 96.570 \t reward: 81.239\n",
      "epoch: 1917 \t loss: 77.129 \t reward: 91.529\n",
      "epoch: 1918 \t loss: 86.145 \t reward: 125.972\n",
      "epoch: 1919 \t loss: 89.994 \t reward: 145.416\n"
     ]
    },
    {
     "name": "stderr",
     "output_type": "stream",
     "text": [
      "100%|████████████████████████| 100/100 [01:26<00:00,  1.16it/s]\n"
     ]
    },
    {
     "name": "stdout",
     "output_type": "stream",
     "text": [
      "epoch: 1920 \t loss: 116.463 \t reward: 138.521\n",
      "epoch: 1921 \t loss: 63.289 \t reward: 84.956\n",
      "epoch: 1922 \t loss: 104.898 \t reward: 139.202\n",
      "epoch: 1923 \t loss: 96.904 \t reward: 166.769\n",
      "epoch: 1924 \t loss: 112.826 \t reward: 125.430\n",
      "epoch: 1925 \t loss: 128.442 \t reward: 188.890\n",
      "epoch: 1926 \t loss: 102.435 \t reward: 119.839\n",
      "epoch: 1927 \t loss: 112.891 \t reward: 153.450\n",
      "epoch: 1928 \t loss: 103.896 \t reward: 115.493\n",
      "epoch: 1929 \t loss: 108.847 \t reward: 144.501\n"
     ]
    },
    {
     "name": "stderr",
     "output_type": "stream",
     "text": [
      "100%|████████████████████████| 100/100 [01:45<00:00,  1.05s/it]\n"
     ]
    },
    {
     "name": "stdout",
     "output_type": "stream",
     "text": [
      "epoch: 1930 \t loss: 96.312 \t reward: 133.462\n",
      "epoch: 1931 \t loss: 95.353 \t reward: 117.196\n",
      "epoch: 1932 \t loss: 97.353 \t reward: 144.820\n",
      "epoch: 1933 \t loss: 93.933 \t reward: 103.160\n",
      "epoch: 1934 \t loss: 72.361 \t reward: 63.363\n",
      "epoch: 1935 \t loss: 76.969 \t reward: 96.150\n",
      "epoch: 1936 \t loss: 98.829 \t reward: 130.273\n",
      "epoch: 1937 \t loss: 95.499 \t reward: 132.260\n",
      "epoch: 1938 \t loss: 73.890 \t reward: 70.898\n",
      "epoch: 1939 \t loss: 109.172 \t reward: 140.144\n"
     ]
    },
    {
     "name": "stderr",
     "output_type": "stream",
     "text": [
      "100%|████████████████████████| 100/100 [01:55<00:00,  1.16s/it]\n"
     ]
    },
    {
     "name": "stdout",
     "output_type": "stream",
     "text": [
      "epoch: 1940 \t loss: 105.397 \t reward: 140.615\n",
      "epoch: 1941 \t loss: 82.638 \t reward: 113.226\n",
      "epoch: 1942 \t loss: 92.892 \t reward: 100.243\n",
      "epoch: 1943 \t loss: 89.875 \t reward: 116.436\n",
      "epoch: 1944 \t loss: 92.335 \t reward: 125.836\n",
      "epoch: 1945 \t loss: 111.668 \t reward: 154.431\n",
      "epoch: 1946 \t loss: 92.963 \t reward: 123.485\n",
      "epoch: 1947 \t loss: 60.024 \t reward: 58.688\n",
      "epoch: 1948 \t loss: 86.177 \t reward: 111.616\n",
      "epoch: 1949 \t loss: 59.675 \t reward: 56.394\n"
     ]
    },
    {
     "name": "stderr",
     "output_type": "stream",
     "text": [
      "100%|████████████████████████| 100/100 [02:00<00:00,  1.20s/it]\n"
     ]
    },
    {
     "name": "stdout",
     "output_type": "stream",
     "text": [
      "epoch: 1950 \t loss: 73.073 \t reward: 93.845\n",
      "epoch: 1951 \t loss: 95.707 \t reward: 134.105\n",
      "epoch: 1952 \t loss: 110.311 \t reward: 154.482\n",
      "epoch: 1953 \t loss: 85.534 \t reward: 118.229\n",
      "epoch: 1954 \t loss: 93.278 \t reward: 143.112\n",
      "epoch: 1955 \t loss: 124.894 \t reward: 193.264\n",
      "epoch: 1956 \t loss: 63.841 \t reward: 71.412\n",
      "epoch: 1957 \t loss: 67.053 \t reward: 74.700\n",
      "epoch: 1958 \t loss: 72.248 \t reward: 82.868\n",
      "epoch: 1959 \t loss: 90.301 \t reward: 81.948\n"
     ]
    },
    {
     "name": "stderr",
     "output_type": "stream",
     "text": [
      "100%|████████████████████████| 100/100 [01:57<00:00,  1.18s/it]\n"
     ]
    },
    {
     "name": "stdout",
     "output_type": "stream",
     "text": [
      "epoch: 1960 \t loss: 54.285 \t reward: 74.673\n",
      "epoch: 1961 \t loss: 60.907 \t reward: 73.940\n",
      "epoch: 1962 \t loss: 50.761 \t reward: 34.486\n",
      "epoch: 1963 \t loss: 109.706 \t reward: 138.358\n",
      "epoch: 1964 \t loss: 100.332 \t reward: 159.111\n",
      "epoch: 1965 \t loss: 109.154 \t reward: 140.232\n",
      "epoch: 1966 \t loss: 89.337 \t reward: 104.703\n",
      "epoch: 1967 \t loss: 82.951 \t reward: 97.453\n",
      "epoch: 1968 \t loss: 68.499 \t reward: 69.145\n",
      "epoch: 1969 \t loss: 89.893 \t reward: 133.379\n"
     ]
    },
    {
     "name": "stderr",
     "output_type": "stream",
     "text": [
      "100%|████████████████████████| 100/100 [02:09<00:00,  1.29s/it]\n"
     ]
    },
    {
     "name": "stdout",
     "output_type": "stream",
     "text": [
      "epoch: 1970 \t loss: 93.304 \t reward: 122.468\n",
      "epoch: 1971 \t loss: 78.951 \t reward: 96.368\n",
      "epoch: 1972 \t loss: 57.359 \t reward: 43.757\n",
      "epoch: 1973 \t loss: 83.013 \t reward: 68.158\n",
      "epoch: 1974 \t loss: 58.539 \t reward: 42.749\n",
      "epoch: 1975 \t loss: 76.677 \t reward: 86.864\n",
      "epoch: 1976 \t loss: 51.551 \t reward: 43.753\n",
      "epoch: 1977 \t loss: 100.826 \t reward: 134.161\n",
      "epoch: 1978 \t loss: 66.215 \t reward: 83.848\n",
      "epoch: 1979 \t loss: 81.807 \t reward: 99.613\n"
     ]
    },
    {
     "name": "stderr",
     "output_type": "stream",
     "text": [
      "100%|████████████████████████| 100/100 [02:22<00:00,  1.42s/it]\n"
     ]
    },
    {
     "name": "stdout",
     "output_type": "stream",
     "text": [
      "epoch: 1980 \t loss: 99.748 \t reward: 125.405\n",
      "epoch: 1981 \t loss: 85.305 \t reward: 99.235\n",
      "epoch: 1982 \t loss: 80.405 \t reward: 95.253\n",
      "epoch: 1983 \t loss: 89.276 \t reward: 120.903\n",
      "epoch: 1984 \t loss: 71.827 \t reward: 91.704\n",
      "epoch: 1985 \t loss: 118.087 \t reward: 156.511\n",
      "epoch: 1986 \t loss: 80.130 \t reward: 97.346\n",
      "epoch: 1987 \t loss: 71.697 \t reward: 82.462\n",
      "epoch: 1988 \t loss: 74.524 \t reward: 86.941\n",
      "epoch: 1989 \t loss: 75.667 \t reward: 74.648\n"
     ]
    },
    {
     "name": "stderr",
     "output_type": "stream",
     "text": [
      "100%|████████████████████████| 100/100 [02:22<00:00,  1.42s/it]\n"
     ]
    },
    {
     "name": "stdout",
     "output_type": "stream",
     "text": [
      "epoch: 1990 \t loss: 82.712 \t reward: 115.964\n",
      "epoch: 1991 \t loss: 89.406 \t reward: 124.849\n",
      "epoch: 1992 \t loss: 78.600 \t reward: 100.174\n",
      "epoch: 1993 \t loss: 98.557 \t reward: 130.026\n",
      "epoch: 1994 \t loss: 73.808 \t reward: 91.014\n",
      "epoch: 1995 \t loss: 76.634 \t reward: 79.144\n",
      "epoch: 1996 \t loss: 94.090 \t reward: 118.086\n",
      "epoch: 1997 \t loss: 97.345 \t reward: 136.676\n",
      "epoch: 1998 \t loss: 82.262 \t reward: 107.436\n",
      "epoch: 1999 \t loss: 66.650 \t reward: 74.592\n"
     ]
    },
    {
     "name": "stderr",
     "output_type": "stream",
     "text": [
      "100%|████████████████████████| 100/100 [02:12<00:00,  1.32s/it]\n"
     ]
    },
    {
     "name": "stdout",
     "output_type": "stream",
     "text": [
      "epoch: 2000 \t loss: 87.150 \t reward: 114.859\n",
      "epoch: 2001 \t loss: 65.201 \t reward: 89.151\n",
      "epoch: 2002 \t loss: 74.824 \t reward: 101.350\n",
      "epoch: 2003 \t loss: 72.723 \t reward: 97.268\n",
      "epoch: 2004 \t loss: 71.793 \t reward: 97.417\n",
      "epoch: 2005 \t loss: 79.494 \t reward: 115.851\n",
      "epoch: 2006 \t loss: 78.075 \t reward: 119.150\n",
      "epoch: 2007 \t loss: 96.983 \t reward: 131.423\n",
      "epoch: 2008 \t loss: 114.520 \t reward: 180.265\n",
      "epoch: 2009 \t loss: 104.355 \t reward: 161.400\n"
     ]
    },
    {
     "name": "stderr",
     "output_type": "stream",
     "text": [
      "100%|████████████████████████| 100/100 [01:43<00:00,  1.03s/it]\n"
     ]
    },
    {
     "name": "stdout",
     "output_type": "stream",
     "text": [
      "epoch: 2010 \t loss: 75.296 \t reward: 125.191\n",
      "epoch: 2011 \t loss: 106.233 \t reward: 168.305\n",
      "epoch: 2012 \t loss: 56.989 \t reward: 98.054\n",
      "epoch: 2013 \t loss: 144.679 \t reward: 179.417\n",
      "epoch: 2014 \t loss: 93.640 \t reward: 132.896\n",
      "epoch: 2015 \t loss: 91.327 \t reward: 135.316\n",
      "epoch: 2016 \t loss: 64.358 \t reward: 129.963\n",
      "epoch: 2017 \t loss: 93.012 \t reward: 164.751\n",
      "epoch: 2018 \t loss: 145.526 \t reward: 217.826\n",
      "epoch: 2019 \t loss: 52.154 \t reward: 107.952\n"
     ]
    },
    {
     "name": "stderr",
     "output_type": "stream",
     "text": [
      "100%|████████████████████████| 100/100 [01:15<00:00,  1.32it/s]\n"
     ]
    },
    {
     "name": "stdout",
     "output_type": "stream",
     "text": [
      "epoch: 2020 \t loss: 69.794 \t reward: 117.130\n",
      "epoch: 2021 \t loss: 37.836 \t reward: 101.006\n",
      "epoch: 2022 \t loss: 57.093 \t reward: 105.494\n",
      "epoch: 2023 \t loss: 126.308 \t reward: 201.998\n",
      "epoch: 2024 \t loss: 88.299 \t reward: 159.324\n",
      "epoch: 2025 \t loss: 126.345 \t reward: 169.680\n",
      "epoch: 2026 \t loss: 43.377 \t reward: 54.097\n",
      "epoch: 2027 \t loss: 122.239 \t reward: 192.513\n",
      "epoch: 2028 \t loss: 91.044 \t reward: 147.420\n",
      "epoch: 2029 \t loss: 49.858 \t reward: 73.331\n"
     ]
    },
    {
     "name": "stderr",
     "output_type": "stream",
     "text": [
      "100%|████████████████████████| 100/100 [00:39<00:00,  2.51it/s]\n"
     ]
    },
    {
     "name": "stdout",
     "output_type": "stream",
     "text": [
      "epoch: 2030 \t loss: 54.271 \t reward: 110.509\n",
      "epoch: 2031 \t loss: 29.395 \t reward: 60.494\n",
      "epoch: 2032 \t loss: 60.232 \t reward: 125.905\n",
      "epoch: 2033 \t loss: 114.713 \t reward: 135.456\n",
      "epoch: 2034 \t loss: 89.727 \t reward: 169.520\n",
      "epoch: 2035 \t loss: 103.417 \t reward: 134.890\n",
      "epoch: 2036 \t loss: 91.012 \t reward: 106.237\n",
      "epoch: 2037 \t loss: 92.269 \t reward: 129.420\n",
      "epoch: 2038 \t loss: 110.737 \t reward: 168.788\n",
      "epoch: 2039 \t loss: 45.435 \t reward: 68.377\n"
     ]
    },
    {
     "name": "stderr",
     "output_type": "stream",
     "text": [
      "100%|████████████████████████| 100/100 [00:34<00:00,  2.89it/s]\n"
     ]
    },
    {
     "name": "stdout",
     "output_type": "stream",
     "text": [
      "epoch: 2040 \t loss: 78.629 \t reward: 143.977\n",
      "epoch: 2041 \t loss: 42.876 \t reward: 80.473\n",
      "epoch: 2042 \t loss: 2.095 \t reward: -18.231\n",
      "epoch: 2043 \t loss: 53.617 \t reward: 58.960\n",
      "epoch: 2044 \t loss: 44.095 \t reward: 85.744\n",
      "epoch: 2045 \t loss: 45.250 \t reward: 65.678\n",
      "epoch: 2046 \t loss: 51.657 \t reward: 77.687\n",
      "epoch: 2047 \t loss: 31.012 \t reward: 41.329\n",
      "epoch: 2048 \t loss: 64.342 \t reward: 89.076\n",
      "epoch: 2049 \t loss: 76.144 \t reward: 112.662\n"
     ]
    },
    {
     "name": "stderr",
     "output_type": "stream",
     "text": [
      "100%|████████████████████████| 100/100 [00:24<00:00,  4.09it/s]\n"
     ]
    },
    {
     "name": "stdout",
     "output_type": "stream",
     "text": [
      "epoch: 2050 \t loss: 63.163 \t reward: 88.089\n",
      "epoch: 2051 \t loss: 123.703 \t reward: 172.754\n",
      "epoch: 2052 \t loss: 50.902 \t reward: 71.593\n",
      "epoch: 2053 \t loss: 75.472 \t reward: 107.585\n",
      "epoch: 2054 \t loss: 94.002 \t reward: 103.314\n",
      "epoch: 2055 \t loss: 54.895 \t reward: 53.127\n",
      "epoch: 2056 \t loss: 84.670 \t reward: 143.420\n",
      "epoch: 2057 \t loss: 68.908 \t reward: 55.891\n",
      "epoch: 2058 \t loss: 74.185 \t reward: 75.268\n",
      "epoch: 2059 \t loss: 60.085 \t reward: 71.861\n"
     ]
    },
    {
     "name": "stderr",
     "output_type": "stream",
     "text": [
      "100%|████████████████████████| 100/100 [00:26<00:00,  3.74it/s]\n"
     ]
    },
    {
     "name": "stdout",
     "output_type": "stream",
     "text": [
      "epoch: 2060 \t loss: 83.648 \t reward: 118.654\n",
      "epoch: 2061 \t loss: 77.285 \t reward: 98.551\n",
      "epoch: 2062 \t loss: 113.785 \t reward: 153.051\n",
      "epoch: 2063 \t loss: 116.311 \t reward: 155.861\n",
      "epoch: 2064 \t loss: 93.102 \t reward: 125.903\n",
      "epoch: 2065 \t loss: 113.538 \t reward: 155.330\n",
      "epoch: 2066 \t loss: 83.741 \t reward: 109.006\n",
      "epoch: 2067 \t loss: 91.225 \t reward: 137.688\n",
      "epoch: 2068 \t loss: 69.444 \t reward: 115.293\n",
      "epoch: 2069 \t loss: 101.863 \t reward: 147.178\n"
     ]
    },
    {
     "name": "stderr",
     "output_type": "stream",
     "text": [
      "100%|████████████████████████| 100/100 [00:26<00:00,  3.77it/s]\n"
     ]
    },
    {
     "name": "stdout",
     "output_type": "stream",
     "text": [
      "epoch: 2070 \t loss: 86.523 \t reward: 107.847\n",
      "epoch: 2071 \t loss: 79.034 \t reward: 81.592\n",
      "epoch: 2072 \t loss: 69.286 \t reward: 135.510\n",
      "epoch: 2073 \t loss: 110.380 \t reward: 162.185\n",
      "epoch: 2074 \t loss: 61.946 \t reward: 63.548\n",
      "epoch: 2075 \t loss: 103.883 \t reward: 134.691\n",
      "epoch: 2076 \t loss: 98.180 \t reward: 99.974\n",
      "epoch: 2077 \t loss: 102.150 \t reward: 138.642\n",
      "epoch: 2078 \t loss: 79.135 \t reward: 83.525\n",
      "epoch: 2079 \t loss: 92.893 \t reward: 93.483\n"
     ]
    },
    {
     "name": "stderr",
     "output_type": "stream",
     "text": [
      "100%|████████████████████████| 100/100 [00:19<00:00,  5.06it/s]\n"
     ]
    },
    {
     "name": "stdout",
     "output_type": "stream",
     "text": [
      "epoch: 2080 \t loss: 82.378 \t reward: 118.877\n",
      "epoch: 2081 \t loss: 85.968 \t reward: 118.100\n",
      "epoch: 2082 \t loss: 81.490 \t reward: 99.781\n",
      "epoch: 2083 \t loss: 122.398 \t reward: 155.707\n",
      "epoch: 2084 \t loss: 85.913 \t reward: 128.030\n",
      "epoch: 2085 \t loss: 59.375 \t reward: 95.164\n",
      "epoch: 2086 \t loss: 31.901 \t reward: 42.297\n",
      "epoch: 2087 \t loss: 57.853 \t reward: 72.126\n",
      "epoch: 2088 \t loss: 30.299 \t reward: 42.173\n",
      "epoch: 2089 \t loss: 92.454 \t reward: 117.637\n"
     ]
    },
    {
     "name": "stderr",
     "output_type": "stream",
     "text": [
      "100%|████████████████████████| 100/100 [00:21<00:00,  4.75it/s]\n"
     ]
    },
    {
     "name": "stdout",
     "output_type": "stream",
     "text": [
      "epoch: 2090 \t loss: 75.368 \t reward: 99.795\n",
      "epoch: 2091 \t loss: 53.950 \t reward: 49.004\n",
      "epoch: 2092 \t loss: 107.132 \t reward: 113.455\n",
      "epoch: 2093 \t loss: 68.830 \t reward: 121.400\n",
      "epoch: 2094 \t loss: 100.812 \t reward: 136.481\n",
      "epoch: 2095 \t loss: 69.455 \t reward: 81.245\n",
      "epoch: 2096 \t loss: 111.681 \t reward: 145.112\n",
      "epoch: 2097 \t loss: 60.947 \t reward: 84.572\n",
      "epoch: 2098 \t loss: 68.737 \t reward: 106.132\n",
      "epoch: 2099 \t loss: 101.687 \t reward: 190.575\n"
     ]
    },
    {
     "name": "stderr",
     "output_type": "stream",
     "text": [
      "100%|████████████████████████| 100/100 [00:34<00:00,  2.91it/s]\n"
     ]
    },
    {
     "name": "stdout",
     "output_type": "stream",
     "text": [
      "epoch: 2100 \t loss: 139.015 \t reward: 264.068\n",
      "epoch: 2101 \t loss: 45.943 \t reward: 66.602\n",
      "epoch: 2102 \t loss: 93.230 \t reward: 141.086\n",
      "epoch: 2103 \t loss: 90.256 \t reward: 145.499\n",
      "epoch: 2104 \t loss: 101.342 \t reward: 120.738\n",
      "epoch: 2105 \t loss: 93.088 \t reward: 158.668\n",
      "epoch: 2106 \t loss: 88.135 \t reward: 171.469\n",
      "epoch: 2107 \t loss: 99.711 \t reward: 152.645\n",
      "epoch: 2108 \t loss: 93.300 \t reward: 177.316\n",
      "epoch: 2109 \t loss: 120.585 \t reward: 223.849\n"
     ]
    },
    {
     "name": "stderr",
     "output_type": "stream",
     "text": [
      "100%|████████████████████████| 100/100 [01:14<00:00,  1.35it/s]\n"
     ]
    },
    {
     "name": "stdout",
     "output_type": "stream",
     "text": [
      "epoch: 2110 \t loss: 44.905 \t reward: 68.011\n",
      "epoch: 2111 \t loss: 95.218 \t reward: 109.005\n",
      "epoch: 2112 \t loss: 82.068 \t reward: 127.856\n",
      "epoch: 2113 \t loss: 77.732 \t reward: 80.592\n",
      "epoch: 2114 \t loss: 96.423 \t reward: 149.798\n",
      "epoch: 2115 \t loss: 105.364 \t reward: 171.509\n",
      "epoch: 2116 \t loss: 143.514 \t reward: 206.974\n",
      "epoch: 2117 \t loss: 66.761 \t reward: 140.893\n",
      "epoch: 2118 \t loss: 121.053 \t reward: 196.952\n",
      "epoch: 2119 \t loss: 110.451 \t reward: 206.215\n"
     ]
    },
    {
     "name": "stderr",
     "output_type": "stream",
     "text": [
      "100%|████████████████████████| 100/100 [01:17<00:00,  1.28it/s]\n"
     ]
    },
    {
     "name": "stdout",
     "output_type": "stream",
     "text": [
      "epoch: 2120 \t loss: 63.607 \t reward: 84.235\n",
      "epoch: 2121 \t loss: 75.720 \t reward: 132.809\n",
      "epoch: 2122 \t loss: 76.982 \t reward: 129.117\n",
      "epoch: 2123 \t loss: 93.763 \t reward: 179.851\n",
      "epoch: 2124 \t loss: 103.852 \t reward: 174.830\n",
      "epoch: 2125 \t loss: 132.210 \t reward: 222.089\n",
      "epoch: 2126 \t loss: 102.283 \t reward: 202.684\n",
      "epoch: 2127 \t loss: 125.671 \t reward: 205.783\n",
      "epoch: 2128 \t loss: 69.470 \t reward: 147.942\n",
      "epoch: 2129 \t loss: 139.794 \t reward: 234.987\n"
     ]
    },
    {
     "name": "stderr",
     "output_type": "stream",
     "text": [
      "100%|████████████████████████| 100/100 [01:01<00:00,  1.62it/s]\n"
     ]
    },
    {
     "name": "stdout",
     "output_type": "stream",
     "text": [
      "Best model! Average reward = 175.54\n",
      "epoch: 2130 \t loss: 71.622 \t reward: 152.453\n",
      "epoch: 2131 \t loss: 35.403 \t reward: 44.028\n",
      "epoch: 2132 \t loss: 126.028 \t reward: 234.160\n",
      "epoch: 2133 \t loss: 125.561 \t reward: 206.711\n",
      "epoch: 2134 \t loss: 148.257 \t reward: 242.751\n",
      "epoch: 2135 \t loss: 45.207 \t reward: 62.645\n",
      "epoch: 2136 \t loss: 101.122 \t reward: 194.434\n",
      "epoch: 2137 \t loss: 110.099 \t reward: 226.373\n",
      "epoch: 2138 \t loss: 113.174 \t reward: 155.469\n",
      "epoch: 2139 \t loss: 82.033 \t reward: 183.696\n"
     ]
    },
    {
     "name": "stderr",
     "output_type": "stream",
     "text": [
      "100%|████████████████████████| 100/100 [01:13<00:00,  1.37it/s]\n"
     ]
    },
    {
     "name": "stdout",
     "output_type": "stream",
     "text": [
      "epoch: 2140 \t loss: 76.264 \t reward: 170.845\n",
      "epoch: 2141 \t loss: 94.728 \t reward: 138.917\n",
      "epoch: 2142 \t loss: 98.524 \t reward: 216.354\n",
      "epoch: 2143 \t loss: 66.182 \t reward: 133.743\n",
      "epoch: 2144 \t loss: 42.040 \t reward: 72.875\n",
      "epoch: 2145 \t loss: 78.367 \t reward: 143.786\n",
      "epoch: 2146 \t loss: 112.635 \t reward: 216.748\n",
      "epoch: 2147 \t loss: 115.198 \t reward: 178.668\n",
      "epoch: 2148 \t loss: 105.940 \t reward: 184.997\n",
      "epoch: 2149 \t loss: 41.704 \t reward: 68.398\n"
     ]
    },
    {
     "name": "stderr",
     "output_type": "stream",
     "text": [
      "100%|████████████████████████| 100/100 [00:49<00:00,  2.02it/s]\n"
     ]
    },
    {
     "name": "stdout",
     "output_type": "stream",
     "text": [
      "epoch: 2150 \t loss: 82.693 \t reward: 181.910\n",
      "epoch: 2151 \t loss: 74.088 \t reward: 119.402\n",
      "epoch: 2152 \t loss: 95.589 \t reward: 187.754\n",
      "epoch: 2153 \t loss: 104.484 \t reward: 197.774\n",
      "epoch: 2154 \t loss: 70.046 \t reward: 156.000\n",
      "epoch: 2155 \t loss: 78.717 \t reward: 154.426\n",
      "epoch: 2156 \t loss: 92.319 \t reward: 209.812\n",
      "epoch: 2157 \t loss: 116.784 \t reward: 197.958\n",
      "epoch: 2158 \t loss: 11.324 \t reward: 30.886\n",
      "epoch: 2159 \t loss: 128.146 \t reward: 218.649\n"
     ]
    },
    {
     "name": "stderr",
     "output_type": "stream",
     "text": [
      "100%|████████████████████████| 100/100 [00:52<00:00,  1.91it/s]\n"
     ]
    },
    {
     "name": "stdout",
     "output_type": "stream",
     "text": [
      "epoch: 2160 \t loss: 92.800 \t reward: 170.561\n",
      "epoch: 2161 \t loss: 80.333 \t reward: 167.087\n",
      "epoch: 2162 \t loss: 102.963 \t reward: 199.298\n",
      "epoch: 2163 \t loss: 125.569 \t reward: 222.537\n",
      "epoch: 2164 \t loss: 137.003 \t reward: 221.966\n",
      "epoch: 2165 \t loss: 77.454 \t reward: 118.022\n",
      "epoch: 2166 \t loss: 83.754 \t reward: 183.363\n",
      "epoch: 2167 \t loss: 81.565 \t reward: 155.570\n",
      "epoch: 2168 \t loss: 77.974 \t reward: 159.956\n",
      "epoch: 2169 \t loss: 64.165 \t reward: 152.280\n"
     ]
    },
    {
     "name": "stderr",
     "output_type": "stream",
     "text": [
      "100%|████████████████████████| 100/100 [01:11<00:00,  1.40it/s]\n"
     ]
    },
    {
     "name": "stdout",
     "output_type": "stream",
     "text": [
      "epoch: 2170 \t loss: 107.361 \t reward: 196.754\n",
      "epoch: 2171 \t loss: 97.227 \t reward: 201.623\n",
      "epoch: 2172 \t loss: 131.901 \t reward: 217.685\n",
      "epoch: 2173 \t loss: 99.022 \t reward: 174.647\n",
      "epoch: 2174 \t loss: 82.527 \t reward: 136.026\n",
      "epoch: 2175 \t loss: 121.818 \t reward: 192.160\n",
      "epoch: 2176 \t loss: 88.361 \t reward: 159.819\n",
      "epoch: 2177 \t loss: 126.498 \t reward: 223.121\n",
      "epoch: 2178 \t loss: 121.812 \t reward: 205.911\n",
      "epoch: 2179 \t loss: 25.494 \t reward: 50.885\n"
     ]
    },
    {
     "name": "stderr",
     "output_type": "stream",
     "text": [
      "100%|████████████████████████| 100/100 [01:04<00:00,  1.54it/s]\n"
     ]
    },
    {
     "name": "stdout",
     "output_type": "stream",
     "text": [
      "epoch: 2180 \t loss: 75.130 \t reward: 140.313\n",
      "epoch: 2181 \t loss: 57.433 \t reward: 102.960\n",
      "epoch: 2182 \t loss: 83.732 \t reward: 161.381\n",
      "epoch: 2183 \t loss: 115.198 \t reward: 201.262\n",
      "epoch: 2184 \t loss: 91.511 \t reward: 167.567\n",
      "epoch: 2185 \t loss: 101.162 \t reward: 195.072\n",
      "epoch: 2186 \t loss: 41.689 \t reward: 95.184\n",
      "epoch: 2187 \t loss: 110.791 \t reward: 188.114\n",
      "epoch: 2188 \t loss: 103.397 \t reward: 193.854\n",
      "epoch: 2189 \t loss: 48.732 \t reward: 125.617\n"
     ]
    },
    {
     "name": "stderr",
     "output_type": "stream",
     "text": [
      "100%|████████████████████████| 100/100 [00:56<00:00,  1.78it/s]\n"
     ]
    },
    {
     "name": "stdout",
     "output_type": "stream",
     "text": [
      "Best model! Average reward = 178.60\n",
      "epoch: 2190 \t loss: 73.113 \t reward: 129.890\n",
      "epoch: 2191 \t loss: 66.560 \t reward: 90.963\n",
      "epoch: 2192 \t loss: 137.386 \t reward: 226.538\n",
      "epoch: 2193 \t loss: 97.323 \t reward: 160.432\n",
      "epoch: 2194 \t loss: 91.509 \t reward: 139.324\n",
      "epoch: 2195 \t loss: -0.229 \t reward: 4.746\n",
      "epoch: 2196 \t loss: 99.706 \t reward: 172.361\n",
      "epoch: 2197 \t loss: 123.728 \t reward: 220.236\n",
      "epoch: 2198 \t loss: 21.616 \t reward: 38.305\n",
      "epoch: 2199 \t loss: 49.931 \t reward: 140.160\n"
     ]
    },
    {
     "name": "stderr",
     "output_type": "stream",
     "text": [
      "100%|████████████████████████| 100/100 [00:54<00:00,  1.83it/s]\n"
     ]
    },
    {
     "name": "stdout",
     "output_type": "stream",
     "text": [
      "epoch: 2200 \t loss: 108.013 \t reward: 201.921\n",
      "epoch: 2201 \t loss: 50.000 \t reward: 77.110\n",
      "epoch: 2202 \t loss: 36.328 \t reward: 106.969\n",
      "epoch: 2203 \t loss: 45.903 \t reward: 81.384\n",
      "epoch: 2204 \t loss: 88.810 \t reward: 176.634\n",
      "epoch: 2205 \t loss: 93.825 \t reward: 200.796\n",
      "epoch: 2206 \t loss: 67.039 \t reward: 103.275\n",
      "epoch: 2207 \t loss: 105.000 \t reward: 211.842\n",
      "epoch: 2208 \t loss: 102.292 \t reward: 158.666\n",
      "epoch: 2209 \t loss: 83.762 \t reward: 126.418\n"
     ]
    },
    {
     "name": "stderr",
     "output_type": "stream",
     "text": [
      "100%|████████████████████████| 100/100 [00:51<00:00,  1.95it/s]\n"
     ]
    },
    {
     "name": "stdout",
     "output_type": "stream",
     "text": [
      "epoch: 2210 \t loss: 88.406 \t reward: 167.197\n",
      "epoch: 2211 \t loss: 48.002 \t reward: 137.452\n",
      "epoch: 2212 \t loss: 85.640 \t reward: 106.563\n",
      "epoch: 2213 \t loss: 114.240 \t reward: 162.104\n",
      "epoch: 2214 \t loss: 107.146 \t reward: 219.683\n",
      "epoch: 2215 \t loss: 59.435 \t reward: 116.354\n",
      "epoch: 2216 \t loss: 98.883 \t reward: 200.984\n",
      "epoch: 2217 \t loss: 55.782 \t reward: 93.595\n",
      "epoch: 2218 \t loss: 67.111 \t reward: 153.873\n",
      "epoch: 2219 \t loss: 80.563 \t reward: 93.443\n"
     ]
    },
    {
     "name": "stderr",
     "output_type": "stream",
     "text": [
      "100%|████████████████████████| 100/100 [00:33<00:00,  2.97it/s]\n"
     ]
    },
    {
     "name": "stdout",
     "output_type": "stream",
     "text": [
      "epoch: 2220 \t loss: 58.090 \t reward: 74.785\n",
      "epoch: 2221 \t loss: 46.033 \t reward: 62.747\n",
      "epoch: 2222 \t loss: 78.374 \t reward: 81.839\n",
      "epoch: 2223 \t loss: 62.236 \t reward: 139.227\n",
      "epoch: 2224 \t loss: 49.960 \t reward: 67.164\n",
      "epoch: 2225 \t loss: 45.290 \t reward: 51.637\n",
      "epoch: 2226 \t loss: 39.082 \t reward: 57.734\n",
      "epoch: 2227 \t loss: 95.998 \t reward: 156.430\n",
      "epoch: 2228 \t loss: 31.034 \t reward: 41.083\n",
      "epoch: 2229 \t loss: 88.520 \t reward: 101.399\n"
     ]
    },
    {
     "name": "stderr",
     "output_type": "stream",
     "text": [
      "100%|████████████████████████| 100/100 [00:31<00:00,  3.14it/s]\n"
     ]
    },
    {
     "name": "stdout",
     "output_type": "stream",
     "text": [
      "epoch: 2230 \t loss: 61.444 \t reward: 130.958\n",
      "epoch: 2231 \t loss: 77.119 \t reward: 105.414\n",
      "epoch: 2232 \t loss: 44.566 \t reward: 31.253\n",
      "epoch: 2233 \t loss: 89.745 \t reward: 161.206\n",
      "epoch: 2234 \t loss: 53.232 \t reward: 79.023\n",
      "epoch: 2235 \t loss: 69.485 \t reward: 89.272\n",
      "epoch: 2236 \t loss: 74.190 \t reward: 80.034\n",
      "epoch: 2237 \t loss: 81.143 \t reward: 132.777\n",
      "epoch: 2238 \t loss: 98.255 \t reward: 153.371\n",
      "epoch: 2239 \t loss: 57.717 \t reward: 115.135\n"
     ]
    },
    {
     "name": "stderr",
     "output_type": "stream",
     "text": [
      "100%|████████████████████████| 100/100 [00:43<00:00,  2.32it/s]\n"
     ]
    },
    {
     "name": "stdout",
     "output_type": "stream",
     "text": [
      "epoch: 2240 \t loss: 62.744 \t reward: 137.871\n",
      "epoch: 2241 \t loss: 59.560 \t reward: 69.435\n",
      "epoch: 2242 \t loss: 100.578 \t reward: 130.903\n",
      "epoch: 2243 \t loss: 50.415 \t reward: 66.324\n",
      "epoch: 2244 \t loss: 70.730 \t reward: 123.553\n",
      "epoch: 2245 \t loss: 53.910 \t reward: 116.854\n",
      "epoch: 2246 \t loss: 64.873 \t reward: 85.551\n",
      "epoch: 2247 \t loss: 8.855 \t reward: 7.954\n",
      "epoch: 2248 \t loss: 88.895 \t reward: 161.507\n",
      "epoch: 2249 \t loss: 106.196 \t reward: 134.472\n"
     ]
    },
    {
     "name": "stderr",
     "output_type": "stream",
     "text": [
      "100%|████████████████████████| 100/100 [00:49<00:00,  2.03it/s]\n"
     ]
    },
    {
     "name": "stdout",
     "output_type": "stream",
     "text": [
      "epoch: 2250 \t loss: 80.301 \t reward: 84.503\n",
      "epoch: 2251 \t loss: 118.794 \t reward: 192.277\n",
      "epoch: 2252 \t loss: 32.297 \t reward: 60.434\n",
      "epoch: 2253 \t loss: 87.183 \t reward: 122.408\n",
      "epoch: 2254 \t loss: 86.181 \t reward: 82.120\n",
      "epoch: 2255 \t loss: 52.205 \t reward: 25.882\n",
      "epoch: 2256 \t loss: 104.293 \t reward: 154.422\n",
      "epoch: 2257 \t loss: 39.103 \t reward: 50.778\n",
      "epoch: 2258 \t loss: 103.326 \t reward: 99.372\n",
      "epoch: 2259 \t loss: 106.338 \t reward: 190.882\n"
     ]
    },
    {
     "name": "stderr",
     "output_type": "stream",
     "text": [
      "100%|████████████████████████| 100/100 [00:51<00:00,  1.95it/s]\n"
     ]
    },
    {
     "name": "stdout",
     "output_type": "stream",
     "text": [
      "epoch: 2260 \t loss: 74.095 \t reward: 81.189\n",
      "epoch: 2261 \t loss: 36.145 \t reward: 59.829\n",
      "epoch: 2262 \t loss: 98.566 \t reward: 139.599\n",
      "epoch: 2263 \t loss: 24.458 \t reward: 22.248\n",
      "epoch: 2264 \t loss: 131.095 \t reward: 205.171\n",
      "epoch: 2265 \t loss: 72.928 \t reward: 65.088\n",
      "epoch: 2266 \t loss: 55.424 \t reward: 121.188\n",
      "epoch: 2267 \t loss: 60.719 \t reward: 131.061\n",
      "epoch: 2268 \t loss: 84.221 \t reward: 152.699\n",
      "epoch: 2269 \t loss: 127.519 \t reward: 213.081\n"
     ]
    },
    {
     "name": "stderr",
     "output_type": "stream",
     "text": [
      "100%|████████████████████████| 100/100 [00:45<00:00,  2.22it/s]\n"
     ]
    },
    {
     "name": "stdout",
     "output_type": "stream",
     "text": [
      "epoch: 2270 \t loss: 74.581 \t reward: 125.987\n",
      "epoch: 2271 \t loss: 110.378 \t reward: 198.472\n",
      "epoch: 2272 \t loss: 44.986 \t reward: 57.643\n",
      "epoch: 2273 \t loss: 54.826 \t reward: 80.609\n",
      "epoch: 2274 \t loss: 130.165 \t reward: 242.701\n",
      "epoch: 2275 \t loss: 65.302 \t reward: 129.896\n",
      "epoch: 2276 \t loss: 66.782 \t reward: 74.158\n",
      "epoch: 2277 \t loss: 75.042 \t reward: 141.333\n",
      "epoch: 2278 \t loss: 83.131 \t reward: 183.261\n",
      "epoch: 2279 \t loss: 107.399 \t reward: 178.816\n"
     ]
    },
    {
     "name": "stderr",
     "output_type": "stream",
     "text": [
      "100%|████████████████████████| 100/100 [00:50<00:00,  1.98it/s]\n"
     ]
    },
    {
     "name": "stdout",
     "output_type": "stream",
     "text": [
      "epoch: 2280 \t loss: 82.686 \t reward: 149.686\n",
      "epoch: 2281 \t loss: 83.684 \t reward: 157.148\n",
      "epoch: 2282 \t loss: 71.203 \t reward: 83.441\n",
      "epoch: 2283 \t loss: 79.817 \t reward: 175.829\n",
      "epoch: 2284 \t loss: 89.683 \t reward: 120.062\n",
      "epoch: 2285 \t loss: 110.355 \t reward: 160.496\n",
      "epoch: 2286 \t loss: 83.606 \t reward: 129.769\n",
      "epoch: 2287 \t loss: 34.793 \t reward: 47.640\n",
      "epoch: 2288 \t loss: 98.588 \t reward: 179.549\n",
      "epoch: 2289 \t loss: 37.581 \t reward: 33.584\n"
     ]
    },
    {
     "name": "stderr",
     "output_type": "stream",
     "text": [
      "100%|████████████████████████| 100/100 [01:09<00:00,  1.45it/s]\n"
     ]
    },
    {
     "name": "stdout",
     "output_type": "stream",
     "text": [
      "epoch: 2290 \t loss: 96.808 \t reward: 152.155\n",
      "epoch: 2291 \t loss: 57.444 \t reward: 106.944\n",
      "epoch: 2292 \t loss: 93.391 \t reward: 159.412\n",
      "epoch: 2293 \t loss: 110.405 \t reward: 167.619\n",
      "epoch: 2294 \t loss: 49.541 \t reward: 79.437\n",
      "epoch: 2295 \t loss: 71.853 \t reward: 133.559\n",
      "epoch: 2296 \t loss: 79.829 \t reward: 136.480\n",
      "epoch: 2297 \t loss: 90.431 \t reward: 124.441\n",
      "epoch: 2298 \t loss: 40.405 \t reward: 55.507\n",
      "epoch: 2299 \t loss: 34.922 \t reward: 64.040\n"
     ]
    },
    {
     "name": "stderr",
     "output_type": "stream",
     "text": [
      "100%|████████████████████████| 100/100 [00:59<00:00,  1.68it/s]\n"
     ]
    },
    {
     "name": "stdout",
     "output_type": "stream",
     "text": [
      "epoch: 2300 \t loss: 109.450 \t reward: 225.043\n",
      "epoch: 2301 \t loss: 87.402 \t reward: 193.193\n",
      "epoch: 2302 \t loss: 29.741 \t reward: 73.366\n",
      "epoch: 2303 \t loss: 63.243 \t reward: 136.491\n",
      "epoch: 2304 \t loss: 103.229 \t reward: 163.911\n",
      "epoch: 2305 \t loss: 55.525 \t reward: 136.307\n",
      "epoch: 2306 \t loss: 114.435 \t reward: 213.072\n",
      "epoch: 2307 \t loss: 52.687 \t reward: 102.213\n",
      "epoch: 2308 \t loss: 108.789 \t reward: 172.576\n",
      "epoch: 2309 \t loss: 60.265 \t reward: 100.064\n"
     ]
    },
    {
     "name": "stderr",
     "output_type": "stream",
     "text": [
      "100%|████████████████████████| 100/100 [01:01<00:00,  1.63it/s]\n"
     ]
    },
    {
     "name": "stdout",
     "output_type": "stream",
     "text": [
      "epoch: 2310 \t loss: 92.636 \t reward: 195.151\n",
      "epoch: 2311 \t loss: 62.947 \t reward: 154.161\n",
      "epoch: 2312 \t loss: 65.356 \t reward: 104.290\n",
      "epoch: 2313 \t loss: 95.080 \t reward: 200.574\n",
      "epoch: 2314 \t loss: 66.623 \t reward: 105.096\n",
      "epoch: 2315 \t loss: 67.130 \t reward: 142.882\n",
      "epoch: 2316 \t loss: 37.749 \t reward: 66.438\n",
      "epoch: 2317 \t loss: 105.398 \t reward: 199.199\n",
      "epoch: 2318 \t loss: 51.671 \t reward: 85.011\n",
      "epoch: 2319 \t loss: 79.267 \t reward: 116.653\n"
     ]
    },
    {
     "name": "stderr",
     "output_type": "stream",
     "text": [
      "100%|████████████████████████| 100/100 [00:49<00:00,  2.01it/s]\n"
     ]
    },
    {
     "name": "stdout",
     "output_type": "stream",
     "text": [
      "epoch: 2320 \t loss: 99.888 \t reward: 202.851\n",
      "epoch: 2321 \t loss: 87.002 \t reward: 166.223\n",
      "epoch: 2322 \t loss: 105.317 \t reward: 199.856\n",
      "epoch: 2323 \t loss: 64.156 \t reward: 117.240\n",
      "epoch: 2324 \t loss: 111.719 \t reward: 156.895\n",
      "epoch: 2325 \t loss: 93.856 \t reward: 144.279\n",
      "epoch: 2326 \t loss: 99.442 \t reward: 132.729\n",
      "epoch: 2327 \t loss: 75.031 \t reward: 155.535\n",
      "epoch: 2328 \t loss: 88.667 \t reward: 161.531\n",
      "epoch: 2329 \t loss: 104.635 \t reward: 186.364\n"
     ]
    },
    {
     "name": "stderr",
     "output_type": "stream",
     "text": [
      "100%|████████████████████████| 100/100 [00:54<00:00,  1.82it/s]\n"
     ]
    },
    {
     "name": "stdout",
     "output_type": "stream",
     "text": [
      "epoch: 2330 \t loss: 89.193 \t reward: 107.929\n",
      "epoch: 2331 \t loss: 118.113 \t reward: 225.788\n",
      "epoch: 2332 \t loss: 81.029 \t reward: 128.704\n",
      "epoch: 2333 \t loss: 97.769 \t reward: 162.522\n",
      "epoch: 2334 \t loss: 91.519 \t reward: 124.482\n",
      "epoch: 2335 \t loss: 77.568 \t reward: 129.676\n",
      "epoch: 2336 \t loss: 78.979 \t reward: 215.977\n",
      "epoch: 2337 \t loss: 151.659 \t reward: 249.085\n",
      "epoch: 2338 \t loss: 61.199 \t reward: 130.349\n",
      "epoch: 2339 \t loss: 40.397 \t reward: 56.479\n"
     ]
    },
    {
     "name": "stderr",
     "output_type": "stream",
     "text": [
      "100%|████████████████████████| 100/100 [00:50<00:00,  1.97it/s]\n"
     ]
    },
    {
     "name": "stdout",
     "output_type": "stream",
     "text": [
      "epoch: 2340 \t loss: 118.794 \t reward: 176.208\n",
      "epoch: 2341 \t loss: -10.545 \t reward: -17.619\n",
      "epoch: 2342 \t loss: 47.225 \t reward: 110.797\n",
      "epoch: 2343 \t loss: 65.759 \t reward: 120.504\n",
      "epoch: 2344 \t loss: 75.274 \t reward: 159.771\n",
      "epoch: 2345 \t loss: 65.874 \t reward: 119.978\n",
      "epoch: 2346 \t loss: 81.551 \t reward: 157.950\n",
      "epoch: 2347 \t loss: 73.399 \t reward: 144.179\n",
      "epoch: 2348 \t loss: 67.535 \t reward: 152.842\n",
      "epoch: 2349 \t loss: 74.207 \t reward: 88.122\n"
     ]
    },
    {
     "name": "stderr",
     "output_type": "stream",
     "text": [
      "100%|████████████████████████| 100/100 [00:58<00:00,  1.71it/s]\n"
     ]
    },
    {
     "name": "stdout",
     "output_type": "stream",
     "text": [
      "epoch: 2350 \t loss: 23.346 \t reward: 37.559\n",
      "epoch: 2351 \t loss: 75.933 \t reward: 147.821\n",
      "epoch: 2352 \t loss: 67.093 \t reward: 100.108\n",
      "epoch: 2353 \t loss: 58.888 \t reward: 133.594\n",
      "epoch: 2354 \t loss: 110.266 \t reward: 178.074\n",
      "epoch: 2355 \t loss: 51.020 \t reward: 95.964\n",
      "epoch: 2356 \t loss: 68.848 \t reward: 64.935\n",
      "epoch: 2357 \t loss: 41.308 \t reward: 63.944\n",
      "epoch: 2358 \t loss: 78.198 \t reward: 92.798\n",
      "epoch: 2359 \t loss: 104.151 \t reward: 170.165\n"
     ]
    },
    {
     "name": "stderr",
     "output_type": "stream",
     "text": [
      "100%|████████████████████████| 100/100 [01:08<00:00,  1.46it/s]\n"
     ]
    },
    {
     "name": "stdout",
     "output_type": "stream",
     "text": [
      "epoch: 2360 \t loss: 100.061 \t reward: 137.797\n",
      "epoch: 2361 \t loss: 139.714 \t reward: 207.574\n",
      "epoch: 2362 \t loss: 38.462 \t reward: 48.166\n",
      "epoch: 2363 \t loss: 79.443 \t reward: 137.375\n",
      "epoch: 2364 \t loss: 36.074 \t reward: 63.925\n",
      "epoch: 2365 \t loss: 113.741 \t reward: 199.582\n",
      "epoch: 2366 \t loss: 121.871 \t reward: 213.213\n",
      "epoch: 2367 \t loss: 77.976 \t reward: 91.417\n",
      "epoch: 2368 \t loss: 87.195 \t reward: 109.056\n",
      "epoch: 2369 \t loss: 80.399 \t reward: 140.985\n"
     ]
    },
    {
     "name": "stderr",
     "output_type": "stream",
     "text": [
      "100%|████████████████████████| 100/100 [01:06<00:00,  1.51it/s]\n"
     ]
    },
    {
     "name": "stdout",
     "output_type": "stream",
     "text": [
      "epoch: 2370 \t loss: 102.182 \t reward: 167.392\n",
      "epoch: 2371 \t loss: 83.925 \t reward: 145.752\n",
      "epoch: 2372 \t loss: 128.794 \t reward: 148.029\n",
      "epoch: 2373 \t loss: 71.623 \t reward: 122.955\n",
      "epoch: 2374 \t loss: 60.399 \t reward: 128.688\n",
      "epoch: 2375 \t loss: 91.821 \t reward: 100.263\n",
      "epoch: 2376 \t loss: 45.098 \t reward: 58.294\n",
      "epoch: 2377 \t loss: 85.927 \t reward: 159.209\n",
      "epoch: 2378 \t loss: 69.011 \t reward: 124.161\n",
      "epoch: 2379 \t loss: 89.194 \t reward: 147.817\n"
     ]
    },
    {
     "name": "stderr",
     "output_type": "stream",
     "text": [
      "100%|████████████████████████| 100/100 [00:58<00:00,  1.72it/s]\n"
     ]
    },
    {
     "name": "stdout",
     "output_type": "stream",
     "text": [
      "epoch: 2380 \t loss: 115.842 \t reward: 230.596\n",
      "epoch: 2381 \t loss: 82.641 \t reward: 111.188\n",
      "epoch: 2382 \t loss: 123.514 \t reward: 203.100\n",
      "epoch: 2383 \t loss: 82.124 \t reward: 126.023\n",
      "epoch: 2384 \t loss: 103.712 \t reward: 225.790\n",
      "epoch: 2385 \t loss: 70.324 \t reward: 156.492\n",
      "epoch: 2386 \t loss: 43.307 \t reward: 59.671\n",
      "epoch: 2387 \t loss: 99.112 \t reward: 133.675\n",
      "epoch: 2388 \t loss: 70.433 \t reward: 99.971\n",
      "epoch: 2389 \t loss: 74.904 \t reward: 150.030\n"
     ]
    },
    {
     "name": "stderr",
     "output_type": "stream",
     "text": [
      "100%|████████████████████████| 100/100 [00:40<00:00,  2.45it/s]\n"
     ]
    },
    {
     "name": "stdout",
     "output_type": "stream",
     "text": [
      "epoch: 2390 \t loss: 113.099 \t reward: 147.433\n",
      "epoch: 2391 \t loss: 64.565 \t reward: 128.088\n",
      "epoch: 2392 \t loss: 68.547 \t reward: 100.268\n",
      "epoch: 2393 \t loss: 67.149 \t reward: 90.952\n",
      "epoch: 2394 \t loss: 96.029 \t reward: 137.036\n",
      "epoch: 2395 \t loss: 106.245 \t reward: 184.549\n",
      "epoch: 2396 \t loss: 33.454 \t reward: 92.571\n",
      "epoch: 2397 \t loss: 105.480 \t reward: 144.110\n",
      "epoch: 2398 \t loss: 23.478 \t reward: 43.722\n",
      "epoch: 2399 \t loss: 100.786 \t reward: 157.727\n"
     ]
    },
    {
     "name": "stderr",
     "output_type": "stream",
     "text": [
      "100%|████████████████████████| 100/100 [00:35<00:00,  2.79it/s]\n"
     ]
    },
    {
     "name": "stdout",
     "output_type": "stream",
     "text": [
      "epoch: 2400 \t loss: 57.717 \t reward: 74.347\n",
      "epoch: 2401 \t loss: 132.959 \t reward: 203.639\n",
      "epoch: 2402 \t loss: 64.917 \t reward: 120.253\n",
      "epoch: 2403 \t loss: 82.266 \t reward: 122.647\n",
      "epoch: 2404 \t loss: 99.887 \t reward: 145.335\n",
      "epoch: 2405 \t loss: 73.686 \t reward: 145.380\n",
      "epoch: 2406 \t loss: 61.040 \t reward: 127.326\n",
      "epoch: 2407 \t loss: 86.675 \t reward: 119.225\n",
      "epoch: 2408 \t loss: 40.586 \t reward: 65.138\n",
      "epoch: 2409 \t loss: 59.172 \t reward: 80.894\n"
     ]
    },
    {
     "name": "stderr",
     "output_type": "stream",
     "text": [
      "100%|████████████████████████| 100/100 [00:32<00:00,  3.04it/s]\n"
     ]
    },
    {
     "name": "stdout",
     "output_type": "stream",
     "text": [
      "epoch: 2410 \t loss: 68.494 \t reward: 76.307\n",
      "epoch: 2411 \t loss: 65.818 \t reward: 61.787\n",
      "epoch: 2412 \t loss: 71.997 \t reward: 125.245\n",
      "epoch: 2413 \t loss: 51.669 \t reward: 81.345\n",
      "epoch: 2414 \t loss: 49.285 \t reward: 52.733\n",
      "epoch: 2415 \t loss: 41.926 \t reward: 38.647\n",
      "epoch: 2416 \t loss: 88.685 \t reward: 117.998\n",
      "epoch: 2417 \t loss: 45.167 \t reward: 30.059\n",
      "epoch: 2418 \t loss: 42.334 \t reward: 25.704\n",
      "epoch: 2419 \t loss: 29.500 \t reward: 18.872\n"
     ]
    },
    {
     "name": "stderr",
     "output_type": "stream",
     "text": [
      "100%|████████████████████████| 100/100 [00:32<00:00,  3.07it/s]\n"
     ]
    },
    {
     "name": "stdout",
     "output_type": "stream",
     "text": [
      "epoch: 2420 \t loss: 71.335 \t reward: 104.124\n",
      "epoch: 2421 \t loss: 55.938 \t reward: 59.169\n",
      "epoch: 2422 \t loss: 59.306 \t reward: 99.278\n",
      "epoch: 2423 \t loss: 90.250 \t reward: 103.678\n",
      "epoch: 2424 \t loss: 77.361 \t reward: 117.344\n",
      "epoch: 2425 \t loss: 71.469 \t reward: 139.165\n",
      "epoch: 2426 \t loss: 56.822 \t reward: 90.281\n",
      "epoch: 2427 \t loss: 42.847 \t reward: 46.850\n",
      "epoch: 2428 \t loss: 70.834 \t reward: 125.918\n",
      "epoch: 2429 \t loss: 85.345 \t reward: 69.410\n"
     ]
    },
    {
     "name": "stderr",
     "output_type": "stream",
     "text": [
      "100%|████████████████████████| 100/100 [00:22<00:00,  4.43it/s]\n"
     ]
    },
    {
     "name": "stdout",
     "output_type": "stream",
     "text": [
      "epoch: 2430 \t loss: 89.858 \t reward: 119.704\n",
      "epoch: 2431 \t loss: 27.904 \t reward: 17.866\n",
      "epoch: 2432 \t loss: 35.690 \t reward: 34.922\n",
      "epoch: 2433 \t loss: 69.558 \t reward: 58.095\n",
      "epoch: 2434 \t loss: 70.050 \t reward: 78.815\n",
      "epoch: 2435 \t loss: 101.454 \t reward: 126.379\n",
      "epoch: 2436 \t loss: 55.856 \t reward: 29.125\n",
      "epoch: 2437 \t loss: 29.085 \t reward: 26.910\n",
      "epoch: 2438 \t loss: 83.626 \t reward: 102.613\n",
      "epoch: 2439 \t loss: 105.742 \t reward: 188.592\n"
     ]
    },
    {
     "name": "stderr",
     "output_type": "stream",
     "text": [
      "100%|████████████████████████| 100/100 [00:36<00:00,  2.77it/s]\n"
     ]
    },
    {
     "name": "stdout",
     "output_type": "stream",
     "text": [
      "epoch: 2440 \t loss: 103.325 \t reward: 147.243\n",
      "epoch: 2441 \t loss: 59.035 \t reward: 72.276\n",
      "epoch: 2442 \t loss: 65.954 \t reward: 78.854\n",
      "epoch: 2443 \t loss: 83.321 \t reward: 81.293\n",
      "epoch: 2444 \t loss: 63.824 \t reward: 113.711\n",
      "epoch: 2445 \t loss: 77.864 \t reward: 55.252\n",
      "epoch: 2446 \t loss: 82.074 \t reward: 104.025\n",
      "epoch: 2447 \t loss: 33.815 \t reward: 39.894\n",
      "epoch: 2448 \t loss: 87.593 \t reward: 110.107\n",
      "epoch: 2449 \t loss: 100.070 \t reward: 202.382\n"
     ]
    },
    {
     "name": "stderr",
     "output_type": "stream",
     "text": [
      "100%|████████████████████████| 100/100 [00:41<00:00,  2.41it/s]\n"
     ]
    },
    {
     "name": "stdout",
     "output_type": "stream",
     "text": [
      "epoch: 2450 \t loss: 102.179 \t reward: 116.040\n",
      "epoch: 2451 \t loss: 101.558 \t reward: 168.946\n",
      "epoch: 2452 \t loss: 44.663 \t reward: 50.328\n",
      "epoch: 2453 \t loss: 88.873 \t reward: 82.941\n",
      "epoch: 2454 \t loss: 82.627 \t reward: 87.400\n",
      "epoch: 2455 \t loss: 57.049 \t reward: 54.723\n",
      "epoch: 2456 \t loss: 77.999 \t reward: 108.547\n",
      "epoch: 2457 \t loss: 68.348 \t reward: 49.900\n",
      "epoch: 2458 \t loss: 102.642 \t reward: 192.007\n",
      "epoch: 2459 \t loss: 117.663 \t reward: 188.691\n"
     ]
    },
    {
     "name": "stderr",
     "output_type": "stream",
     "text": [
      "100%|████████████████████████| 100/100 [00:31<00:00,  3.22it/s]\n"
     ]
    },
    {
     "name": "stdout",
     "output_type": "stream",
     "text": [
      "epoch: 2460 \t loss: 98.808 \t reward: 161.630\n",
      "epoch: 2461 \t loss: 58.686 \t reward: 113.252\n",
      "epoch: 2462 \t loss: 92.191 \t reward: 127.075\n",
      "epoch: 2463 \t loss: 71.985 \t reward: 116.411\n",
      "epoch: 2464 \t loss: 71.671 \t reward: 93.872\n",
      "epoch: 2465 \t loss: 47.516 \t reward: 111.534\n",
      "epoch: 2466 \t loss: 46.018 \t reward: 39.123\n",
      "epoch: 2467 \t loss: 35.308 \t reward: 32.698\n",
      "epoch: 2468 \t loss: 76.951 \t reward: 149.960\n",
      "epoch: 2469 \t loss: 79.787 \t reward: 132.618\n"
     ]
    },
    {
     "name": "stderr",
     "output_type": "stream",
     "text": [
      "100%|████████████████████████| 100/100 [00:24<00:00,  4.03it/s]\n"
     ]
    },
    {
     "name": "stdout",
     "output_type": "stream",
     "text": [
      "epoch: 2470 \t loss: 41.839 \t reward: 30.080\n",
      "epoch: 2471 \t loss: 55.013 \t reward: 52.038\n",
      "epoch: 2472 \t loss: 46.320 \t reward: 29.363\n",
      "epoch: 2473 \t loss: 76.681 \t reward: 101.206\n",
      "epoch: 2474 \t loss: 61.200 \t reward: 80.727\n",
      "epoch: 2475 \t loss: 37.686 \t reward: 42.003\n",
      "epoch: 2476 \t loss: 61.926 \t reward: 74.304\n",
      "epoch: 2477 \t loss: 34.285 \t reward: 13.835\n",
      "epoch: 2478 \t loss: 29.599 \t reward: 35.839\n",
      "epoch: 2479 \t loss: 45.007 \t reward: 33.338\n"
     ]
    },
    {
     "name": "stderr",
     "output_type": "stream",
     "text": [
      "100%|████████████████████████| 100/100 [00:24<00:00,  4.03it/s]\n"
     ]
    },
    {
     "name": "stdout",
     "output_type": "stream",
     "text": [
      "epoch: 2480 \t loss: 54.434 \t reward: 66.902\n",
      "epoch: 2481 \t loss: 74.758 \t reward: 61.018\n",
      "epoch: 2482 \t loss: 47.630 \t reward: 62.192\n",
      "epoch: 2483 \t loss: 58.508 \t reward: 63.263\n",
      "epoch: 2484 \t loss: 50.423 \t reward: 43.624\n",
      "epoch: 2485 \t loss: 61.072 \t reward: 49.399\n",
      "epoch: 2486 \t loss: 40.976 \t reward: 34.127\n",
      "epoch: 2487 \t loss: 23.527 \t reward: 29.299\n",
      "epoch: 2488 \t loss: 45.543 \t reward: 39.891\n",
      "epoch: 2489 \t loss: 74.532 \t reward: 83.437\n"
     ]
    },
    {
     "name": "stderr",
     "output_type": "stream",
     "text": [
      "100%|████████████████████████| 100/100 [00:24<00:00,  4.09it/s]\n"
     ]
    },
    {
     "name": "stdout",
     "output_type": "stream",
     "text": [
      "epoch: 2490 \t loss: 67.213 \t reward: 56.937\n",
      "epoch: 2491 \t loss: 33.734 \t reward: 21.966\n",
      "epoch: 2492 \t loss: 57.175 \t reward: 75.264\n",
      "epoch: 2493 \t loss: 86.917 \t reward: 148.815\n",
      "epoch: 2494 \t loss: 46.440 \t reward: 48.965\n",
      "epoch: 2495 \t loss: 31.461 \t reward: 33.704\n",
      "epoch: 2496 \t loss: 43.486 \t reward: 61.312\n",
      "epoch: 2497 \t loss: 58.869 \t reward: 96.773\n",
      "epoch: 2498 \t loss: 66.585 \t reward: 76.218\n",
      "epoch: 2499 \t loss: 41.450 \t reward: 44.679\n"
     ]
    },
    {
     "name": "stderr",
     "output_type": "stream",
     "text": [
      "100%|████████████████████████| 100/100 [00:29<00:00,  3.41it/s]\n"
     ]
    },
    {
     "name": "stdout",
     "output_type": "stream",
     "text": [
      "epoch: 2500 \t loss: 50.490 \t reward: 52.103\n",
      "epoch: 2501 \t loss: 82.119 \t reward: 87.773\n",
      "epoch: 2502 \t loss: 68.967 \t reward: 120.677\n",
      "epoch: 2503 \t loss: 42.733 \t reward: 57.224\n",
      "epoch: 2504 \t loss: 24.813 \t reward: 45.768\n",
      "epoch: 2505 \t loss: 48.917 \t reward: 57.831\n",
      "epoch: 2506 \t loss: 56.309 \t reward: 62.395\n",
      "epoch: 2507 \t loss: 42.003 \t reward: 51.401\n",
      "epoch: 2508 \t loss: 69.846 \t reward: 131.780\n",
      "epoch: 2509 \t loss: 63.804 \t reward: 53.414\n"
     ]
    },
    {
     "name": "stderr",
     "output_type": "stream",
     "text": [
      "100%|████████████████████████| 100/100 [00:27<00:00,  3.58it/s]\n"
     ]
    },
    {
     "name": "stdout",
     "output_type": "stream",
     "text": [
      "epoch: 2510 \t loss: 76.480 \t reward: 166.423\n",
      "epoch: 2511 \t loss: 111.979 \t reward: 164.424\n",
      "epoch: 2512 \t loss: 67.813 \t reward: 75.364\n",
      "epoch: 2513 \t loss: 58.385 \t reward: 97.604\n",
      "epoch: 2514 \t loss: 93.641 \t reward: 124.025\n",
      "epoch: 2515 \t loss: 80.853 \t reward: 67.701\n",
      "epoch: 2516 \t loss: 88.525 \t reward: 162.116\n",
      "epoch: 2517 \t loss: 39.953 \t reward: 52.370\n",
      "epoch: 2518 \t loss: 52.958 \t reward: 102.305\n",
      "epoch: 2519 \t loss: 82.139 \t reward: 78.873\n"
     ]
    },
    {
     "name": "stderr",
     "output_type": "stream",
     "text": [
      "100%|████████████████████████| 100/100 [00:36<00:00,  2.72it/s]\n"
     ]
    },
    {
     "name": "stdout",
     "output_type": "stream",
     "text": [
      "epoch: 2520 \t loss: 97.138 \t reward: 144.579\n",
      "epoch: 2521 \t loss: 48.645 \t reward: 71.353\n",
      "epoch: 2522 \t loss: 98.105 \t reward: 165.656\n",
      "epoch: 2523 \t loss: 53.741 \t reward: 67.620\n",
      "epoch: 2524 \t loss: 77.828 \t reward: 156.406\n",
      "epoch: 2525 \t loss: 57.435 \t reward: 38.388\n",
      "epoch: 2526 \t loss: 69.509 \t reward: 167.540\n",
      "epoch: 2527 \t loss: 72.605 \t reward: 80.052\n",
      "epoch: 2528 \t loss: 81.331 \t reward: 134.413\n",
      "epoch: 2529 \t loss: 61.853 \t reward: 72.149\n"
     ]
    },
    {
     "name": "stderr",
     "output_type": "stream",
     "text": [
      "100%|████████████████████████| 100/100 [00:31<00:00,  3.21it/s]\n"
     ]
    },
    {
     "name": "stdout",
     "output_type": "stream",
     "text": [
      "epoch: 2530 \t loss: 64.148 \t reward: 65.147\n",
      "epoch: 2531 \t loss: 58.033 \t reward: 97.645\n",
      "epoch: 2532 \t loss: 57.637 \t reward: 59.291\n",
      "epoch: 2533 \t loss: 64.436 \t reward: 72.923\n",
      "epoch: 2534 \t loss: 78.894 \t reward: 195.095\n",
      "epoch: 2535 \t loss: 83.528 \t reward: 132.292\n",
      "epoch: 2536 \t loss: 58.981 \t reward: 80.935\n",
      "epoch: 2537 \t loss: 57.183 \t reward: 74.280\n",
      "epoch: 2538 \t loss: 51.169 \t reward: 146.025\n",
      "epoch: 2539 \t loss: 52.685 \t reward: 41.302\n"
     ]
    },
    {
     "name": "stderr",
     "output_type": "stream",
     "text": [
      "100%|████████████████████████| 100/100 [00:38<00:00,  2.59it/s]\n"
     ]
    },
    {
     "name": "stdout",
     "output_type": "stream",
     "text": [
      "epoch: 2540 \t loss: 89.127 \t reward: 123.303\n",
      "epoch: 2541 \t loss: 48.295 \t reward: 68.786\n",
      "epoch: 2542 \t loss: 70.229 \t reward: 111.004\n",
      "epoch: 2543 \t loss: 62.530 \t reward: 111.834\n",
      "epoch: 2544 \t loss: 93.767 \t reward: 126.788\n",
      "epoch: 2545 \t loss: 55.487 \t reward: 148.804\n",
      "epoch: 2546 \t loss: 57.542 \t reward: 87.956\n",
      "epoch: 2547 \t loss: 66.395 \t reward: 96.612\n",
      "epoch: 2548 \t loss: 90.045 \t reward: 122.480\n",
      "epoch: 2549 \t loss: 69.484 \t reward: 165.764\n"
     ]
    },
    {
     "name": "stderr",
     "output_type": "stream",
     "text": [
      "100%|████████████████████████| 100/100 [00:36<00:00,  2.70it/s]\n"
     ]
    },
    {
     "name": "stdout",
     "output_type": "stream",
     "text": [
      "epoch: 2550 \t loss: 99.509 \t reward: 208.206\n",
      "epoch: 2551 \t loss: 67.331 \t reward: 161.856\n",
      "epoch: 2552 \t loss: 65.452 \t reward: 91.191\n",
      "epoch: 2553 \t loss: 59.428 \t reward: 119.221\n",
      "epoch: 2554 \t loss: 43.347 \t reward: 26.536\n",
      "epoch: 2555 \t loss: 56.417 \t reward: 103.014\n",
      "epoch: 2556 \t loss: 56.189 \t reward: 30.821\n",
      "epoch: 2557 \t loss: 83.387 \t reward: 97.346\n",
      "epoch: 2558 \t loss: 58.840 \t reward: 57.088\n",
      "epoch: 2559 \t loss: 62.074 \t reward: 60.863\n"
     ]
    },
    {
     "name": "stderr",
     "output_type": "stream",
     "text": [
      "100%|████████████████████████| 100/100 [00:41<00:00,  2.43it/s]\n"
     ]
    },
    {
     "name": "stdout",
     "output_type": "stream",
     "text": [
      "epoch: 2560 \t loss: 62.897 \t reward: 63.735\n",
      "epoch: 2561 \t loss: 81.810 \t reward: 111.743\n",
      "epoch: 2562 \t loss: 58.555 \t reward: 110.762\n",
      "epoch: 2563 \t loss: 62.825 \t reward: 161.038\n",
      "epoch: 2564 \t loss: 63.351 \t reward: 74.163\n",
      "epoch: 2565 \t loss: 69.335 \t reward: 94.108\n",
      "epoch: 2566 \t loss: 35.663 \t reward: 33.818\n",
      "epoch: 2567 \t loss: 86.236 \t reward: 188.095\n",
      "epoch: 2568 \t loss: 72.057 \t reward: 103.340\n",
      "epoch: 2569 \t loss: 103.096 \t reward: 175.153\n"
     ]
    },
    {
     "name": "stderr",
     "output_type": "stream",
     "text": [
      "100%|████████████████████████| 100/100 [00:30<00:00,  3.32it/s]\n"
     ]
    },
    {
     "name": "stdout",
     "output_type": "stream",
     "text": [
      "epoch: 2570 \t loss: 72.185 \t reward: 97.301\n",
      "epoch: 2571 \t loss: 75.177 \t reward: 171.367\n",
      "epoch: 2572 \t loss: 70.800 \t reward: 81.726\n",
      "epoch: 2573 \t loss: 54.740 \t reward: 108.535\n",
      "epoch: 2574 \t loss: 83.084 \t reward: 184.003\n",
      "epoch: 2575 \t loss: 85.789 \t reward: 172.114\n",
      "epoch: 2576 \t loss: 76.591 \t reward: 97.742\n",
      "epoch: 2577 \t loss: 70.910 \t reward: 126.613\n",
      "epoch: 2578 \t loss: 65.028 \t reward: 115.330\n",
      "epoch: 2579 \t loss: 45.000 \t reward: 56.676\n"
     ]
    },
    {
     "name": "stderr",
     "output_type": "stream",
     "text": [
      "100%|████████████████████████| 100/100 [00:39<00:00,  2.56it/s]\n"
     ]
    },
    {
     "name": "stdout",
     "output_type": "stream",
     "text": [
      "epoch: 2580 \t loss: 35.904 \t reward: 36.889\n",
      "epoch: 2581 \t loss: 89.941 \t reward: 103.103\n",
      "epoch: 2582 \t loss: 74.077 \t reward: 102.719\n",
      "epoch: 2583 \t loss: 56.343 \t reward: 46.852\n",
      "epoch: 2584 \t loss: 57.285 \t reward: 59.561\n",
      "epoch: 2585 \t loss: 76.346 \t reward: 152.775\n",
      "epoch: 2586 \t loss: 28.974 \t reward: 22.406\n",
      "epoch: 2587 \t loss: 63.029 \t reward: 96.408\n",
      "epoch: 2588 \t loss: 78.083 \t reward: 69.454\n",
      "epoch: 2589 \t loss: 50.606 \t reward: 63.176\n"
     ]
    },
    {
     "name": "stderr",
     "output_type": "stream",
     "text": [
      "100%|████████████████████████| 100/100 [00:21<00:00,  4.71it/s]\n"
     ]
    },
    {
     "name": "stdout",
     "output_type": "stream",
     "text": [
      "epoch: 2590 \t loss: 26.468 \t reward: 25.226\n",
      "epoch: 2591 \t loss: 53.734 \t reward: 125.183\n",
      "epoch: 2592 \t loss: 42.229 \t reward: 62.466\n",
      "epoch: 2593 \t loss: 58.640 \t reward: 80.253\n",
      "epoch: 2594 \t loss: 59.502 \t reward: 63.954\n",
      "epoch: 2595 \t loss: 71.697 \t reward: 94.102\n",
      "epoch: 2596 \t loss: 93.753 \t reward: 110.157\n",
      "epoch: 2597 \t loss: 44.265 \t reward: 55.765\n",
      "epoch: 2598 \t loss: 45.352 \t reward: 108.649\n",
      "epoch: 2599 \t loss: 58.365 \t reward: 84.724\n"
     ]
    },
    {
     "name": "stderr",
     "output_type": "stream",
     "text": [
      "100%|████████████████████████| 100/100 [00:32<00:00,  3.06it/s]\n"
     ]
    },
    {
     "name": "stdout",
     "output_type": "stream",
     "text": [
      "epoch: 2600 \t loss: 49.061 \t reward: 137.162\n",
      "epoch: 2601 \t loss: 64.123 \t reward: 66.488\n",
      "epoch: 2602 \t loss: 92.465 \t reward: 195.424\n",
      "epoch: 2603 \t loss: 71.909 \t reward: 100.493\n",
      "epoch: 2604 \t loss: 43.008 \t reward: 118.658\n",
      "epoch: 2605 \t loss: 35.043 \t reward: 58.667\n",
      "epoch: 2606 \t loss: 61.512 \t reward: 99.408\n",
      "epoch: 2607 \t loss: 54.390 \t reward: 91.903\n",
      "epoch: 2608 \t loss: 68.454 \t reward: 146.503\n",
      "epoch: 2609 \t loss: 82.266 \t reward: 117.465\n"
     ]
    },
    {
     "name": "stderr",
     "output_type": "stream",
     "text": [
      "100%|████████████████████████| 100/100 [00:28<00:00,  3.46it/s]\n"
     ]
    },
    {
     "name": "stdout",
     "output_type": "stream",
     "text": [
      "epoch: 2610 \t loss: 65.995 \t reward: 124.753\n",
      "epoch: 2611 \t loss: 116.880 \t reward: 172.151\n",
      "epoch: 2612 \t loss: 63.688 \t reward: 174.608\n",
      "epoch: 2613 \t loss: 33.175 \t reward: 47.630\n",
      "epoch: 2614 \t loss: 74.090 \t reward: 94.848\n",
      "epoch: 2615 \t loss: 55.417 \t reward: 66.634\n",
      "epoch: 2616 \t loss: 90.213 \t reward: 116.758\n",
      "epoch: 2617 \t loss: 98.006 \t reward: 160.325\n",
      "epoch: 2618 \t loss: 45.487 \t reward: 59.267\n",
      "epoch: 2619 \t loss: 67.221 \t reward: 85.618\n"
     ]
    },
    {
     "name": "stderr",
     "output_type": "stream",
     "text": [
      "100%|████████████████████████| 100/100 [00:29<00:00,  3.34it/s]\n"
     ]
    },
    {
     "name": "stdout",
     "output_type": "stream",
     "text": [
      "epoch: 2620 \t loss: 58.878 \t reward: 90.220\n",
      "epoch: 2621 \t loss: 65.901 \t reward: 100.546\n",
      "epoch: 2622 \t loss: 72.934 \t reward: 111.700\n",
      "epoch: 2623 \t loss: 53.935 \t reward: 59.079\n",
      "epoch: 2624 \t loss: 64.949 \t reward: 120.001\n",
      "epoch: 2625 \t loss: 76.983 \t reward: 126.608\n",
      "epoch: 2626 \t loss: 77.131 \t reward: 127.549\n",
      "epoch: 2627 \t loss: 115.207 \t reward: 239.111\n",
      "epoch: 2628 \t loss: 89.962 \t reward: 161.942\n",
      "epoch: 2629 \t loss: 93.481 \t reward: 138.968\n"
     ]
    },
    {
     "name": "stderr",
     "output_type": "stream",
     "text": [
      "100%|████████████████████████| 100/100 [00:28<00:00,  3.51it/s]\n"
     ]
    },
    {
     "name": "stdout",
     "output_type": "stream",
     "text": [
      "epoch: 2630 \t loss: 66.413 \t reward: 119.935\n",
      "epoch: 2631 \t loss: 35.074 \t reward: 59.908\n",
      "epoch: 2632 \t loss: 87.430 \t reward: 176.041\n",
      "epoch: 2633 \t loss: 66.869 \t reward: 114.867\n",
      "epoch: 2634 \t loss: 58.785 \t reward: 136.170\n",
      "epoch: 2635 \t loss: 56.442 \t reward: 86.720\n",
      "epoch: 2636 \t loss: 64.429 \t reward: 97.981\n",
      "epoch: 2637 \t loss: 66.315 \t reward: 116.584\n",
      "epoch: 2638 \t loss: 45.197 \t reward: 69.586\n",
      "epoch: 2639 \t loss: 73.762 \t reward: 181.114\n"
     ]
    },
    {
     "name": "stderr",
     "output_type": "stream",
     "text": [
      "100%|████████████████████████| 100/100 [00:38<00:00,  2.62it/s]\n"
     ]
    },
    {
     "name": "stdout",
     "output_type": "stream",
     "text": [
      "epoch: 2640 \t loss: 92.554 \t reward: 177.775\n",
      "epoch: 2641 \t loss: 48.411 \t reward: 63.824\n",
      "epoch: 2642 \t loss: 57.238 \t reward: 139.082\n",
      "epoch: 2643 \t loss: 76.229 \t reward: 182.959\n",
      "epoch: 2644 \t loss: 76.711 \t reward: 130.125\n",
      "epoch: 2645 \t loss: 101.461 \t reward: 191.943\n",
      "epoch: 2646 \t loss: 85.739 \t reward: 164.800\n",
      "epoch: 2647 \t loss: 50.163 \t reward: 81.001\n",
      "epoch: 2648 \t loss: 58.959 \t reward: 117.478\n",
      "epoch: 2649 \t loss: 77.529 \t reward: 138.699\n"
     ]
    },
    {
     "name": "stderr",
     "output_type": "stream",
     "text": [
      "100%|████████████████████████| 100/100 [00:35<00:00,  2.85it/s]\n"
     ]
    },
    {
     "name": "stdout",
     "output_type": "stream",
     "text": [
      "epoch: 2650 \t loss: 87.043 \t reward: 172.725\n",
      "epoch: 2651 \t loss: 44.026 \t reward: 54.226\n",
      "epoch: 2652 \t loss: 44.640 \t reward: 103.714\n",
      "epoch: 2653 \t loss: 127.759 \t reward: 209.179\n",
      "epoch: 2654 \t loss: 49.549 \t reward: 62.812\n",
      "epoch: 2655 \t loss: 93.363 \t reward: 129.400\n",
      "epoch: 2656 \t loss: 98.964 \t reward: 183.682\n",
      "epoch: 2657 \t loss: 85.021 \t reward: 139.510\n",
      "epoch: 2658 \t loss: 66.290 \t reward: 122.122\n",
      "epoch: 2659 \t loss: 88.456 \t reward: 225.817\n"
     ]
    },
    {
     "name": "stderr",
     "output_type": "stream",
     "text": [
      "100%|████████████████████████| 100/100 [00:36<00:00,  2.72it/s]\n"
     ]
    },
    {
     "name": "stdout",
     "output_type": "stream",
     "text": [
      "epoch: 2660 \t loss: 78.513 \t reward: 147.323\n",
      "epoch: 2661 \t loss: 83.278 \t reward: 227.385\n",
      "epoch: 2662 \t loss: 64.099 \t reward: 124.077\n",
      "epoch: 2663 \t loss: 37.425 \t reward: 36.566\n",
      "epoch: 2664 \t loss: 40.262 \t reward: 95.781\n",
      "epoch: 2665 \t loss: 76.449 \t reward: 106.250\n",
      "epoch: 2666 \t loss: 59.535 \t reward: 138.636\n",
      "epoch: 2667 \t loss: 95.682 \t reward: 168.939\n",
      "epoch: 2668 \t loss: 95.227 \t reward: 147.298\n",
      "epoch: 2669 \t loss: 75.782 \t reward: 151.861\n"
     ]
    },
    {
     "name": "stderr",
     "output_type": "stream",
     "text": [
      "100%|████████████████████████| 100/100 [00:46<00:00,  2.17it/s]\n"
     ]
    },
    {
     "name": "stdout",
     "output_type": "stream",
     "text": [
      "epoch: 2670 \t loss: 31.748 \t reward: 108.868\n",
      "epoch: 2671 \t loss: 101.181 \t reward: 160.376\n",
      "epoch: 2672 \t loss: 78.427 \t reward: 132.352\n",
      "epoch: 2673 \t loss: 104.140 \t reward: 180.428\n",
      "epoch: 2674 \t loss: 85.476 \t reward: 120.779\n",
      "epoch: 2675 \t loss: 74.824 \t reward: 106.881\n",
      "epoch: 2676 \t loss: 71.651 \t reward: 113.169\n",
      "epoch: 2677 \t loss: 75.253 \t reward: 153.101\n",
      "epoch: 2678 \t loss: 85.162 \t reward: 176.231\n",
      "epoch: 2679 \t loss: 95.285 \t reward: 133.861\n"
     ]
    },
    {
     "name": "stderr",
     "output_type": "stream",
     "text": [
      "100%|████████████████████████| 100/100 [00:43<00:00,  2.31it/s]\n"
     ]
    },
    {
     "name": "stdout",
     "output_type": "stream",
     "text": [
      "epoch: 2680 \t loss: 59.596 \t reward: 100.316\n",
      "epoch: 2681 \t loss: 78.406 \t reward: 169.043\n",
      "epoch: 2682 \t loss: 68.466 \t reward: 125.350\n",
      "epoch: 2683 \t loss: 104.887 \t reward: 172.309\n",
      "epoch: 2684 \t loss: 99.663 \t reward: 184.503\n",
      "epoch: 2685 \t loss: 89.701 \t reward: 193.221\n",
      "epoch: 2686 \t loss: 88.527 \t reward: 128.619\n",
      "epoch: 2687 \t loss: 49.762 \t reward: 93.438\n",
      "epoch: 2688 \t loss: 52.013 \t reward: 80.356\n",
      "epoch: 2689 \t loss: 49.158 \t reward: 68.468\n"
     ]
    },
    {
     "name": "stderr",
     "output_type": "stream",
     "text": [
      "100%|████████████████████████| 100/100 [00:42<00:00,  2.34it/s]\n"
     ]
    },
    {
     "name": "stdout",
     "output_type": "stream",
     "text": [
      "epoch: 2690 \t loss: 95.471 \t reward: 116.465\n",
      "epoch: 2691 \t loss: 80.118 \t reward: 190.796\n",
      "epoch: 2692 \t loss: 70.618 \t reward: 93.125\n",
      "epoch: 2693 \t loss: 86.875 \t reward: 111.996\n",
      "epoch: 2694 \t loss: 39.113 \t reward: 34.787\n",
      "epoch: 2695 \t loss: 99.965 \t reward: 206.040\n",
      "epoch: 2696 \t loss: 66.182 \t reward: 95.113\n",
      "epoch: 2697 \t loss: 48.872 \t reward: 82.354\n",
      "epoch: 2698 \t loss: 85.036 \t reward: 141.868\n",
      "epoch: 2699 \t loss: 72.597 \t reward: 79.644\n"
     ]
    },
    {
     "name": "stderr",
     "output_type": "stream",
     "text": [
      "100%|████████████████████████| 100/100 [00:35<00:00,  2.78it/s]\n"
     ]
    },
    {
     "name": "stdout",
     "output_type": "stream",
     "text": [
      "epoch: 2700 \t loss: 114.764 \t reward: 213.601\n",
      "epoch: 2701 \t loss: 93.243 \t reward: 145.710\n",
      "epoch: 2702 \t loss: 78.214 \t reward: 175.404\n",
      "epoch: 2703 \t loss: 117.123 \t reward: 171.927\n",
      "epoch: 2704 \t loss: 102.538 \t reward: 207.703\n",
      "epoch: 2705 \t loss: 48.994 \t reward: 59.981\n",
      "epoch: 2706 \t loss: 66.530 \t reward: 97.067\n",
      "epoch: 2707 \t loss: 68.534 \t reward: 109.266\n",
      "epoch: 2708 \t loss: 61.630 \t reward: 70.809\n",
      "epoch: 2709 \t loss: 113.406 \t reward: 169.700\n"
     ]
    },
    {
     "name": "stderr",
     "output_type": "stream",
     "text": [
      "100%|████████████████████████| 100/100 [00:49<00:00,  2.02it/s]\n"
     ]
    },
    {
     "name": "stdout",
     "output_type": "stream",
     "text": [
      "epoch: 2710 \t loss: 68.353 \t reward: 148.496\n",
      "epoch: 2711 \t loss: 81.921 \t reward: 161.248\n",
      "epoch: 2712 \t loss: 93.768 \t reward: 162.343\n",
      "epoch: 2713 \t loss: 43.116 \t reward: 39.937\n",
      "epoch: 2714 \t loss: 70.613 \t reward: 116.449\n",
      "epoch: 2715 \t loss: 94.683 \t reward: 154.079\n",
      "epoch: 2716 \t loss: 114.826 \t reward: 156.072\n",
      "epoch: 2717 \t loss: 52.999 \t reward: 133.948\n",
      "epoch: 2718 \t loss: 71.398 \t reward: 106.643\n",
      "epoch: 2719 \t loss: 91.020 \t reward: 164.653\n"
     ]
    },
    {
     "name": "stderr",
     "output_type": "stream",
     "text": [
      "100%|████████████████████████| 100/100 [00:31<00:00,  3.18it/s]\n"
     ]
    },
    {
     "name": "stdout",
     "output_type": "stream",
     "text": [
      "epoch: 2720 \t loss: 70.451 \t reward: 171.214\n",
      "epoch: 2721 \t loss: 6.987 \t reward: 8.322\n",
      "epoch: 2722 \t loss: 99.291 \t reward: 131.786\n",
      "epoch: 2723 \t loss: 78.407 \t reward: 115.948\n",
      "epoch: 2724 \t loss: 81.926 \t reward: 139.145\n",
      "epoch: 2725 \t loss: 94.684 \t reward: 180.832\n",
      "epoch: 2726 \t loss: 100.402 \t reward: 169.390\n",
      "epoch: 2727 \t loss: 76.921 \t reward: 211.150\n",
      "epoch: 2728 \t loss: 117.339 \t reward: 244.349\n",
      "epoch: 2729 \t loss: 57.368 \t reward: 119.378\n"
     ]
    },
    {
     "name": "stderr",
     "output_type": "stream",
     "text": [
      "100%|████████████████████████| 100/100 [00:35<00:00,  2.78it/s]\n"
     ]
    },
    {
     "name": "stdout",
     "output_type": "stream",
     "text": [
      "epoch: 2730 \t loss: 95.212 \t reward: 169.714\n",
      "epoch: 2731 \t loss: 67.727 \t reward: 120.417\n",
      "epoch: 2732 \t loss: 81.604 \t reward: 114.837\n",
      "epoch: 2733 \t loss: 83.926 \t reward: 132.151\n",
      "epoch: 2734 \t loss: 92.774 \t reward: 228.500\n",
      "epoch: 2735 \t loss: 73.054 \t reward: 158.130\n",
      "epoch: 2736 \t loss: 112.903 \t reward: 227.828\n",
      "epoch: 2737 \t loss: 62.131 \t reward: 137.667\n",
      "epoch: 2738 \t loss: 113.047 \t reward: 183.244\n",
      "epoch: 2739 \t loss: 62.937 \t reward: 120.280\n"
     ]
    },
    {
     "name": "stderr",
     "output_type": "stream",
     "text": [
      "100%|████████████████████████| 100/100 [00:37<00:00,  2.65it/s]\n"
     ]
    },
    {
     "name": "stdout",
     "output_type": "stream",
     "text": [
      "epoch: 2740 \t loss: 72.051 \t reward: 155.487\n",
      "epoch: 2741 \t loss: 67.203 \t reward: 92.841\n",
      "epoch: 2742 \t loss: 119.388 \t reward: 196.932\n",
      "epoch: 2743 \t loss: 90.881 \t reward: 140.574\n",
      "epoch: 2744 \t loss: 86.821 \t reward: 215.737\n",
      "epoch: 2745 \t loss: 76.079 \t reward: 201.446\n",
      "epoch: 2746 \t loss: 64.336 \t reward: 130.293\n",
      "epoch: 2747 \t loss: 98.126 \t reward: 146.241\n",
      "epoch: 2748 \t loss: 76.692 \t reward: 140.342\n",
      "epoch: 2749 \t loss: 37.054 \t reward: 80.121\n"
     ]
    },
    {
     "name": "stderr",
     "output_type": "stream",
     "text": [
      "100%|████████████████████████| 100/100 [00:42<00:00,  2.37it/s]\n"
     ]
    },
    {
     "name": "stdout",
     "output_type": "stream",
     "text": [
      "epoch: 2750 \t loss: 85.046 \t reward: 159.274\n",
      "epoch: 2751 \t loss: 52.309 \t reward: 132.027\n",
      "epoch: 2752 \t loss: 54.343 \t reward: 82.051\n",
      "epoch: 2753 \t loss: 81.159 \t reward: 156.155\n",
      "epoch: 2754 \t loss: 62.069 \t reward: 105.725\n",
      "epoch: 2755 \t loss: 81.439 \t reward: 151.809\n",
      "epoch: 2756 \t loss: 76.518 \t reward: 194.314\n",
      "epoch: 2757 \t loss: 73.951 \t reward: 156.947\n",
      "epoch: 2758 \t loss: 101.742 \t reward: 181.292\n",
      "epoch: 2759 \t loss: 107.160 \t reward: 243.434\n"
     ]
    },
    {
     "name": "stderr",
     "output_type": "stream",
     "text": [
      "100%|████████████████████████| 100/100 [00:35<00:00,  2.79it/s]\n"
     ]
    },
    {
     "name": "stdout",
     "output_type": "stream",
     "text": [
      "epoch: 2760 \t loss: 81.067 \t reward: 118.742\n",
      "epoch: 2761 \t loss: 77.351 \t reward: 218.265\n",
      "epoch: 2762 \t loss: 100.053 \t reward: 140.069\n",
      "epoch: 2763 \t loss: 61.446 \t reward: 124.134\n",
      "epoch: 2764 \t loss: 65.857 \t reward: 116.278\n",
      "epoch: 2765 \t loss: 109.269 \t reward: 141.841\n",
      "epoch: 2766 \t loss: 96.704 \t reward: 193.258\n",
      "epoch: 2767 \t loss: 78.864 \t reward: 200.536\n",
      "epoch: 2768 \t loss: 44.854 \t reward: 93.752\n",
      "epoch: 2769 \t loss: 35.910 \t reward: 113.309\n"
     ]
    },
    {
     "name": "stderr",
     "output_type": "stream",
     "text": [
      "100%|████████████████████████| 100/100 [00:40<00:00,  2.47it/s]\n"
     ]
    },
    {
     "name": "stdout",
     "output_type": "stream",
     "text": [
      "epoch: 2770 \t loss: 55.863 \t reward: 85.085\n",
      "epoch: 2771 \t loss: 97.482 \t reward: 126.330\n",
      "epoch: 2772 \t loss: 119.866 \t reward: 194.990\n",
      "epoch: 2773 \t loss: 62.958 \t reward: 56.219\n",
      "epoch: 2774 \t loss: 33.580 \t reward: 69.948\n",
      "epoch: 2775 \t loss: 91.334 \t reward: 149.623\n",
      "epoch: 2776 \t loss: 78.430 \t reward: 108.204\n",
      "epoch: 2777 \t loss: 76.564 \t reward: 104.250\n",
      "epoch: 2778 \t loss: 64.564 \t reward: 65.469\n",
      "epoch: 2779 \t loss: 58.934 \t reward: 78.273\n"
     ]
    },
    {
     "name": "stderr",
     "output_type": "stream",
     "text": [
      "100%|████████████████████████| 100/100 [00:35<00:00,  2.85it/s]\n"
     ]
    },
    {
     "name": "stdout",
     "output_type": "stream",
     "text": [
      "epoch: 2780 \t loss: 73.458 \t reward: 152.298\n",
      "epoch: 2781 \t loss: 85.257 \t reward: 159.866\n",
      "epoch: 2782 \t loss: 81.889 \t reward: 167.592\n",
      "epoch: 2783 \t loss: 60.452 \t reward: 142.292\n",
      "epoch: 2784 \t loss: 118.981 \t reward: 157.830\n",
      "epoch: 2785 \t loss: 90.265 \t reward: 153.921\n",
      "epoch: 2786 \t loss: 89.677 \t reward: 149.151\n",
      "epoch: 2787 \t loss: 76.918 \t reward: 118.541\n",
      "epoch: 2788 \t loss: 82.925 \t reward: 154.727\n",
      "epoch: 2789 \t loss: 52.520 \t reward: 88.572\n"
     ]
    },
    {
     "name": "stderr",
     "output_type": "stream",
     "text": [
      "100%|████████████████████████| 100/100 [00:35<00:00,  2.84it/s]\n"
     ]
    },
    {
     "name": "stdout",
     "output_type": "stream",
     "text": [
      "epoch: 2790 \t loss: 79.162 \t reward: 199.363\n",
      "epoch: 2791 \t loss: 45.516 \t reward: 110.833\n",
      "epoch: 2792 \t loss: 61.657 \t reward: 173.019\n",
      "epoch: 2793 \t loss: 60.264 \t reward: 114.729\n",
      "epoch: 2794 \t loss: 71.253 \t reward: 198.720\n",
      "epoch: 2795 \t loss: 49.411 \t reward: 93.774\n",
      "epoch: 2796 \t loss: 107.873 \t reward: 186.855\n",
      "epoch: 2797 \t loss: 109.302 \t reward: 221.001\n",
      "epoch: 2798 \t loss: 102.752 \t reward: 163.810\n",
      "epoch: 2799 \t loss: 54.954 \t reward: 122.234\n"
     ]
    },
    {
     "name": "stderr",
     "output_type": "stream",
     "text": [
      "100%|████████████████████████| 100/100 [00:34<00:00,  2.89it/s]\n"
     ]
    },
    {
     "name": "stdout",
     "output_type": "stream",
     "text": [
      "epoch: 2800 \t loss: 71.932 \t reward: 150.166\n",
      "epoch: 2801 \t loss: 65.771 \t reward: 176.601\n",
      "epoch: 2802 \t loss: 88.893 \t reward: 165.092\n",
      "epoch: 2803 \t loss: 37.675 \t reward: 89.367\n",
      "epoch: 2804 \t loss: 61.082 \t reward: 190.538\n",
      "epoch: 2805 \t loss: 59.013 \t reward: 113.836\n",
      "epoch: 2806 \t loss: 71.986 \t reward: 163.783\n",
      "epoch: 2807 \t loss: 40.244 \t reward: 51.375\n",
      "epoch: 2808 \t loss: 83.779 \t reward: 148.284\n",
      "epoch: 2809 \t loss: 79.122 \t reward: 132.158\n"
     ]
    },
    {
     "name": "stderr",
     "output_type": "stream",
     "text": [
      "100%|████████████████████████| 100/100 [00:30<00:00,  3.27it/s]\n"
     ]
    },
    {
     "name": "stdout",
     "output_type": "stream",
     "text": [
      "epoch: 2810 \t loss: 49.633 \t reward: 142.807\n",
      "epoch: 2811 \t loss: 76.793 \t reward: 135.405\n",
      "epoch: 2812 \t loss: 83.585 \t reward: 184.619\n",
      "epoch: 2813 \t loss: 88.569 \t reward: 169.209\n",
      "epoch: 2814 \t loss: 101.506 \t reward: 167.052\n",
      "epoch: 2815 \t loss: 64.194 \t reward: 152.293\n",
      "epoch: 2816 \t loss: 61.733 \t reward: 131.454\n",
      "epoch: 2817 \t loss: 93.820 \t reward: 177.553\n",
      "epoch: 2818 \t loss: 98.589 \t reward: 207.998\n",
      "epoch: 2819 \t loss: 83.430 \t reward: 157.933\n"
     ]
    },
    {
     "name": "stderr",
     "output_type": "stream",
     "text": [
      "100%|████████████████████████| 100/100 [00:39<00:00,  2.54it/s]\n"
     ]
    },
    {
     "name": "stdout",
     "output_type": "stream",
     "text": [
      "epoch: 2820 \t loss: 118.246 \t reward: 231.517\n",
      "epoch: 2821 \t loss: 65.982 \t reward: 186.201\n",
      "epoch: 2822 \t loss: 81.080 \t reward: 206.494\n",
      "epoch: 2823 \t loss: 80.929 \t reward: 145.953\n",
      "epoch: 2824 \t loss: 42.978 \t reward: 173.438\n",
      "epoch: 2825 \t loss: 75.920 \t reward: 143.578\n",
      "epoch: 2826 \t loss: 103.930 \t reward: 160.892\n",
      "epoch: 2827 \t loss: 67.688 \t reward: 174.652\n",
      "epoch: 2828 \t loss: 37.339 \t reward: 66.043\n",
      "epoch: 2829 \t loss: 77.101 \t reward: 205.477\n"
     ]
    },
    {
     "name": "stderr",
     "output_type": "stream",
     "text": [
      "100%|████████████████████████| 100/100 [00:42<00:00,  2.34it/s]\n"
     ]
    },
    {
     "name": "stdout",
     "output_type": "stream",
     "text": [
      "Best model! Average reward = 182.69\n",
      "epoch: 2830 \t loss: 84.745 \t reward: 155.824\n",
      "epoch: 2831 \t loss: 98.349 \t reward: 214.825\n",
      "epoch: 2832 \t loss: 117.326 \t reward: 188.533\n",
      "epoch: 2833 \t loss: 68.725 \t reward: 122.780\n",
      "epoch: 2834 \t loss: 71.008 \t reward: 149.862\n",
      "epoch: 2835 \t loss: 109.154 \t reward: 189.107\n",
      "epoch: 2836 \t loss: 74.763 \t reward: 173.071\n",
      "epoch: 2837 \t loss: 67.338 \t reward: 171.202\n",
      "epoch: 2838 \t loss: 100.283 \t reward: 188.705\n",
      "epoch: 2839 \t loss: 97.089 \t reward: 201.118\n"
     ]
    },
    {
     "name": "stderr",
     "output_type": "stream",
     "text": [
      "100%|████████████████████████| 100/100 [00:43<00:00,  2.31it/s]\n"
     ]
    },
    {
     "name": "stdout",
     "output_type": "stream",
     "text": [
      "epoch: 2840 \t loss: 145.729 \t reward: 245.265\n",
      "epoch: 2841 \t loss: 107.270 \t reward: 199.149\n",
      "epoch: 2842 \t loss: 122.122 \t reward: 239.616\n",
      "epoch: 2843 \t loss: 8.434 \t reward: 43.684\n",
      "epoch: 2844 \t loss: 98.741 \t reward: 194.208\n",
      "epoch: 2845 \t loss: 84.918 \t reward: 190.335\n",
      "epoch: 2846 \t loss: 54.529 \t reward: 105.897\n",
      "epoch: 2847 \t loss: 17.009 \t reward: 71.876\n",
      "epoch: 2848 \t loss: 102.098 \t reward: 195.297\n",
      "epoch: 2849 \t loss: 3.512 \t reward: 48.875\n"
     ]
    },
    {
     "name": "stderr",
     "output_type": "stream",
     "text": [
      "100%|████████████████████████| 100/100 [00:32<00:00,  3.04it/s]\n"
     ]
    },
    {
     "name": "stdout",
     "output_type": "stream",
     "text": [
      "epoch: 2850 \t loss: 74.671 \t reward: 200.797\n",
      "epoch: 2851 \t loss: 90.519 \t reward: 138.876\n",
      "epoch: 2852 \t loss: 25.922 \t reward: 71.151\n",
      "epoch: 2853 \t loss: 83.602 \t reward: 178.671\n",
      "epoch: 2854 \t loss: 13.931 \t reward: 102.980\n",
      "epoch: 2855 \t loss: 67.990 \t reward: 107.380\n",
      "epoch: 2856 \t loss: 66.677 \t reward: 147.069\n",
      "epoch: 2857 \t loss: 53.023 \t reward: 107.537\n",
      "epoch: 2858 \t loss: 98.542 \t reward: 169.478\n",
      "epoch: 2859 \t loss: 113.862 \t reward: 197.839\n"
     ]
    },
    {
     "name": "stderr",
     "output_type": "stream",
     "text": [
      "100%|████████████████████████| 100/100 [00:30<00:00,  3.24it/s]\n"
     ]
    },
    {
     "name": "stdout",
     "output_type": "stream",
     "text": [
      "epoch: 2860 \t loss: 58.787 \t reward: 130.297\n",
      "epoch: 2861 \t loss: 2.842 \t reward: 1.462\n",
      "epoch: 2862 \t loss: 39.878 \t reward: 146.736\n",
      "epoch: 2863 \t loss: 32.864 \t reward: 93.227\n",
      "epoch: 2864 \t loss: 92.728 \t reward: 219.804\n",
      "epoch: 2865 \t loss: 105.210 \t reward: 191.623\n",
      "epoch: 2866 \t loss: 80.484 \t reward: 180.905\n",
      "epoch: 2867 \t loss: 118.886 \t reward: 220.989\n",
      "epoch: 2868 \t loss: 117.952 \t reward: 208.400\n",
      "epoch: 2869 \t loss: 125.922 \t reward: 216.365\n"
     ]
    },
    {
     "name": "stderr",
     "output_type": "stream",
     "text": [
      "100%|████████████████████████| 100/100 [00:39<00:00,  2.56it/s]\n"
     ]
    },
    {
     "name": "stdout",
     "output_type": "stream",
     "text": [
      "epoch: 2870 \t loss: 17.580 \t reward: 67.949\n",
      "epoch: 2871 \t loss: 26.078 \t reward: 82.954\n",
      "epoch: 2872 \t loss: 66.506 \t reward: 157.099\n",
      "epoch: 2873 \t loss: 99.128 \t reward: 194.678\n",
      "epoch: 2874 \t loss: 34.230 \t reward: 119.977\n",
      "epoch: 2875 \t loss: 33.940 \t reward: 43.474\n",
      "epoch: 2876 \t loss: 81.157 \t reward: 149.000\n",
      "epoch: 2877 \t loss: 28.450 \t reward: 83.159\n",
      "epoch: 2878 \t loss: 27.388 \t reward: 105.760\n",
      "epoch: 2879 \t loss: 89.982 \t reward: 191.372\n"
     ]
    },
    {
     "name": "stderr",
     "output_type": "stream",
     "text": [
      "100%|████████████████████████| 100/100 [00:43<00:00,  2.31it/s]\n"
     ]
    },
    {
     "name": "stdout",
     "output_type": "stream",
     "text": [
      "epoch: 2880 \t loss: 78.451 \t reward: 136.883\n",
      "epoch: 2881 \t loss: 129.103 \t reward: 216.184\n",
      "epoch: 2882 \t loss: 56.495 \t reward: 140.948\n",
      "epoch: 2883 \t loss: 59.368 \t reward: 115.426\n",
      "epoch: 2884 \t loss: 83.643 \t reward: 133.796\n",
      "epoch: 2885 \t loss: 72.052 \t reward: 142.075\n",
      "epoch: 2886 \t loss: 88.228 \t reward: 172.744\n",
      "epoch: 2887 \t loss: 5.225 \t reward: 46.070\n",
      "epoch: 2888 \t loss: 119.803 \t reward: 233.502\n",
      "epoch: 2889 \t loss: 25.302 \t reward: 71.795\n"
     ]
    },
    {
     "name": "stderr",
     "output_type": "stream",
     "text": [
      "100%|████████████████████████| 100/100 [00:38<00:00,  2.58it/s]\n"
     ]
    },
    {
     "name": "stdout",
     "output_type": "stream",
     "text": [
      "epoch: 2890 \t loss: 129.316 \t reward: 217.285\n",
      "epoch: 2891 \t loss: 13.845 \t reward: 84.303\n",
      "epoch: 2892 \t loss: 43.694 \t reward: 92.269\n",
      "epoch: 2893 \t loss: -19.232 \t reward: 23.707\n",
      "epoch: 2894 \t loss: 25.739 \t reward: 70.382\n",
      "epoch: 2895 \t loss: 82.149 \t reward: 159.501\n",
      "epoch: 2896 \t loss: 106.722 \t reward: 169.956\n",
      "epoch: 2897 \t loss: 88.580 \t reward: 208.521\n",
      "epoch: 2898 \t loss: 106.576 \t reward: 210.624\n",
      "epoch: 2899 \t loss: 56.790 \t reward: 103.936\n"
     ]
    },
    {
     "name": "stderr",
     "output_type": "stream",
     "text": [
      "100%|████████████████████████| 100/100 [00:34<00:00,  2.91it/s]\n"
     ]
    },
    {
     "name": "stdout",
     "output_type": "stream",
     "text": [
      "epoch: 2900 \t loss: 77.080 \t reward: 145.654\n",
      "epoch: 2901 \t loss: 55.926 \t reward: 153.567\n",
      "epoch: 2902 \t loss: 99.489 \t reward: 173.347\n",
      "epoch: 2903 \t loss: 75.378 \t reward: 184.665\n",
      "epoch: 2904 \t loss: -16.924 \t reward: 10.464\n",
      "epoch: 2905 \t loss: 114.570 \t reward: 190.643\n",
      "epoch: 2906 \t loss: 118.288 \t reward: 226.685\n",
      "epoch: 2907 \t loss: 54.550 \t reward: 142.718\n",
      "epoch: 2908 \t loss: 103.989 \t reward: 190.340\n",
      "epoch: 2909 \t loss: 65.404 \t reward: 124.833\n"
     ]
    },
    {
     "name": "stderr",
     "output_type": "stream",
     "text": [
      "100%|████████████████████████| 100/100 [00:29<00:00,  3.37it/s]\n"
     ]
    },
    {
     "name": "stdout",
     "output_type": "stream",
     "text": [
      "epoch: 2910 \t loss: 87.063 \t reward: 162.405\n",
      "epoch: 2911 \t loss: 96.485 \t reward: 216.277\n",
      "epoch: 2912 \t loss: 84.732 \t reward: 140.276\n",
      "epoch: 2913 \t loss: 84.060 \t reward: 154.825\n",
      "epoch: 2914 \t loss: 20.677 \t reward: 84.633\n",
      "epoch: 2915 \t loss: 98.749 \t reward: 160.414\n",
      "epoch: 2916 \t loss: 102.120 \t reward: 193.729\n",
      "epoch: 2917 \t loss: 57.654 \t reward: 121.515\n",
      "epoch: 2918 \t loss: 73.361 \t reward: 160.466\n",
      "epoch: 2919 \t loss: 90.218 \t reward: 164.418\n"
     ]
    },
    {
     "name": "stderr",
     "output_type": "stream",
     "text": [
      "100%|████████████████████████| 100/100 [00:31<00:00,  3.13it/s]\n"
     ]
    },
    {
     "name": "stdout",
     "output_type": "stream",
     "text": [
      "epoch: 2920 \t loss: 58.787 \t reward: 176.931\n",
      "epoch: 2921 \t loss: 54.010 \t reward: 100.811\n",
      "epoch: 2922 \t loss: 55.312 \t reward: 137.162\n",
      "epoch: 2923 \t loss: 32.108 \t reward: 43.051\n",
      "epoch: 2924 \t loss: 53.117 \t reward: 106.383\n",
      "epoch: 2925 \t loss: -10.597 \t reward: -4.531\n",
      "epoch: 2926 \t loss: 78.304 \t reward: 180.436\n",
      "epoch: 2927 \t loss: 88.580 \t reward: 157.171\n",
      "epoch: 2928 \t loss: 42.263 \t reward: 97.784\n",
      "epoch: 2929 \t loss: 48.050 \t reward: 122.226\n"
     ]
    },
    {
     "name": "stderr",
     "output_type": "stream",
     "text": [
      "100%|████████████████████████| 100/100 [00:27<00:00,  3.68it/s]\n"
     ]
    },
    {
     "name": "stdout",
     "output_type": "stream",
     "text": [
      "epoch: 2930 \t loss: 94.888 \t reward: 207.840\n",
      "epoch: 2931 \t loss: 79.820 \t reward: 187.135\n",
      "epoch: 2932 \t loss: 83.463 \t reward: 126.683\n",
      "epoch: 2933 \t loss: 35.797 \t reward: 144.654\n",
      "epoch: 2934 \t loss: 110.270 \t reward: 204.287\n",
      "epoch: 2935 \t loss: 58.414 \t reward: 110.302\n",
      "epoch: 2936 \t loss: 89.841 \t reward: 166.915\n",
      "epoch: 2937 \t loss: 108.608 \t reward: 201.850\n",
      "epoch: 2938 \t loss: 90.765 \t reward: 136.950\n",
      "epoch: 2939 \t loss: 47.655 \t reward: 96.318\n"
     ]
    },
    {
     "name": "stderr",
     "output_type": "stream",
     "text": [
      "100%|████████████████████████| 100/100 [00:26<00:00,  3.82it/s]\n"
     ]
    },
    {
     "name": "stdout",
     "output_type": "stream",
     "text": [
      "epoch: 2940 \t loss: 53.855 \t reward: 165.515\n",
      "epoch: 2941 \t loss: 105.949 \t reward: 191.013\n",
      "epoch: 2942 \t loss: 64.619 \t reward: 120.589\n",
      "epoch: 2943 \t loss: 76.396 \t reward: 154.948\n",
      "epoch: 2944 \t loss: 64.952 \t reward: 171.270\n",
      "epoch: 2945 \t loss: 105.806 \t reward: 196.317\n",
      "epoch: 2946 \t loss: 67.383 \t reward: 150.217\n",
      "epoch: 2947 \t loss: 72.946 \t reward: 116.974\n",
      "epoch: 2948 \t loss: 66.561 \t reward: 123.572\n",
      "epoch: 2949 \t loss: 89.318 \t reward: 170.792\n"
     ]
    },
    {
     "name": "stderr",
     "output_type": "stream",
     "text": [
      "100%|████████████████████████| 100/100 [00:36<00:00,  2.77it/s]\n"
     ]
    },
    {
     "name": "stdout",
     "output_type": "stream",
     "text": [
      "epoch: 2950 \t loss: 97.593 \t reward: 198.940\n",
      "epoch: 2951 \t loss: 88.607 \t reward: 137.251\n",
      "epoch: 2952 \t loss: 89.230 \t reward: 170.114\n",
      "epoch: 2953 \t loss: 47.291 \t reward: 103.553\n",
      "epoch: 2954 \t loss: 93.755 \t reward: 158.464\n",
      "epoch: 2955 \t loss: 93.589 \t reward: 205.110\n",
      "epoch: 2956 \t loss: 69.911 \t reward: 108.760\n",
      "epoch: 2957 \t loss: 73.699 \t reward: 161.166\n",
      "epoch: 2958 \t loss: 51.076 \t reward: 140.149\n",
      "epoch: 2959 \t loss: 104.157 \t reward: 193.115\n"
     ]
    },
    {
     "name": "stderr",
     "output_type": "stream",
     "text": [
      "100%|████████████████████████| 100/100 [00:28<00:00,  3.52it/s]\n"
     ]
    },
    {
     "name": "stdout",
     "output_type": "stream",
     "text": [
      "epoch: 2960 \t loss: 60.628 \t reward: 114.599\n",
      "epoch: 2961 \t loss: 35.272 \t reward: 133.823\n",
      "epoch: 2962 \t loss: 71.578 \t reward: 174.837\n",
      "epoch: 2963 \t loss: 61.913 \t reward: 120.698\n",
      "epoch: 2964 \t loss: 40.801 \t reward: 112.431\n",
      "epoch: 2965 \t loss: 87.031 \t reward: 164.063\n",
      "epoch: 2966 \t loss: 75.926 \t reward: 147.106\n",
      "epoch: 2967 \t loss: 107.329 \t reward: 178.800\n",
      "epoch: 2968 \t loss: 67.523 \t reward: 156.759\n",
      "epoch: 2969 \t loss: 27.510 \t reward: 53.967\n"
     ]
    },
    {
     "name": "stderr",
     "output_type": "stream",
     "text": [
      "100%|████████████████████████| 100/100 [00:31<00:00,  3.20it/s]\n"
     ]
    },
    {
     "name": "stdout",
     "output_type": "stream",
     "text": [
      "epoch: 2970 \t loss: 59.142 \t reward: 99.298\n",
      "epoch: 2971 \t loss: 89.762 \t reward: 181.742\n",
      "epoch: 2972 \t loss: 71.247 \t reward: 131.854\n",
      "epoch: 2973 \t loss: 67.044 \t reward: 128.804\n",
      "epoch: 2974 \t loss: 52.885 \t reward: 138.831\n",
      "epoch: 2975 \t loss: 76.052 \t reward: 179.558\n",
      "epoch: 2976 \t loss: 66.398 \t reward: 163.146\n",
      "epoch: 2977 \t loss: 93.611 \t reward: 157.236\n",
      "epoch: 2978 \t loss: 60.550 \t reward: 114.653\n",
      "epoch: 2979 \t loss: 47.155 \t reward: 95.001\n"
     ]
    },
    {
     "name": "stderr",
     "output_type": "stream",
     "text": [
      "100%|████████████████████████| 100/100 [00:25<00:00,  3.98it/s]\n"
     ]
    },
    {
     "name": "stdout",
     "output_type": "stream",
     "text": [
      "epoch: 2980 \t loss: 64.726 \t reward: 105.376\n",
      "epoch: 2981 \t loss: 80.129 \t reward: 195.748\n",
      "epoch: 2982 \t loss: 71.239 \t reward: 202.044\n",
      "epoch: 2983 \t loss: 52.038 \t reward: 88.371\n",
      "epoch: 2984 \t loss: 48.470 \t reward: 84.772\n",
      "epoch: 2985 \t loss: 79.197 \t reward: 130.234\n",
      "epoch: 2986 \t loss: 42.875 \t reward: 60.942\n",
      "epoch: 2987 \t loss: 58.682 \t reward: 82.102\n",
      "epoch: 2988 \t loss: 59.439 \t reward: 156.092\n",
      "epoch: 2989 \t loss: 6.721 \t reward: 13.425\n"
     ]
    },
    {
     "name": "stderr",
     "output_type": "stream",
     "text": [
      "100%|████████████████████████| 100/100 [00:23<00:00,  4.29it/s]\n"
     ]
    },
    {
     "name": "stdout",
     "output_type": "stream",
     "text": [
      "epoch: 2990 \t loss: 74.398 \t reward: 119.477\n",
      "epoch: 2991 \t loss: 84.869 \t reward: 140.187\n",
      "epoch: 2992 \t loss: 39.362 \t reward: 123.340\n",
      "epoch: 2993 \t loss: 99.104 \t reward: 189.051\n",
      "epoch: 2994 \t loss: 60.002 \t reward: 115.844\n",
      "epoch: 2995 \t loss: -0.202 \t reward: -1.568\n",
      "epoch: 2996 \t loss: 45.901 \t reward: 63.961\n",
      "epoch: 2997 \t loss: 85.726 \t reward: 184.673\n",
      "epoch: 2998 \t loss: 70.177 \t reward: 96.845\n",
      "epoch: 2999 \t loss: 59.973 \t reward: 97.326\n"
     ]
    },
    {
     "name": "stderr",
     "output_type": "stream",
     "text": [
      "100%|████████████████████████| 100/100 [00:24<00:00,  4.06it/s]\n"
     ]
    },
    {
     "name": "stdout",
     "output_type": "stream",
     "text": [
      "epoch: 3000 \t loss: 61.230 \t reward: 138.908\n",
      "epoch: 3001 \t loss: 60.160 \t reward: 107.694\n",
      "epoch: 3002 \t loss: 75.286 \t reward: 129.644\n",
      "epoch: 3003 \t loss: 82.660 \t reward: 129.055\n",
      "epoch: 3004 \t loss: 45.562 \t reward: 113.835\n",
      "epoch: 3005 \t loss: 34.297 \t reward: 36.610\n",
      "epoch: 3006 \t loss: 56.891 \t reward: 118.369\n",
      "epoch: 3007 \t loss: 84.136 \t reward: 199.493\n",
      "epoch: 3008 \t loss: 84.281 \t reward: 157.909\n",
      "epoch: 3009 \t loss: 52.149 \t reward: 146.749\n"
     ]
    },
    {
     "name": "stderr",
     "output_type": "stream",
     "text": [
      "100%|████████████████████████| 100/100 [00:35<00:00,  2.84it/s]\n"
     ]
    },
    {
     "name": "stdout",
     "output_type": "stream",
     "text": [
      "epoch: 3010 \t loss: 63.699 \t reward: 187.183\n",
      "epoch: 3011 \t loss: 29.816 \t reward: 67.643\n",
      "epoch: 3012 \t loss: 69.339 \t reward: 135.106\n",
      "epoch: 3013 \t loss: 76.305 \t reward: 169.092\n",
      "epoch: 3014 \t loss: 40.967 \t reward: 99.323\n",
      "epoch: 3015 \t loss: 81.977 \t reward: 113.378\n",
      "epoch: 3016 \t loss: 60.679 \t reward: 177.206\n",
      "epoch: 3017 \t loss: 55.622 \t reward: 122.663\n",
      "epoch: 3018 \t loss: 71.648 \t reward: 128.417\n",
      "epoch: 3019 \t loss: 34.324 \t reward: 74.333\n"
     ]
    },
    {
     "name": "stderr",
     "output_type": "stream",
     "text": [
      "100%|████████████████████████| 100/100 [00:19<00:00,  5.03it/s]\n"
     ]
    },
    {
     "name": "stdout",
     "output_type": "stream",
     "text": [
      "epoch: 3020 \t loss: 74.448 \t reward: 116.673\n",
      "epoch: 3021 \t loss: 79.297 \t reward: 156.915\n",
      "epoch: 3022 \t loss: 92.231 \t reward: 197.967\n",
      "epoch: 3023 \t loss: -5.747 \t reward: -24.637\n",
      "epoch: 3024 \t loss: 70.296 \t reward: 110.558\n",
      "epoch: 3025 \t loss: 53.214 \t reward: 95.417\n",
      "epoch: 3026 \t loss: 62.661 \t reward: 108.224\n",
      "epoch: 3027 \t loss: 31.985 \t reward: 52.251\n",
      "epoch: 3028 \t loss: 71.696 \t reward: 152.533\n",
      "epoch: 3029 \t loss: 52.495 \t reward: 112.990\n"
     ]
    },
    {
     "name": "stderr",
     "output_type": "stream",
     "text": [
      "100%|████████████████████████| 100/100 [00:21<00:00,  4.68it/s]\n"
     ]
    },
    {
     "name": "stdout",
     "output_type": "stream",
     "text": [
      "epoch: 3030 \t loss: 57.431 \t reward: 113.483\n",
      "epoch: 3031 \t loss: 55.146 \t reward: 123.554\n",
      "epoch: 3032 \t loss: 66.440 \t reward: 100.909\n",
      "epoch: 3033 \t loss: 62.940 \t reward: 142.303\n",
      "epoch: 3034 \t loss: 49.158 \t reward: 78.794\n",
      "epoch: 3035 \t loss: 58.015 \t reward: 110.572\n",
      "epoch: 3036 \t loss: 96.614 \t reward: 168.761\n",
      "epoch: 3037 \t loss: 78.492 \t reward: 154.580\n",
      "epoch: 3038 \t loss: 42.413 \t reward: 88.253\n",
      "epoch: 3039 \t loss: 70.918 \t reward: 119.047\n"
     ]
    },
    {
     "name": "stderr",
     "output_type": "stream",
     "text": [
      "100%|████████████████████████| 100/100 [00:19<00:00,  5.10it/s]\n"
     ]
    },
    {
     "name": "stdout",
     "output_type": "stream",
     "text": [
      "epoch: 3040 \t loss: 54.904 \t reward: 107.689\n",
      "epoch: 3041 \t loss: 48.196 \t reward: 97.259\n",
      "epoch: 3042 \t loss: 45.109 \t reward: 99.144\n",
      "epoch: 3043 \t loss: 43.178 \t reward: 133.362\n",
      "epoch: 3044 \t loss: 57.605 \t reward: 99.561\n",
      "epoch: 3045 \t loss: 87.106 \t reward: 153.218\n",
      "epoch: 3046 \t loss: 70.407 \t reward: 137.031\n",
      "epoch: 3047 \t loss: 69.157 \t reward: 138.636\n",
      "epoch: 3048 \t loss: 73.834 \t reward: 149.152\n",
      "epoch: 3049 \t loss: 44.119 \t reward: 92.971\n"
     ]
    },
    {
     "name": "stderr",
     "output_type": "stream",
     "text": [
      "100%|████████████████████████| 100/100 [00:21<00:00,  4.66it/s]\n"
     ]
    },
    {
     "name": "stdout",
     "output_type": "stream",
     "text": [
      "epoch: 3050 \t loss: -16.957 \t reward: -57.017\n",
      "epoch: 3051 \t loss: 49.118 \t reward: 90.823\n",
      "epoch: 3052 \t loss: 60.533 \t reward: 102.811\n",
      "epoch: 3053 \t loss: 13.891 \t reward: 24.221\n",
      "epoch: 3054 \t loss: 69.244 \t reward: 179.672\n",
      "epoch: 3055 \t loss: 45.057 \t reward: 105.347\n",
      "epoch: 3056 \t loss: 52.374 \t reward: 83.435\n",
      "epoch: 3057 \t loss: 64.449 \t reward: 113.625\n",
      "epoch: 3058 \t loss: 78.129 \t reward: 153.535\n",
      "epoch: 3059 \t loss: 11.656 \t reward: 33.338\n"
     ]
    },
    {
     "name": "stderr",
     "output_type": "stream",
     "text": [
      "100%|████████████████████████| 100/100 [00:15<00:00,  6.30it/s]\n"
     ]
    },
    {
     "name": "stdout",
     "output_type": "stream",
     "text": [
      "epoch: 3060 \t loss: 81.250 \t reward: 178.242\n",
      "epoch: 3061 \t loss: 36.711 \t reward: 55.908\n",
      "epoch: 3062 \t loss: 61.336 \t reward: 104.743\n",
      "epoch: 3063 \t loss: 53.620 \t reward: 97.416\n",
      "epoch: 3064 \t loss: 21.940 \t reward: 66.580\n",
      "epoch: 3065 \t loss: 71.722 \t reward: 137.373\n",
      "epoch: 3066 \t loss: 67.239 \t reward: 146.332\n",
      "epoch: 3067 \t loss: 79.646 \t reward: 140.555\n",
      "epoch: 3068 \t loss: 48.954 \t reward: 132.542\n",
      "epoch: 3069 \t loss: 57.327 \t reward: 173.352\n"
     ]
    },
    {
     "name": "stderr",
     "output_type": "stream",
     "text": [
      "100%|████████████████████████| 100/100 [00:24<00:00,  4.14it/s]\n"
     ]
    },
    {
     "name": "stdout",
     "output_type": "stream",
     "text": [
      "epoch: 3070 \t loss: 41.666 \t reward: 80.972\n",
      "epoch: 3071 \t loss: 25.088 \t reward: 110.545\n",
      "epoch: 3072 \t loss: 76.251 \t reward: 141.895\n",
      "epoch: 3073 \t loss: 67.075 \t reward: 147.492\n",
      "epoch: 3074 \t loss: 15.327 \t reward: 59.709\n",
      "epoch: 3075 \t loss: 26.382 \t reward: -13.451\n",
      "epoch: 3076 \t loss: 73.182 \t reward: 149.087\n",
      "epoch: 3077 \t loss: 67.155 \t reward: 165.564\n",
      "epoch: 3078 \t loss: 79.081 \t reward: 163.069\n",
      "epoch: 3079 \t loss: 34.291 \t reward: 61.424\n"
     ]
    },
    {
     "name": "stderr",
     "output_type": "stream",
     "text": [
      "100%|████████████████████████| 100/100 [00:29<00:00,  3.44it/s]\n"
     ]
    },
    {
     "name": "stdout",
     "output_type": "stream",
     "text": [
      "epoch: 3080 \t loss: 60.816 \t reward: 93.901\n",
      "epoch: 3081 \t loss: 89.149 \t reward: 201.175\n",
      "epoch: 3082 \t loss: 97.763 \t reward: 210.853\n",
      "epoch: 3083 \t loss: 18.167 \t reward: 52.974\n",
      "epoch: 3084 \t loss: 88.978 \t reward: 99.456\n",
      "epoch: 3085 \t loss: 79.735 \t reward: 149.129\n",
      "epoch: 3086 \t loss: 94.581 \t reward: 194.883\n",
      "epoch: 3087 \t loss: 92.274 \t reward: 202.164\n",
      "epoch: 3088 \t loss: 70.191 \t reward: 130.863\n",
      "epoch: 3089 \t loss: 78.871 \t reward: 163.229\n"
     ]
    },
    {
     "name": "stderr",
     "output_type": "stream",
     "text": [
      "100%|████████████████████████| 100/100 [00:35<00:00,  2.81it/s]\n"
     ]
    },
    {
     "name": "stdout",
     "output_type": "stream",
     "text": [
      "epoch: 3090 \t loss: 7.029 \t reward: 28.572\n",
      "epoch: 3091 \t loss: 82.327 \t reward: 185.869\n",
      "epoch: 3092 \t loss: 84.134 \t reward: 207.379\n",
      "epoch: 3093 \t loss: 83.545 \t reward: 178.002\n",
      "epoch: 3094 \t loss: 50.787 \t reward: 115.756\n",
      "epoch: 3095 \t loss: 66.968 \t reward: 124.545\n",
      "epoch: 3096 \t loss: 47.861 \t reward: 130.428\n",
      "epoch: 3097 \t loss: 74.256 \t reward: 131.743\n",
      "epoch: 3098 \t loss: 62.028 \t reward: 131.774\n",
      "epoch: 3099 \t loss: 37.368 \t reward: 151.570\n"
     ]
    },
    {
     "name": "stderr",
     "output_type": "stream",
     "text": [
      "100%|████████████████████████| 100/100 [00:34<00:00,  2.88it/s]\n"
     ]
    },
    {
     "name": "stdout",
     "output_type": "stream",
     "text": [
      "epoch: 3100 \t loss: 110.823 \t reward: 207.032\n",
      "epoch: 3101 \t loss: 34.037 \t reward: 74.447\n",
      "epoch: 3102 \t loss: 67.264 \t reward: 152.217\n",
      "epoch: 3103 \t loss: 71.589 \t reward: 132.619\n",
      "epoch: 3104 \t loss: 57.544 \t reward: 136.710\n",
      "epoch: 3105 \t loss: 79.647 \t reward: 157.239\n",
      "epoch: 3106 \t loss: 50.006 \t reward: 117.262\n",
      "epoch: 3107 \t loss: 95.782 \t reward: 199.692\n",
      "epoch: 3108 \t loss: 56.531 \t reward: 116.691\n",
      "epoch: 3109 \t loss: 81.567 \t reward: 150.477\n"
     ]
    },
    {
     "name": "stderr",
     "output_type": "stream",
     "text": [
      "100%|████████████████████████| 100/100 [00:38<00:00,  2.57it/s]\n"
     ]
    },
    {
     "name": "stdout",
     "output_type": "stream",
     "text": [
      "epoch: 3110 \t loss: 70.586 \t reward: 170.014\n",
      "epoch: 3111 \t loss: 98.585 \t reward: 217.902\n",
      "epoch: 3112 \t loss: 28.764 \t reward: 68.653\n",
      "epoch: 3113 \t loss: 63.967 \t reward: 138.749\n",
      "epoch: 3114 \t loss: 59.195 \t reward: 109.427\n",
      "epoch: 3115 \t loss: 81.965 \t reward: 142.052\n",
      "epoch: 3116 \t loss: 72.867 \t reward: 138.897\n",
      "epoch: 3117 \t loss: 49.252 \t reward: 144.383\n",
      "epoch: 3118 \t loss: 26.980 \t reward: 67.058\n",
      "epoch: 3119 \t loss: 82.092 \t reward: 207.469\n"
     ]
    },
    {
     "name": "stderr",
     "output_type": "stream",
     "text": [
      "100%|████████████████████████| 100/100 [00:39<00:00,  2.55it/s]\n"
     ]
    },
    {
     "name": "stdout",
     "output_type": "stream",
     "text": [
      "epoch: 3120 \t loss: -2.455 \t reward: 32.377\n",
      "epoch: 3121 \t loss: 100.666 \t reward: 199.612\n",
      "epoch: 3122 \t loss: 57.328 \t reward: 162.505\n",
      "epoch: 3123 \t loss: 75.199 \t reward: 152.258\n",
      "epoch: 3124 \t loss: 46.640 \t reward: 120.889\n",
      "epoch: 3125 \t loss: 88.255 \t reward: 185.919\n",
      "epoch: 3126 \t loss: 22.776 \t reward: 104.984\n",
      "epoch: 3127 \t loss: 32.892 \t reward: 75.364\n",
      "epoch: 3128 \t loss: 57.077 \t reward: 182.077\n",
      "epoch: 3129 \t loss: 32.431 \t reward: 84.851\n"
     ]
    },
    {
     "name": "stderr",
     "output_type": "stream",
     "text": [
      "100%|████████████████████████| 100/100 [00:34<00:00,  2.89it/s]\n"
     ]
    },
    {
     "name": "stdout",
     "output_type": "stream",
     "text": [
      "epoch: 3130 \t loss: 86.739 \t reward: 193.027\n",
      "epoch: 3131 \t loss: 18.349 \t reward: 53.598\n",
      "epoch: 3132 \t loss: 48.877 \t reward: 121.730\n",
      "epoch: 3133 \t loss: 75.135 \t reward: 121.770\n",
      "epoch: 3134 \t loss: 68.921 \t reward: 144.940\n",
      "epoch: 3135 \t loss: 55.030 \t reward: 100.821\n",
      "epoch: 3136 \t loss: 91.780 \t reward: 192.725\n",
      "epoch: 3137 \t loss: 85.230 \t reward: 153.016\n",
      "epoch: 3138 \t loss: 77.775 \t reward: 174.772\n",
      "epoch: 3139 \t loss: 72.442 \t reward: 172.024\n"
     ]
    },
    {
     "name": "stderr",
     "output_type": "stream",
     "text": [
      "100%|████████████████████████| 100/100 [00:38<00:00,  2.59it/s]\n"
     ]
    },
    {
     "name": "stdout",
     "output_type": "stream",
     "text": [
      "epoch: 3140 \t loss: 49.236 \t reward: 102.275\n",
      "epoch: 3141 \t loss: 31.441 \t reward: 85.013\n",
      "epoch: 3142 \t loss: 69.197 \t reward: 158.165\n",
      "epoch: 3143 \t loss: 2.792 \t reward: 30.716\n",
      "epoch: 3144 \t loss: 67.463 \t reward: 156.288\n",
      "epoch: 3145 \t loss: 24.987 \t reward: 18.537\n",
      "epoch: 3146 \t loss: 79.982 \t reward: 185.891\n",
      "epoch: 3147 \t loss: 72.689 \t reward: 138.500\n",
      "epoch: 3148 \t loss: 65.812 \t reward: 102.767\n",
      "epoch: 3149 \t loss: 62.820 \t reward: 154.702\n"
     ]
    },
    {
     "name": "stderr",
     "output_type": "stream",
     "text": [
      "100%|████████████████████████| 100/100 [00:38<00:00,  2.63it/s]\n"
     ]
    },
    {
     "name": "stdout",
     "output_type": "stream",
     "text": [
      "epoch: 3150 \t loss: 89.245 \t reward: 167.536\n",
      "epoch: 3151 \t loss: 31.090 \t reward: 52.604\n",
      "epoch: 3152 \t loss: 67.840 \t reward: 122.399\n",
      "epoch: 3153 \t loss: 36.832 \t reward: 62.264\n",
      "epoch: 3154 \t loss: 30.930 \t reward: 65.644\n",
      "epoch: 3155 \t loss: 54.617 \t reward: 122.231\n",
      "epoch: 3156 \t loss: 86.818 \t reward: 180.639\n",
      "epoch: 3157 \t loss: 62.827 \t reward: 110.948\n",
      "epoch: 3158 \t loss: -17.898 \t reward: 18.799\n",
      "epoch: 3159 \t loss: 66.965 \t reward: 144.645\n"
     ]
    },
    {
     "name": "stderr",
     "output_type": "stream",
     "text": [
      "100%|████████████████████████| 100/100 [00:40<00:00,  2.49it/s]\n"
     ]
    },
    {
     "name": "stdout",
     "output_type": "stream",
     "text": [
      "epoch: 3160 \t loss: 24.987 \t reward: 63.548\n",
      "epoch: 3161 \t loss: 76.777 \t reward: 177.034\n",
      "epoch: 3162 \t loss: 70.880 \t reward: 137.763\n",
      "epoch: 3163 \t loss: 52.794 \t reward: 120.050\n",
      "epoch: 3164 \t loss: 75.150 \t reward: 174.751\n",
      "epoch: 3165 \t loss: 75.171 \t reward: 192.231\n",
      "epoch: 3166 \t loss: 13.437 \t reward: 28.254\n",
      "epoch: 3167 \t loss: 66.393 \t reward: 165.862\n",
      "epoch: 3168 \t loss: 22.096 \t reward: 93.204\n",
      "epoch: 3169 \t loss: 84.175 \t reward: 162.378\n"
     ]
    },
    {
     "name": "stderr",
     "output_type": "stream",
     "text": [
      "100%|████████████████████████| 100/100 [00:41<00:00,  2.38it/s]\n"
     ]
    },
    {
     "name": "stdout",
     "output_type": "stream",
     "text": [
      "epoch: 3170 \t loss: 28.550 \t reward: 64.283\n",
      "epoch: 3171 \t loss: 105.504 \t reward: 202.859\n",
      "epoch: 3172 \t loss: 102.758 \t reward: 206.700\n",
      "epoch: 3173 \t loss: 67.385 \t reward: 128.797\n",
      "epoch: 3174 \t loss: -9.307 \t reward: 33.894\n",
      "epoch: 3175 \t loss: 87.596 \t reward: 164.579\n",
      "epoch: 3176 \t loss: 57.363 \t reward: 148.149\n",
      "epoch: 3177 \t loss: 91.646 \t reward: 186.655\n",
      "epoch: 3178 \t loss: 88.058 \t reward: 159.628\n",
      "epoch: 3179 \t loss: 111.509 \t reward: 208.181\n"
     ]
    },
    {
     "name": "stderr",
     "output_type": "stream",
     "text": [
      "100%|████████████████████████| 100/100 [00:45<00:00,  2.19it/s]\n"
     ]
    },
    {
     "name": "stdout",
     "output_type": "stream",
     "text": [
      "epoch: 3180 \t loss: 87.442 \t reward: 185.938\n",
      "epoch: 3181 \t loss: 59.300 \t reward: 129.826\n",
      "epoch: 3182 \t loss: 37.016 \t reward: 86.666\n",
      "epoch: 3183 \t loss: 74.504 \t reward: 153.287\n",
      "epoch: 3184 \t loss: 55.207 \t reward: 94.599\n",
      "epoch: 3185 \t loss: 111.823 \t reward: 201.080\n",
      "epoch: 3186 \t loss: 57.544 \t reward: 128.565\n",
      "epoch: 3187 \t loss: 58.102 \t reward: 112.104\n",
      "epoch: 3188 \t loss: 96.618 \t reward: 188.520\n",
      "epoch: 3189 \t loss: 70.831 \t reward: 134.805\n"
     ]
    },
    {
     "name": "stderr",
     "output_type": "stream",
     "text": [
      "100%|████████████████████████| 100/100 [00:43<00:00,  2.29it/s]\n"
     ]
    },
    {
     "name": "stdout",
     "output_type": "stream",
     "text": [
      "epoch: 3190 \t loss: 103.966 \t reward: 202.947\n",
      "epoch: 3191 \t loss: 89.094 \t reward: 184.629\n",
      "epoch: 3192 \t loss: 20.909 \t reward: 40.300\n",
      "epoch: 3193 \t loss: 77.126 \t reward: 137.029\n",
      "epoch: 3194 \t loss: 78.266 \t reward: 164.047\n",
      "epoch: 3195 \t loss: 40.180 \t reward: 127.114\n",
      "epoch: 3196 \t loss: 103.178 \t reward: 199.238\n",
      "epoch: 3197 \t loss: 24.186 \t reward: 70.751\n",
      "epoch: 3198 \t loss: 37.954 \t reward: 110.874\n",
      "epoch: 3199 \t loss: 79.006 \t reward: 169.645\n"
     ]
    },
    {
     "name": "stderr",
     "output_type": "stream",
     "text": [
      "100%|████████████████████████| 100/100 [00:40<00:00,  2.50it/s]\n"
     ]
    },
    {
     "name": "stdout",
     "output_type": "stream",
     "text": [
      "epoch: 3200 \t loss: 93.484 \t reward: 159.101\n",
      "epoch: 3201 \t loss: 89.240 \t reward: 159.252\n",
      "epoch: 3202 \t loss: 29.216 \t reward: 105.163\n",
      "epoch: 3203 \t loss: 50.807 \t reward: 139.394\n",
      "epoch: 3204 \t loss: 86.118 \t reward: 143.959\n",
      "epoch: 3205 \t loss: 54.117 \t reward: 134.177\n",
      "epoch: 3206 \t loss: 95.952 \t reward: 142.183\n",
      "epoch: 3207 \t loss: 42.312 \t reward: 105.677\n",
      "epoch: 3208 \t loss: 85.948 \t reward: 176.719\n",
      "epoch: 3209 \t loss: 69.410 \t reward: 194.461\n"
     ]
    },
    {
     "name": "stderr",
     "output_type": "stream",
     "text": [
      "100%|████████████████████████| 100/100 [00:26<00:00,  3.71it/s]\n"
     ]
    },
    {
     "name": "stdout",
     "output_type": "stream",
     "text": [
      "epoch: 3210 \t loss: 33.012 \t reward: 90.180\n",
      "epoch: 3211 \t loss: 28.541 \t reward: 82.416\n",
      "epoch: 3212 \t loss: 70.206 \t reward: 175.516\n",
      "epoch: 3213 \t loss: 82.204 \t reward: 176.156\n",
      "epoch: 3214 \t loss: 52.344 \t reward: 137.061\n",
      "epoch: 3215 \t loss: 61.412 \t reward: 117.257\n",
      "epoch: 3216 \t loss: 58.755 \t reward: 131.237\n",
      "epoch: 3217 \t loss: 86.727 \t reward: 184.407\n",
      "epoch: 3218 \t loss: 57.960 \t reward: 100.405\n",
      "epoch: 3219 \t loss: 53.175 \t reward: 105.827\n"
     ]
    },
    {
     "name": "stderr",
     "output_type": "stream",
     "text": [
      "100%|████████████████████████| 100/100 [00:18<00:00,  5.30it/s]\n"
     ]
    },
    {
     "name": "stdout",
     "output_type": "stream",
     "text": [
      "epoch: 3220 \t loss: 27.947 \t reward: 53.926\n",
      "epoch: 3221 \t loss: 18.962 \t reward: 22.852\n",
      "epoch: 3222 \t loss: 61.494 \t reward: 96.821\n",
      "epoch: 3223 \t loss: 45.191 \t reward: 108.309\n",
      "epoch: 3224 \t loss: 58.980 \t reward: 114.632\n",
      "epoch: 3225 \t loss: 62.070 \t reward: 99.828\n",
      "epoch: 3226 \t loss: 32.197 \t reward: 87.569\n",
      "epoch: 3227 \t loss: 34.002 \t reward: 84.424\n",
      "epoch: 3228 \t loss: 67.139 \t reward: 141.061\n",
      "epoch: 3229 \t loss: 59.228 \t reward: 126.239\n"
     ]
    },
    {
     "name": "stderr",
     "output_type": "stream",
     "text": [
      "100%|████████████████████████| 100/100 [00:19<00:00,  5.09it/s]\n"
     ]
    },
    {
     "name": "stdout",
     "output_type": "stream",
     "text": [
      "epoch: 3230 \t loss: 38.944 \t reward: 61.944\n",
      "epoch: 3231 \t loss: 35.885 \t reward: 80.715\n",
      "epoch: 3232 \t loss: 75.494 \t reward: 165.834\n",
      "epoch: 3233 \t loss: 56.067 \t reward: 128.656\n",
      "epoch: 3234 \t loss: 60.170 \t reward: 130.969\n",
      "epoch: 3235 \t loss: 67.356 \t reward: 129.553\n",
      "epoch: 3236 \t loss: 33.367 \t reward: 41.414\n",
      "epoch: 3237 \t loss: 50.446 \t reward: 95.051\n",
      "epoch: 3238 \t loss: 34.732 \t reward: 89.891\n",
      "epoch: 3239 \t loss: 64.465 \t reward: 159.258\n"
     ]
    },
    {
     "name": "stderr",
     "output_type": "stream",
     "text": [
      "100%|████████████████████████| 100/100 [00:18<00:00,  5.35it/s]\n"
     ]
    },
    {
     "name": "stdout",
     "output_type": "stream",
     "text": [
      "epoch: 3240 \t loss: 29.844 \t reward: 60.283\n",
      "epoch: 3241 \t loss: 33.604 \t reward: 74.333\n",
      "epoch: 3242 \t loss: 28.104 \t reward: 56.444\n",
      "epoch: 3243 \t loss: 61.423 \t reward: 134.897\n",
      "epoch: 3244 \t loss: 65.002 \t reward: 83.522\n",
      "epoch: 3245 \t loss: 69.902 \t reward: 108.661\n",
      "epoch: 3246 \t loss: 15.304 \t reward: 35.808\n",
      "epoch: 3247 \t loss: 46.302 \t reward: 110.177\n",
      "epoch: 3248 \t loss: 22.833 \t reward: 58.787\n",
      "epoch: 3249 \t loss: 49.987 \t reward: 90.437\n"
     ]
    },
    {
     "name": "stderr",
     "output_type": "stream",
     "text": [
      "100%|████████████████████████| 100/100 [00:21<00:00,  4.60it/s]\n"
     ]
    },
    {
     "name": "stdout",
     "output_type": "stream",
     "text": [
      "epoch: 3250 \t loss: 18.633 \t reward: 41.901\n",
      "epoch: 3251 \t loss: 74.274 \t reward: 130.916\n",
      "epoch: 3252 \t loss: 61.761 \t reward: 129.757\n",
      "epoch: 3253 \t loss: 54.173 \t reward: 98.509\n",
      "epoch: 3254 \t loss: 73.136 \t reward: 160.056\n",
      "epoch: 3255 \t loss: 47.041 \t reward: 99.801\n",
      "epoch: 3256 \t loss: 64.430 \t reward: 131.549\n",
      "epoch: 3257 \t loss: 46.929 \t reward: 141.905\n",
      "epoch: 3258 \t loss: 41.751 \t reward: 104.504\n",
      "epoch: 3259 \t loss: 62.770 \t reward: 117.665\n"
     ]
    },
    {
     "name": "stderr",
     "output_type": "stream",
     "text": [
      "100%|████████████████████████| 100/100 [00:39<00:00,  2.55it/s]\n"
     ]
    },
    {
     "name": "stdout",
     "output_type": "stream",
     "text": [
      "epoch: 3260 \t loss: 72.912 \t reward: 123.850\n",
      "epoch: 3261 \t loss: 29.701 \t reward: 60.376\n",
      "epoch: 3262 \t loss: 39.866 \t reward: 148.455\n",
      "epoch: 3263 \t loss: 47.667 \t reward: 103.948\n",
      "epoch: 3264 \t loss: 40.756 \t reward: 73.304\n",
      "epoch: 3265 \t loss: 40.540 \t reward: 85.199\n",
      "epoch: 3266 \t loss: 44.819 \t reward: 103.621\n",
      "epoch: 3267 \t loss: 56.155 \t reward: 76.460\n",
      "epoch: 3268 \t loss: 74.381 \t reward: 182.393\n",
      "epoch: 3269 \t loss: 37.083 \t reward: 104.466\n"
     ]
    },
    {
     "name": "stderr",
     "output_type": "stream",
     "text": [
      "100%|████████████████████████| 100/100 [00:31<00:00,  3.20it/s]\n"
     ]
    },
    {
     "name": "stdout",
     "output_type": "stream",
     "text": [
      "epoch: 3270 \t loss: 61.128 \t reward: 126.478\n",
      "epoch: 3271 \t loss: 5.303 \t reward: 34.865\n",
      "epoch: 3272 \t loss: 57.988 \t reward: 174.545\n",
      "epoch: 3273 \t loss: 65.637 \t reward: 132.432\n",
      "epoch: 3274 \t loss: 37.526 \t reward: 110.395\n",
      "epoch: 3275 \t loss: 59.984 \t reward: 194.797\n",
      "epoch: 3276 \t loss: 47.773 \t reward: 162.349\n",
      "epoch: 3277 \t loss: 60.987 \t reward: 99.941\n",
      "epoch: 3278 \t loss: -2.917 \t reward: 52.726\n",
      "epoch: 3279 \t loss: 80.670 \t reward: 123.507\n"
     ]
    },
    {
     "name": "stderr",
     "output_type": "stream",
     "text": [
      "100%|████████████████████████| 100/100 [00:33<00:00,  3.00it/s]\n"
     ]
    },
    {
     "name": "stdout",
     "output_type": "stream",
     "text": [
      "epoch: 3280 \t loss: 42.598 \t reward: 74.722\n",
      "epoch: 3281 \t loss: 49.875 \t reward: 119.921\n",
      "epoch: 3282 \t loss: 52.803 \t reward: 96.131\n",
      "epoch: 3283 \t loss: 41.986 \t reward: 128.547\n",
      "epoch: 3284 \t loss: 46.520 \t reward: 127.656\n",
      "epoch: 3285 \t loss: 72.915 \t reward: 129.056\n",
      "epoch: 3286 \t loss: 64.507 \t reward: 144.464\n",
      "epoch: 3287 \t loss: 63.951 \t reward: 97.989\n",
      "epoch: 3288 \t loss: 13.114 \t reward: 57.604\n",
      "epoch: 3289 \t loss: 65.072 \t reward: 157.981\n"
     ]
    },
    {
     "name": "stderr",
     "output_type": "stream",
     "text": [
      "100%|████████████████████████| 100/100 [00:34<00:00,  2.87it/s]\n"
     ]
    },
    {
     "name": "stdout",
     "output_type": "stream",
     "text": [
      "epoch: 3290 \t loss: 72.460 \t reward: 137.995\n",
      "epoch: 3291 \t loss: 60.566 \t reward: 163.491\n",
      "epoch: 3292 \t loss: 82.957 \t reward: 151.442\n",
      "epoch: 3293 \t loss: 54.003 \t reward: 156.252\n",
      "epoch: 3294 \t loss: 71.843 \t reward: 94.126\n",
      "epoch: 3295 \t loss: 77.068 \t reward: 142.206\n",
      "epoch: 3296 \t loss: 61.893 \t reward: 191.900\n",
      "epoch: 3297 \t loss: 56.565 \t reward: 119.635\n",
      "epoch: 3298 \t loss: 53.688 \t reward: 154.006\n",
      "epoch: 3299 \t loss: 56.189 \t reward: 141.940\n"
     ]
    },
    {
     "name": "stderr",
     "output_type": "stream",
     "text": [
      "100%|████████████████████████| 100/100 [00:38<00:00,  2.62it/s]\n"
     ]
    },
    {
     "name": "stdout",
     "output_type": "stream",
     "text": [
      "epoch: 3300 \t loss: 68.353 \t reward: 137.990\n",
      "epoch: 3301 \t loss: 83.648 \t reward: 153.442\n",
      "epoch: 3302 \t loss: 51.148 \t reward: 86.531\n",
      "epoch: 3303 \t loss: 72.978 \t reward: 161.341\n",
      "epoch: 3304 \t loss: 65.159 \t reward: 138.165\n",
      "epoch: 3305 \t loss: 61.224 \t reward: 98.403\n",
      "epoch: 3306 \t loss: 101.658 \t reward: 230.935\n",
      "epoch: 3307 \t loss: 20.978 \t reward: 48.453\n",
      "epoch: 3308 \t loss: 41.440 \t reward: 121.427\n",
      "epoch: 3309 \t loss: 63.260 \t reward: 155.846\n"
     ]
    },
    {
     "name": "stderr",
     "output_type": "stream",
     "text": [
      "100%|████████████████████████| 100/100 [00:37<00:00,  2.65it/s]\n"
     ]
    },
    {
     "name": "stdout",
     "output_type": "stream",
     "text": [
      "epoch: 3310 \t loss: 49.484 \t reward: 143.563\n",
      "epoch: 3311 \t loss: 69.869 \t reward: 167.357\n",
      "epoch: 3312 \t loss: 78.319 \t reward: 112.810\n",
      "epoch: 3313 \t loss: 19.457 \t reward: 57.690\n",
      "epoch: 3314 \t loss: 50.243 \t reward: 67.473\n",
      "epoch: 3315 \t loss: 73.714 \t reward: 182.017\n",
      "epoch: 3316 \t loss: 82.956 \t reward: 110.642\n",
      "epoch: 3317 \t loss: 106.237 \t reward: 222.386\n",
      "epoch: 3318 \t loss: 34.274 \t reward: 54.042\n",
      "epoch: 3319 \t loss: 79.730 \t reward: 129.661\n"
     ]
    },
    {
     "name": "stderr",
     "output_type": "stream",
     "text": [
      "100%|████████████████████████| 100/100 [00:47<00:00,  2.12it/s]\n"
     ]
    },
    {
     "name": "stdout",
     "output_type": "stream",
     "text": [
      "epoch: 3320 \t loss: 65.727 \t reward: 110.201\n",
      "epoch: 3321 \t loss: 58.886 \t reward: 138.062\n",
      "epoch: 3322 \t loss: 83.665 \t reward: 179.903\n",
      "epoch: 3323 \t loss: 36.870 \t reward: 57.887\n",
      "epoch: 3324 \t loss: 68.465 \t reward: 114.652\n",
      "epoch: 3325 \t loss: 105.325 \t reward: 161.561\n",
      "epoch: 3326 \t loss: 60.347 \t reward: 69.829\n",
      "epoch: 3327 \t loss: 102.099 \t reward: 152.328\n",
      "epoch: 3328 \t loss: 50.169 \t reward: 159.786\n",
      "epoch: 3329 \t loss: 99.413 \t reward: 140.026\n"
     ]
    },
    {
     "name": "stderr",
     "output_type": "stream",
     "text": [
      "100%|████████████████████████| 100/100 [00:51<00:00,  1.93it/s]\n"
     ]
    },
    {
     "name": "stdout",
     "output_type": "stream",
     "text": [
      "epoch: 3330 \t loss: 66.043 \t reward: 151.106\n",
      "epoch: 3331 \t loss: 114.262 \t reward: 202.013\n",
      "epoch: 3332 \t loss: 65.274 \t reward: 122.924\n",
      "epoch: 3333 \t loss: 18.565 \t reward: 30.881\n",
      "epoch: 3334 \t loss: 68.806 \t reward: 136.505\n",
      "epoch: 3335 \t loss: 39.172 \t reward: 61.508\n",
      "epoch: 3336 \t loss: 58.399 \t reward: 120.946\n",
      "epoch: 3337 \t loss: -15.096 \t reward: -19.979\n",
      "epoch: 3338 \t loss: 90.185 \t reward: 136.890\n",
      "epoch: 3339 \t loss: 99.994 \t reward: 142.394\n"
     ]
    },
    {
     "name": "stderr",
     "output_type": "stream",
     "text": [
      "100%|████████████████████████| 100/100 [00:49<00:00,  2.00it/s]\n"
     ]
    },
    {
     "name": "stdout",
     "output_type": "stream",
     "text": [
      "epoch: 3340 \t loss: 37.244 \t reward: 69.470\n",
      "epoch: 3341 \t loss: 40.452 \t reward: 116.473\n",
      "epoch: 3342 \t loss: 77.361 \t reward: 156.435\n",
      "epoch: 3343 \t loss: 59.363 \t reward: 168.136\n",
      "epoch: 3344 \t loss: 58.406 \t reward: 134.474\n",
      "epoch: 3345 \t loss: 29.874 \t reward: 46.169\n",
      "epoch: 3346 \t loss: 21.430 \t reward: 33.315\n",
      "epoch: 3347 \t loss: 74.940 \t reward: 167.107\n",
      "epoch: 3348 \t loss: 59.830 \t reward: 160.656\n",
      "epoch: 3349 \t loss: 27.406 \t reward: 105.178\n"
     ]
    },
    {
     "name": "stderr",
     "output_type": "stream",
     "text": [
      "100%|████████████████████████| 100/100 [00:51<00:00,  1.95it/s]\n"
     ]
    },
    {
     "name": "stdout",
     "output_type": "stream",
     "text": [
      "epoch: 3350 \t loss: 70.811 \t reward: 148.097\n",
      "epoch: 3351 \t loss: 51.552 \t reward: 151.804\n",
      "epoch: 3352 \t loss: 93.977 \t reward: 188.720\n",
      "epoch: 3353 \t loss: 50.480 \t reward: 161.484\n",
      "epoch: 3354 \t loss: 53.769 \t reward: 136.608\n",
      "epoch: 3355 \t loss: 74.696 \t reward: 147.936\n",
      "epoch: 3356 \t loss: 66.157 \t reward: 161.696\n",
      "epoch: 3357 \t loss: 62.629 \t reward: 137.392\n",
      "epoch: 3358 \t loss: 70.123 \t reward: 176.084\n",
      "epoch: 3359 \t loss: 89.988 \t reward: 154.525\n"
     ]
    },
    {
     "name": "stderr",
     "output_type": "stream",
     "text": [
      "100%|████████████████████████| 100/100 [00:39<00:00,  2.51it/s]\n"
     ]
    },
    {
     "name": "stdout",
     "output_type": "stream",
     "text": [
      "epoch: 3360 \t loss: 88.941 \t reward: 130.234\n",
      "epoch: 3361 \t loss: 133.472 \t reward: 266.763\n",
      "epoch: 3362 \t loss: 69.063 \t reward: 202.929\n",
      "epoch: 3363 \t loss: 102.225 \t reward: 218.803\n",
      "epoch: 3364 \t loss: 40.917 \t reward: 106.748\n",
      "epoch: 3365 \t loss: 68.295 \t reward: 166.702\n",
      "epoch: 3366 \t loss: 14.788 \t reward: 21.255\n",
      "epoch: 3367 \t loss: 76.565 \t reward: 170.396\n",
      "epoch: 3368 \t loss: 59.056 \t reward: 160.127\n",
      "epoch: 3369 \t loss: 29.134 \t reward: 105.024\n"
     ]
    },
    {
     "name": "stderr",
     "output_type": "stream",
     "text": [
      "100%|████████████████████████| 100/100 [00:40<00:00,  2.48it/s]\n"
     ]
    },
    {
     "name": "stdout",
     "output_type": "stream",
     "text": [
      "epoch: 3370 \t loss: 40.588 \t reward: 80.409\n",
      "epoch: 3371 \t loss: 71.897 \t reward: 168.350\n",
      "epoch: 3372 \t loss: 52.736 \t reward: 117.539\n",
      "epoch: 3373 \t loss: 92.834 \t reward: 188.461\n",
      "epoch: 3374 \t loss: 93.305 \t reward: 190.249\n",
      "epoch: 3375 \t loss: 65.370 \t reward: 114.118\n",
      "epoch: 3376 \t loss: 57.566 \t reward: 146.591\n",
      "epoch: 3377 \t loss: 97.536 \t reward: 186.314\n",
      "epoch: 3378 \t loss: 70.894 \t reward: 153.829\n",
      "epoch: 3379 \t loss: 86.663 \t reward: 156.193\n"
     ]
    },
    {
     "name": "stderr",
     "output_type": "stream",
     "text": [
      "100%|████████████████████████| 100/100 [00:40<00:00,  2.48it/s]\n"
     ]
    },
    {
     "name": "stdout",
     "output_type": "stream",
     "text": [
      "epoch: 3380 \t loss: 90.956 \t reward: 150.631\n",
      "epoch: 3381 \t loss: 26.528 \t reward: 66.920\n",
      "epoch: 3382 \t loss: 47.795 \t reward: 140.764\n",
      "epoch: 3383 \t loss: 103.869 \t reward: 199.734\n",
      "epoch: 3384 \t loss: 87.601 \t reward: 190.233\n",
      "epoch: 3385 \t loss: 90.404 \t reward: 142.857\n",
      "epoch: 3386 \t loss: 80.909 \t reward: 202.892\n",
      "epoch: 3387 \t loss: 92.851 \t reward: 181.663\n",
      "epoch: 3388 \t loss: 49.195 \t reward: 118.831\n",
      "epoch: 3389 \t loss: 72.587 \t reward: 149.396\n"
     ]
    },
    {
     "name": "stderr",
     "output_type": "stream",
     "text": [
      "100%|████████████████████████| 100/100 [00:36<00:00,  2.74it/s]\n"
     ]
    },
    {
     "name": "stdout",
     "output_type": "stream",
     "text": [
      "epoch: 3390 \t loss: 86.403 \t reward: 146.920\n",
      "epoch: 3391 \t loss: 67.490 \t reward: 160.947\n",
      "epoch: 3392 \t loss: 77.075 \t reward: 119.344\n",
      "epoch: 3393 \t loss: 37.836 \t reward: 94.676\n",
      "epoch: 3394 \t loss: 66.229 \t reward: 185.783\n",
      "epoch: 3395 \t loss: 38.410 \t reward: 98.001\n",
      "epoch: 3396 \t loss: 57.936 \t reward: 145.156\n",
      "epoch: 3397 \t loss: 67.928 \t reward: 153.253\n",
      "epoch: 3398 \t loss: 49.357 \t reward: 144.393\n",
      "epoch: 3399 \t loss: 48.454 \t reward: 103.479\n"
     ]
    },
    {
     "name": "stderr",
     "output_type": "stream",
     "text": [
      "100%|████████████████████████| 100/100 [00:33<00:00,  2.95it/s]\n"
     ]
    },
    {
     "name": "stdout",
     "output_type": "stream",
     "text": [
      "epoch: 3400 \t loss: 52.730 \t reward: 133.068\n",
      "epoch: 3401 \t loss: 73.817 \t reward: 162.774\n",
      "epoch: 3402 \t loss: 5.039 \t reward: 5.342\n",
      "epoch: 3403 \t loss: 19.164 \t reward: 26.385\n",
      "epoch: 3404 \t loss: 94.687 \t reward: 200.494\n",
      "epoch: 3405 \t loss: 97.134 \t reward: 219.206\n",
      "epoch: 3406 \t loss: 63.220 \t reward: 144.458\n",
      "epoch: 3407 \t loss: 91.957 \t reward: 207.934\n",
      "epoch: 3408 \t loss: 81.052 \t reward: 194.869\n",
      "epoch: 3409 \t loss: 46.026 \t reward: 94.902\n"
     ]
    },
    {
     "name": "stderr",
     "output_type": "stream",
     "text": [
      "100%|████████████████████████| 100/100 [00:38<00:00,  2.60it/s]\n"
     ]
    },
    {
     "name": "stdout",
     "output_type": "stream",
     "text": [
      "epoch: 3410 \t loss: 65.071 \t reward: 183.690\n",
      "epoch: 3411 \t loss: 55.578 \t reward: 114.645\n",
      "epoch: 3412 \t loss: 52.035 \t reward: 118.684\n",
      "epoch: 3413 \t loss: 61.426 \t reward: 163.469\n",
      "epoch: 3414 \t loss: 60.164 \t reward: 178.333\n",
      "epoch: 3415 \t loss: 77.247 \t reward: 167.799\n",
      "epoch: 3416 \t loss: 53.068 \t reward: 165.170\n",
      "epoch: 3417 \t loss: 79.236 \t reward: 155.614\n",
      "epoch: 3418 \t loss: 48.525 \t reward: 157.383\n",
      "epoch: 3419 \t loss: 43.394 \t reward: 99.794\n"
     ]
    },
    {
     "name": "stderr",
     "output_type": "stream",
     "text": [
      "100%|████████████████████████| 100/100 [00:37<00:00,  2.67it/s]\n"
     ]
    },
    {
     "name": "stdout",
     "output_type": "stream",
     "text": [
      "epoch: 3420 \t loss: 61.533 \t reward: 173.024\n",
      "epoch: 3421 \t loss: 49.381 \t reward: 88.311\n",
      "epoch: 3422 \t loss: 35.618 \t reward: 151.922\n",
      "epoch: 3423 \t loss: 60.627 \t reward: 134.000\n",
      "epoch: 3424 \t loss: 80.807 \t reward: 202.200\n",
      "epoch: 3425 \t loss: 81.845 \t reward: 185.471\n",
      "epoch: 3426 \t loss: 79.268 \t reward: 203.453\n",
      "epoch: 3427 \t loss: 71.449 \t reward: 171.880\n",
      "epoch: 3428 \t loss: 81.601 \t reward: 165.912\n",
      "epoch: 3429 \t loss: 73.119 \t reward: 161.167\n"
     ]
    },
    {
     "name": "stderr",
     "output_type": "stream",
     "text": [
      "100%|████████████████████████| 100/100 [00:32<00:00,  3.04it/s]\n"
     ]
    },
    {
     "name": "stdout",
     "output_type": "stream",
     "text": [
      "epoch: 3430 \t loss: 66.334 \t reward: 145.241\n",
      "epoch: 3431 \t loss: 64.214 \t reward: 145.790\n",
      "epoch: 3432 \t loss: 15.842 \t reward: 83.885\n",
      "epoch: 3433 \t loss: 33.588 \t reward: 121.862\n",
      "epoch: 3434 \t loss: 48.127 \t reward: 170.960\n",
      "epoch: 3435 \t loss: 49.546 \t reward: 139.159\n",
      "epoch: 3436 \t loss: 67.742 \t reward: 136.327\n",
      "epoch: 3437 \t loss: 81.618 \t reward: 206.568\n",
      "epoch: 3438 \t loss: 49.298 \t reward: 87.048\n",
      "epoch: 3439 \t loss: 84.900 \t reward: 178.847\n"
     ]
    },
    {
     "name": "stderr",
     "output_type": "stream",
     "text": [
      "100%|████████████████████████| 100/100 [00:28<00:00,  3.56it/s]\n"
     ]
    },
    {
     "name": "stdout",
     "output_type": "stream",
     "text": [
      "epoch: 3440 \t loss: 48.704 \t reward: 135.254\n",
      "epoch: 3441 \t loss: 97.688 \t reward: 227.347\n",
      "epoch: 3442 \t loss: 19.421 \t reward: 86.505\n",
      "epoch: 3443 \t loss: 41.582 \t reward: 143.513\n",
      "epoch: 3444 \t loss: 23.291 \t reward: 62.742\n",
      "epoch: 3445 \t loss: 77.443 \t reward: 182.260\n",
      "epoch: 3446 \t loss: 44.571 \t reward: 154.471\n",
      "epoch: 3447 \t loss: 56.101 \t reward: 124.070\n",
      "epoch: 3448 \t loss: 45.440 \t reward: 104.089\n",
      "epoch: 3449 \t loss: 46.817 \t reward: 116.361\n"
     ]
    },
    {
     "name": "stderr",
     "output_type": "stream",
     "text": [
      "100%|████████████████████████| 100/100 [00:32<00:00,  3.07it/s]\n"
     ]
    },
    {
     "name": "stdout",
     "output_type": "stream",
     "text": [
      "epoch: 3450 \t loss: 94.699 \t reward: 189.513\n",
      "epoch: 3451 \t loss: 79.713 \t reward: 197.291\n",
      "epoch: 3452 \t loss: 64.620 \t reward: 170.517\n",
      "epoch: 3453 \t loss: 63.767 \t reward: 205.378\n",
      "epoch: 3454 \t loss: 91.347 \t reward: 219.469\n",
      "epoch: 3455 \t loss: 51.202 \t reward: 159.929\n",
      "epoch: 3456 \t loss: 46.611 \t reward: 173.014\n",
      "epoch: 3457 \t loss: 30.049 \t reward: 142.443\n",
      "epoch: 3458 \t loss: 53.293 \t reward: 154.393\n",
      "epoch: 3459 \t loss: 54.153 \t reward: 121.593\n"
     ]
    },
    {
     "name": "stderr",
     "output_type": "stream",
     "text": [
      "100%|████████████████████████| 100/100 [00:31<00:00,  3.16it/s]\n"
     ]
    },
    {
     "name": "stdout",
     "output_type": "stream",
     "text": [
      "epoch: 3460 \t loss: 58.839 \t reward: 153.916\n",
      "epoch: 3461 \t loss: 88.971 \t reward: 161.885\n",
      "epoch: 3462 \t loss: 18.643 \t reward: 106.432\n",
      "epoch: 3463 \t loss: 98.275 \t reward: 243.987\n",
      "epoch: 3464 \t loss: 19.776 \t reward: 60.841\n",
      "epoch: 3465 \t loss: 72.679 \t reward: 182.010\n",
      "epoch: 3466 \t loss: 71.720 \t reward: 147.961\n",
      "epoch: 3467 \t loss: 62.620 \t reward: 155.949\n",
      "epoch: 3468 \t loss: 73.185 \t reward: 201.486\n",
      "epoch: 3469 \t loss: 100.212 \t reward: 228.244\n"
     ]
    },
    {
     "name": "stderr",
     "output_type": "stream",
     "text": [
      "100%|████████████████████████| 100/100 [00:27<00:00,  3.68it/s]\n"
     ]
    },
    {
     "name": "stdout",
     "output_type": "stream",
     "text": [
      "epoch: 3470 \t loss: 57.464 \t reward: 141.999\n",
      "epoch: 3471 \t loss: 67.800 \t reward: 135.816\n",
      "epoch: 3472 \t loss: 91.045 \t reward: 182.719\n",
      "epoch: 3473 \t loss: 42.785 \t reward: 116.321\n",
      "epoch: 3474 \t loss: 56.437 \t reward: 156.595\n",
      "epoch: 3475 \t loss: 54.383 \t reward: 179.450\n",
      "epoch: 3476 \t loss: 38.664 \t reward: 114.123\n",
      "epoch: 3477 \t loss: 69.672 \t reward: 157.272\n",
      "epoch: 3478 \t loss: 85.934 \t reward: 173.613\n",
      "epoch: 3479 \t loss: 57.371 \t reward: 149.577\n"
     ]
    },
    {
     "name": "stderr",
     "output_type": "stream",
     "text": [
      "100%|████████████████████████| 100/100 [00:36<00:00,  2.73it/s]\n"
     ]
    },
    {
     "name": "stdout",
     "output_type": "stream",
     "text": [
      "epoch: 3480 \t loss: 68.188 \t reward: 167.947\n",
      "epoch: 3481 \t loss: 72.096 \t reward: 141.169\n",
      "epoch: 3482 \t loss: 47.990 \t reward: 136.084\n",
      "epoch: 3483 \t loss: 54.963 \t reward: 167.454\n",
      "epoch: 3484 \t loss: 120.165 \t reward: 227.635\n",
      "epoch: 3485 \t loss: 62.622 \t reward: 156.258\n",
      "epoch: 3486 \t loss: 21.079 \t reward: 79.243\n",
      "epoch: 3487 \t loss: 73.807 \t reward: 141.123\n",
      "epoch: 3488 \t loss: 54.262 \t reward: 179.780\n",
      "epoch: 3489 \t loss: 80.868 \t reward: 201.699\n"
     ]
    },
    {
     "name": "stderr",
     "output_type": "stream",
     "text": [
      "100%|████████████████████████| 100/100 [00:46<00:00,  2.17it/s]\n"
     ]
    },
    {
     "name": "stdout",
     "output_type": "stream",
     "text": [
      "epoch: 3490 \t loss: 83.059 \t reward: 187.834\n",
      "epoch: 3491 \t loss: 48.302 \t reward: 111.900\n",
      "epoch: 3492 \t loss: 72.835 \t reward: 166.130\n",
      "epoch: 3493 \t loss: 99.862 \t reward: 216.464\n",
      "epoch: 3494 \t loss: 95.717 \t reward: 217.563\n",
      "epoch: 3495 \t loss: 100.177 \t reward: 211.013\n",
      "epoch: 3496 \t loss: 52.335 \t reward: 144.487\n",
      "epoch: 3497 \t loss: 20.770 \t reward: 80.597\n",
      "epoch: 3498 \t loss: 46.361 \t reward: 126.779\n",
      "epoch: 3499 \t loss: 59.553 \t reward: 136.727\n"
     ]
    },
    {
     "name": "stderr",
     "output_type": "stream",
     "text": [
      "100%|████████████████████████| 100/100 [00:46<00:00,  2.13it/s]\n"
     ]
    },
    {
     "name": "stdout",
     "output_type": "stream",
     "text": [
      "epoch: 3500 \t loss: 81.248 \t reward: 177.721\n",
      "epoch: 3501 \t loss: 70.090 \t reward: 157.682\n",
      "epoch: 3502 \t loss: 88.251 \t reward: 169.892\n",
      "epoch: 3503 \t loss: 50.817 \t reward: 94.074\n",
      "epoch: 3504 \t loss: 45.676 \t reward: 124.042\n",
      "epoch: 3505 \t loss: 101.005 \t reward: 205.037\n",
      "epoch: 3506 \t loss: 90.878 \t reward: 217.447\n",
      "epoch: 3507 \t loss: 51.914 \t reward: 155.113\n",
      "epoch: 3508 \t loss: 33.319 \t reward: 78.915\n",
      "epoch: 3509 \t loss: 99.473 \t reward: 226.935\n"
     ]
    },
    {
     "name": "stderr",
     "output_type": "stream",
     "text": [
      "100%|████████████████████████| 100/100 [00:47<00:00,  2.11it/s]\n"
     ]
    },
    {
     "name": "stdout",
     "output_type": "stream",
     "text": [
      "epoch: 3510 \t loss: 31.034 \t reward: 136.301\n",
      "epoch: 3511 \t loss: 91.266 \t reward: 171.991\n",
      "epoch: 3512 \t loss: 62.476 \t reward: 157.137\n",
      "epoch: 3513 \t loss: 75.797 \t reward: 182.145\n",
      "epoch: 3514 \t loss: 48.777 \t reward: 124.600\n",
      "epoch: 3515 \t loss: 96.002 \t reward: 203.331\n",
      "epoch: 3516 \t loss: 18.214 \t reward: 76.151\n",
      "epoch: 3517 \t loss: 75.473 \t reward: 198.459\n",
      "epoch: 3518 \t loss: 86.445 \t reward: 190.278\n",
      "epoch: 3519 \t loss: 80.518 \t reward: 150.364\n"
     ]
    },
    {
     "name": "stderr",
     "output_type": "stream",
     "text": [
      "100%|████████████████████████| 100/100 [00:50<00:00,  2.00it/s]\n"
     ]
    },
    {
     "name": "stdout",
     "output_type": "stream",
     "text": [
      "epoch: 3520 \t loss: 113.073 \t reward: 230.663\n",
      "epoch: 3521 \t loss: 83.962 \t reward: 211.218\n",
      "epoch: 3522 \t loss: 58.479 \t reward: 129.893\n",
      "epoch: 3523 \t loss: 19.995 \t reward: 59.617\n",
      "epoch: 3524 \t loss: 7.355 \t reward: 56.311\n",
      "epoch: 3525 \t loss: 78.283 \t reward: 187.179\n",
      "epoch: 3526 \t loss: 94.190 \t reward: 216.417\n",
      "epoch: 3527 \t loss: 105.186 \t reward: 204.691\n",
      "epoch: 3528 \t loss: 71.889 \t reward: 153.073\n",
      "epoch: 3529 \t loss: 70.146 \t reward: 146.430\n"
     ]
    },
    {
     "name": "stderr",
     "output_type": "stream",
     "text": [
      "100%|████████████████████████| 100/100 [00:53<00:00,  1.87it/s]\n"
     ]
    },
    {
     "name": "stdout",
     "output_type": "stream",
     "text": [
      "epoch: 3530 \t loss: 82.553 \t reward: 189.494\n",
      "epoch: 3531 \t loss: 92.874 \t reward: 183.571\n",
      "epoch: 3532 \t loss: 57.747 \t reward: 162.227\n",
      "epoch: 3533 \t loss: 79.096 \t reward: 149.102\n",
      "epoch: 3534 \t loss: 16.178 \t reward: 40.552\n",
      "epoch: 3535 \t loss: 57.727 \t reward: 113.068\n",
      "epoch: 3536 \t loss: 99.065 \t reward: 203.720\n",
      "epoch: 3537 \t loss: 80.968 \t reward: 169.370\n",
      "epoch: 3538 \t loss: 54.688 \t reward: 103.975\n",
      "epoch: 3539 \t loss: 84.748 \t reward: 174.166\n"
     ]
    },
    {
     "name": "stderr",
     "output_type": "stream",
     "text": [
      "100%|████████████████████████| 100/100 [00:58<00:00,  1.72it/s]\n"
     ]
    },
    {
     "name": "stdout",
     "output_type": "stream",
     "text": [
      "epoch: 3540 \t loss: 44.500 \t reward: 121.064\n",
      "epoch: 3541 \t loss: 72.399 \t reward: 160.463\n",
      "epoch: 3542 \t loss: 115.580 \t reward: 217.315\n",
      "epoch: 3543 \t loss: 84.958 \t reward: 162.478\n",
      "epoch: 3544 \t loss: 91.327 \t reward: 185.492\n",
      "epoch: 3545 \t loss: 60.689 \t reward: 125.846\n",
      "epoch: 3546 \t loss: 93.946 \t reward: 188.258\n",
      "epoch: 3547 \t loss: 90.053 \t reward: 195.214\n",
      "epoch: 3548 \t loss: 110.375 \t reward: 186.482\n",
      "epoch: 3549 \t loss: 94.548 \t reward: 174.917\n"
     ]
    },
    {
     "name": "stderr",
     "output_type": "stream",
     "text": [
      "100%|████████████████████████| 100/100 [01:16<00:00,  1.31it/s]\n"
     ]
    },
    {
     "name": "stdout",
     "output_type": "stream",
     "text": [
      "epoch: 3550 \t loss: 55.660 \t reward: 120.975\n",
      "epoch: 3551 \t loss: 33.364 \t reward: 78.657\n",
      "epoch: 3552 \t loss: 129.210 \t reward: 207.185\n",
      "epoch: 3553 \t loss: 92.228 \t reward: 144.834\n",
      "epoch: 3554 \t loss: 78.598 \t reward: 155.287\n",
      "epoch: 3555 \t loss: 36.482 \t reward: 30.344\n",
      "epoch: 3556 \t loss: 103.018 \t reward: 186.824\n",
      "epoch: 3557 \t loss: 74.820 \t reward: 139.683\n",
      "epoch: 3558 \t loss: 72.901 \t reward: 137.070\n",
      "epoch: 3559 \t loss: 58.742 \t reward: 125.582\n"
     ]
    },
    {
     "name": "stderr",
     "output_type": "stream",
     "text": [
      "100%|████████████████████████| 100/100 [01:32<00:00,  1.08it/s]\n"
     ]
    },
    {
     "name": "stdout",
     "output_type": "stream",
     "text": [
      "epoch: 3560 \t loss: 43.738 \t reward: 81.009\n",
      "epoch: 3561 \t loss: 73.244 \t reward: 120.188\n",
      "epoch: 3562 \t loss: 53.594 \t reward: 115.682\n",
      "epoch: 3563 \t loss: 77.293 \t reward: 133.581\n",
      "epoch: 3564 \t loss: -41.700 \t reward: -89.759\n",
      "epoch: 3565 \t loss: 41.085 \t reward: 74.194\n",
      "epoch: 3566 \t loss: 53.090 \t reward: 109.666\n",
      "epoch: 3567 \t loss: 28.701 \t reward: 66.568\n",
      "epoch: 3568 \t loss: 116.801 \t reward: 205.117\n",
      "epoch: 3569 \t loss: -3.967 \t reward: 56.753\n"
     ]
    },
    {
     "name": "stderr",
     "output_type": "stream",
     "text": [
      "100%|████████████████████████| 100/100 [01:16<00:00,  1.31it/s]\n"
     ]
    },
    {
     "name": "stdout",
     "output_type": "stream",
     "text": [
      "epoch: 3570 \t loss: 102.108 \t reward: 175.393\n",
      "epoch: 3571 \t loss: 28.590 \t reward: 46.664\n",
      "epoch: 3572 \t loss: 47.270 \t reward: 96.826\n",
      "epoch: 3573 \t loss: 40.138 \t reward: 97.623\n",
      "epoch: 3574 \t loss: 123.561 \t reward: 184.842\n",
      "epoch: 3575 \t loss: 78.294 \t reward: 152.182\n",
      "epoch: 3576 \t loss: 102.171 \t reward: 192.557\n",
      "epoch: 3577 \t loss: 58.960 \t reward: 104.844\n",
      "epoch: 3578 \t loss: 137.713 \t reward: 206.841\n",
      "epoch: 3579 \t loss: 71.001 \t reward: 148.698\n"
     ]
    },
    {
     "name": "stderr",
     "output_type": "stream",
     "text": [
      "100%|████████████████████████| 100/100 [01:05<00:00,  1.53it/s]\n"
     ]
    },
    {
     "name": "stdout",
     "output_type": "stream",
     "text": [
      "epoch: 3580 \t loss: 104.947 \t reward: 162.634\n",
      "epoch: 3581 \t loss: 69.737 \t reward: 127.982\n",
      "epoch: 3582 \t loss: 41.488 \t reward: 98.017\n",
      "epoch: 3583 \t loss: 54.344 \t reward: 88.570\n",
      "epoch: 3584 \t loss: 87.139 \t reward: 161.783\n",
      "epoch: 3585 \t loss: 45.826 \t reward: 65.785\n",
      "epoch: 3586 \t loss: 45.843 \t reward: 107.617\n",
      "epoch: 3587 \t loss: 63.017 \t reward: 117.363\n",
      "epoch: 3588 \t loss: 4.186 \t reward: 18.664\n",
      "epoch: 3589 \t loss: 92.035 \t reward: 158.251\n"
     ]
    },
    {
     "name": "stderr",
     "output_type": "stream",
     "text": [
      "100%|████████████████████████| 100/100 [01:06<00:00,  1.51it/s]\n"
     ]
    },
    {
     "name": "stdout",
     "output_type": "stream",
     "text": [
      "epoch: 3590 \t loss: 115.224 \t reward: 189.540\n",
      "epoch: 3591 \t loss: 74.271 \t reward: 114.727\n",
      "epoch: 3592 \t loss: -79.635 \t reward: -134.537\n",
      "epoch: 3593 \t loss: 90.837 \t reward: 183.033\n",
      "epoch: 3594 \t loss: 108.508 \t reward: 190.953\n",
      "epoch: 3595 \t loss: 16.346 \t reward: 46.115\n",
      "epoch: 3596 \t loss: 79.574 \t reward: 150.700\n",
      "epoch: 3597 \t loss: 63.053 \t reward: 125.319\n",
      "epoch: 3598 \t loss: 90.103 \t reward: 141.402\n",
      "epoch: 3599 \t loss: 66.206 \t reward: 146.065\n"
     ]
    },
    {
     "name": "stderr",
     "output_type": "stream",
     "text": [
      "100%|████████████████████████| 100/100 [00:51<00:00,  1.94it/s]\n"
     ]
    },
    {
     "name": "stdout",
     "output_type": "stream",
     "text": [
      "epoch: 3600 \t loss: 97.182 \t reward: 171.213\n",
      "epoch: 3601 \t loss: 108.900 \t reward: 190.929\n",
      "epoch: 3602 \t loss: 133.730 \t reward: 211.095\n",
      "epoch: 3603 \t loss: 65.022 \t reward: 132.429\n",
      "epoch: 3604 \t loss: 139.488 \t reward: 217.345\n",
      "epoch: 3605 \t loss: 94.147 \t reward: 151.241\n",
      "epoch: 3606 \t loss: 91.837 \t reward: 179.198\n",
      "epoch: 3607 \t loss: 105.352 \t reward: 178.272\n",
      "epoch: 3608 \t loss: 52.314 \t reward: 105.021\n",
      "epoch: 3609 \t loss: 55.695 \t reward: 125.257\n"
     ]
    },
    {
     "name": "stderr",
     "output_type": "stream",
     "text": [
      "100%|████████████████████████| 100/100 [00:53<00:00,  1.86it/s]\n"
     ]
    },
    {
     "name": "stdout",
     "output_type": "stream",
     "text": [
      "epoch: 3610 \t loss: 68.406 \t reward: 137.100\n",
      "epoch: 3611 \t loss: 137.007 \t reward: 222.431\n",
      "epoch: 3612 \t loss: 96.394 \t reward: 197.721\n",
      "epoch: 3613 \t loss: 102.654 \t reward: 189.444\n",
      "epoch: 3614 \t loss: 131.457 \t reward: 214.876\n",
      "epoch: 3615 \t loss: 79.034 \t reward: 178.109\n",
      "epoch: 3616 \t loss: 121.491 \t reward: 216.232\n",
      "epoch: 3617 \t loss: 107.603 \t reward: 200.433\n",
      "epoch: 3618 \t loss: 101.179 \t reward: 200.049\n",
      "epoch: 3619 \t loss: 115.973 \t reward: 199.509\n"
     ]
    },
    {
     "name": "stderr",
     "output_type": "stream",
     "text": [
      "100%|████████████████████████| 100/100 [00:50<00:00,  1.97it/s]\n"
     ]
    },
    {
     "name": "stdout",
     "output_type": "stream",
     "text": [
      "epoch: 3620 \t loss: 99.087 \t reward: 191.950\n",
      "epoch: 3621 \t loss: 74.665 \t reward: 162.737\n",
      "epoch: 3622 \t loss: 87.157 \t reward: 175.455\n",
      "epoch: 3623 \t loss: 77.143 \t reward: 159.293\n",
      "epoch: 3624 \t loss: 22.098 \t reward: 73.467\n",
      "epoch: 3625 \t loss: 154.414 \t reward: 243.060\n",
      "epoch: 3626 \t loss: 84.390 \t reward: 166.696\n",
      "epoch: 3627 \t loss: 70.960 \t reward: 163.482\n",
      "epoch: 3628 \t loss: 104.058 \t reward: 233.424\n",
      "epoch: 3629 \t loss: 86.138 \t reward: 168.873\n"
     ]
    },
    {
     "name": "stderr",
     "output_type": "stream",
     "text": [
      "100%|████████████████████████| 100/100 [01:04<00:00,  1.54it/s]\n"
     ]
    },
    {
     "name": "stdout",
     "output_type": "stream",
     "text": [
      "epoch: 3630 \t loss: 70.288 \t reward: 151.239\n",
      "epoch: 3631 \t loss: 106.352 \t reward: 205.703\n",
      "epoch: 3632 \t loss: 116.706 \t reward: 218.767\n",
      "epoch: 3633 \t loss: 97.154 \t reward: 146.963\n",
      "epoch: 3634 \t loss: 74.833 \t reward: 171.876\n",
      "epoch: 3635 \t loss: 88.024 \t reward: 187.598\n",
      "epoch: 3636 \t loss: 87.487 \t reward: 157.246\n",
      "epoch: 3637 \t loss: 61.702 \t reward: 147.409\n",
      "epoch: 3638 \t loss: 90.185 \t reward: 184.768\n",
      "epoch: 3639 \t loss: 91.714 \t reward: 160.664\n"
     ]
    },
    {
     "name": "stderr",
     "output_type": "stream",
     "text": [
      "100%|████████████████████████| 100/100 [00:56<00:00,  1.78it/s]\n"
     ]
    },
    {
     "name": "stdout",
     "output_type": "stream",
     "text": [
      "epoch: 3640 \t loss: 46.823 \t reward: 135.139\n",
      "epoch: 3641 \t loss: 60.507 \t reward: 121.859\n",
      "epoch: 3642 \t loss: 70.481 \t reward: 174.221\n",
      "epoch: 3643 \t loss: 61.417 \t reward: 140.968\n",
      "epoch: 3644 \t loss: 54.928 \t reward: 137.701\n",
      "epoch: 3645 \t loss: 115.789 \t reward: 211.603\n",
      "epoch: 3646 \t loss: 108.170 \t reward: 225.180\n",
      "epoch: 3647 \t loss: 5.913 \t reward: 4.551\n",
      "epoch: 3648 \t loss: 57.767 \t reward: 92.194\n",
      "epoch: 3649 \t loss: 87.825 \t reward: 166.981\n"
     ]
    },
    {
     "name": "stderr",
     "output_type": "stream",
     "text": [
      "100%|████████████████████████| 100/100 [00:57<00:00,  1.73it/s]\n"
     ]
    },
    {
     "name": "stdout",
     "output_type": "stream",
     "text": [
      "epoch: 3650 \t loss: 68.708 \t reward: 123.127\n",
      "epoch: 3651 \t loss: 55.721 \t reward: 87.657\n",
      "epoch: 3652 \t loss: 67.585 \t reward: 164.004\n",
      "epoch: 3653 \t loss: 67.621 \t reward: 105.971\n",
      "epoch: 3654 \t loss: 96.677 \t reward: 178.563\n",
      "epoch: 3655 \t loss: 48.733 \t reward: 108.368\n",
      "epoch: 3656 \t loss: 68.350 \t reward: 133.890\n",
      "epoch: 3657 \t loss: 94.294 \t reward: 177.569\n",
      "epoch: 3658 \t loss: 62.704 \t reward: 117.543\n",
      "epoch: 3659 \t loss: 118.014 \t reward: 172.618\n"
     ]
    },
    {
     "name": "stderr",
     "output_type": "stream",
     "text": [
      "100%|████████████████████████| 100/100 [01:03<00:00,  1.58it/s]\n"
     ]
    },
    {
     "name": "stdout",
     "output_type": "stream",
     "text": [
      "epoch: 3660 \t loss: 28.784 \t reward: 58.227\n",
      "epoch: 3661 \t loss: 93.595 \t reward: 197.753\n",
      "epoch: 3662 \t loss: 27.050 \t reward: 95.269\n",
      "epoch: 3663 \t loss: 61.569 \t reward: 119.657\n",
      "epoch: 3664 \t loss: 70.009 \t reward: 154.528\n",
      "epoch: 3665 \t loss: 96.178 \t reward: 167.653\n",
      "epoch: 3666 \t loss: 96.984 \t reward: 201.825\n",
      "epoch: 3667 \t loss: 104.160 \t reward: 179.373\n",
      "epoch: 3668 \t loss: 19.010 \t reward: 62.330\n",
      "epoch: 3669 \t loss: 61.522 \t reward: 123.676\n"
     ]
    },
    {
     "name": "stderr",
     "output_type": "stream",
     "text": [
      "100%|████████████████████████| 100/100 [00:51<00:00,  1.94it/s]\n"
     ]
    },
    {
     "name": "stdout",
     "output_type": "stream",
     "text": [
      "epoch: 3670 \t loss: 64.238 \t reward: 134.940\n",
      "epoch: 3671 \t loss: 76.784 \t reward: 141.646\n",
      "epoch: 3672 \t loss: 61.689 \t reward: 150.576\n",
      "epoch: 3673 \t loss: 83.762 \t reward: 184.421\n",
      "epoch: 3674 \t loss: 98.613 \t reward: 233.650\n",
      "epoch: 3675 \t loss: 68.005 \t reward: 138.900\n",
      "epoch: 3676 \t loss: 55.475 \t reward: 111.421\n",
      "epoch: 3677 \t loss: 48.162 \t reward: 98.689\n",
      "epoch: 3678 \t loss: 102.137 \t reward: 200.841\n",
      "epoch: 3679 \t loss: 79.469 \t reward: 140.138\n"
     ]
    },
    {
     "name": "stderr",
     "output_type": "stream",
     "text": [
      "100%|████████████████████████| 100/100 [00:48<00:00,  2.06it/s]\n"
     ]
    },
    {
     "name": "stdout",
     "output_type": "stream",
     "text": [
      "epoch: 3680 \t loss: 47.879 \t reward: 85.881\n",
      "epoch: 3681 \t loss: 55.032 \t reward: 123.546\n",
      "epoch: 3682 \t loss: 88.059 \t reward: 166.843\n",
      "epoch: 3683 \t loss: 75.377 \t reward: 187.092\n",
      "epoch: 3684 \t loss: 98.731 \t reward: 158.018\n",
      "epoch: 3685 \t loss: 74.986 \t reward: 198.070\n",
      "epoch: 3686 \t loss: 112.852 \t reward: 224.869\n",
      "epoch: 3687 \t loss: 70.427 \t reward: 156.896\n",
      "epoch: 3688 \t loss: 70.252 \t reward: 170.609\n",
      "epoch: 3689 \t loss: 106.283 \t reward: 185.013\n"
     ]
    },
    {
     "name": "stderr",
     "output_type": "stream",
     "text": [
      "100%|████████████████████████| 100/100 [00:58<00:00,  1.72it/s]\n"
     ]
    },
    {
     "name": "stdout",
     "output_type": "stream",
     "text": [
      "epoch: 3690 \t loss: 148.046 \t reward: 251.812\n",
      "epoch: 3691 \t loss: 85.035 \t reward: 176.356\n",
      "epoch: 3692 \t loss: 94.201 \t reward: 213.348\n",
      "epoch: 3693 \t loss: 117.605 \t reward: 228.427\n",
      "epoch: 3694 \t loss: 82.152 \t reward: 207.036\n",
      "epoch: 3695 \t loss: 95.735 \t reward: 194.219\n",
      "epoch: 3696 \t loss: 83.851 \t reward: 159.875\n",
      "epoch: 3697 \t loss: 79.383 \t reward: 162.450\n",
      "epoch: 3698 \t loss: 86.786 \t reward: 178.472\n",
      "epoch: 3699 \t loss: 54.826 \t reward: 130.372\n"
     ]
    },
    {
     "name": "stderr",
     "output_type": "stream",
     "text": [
      "100%|████████████████████████| 100/100 [00:57<00:00,  1.73it/s]\n"
     ]
    },
    {
     "name": "stdout",
     "output_type": "stream",
     "text": [
      "epoch: 3700 \t loss: 100.457 \t reward: 188.857\n",
      "epoch: 3701 \t loss: 55.010 \t reward: 158.410\n",
      "epoch: 3702 \t loss: 67.316 \t reward: 175.675\n",
      "epoch: 3703 \t loss: 43.150 \t reward: 105.038\n",
      "epoch: 3704 \t loss: 115.012 \t reward: 205.526\n",
      "epoch: 3705 \t loss: 56.573 \t reward: 145.342\n",
      "epoch: 3706 \t loss: 109.585 \t reward: 175.608\n",
      "epoch: 3707 \t loss: 90.585 \t reward: 172.407\n",
      "epoch: 3708 \t loss: 118.886 \t reward: 211.662\n",
      "epoch: 3709 \t loss: 82.200 \t reward: 174.258\n"
     ]
    },
    {
     "name": "stderr",
     "output_type": "stream",
     "text": [
      "100%|████████████████████████| 100/100 [00:59<00:00,  1.69it/s]\n"
     ]
    },
    {
     "name": "stdout",
     "output_type": "stream",
     "text": [
      "epoch: 3710 \t loss: 95.365 \t reward: 208.662\n",
      "epoch: 3711 \t loss: 58.673 \t reward: 124.100\n",
      "epoch: 3712 \t loss: 58.685 \t reward: 125.501\n",
      "epoch: 3713 \t loss: 39.830 \t reward: 115.399\n",
      "epoch: 3714 \t loss: 57.236 \t reward: 107.684\n",
      "epoch: 3715 \t loss: 86.419 \t reward: 150.375\n",
      "epoch: 3716 \t loss: 62.908 \t reward: 140.461\n",
      "epoch: 3717 \t loss: 79.168 \t reward: 188.766\n",
      "epoch: 3718 \t loss: 70.732 \t reward: 157.622\n",
      "epoch: 3719 \t loss: 81.353 \t reward: 184.407\n"
     ]
    },
    {
     "name": "stderr",
     "output_type": "stream",
     "text": [
      "100%|████████████████████████| 100/100 [00:56<00:00,  1.78it/s]\n"
     ]
    },
    {
     "name": "stdout",
     "output_type": "stream",
     "text": [
      "epoch: 3720 \t loss: 32.140 \t reward: 131.501\n",
      "epoch: 3721 \t loss: 89.495 \t reward: 189.547\n",
      "epoch: 3722 \t loss: 65.889 \t reward: 178.925\n",
      "epoch: 3723 \t loss: 84.298 \t reward: 180.088\n",
      "epoch: 3724 \t loss: 94.838 \t reward: 212.026\n",
      "epoch: 3725 \t loss: 77.754 \t reward: 144.730\n",
      "epoch: 3726 \t loss: 81.442 \t reward: 135.812\n",
      "epoch: 3727 \t loss: 95.904 \t reward: 145.140\n",
      "epoch: 3728 \t loss: 64.297 \t reward: 138.361\n",
      "epoch: 3729 \t loss: 95.907 \t reward: 175.519\n"
     ]
    },
    {
     "name": "stderr",
     "output_type": "stream",
     "text": [
      "100%|████████████████████████| 100/100 [01:01<00:00,  1.62it/s]\n"
     ]
    },
    {
     "name": "stdout",
     "output_type": "stream",
     "text": [
      "epoch: 3730 \t loss: 116.105 \t reward: 209.592\n",
      "epoch: 3731 \t loss: 36.859 \t reward: 85.622\n",
      "epoch: 3732 \t loss: 71.810 \t reward: 100.505\n",
      "epoch: 3733 \t loss: 49.782 \t reward: 107.967\n",
      "epoch: 3734 \t loss: 38.247 \t reward: 75.592\n",
      "epoch: 3735 \t loss: 74.441 \t reward: 156.734\n",
      "epoch: 3736 \t loss: 75.437 \t reward: 136.762\n",
      "epoch: 3737 \t loss: 104.266 \t reward: 226.106\n",
      "epoch: 3738 \t loss: 105.188 \t reward: 212.619\n",
      "epoch: 3739 \t loss: 88.064 \t reward: 172.327\n"
     ]
    },
    {
     "name": "stderr",
     "output_type": "stream",
     "text": [
      "100%|████████████████████████| 100/100 [00:53<00:00,  1.87it/s]\n"
     ]
    },
    {
     "name": "stdout",
     "output_type": "stream",
     "text": [
      "epoch: 3740 \t loss: 84.213 \t reward: 172.613\n",
      "epoch: 3741 \t loss: 106.912 \t reward: 172.039\n",
      "epoch: 3742 \t loss: 97.435 \t reward: 192.878\n",
      "epoch: 3743 \t loss: 109.593 \t reward: 204.225\n",
      "epoch: 3744 \t loss: 75.961 \t reward: 149.461\n",
      "epoch: 3745 \t loss: 48.650 \t reward: 72.730\n",
      "epoch: 3746 \t loss: 49.662 \t reward: 128.925\n",
      "epoch: 3747 \t loss: 47.314 \t reward: 130.967\n",
      "epoch: 3748 \t loss: 83.664 \t reward: 196.816\n",
      "epoch: 3749 \t loss: 70.051 \t reward: 158.745\n"
     ]
    },
    {
     "name": "stderr",
     "output_type": "stream",
     "text": [
      "100%|████████████████████████| 100/100 [00:53<00:00,  1.87it/s]\n"
     ]
    },
    {
     "name": "stdout",
     "output_type": "stream",
     "text": [
      "epoch: 3750 \t loss: 102.695 \t reward: 185.475\n",
      "epoch: 3751 \t loss: 93.475 \t reward: 180.224\n",
      "epoch: 3752 \t loss: 72.227 \t reward: 140.015\n",
      "epoch: 3753 \t loss: 53.480 \t reward: 135.648\n",
      "epoch: 3754 \t loss: 57.293 \t reward: 107.386\n",
      "epoch: 3755 \t loss: 58.009 \t reward: 171.771\n",
      "epoch: 3756 \t loss: 24.684 \t reward: 55.476\n",
      "epoch: 3757 \t loss: 77.223 \t reward: 169.019\n",
      "epoch: 3758 \t loss: 100.078 \t reward: 199.535\n",
      "epoch: 3759 \t loss: 73.904 \t reward: 182.232\n"
     ]
    },
    {
     "name": "stderr",
     "output_type": "stream",
     "text": [
      "100%|████████████████████████| 100/100 [00:51<00:00,  1.95it/s]\n"
     ]
    },
    {
     "name": "stdout",
     "output_type": "stream",
     "text": [
      "epoch: 3760 \t loss: 41.126 \t reward: 123.105\n",
      "epoch: 3761 \t loss: 63.513 \t reward: 161.188\n",
      "epoch: 3762 \t loss: 98.973 \t reward: 166.625\n",
      "epoch: 3763 \t loss: 53.621 \t reward: 128.377\n",
      "epoch: 3764 \t loss: 75.808 \t reward: 200.044\n",
      "epoch: 3765 \t loss: 25.104 \t reward: 48.515\n",
      "epoch: 3766 \t loss: 83.181 \t reward: 194.087\n",
      "epoch: 3767 \t loss: 62.224 \t reward: 164.685\n",
      "epoch: 3768 \t loss: 43.898 \t reward: 86.206\n",
      "epoch: 3769 \t loss: 106.861 \t reward: 213.033\n"
     ]
    },
    {
     "name": "stderr",
     "output_type": "stream",
     "text": [
      "100%|████████████████████████| 100/100 [00:45<00:00,  2.18it/s]\n"
     ]
    },
    {
     "name": "stdout",
     "output_type": "stream",
     "text": [
      "epoch: 3770 \t loss: 99.029 \t reward: 202.235\n",
      "epoch: 3771 \t loss: 90.693 \t reward: 195.024\n",
      "epoch: 3772 \t loss: 116.807 \t reward: 226.576\n",
      "epoch: 3773 \t loss: 84.926 \t reward: 170.293\n",
      "epoch: 3774 \t loss: 79.722 \t reward: 189.813\n",
      "epoch: 3775 \t loss: 89.779 \t reward: 218.529\n",
      "epoch: 3776 \t loss: 75.106 \t reward: 129.254\n",
      "epoch: 3777 \t loss: 55.875 \t reward: 156.254\n",
      "epoch: 3778 \t loss: 94.152 \t reward: 184.007\n",
      "epoch: 3779 \t loss: 57.963 \t reward: 110.754\n"
     ]
    },
    {
     "name": "stderr",
     "output_type": "stream",
     "text": [
      "100%|████████████████████████| 100/100 [00:37<00:00,  2.69it/s]\n"
     ]
    },
    {
     "name": "stdout",
     "output_type": "stream",
     "text": [
      "Best model! Average reward = 185.02\n",
      "epoch: 3780 \t loss: 103.001 \t reward: 205.859\n",
      "epoch: 3781 \t loss: 78.202 \t reward: 187.564\n",
      "epoch: 3782 \t loss: 84.950 \t reward: 170.901\n",
      "epoch: 3783 \t loss: 87.263 \t reward: 201.048\n",
      "epoch: 3784 \t loss: 23.405 \t reward: 104.194\n",
      "epoch: 3785 \t loss: 72.941 \t reward: 160.781\n",
      "epoch: 3786 \t loss: 94.682 \t reward: 222.893\n",
      "epoch: 3787 \t loss: 55.737 \t reward: 97.891\n",
      "epoch: 3788 \t loss: 63.400 \t reward: 162.818\n",
      "epoch: 3789 \t loss: 72.649 \t reward: 132.437\n"
     ]
    },
    {
     "name": "stderr",
     "output_type": "stream",
     "text": [
      "100%|████████████████████████| 100/100 [00:34<00:00,  2.87it/s]\n"
     ]
    },
    {
     "name": "stdout",
     "output_type": "stream",
     "text": [
      "epoch: 3790 \t loss: 87.009 \t reward: 221.985\n",
      "epoch: 3791 \t loss: 98.767 \t reward: 191.774\n",
      "epoch: 3792 \t loss: 102.715 \t reward: 206.220\n",
      "epoch: 3793 \t loss: 48.419 \t reward: 78.552\n",
      "epoch: 3794 \t loss: 76.911 \t reward: 167.546\n",
      "epoch: 3795 \t loss: 109.069 \t reward: 203.547\n",
      "epoch: 3796 \t loss: 91.586 \t reward: 188.810\n",
      "epoch: 3797 \t loss: 55.415 \t reward: 147.670\n",
      "epoch: 3798 \t loss: 59.983 \t reward: 161.031\n",
      "epoch: 3799 \t loss: 80.435 \t reward: 148.691\n"
     ]
    },
    {
     "name": "stderr",
     "output_type": "stream",
     "text": [
      "100%|████████████████████████| 100/100 [00:30<00:00,  3.33it/s]\n"
     ]
    },
    {
     "name": "stdout",
     "output_type": "stream",
     "text": [
      "epoch: 3800 \t loss: 46.668 \t reward: 118.896\n",
      "epoch: 3801 \t loss: 69.616 \t reward: 154.805\n",
      "epoch: 3802 \t loss: 68.608 \t reward: 190.016\n",
      "epoch: 3803 \t loss: 35.883 \t reward: 140.198\n",
      "epoch: 3804 \t loss: 56.867 \t reward: 130.772\n",
      "epoch: 3805 \t loss: 101.551 \t reward: 178.319\n",
      "epoch: 3806 \t loss: 87.020 \t reward: 187.485\n",
      "epoch: 3807 \t loss: 24.742 \t reward: 89.659\n",
      "epoch: 3808 \t loss: 75.598 \t reward: 112.583\n",
      "epoch: 3809 \t loss: 82.407 \t reward: 193.503\n"
     ]
    },
    {
     "name": "stderr",
     "output_type": "stream",
     "text": [
      "100%|████████████████████████| 100/100 [00:34<00:00,  2.88it/s]\n"
     ]
    },
    {
     "name": "stdout",
     "output_type": "stream",
     "text": [
      "epoch: 3810 \t loss: 95.563 \t reward: 202.871\n",
      "epoch: 3811 \t loss: 59.161 \t reward: 161.765\n",
      "epoch: 3812 \t loss: 75.308 \t reward: 131.988\n",
      "epoch: 3813 \t loss: 66.098 \t reward: 146.291\n",
      "epoch: 3814 \t loss: 51.348 \t reward: 153.632\n",
      "epoch: 3815 \t loss: 57.280 \t reward: 145.364\n",
      "epoch: 3816 \t loss: 33.662 \t reward: 89.941\n",
      "epoch: 3817 \t loss: 75.972 \t reward: 153.314\n",
      "epoch: 3818 \t loss: 55.079 \t reward: 133.310\n",
      "epoch: 3819 \t loss: 99.737 \t reward: 222.443\n"
     ]
    },
    {
     "name": "stderr",
     "output_type": "stream",
     "text": [
      "100%|████████████████████████| 100/100 [00:36<00:00,  2.75it/s]\n"
     ]
    },
    {
     "name": "stdout",
     "output_type": "stream",
     "text": [
      "epoch: 3820 \t loss: 99.535 \t reward: 222.852\n",
      "epoch: 3821 \t loss: 74.657 \t reward: 207.156\n",
      "epoch: 3822 \t loss: 97.920 \t reward: 205.176\n",
      "epoch: 3823 \t loss: 81.284 \t reward: 190.444\n",
      "epoch: 3824 \t loss: 65.509 \t reward: 184.633\n",
      "epoch: 3825 \t loss: 88.938 \t reward: 198.971\n",
      "epoch: 3826 \t loss: 88.494 \t reward: 185.164\n",
      "epoch: 3827 \t loss: 84.025 \t reward: 164.591\n",
      "epoch: 3828 \t loss: 69.601 \t reward: 172.426\n",
      "epoch: 3829 \t loss: 56.968 \t reward: 173.506\n"
     ]
    },
    {
     "name": "stderr",
     "output_type": "stream",
     "text": [
      "100%|████████████████████████| 100/100 [00:42<00:00,  2.33it/s]\n"
     ]
    },
    {
     "name": "stdout",
     "output_type": "stream",
     "text": [
      "epoch: 3830 \t loss: 62.376 \t reward: 174.669\n",
      "epoch: 3831 \t loss: 71.927 \t reward: 158.049\n",
      "epoch: 3832 \t loss: 63.202 \t reward: 160.687\n",
      "epoch: 3833 \t loss: 80.327 \t reward: 173.423\n",
      "epoch: 3834 \t loss: 55.673 \t reward: 145.025\n",
      "epoch: 3835 \t loss: 37.493 \t reward: 70.898\n",
      "epoch: 3836 \t loss: 77.502 \t reward: 170.774\n",
      "epoch: 3837 \t loss: 95.145 \t reward: 199.354\n",
      "epoch: 3838 \t loss: 63.893 \t reward: 167.183\n",
      "epoch: 3839 \t loss: 88.646 \t reward: 183.965\n"
     ]
    },
    {
     "name": "stderr",
     "output_type": "stream",
     "text": [
      "100%|████████████████████████| 100/100 [00:38<00:00,  2.60it/s]\n"
     ]
    },
    {
     "name": "stdout",
     "output_type": "stream",
     "text": [
      "Best model! Average reward = 185.79\n",
      "epoch: 3840 \t loss: 106.186 \t reward: 205.666\n",
      "epoch: 3841 \t loss: 90.413 \t reward: 172.446\n",
      "epoch: 3842 \t loss: 86.052 \t reward: 189.895\n",
      "epoch: 3843 \t loss: 52.830 \t reward: 90.491\n",
      "epoch: 3844 \t loss: 26.118 \t reward: 35.806\n",
      "epoch: 3845 \t loss: 86.936 \t reward: 209.616\n",
      "epoch: 3846 \t loss: 71.175 \t reward: 185.411\n",
      "epoch: 3847 \t loss: 73.631 \t reward: 154.439\n",
      "epoch: 3848 \t loss: 100.595 \t reward: 219.801\n",
      "epoch: 3849 \t loss: 75.792 \t reward: 203.707\n"
     ]
    },
    {
     "name": "stderr",
     "output_type": "stream",
     "text": [
      "100%|████████████████████████| 100/100 [00:51<00:00,  1.93it/s]\n"
     ]
    },
    {
     "name": "stdout",
     "output_type": "stream",
     "text": [
      "epoch: 3850 \t loss: 63.912 \t reward: 153.299\n",
      "epoch: 3851 \t loss: 47.014 \t reward: 133.579\n",
      "epoch: 3852 \t loss: 19.650 \t reward: 56.201\n",
      "epoch: 3853 \t loss: 107.762 \t reward: 212.882\n",
      "epoch: 3854 \t loss: 103.414 \t reward: 219.578\n",
      "epoch: 3855 \t loss: 106.288 \t reward: 224.978\n",
      "epoch: 3856 \t loss: 71.992 \t reward: 156.632\n",
      "epoch: 3857 \t loss: 65.975 \t reward: 184.670\n",
      "epoch: 3858 \t loss: 115.749 \t reward: 232.174\n",
      "epoch: 3859 \t loss: 83.391 \t reward: 186.458\n"
     ]
    },
    {
     "name": "stderr",
     "output_type": "stream",
     "text": [
      "100%|████████████████████████| 100/100 [00:51<00:00,  1.94it/s]\n"
     ]
    },
    {
     "name": "stdout",
     "output_type": "stream",
     "text": [
      "epoch: 3860 \t loss: 91.617 \t reward: 188.728\n",
      "epoch: 3861 \t loss: 86.172 \t reward: 210.029\n",
      "epoch: 3862 \t loss: 75.048 \t reward: 174.281\n",
      "epoch: 3863 \t loss: 63.281 \t reward: 126.055\n",
      "epoch: 3864 \t loss: 103.211 \t reward: 196.646\n",
      "epoch: 3865 \t loss: 41.770 \t reward: 86.365\n",
      "epoch: 3866 \t loss: 82.503 \t reward: 186.846\n",
      "epoch: 3867 \t loss: 87.430 \t reward: 218.101\n",
      "epoch: 3868 \t loss: 87.536 \t reward: 193.312\n",
      "epoch: 3869 \t loss: 87.702 \t reward: 209.418\n"
     ]
    },
    {
     "name": "stderr",
     "output_type": "stream",
     "text": [
      "100%|████████████████████████| 100/100 [00:59<00:00,  1.68it/s]\n"
     ]
    },
    {
     "name": "stdout",
     "output_type": "stream",
     "text": [
      "epoch: 3870 \t loss: 54.693 \t reward: 141.481\n",
      "epoch: 3871 \t loss: 93.668 \t reward: 207.630\n",
      "epoch: 3872 \t loss: 90.263 \t reward: 209.850\n",
      "epoch: 3873 \t loss: 91.991 \t reward: 210.649\n",
      "epoch: 3874 \t loss: 78.758 \t reward: 222.272\n",
      "epoch: 3875 \t loss: 63.009 \t reward: 172.619\n",
      "epoch: 3876 \t loss: 91.141 \t reward: 207.769\n",
      "epoch: 3877 \t loss: 73.923 \t reward: 178.415\n",
      "epoch: 3878 \t loss: 92.333 \t reward: 194.726\n",
      "epoch: 3879 \t loss: 125.124 \t reward: 216.619\n"
     ]
    },
    {
     "name": "stderr",
     "output_type": "stream",
     "text": [
      "100%|████████████████████████| 100/100 [00:59<00:00,  1.68it/s]\n"
     ]
    },
    {
     "name": "stdout",
     "output_type": "stream",
     "text": [
      "epoch: 3880 \t loss: 60.769 \t reward: 153.871\n",
      "epoch: 3881 \t loss: 100.960 \t reward: 205.116\n",
      "epoch: 3882 \t loss: 83.362 \t reward: 180.044\n",
      "epoch: 3883 \t loss: 84.347 \t reward: 147.510\n",
      "epoch: 3884 \t loss: 95.861 \t reward: 209.802\n",
      "epoch: 3885 \t loss: 77.897 \t reward: 136.321\n",
      "epoch: 3886 \t loss: 52.861 \t reward: 152.290\n",
      "epoch: 3887 \t loss: 61.442 \t reward: 136.834\n",
      "epoch: 3888 \t loss: 93.045 \t reward: 228.125\n",
      "epoch: 3889 \t loss: 82.794 \t reward: 175.280\n"
     ]
    },
    {
     "name": "stderr",
     "output_type": "stream",
     "text": [
      "100%|████████████████████████| 100/100 [00:50<00:00,  1.96it/s]\n"
     ]
    },
    {
     "name": "stdout",
     "output_type": "stream",
     "text": [
      "epoch: 3890 \t loss: 126.048 \t reward: 238.898\n",
      "epoch: 3891 \t loss: 57.374 \t reward: 134.619\n",
      "epoch: 3892 \t loss: 92.511 \t reward: 185.874\n",
      "epoch: 3893 \t loss: 105.649 \t reward: 215.967\n",
      "epoch: 3894 \t loss: 54.870 \t reward: 131.238\n",
      "epoch: 3895 \t loss: 82.342 \t reward: 181.416\n",
      "epoch: 3896 \t loss: 46.741 \t reward: 61.866\n",
      "epoch: 3897 \t loss: 31.717 \t reward: 91.524\n",
      "epoch: 3898 \t loss: 60.625 \t reward: 159.404\n",
      "epoch: 3899 \t loss: 92.644 \t reward: 217.835\n"
     ]
    },
    {
     "name": "stderr",
     "output_type": "stream",
     "text": [
      "100%|████████████████████████| 100/100 [00:54<00:00,  1.84it/s]\n"
     ]
    },
    {
     "name": "stdout",
     "output_type": "stream",
     "text": [
      "epoch: 3900 \t loss: 64.873 \t reward: 124.536\n",
      "epoch: 3901 \t loss: 109.390 \t reward: 223.310\n",
      "epoch: 3902 \t loss: 24.531 \t reward: 68.113\n",
      "epoch: 3903 \t loss: -12.299 \t reward: -31.154\n",
      "epoch: 3904 \t loss: 63.184 \t reward: 151.137\n",
      "epoch: 3905 \t loss: 97.946 \t reward: 190.078\n",
      "epoch: 3906 \t loss: 62.741 \t reward: 159.749\n",
      "epoch: 3907 \t loss: 105.149 \t reward: 206.575\n",
      "epoch: 3908 \t loss: 60.107 \t reward: 140.600\n",
      "epoch: 3909 \t loss: 42.787 \t reward: 108.849\n"
     ]
    },
    {
     "name": "stderr",
     "output_type": "stream",
     "text": [
      "100%|████████████████████████| 100/100 [00:52<00:00,  1.91it/s]\n"
     ]
    },
    {
     "name": "stdout",
     "output_type": "stream",
     "text": [
      "epoch: 3910 \t loss: 80.666 \t reward: 204.176\n",
      "epoch: 3911 \t loss: 30.129 \t reward: 42.435\n",
      "epoch: 3912 \t loss: 78.926 \t reward: 183.647\n",
      "epoch: 3913 \t loss: 94.322 \t reward: 192.936\n",
      "epoch: 3914 \t loss: 63.367 \t reward: 159.887\n",
      "epoch: 3915 \t loss: 68.514 \t reward: 196.316\n",
      "epoch: 3916 \t loss: 88.230 \t reward: 184.941\n",
      "epoch: 3917 \t loss: 99.248 \t reward: 208.578\n",
      "epoch: 3918 \t loss: 76.250 \t reward: 164.529\n",
      "epoch: 3919 \t loss: 64.072 \t reward: 196.691\n"
     ]
    },
    {
     "name": "stderr",
     "output_type": "stream",
     "text": [
      "100%|████████████████████████| 100/100 [00:49<00:00,  2.04it/s]\n"
     ]
    },
    {
     "name": "stdout",
     "output_type": "stream",
     "text": [
      "epoch: 3920 \t loss: 81.831 \t reward: 196.658\n",
      "epoch: 3921 \t loss: 70.085 \t reward: 165.156\n",
      "epoch: 3922 \t loss: 79.650 \t reward: 213.024\n",
      "epoch: 3923 \t loss: 77.529 \t reward: 193.614\n",
      "epoch: 3924 \t loss: 71.134 \t reward: 148.083\n",
      "epoch: 3925 \t loss: 86.174 \t reward: 186.769\n",
      "epoch: 3926 \t loss: 79.876 \t reward: 175.618\n",
      "epoch: 3927 \t loss: 70.355 \t reward: 146.864\n",
      "epoch: 3928 \t loss: 53.201 \t reward: 139.483\n",
      "epoch: 3929 \t loss: 61.193 \t reward: 136.000\n"
     ]
    },
    {
     "name": "stderr",
     "output_type": "stream",
     "text": [
      "100%|████████████████████████| 100/100 [00:51<00:00,  1.92it/s]\n"
     ]
    },
    {
     "name": "stdout",
     "output_type": "stream",
     "text": [
      "epoch: 3930 \t loss: 96.742 \t reward: 161.971\n",
      "epoch: 3931 \t loss: 109.351 \t reward: 221.474\n",
      "epoch: 3932 \t loss: 40.828 \t reward: 94.232\n",
      "epoch: 3933 \t loss: 101.009 \t reward: 201.204\n",
      "epoch: 3934 \t loss: 71.556 \t reward: 186.676\n",
      "epoch: 3935 \t loss: 79.348 \t reward: 186.740\n",
      "epoch: 3936 \t loss: 61.649 \t reward: 170.768\n",
      "epoch: 3937 \t loss: 96.096 \t reward: 203.247\n",
      "epoch: 3938 \t loss: 98.988 \t reward: 175.458\n",
      "epoch: 3939 \t loss: 84.891 \t reward: 172.288\n"
     ]
    },
    {
     "name": "stderr",
     "output_type": "stream",
     "text": [
      "100%|████████████████████████| 100/100 [00:37<00:00,  2.66it/s]\n"
     ]
    },
    {
     "name": "stdout",
     "output_type": "stream",
     "text": [
      "epoch: 3940 \t loss: 36.518 \t reward: 85.609\n",
      "epoch: 3941 \t loss: 74.402 \t reward: 124.409\n",
      "epoch: 3942 \t loss: 89.746 \t reward: 216.224\n",
      "epoch: 3943 \t loss: 54.718 \t reward: 85.322\n",
      "epoch: 3944 \t loss: 36.743 \t reward: 92.774\n",
      "epoch: 3945 \t loss: 42.344 \t reward: 118.030\n",
      "epoch: 3946 \t loss: 46.173 \t reward: 94.896\n",
      "epoch: 3947 \t loss: 61.211 \t reward: 97.492\n",
      "epoch: 3948 \t loss: 84.916 \t reward: 145.255\n",
      "epoch: 3949 \t loss: 33.047 \t reward: 129.811\n"
     ]
    },
    {
     "name": "stderr",
     "output_type": "stream",
     "text": [
      "100%|████████████████████████| 100/100 [00:30<00:00,  3.24it/s]\n"
     ]
    },
    {
     "name": "stdout",
     "output_type": "stream",
     "text": [
      "epoch: 3950 \t loss: 83.932 \t reward: 189.004\n",
      "epoch: 3951 \t loss: 76.026 \t reward: 188.148\n",
      "epoch: 3952 \t loss: 77.091 \t reward: 173.297\n",
      "epoch: 3953 \t loss: 81.985 \t reward: 156.303\n",
      "epoch: 3954 \t loss: 109.259 \t reward: 213.878\n",
      "epoch: 3955 \t loss: 50.383 \t reward: 136.920\n",
      "epoch: 3956 \t loss: 38.688 \t reward: 128.495\n",
      "epoch: 3957 \t loss: 100.296 \t reward: 203.547\n",
      "epoch: 3958 \t loss: 39.159 \t reward: 127.622\n",
      "epoch: 3959 \t loss: 91.214 \t reward: 156.849\n"
     ]
    },
    {
     "name": "stderr",
     "output_type": "stream",
     "text": [
      "100%|████████████████████████| 100/100 [00:34<00:00,  2.90it/s]\n"
     ]
    },
    {
     "name": "stdout",
     "output_type": "stream",
     "text": [
      "epoch: 3960 \t loss: 62.125 \t reward: 130.866\n",
      "epoch: 3961 \t loss: 87.161 \t reward: 168.963\n",
      "epoch: 3962 \t loss: 90.259 \t reward: 162.429\n",
      "epoch: 3963 \t loss: 32.721 \t reward: 110.922\n",
      "epoch: 3964 \t loss: 70.686 \t reward: 168.811\n",
      "epoch: 3965 \t loss: 97.043 \t reward: 222.561\n",
      "epoch: 3966 \t loss: 82.387 \t reward: 191.608\n",
      "epoch: 3967 \t loss: 61.871 \t reward: 124.128\n",
      "epoch: 3968 \t loss: 97.304 \t reward: 239.327\n",
      "epoch: 3969 \t loss: 92.514 \t reward: 218.270\n"
     ]
    },
    {
     "name": "stderr",
     "output_type": "stream",
     "text": [
      "100%|████████████████████████| 100/100 [00:36<00:00,  2.71it/s]\n"
     ]
    },
    {
     "name": "stdout",
     "output_type": "stream",
     "text": [
      "epoch: 3970 \t loss: 99.753 \t reward: 219.831\n",
      "epoch: 3971 \t loss: 48.082 \t reward: 124.082\n",
      "epoch: 3972 \t loss: 59.067 \t reward: 116.199\n",
      "epoch: 3973 \t loss: 103.390 \t reward: 233.688\n",
      "epoch: 3974 \t loss: 70.327 \t reward: 130.289\n",
      "epoch: 3975 \t loss: 90.621 \t reward: 164.163\n",
      "epoch: 3976 \t loss: 32.861 \t reward: 108.061\n",
      "epoch: 3977 \t loss: 99.402 \t reward: 186.973\n",
      "epoch: 3978 \t loss: 71.408 \t reward: 160.833\n",
      "epoch: 3979 \t loss: 73.941 \t reward: 202.532\n"
     ]
    },
    {
     "name": "stderr",
     "output_type": "stream",
     "text": [
      "100%|████████████████████████| 100/100 [00:37<00:00,  2.67it/s]\n"
     ]
    },
    {
     "name": "stdout",
     "output_type": "stream",
     "text": [
      "epoch: 3980 \t loss: 77.318 \t reward: 189.995\n",
      "epoch: 3981 \t loss: 53.921 \t reward: 139.019\n",
      "epoch: 3982 \t loss: 60.697 \t reward: 153.767\n",
      "epoch: 3983 \t loss: 50.691 \t reward: 148.330\n",
      "epoch: 3984 \t loss: 87.664 \t reward: 210.419\n",
      "epoch: 3985 \t loss: 83.054 \t reward: 146.195\n",
      "epoch: 3986 \t loss: 83.519 \t reward: 132.373\n",
      "epoch: 3987 \t loss: 86.366 \t reward: 162.411\n",
      "epoch: 3988 \t loss: 76.160 \t reward: 179.983\n",
      "epoch: 3989 \t loss: 53.822 \t reward: 122.621\n"
     ]
    },
    {
     "name": "stderr",
     "output_type": "stream",
     "text": [
      "100%|████████████████████████| 100/100 [00:42<00:00,  2.33it/s]\n"
     ]
    },
    {
     "name": "stdout",
     "output_type": "stream",
     "text": [
      "epoch: 3990 \t loss: 69.825 \t reward: 154.335\n",
      "epoch: 3991 \t loss: 120.156 \t reward: 215.312\n",
      "epoch: 3992 \t loss: 49.615 \t reward: 174.470\n",
      "epoch: 3993 \t loss: 55.515 \t reward: 123.966\n",
      "epoch: 3994 \t loss: 93.875 \t reward: 205.157\n",
      "epoch: 3995 \t loss: -2.731 \t reward: 52.067\n",
      "epoch: 3996 \t loss: 75.738 \t reward: 160.664\n",
      "epoch: 3997 \t loss: 57.587 \t reward: 163.231\n",
      "epoch: 3998 \t loss: 71.576 \t reward: 163.264\n",
      "epoch: 3999 \t loss: 39.996 \t reward: 115.033\n"
     ]
    },
    {
     "name": "stderr",
     "output_type": "stream",
     "text": [
      "100%|████████████████████████| 100/100 [00:49<00:00,  2.01it/s]\n"
     ]
    }
   ],
   "source": [
    "agent.train(\n",
    "    epochs=4000,\n",
    "    steps_per_epoch=2000,\n",
    "    logger=logger,\n",
    "    model_path=model_path,\n",
    ")"
   ]
  },
  {
   "cell_type": "markdown",
   "id": "1ddadefa",
   "metadata": {},
   "source": [
    "## Evaluate the agent ⏱️"
   ]
  },
  {
   "cell_type": "code",
   "execution_count": 90,
   "id": "1b9bf365",
   "metadata": {},
   "outputs": [
    {
     "name": "stdout",
     "output_type": "stream",
     "text": [
      "Policy network with 836 parameters\n",
      "Sequential(\n",
      "  (0): Linear(in_features=8, out_features=64, bias=True)\n",
      "  (1): ReLU()\n",
      "  (2): Linear(in_features=64, out_features=4, bias=True)\n",
      ")\n"
     ]
    }
   ],
   "source": [
    "from src.utils import get_model_path\n",
    "model_path = get_model_path(env_name=ENV_NAME, agent_id='15')\n",
    "\n",
    "from src.vpg_agent import VPGAgent\n",
    "agent = VPGAgent.load_from_disk(env_name='LunarLander-v2', path=model_path)"
   ]
  },
  {
   "cell_type": "code",
   "execution_count": 91,
   "id": "17cfcaaf",
   "metadata": {},
   "outputs": [
    {
     "name": "stderr",
     "output_type": "stream",
     "text": [
      "100%|████████████████████████| 100/100 [00:23<00:00,  4.30it/s]\n"
     ]
    }
   ],
   "source": [
    "rewards, steps = agent.evaluate(n_episodes=100)"
   ]
  },
  {
   "cell_type": "markdown",
   "id": "d34f870c",
   "metadata": {},
   "source": [
    "### Average reward"
   ]
  },
  {
   "cell_type": "code",
   "execution_count": 92,
   "id": "7b05acf0",
   "metadata": {},
   "outputs": [
    {
     "name": "stdout",
     "output_type": "stream",
     "text": [
      "Reward average 236.12, std 76.28\n"
     ]
    }
   ],
   "source": [
    "import numpy as np\n",
    "reward_avg = np.array(rewards).mean()\n",
    "reward_std = np.array(rewards).std()\n",
    "print(f'Reward average {reward_avg:.2f}, std {reward_std:.2f}')"
   ]
  },
  {
   "cell_type": "markdown",
   "id": "15dfe200",
   "metadata": {},
   "source": [
    "## Reward distribution"
   ]
  },
  {
   "cell_type": "code",
   "execution_count": 93,
   "id": "a4bb1269",
   "metadata": {},
   "outputs": [
    {
     "data": {
      "image/svg+xml": [
       "<?xml version=\"1.0\" encoding=\"utf-8\" standalone=\"no\"?>\n",
       "<!DOCTYPE svg PUBLIC \"-//W3C//DTD SVG 1.1//EN\"\n",
       "  \"http://www.w3.org/Graphics/SVG/1.1/DTD/svg11.dtd\">\n",
       "<svg xmlns:xlink=\"http://www.w3.org/1999/xlink\" width=\"605.803125pt\" height=\"263.63625pt\" viewBox=\"0 0 605.803125 263.63625\" xmlns=\"http://www.w3.org/2000/svg\" version=\"1.1\">\n",
       " <metadata>\n",
       "  <rdf:RDF xmlns:dc=\"http://purl.org/dc/elements/1.1/\" xmlns:cc=\"http://creativecommons.org/ns#\" xmlns:rdf=\"http://www.w3.org/1999/02/22-rdf-syntax-ns#\">\n",
       "   <cc:Work>\n",
       "    <dc:type rdf:resource=\"http://purl.org/dc/dcmitype/StillImage\"/>\n",
       "    <dc:date>2022-04-22T13:19:13.322773</dc:date>\n",
       "    <dc:format>image/svg+xml</dc:format>\n",
       "    <dc:creator>\n",
       "     <cc:Agent>\n",
       "      <dc:title>Matplotlib v3.5.1, https://matplotlib.org/</dc:title>\n",
       "     </cc:Agent>\n",
       "    </dc:creator>\n",
       "   </cc:Work>\n",
       "  </rdf:RDF>\n",
       " </metadata>\n",
       " <defs>\n",
       "  <style type=\"text/css\">*{stroke-linejoin: round; stroke-linecap: butt}</style>\n",
       " </defs>\n",
       " <g id=\"figure_1\">\n",
       "  <g id=\"patch_1\">\n",
       "   <path d=\"M 0 263.63625 \n",
       "L 605.803125 263.63625 \n",
       "L 605.803125 0 \n",
       "L 0 0 \n",
       "L 0 263.63625 \n",
       "z\n",
       "\" style=\"fill: none\"/>\n",
       "  </g>\n",
       "  <g id=\"axes_1\">\n",
       "   <g id=\"patch_2\">\n",
       "    <path d=\"M 40.603125 239.758125 \n",
       "L 598.603125 239.758125 \n",
       "L 598.603125 22.318125 \n",
       "L 40.603125 22.318125 \n",
       "z\n",
       "\" style=\"fill: #ffffff\"/>\n",
       "   </g>\n",
       "   <g id=\"patch_3\">\n",
       "    <path d=\"M 65.966761 239.758125 \n",
       "L 71.039489 239.758125 \n",
       "L 71.039489 219.049554 \n",
       "L 65.966761 219.049554 \n",
       "z\n",
       "\" clip-path=\"url(#paa1361496c)\" style=\"fill: #1f77b4\"/>\n",
       "   </g>\n",
       "   <g id=\"patch_4\">\n",
       "    <path d=\"M 71.039489 239.758125 \n",
       "L 76.112216 239.758125 \n",
       "L 76.112216 239.758125 \n",
       "L 71.039489 239.758125 \n",
       "z\n",
       "\" clip-path=\"url(#paa1361496c)\" style=\"fill: #1f77b4\"/>\n",
       "   </g>\n",
       "   <g id=\"patch_5\">\n",
       "    <path d=\"M 76.112216 239.758125 \n",
       "L 81.184943 239.758125 \n",
       "L 81.184943 239.758125 \n",
       "L 76.112216 239.758125 \n",
       "z\n",
       "\" clip-path=\"url(#paa1361496c)\" style=\"fill: #1f77b4\"/>\n",
       "   </g>\n",
       "   <g id=\"patch_6\">\n",
       "    <path d=\"M 81.184943 239.758125 \n",
       "L 86.25767 239.758125 \n",
       "L 86.25767 239.758125 \n",
       "L 81.184943 239.758125 \n",
       "z\n",
       "\" clip-path=\"url(#paa1361496c)\" style=\"fill: #1f77b4\"/>\n",
       "   </g>\n",
       "   <g id=\"patch_7\">\n",
       "    <path d=\"M 86.25767 239.758125 \n",
       "L 91.330398 239.758125 \n",
       "L 91.330398 239.758125 \n",
       "L 86.25767 239.758125 \n",
       "z\n",
       "\" clip-path=\"url(#paa1361496c)\" style=\"fill: #1f77b4\"/>\n",
       "   </g>\n",
       "   <g id=\"patch_8\">\n",
       "    <path d=\"M 91.330398 239.758125 \n",
       "L 96.403125 239.758125 \n",
       "L 96.403125 239.758125 \n",
       "L 91.330398 239.758125 \n",
       "z\n",
       "\" clip-path=\"url(#paa1361496c)\" style=\"fill: #1f77b4\"/>\n",
       "   </g>\n",
       "   <g id=\"patch_9\">\n",
       "    <path d=\"M 96.403125 239.758125 \n",
       "L 101.475852 239.758125 \n",
       "L 101.475852 239.758125 \n",
       "L 96.403125 239.758125 \n",
       "z\n",
       "\" clip-path=\"url(#paa1361496c)\" style=\"fill: #1f77b4\"/>\n",
       "   </g>\n",
       "   <g id=\"patch_10\">\n",
       "    <path d=\"M 101.475852 239.758125 \n",
       "L 106.54858 239.758125 \n",
       "L 106.54858 239.758125 \n",
       "L 101.475852 239.758125 \n",
       "z\n",
       "\" clip-path=\"url(#paa1361496c)\" style=\"fill: #1f77b4\"/>\n",
       "   </g>\n",
       "   <g id=\"patch_11\">\n",
       "    <path d=\"M 106.54858 239.758125 \n",
       "L 111.621307 239.758125 \n",
       "L 111.621307 239.758125 \n",
       "L 106.54858 239.758125 \n",
       "z\n",
       "\" clip-path=\"url(#paa1361496c)\" style=\"fill: #1f77b4\"/>\n",
       "   </g>\n",
       "   <g id=\"patch_12\">\n",
       "    <path d=\"M 111.621307 239.758125 \n",
       "L 116.694034 239.758125 \n",
       "L 116.694034 239.758125 \n",
       "L 111.621307 239.758125 \n",
       "z\n",
       "\" clip-path=\"url(#paa1361496c)\" style=\"fill: #1f77b4\"/>\n",
       "   </g>\n",
       "   <g id=\"patch_13\">\n",
       "    <path d=\"M 116.694034 239.758125 \n",
       "L 121.766761 239.758125 \n",
       "L 121.766761 239.758125 \n",
       "L 116.694034 239.758125 \n",
       "z\n",
       "\" clip-path=\"url(#paa1361496c)\" style=\"fill: #1f77b4\"/>\n",
       "   </g>\n",
       "   <g id=\"patch_14\">\n",
       "    <path d=\"M 121.766761 239.758125 \n",
       "L 126.839489 239.758125 \n",
       "L 126.839489 239.758125 \n",
       "L 121.766761 239.758125 \n",
       "z\n",
       "\" clip-path=\"url(#paa1361496c)\" style=\"fill: #1f77b4\"/>\n",
       "   </g>\n",
       "   <g id=\"patch_15\">\n",
       "    <path d=\"M 126.839489 239.758125 \n",
       "L 131.912216 239.758125 \n",
       "L 131.912216 239.758125 \n",
       "L 126.839489 239.758125 \n",
       "z\n",
       "\" clip-path=\"url(#paa1361496c)\" style=\"fill: #1f77b4\"/>\n",
       "   </g>\n",
       "   <g id=\"patch_16\">\n",
       "    <path d=\"M 131.912216 239.758125 \n",
       "L 136.984943 239.758125 \n",
       "L 136.984943 239.758125 \n",
       "L 131.912216 239.758125 \n",
       "z\n",
       "\" clip-path=\"url(#paa1361496c)\" style=\"fill: #1f77b4\"/>\n",
       "   </g>\n",
       "   <g id=\"patch_17\">\n",
       "    <path d=\"M 136.984943 239.758125 \n",
       "L 142.05767 239.758125 \n",
       "L 142.05767 239.758125 \n",
       "L 136.984943 239.758125 \n",
       "z\n",
       "\" clip-path=\"url(#paa1361496c)\" style=\"fill: #1f77b4\"/>\n",
       "   </g>\n",
       "   <g id=\"patch_18\">\n",
       "    <path d=\"M 142.05767 239.758125 \n",
       "L 147.130398 239.758125 \n",
       "L 147.130398 239.758125 \n",
       "L 142.05767 239.758125 \n",
       "z\n",
       "\" clip-path=\"url(#paa1361496c)\" style=\"fill: #1f77b4\"/>\n",
       "   </g>\n",
       "   <g id=\"patch_19\">\n",
       "    <path d=\"M 147.130398 239.758125 \n",
       "L 152.203125 239.758125 \n",
       "L 152.203125 239.758125 \n",
       "L 147.130398 239.758125 \n",
       "z\n",
       "\" clip-path=\"url(#paa1361496c)\" style=\"fill: #1f77b4\"/>\n",
       "   </g>\n",
       "   <g id=\"patch_20\">\n",
       "    <path d=\"M 152.203125 239.758125 \n",
       "L 157.275852 239.758125 \n",
       "L 157.275852 239.758125 \n",
       "L 152.203125 239.758125 \n",
       "z\n",
       "\" clip-path=\"url(#paa1361496c)\" style=\"fill: #1f77b4\"/>\n",
       "   </g>\n",
       "   <g id=\"patch_21\">\n",
       "    <path d=\"M 157.275852 239.758125 \n",
       "L 162.34858 239.758125 \n",
       "L 162.34858 239.758125 \n",
       "L 157.275852 239.758125 \n",
       "z\n",
       "\" clip-path=\"url(#paa1361496c)\" style=\"fill: #1f77b4\"/>\n",
       "   </g>\n",
       "   <g id=\"patch_22\">\n",
       "    <path d=\"M 162.34858 239.758125 \n",
       "L 167.421307 239.758125 \n",
       "L 167.421307 239.758125 \n",
       "L 162.34858 239.758125 \n",
       "z\n",
       "\" clip-path=\"url(#paa1361496c)\" style=\"fill: #1f77b4\"/>\n",
       "   </g>\n",
       "   <g id=\"patch_23\">\n",
       "    <path d=\"M 167.421307 239.758125 \n",
       "L 172.494034 239.758125 \n",
       "L 172.494034 239.758125 \n",
       "L 167.421307 239.758125 \n",
       "z\n",
       "\" clip-path=\"url(#paa1361496c)\" style=\"fill: #1f77b4\"/>\n",
       "   </g>\n",
       "   <g id=\"patch_24\">\n",
       "    <path d=\"M 172.494034 239.758125 \n",
       "L 177.566761 239.758125 \n",
       "L 177.566761 239.758125 \n",
       "L 172.494034 239.758125 \n",
       "z\n",
       "\" clip-path=\"url(#paa1361496c)\" style=\"fill: #1f77b4\"/>\n",
       "   </g>\n",
       "   <g id=\"patch_25\">\n",
       "    <path d=\"M 177.566761 239.758125 \n",
       "L 182.639489 239.758125 \n",
       "L 182.639489 239.758125 \n",
       "L 177.566761 239.758125 \n",
       "z\n",
       "\" clip-path=\"url(#paa1361496c)\" style=\"fill: #1f77b4\"/>\n",
       "   </g>\n",
       "   <g id=\"patch_26\">\n",
       "    <path d=\"M 182.639489 239.758125 \n",
       "L 187.712216 239.758125 \n",
       "L 187.712216 239.758125 \n",
       "L 182.639489 239.758125 \n",
       "z\n",
       "\" clip-path=\"url(#paa1361496c)\" style=\"fill: #1f77b4\"/>\n",
       "   </g>\n",
       "   <g id=\"patch_27\">\n",
       "    <path d=\"M 187.712216 239.758125 \n",
       "L 192.784943 239.758125 \n",
       "L 192.784943 239.758125 \n",
       "L 187.712216 239.758125 \n",
       "z\n",
       "\" clip-path=\"url(#paa1361496c)\" style=\"fill: #1f77b4\"/>\n",
       "   </g>\n",
       "   <g id=\"patch_28\">\n",
       "    <path d=\"M 192.784943 239.758125 \n",
       "L 197.85767 239.758125 \n",
       "L 197.85767 239.758125 \n",
       "L 192.784943 239.758125 \n",
       "z\n",
       "\" clip-path=\"url(#paa1361496c)\" style=\"fill: #1f77b4\"/>\n",
       "   </g>\n",
       "   <g id=\"patch_29\">\n",
       "    <path d=\"M 197.85767 239.758125 \n",
       "L 202.930398 239.758125 \n",
       "L 202.930398 239.758125 \n",
       "L 197.85767 239.758125 \n",
       "z\n",
       "\" clip-path=\"url(#paa1361496c)\" style=\"fill: #1f77b4\"/>\n",
       "   </g>\n",
       "   <g id=\"patch_30\">\n",
       "    <path d=\"M 202.930398 239.758125 \n",
       "L 208.003125 239.758125 \n",
       "L 208.003125 219.049554 \n",
       "L 202.930398 219.049554 \n",
       "z\n",
       "\" clip-path=\"url(#paa1361496c)\" style=\"fill: #1f77b4\"/>\n",
       "   </g>\n",
       "   <g id=\"patch_31\">\n",
       "    <path d=\"M 208.003125 239.758125 \n",
       "L 213.075852 239.758125 \n",
       "L 213.075852 239.758125 \n",
       "L 208.003125 239.758125 \n",
       "z\n",
       "\" clip-path=\"url(#paa1361496c)\" style=\"fill: #1f77b4\"/>\n",
       "   </g>\n",
       "   <g id=\"patch_32\">\n",
       "    <path d=\"M 213.075852 239.758125 \n",
       "L 218.14858 239.758125 \n",
       "L 218.14858 239.758125 \n",
       "L 213.075852 239.758125 \n",
       "z\n",
       "\" clip-path=\"url(#paa1361496c)\" style=\"fill: #1f77b4\"/>\n",
       "   </g>\n",
       "   <g id=\"patch_33\">\n",
       "    <path d=\"M 218.14858 239.758125 \n",
       "L 223.221307 239.758125 \n",
       "L 223.221307 239.758125 \n",
       "L 218.14858 239.758125 \n",
       "z\n",
       "\" clip-path=\"url(#paa1361496c)\" style=\"fill: #1f77b4\"/>\n",
       "   </g>\n",
       "   <g id=\"patch_34\">\n",
       "    <path d=\"M 223.221307 239.758125 \n",
       "L 228.294034 239.758125 \n",
       "L 228.294034 239.758125 \n",
       "L 223.221307 239.758125 \n",
       "z\n",
       "\" clip-path=\"url(#paa1361496c)\" style=\"fill: #1f77b4\"/>\n",
       "   </g>\n",
       "   <g id=\"patch_35\">\n",
       "    <path d=\"M 228.294034 239.758125 \n",
       "L 233.366761 239.758125 \n",
       "L 233.366761 239.758125 \n",
       "L 228.294034 239.758125 \n",
       "z\n",
       "\" clip-path=\"url(#paa1361496c)\" style=\"fill: #1f77b4\"/>\n",
       "   </g>\n",
       "   <g id=\"patch_36\">\n",
       "    <path d=\"M 233.366761 239.758125 \n",
       "L 238.439489 239.758125 \n",
       "L 238.439489 239.758125 \n",
       "L 233.366761 239.758125 \n",
       "z\n",
       "\" clip-path=\"url(#paa1361496c)\" style=\"fill: #1f77b4\"/>\n",
       "   </g>\n",
       "   <g id=\"patch_37\">\n",
       "    <path d=\"M 238.439489 239.758125 \n",
       "L 243.512216 239.758125 \n",
       "L 243.512216 239.758125 \n",
       "L 238.439489 239.758125 \n",
       "z\n",
       "\" clip-path=\"url(#paa1361496c)\" style=\"fill: #1f77b4\"/>\n",
       "   </g>\n",
       "   <g id=\"patch_38\">\n",
       "    <path d=\"M 243.512216 239.758125 \n",
       "L 248.584943 239.758125 \n",
       "L 248.584943 239.758125 \n",
       "L 243.512216 239.758125 \n",
       "z\n",
       "\" clip-path=\"url(#paa1361496c)\" style=\"fill: #1f77b4\"/>\n",
       "   </g>\n",
       "   <g id=\"patch_39\">\n",
       "    <path d=\"M 248.584943 239.758125 \n",
       "L 253.65767 239.758125 \n",
       "L 253.65767 239.758125 \n",
       "L 248.584943 239.758125 \n",
       "z\n",
       "\" clip-path=\"url(#paa1361496c)\" style=\"fill: #1f77b4\"/>\n",
       "   </g>\n",
       "   <g id=\"patch_40\">\n",
       "    <path d=\"M 253.65767 239.758125 \n",
       "L 258.730398 239.758125 \n",
       "L 258.730398 239.758125 \n",
       "L 253.65767 239.758125 \n",
       "z\n",
       "\" clip-path=\"url(#paa1361496c)\" style=\"fill: #1f77b4\"/>\n",
       "   </g>\n",
       "   <g id=\"patch_41\">\n",
       "    <path d=\"M 258.730398 239.758125 \n",
       "L 263.803125 239.758125 \n",
       "L 263.803125 239.758125 \n",
       "L 258.730398 239.758125 \n",
       "z\n",
       "\" clip-path=\"url(#paa1361496c)\" style=\"fill: #1f77b4\"/>\n",
       "   </g>\n",
       "   <g id=\"patch_42\">\n",
       "    <path d=\"M 263.803125 239.758125 \n",
       "L 268.875852 239.758125 \n",
       "L 268.875852 239.758125 \n",
       "L 263.803125 239.758125 \n",
       "z\n",
       "\" clip-path=\"url(#paa1361496c)\" style=\"fill: #1f77b4\"/>\n",
       "   </g>\n",
       "   <g id=\"patch_43\">\n",
       "    <path d=\"M 268.875852 239.758125 \n",
       "L 273.94858 239.758125 \n",
       "L 273.94858 239.758125 \n",
       "L 268.875852 239.758125 \n",
       "z\n",
       "\" clip-path=\"url(#paa1361496c)\" style=\"fill: #1f77b4\"/>\n",
       "   </g>\n",
       "   <g id=\"patch_44\">\n",
       "    <path d=\"M 273.94858 239.758125 \n",
       "L 279.021307 239.758125 \n",
       "L 279.021307 239.758125 \n",
       "L 273.94858 239.758125 \n",
       "z\n",
       "\" clip-path=\"url(#paa1361496c)\" style=\"fill: #1f77b4\"/>\n",
       "   </g>\n",
       "   <g id=\"patch_45\">\n",
       "    <path d=\"M 279.021307 239.758125 \n",
       "L 284.094034 239.758125 \n",
       "L 284.094034 239.758125 \n",
       "L 279.021307 239.758125 \n",
       "z\n",
       "\" clip-path=\"url(#paa1361496c)\" style=\"fill: #1f77b4\"/>\n",
       "   </g>\n",
       "   <g id=\"patch_46\">\n",
       "    <path d=\"M 284.094034 239.758125 \n",
       "L 289.166761 239.758125 \n",
       "L 289.166761 219.049554 \n",
       "L 284.094034 219.049554 \n",
       "z\n",
       "\" clip-path=\"url(#paa1361496c)\" style=\"fill: #1f77b4\"/>\n",
       "   </g>\n",
       "   <g id=\"patch_47\">\n",
       "    <path d=\"M 289.166761 239.758125 \n",
       "L 294.239489 239.758125 \n",
       "L 294.239489 239.758125 \n",
       "L 289.166761 239.758125 \n",
       "z\n",
       "\" clip-path=\"url(#paa1361496c)\" style=\"fill: #1f77b4\"/>\n",
       "   </g>\n",
       "   <g id=\"patch_48\">\n",
       "    <path d=\"M 294.239489 239.758125 \n",
       "L 299.312216 239.758125 \n",
       "L 299.312216 239.758125 \n",
       "L 294.239489 239.758125 \n",
       "z\n",
       "\" clip-path=\"url(#paa1361496c)\" style=\"fill: #1f77b4\"/>\n",
       "   </g>\n",
       "   <g id=\"patch_49\">\n",
       "    <path d=\"M 299.312216 239.758125 \n",
       "L 304.384943 239.758125 \n",
       "L 304.384943 177.632411 \n",
       "L 299.312216 177.632411 \n",
       "z\n",
       "\" clip-path=\"url(#paa1361496c)\" style=\"fill: #1f77b4\"/>\n",
       "   </g>\n",
       "   <g id=\"patch_50\">\n",
       "    <path d=\"M 304.384943 239.758125 \n",
       "L 309.45767 239.758125 \n",
       "L 309.45767 239.758125 \n",
       "L 304.384943 239.758125 \n",
       "z\n",
       "\" clip-path=\"url(#paa1361496c)\" style=\"fill: #1f77b4\"/>\n",
       "   </g>\n",
       "   <g id=\"patch_51\">\n",
       "    <path d=\"M 309.45767 239.758125 \n",
       "L 314.530398 239.758125 \n",
       "L 314.530398 219.049554 \n",
       "L 309.45767 219.049554 \n",
       "z\n",
       "\" clip-path=\"url(#paa1361496c)\" style=\"fill: #1f77b4\"/>\n",
       "   </g>\n",
       "   <g id=\"patch_52\">\n",
       "    <path d=\"M 314.530398 239.758125 \n",
       "L 319.603125 239.758125 \n",
       "L 319.603125 239.758125 \n",
       "L 314.530398 239.758125 \n",
       "z\n",
       "\" clip-path=\"url(#paa1361496c)\" style=\"fill: #1f77b4\"/>\n",
       "   </g>\n",
       "   <g id=\"patch_53\">\n",
       "    <path d=\"M 319.603125 239.758125 \n",
       "L 324.675852 239.758125 \n",
       "L 324.675852 219.049554 \n",
       "L 319.603125 219.049554 \n",
       "z\n",
       "\" clip-path=\"url(#paa1361496c)\" style=\"fill: #1f77b4\"/>\n",
       "   </g>\n",
       "   <g id=\"patch_54\">\n",
       "    <path d=\"M 324.675852 239.758125 \n",
       "L 329.74858 239.758125 \n",
       "L 329.74858 239.758125 \n",
       "L 324.675852 239.758125 \n",
       "z\n",
       "\" clip-path=\"url(#paa1361496c)\" style=\"fill: #1f77b4\"/>\n",
       "   </g>\n",
       "   <g id=\"patch_55\">\n",
       "    <path d=\"M 329.74858 239.758125 \n",
       "L 334.821307 239.758125 \n",
       "L 334.821307 239.758125 \n",
       "L 329.74858 239.758125 \n",
       "z\n",
       "\" clip-path=\"url(#paa1361496c)\" style=\"fill: #1f77b4\"/>\n",
       "   </g>\n",
       "   <g id=\"patch_56\">\n",
       "    <path d=\"M 334.821307 239.758125 \n",
       "L 339.894034 239.758125 \n",
       "L 339.894034 239.758125 \n",
       "L 334.821307 239.758125 \n",
       "z\n",
       "\" clip-path=\"url(#paa1361496c)\" style=\"fill: #1f77b4\"/>\n",
       "   </g>\n",
       "   <g id=\"patch_57\">\n",
       "    <path d=\"M 339.894034 239.758125 \n",
       "L 344.966761 239.758125 \n",
       "L 344.966761 239.758125 \n",
       "L 339.894034 239.758125 \n",
       "z\n",
       "\" clip-path=\"url(#paa1361496c)\" style=\"fill: #1f77b4\"/>\n",
       "   </g>\n",
       "   <g id=\"patch_58\">\n",
       "    <path d=\"M 344.966761 239.758125 \n",
       "L 350.039489 239.758125 \n",
       "L 350.039489 239.758125 \n",
       "L 344.966761 239.758125 \n",
       "z\n",
       "\" clip-path=\"url(#paa1361496c)\" style=\"fill: #1f77b4\"/>\n",
       "   </g>\n",
       "   <g id=\"patch_59\">\n",
       "    <path d=\"M 350.039489 239.758125 \n",
       "L 355.112216 239.758125 \n",
       "L 355.112216 239.758125 \n",
       "L 350.039489 239.758125 \n",
       "z\n",
       "\" clip-path=\"url(#paa1361496c)\" style=\"fill: #1f77b4\"/>\n",
       "   </g>\n",
       "   <g id=\"patch_60\">\n",
       "    <path d=\"M 355.112216 239.758125 \n",
       "L 360.184943 239.758125 \n",
       "L 360.184943 239.758125 \n",
       "L 355.112216 239.758125 \n",
       "z\n",
       "\" clip-path=\"url(#paa1361496c)\" style=\"fill: #1f77b4\"/>\n",
       "   </g>\n",
       "   <g id=\"patch_61\">\n",
       "    <path d=\"M 360.184943 239.758125 \n",
       "L 365.25767 239.758125 \n",
       "L 365.25767 239.758125 \n",
       "L 360.184943 239.758125 \n",
       "z\n",
       "\" clip-path=\"url(#paa1361496c)\" style=\"fill: #1f77b4\"/>\n",
       "   </g>\n",
       "   <g id=\"patch_62\">\n",
       "    <path d=\"M 365.25767 239.758125 \n",
       "L 370.330398 239.758125 \n",
       "L 370.330398 239.758125 \n",
       "L 365.25767 239.758125 \n",
       "z\n",
       "\" clip-path=\"url(#paa1361496c)\" style=\"fill: #1f77b4\"/>\n",
       "   </g>\n",
       "   <g id=\"patch_63\">\n",
       "    <path d=\"M 370.330398 239.758125 \n",
       "L 375.403125 239.758125 \n",
       "L 375.403125 239.758125 \n",
       "L 370.330398 239.758125 \n",
       "z\n",
       "\" clip-path=\"url(#paa1361496c)\" style=\"fill: #1f77b4\"/>\n",
       "   </g>\n",
       "   <g id=\"patch_64\">\n",
       "    <path d=\"M 375.403125 239.758125 \n",
       "L 380.475852 239.758125 \n",
       "L 380.475852 239.758125 \n",
       "L 375.403125 239.758125 \n",
       "z\n",
       "\" clip-path=\"url(#paa1361496c)\" style=\"fill: #1f77b4\"/>\n",
       "   </g>\n",
       "   <g id=\"patch_65\">\n",
       "    <path d=\"M 380.475852 239.758125 \n",
       "L 385.54858 239.758125 \n",
       "L 385.54858 239.758125 \n",
       "L 380.475852 239.758125 \n",
       "z\n",
       "\" clip-path=\"url(#paa1361496c)\" style=\"fill: #1f77b4\"/>\n",
       "   </g>\n",
       "   <g id=\"patch_66\">\n",
       "    <path d=\"M 385.54858 239.758125 \n",
       "L 390.621307 239.758125 \n",
       "L 390.621307 239.758125 \n",
       "L 385.54858 239.758125 \n",
       "z\n",
       "\" clip-path=\"url(#paa1361496c)\" style=\"fill: #1f77b4\"/>\n",
       "   </g>\n",
       "   <g id=\"patch_67\">\n",
       "    <path d=\"M 390.621307 239.758125 \n",
       "L 395.694034 239.758125 \n",
       "L 395.694034 239.758125 \n",
       "L 390.621307 239.758125 \n",
       "z\n",
       "\" clip-path=\"url(#paa1361496c)\" style=\"fill: #1f77b4\"/>\n",
       "   </g>\n",
       "   <g id=\"patch_68\">\n",
       "    <path d=\"M 395.694034 239.758125 \n",
       "L 400.766761 239.758125 \n",
       "L 400.766761 239.758125 \n",
       "L 395.694034 239.758125 \n",
       "z\n",
       "\" clip-path=\"url(#paa1361496c)\" style=\"fill: #1f77b4\"/>\n",
       "   </g>\n",
       "   <g id=\"patch_69\">\n",
       "    <path d=\"M 400.766761 239.758125 \n",
       "L 405.839489 239.758125 \n",
       "L 405.839489 239.758125 \n",
       "L 400.766761 239.758125 \n",
       "z\n",
       "\" clip-path=\"url(#paa1361496c)\" style=\"fill: #1f77b4\"/>\n",
       "   </g>\n",
       "   <g id=\"patch_70\">\n",
       "    <path d=\"M 405.839489 239.758125 \n",
       "L 410.912216 239.758125 \n",
       "L 410.912216 239.758125 \n",
       "L 405.839489 239.758125 \n",
       "z\n",
       "\" clip-path=\"url(#paa1361496c)\" style=\"fill: #1f77b4\"/>\n",
       "   </g>\n",
       "   <g id=\"patch_71\">\n",
       "    <path d=\"M 410.912216 239.758125 \n",
       "L 415.984943 239.758125 \n",
       "L 415.984943 239.758125 \n",
       "L 410.912216 239.758125 \n",
       "z\n",
       "\" clip-path=\"url(#paa1361496c)\" style=\"fill: #1f77b4\"/>\n",
       "   </g>\n",
       "   <g id=\"patch_72\">\n",
       "    <path d=\"M 415.984943 239.758125 \n",
       "L 421.05767 239.758125 \n",
       "L 421.05767 239.758125 \n",
       "L 415.984943 239.758125 \n",
       "z\n",
       "\" clip-path=\"url(#paa1361496c)\" style=\"fill: #1f77b4\"/>\n",
       "   </g>\n",
       "   <g id=\"patch_73\">\n",
       "    <path d=\"M 421.05767 239.758125 \n",
       "L 426.130398 239.758125 \n",
       "L 426.130398 239.758125 \n",
       "L 421.05767 239.758125 \n",
       "z\n",
       "\" clip-path=\"url(#paa1361496c)\" style=\"fill: #1f77b4\"/>\n",
       "   </g>\n",
       "   <g id=\"patch_74\">\n",
       "    <path d=\"M 426.130398 239.758125 \n",
       "L 431.203125 239.758125 \n",
       "L 431.203125 239.758125 \n",
       "L 426.130398 239.758125 \n",
       "z\n",
       "\" clip-path=\"url(#paa1361496c)\" style=\"fill: #1f77b4\"/>\n",
       "   </g>\n",
       "   <g id=\"patch_75\">\n",
       "    <path d=\"M 431.203125 239.758125 \n",
       "L 436.275852 239.758125 \n",
       "L 436.275852 239.758125 \n",
       "L 431.203125 239.758125 \n",
       "z\n",
       "\" clip-path=\"url(#paa1361496c)\" style=\"fill: #1f77b4\"/>\n",
       "   </g>\n",
       "   <g id=\"patch_76\">\n",
       "    <path d=\"M 436.275852 239.758125 \n",
       "L 441.34858 239.758125 \n",
       "L 441.34858 219.049554 \n",
       "L 436.275852 219.049554 \n",
       "z\n",
       "\" clip-path=\"url(#paa1361496c)\" style=\"fill: #1f77b4\"/>\n",
       "   </g>\n",
       "   <g id=\"patch_77\">\n",
       "    <path d=\"M 441.34858 239.758125 \n",
       "L 446.421307 239.758125 \n",
       "L 446.421307 239.758125 \n",
       "L 441.34858 239.758125 \n",
       "z\n",
       "\" clip-path=\"url(#paa1361496c)\" style=\"fill: #1f77b4\"/>\n",
       "   </g>\n",
       "   <g id=\"patch_78\">\n",
       "    <path d=\"M 446.421307 239.758125 \n",
       "L 451.494034 239.758125 \n",
       "L 451.494034 239.758125 \n",
       "L 446.421307 239.758125 \n",
       "z\n",
       "\" clip-path=\"url(#paa1361496c)\" style=\"fill: #1f77b4\"/>\n",
       "   </g>\n",
       "   <g id=\"patch_79\">\n",
       "    <path d=\"M 451.494034 239.758125 \n",
       "L 456.566761 239.758125 \n",
       "L 456.566761 239.758125 \n",
       "L 451.494034 239.758125 \n",
       "z\n",
       "\" clip-path=\"url(#paa1361496c)\" style=\"fill: #1f77b4\"/>\n",
       "   </g>\n",
       "   <g id=\"patch_80\">\n",
       "    <path d=\"M 456.566761 239.758125 \n",
       "L 461.639489 239.758125 \n",
       "L 461.639489 239.758125 \n",
       "L 456.566761 239.758125 \n",
       "z\n",
       "\" clip-path=\"url(#paa1361496c)\" style=\"fill: #1f77b4\"/>\n",
       "   </g>\n",
       "   <g id=\"patch_81\">\n",
       "    <path d=\"M 461.639489 239.758125 \n",
       "L 466.712216 239.758125 \n",
       "L 466.712216 239.758125 \n",
       "L 461.639489 239.758125 \n",
       "z\n",
       "\" clip-path=\"url(#paa1361496c)\" style=\"fill: #1f77b4\"/>\n",
       "   </g>\n",
       "   <g id=\"patch_82\">\n",
       "    <path d=\"M 466.712216 239.758125 \n",
       "L 471.784943 239.758125 \n",
       "L 471.784943 239.758125 \n",
       "L 466.712216 239.758125 \n",
       "z\n",
       "\" clip-path=\"url(#paa1361496c)\" style=\"fill: #1f77b4\"/>\n",
       "   </g>\n",
       "   <g id=\"patch_83\">\n",
       "    <path d=\"M 471.784943 239.758125 \n",
       "L 476.85767 239.758125 \n",
       "L 476.85767 239.758125 \n",
       "L 471.784943 239.758125 \n",
       "z\n",
       "\" clip-path=\"url(#paa1361496c)\" style=\"fill: #1f77b4\"/>\n",
       "   </g>\n",
       "   <g id=\"patch_84\">\n",
       "    <path d=\"M 476.85767 239.758125 \n",
       "L 481.930398 239.758125 \n",
       "L 481.930398 219.049554 \n",
       "L 476.85767 219.049554 \n",
       "z\n",
       "\" clip-path=\"url(#paa1361496c)\" style=\"fill: #1f77b4\"/>\n",
       "   </g>\n",
       "   <g id=\"patch_85\">\n",
       "    <path d=\"M 481.930398 239.758125 \n",
       "L 487.003125 239.758125 \n",
       "L 487.003125 239.758125 \n",
       "L 481.930398 239.758125 \n",
       "z\n",
       "\" clip-path=\"url(#paa1361496c)\" style=\"fill: #1f77b4\"/>\n",
       "   </g>\n",
       "   <g id=\"patch_86\">\n",
       "    <path d=\"M 487.003125 239.758125 \n",
       "L 492.075852 239.758125 \n",
       "L 492.075852 219.049554 \n",
       "L 487.003125 219.049554 \n",
       "z\n",
       "\" clip-path=\"url(#paa1361496c)\" style=\"fill: #1f77b4\"/>\n",
       "   </g>\n",
       "   <g id=\"patch_87\">\n",
       "    <path d=\"M 492.075852 239.758125 \n",
       "L 497.14858 239.758125 \n",
       "L 497.14858 219.049554 \n",
       "L 492.075852 219.049554 \n",
       "z\n",
       "\" clip-path=\"url(#paa1361496c)\" style=\"fill: #1f77b4\"/>\n",
       "   </g>\n",
       "   <g id=\"patch_88\">\n",
       "    <path d=\"M 497.14858 239.758125 \n",
       "L 502.221307 239.758125 \n",
       "L 502.221307 136.215268 \n",
       "L 497.14858 136.215268 \n",
       "z\n",
       "\" clip-path=\"url(#paa1361496c)\" style=\"fill: #1f77b4\"/>\n",
       "   </g>\n",
       "   <g id=\"patch_89\">\n",
       "    <path d=\"M 502.221307 239.758125 \n",
       "L 507.294034 239.758125 \n",
       "L 507.294034 156.923839 \n",
       "L 502.221307 156.923839 \n",
       "z\n",
       "\" clip-path=\"url(#paa1361496c)\" style=\"fill: #1f77b4\"/>\n",
       "   </g>\n",
       "   <g id=\"patch_90\">\n",
       "    <path d=\"M 507.294034 239.758125 \n",
       "L 512.366761 239.758125 \n",
       "L 512.366761 115.506696 \n",
       "L 507.294034 115.506696 \n",
       "z\n",
       "\" clip-path=\"url(#paa1361496c)\" style=\"fill: #1f77b4\"/>\n",
       "   </g>\n",
       "   <g id=\"patch_91\">\n",
       "    <path d=\"M 512.366761 239.758125 \n",
       "L 517.439489 239.758125 \n",
       "L 517.439489 115.506696 \n",
       "L 512.366761 115.506696 \n",
       "z\n",
       "\" clip-path=\"url(#paa1361496c)\" style=\"fill: #1f77b4\"/>\n",
       "   </g>\n",
       "   <g id=\"patch_92\">\n",
       "    <path d=\"M 517.439489 239.758125 \n",
       "L 522.512216 239.758125 \n",
       "L 522.512216 94.798125 \n",
       "L 517.439489 94.798125 \n",
       "z\n",
       "\" clip-path=\"url(#paa1361496c)\" style=\"fill: #1f77b4\"/>\n",
       "   </g>\n",
       "   <g id=\"patch_93\">\n",
       "    <path d=\"M 522.512216 239.758125 \n",
       "L 527.584943 239.758125 \n",
       "L 527.584943 136.215268 \n",
       "L 522.512216 136.215268 \n",
       "z\n",
       "\" clip-path=\"url(#paa1361496c)\" style=\"fill: #1f77b4\"/>\n",
       "   </g>\n",
       "   <g id=\"patch_94\">\n",
       "    <path d=\"M 527.584943 239.758125 \n",
       "L 532.65767 239.758125 \n",
       "L 532.65767 74.089554 \n",
       "L 527.584943 74.089554 \n",
       "z\n",
       "\" clip-path=\"url(#paa1361496c)\" style=\"fill: #1f77b4\"/>\n",
       "   </g>\n",
       "   <g id=\"patch_95\">\n",
       "    <path d=\"M 532.65767 239.758125 \n",
       "L 537.730398 239.758125 \n",
       "L 537.730398 32.672411 \n",
       "L 532.65767 32.672411 \n",
       "z\n",
       "\" clip-path=\"url(#paa1361496c)\" style=\"fill: #1f77b4\"/>\n",
       "   </g>\n",
       "   <g id=\"patch_96\">\n",
       "    <path d=\"M 537.730398 239.758125 \n",
       "L 542.803125 239.758125 \n",
       "L 542.803125 53.380982 \n",
       "L 537.730398 53.380982 \n",
       "z\n",
       "\" clip-path=\"url(#paa1361496c)\" style=\"fill: #1f77b4\"/>\n",
       "   </g>\n",
       "   <g id=\"patch_97\">\n",
       "    <path d=\"M 542.803125 239.758125 \n",
       "L 547.875852 239.758125 \n",
       "L 547.875852 156.923839 \n",
       "L 542.803125 156.923839 \n",
       "z\n",
       "\" clip-path=\"url(#paa1361496c)\" style=\"fill: #1f77b4\"/>\n",
       "   </g>\n",
       "   <g id=\"patch_98\">\n",
       "    <path d=\"M 547.875852 239.758125 \n",
       "L 552.94858 239.758125 \n",
       "L 552.94858 177.632411 \n",
       "L 547.875852 177.632411 \n",
       "z\n",
       "\" clip-path=\"url(#paa1361496c)\" style=\"fill: #1f77b4\"/>\n",
       "   </g>\n",
       "   <g id=\"patch_99\">\n",
       "    <path d=\"M 552.94858 239.758125 \n",
       "L 558.021307 239.758125 \n",
       "L 558.021307 32.672411 \n",
       "L 552.94858 32.672411 \n",
       "z\n",
       "\" clip-path=\"url(#paa1361496c)\" style=\"fill: #1f77b4\"/>\n",
       "   </g>\n",
       "   <g id=\"patch_100\">\n",
       "    <path d=\"M 558.021307 239.758125 \n",
       "L 563.094034 239.758125 \n",
       "L 563.094034 198.340982 \n",
       "L 558.021307 198.340982 \n",
       "z\n",
       "\" clip-path=\"url(#paa1361496c)\" style=\"fill: #1f77b4\"/>\n",
       "   </g>\n",
       "   <g id=\"patch_101\">\n",
       "    <path d=\"M 563.094034 239.758125 \n",
       "L 568.166761 239.758125 \n",
       "L 568.166761 136.215268 \n",
       "L 563.094034 136.215268 \n",
       "z\n",
       "\" clip-path=\"url(#paa1361496c)\" style=\"fill: #1f77b4\"/>\n",
       "   </g>\n",
       "   <g id=\"patch_102\">\n",
       "    <path d=\"M 568.166761 239.758125 \n",
       "L 573.239489 239.758125 \n",
       "L 573.239489 156.923839 \n",
       "L 568.166761 156.923839 \n",
       "z\n",
       "\" clip-path=\"url(#paa1361496c)\" style=\"fill: #1f77b4\"/>\n",
       "   </g>\n",
       "   <g id=\"matplotlib.axis_1\">\n",
       "    <g id=\"xtick_1\">\n",
       "     <g id=\"line2d_1\">\n",
       "      <defs>\n",
       "       <path id=\"m3503861fcd\" d=\"M 0 0 \n",
       "L 0 3.5 \n",
       "\" style=\"stroke: #000000; stroke-width: 0.8\"/>\n",
       "      </defs>\n",
       "      <g>\n",
       "       <use xlink:href=\"#m3503861fcd\" x=\"53.929344\" y=\"239.758125\" style=\"stroke: #000000; stroke-width: 0.8\"/>\n",
       "      </g>\n",
       "     </g>\n",
       "     <g id=\"text_1\">\n",
       "      <!-- −200 -->\n",
       "      <g transform=\"translate(40.19575 254.356563)scale(0.1 -0.1)\">\n",
       "       <defs>\n",
       "        <path id=\"DejaVuSans-2212\" d=\"M 678 2272 \n",
       "L 4684 2272 \n",
       "L 4684 1741 \n",
       "L 678 1741 \n",
       "L 678 2272 \n",
       "z\n",
       "\" transform=\"scale(0.015625)\"/>\n",
       "        <path id=\"DejaVuSans-32\" d=\"M 1228 531 \n",
       "L 3431 531 \n",
       "L 3431 0 \n",
       "L 469 0 \n",
       "L 469 531 \n",
       "Q 828 903 1448 1529 \n",
       "Q 2069 2156 2228 2338 \n",
       "Q 2531 2678 2651 2914 \n",
       "Q 2772 3150 2772 3378 \n",
       "Q 2772 3750 2511 3984 \n",
       "Q 2250 4219 1831 4219 \n",
       "Q 1534 4219 1204 4116 \n",
       "Q 875 4013 500 3803 \n",
       "L 500 4441 \n",
       "Q 881 4594 1212 4672 \n",
       "Q 1544 4750 1819 4750 \n",
       "Q 2544 4750 2975 4387 \n",
       "Q 3406 4025 3406 3419 \n",
       "Q 3406 3131 3298 2873 \n",
       "Q 3191 2616 2906 2266 \n",
       "Q 2828 2175 2409 1742 \n",
       "Q 1991 1309 1228 531 \n",
       "z\n",
       "\" transform=\"scale(0.015625)\"/>\n",
       "        <path id=\"DejaVuSans-30\" d=\"M 2034 4250 \n",
       "Q 1547 4250 1301 3770 \n",
       "Q 1056 3291 1056 2328 \n",
       "Q 1056 1369 1301 889 \n",
       "Q 1547 409 2034 409 \n",
       "Q 2525 409 2770 889 \n",
       "Q 3016 1369 3016 2328 \n",
       "Q 3016 3291 2770 3770 \n",
       "Q 2525 4250 2034 4250 \n",
       "z\n",
       "M 2034 4750 \n",
       "Q 2819 4750 3233 4129 \n",
       "Q 3647 3509 3647 2328 \n",
       "Q 3647 1150 3233 529 \n",
       "Q 2819 -91 2034 -91 \n",
       "Q 1250 -91 836 529 \n",
       "Q 422 1150 422 2328 \n",
       "Q 422 3509 836 4129 \n",
       "Q 1250 4750 2034 4750 \n",
       "z\n",
       "\" transform=\"scale(0.015625)\"/>\n",
       "       </defs>\n",
       "       <use xlink:href=\"#DejaVuSans-2212\"/>\n",
       "       <use xlink:href=\"#DejaVuSans-32\" x=\"83.789062\"/>\n",
       "       <use xlink:href=\"#DejaVuSans-30\" x=\"147.412109\"/>\n",
       "       <use xlink:href=\"#DejaVuSans-30\" x=\"211.035156\"/>\n",
       "      </g>\n",
       "     </g>\n",
       "    </g>\n",
       "    <g id=\"xtick_2\">\n",
       "     <g id=\"line2d_2\">\n",
       "      <g>\n",
       "       <use xlink:href=\"#m3503861fcd\" x=\"158.484983\" y=\"239.758125\" style=\"stroke: #000000; stroke-width: 0.8\"/>\n",
       "      </g>\n",
       "     </g>\n",
       "     <g id=\"text_2\">\n",
       "      <!-- −100 -->\n",
       "      <g transform=\"translate(144.751389 254.356563)scale(0.1 -0.1)\">\n",
       "       <defs>\n",
       "        <path id=\"DejaVuSans-31\" d=\"M 794 531 \n",
       "L 1825 531 \n",
       "L 1825 4091 \n",
       "L 703 3866 \n",
       "L 703 4441 \n",
       "L 1819 4666 \n",
       "L 2450 4666 \n",
       "L 2450 531 \n",
       "L 3481 531 \n",
       "L 3481 0 \n",
       "L 794 0 \n",
       "L 794 531 \n",
       "z\n",
       "\" transform=\"scale(0.015625)\"/>\n",
       "       </defs>\n",
       "       <use xlink:href=\"#DejaVuSans-2212\"/>\n",
       "       <use xlink:href=\"#DejaVuSans-31\" x=\"83.789062\"/>\n",
       "       <use xlink:href=\"#DejaVuSans-30\" x=\"147.412109\"/>\n",
       "       <use xlink:href=\"#DejaVuSans-30\" x=\"211.035156\"/>\n",
       "      </g>\n",
       "     </g>\n",
       "    </g>\n",
       "    <g id=\"xtick_3\">\n",
       "     <g id=\"line2d_3\">\n",
       "      <g>\n",
       "       <use xlink:href=\"#m3503861fcd\" x=\"263.040622\" y=\"239.758125\" style=\"stroke: #000000; stroke-width: 0.8\"/>\n",
       "      </g>\n",
       "     </g>\n",
       "     <g id=\"text_3\">\n",
       "      <!-- 0 -->\n",
       "      <g transform=\"translate(259.859372 254.356563)scale(0.1 -0.1)\">\n",
       "       <use xlink:href=\"#DejaVuSans-30\"/>\n",
       "      </g>\n",
       "     </g>\n",
       "    </g>\n",
       "    <g id=\"xtick_4\">\n",
       "     <g id=\"line2d_4\">\n",
       "      <g>\n",
       "       <use xlink:href=\"#m3503861fcd\" x=\"367.596261\" y=\"239.758125\" style=\"stroke: #000000; stroke-width: 0.8\"/>\n",
       "      </g>\n",
       "     </g>\n",
       "     <g id=\"text_4\">\n",
       "      <!-- 100 -->\n",
       "      <g transform=\"translate(358.052511 254.356563)scale(0.1 -0.1)\">\n",
       "       <use xlink:href=\"#DejaVuSans-31\"/>\n",
       "       <use xlink:href=\"#DejaVuSans-30\" x=\"63.623047\"/>\n",
       "       <use xlink:href=\"#DejaVuSans-30\" x=\"127.246094\"/>\n",
       "      </g>\n",
       "     </g>\n",
       "    </g>\n",
       "    <g id=\"xtick_5\">\n",
       "     <g id=\"line2d_5\">\n",
       "      <g>\n",
       "       <use xlink:href=\"#m3503861fcd\" x=\"472.151901\" y=\"239.758125\" style=\"stroke: #000000; stroke-width: 0.8\"/>\n",
       "      </g>\n",
       "     </g>\n",
       "     <g id=\"text_5\">\n",
       "      <!-- 200 -->\n",
       "      <g transform=\"translate(462.608151 254.356563)scale(0.1 -0.1)\">\n",
       "       <use xlink:href=\"#DejaVuSans-32\"/>\n",
       "       <use xlink:href=\"#DejaVuSans-30\" x=\"63.623047\"/>\n",
       "       <use xlink:href=\"#DejaVuSans-30\" x=\"127.246094\"/>\n",
       "      </g>\n",
       "     </g>\n",
       "    </g>\n",
       "    <g id=\"xtick_6\">\n",
       "     <g id=\"line2d_6\">\n",
       "      <g>\n",
       "       <use xlink:href=\"#m3503861fcd\" x=\"576.70754\" y=\"239.758125\" style=\"stroke: #000000; stroke-width: 0.8\"/>\n",
       "      </g>\n",
       "     </g>\n",
       "     <g id=\"text_6\">\n",
       "      <!-- 300 -->\n",
       "      <g transform=\"translate(567.16379 254.356563)scale(0.1 -0.1)\">\n",
       "       <defs>\n",
       "        <path id=\"DejaVuSans-33\" d=\"M 2597 2516 \n",
       "Q 3050 2419 3304 2112 \n",
       "Q 3559 1806 3559 1356 \n",
       "Q 3559 666 3084 287 \n",
       "Q 2609 -91 1734 -91 \n",
       "Q 1441 -91 1130 -33 \n",
       "Q 819 25 488 141 \n",
       "L 488 750 \n",
       "Q 750 597 1062 519 \n",
       "Q 1375 441 1716 441 \n",
       "Q 2309 441 2620 675 \n",
       "Q 2931 909 2931 1356 \n",
       "Q 2931 1769 2642 2001 \n",
       "Q 2353 2234 1838 2234 \n",
       "L 1294 2234 \n",
       "L 1294 2753 \n",
       "L 1863 2753 \n",
       "Q 2328 2753 2575 2939 \n",
       "Q 2822 3125 2822 3475 \n",
       "Q 2822 3834 2567 4026 \n",
       "Q 2313 4219 1838 4219 \n",
       "Q 1578 4219 1281 4162 \n",
       "Q 984 4106 628 3988 \n",
       "L 628 4550 \n",
       "Q 988 4650 1302 4700 \n",
       "Q 1616 4750 1894 4750 \n",
       "Q 2613 4750 3031 4423 \n",
       "Q 3450 4097 3450 3541 \n",
       "Q 3450 3153 3228 2886 \n",
       "Q 3006 2619 2597 2516 \n",
       "z\n",
       "\" transform=\"scale(0.015625)\"/>\n",
       "       </defs>\n",
       "       <use xlink:href=\"#DejaVuSans-33\"/>\n",
       "       <use xlink:href=\"#DejaVuSans-30\" x=\"63.623047\"/>\n",
       "       <use xlink:href=\"#DejaVuSans-30\" x=\"127.246094\"/>\n",
       "      </g>\n",
       "     </g>\n",
       "    </g>\n",
       "   </g>\n",
       "   <g id=\"matplotlib.axis_2\">\n",
       "    <g id=\"ytick_1\">\n",
       "     <g id=\"line2d_7\">\n",
       "      <defs>\n",
       "       <path id=\"m488fbea116\" d=\"M 0 0 \n",
       "L -3.5 0 \n",
       "\" style=\"stroke: #000000; stroke-width: 0.8\"/>\n",
       "      </defs>\n",
       "      <g>\n",
       "       <use xlink:href=\"#m488fbea116\" x=\"40.603125\" y=\"239.758125\" style=\"stroke: #000000; stroke-width: 0.8\"/>\n",
       "      </g>\n",
       "     </g>\n",
       "     <g id=\"text_7\">\n",
       "      <!-- 0 -->\n",
       "      <g transform=\"translate(27.240625 243.557344)scale(0.1 -0.1)\">\n",
       "       <use xlink:href=\"#DejaVuSans-30\"/>\n",
       "      </g>\n",
       "     </g>\n",
       "    </g>\n",
       "    <g id=\"ytick_2\">\n",
       "     <g id=\"line2d_8\">\n",
       "      <g>\n",
       "       <use xlink:href=\"#m488fbea116\" x=\"40.603125\" y=\"198.340982\" style=\"stroke: #000000; stroke-width: 0.8\"/>\n",
       "      </g>\n",
       "     </g>\n",
       "     <g id=\"text_8\">\n",
       "      <!-- 2 -->\n",
       "      <g transform=\"translate(27.240625 202.140201)scale(0.1 -0.1)\">\n",
       "       <use xlink:href=\"#DejaVuSans-32\"/>\n",
       "      </g>\n",
       "     </g>\n",
       "    </g>\n",
       "    <g id=\"ytick_3\">\n",
       "     <g id=\"line2d_9\">\n",
       "      <g>\n",
       "       <use xlink:href=\"#m488fbea116\" x=\"40.603125\" y=\"156.923839\" style=\"stroke: #000000; stroke-width: 0.8\"/>\n",
       "      </g>\n",
       "     </g>\n",
       "     <g id=\"text_9\">\n",
       "      <!-- 4 -->\n",
       "      <g transform=\"translate(27.240625 160.723058)scale(0.1 -0.1)\">\n",
       "       <defs>\n",
       "        <path id=\"DejaVuSans-34\" d=\"M 2419 4116 \n",
       "L 825 1625 \n",
       "L 2419 1625 \n",
       "L 2419 4116 \n",
       "z\n",
       "M 2253 4666 \n",
       "L 3047 4666 \n",
       "L 3047 1625 \n",
       "L 3713 1625 \n",
       "L 3713 1100 \n",
       "L 3047 1100 \n",
       "L 3047 0 \n",
       "L 2419 0 \n",
       "L 2419 1100 \n",
       "L 313 1100 \n",
       "L 313 1709 \n",
       "L 2253 4666 \n",
       "z\n",
       "\" transform=\"scale(0.015625)\"/>\n",
       "       </defs>\n",
       "       <use xlink:href=\"#DejaVuSans-34\"/>\n",
       "      </g>\n",
       "     </g>\n",
       "    </g>\n",
       "    <g id=\"ytick_4\">\n",
       "     <g id=\"line2d_10\">\n",
       "      <g>\n",
       "       <use xlink:href=\"#m488fbea116\" x=\"40.603125\" y=\"115.506696\" style=\"stroke: #000000; stroke-width: 0.8\"/>\n",
       "      </g>\n",
       "     </g>\n",
       "     <g id=\"text_10\">\n",
       "      <!-- 6 -->\n",
       "      <g transform=\"translate(27.240625 119.305915)scale(0.1 -0.1)\">\n",
       "       <defs>\n",
       "        <path id=\"DejaVuSans-36\" d=\"M 2113 2584 \n",
       "Q 1688 2584 1439 2293 \n",
       "Q 1191 2003 1191 1497 \n",
       "Q 1191 994 1439 701 \n",
       "Q 1688 409 2113 409 \n",
       "Q 2538 409 2786 701 \n",
       "Q 3034 994 3034 1497 \n",
       "Q 3034 2003 2786 2293 \n",
       "Q 2538 2584 2113 2584 \n",
       "z\n",
       "M 3366 4563 \n",
       "L 3366 3988 \n",
       "Q 3128 4100 2886 4159 \n",
       "Q 2644 4219 2406 4219 \n",
       "Q 1781 4219 1451 3797 \n",
       "Q 1122 3375 1075 2522 \n",
       "Q 1259 2794 1537 2939 \n",
       "Q 1816 3084 2150 3084 \n",
       "Q 2853 3084 3261 2657 \n",
       "Q 3669 2231 3669 1497 \n",
       "Q 3669 778 3244 343 \n",
       "Q 2819 -91 2113 -91 \n",
       "Q 1303 -91 875 529 \n",
       "Q 447 1150 447 2328 \n",
       "Q 447 3434 972 4092 \n",
       "Q 1497 4750 2381 4750 \n",
       "Q 2619 4750 2861 4703 \n",
       "Q 3103 4656 3366 4563 \n",
       "z\n",
       "\" transform=\"scale(0.015625)\"/>\n",
       "       </defs>\n",
       "       <use xlink:href=\"#DejaVuSans-36\"/>\n",
       "      </g>\n",
       "     </g>\n",
       "    </g>\n",
       "    <g id=\"ytick_5\">\n",
       "     <g id=\"line2d_11\">\n",
       "      <g>\n",
       "       <use xlink:href=\"#m488fbea116\" x=\"40.603125\" y=\"74.089554\" style=\"stroke: #000000; stroke-width: 0.8\"/>\n",
       "      </g>\n",
       "     </g>\n",
       "     <g id=\"text_11\">\n",
       "      <!-- 8 -->\n",
       "      <g transform=\"translate(27.240625 77.888772)scale(0.1 -0.1)\">\n",
       "       <defs>\n",
       "        <path id=\"DejaVuSans-38\" d=\"M 2034 2216 \n",
       "Q 1584 2216 1326 1975 \n",
       "Q 1069 1734 1069 1313 \n",
       "Q 1069 891 1326 650 \n",
       "Q 1584 409 2034 409 \n",
       "Q 2484 409 2743 651 \n",
       "Q 3003 894 3003 1313 \n",
       "Q 3003 1734 2745 1975 \n",
       "Q 2488 2216 2034 2216 \n",
       "z\n",
       "M 1403 2484 \n",
       "Q 997 2584 770 2862 \n",
       "Q 544 3141 544 3541 \n",
       "Q 544 4100 942 4425 \n",
       "Q 1341 4750 2034 4750 \n",
       "Q 2731 4750 3128 4425 \n",
       "Q 3525 4100 3525 3541 \n",
       "Q 3525 3141 3298 2862 \n",
       "Q 3072 2584 2669 2484 \n",
       "Q 3125 2378 3379 2068 \n",
       "Q 3634 1759 3634 1313 \n",
       "Q 3634 634 3220 271 \n",
       "Q 2806 -91 2034 -91 \n",
       "Q 1263 -91 848 271 \n",
       "Q 434 634 434 1313 \n",
       "Q 434 1759 690 2068 \n",
       "Q 947 2378 1403 2484 \n",
       "z\n",
       "M 1172 3481 \n",
       "Q 1172 3119 1398 2916 \n",
       "Q 1625 2713 2034 2713 \n",
       "Q 2441 2713 2670 2916 \n",
       "Q 2900 3119 2900 3481 \n",
       "Q 2900 3844 2670 4047 \n",
       "Q 2441 4250 2034 4250 \n",
       "Q 1625 4250 1398 4047 \n",
       "Q 1172 3844 1172 3481 \n",
       "z\n",
       "\" transform=\"scale(0.015625)\"/>\n",
       "       </defs>\n",
       "       <use xlink:href=\"#DejaVuSans-38\"/>\n",
       "      </g>\n",
       "     </g>\n",
       "    </g>\n",
       "    <g id=\"ytick_6\">\n",
       "     <g id=\"line2d_12\">\n",
       "      <g>\n",
       "       <use xlink:href=\"#m488fbea116\" x=\"40.603125\" y=\"32.672411\" style=\"stroke: #000000; stroke-width: 0.8\"/>\n",
       "      </g>\n",
       "     </g>\n",
       "     <g id=\"text_12\">\n",
       "      <!-- 10 -->\n",
       "      <g transform=\"translate(20.878125 36.471629)scale(0.1 -0.1)\">\n",
       "       <use xlink:href=\"#DejaVuSans-31\"/>\n",
       "       <use xlink:href=\"#DejaVuSans-30\" x=\"63.623047\"/>\n",
       "      </g>\n",
       "     </g>\n",
       "    </g>\n",
       "    <g id=\"text_13\">\n",
       "     <!-- Frequency -->\n",
       "     <g transform=\"translate(14.798437 156.867813)rotate(-90)scale(0.1 -0.1)\">\n",
       "      <defs>\n",
       "       <path id=\"DejaVuSans-46\" d=\"M 628 4666 \n",
       "L 3309 4666 \n",
       "L 3309 4134 \n",
       "L 1259 4134 \n",
       "L 1259 2759 \n",
       "L 3109 2759 \n",
       "L 3109 2228 \n",
       "L 1259 2228 \n",
       "L 1259 0 \n",
       "L 628 0 \n",
       "L 628 4666 \n",
       "z\n",
       "\" transform=\"scale(0.015625)\"/>\n",
       "       <path id=\"DejaVuSans-72\" d=\"M 2631 2963 \n",
       "Q 2534 3019 2420 3045 \n",
       "Q 2306 3072 2169 3072 \n",
       "Q 1681 3072 1420 2755 \n",
       "Q 1159 2438 1159 1844 \n",
       "L 1159 0 \n",
       "L 581 0 \n",
       "L 581 3500 \n",
       "L 1159 3500 \n",
       "L 1159 2956 \n",
       "Q 1341 3275 1631 3429 \n",
       "Q 1922 3584 2338 3584 \n",
       "Q 2397 3584 2469 3576 \n",
       "Q 2541 3569 2628 3553 \n",
       "L 2631 2963 \n",
       "z\n",
       "\" transform=\"scale(0.015625)\"/>\n",
       "       <path id=\"DejaVuSans-65\" d=\"M 3597 1894 \n",
       "L 3597 1613 \n",
       "L 953 1613 \n",
       "Q 991 1019 1311 708 \n",
       "Q 1631 397 2203 397 \n",
       "Q 2534 397 2845 478 \n",
       "Q 3156 559 3463 722 \n",
       "L 3463 178 \n",
       "Q 3153 47 2828 -22 \n",
       "Q 2503 -91 2169 -91 \n",
       "Q 1331 -91 842 396 \n",
       "Q 353 884 353 1716 \n",
       "Q 353 2575 817 3079 \n",
       "Q 1281 3584 2069 3584 \n",
       "Q 2775 3584 3186 3129 \n",
       "Q 3597 2675 3597 1894 \n",
       "z\n",
       "M 3022 2063 \n",
       "Q 3016 2534 2758 2815 \n",
       "Q 2500 3097 2075 3097 \n",
       "Q 1594 3097 1305 2825 \n",
       "Q 1016 2553 972 2059 \n",
       "L 3022 2063 \n",
       "z\n",
       "\" transform=\"scale(0.015625)\"/>\n",
       "       <path id=\"DejaVuSans-71\" d=\"M 947 1747 \n",
       "Q 947 1113 1208 752 \n",
       "Q 1469 391 1925 391 \n",
       "Q 2381 391 2643 752 \n",
       "Q 2906 1113 2906 1747 \n",
       "Q 2906 2381 2643 2742 \n",
       "Q 2381 3103 1925 3103 \n",
       "Q 1469 3103 1208 2742 \n",
       "Q 947 2381 947 1747 \n",
       "z\n",
       "M 2906 525 \n",
       "Q 2725 213 2448 61 \n",
       "Q 2172 -91 1784 -91 \n",
       "Q 1150 -91 751 415 \n",
       "Q 353 922 353 1747 \n",
       "Q 353 2572 751 3078 \n",
       "Q 1150 3584 1784 3584 \n",
       "Q 2172 3584 2448 3432 \n",
       "Q 2725 3281 2906 2969 \n",
       "L 2906 3500 \n",
       "L 3481 3500 \n",
       "L 3481 -1331 \n",
       "L 2906 -1331 \n",
       "L 2906 525 \n",
       "z\n",
       "\" transform=\"scale(0.015625)\"/>\n",
       "       <path id=\"DejaVuSans-75\" d=\"M 544 1381 \n",
       "L 544 3500 \n",
       "L 1119 3500 \n",
       "L 1119 1403 \n",
       "Q 1119 906 1312 657 \n",
       "Q 1506 409 1894 409 \n",
       "Q 2359 409 2629 706 \n",
       "Q 2900 1003 2900 1516 \n",
       "L 2900 3500 \n",
       "L 3475 3500 \n",
       "L 3475 0 \n",
       "L 2900 0 \n",
       "L 2900 538 \n",
       "Q 2691 219 2414 64 \n",
       "Q 2138 -91 1772 -91 \n",
       "Q 1169 -91 856 284 \n",
       "Q 544 659 544 1381 \n",
       "z\n",
       "M 1991 3584 \n",
       "L 1991 3584 \n",
       "z\n",
       "\" transform=\"scale(0.015625)\"/>\n",
       "       <path id=\"DejaVuSans-6e\" d=\"M 3513 2113 \n",
       "L 3513 0 \n",
       "L 2938 0 \n",
       "L 2938 2094 \n",
       "Q 2938 2591 2744 2837 \n",
       "Q 2550 3084 2163 3084 \n",
       "Q 1697 3084 1428 2787 \n",
       "Q 1159 2491 1159 1978 \n",
       "L 1159 0 \n",
       "L 581 0 \n",
       "L 581 3500 \n",
       "L 1159 3500 \n",
       "L 1159 2956 \n",
       "Q 1366 3272 1645 3428 \n",
       "Q 1925 3584 2291 3584 \n",
       "Q 2894 3584 3203 3211 \n",
       "Q 3513 2838 3513 2113 \n",
       "z\n",
       "\" transform=\"scale(0.015625)\"/>\n",
       "       <path id=\"DejaVuSans-63\" d=\"M 3122 3366 \n",
       "L 3122 2828 \n",
       "Q 2878 2963 2633 3030 \n",
       "Q 2388 3097 2138 3097 \n",
       "Q 1578 3097 1268 2742 \n",
       "Q 959 2388 959 1747 \n",
       "Q 959 1106 1268 751 \n",
       "Q 1578 397 2138 397 \n",
       "Q 2388 397 2633 464 \n",
       "Q 2878 531 3122 666 \n",
       "L 3122 134 \n",
       "Q 2881 22 2623 -34 \n",
       "Q 2366 -91 2075 -91 \n",
       "Q 1284 -91 818 406 \n",
       "Q 353 903 353 1747 \n",
       "Q 353 2603 823 3093 \n",
       "Q 1294 3584 2113 3584 \n",
       "Q 2378 3584 2631 3529 \n",
       "Q 2884 3475 3122 3366 \n",
       "z\n",
       "\" transform=\"scale(0.015625)\"/>\n",
       "       <path id=\"DejaVuSans-79\" d=\"M 2059 -325 \n",
       "Q 1816 -950 1584 -1140 \n",
       "Q 1353 -1331 966 -1331 \n",
       "L 506 -1331 \n",
       "L 506 -850 \n",
       "L 844 -850 \n",
       "Q 1081 -850 1212 -737 \n",
       "Q 1344 -625 1503 -206 \n",
       "L 1606 56 \n",
       "L 191 3500 \n",
       "L 800 3500 \n",
       "L 1894 763 \n",
       "L 2988 3500 \n",
       "L 3597 3500 \n",
       "L 2059 -325 \n",
       "z\n",
       "\" transform=\"scale(0.015625)\"/>\n",
       "      </defs>\n",
       "      <use xlink:href=\"#DejaVuSans-46\"/>\n",
       "      <use xlink:href=\"#DejaVuSans-72\" x=\"50.269531\"/>\n",
       "      <use xlink:href=\"#DejaVuSans-65\" x=\"89.132812\"/>\n",
       "      <use xlink:href=\"#DejaVuSans-71\" x=\"150.65625\"/>\n",
       "      <use xlink:href=\"#DejaVuSans-75\" x=\"214.132812\"/>\n",
       "      <use xlink:href=\"#DejaVuSans-65\" x=\"277.511719\"/>\n",
       "      <use xlink:href=\"#DejaVuSans-6e\" x=\"339.035156\"/>\n",
       "      <use xlink:href=\"#DejaVuSans-63\" x=\"402.414062\"/>\n",
       "      <use xlink:href=\"#DejaVuSans-79\" x=\"457.394531\"/>\n",
       "     </g>\n",
       "    </g>\n",
       "   </g>\n",
       "   <g id=\"patch_103\">\n",
       "    <path d=\"M 40.603125 239.758125 \n",
       "L 40.603125 22.318125 \n",
       "\" style=\"fill: none; stroke: #000000; stroke-width: 0.8; stroke-linejoin: miter; stroke-linecap: square\"/>\n",
       "   </g>\n",
       "   <g id=\"patch_104\">\n",
       "    <path d=\"M 598.603125 239.758125 \n",
       "L 598.603125 22.318125 \n",
       "\" style=\"fill: none; stroke: #000000; stroke-width: 0.8; stroke-linejoin: miter; stroke-linecap: square\"/>\n",
       "   </g>\n",
       "   <g id=\"patch_105\">\n",
       "    <path d=\"M 40.603125 239.758125 \n",
       "L 598.603125 239.758125 \n",
       "\" style=\"fill: none; stroke: #000000; stroke-width: 0.8; stroke-linejoin: miter; stroke-linecap: square\"/>\n",
       "   </g>\n",
       "   <g id=\"patch_106\">\n",
       "    <path d=\"M 40.603125 22.318125 \n",
       "L 598.603125 22.318125 \n",
       "\" style=\"fill: none; stroke: #000000; stroke-width: 0.8; stroke-linejoin: miter; stroke-linecap: square\"/>\n",
       "   </g>\n",
       "   <g id=\"text_14\">\n",
       "    <!-- Rewards -->\n",
       "    <g transform=\"translate(294.132187 16.318125)scale(0.12 -0.12)\">\n",
       "     <defs>\n",
       "      <path id=\"DejaVuSans-52\" d=\"M 2841 2188 \n",
       "Q 3044 2119 3236 1894 \n",
       "Q 3428 1669 3622 1275 \n",
       "L 4263 0 \n",
       "L 3584 0 \n",
       "L 2988 1197 \n",
       "Q 2756 1666 2539 1819 \n",
       "Q 2322 1972 1947 1972 \n",
       "L 1259 1972 \n",
       "L 1259 0 \n",
       "L 628 0 \n",
       "L 628 4666 \n",
       "L 2053 4666 \n",
       "Q 2853 4666 3247 4331 \n",
       "Q 3641 3997 3641 3322 \n",
       "Q 3641 2881 3436 2590 \n",
       "Q 3231 2300 2841 2188 \n",
       "z\n",
       "M 1259 4147 \n",
       "L 1259 2491 \n",
       "L 2053 2491 \n",
       "Q 2509 2491 2742 2702 \n",
       "Q 2975 2913 2975 3322 \n",
       "Q 2975 3731 2742 3939 \n",
       "Q 2509 4147 2053 4147 \n",
       "L 1259 4147 \n",
       "z\n",
       "\" transform=\"scale(0.015625)\"/>\n",
       "      <path id=\"DejaVuSans-77\" d=\"M 269 3500 \n",
       "L 844 3500 \n",
       "L 1563 769 \n",
       "L 2278 3500 \n",
       "L 2956 3500 \n",
       "L 3675 769 \n",
       "L 4391 3500 \n",
       "L 4966 3500 \n",
       "L 4050 0 \n",
       "L 3372 0 \n",
       "L 2619 2869 \n",
       "L 1863 0 \n",
       "L 1184 0 \n",
       "L 269 3500 \n",
       "z\n",
       "\" transform=\"scale(0.015625)\"/>\n",
       "      <path id=\"DejaVuSans-61\" d=\"M 2194 1759 \n",
       "Q 1497 1759 1228 1600 \n",
       "Q 959 1441 959 1056 \n",
       "Q 959 750 1161 570 \n",
       "Q 1363 391 1709 391 \n",
       "Q 2188 391 2477 730 \n",
       "Q 2766 1069 2766 1631 \n",
       "L 2766 1759 \n",
       "L 2194 1759 \n",
       "z\n",
       "M 3341 1997 \n",
       "L 3341 0 \n",
       "L 2766 0 \n",
       "L 2766 531 \n",
       "Q 2569 213 2275 61 \n",
       "Q 1981 -91 1556 -91 \n",
       "Q 1019 -91 701 211 \n",
       "Q 384 513 384 1019 \n",
       "Q 384 1609 779 1909 \n",
       "Q 1175 2209 1959 2209 \n",
       "L 2766 2209 \n",
       "L 2766 2266 \n",
       "Q 2766 2663 2505 2880 \n",
       "Q 2244 3097 1772 3097 \n",
       "Q 1472 3097 1187 3025 \n",
       "Q 903 2953 641 2809 \n",
       "L 641 3341 \n",
       "Q 956 3463 1253 3523 \n",
       "Q 1550 3584 1831 3584 \n",
       "Q 2591 3584 2966 3190 \n",
       "Q 3341 2797 3341 1997 \n",
       "z\n",
       "\" transform=\"scale(0.015625)\"/>\n",
       "      <path id=\"DejaVuSans-64\" d=\"M 2906 2969 \n",
       "L 2906 4863 \n",
       "L 3481 4863 \n",
       "L 3481 0 \n",
       "L 2906 0 \n",
       "L 2906 525 \n",
       "Q 2725 213 2448 61 \n",
       "Q 2172 -91 1784 -91 \n",
       "Q 1150 -91 751 415 \n",
       "Q 353 922 353 1747 \n",
       "Q 353 2572 751 3078 \n",
       "Q 1150 3584 1784 3584 \n",
       "Q 2172 3584 2448 3432 \n",
       "Q 2725 3281 2906 2969 \n",
       "z\n",
       "M 947 1747 \n",
       "Q 947 1113 1208 752 \n",
       "Q 1469 391 1925 391 \n",
       "Q 2381 391 2643 752 \n",
       "Q 2906 1113 2906 1747 \n",
       "Q 2906 2381 2643 2742 \n",
       "Q 2381 3103 1925 3103 \n",
       "Q 1469 3103 1208 2742 \n",
       "Q 947 2381 947 1747 \n",
       "z\n",
       "\" transform=\"scale(0.015625)\"/>\n",
       "      <path id=\"DejaVuSans-73\" d=\"M 2834 3397 \n",
       "L 2834 2853 \n",
       "Q 2591 2978 2328 3040 \n",
       "Q 2066 3103 1784 3103 \n",
       "Q 1356 3103 1142 2972 \n",
       "Q 928 2841 928 2578 \n",
       "Q 928 2378 1081 2264 \n",
       "Q 1234 2150 1697 2047 \n",
       "L 1894 2003 \n",
       "Q 2506 1872 2764 1633 \n",
       "Q 3022 1394 3022 966 \n",
       "Q 3022 478 2636 193 \n",
       "Q 2250 -91 1575 -91 \n",
       "Q 1294 -91 989 -36 \n",
       "Q 684 19 347 128 \n",
       "L 347 722 \n",
       "Q 666 556 975 473 \n",
       "Q 1284 391 1588 391 \n",
       "Q 1994 391 2212 530 \n",
       "Q 2431 669 2431 922 \n",
       "Q 2431 1156 2273 1281 \n",
       "Q 2116 1406 1581 1522 \n",
       "L 1381 1569 \n",
       "Q 847 1681 609 1914 \n",
       "Q 372 2147 372 2553 \n",
       "Q 372 3047 722 3315 \n",
       "Q 1072 3584 1716 3584 \n",
       "Q 2034 3584 2315 3537 \n",
       "Q 2597 3491 2834 3397 \n",
       "z\n",
       "\" transform=\"scale(0.015625)\"/>\n",
       "     </defs>\n",
       "     <use xlink:href=\"#DejaVuSans-52\"/>\n",
       "     <use xlink:href=\"#DejaVuSans-65\" x=\"64.982422\"/>\n",
       "     <use xlink:href=\"#DejaVuSans-77\" x=\"126.505859\"/>\n",
       "     <use xlink:href=\"#DejaVuSans-61\" x=\"208.292969\"/>\n",
       "     <use xlink:href=\"#DejaVuSans-72\" x=\"269.572266\"/>\n",
       "     <use xlink:href=\"#DejaVuSans-64\" x=\"308.935547\"/>\n",
       "     <use xlink:href=\"#DejaVuSans-73\" x=\"372.412109\"/>\n",
       "    </g>\n",
       "   </g>\n",
       "  </g>\n",
       " </g>\n",
       " <defs>\n",
       "  <clipPath id=\"paa1361496c\">\n",
       "   <rect x=\"40.603125\" y=\"22.318125\" width=\"558\" height=\"217.44\"/>\n",
       "  </clipPath>\n",
       " </defs>\n",
       "</svg>\n"
      ],
      "text/plain": [
       "<Figure size 720x288 with 1 Axes>"
      ]
     },
     "metadata": {
      "needs_background": "light"
     },
     "output_type": "display_data"
    }
   ],
   "source": [
    "import matplotlib.pyplot as plt\n",
    "import pandas as pd\n",
    "\n",
    "fig, ax = plt.subplots(figsize = (10, 4))\n",
    "ax.set_title(\"Rewards\")    \n",
    "pd.Series(rewards).plot(kind='hist', bins=100)\n",
    "\n",
    "plt.show()"
   ]
  },
  {
   "cell_type": "markdown",
   "id": "bcbf6d1d",
   "metadata": {},
   "source": [
    "## Let's see our agent in action 🎬"
   ]
  },
  {
   "cell_type": "code",
   "execution_count": 94,
   "id": "de569e48",
   "metadata": {},
   "outputs": [
    {
     "data": {
      "image/svg+xml": [
       "<?xml version=\"1.0\" encoding=\"utf-8\" standalone=\"no\"?>\n",
       "<!DOCTYPE svg PUBLIC \"-//W3C//DTD SVG 1.1//EN\"\n",
       "  \"http://www.w3.org/Graphics/SVG/1.1/DTD/svg11.dtd\">\n",
       "<svg xmlns:xlink=\"http://www.w3.org/1999/xlink\" width=\"464.3pt\" height=\"343.79625pt\" viewBox=\"0 0 464.3 343.79625\" xmlns=\"http://www.w3.org/2000/svg\" version=\"1.1\">\n",
       " <metadata>\n",
       "  <rdf:RDF xmlns:dc=\"http://purl.org/dc/elements/1.1/\" xmlns:cc=\"http://creativecommons.org/ns#\" xmlns:rdf=\"http://www.w3.org/1999/02/22-rdf-syntax-ns#\">\n",
       "   <cc:Work>\n",
       "    <dc:type rdf:resource=\"http://purl.org/dc/dcmitype/StillImage\"/>\n",
       "    <dc:date>2022-04-22T13:20:36.759453</dc:date>\n",
       "    <dc:format>image/svg+xml</dc:format>\n",
       "    <dc:creator>\n",
       "     <cc:Agent>\n",
       "      <dc:title>Matplotlib v3.5.1, https://matplotlib.org/</dc:title>\n",
       "     </cc:Agent>\n",
       "    </dc:creator>\n",
       "   </cc:Work>\n",
       "  </rdf:RDF>\n",
       " </metadata>\n",
       " <defs>\n",
       "  <style type=\"text/css\">*{stroke-linejoin: round; stroke-linecap: butt}</style>\n",
       " </defs>\n",
       " <g id=\"figure_1\">\n",
       "  <g id=\"patch_1\">\n",
       "   <path d=\"M 0 343.79625 \n",
       "L 464.3 343.79625 \n",
       "L 464.3 0 \n",
       "L 0 0 \n",
       "L 0 343.79625 \n",
       "z\n",
       "\" style=\"fill: none\"/>\n",
       "  </g>\n",
       "  <g id=\"axes_1\">\n",
       "   <g id=\"patch_2\">\n",
       "    <path d=\"M 10.7 319.918125 \n",
       "L 457.1 319.918125 \n",
       "L 457.1 22.318125 \n",
       "L 10.7 22.318125 \n",
       "z\n",
       "\" style=\"fill: #ffffff\"/>\n",
       "   </g>\n",
       "   <g clip-path=\"url(#p348437e059)\">\n",
       "    <image xlink:href=\"data:image/png;base64,\n",
       "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\" id=\"image10939756c0\" transform=\"scale(1 -1)translate(0 -298)\" x=\"10.7\" y=\"-21.918125\" width=\"447\" height=\"298\"/>\n",
       "   </g>\n",
       "   <g id=\"matplotlib.axis_1\">\n",
       "    <g id=\"xtick_1\">\n",
       "     <g id=\"line2d_1\">\n",
       "      <defs>\n",
       "       <path id=\"m38b2036b7e\" d=\"M 0 0 \n",
       "L 0 3.5 \n",
       "\" style=\"stroke: #000000; stroke-width: 0.8\"/>\n",
       "      </defs>\n",
       "      <g>\n",
       "       <use xlink:href=\"#m38b2036b7e\" x=\"10.886\" y=\"319.918125\" style=\"stroke: #000000; stroke-width: 0.8\"/>\n",
       "      </g>\n",
       "     </g>\n",
       "     <g id=\"text_1\">\n",
       "      <!-- 0 -->\n",
       "      <g transform=\"translate(7.70475 334.516562)scale(0.1 -0.1)\">\n",
       "       <defs>\n",
       "        <path id=\"DejaVuSans-30\" d=\"M 2034 4250 \n",
       "Q 1547 4250 1301 3770 \n",
       "Q 1056 3291 1056 2328 \n",
       "Q 1056 1369 1301 889 \n",
       "Q 1547 409 2034 409 \n",
       "Q 2525 409 2770 889 \n",
       "Q 3016 1369 3016 2328 \n",
       "Q 3016 3291 2770 3770 \n",
       "Q 2525 4250 2034 4250 \n",
       "z\n",
       "M 2034 4750 \n",
       "Q 2819 4750 3233 4129 \n",
       "Q 3647 3509 3647 2328 \n",
       "Q 3647 1150 3233 529 \n",
       "Q 2819 -91 2034 -91 \n",
       "Q 1250 -91 836 529 \n",
       "Q 422 1150 422 2328 \n",
       "Q 422 3509 836 4129 \n",
       "Q 1250 4750 2034 4750 \n",
       "z\n",
       "\" transform=\"scale(0.015625)\"/>\n",
       "       </defs>\n",
       "       <use xlink:href=\"#DejaVuSans-30\"/>\n",
       "      </g>\n",
       "     </g>\n",
       "    </g>\n",
       "    <g id=\"xtick_2\">\n",
       "     <g id=\"line2d_2\">\n",
       "      <g>\n",
       "       <use xlink:href=\"#m38b2036b7e\" x=\"85.286\" y=\"319.918125\" style=\"stroke: #000000; stroke-width: 0.8\"/>\n",
       "      </g>\n",
       "     </g>\n",
       "     <g id=\"text_2\">\n",
       "      <!-- 200 -->\n",
       "      <g transform=\"translate(75.74225 334.516562)scale(0.1 -0.1)\">\n",
       "       <defs>\n",
       "        <path id=\"DejaVuSans-32\" d=\"M 1228 531 \n",
       "L 3431 531 \n",
       "L 3431 0 \n",
       "L 469 0 \n",
       "L 469 531 \n",
       "Q 828 903 1448 1529 \n",
       "Q 2069 2156 2228 2338 \n",
       "Q 2531 2678 2651 2914 \n",
       "Q 2772 3150 2772 3378 \n",
       "Q 2772 3750 2511 3984 \n",
       "Q 2250 4219 1831 4219 \n",
       "Q 1534 4219 1204 4116 \n",
       "Q 875 4013 500 3803 \n",
       "L 500 4441 \n",
       "Q 881 4594 1212 4672 \n",
       "Q 1544 4750 1819 4750 \n",
       "Q 2544 4750 2975 4387 \n",
       "Q 3406 4025 3406 3419 \n",
       "Q 3406 3131 3298 2873 \n",
       "Q 3191 2616 2906 2266 \n",
       "Q 2828 2175 2409 1742 \n",
       "Q 1991 1309 1228 531 \n",
       "z\n",
       "\" transform=\"scale(0.015625)\"/>\n",
       "       </defs>\n",
       "       <use xlink:href=\"#DejaVuSans-32\"/>\n",
       "       <use xlink:href=\"#DejaVuSans-30\" x=\"63.623047\"/>\n",
       "       <use xlink:href=\"#DejaVuSans-30\" x=\"127.246094\"/>\n",
       "      </g>\n",
       "     </g>\n",
       "    </g>\n",
       "    <g id=\"xtick_3\">\n",
       "     <g id=\"line2d_3\">\n",
       "      <g>\n",
       "       <use xlink:href=\"#m38b2036b7e\" x=\"159.686\" y=\"319.918125\" style=\"stroke: #000000; stroke-width: 0.8\"/>\n",
       "      </g>\n",
       "     </g>\n",
       "     <g id=\"text_3\">\n",
       "      <!-- 400 -->\n",
       "      <g transform=\"translate(150.14225 334.516562)scale(0.1 -0.1)\">\n",
       "       <defs>\n",
       "        <path id=\"DejaVuSans-34\" d=\"M 2419 4116 \n",
       "L 825 1625 \n",
       "L 2419 1625 \n",
       "L 2419 4116 \n",
       "z\n",
       "M 2253 4666 \n",
       "L 3047 4666 \n",
       "L 3047 1625 \n",
       "L 3713 1625 \n",
       "L 3713 1100 \n",
       "L 3047 1100 \n",
       "L 3047 0 \n",
       "L 2419 0 \n",
       "L 2419 1100 \n",
       "L 313 1100 \n",
       "L 313 1709 \n",
       "L 2253 4666 \n",
       "z\n",
       "\" transform=\"scale(0.015625)\"/>\n",
       "       </defs>\n",
       "       <use xlink:href=\"#DejaVuSans-34\"/>\n",
       "       <use xlink:href=\"#DejaVuSans-30\" x=\"63.623047\"/>\n",
       "       <use xlink:href=\"#DejaVuSans-30\" x=\"127.246094\"/>\n",
       "      </g>\n",
       "     </g>\n",
       "    </g>\n",
       "    <g id=\"xtick_4\">\n",
       "     <g id=\"line2d_4\">\n",
       "      <g>\n",
       "       <use xlink:href=\"#m38b2036b7e\" x=\"234.086\" y=\"319.918125\" style=\"stroke: #000000; stroke-width: 0.8\"/>\n",
       "      </g>\n",
       "     </g>\n",
       "     <g id=\"text_4\">\n",
       "      <!-- 600 -->\n",
       "      <g transform=\"translate(224.54225 334.516562)scale(0.1 -0.1)\">\n",
       "       <defs>\n",
       "        <path id=\"DejaVuSans-36\" d=\"M 2113 2584 \n",
       "Q 1688 2584 1439 2293 \n",
       "Q 1191 2003 1191 1497 \n",
       "Q 1191 994 1439 701 \n",
       "Q 1688 409 2113 409 \n",
       "Q 2538 409 2786 701 \n",
       "Q 3034 994 3034 1497 \n",
       "Q 3034 2003 2786 2293 \n",
       "Q 2538 2584 2113 2584 \n",
       "z\n",
       "M 3366 4563 \n",
       "L 3366 3988 \n",
       "Q 3128 4100 2886 4159 \n",
       "Q 2644 4219 2406 4219 \n",
       "Q 1781 4219 1451 3797 \n",
       "Q 1122 3375 1075 2522 \n",
       "Q 1259 2794 1537 2939 \n",
       "Q 1816 3084 2150 3084 \n",
       "Q 2853 3084 3261 2657 \n",
       "Q 3669 2231 3669 1497 \n",
       "Q 3669 778 3244 343 \n",
       "Q 2819 -91 2113 -91 \n",
       "Q 1303 -91 875 529 \n",
       "Q 447 1150 447 2328 \n",
       "Q 447 3434 972 4092 \n",
       "Q 1497 4750 2381 4750 \n",
       "Q 2619 4750 2861 4703 \n",
       "Q 3103 4656 3366 4563 \n",
       "z\n",
       "\" transform=\"scale(0.015625)\"/>\n",
       "       </defs>\n",
       "       <use xlink:href=\"#DejaVuSans-36\"/>\n",
       "       <use xlink:href=\"#DejaVuSans-30\" x=\"63.623047\"/>\n",
       "       <use xlink:href=\"#DejaVuSans-30\" x=\"127.246094\"/>\n",
       "      </g>\n",
       "     </g>\n",
       "    </g>\n",
       "    <g id=\"xtick_5\">\n",
       "     <g id=\"line2d_5\">\n",
       "      <g>\n",
       "       <use xlink:href=\"#m38b2036b7e\" x=\"308.486\" y=\"319.918125\" style=\"stroke: #000000; stroke-width: 0.8\"/>\n",
       "      </g>\n",
       "     </g>\n",
       "     <g id=\"text_5\">\n",
       "      <!-- 800 -->\n",
       "      <g transform=\"translate(298.94225 334.516562)scale(0.1 -0.1)\">\n",
       "       <defs>\n",
       "        <path id=\"DejaVuSans-38\" d=\"M 2034 2216 \n",
       "Q 1584 2216 1326 1975 \n",
       "Q 1069 1734 1069 1313 \n",
       "Q 1069 891 1326 650 \n",
       "Q 1584 409 2034 409 \n",
       "Q 2484 409 2743 651 \n",
       "Q 3003 894 3003 1313 \n",
       "Q 3003 1734 2745 1975 \n",
       "Q 2488 2216 2034 2216 \n",
       "z\n",
       "M 1403 2484 \n",
       "Q 997 2584 770 2862 \n",
       "Q 544 3141 544 3541 \n",
       "Q 544 4100 942 4425 \n",
       "Q 1341 4750 2034 4750 \n",
       "Q 2731 4750 3128 4425 \n",
       "Q 3525 4100 3525 3541 \n",
       "Q 3525 3141 3298 2862 \n",
       "Q 3072 2584 2669 2484 \n",
       "Q 3125 2378 3379 2068 \n",
       "Q 3634 1759 3634 1313 \n",
       "Q 3634 634 3220 271 \n",
       "Q 2806 -91 2034 -91 \n",
       "Q 1263 -91 848 271 \n",
       "Q 434 634 434 1313 \n",
       "Q 434 1759 690 2068 \n",
       "Q 947 2378 1403 2484 \n",
       "z\n",
       "M 1172 3481 \n",
       "Q 1172 3119 1398 2916 \n",
       "Q 1625 2713 2034 2713 \n",
       "Q 2441 2713 2670 2916 \n",
       "Q 2900 3119 2900 3481 \n",
       "Q 2900 3844 2670 4047 \n",
       "Q 2441 4250 2034 4250 \n",
       "Q 1625 4250 1398 4047 \n",
       "Q 1172 3844 1172 3481 \n",
       "z\n",
       "\" transform=\"scale(0.015625)\"/>\n",
       "       </defs>\n",
       "       <use xlink:href=\"#DejaVuSans-38\"/>\n",
       "       <use xlink:href=\"#DejaVuSans-30\" x=\"63.623047\"/>\n",
       "       <use xlink:href=\"#DejaVuSans-30\" x=\"127.246094\"/>\n",
       "      </g>\n",
       "     </g>\n",
       "    </g>\n",
       "    <g id=\"xtick_6\">\n",
       "     <g id=\"line2d_6\">\n",
       "      <g>\n",
       "       <use xlink:href=\"#m38b2036b7e\" x=\"382.886\" y=\"319.918125\" style=\"stroke: #000000; stroke-width: 0.8\"/>\n",
       "      </g>\n",
       "     </g>\n",
       "     <g id=\"text_6\">\n",
       "      <!-- 1000 -->\n",
       "      <g transform=\"translate(370.161 334.516562)scale(0.1 -0.1)\">\n",
       "       <defs>\n",
       "        <path id=\"DejaVuSans-31\" d=\"M 794 531 \n",
       "L 1825 531 \n",
       "L 1825 4091 \n",
       "L 703 3866 \n",
       "L 703 4441 \n",
       "L 1819 4666 \n",
       "L 2450 4666 \n",
       "L 2450 531 \n",
       "L 3481 531 \n",
       "L 3481 0 \n",
       "L 794 0 \n",
       "L 794 531 \n",
       "z\n",
       "\" transform=\"scale(0.015625)\"/>\n",
       "       </defs>\n",
       "       <use xlink:href=\"#DejaVuSans-31\"/>\n",
       "       <use xlink:href=\"#DejaVuSans-30\" x=\"63.623047\"/>\n",
       "       <use xlink:href=\"#DejaVuSans-30\" x=\"127.246094\"/>\n",
       "       <use xlink:href=\"#DejaVuSans-30\" x=\"190.869141\"/>\n",
       "      </g>\n",
       "     </g>\n",
       "    </g>\n",
       "   </g>\n",
       "   <g id=\"patch_3\">\n",
       "    <path d=\"M 10.7 319.918125 \n",
       "L 10.7 22.318125 \n",
       "\" style=\"fill: none; stroke: #000000; stroke-width: 0.8; stroke-linejoin: miter; stroke-linecap: square\"/>\n",
       "   </g>\n",
       "   <g id=\"patch_4\">\n",
       "    <path d=\"M 457.1 319.918125 \n",
       "L 457.1 22.318125 \n",
       "\" style=\"fill: none; stroke: #000000; stroke-width: 0.8; stroke-linejoin: miter; stroke-linecap: square\"/>\n",
       "   </g>\n",
       "   <g id=\"patch_5\">\n",
       "    <path d=\"M 10.7 319.918125 \n",
       "L 457.1 319.918125 \n",
       "\" style=\"fill: none; stroke: #000000; stroke-width: 0.8; stroke-linejoin: miter; stroke-linecap: square\"/>\n",
       "   </g>\n",
       "   <g id=\"patch_6\">\n",
       "    <path d=\"M 10.7 22.318125 \n",
       "L 457.1 22.318125 \n",
       "\" style=\"fill: none; stroke: #000000; stroke-width: 0.8; stroke-linejoin: miter; stroke-linecap: square\"/>\n",
       "   </g>\n",
       "   <g id=\"text_7\">\n",
       "    <!-- Steps: 337 -->\n",
       "    <g transform=\"translate(201.731562 16.318125)scale(0.12 -0.12)\">\n",
       "     <defs>\n",
       "      <path id=\"DejaVuSans-53\" d=\"M 3425 4513 \n",
       "L 3425 3897 \n",
       "Q 3066 4069 2747 4153 \n",
       "Q 2428 4238 2131 4238 \n",
       "Q 1616 4238 1336 4038 \n",
       "Q 1056 3838 1056 3469 \n",
       "Q 1056 3159 1242 3001 \n",
       "Q 1428 2844 1947 2747 \n",
       "L 2328 2669 \n",
       "Q 3034 2534 3370 2195 \n",
       "Q 3706 1856 3706 1288 \n",
       "Q 3706 609 3251 259 \n",
       "Q 2797 -91 1919 -91 \n",
       "Q 1588 -91 1214 -16 \n",
       "Q 841 59 441 206 \n",
       "L 441 856 \n",
       "Q 825 641 1194 531 \n",
       "Q 1563 422 1919 422 \n",
       "Q 2459 422 2753 634 \n",
       "Q 3047 847 3047 1241 \n",
       "Q 3047 1584 2836 1778 \n",
       "Q 2625 1972 2144 2069 \n",
       "L 1759 2144 \n",
       "Q 1053 2284 737 2584 \n",
       "Q 422 2884 422 3419 \n",
       "Q 422 4038 858 4394 \n",
       "Q 1294 4750 2059 4750 \n",
       "Q 2388 4750 2728 4690 \n",
       "Q 3069 4631 3425 4513 \n",
       "z\n",
       "\" transform=\"scale(0.015625)\"/>\n",
       "      <path id=\"DejaVuSans-74\" d=\"M 1172 4494 \n",
       "L 1172 3500 \n",
       "L 2356 3500 \n",
       "L 2356 3053 \n",
       "L 1172 3053 \n",
       "L 1172 1153 \n",
       "Q 1172 725 1289 603 \n",
       "Q 1406 481 1766 481 \n",
       "L 2356 481 \n",
       "L 2356 0 \n",
       "L 1766 0 \n",
       "Q 1100 0 847 248 \n",
       "Q 594 497 594 1153 \n",
       "L 594 3053 \n",
       "L 172 3053 \n",
       "L 172 3500 \n",
       "L 594 3500 \n",
       "L 594 4494 \n",
       "L 1172 4494 \n",
       "z\n",
       "\" transform=\"scale(0.015625)\"/>\n",
       "      <path id=\"DejaVuSans-65\" d=\"M 3597 1894 \n",
       "L 3597 1613 \n",
       "L 953 1613 \n",
       "Q 991 1019 1311 708 \n",
       "Q 1631 397 2203 397 \n",
       "Q 2534 397 2845 478 \n",
       "Q 3156 559 3463 722 \n",
       "L 3463 178 \n",
       "Q 3153 47 2828 -22 \n",
       "Q 2503 -91 2169 -91 \n",
       "Q 1331 -91 842 396 \n",
       "Q 353 884 353 1716 \n",
       "Q 353 2575 817 3079 \n",
       "Q 1281 3584 2069 3584 \n",
       "Q 2775 3584 3186 3129 \n",
       "Q 3597 2675 3597 1894 \n",
       "z\n",
       "M 3022 2063 \n",
       "Q 3016 2534 2758 2815 \n",
       "Q 2500 3097 2075 3097 \n",
       "Q 1594 3097 1305 2825 \n",
       "Q 1016 2553 972 2059 \n",
       "L 3022 2063 \n",
       "z\n",
       "\" transform=\"scale(0.015625)\"/>\n",
       "      <path id=\"DejaVuSans-70\" d=\"M 1159 525 \n",
       "L 1159 -1331 \n",
       "L 581 -1331 \n",
       "L 581 3500 \n",
       "L 1159 3500 \n",
       "L 1159 2969 \n",
       "Q 1341 3281 1617 3432 \n",
       "Q 1894 3584 2278 3584 \n",
       "Q 2916 3584 3314 3078 \n",
       "Q 3713 2572 3713 1747 \n",
       "Q 3713 922 3314 415 \n",
       "Q 2916 -91 2278 -91 \n",
       "Q 1894 -91 1617 61 \n",
       "Q 1341 213 1159 525 \n",
       "z\n",
       "M 3116 1747 \n",
       "Q 3116 2381 2855 2742 \n",
       "Q 2594 3103 2138 3103 \n",
       "Q 1681 3103 1420 2742 \n",
       "Q 1159 2381 1159 1747 \n",
       "Q 1159 1113 1420 752 \n",
       "Q 1681 391 2138 391 \n",
       "Q 2594 391 2855 752 \n",
       "Q 3116 1113 3116 1747 \n",
       "z\n",
       "\" transform=\"scale(0.015625)\"/>\n",
       "      <path id=\"DejaVuSans-73\" d=\"M 2834 3397 \n",
       "L 2834 2853 \n",
       "Q 2591 2978 2328 3040 \n",
       "Q 2066 3103 1784 3103 \n",
       "Q 1356 3103 1142 2972 \n",
       "Q 928 2841 928 2578 \n",
       "Q 928 2378 1081 2264 \n",
       "Q 1234 2150 1697 2047 \n",
       "L 1894 2003 \n",
       "Q 2506 1872 2764 1633 \n",
       "Q 3022 1394 3022 966 \n",
       "Q 3022 478 2636 193 \n",
       "Q 2250 -91 1575 -91 \n",
       "Q 1294 -91 989 -36 \n",
       "Q 684 19 347 128 \n",
       "L 347 722 \n",
       "Q 666 556 975 473 \n",
       "Q 1284 391 1588 391 \n",
       "Q 1994 391 2212 530 \n",
       "Q 2431 669 2431 922 \n",
       "Q 2431 1156 2273 1281 \n",
       "Q 2116 1406 1581 1522 \n",
       "L 1381 1569 \n",
       "Q 847 1681 609 1914 \n",
       "Q 372 2147 372 2553 \n",
       "Q 372 3047 722 3315 \n",
       "Q 1072 3584 1716 3584 \n",
       "Q 2034 3584 2315 3537 \n",
       "Q 2597 3491 2834 3397 \n",
       "z\n",
       "\" transform=\"scale(0.015625)\"/>\n",
       "      <path id=\"DejaVuSans-3a\" d=\"M 750 794 \n",
       "L 1409 794 \n",
       "L 1409 0 \n",
       "L 750 0 \n",
       "L 750 794 \n",
       "z\n",
       "M 750 3309 \n",
       "L 1409 3309 \n",
       "L 1409 2516 \n",
       "L 750 2516 \n",
       "L 750 3309 \n",
       "z\n",
       "\" transform=\"scale(0.015625)\"/>\n",
       "      <path id=\"DejaVuSans-20\" transform=\"scale(0.015625)\"/>\n",
       "      <path id=\"DejaVuSans-33\" d=\"M 2597 2516 \n",
       "Q 3050 2419 3304 2112 \n",
       "Q 3559 1806 3559 1356 \n",
       "Q 3559 666 3084 287 \n",
       "Q 2609 -91 1734 -91 \n",
       "Q 1441 -91 1130 -33 \n",
       "Q 819 25 488 141 \n",
       "L 488 750 \n",
       "Q 750 597 1062 519 \n",
       "Q 1375 441 1716 441 \n",
       "Q 2309 441 2620 675 \n",
       "Q 2931 909 2931 1356 \n",
       "Q 2931 1769 2642 2001 \n",
       "Q 2353 2234 1838 2234 \n",
       "L 1294 2234 \n",
       "L 1294 2753 \n",
       "L 1863 2753 \n",
       "Q 2328 2753 2575 2939 \n",
       "Q 2822 3125 2822 3475 \n",
       "Q 2822 3834 2567 4026 \n",
       "Q 2313 4219 1838 4219 \n",
       "Q 1578 4219 1281 4162 \n",
       "Q 984 4106 628 3988 \n",
       "L 628 4550 \n",
       "Q 988 4650 1302 4700 \n",
       "Q 1616 4750 1894 4750 \n",
       "Q 2613 4750 3031 4423 \n",
       "Q 3450 4097 3450 3541 \n",
       "Q 3450 3153 3228 2886 \n",
       "Q 3006 2619 2597 2516 \n",
       "z\n",
       "\" transform=\"scale(0.015625)\"/>\n",
       "      <path id=\"DejaVuSans-37\" d=\"M 525 4666 \n",
       "L 3525 4666 \n",
       "L 3525 4397 \n",
       "L 1831 0 \n",
       "L 1172 0 \n",
       "L 2766 4134 \n",
       "L 525 4134 \n",
       "L 525 4666 \n",
       "z\n",
       "\" transform=\"scale(0.015625)\"/>\n",
       "     </defs>\n",
       "     <use xlink:href=\"#DejaVuSans-53\"/>\n",
       "     <use xlink:href=\"#DejaVuSans-74\" x=\"63.476562\"/>\n",
       "     <use xlink:href=\"#DejaVuSans-65\" x=\"102.685547\"/>\n",
       "     <use xlink:href=\"#DejaVuSans-70\" x=\"164.208984\"/>\n",
       "     <use xlink:href=\"#DejaVuSans-73\" x=\"227.685547\"/>\n",
       "     <use xlink:href=\"#DejaVuSans-3a\" x=\"279.785156\"/>\n",
       "     <use xlink:href=\"#DejaVuSans-20\" x=\"313.476562\"/>\n",
       "     <use xlink:href=\"#DejaVuSans-33\" x=\"345.263672\"/>\n",
       "     <use xlink:href=\"#DejaVuSans-33\" x=\"408.886719\"/>\n",
       "     <use xlink:href=\"#DejaVuSans-37\" x=\"472.509766\"/>\n",
       "    </g>\n",
       "   </g>\n",
       "  </g>\n",
       " </g>\n",
       " <defs>\n",
       "  <clipPath id=\"p348437e059\">\n",
       "   <rect x=\"10.7\" y=\"22.318125\" width=\"446.4\" height=\"297.6\"/>\n",
       "  </clipPath>\n",
       " </defs>\n",
       "</svg>\n"
      ],
      "text/plain": [
       "<Figure size 576x432 with 1 Axes>"
      ]
     },
     "metadata": {},
     "output_type": "display_data"
    }
   ],
   "source": [
    "# Workaround for pygame error: \"error: No available video device\"\n",
    "# See https://stackoverflow.com/questions/15933493/pygame-error-no-available-video-device?rq=1\n",
    "# This is probably needed only for Linux\n",
    "import os\n",
    "os.environ[\"SDL_VIDEODRIVER\"] = \"dummy\"\n",
    "from src.viz import show_video\n",
    "\n",
    "show_video(agent, env, sleep_sec=0.01, seed=12345)"
   ]
  },
  {
   "cell_type": "code",
   "execution_count": null,
   "id": "08de8afe",
   "metadata": {},
   "outputs": [],
   "source": []
  }
 ],
 "metadata": {
  "kernelspec": {
   "display_name": "Python 3 (ipykernel)",
   "language": "python",
   "name": "python3"
  },
  "language_info": {
   "codemirror_mode": {
    "name": "ipython",
    "version": 3
   },
   "file_extension": ".py",
   "mimetype": "text/x-python",
   "name": "python",
   "nbconvert_exporter": "python",
   "pygments_lexer": "ipython3",
   "version": "3.8.10"
  }
 },
 "nbformat": 4,
 "nbformat_minor": 5
}
